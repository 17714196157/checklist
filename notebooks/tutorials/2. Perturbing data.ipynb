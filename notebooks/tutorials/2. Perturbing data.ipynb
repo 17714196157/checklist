{
 "cells": [
  {
   "cell_type": "code",
   "execution_count": 104,
   "metadata": {},
   "outputs": [],
   "source": [
    "import checklist\n",
    "from checklist.editor import Editor\n",
    "from checklist.perturb import Perturb"
   ]
  },
  {
   "cell_type": "markdown",
   "metadata": {},
   "source": [
    "## Creating examples from existing datasets via perturbations "
   ]
  },
  {
   "cell_type": "code",
   "execution_count": 105,
   "metadata": {},
   "outputs": [],
   "source": [
    "editor = Editor()"
   ]
  },
  {
   "cell_type": "markdown",
   "metadata": {},
   "source": [
    "Let's start by creating a fictitious dataset:"
   ]
  },
  {
   "cell_type": "code",
   "execution_count": 213,
   "metadata": {},
   "outputs": [],
   "source": [
    "data = ['John is a very smart person, he lives in Ireland.',\n",
    "        'Mark Stewart was born and raised in Chicago',\n",
    "        'Luke Smith has 3 sisters.',\n",
    "        'Mary is not a nurse.',\n",
    "        'Julianne is an engineer.',\n",
    "        'My brother Andrew used to be a lawyer.']"
   ]
  },
  {
   "cell_type": "markdown",
   "metadata": {},
   "source": [
    "### Writing your own perturbations"
   ]
  },
  {
   "cell_type": "markdown",
   "metadata": {},
   "source": [
    "Let's say we want to write a perturbation function to replace some professions with other professions:"
   ]
  },
  {
   "cell_type": "code",
   "execution_count": 214,
   "metadata": {},
   "outputs": [],
   "source": [
    "import re\n",
    "def change_professions(x, *args, **kwargs):\n",
    "    # Returns empty or a list of strings with profesions changed\n",
    "    professions = ['doctor', 'nurse', 'engineer', 'lawyer']\n",
    "    ret = []\n",
    "    for p in professions:\n",
    "        if re.search(r'\\b%s\\b' % p, x):\n",
    "            ret.extend([re.sub(r'\\b%s\\b' % p, p2, x) for p2 in professions if p != p2])\n",
    "    return ret\n",
    "            "
   ]
  },
  {
   "cell_type": "code",
   "execution_count": 215,
   "metadata": {},
   "outputs": [
    {
     "data": {
      "text/plain": [
       "[]"
      ]
     },
     "execution_count": 215,
     "metadata": {},
     "output_type": "execute_result"
    }
   ],
   "source": [
    "change_professions(data[2])"
   ]
  },
  {
   "cell_type": "markdown",
   "metadata": {},
   "source": [
    "We could use this function on every example in `data`, and keep only cases where it applies.\n",
    "There is an auxiliary function that does this (and more) for us, called `Perturb.perturb`:"
   ]
  },
  {
   "cell_type": "code",
   "execution_count": 216,
   "metadata": {},
   "outputs": [
    {
     "data": {
      "text/plain": [
       "[['Mary is not a nurse.',\n",
       "  'Mary is not a doctor.',\n",
       "  'Mary is not a engineer.',\n",
       "  'Mary is not a lawyer.'],\n",
       " ['Julianne is an engineer.',\n",
       "  'Julianne is an doctor.',\n",
       "  'Julianne is an nurse.',\n",
       "  'Julianne is an lawyer.'],\n",
       " ['My brother Andrew used to be a lawyer.',\n",
       "  'My brother Andrew used to be a doctor.',\n",
       "  'My brother Andrew used to be a nurse.',\n",
       "  'My brother Andrew used to be a engineer.']]"
      ]
     },
     "execution_count": 216,
     "metadata": {},
     "output_type": "execute_result"
    }
   ],
   "source": [
    "ret = Perturb.perturb(data, change_professions, keep_original=True)\n",
    "ret.data"
   ]
  },
  {
   "cell_type": "markdown",
   "metadata": {},
   "source": [
    "Notice how `Perturb.perturb` automatically ignored examples in our dataset where the perturbation didn't return anything, e.g. 'John is a very smart person'.  \n",
    "We set `keep_original=True`, and therefore the original data point is kept as the first in every example list. This is typically what we want to do in perturbation tests. This is what we would get if we had set it to `False`:"
   ]
  },
  {
   "cell_type": "code",
   "execution_count": 217,
   "metadata": {},
   "outputs": [
    {
     "data": {
      "text/plain": [
       "[['Mary is not a doctor.', 'Mary is not a engineer.', 'Mary is not a lawyer.'],\n",
       " ['Julianne is an doctor.', 'Julianne is an nurse.', 'Julianne is an lawyer.'],\n",
       " ['My brother Andrew used to be a doctor.',\n",
       "  'My brother Andrew used to be a nurse.',\n",
       "  'My brother Andrew used to be a engineer.']]"
      ]
     },
     "execution_count": 217,
     "metadata": {},
     "output_type": "execute_result"
    }
   ],
   "source": [
    "ret = Perturb.perturb(data, change_professions, keep_original=False)\n",
    "ret.data"
   ]
  },
  {
   "cell_type": "markdown",
   "metadata": {},
   "source": [
    "We can also specify a number of samples if our dataset is too large:"
   ]
  },
  {
   "cell_type": "code",
   "execution_count": 218,
   "metadata": {},
   "outputs": [
    {
     "data": {
      "text/plain": [
       "[['My brother Andrew used to be a doctor.',\n",
       "  'My brother Andrew used to be a nurse.',\n",
       "  'My brother Andrew used to be a engineer.']]"
      ]
     },
     "execution_count": 218,
     "metadata": {},
     "output_type": "execute_result"
    }
   ],
   "source": [
    "ret = Perturb.perturb(data, change_professions, keep_original=False, nsamples=1)\n",
    "ret.data"
   ]
  },
  {
   "cell_type": "markdown",
   "metadata": {},
   "source": [
    "Finally, we may want our perturbation function to return some metadata. In our case, maybe we want to remember which profession was swapped into which profession. To do so, let's rewrite `change_professions` so that it returns an additional list with metadata:"
   ]
  },
  {
   "cell_type": "code",
   "execution_count": 219,
   "metadata": {},
   "outputs": [],
   "source": [
    "def change_professions(x, meta=False, *args, **kwargs):\n",
    "    # Returns empty or a list of strings with profesions changed\n",
    "    professions = ['doctor', 'nurse', 'engineer', 'lawyer']\n",
    "    ret = []\n",
    "    ret_meta = []\n",
    "    for p in professions:\n",
    "        if re.search(r'\\b%s\\b' % p, x):\n",
    "            ret.extend([re.sub(r'\\b%s\\b' % p, p2, x) for p2 in professions if p != p2])\n",
    "            ret_meta.extend([(p, p2) for p2 in professions if p != p2])\n",
    "    if meta:\n",
    "        return ret, ret_meta\n",
    "    else:\n",
    "        return ret\n",
    "            "
   ]
  },
  {
   "cell_type": "code",
   "execution_count": 220,
   "metadata": {},
   "outputs": [
    {
     "data": {
      "text/plain": [
       "([], [])"
      ]
     },
     "execution_count": 220,
     "metadata": {},
     "output_type": "execute_result"
    }
   ],
   "source": [
    "change_professions(data[2], meta=True)"
   ]
  },
  {
   "cell_type": "markdown",
   "metadata": {},
   "source": [
    "We can now call `Perturb.perturb` with `meta=True`. Whatever keyword arguments we use in `Perturb.perturb` get passed along to the perturbation function. In addition, if we set `meta=True`, `ret.meta` will have the metadata."
   ]
  },
  {
   "cell_type": "code",
   "execution_count": 221,
   "metadata": {},
   "outputs": [
    {
     "name": "stdout",
     "output_type": "stream",
     "text": [
      "Data\n",
      "[['Mary is not a nurse.', 'Mary is not a doctor.', 'Mary is not a engineer.', 'Mary is not a lawyer.']]\n",
      "Metadata\n",
      "[[None, ('nurse', 'doctor'), ('nurse', 'engineer'), ('nurse', 'lawyer')]]\n"
     ]
    }
   ],
   "source": [
    "ret = Perturb.perturb(data, change_professions, keep_original=True, nsamples=1, meta=True)\n",
    "print('Data')\n",
    "print(ret.data)\n",
    "print('Metadata')\n",
    "print(ret.meta)"
   ]
  },
  {
   "cell_type": "markdown",
   "metadata": {},
   "source": [
    "### General-purpose perturbations"
   ]
  },
  {
   "cell_type": "markdown",
   "metadata": {},
   "source": [
    "We provide some general-purpose perturbation functions. Some assume you have preprocessed the data with spacy, so let's do that:"
   ]
  },
  {
   "cell_type": "code",
   "execution_count": 222,
   "metadata": {},
   "outputs": [],
   "source": [
    "import spacy\n",
    "nlp = spacy.load('en_core_web_sm')"
   ]
  },
  {
   "cell_type": "code",
   "execution_count": 223,
   "metadata": {},
   "outputs": [],
   "source": [
    "pdata = list(nlp.pipe(data))"
   ]
  },
  {
   "cell_type": "markdown",
   "metadata": {},
   "source": [
    "#### Punctuation"
   ]
  },
  {
   "cell_type": "markdown",
   "metadata": {},
   "source": [
    "`Perturb.strip_punctuation` removes punctuation:"
   ]
  },
  {
   "cell_type": "code",
   "execution_count": 224,
   "metadata": {},
   "outputs": [
    {
     "data": {
      "text/plain": [
       "(John is a very smart person, he lives in Ireland.,\n",
       " 'John is a very smart person, he lives in Ireland')"
      ]
     },
     "execution_count": 224,
     "metadata": {},
     "output_type": "execute_result"
    }
   ],
   "source": [
    "pdata[0], Perturb.strip_punctuation(pdata[0])"
   ]
  },
  {
   "cell_type": "markdown",
   "metadata": {},
   "source": [
    "`Perturb.punctuation` adds and / or removes punctuation (notice that we add it when it's not there and remove it when it is)"
   ]
  },
  {
   "cell_type": "code",
   "execution_count": 225,
   "metadata": {},
   "outputs": [
    {
     "data": {
      "text/plain": [
       "[['John is a very smart person, he lives in Ireland.',\n",
       "  'John is a very smart person, he lives in Ireland'],\n",
       " ['Mark Stewart was born and raised in Chicago',\n",
       "  'Mark Stewart was born and raised in Chicago.'],\n",
       " ['Luke Smith has 3 sisters.', 'Luke Smith has 3 sisters'],\n",
       " ['Mary is not a nurse.', 'Mary is not a nurse']]"
      ]
     },
     "execution_count": 225,
     "metadata": {},
     "output_type": "execute_result"
    }
   ],
   "source": [
    "ret = Perturb.perturb(pdata, Perturb.punctuation)\n",
    "ret.data[:4]"
   ]
  },
  {
   "cell_type": "markdown",
   "metadata": {},
   "source": [
    "#### Typos"
   ]
  },
  {
   "cell_type": "code",
   "execution_count": 226,
   "metadata": {},
   "outputs": [
    {
     "data": {
      "text/plain": [
       "('John is a very smart person, he lives in Ireland.',\n",
       " 'John is a very smartp erson, he lives in Ireland.')"
      ]
     },
     "execution_count": 226,
     "metadata": {},
     "output_type": "execute_result"
    }
   ],
   "source": [
    "data[0], Perturb.add_typos(data[0])"
   ]
  },
  {
   "cell_type": "code",
   "execution_count": 227,
   "metadata": {},
   "outputs": [
    {
     "data": {
      "text/plain": [
       "[['Julianne is an engineer.', 'Julianne si an engineer.']]"
      ]
     },
     "execution_count": 227,
     "metadata": {},
     "output_type": "execute_result"
    }
   ],
   "source": [
    "ret = Perturb.perturb(data, Perturb.add_typos, nsamples=1)\n",
    "ret.data"
   ]
  },
  {
   "cell_type": "markdown",
   "metadata": {},
   "source": [
    "#### Contractions"
   ]
  },
  {
   "cell_type": "markdown",
   "metadata": {},
   "source": [
    "`Perturb.expand_contractions` and `Perturb.contract` act on a single string:"
   ]
  },
  {
   "cell_type": "code",
   "execution_count": 228,
   "metadata": {},
   "outputs": [
    {
     "data": {
      "text/plain": [
       "('Luke Smith has 3 sisters.', 'Luke Smith has 3 sisters.')"
      ]
     },
     "execution_count": 228,
     "metadata": {},
     "output_type": "execute_result"
    }
   ],
   "source": [
    "data[2], Perturb.contract(data[2])"
   ]
  },
  {
   "cell_type": "code",
   "execution_count": 229,
   "metadata": {},
   "outputs": [
    {
     "data": {
      "text/plain": [
       "'What is going on?'"
      ]
     },
     "execution_count": 229,
     "metadata": {},
     "output_type": "execute_result"
    }
   ],
   "source": [
    "Perturb.expand_contractions('What\\'s going on?')"
   ]
  },
  {
   "cell_type": "markdown",
   "metadata": {},
   "source": [
    "`Perturb.contractions` contracts AND expands contractions if possible:"
   ]
  },
  {
   "cell_type": "code",
   "execution_count": 230,
   "metadata": {},
   "outputs": [
    {
     "data": {
      "text/plain": [
       "['What is going on? I am not happy', \"What's going on? I'm not happy\"]"
      ]
     },
     "execution_count": 230,
     "metadata": {},
     "output_type": "execute_result"
    }
   ],
   "source": [
    "Perturb.contractions('What\\'s going on? I am not happy')"
   ]
  },
  {
   "cell_type": "code",
   "execution_count": 231,
   "metadata": {},
   "outputs": [
    {
     "data": {
      "text/plain": [
       "[['Mary is not a nurse.', \"Mary isn't a nurse.\"]]"
      ]
     },
     "execution_count": 231,
     "metadata": {},
     "output_type": "execute_result"
    }
   ],
   "source": [
    "ret = Perturb.perturb(data, Perturb.contractions)\n",
    "ret.data"
   ]
  },
  {
   "cell_type": "markdown",
   "metadata": {},
   "source": [
    "#### Changing named entities"
   ]
  },
  {
   "cell_type": "markdown",
   "metadata": {},
   "source": [
    "The following functions all assume you have parsed the input with spacy.  "
   ]
  },
  {
   "cell_type": "markdown",
   "metadata": {},
   "source": [
    "Perturb.change_names allows you to replace person names automatically.  \n",
    "You can specify if you only want first names, first and last names, etc."
   ]
  },
  {
   "cell_type": "code",
   "execution_count": 250,
   "metadata": {},
   "outputs": [
    {
     "data": {
      "text/plain": [
       "[['Luke Smith has 3 sisters.',\n",
       "  'Michael Morgan has 3 sisters.',\n",
       "  'Christopher Anderson has 3 sisters.',\n",
       "  'Matthew Jones has 3 sisters.',\n",
       "  'David Bennett has 3 sisters.',\n",
       "  'James Cruz has 3 sisters.',\n",
       "  'John James has 3 sisters.',\n",
       "  'Joshua Anderson has 3 sisters.',\n",
       "  'Daniel Cooper has 3 sisters.',\n",
       "  'Joseph Johnson has 3 sisters.',\n",
       "  'William Scott has 3 sisters.']]"
      ]
     },
     "execution_count": 250,
     "metadata": {},
     "output_type": "execute_result"
    }
   ],
   "source": [
    "ret = Perturb.perturb(pdata[2:3], Perturb.change_names, nsamples=1)\n",
    "ret.data"
   ]
  },
  {
   "cell_type": "markdown",
   "metadata": {},
   "source": [
    "You can also specify how many replacements with `n` (default is 10):"
   ]
  },
  {
   "cell_type": "code",
   "execution_count": 233,
   "metadata": {},
   "outputs": [
    {
     "data": {
      "text/plain": [
       "[['Julianne is an engineer.',\n",
       "  'Sydney is an engineer.',\n",
       "  'Hannah is an engineer.',\n",
       "  'Isabella is an engineer.']]"
      ]
     },
     "execution_count": 233,
     "metadata": {},
     "output_type": "execute_result"
    }
   ],
   "source": [
    "ret = Perturb.perturb(pdata, Perturb.change_names, nsamples=1, n=3)\n",
    "ret.data"
   ]
  },
  {
   "cell_type": "code",
   "execution_count": 234,
   "metadata": {},
   "outputs": [
    {
     "data": {
      "text/plain": [
       "[['John is a very smart person, he lives in Ireland.',\n",
       "  'Jeffrey is a very smart person, he lives in Ireland.',\n",
       "  'Jeffrey is a very smart person, he lives in Ireland.',\n",
       "  'William is a very smart person, he lives in Ireland.']]"
      ]
     },
     "execution_count": 234,
     "metadata": {},
     "output_type": "execute_result"
    }
   ],
   "source": [
    "ret = Perturb.perturb(pdata, Perturb.change_names, nsamples=1, first_only=True, n=3)\n",
    "ret.data"
   ]
  },
  {
   "cell_type": "code",
   "execution_count": 235,
   "metadata": {},
   "outputs": [
    {
     "data": {
      "text/plain": [
       "[['Luke Smith has 3 sisters.',\n",
       "  'Luke Edwards has 3 sisters.',\n",
       "  'Luke Bennett has 3 sisters.',\n",
       "  'Luke Murphy has 3 sisters.']]"
      ]
     },
     "execution_count": 235,
     "metadata": {},
     "output_type": "execute_result"
    }
   ],
   "source": [
    "ret = Perturb.perturb(pdata, Perturb.change_names, nsamples=1, last_only=True, n=3)\n",
    "ret.data"
   ]
  },
  {
   "cell_type": "markdown",
   "metadata": {},
   "source": [
    "You can also set `meta=True` if you want to save the change in the metadata:"
   ]
  },
  {
   "cell_type": "code",
   "execution_count": 236,
   "metadata": {},
   "outputs": [
    {
     "data": {
      "text/plain": [
       "(['Luke Richardson has 3 sisters.',\n",
       "  'Luke Parker has 3 sisters.',\n",
       "  'Luke Smith has 3 sisters.'],\n",
       " [('Smith', 'Richardson'), ('Smith', 'Parker'), ('Smith', 'Smith')])"
      ]
     },
     "execution_count": 236,
     "metadata": {},
     "output_type": "execute_result"
    }
   ],
   "source": [
    "ret = Perturb.perturb(pdata, Perturb.change_names, nsamples=1, n=3, last_only=True, meta=True)\n",
    "ret.data[0][1:], ret.meta[0][1:]"
   ]
  },
  {
   "cell_type": "markdown",
   "metadata": {},
   "source": [
    "Similarly, you can change locations with `Perturb.change_location`:"
   ]
  },
  {
   "cell_type": "code",
   "execution_count": 237,
   "metadata": {},
   "outputs": [
    {
     "data": {
      "text/plain": [
       "(['Mark Stewart was born and raised in Chicago',\n",
       "  'Mark Stewart was born and raised in Austin',\n",
       "  'Mark Stewart was born and raised in Miami',\n",
       "  'Mark Stewart was born and raised in Glendale'],\n",
       " [None, ('Chicago', 'Austin'), ('Chicago', 'Miami'), ('Chicago', 'Glendale')])"
      ]
     },
     "execution_count": 237,
     "metadata": {},
     "output_type": "execute_result"
    }
   ],
   "source": [
    "ret = Perturb.perturb(pdata, Perturb.change_location, nsamples=1, n=3, meta=True)\n",
    "ret.data[0], ret.meta[0]"
   ]
  },
  {
   "cell_type": "markdown",
   "metadata": {},
   "source": [
    "And numbers:"
   ]
  },
  {
   "cell_type": "code",
   "execution_count": 238,
   "metadata": {},
   "outputs": [
    {
     "data": {
      "text/plain": [
       "(['Luke Smith has 3 sisters.',\n",
       "  'Luke Smith has 4 sisters.',\n",
       "  'Luke Smith has 2 sisters.',\n",
       "  'Luke Smith has 2 sisters.'],\n",
       " [None, ('3', '4'), ('3', '2'), ('3', '2')])"
      ]
     },
     "execution_count": 238,
     "metadata": {},
     "output_type": "execute_result"
    }
   ],
   "source": [
    "ret = Perturb.perturb(pdata, Perturb.change_number, nsamples=1, n=3, meta=True)\n",
    "ret.data[0], ret.meta[0]"
   ]
  }
 ],
 "metadata": {
  "kernelspec": {
   "display_name": "checklist",
   "language": "python",
   "name": "checklist"
  },
  "language_info": {
   "codemirror_mode": {
    "name": "ipython",
    "version": 3
   },
   "file_extension": ".py",
   "mimetype": "text/x-python",
   "name": "python",
   "nbconvert_exporter": "python",
   "pygments_lexer": "ipython3",
   "version": "3.6.8"
  }
 },
 "nbformat": 4,
 "nbformat_minor": 2
}
