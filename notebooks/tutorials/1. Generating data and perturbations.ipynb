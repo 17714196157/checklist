{
 "cells": [
  {
   "cell_type": "code",
   "execution_count": 1,
   "metadata": {},
   "outputs": [],
   "source": [
    "import checklist\n",
    "from checklist.editor import Editor\n",
    "from checklist.perturb import Perturb"
   ]
  },
  {
   "cell_type": "markdown",
   "metadata": {},
   "source": [
    "Before we create any tests, it's worth taking a tour of CheckList's abstractions for manipulating text data and coming up with examples. In this tutorial, we'll look at creating examples from scratch and on creating examples from existing datasets (via perturbations)"
   ]
  },
  {
   "cell_type": "markdown",
   "metadata": {},
   "source": [
    "## Creating examples from scratch"
   ]
  },
  {
   "cell_type": "markdown",
   "metadata": {},
   "source": [
    "### Templates"
   ]
  },
  {
   "cell_type": "markdown",
   "metadata": {},
   "source": [
    "First, we'll create an editor:"
   ]
  },
  {
   "cell_type": "code",
   "execution_count": 2,
   "metadata": {},
   "outputs": [],
   "source": [
    "editor = Editor()"
   ]
  },
  {
   "cell_type": "markdown",
   "metadata": {},
   "source": [
    "The editor allows us to fill in templates with lists of 'fill-ins', and doing cartesian products. For example:"
   ]
  },
  {
   "cell_type": "code",
   "execution_count": 3,
   "metadata": {},
   "outputs": [
    {
     "data": {
      "text/plain": [
       "['This is a good movie.',\n",
       " 'This is a great movie.',\n",
       " 'This is a awesome movie.',\n",
       " 'This is a excellent movie.']"
      ]
     },
     "execution_count": 3,
     "metadata": {},
     "output_type": "execute_result"
    }
   ],
   "source": [
    "ret = editor.template('This is a {adj} movie.', adj=['good', 'great', 'awesome', 'excellent'])\n",
    "ret.data"
   ]
  },
  {
   "cell_type": "markdown",
   "metadata": {},
   "source": [
    "`editor.template` returns a Munch (a glorified dict which allows us to call `ret.data` instead of `ret['data']`). \n",
    "If you set any of the arguments `labels`, `meta`, or `save`, additional fields will exist in `ret`. Here is an example, notice how `ret.labels` now has a label for each example in `ret.data`:"
   ]
  },
  {
   "cell_type": "code",
   "execution_count": 4,
   "metadata": {},
   "outputs": [
    {
     "data": {
      "text/plain": [
       "[1, 1, 1, 1]"
      ]
     },
     "execution_count": 4,
     "metadata": {},
     "output_type": "execute_result"
    }
   ],
   "source": [
    "ret = editor.template('This is a {adj} movie.', adj=['good', 'great', 'awesome', 'excellent'], labels=1, meta=True, save=True)\n",
    "ret.labels"
   ]
  },
  {
   "cell_type": "markdown",
   "metadata": {},
   "source": [
    "Setting `meta=True` gives us the fill in values for each example in `ret.data`:"
   ]
  },
  {
   "cell_type": "code",
   "execution_count": 5,
   "metadata": {},
   "outputs": [
    {
     "name": "stdout",
     "output_type": "stream",
     "text": [
      "This is a good movie. {'adj': 'good'}\n",
      "This is a great movie. {'adj': 'great'}\n"
     ]
    }
   ],
   "source": [
    "print(ret.data[0], ret.meta[0])\n",
    "print(ret.data[1], ret.meta[1])"
   ]
  },
  {
   "cell_type": "markdown",
   "metadata": {},
   "source": [
    "Notice we had a bug before: 'This is a excellent movie' is not gramatically correct. Since this is a common ocurrence, you can set an option in the template to use the right article before a fill-in:"
   ]
  },
  {
   "cell_type": "code",
   "execution_count": 6,
   "metadata": {},
   "outputs": [
    {
     "data": {
      "text/plain": [
       "['This is a good movie.',\n",
       " 'This is a great movie.',\n",
       " 'This is an awesome movie.',\n",
       " 'This is an excellent movie.']"
      ]
     },
     "execution_count": 6,
     "metadata": {},
     "output_type": "execute_result"
    }
   ],
   "source": [
    "ret = editor.template('This is {a:adj} movie.', adj=['good', 'great', 'awesome', 'excellent'])\n",
    "ret.data"
   ]
  },
  {
   "cell_type": "markdown",
   "metadata": {},
   "source": [
    "Now, the first argument does not need to be a single string. It can be a list, a tuple, or a dict. The same is true of the `labels` parameter:"
   ]
  },
  {
   "cell_type": "code",
   "execution_count": 7,
   "metadata": {},
   "outputs": [
    {
     "name": "stdout",
     "output_type": "stream",
     "text": [
      "{'question': 'Is this a good movie?', 'context': 'This is a good movie.'}\n",
      "Yes, this is good.\n",
      "\n",
      "{'question': 'Is this a great movie?', 'context': 'This is a great movie.'}\n",
      "Yes, this is great.\n",
      "\n"
     ]
    }
   ],
   "source": [
    "ret = editor.template({'question': 'Is this a {adj} movie?',\n",
    "                       'context': 'This is a {adj} movie.' },\n",
    "                      labels='Yes, this is {adj}.',\n",
    "                      adj=['good', 'great', 'awesome', 'excellent'])\n",
    "print(ret.data[0])\n",
    "print(ret.labels[0])\n",
    "print()\n",
    "print(ret.data[1])\n",
    "print(ret.labels[1])\n",
    "print()"
   ]
  },
  {
   "cell_type": "markdown",
   "metadata": {},
   "source": [
    "### Lexicons"
   ]
  },
  {
   "cell_type": "markdown",
   "metadata": {},
   "source": [
    "The editor has built-in lexicons, which you can use in templates without having to specify the fill-in values."
   ]
  },
  {
   "cell_type": "code",
   "execution_count": 8,
   "metadata": {},
   "outputs": [
    {
     "name": "stdout",
     "output_type": "stream",
     "text": [
      "['male', 'female', 'first_name', 'first_pronoun', 'last_name', 'country', 'nationality', 'city', 'religion', 'religion_adj', 'sexual_adj']\n"
     ]
    }
   ],
   "source": [
    "print(list(editor.lexicons.keys()))"
   ]
  },
  {
   "cell_type": "code",
   "execution_count": 9,
   "metadata": {},
   "outputs": [
    {
     "data": {
      "text/plain": [
       "['Michael is not friends with Jennifer',\n",
       " 'Christopher is not friends with Jennifer',\n",
       " 'Matthew is not friends with Jennifer',\n",
       " 'David is not friends with Jennifer']"
      ]
     },
     "execution_count": 9,
     "metadata": {},
     "output_type": "execute_result"
    }
   ],
   "source": [
    "ret = editor.template('{male} is not friends with {female}')\n",
    "ret.data[0:4]"
   ]
  },
  {
   "cell_type": "markdown",
   "metadata": {},
   "source": [
    "You can also use different versions of the same tag in a template by adding an integer to the end, e.g.:"
   ]
  },
  {
   "cell_type": "code",
   "execution_count": 10,
   "metadata": {},
   "outputs": [
    {
     "data": {
      "text/plain": [
       "['Michael is not friends with Michael',\n",
       " 'Michael is not friends with Christopher',\n",
       " 'Michael is not friends with Matthew',\n",
       " 'Michael is not friends with David']"
      ]
     },
     "execution_count": 10,
     "metadata": {},
     "output_type": "execute_result"
    }
   ],
   "source": [
    "ret = editor.template('{male1} is not friends with {male2}')\n",
    "ret.data[0:4]"
   ]
  },
  {
   "cell_type": "markdown",
   "metadata": {},
   "source": [
    "If you set `remove_duplicates` to True, you will never get two fill-ins with the same value within an example:"
   ]
  },
  {
   "cell_type": "code",
   "execution_count": 11,
   "metadata": {},
   "outputs": [
    {
     "data": {
      "text/plain": [
       "['Michael is not friends with Christopher',\n",
       " 'Michael is not friends with Matthew',\n",
       " 'Michael is not friends with David',\n",
       " 'Michael is not friends with James']"
      ]
     },
     "execution_count": 11,
     "metadata": {},
     "output_type": "execute_result"
    }
   ],
   "source": [
    "ret = editor.template('{male1} is not friends with {male2}', remove_duplicates=True)\n",
    "ret.data[0:4]"
   ]
  },
  {
   "cell_type": "markdown",
   "metadata": {},
   "source": [
    "You can also use different versions for tags that are not in the lexicons:"
   ]
  },
  {
   "cell_type": "code",
   "execution_count": 12,
   "metadata": {},
   "outputs": [
    {
     "data": {
      "text/plain": [
       "['good is not the same as bad',\n",
       " 'good is not the same as great',\n",
       " 'bad is not the same as good',\n",
       " 'bad is not the same as great']"
      ]
     },
     "execution_count": 12,
     "metadata": {},
     "output_type": "execute_result"
    }
   ],
   "source": [
    "ret = editor.template('{adj1} is not the same as {adj2}', adj=['good', 'bad', 'great'], remove_duplicates=True)\n",
    "ret.data[0:4]"
   ]
  },
  {
   "cell_type": "markdown",
   "metadata": {},
   "source": [
    "Finally, you can also add tags to the lexicons and reuse them later:"
   ]
  },
  {
   "cell_type": "code",
   "execution_count": 13,
   "metadata": {},
   "outputs": [],
   "source": [
    "editor.add_lexicon('adj', ['good', 'bad', 'great', 'terrible'])"
   ]
  },
  {
   "cell_type": "code",
   "execution_count": 14,
   "metadata": {},
   "outputs": [
    {
     "data": {
      "text/plain": [
       "['good is not the same as bad',\n",
       " 'good is not the same as great',\n",
       " 'good is not the same as terrible',\n",
       " 'bad is not the same as good']"
      ]
     },
     "execution_count": 14,
     "metadata": {},
     "output_type": "execute_result"
    }
   ],
   "source": [
    "ret = editor.template('{adj} is not the same as {adj2}', remove_duplicates=True)\n",
    "ret.data[:4]"
   ]
  },
  {
   "cell_type": "markdown",
   "metadata": {},
   "source": [
    "### Masked Language Model Suggestion"
   ]
  },
  {
   "cell_type": "markdown",
   "metadata": {},
   "source": [
    "You can use a masked language model to fill-in templates directly by using the special tag `{mask}`:"
   ]
  },
  {
   "cell_type": "code",
   "execution_count": 15,
   "metadata": {},
   "outputs": [
    {
     "data": {
      "text/plain": [
       "['This is a good idea.',\n",
       " 'This is a good sign.',\n",
       " 'This is a good thing.',\n",
       " 'This is a good example.',\n",
       " 'This is a good start.']"
      ]
     },
     "execution_count": 15,
     "metadata": {},
     "output_type": "execute_result"
    }
   ],
   "source": [
    "ret = editor.template('This is a {adj} {mask}.', remove_duplicates=True)\n",
    "ret.data[:5]"
   ]
  },
  {
   "cell_type": "markdown",
   "metadata": {},
   "source": [
    "You can also add multiple masks to a single example:"
   ]
  },
  {
   "cell_type": "code",
   "execution_count": 16,
   "metadata": {},
   "outputs": [
    {
     "data": {
      "text/plain": [
       "['This is a good history lesson.',\n",
       " 'This is a good chess move.',\n",
       " 'This is a good news story.',\n",
       " 'This is a good programming language.',\n",
       " 'This is a good data set.']"
      ]
     },
     "execution_count": 16,
     "metadata": {},
     "output_type": "execute_result"
    }
   ],
   "source": [
    "ret = editor.template('This is a {adj} {mask} {mask}.', remove_duplicates=True)\n",
    "ret.data[:5]"
   ]
  },
  {
   "cell_type": "markdown",
   "metadata": {},
   "source": [
    "Of course, sometimes you want to filter out some of the language model suggestions. You can use `editor.suggest` to just get the suggested words or tuples:"
   ]
  },
  {
   "cell_type": "code",
   "execution_count": 17,
   "metadata": {},
   "outputs": [
    {
     "data": {
      "text/plain": [
       "['idea', 'sign', 'thing', 'example', 'start']"
      ]
     },
     "execution_count": 17,
     "metadata": {},
     "output_type": "execute_result"
    }
   ],
   "source": [
    "editor.suggest('This is a {adj} {mask}.')[:5]"
   ]
  },
  {
   "cell_type": "code",
   "execution_count": 18,
   "metadata": {},
   "outputs": [
    {
     "data": {
      "text/plain": [
       "[('history', 'lesson'),\n",
       " ('chess', 'move'),\n",
       " ('news', 'story'),\n",
       " ('programming', 'language'),\n",
       " ('data', 'set')]"
      ]
     },
     "execution_count": 18,
     "metadata": {},
     "output_type": "execute_result"
    }
   ],
   "source": [
    "editor.suggest('This is a {adj} {mask} {mask}.')[:5]"
   ]
  },
  {
   "cell_type": "markdown",
   "metadata": {},
   "source": [
    "Finally, you can use a very handy visualization to select suggestions from a list.\n",
    "In the example below, we select only positive adjectives."
   ]
  },
  {
   "cell_type": "code",
   "execution_count": 40,
   "metadata": {},
   "outputs": [
    {
     "data": {
      "application/vnd.jupyter.widget-view+json": {
       "model_id": "1473017b534542618c055b1047e70ac3",
       "version_major": 2,
       "version_minor": 0
      },
      "text/plain": [
       "TemplateEditor(bert_suggests=['good', 'great', 'bad', 'terrible', 'nice', 'horror', 'scary', 'sad', 'beautiful…"
      ]
     },
     "metadata": {},
     "output_type": "display_data"
    }
   ],
   "source": [
    "editor.visual_suggest('This is a {mask} movie.')"
   ]
  },
  {
   "cell_type": "code",
   "execution_count": 41,
   "metadata": {},
   "outputs": [
    {
     "data": {
      "text/plain": [
       "['good', 'great', 'beautiful', 'funny', 'wonderful', 'fun', 'fantastic']"
      ]
     },
     "execution_count": 41,
     "metadata": {},
     "output_type": "execute_result"
    }
   ],
   "source": [
    "editor.selected_suggestions"
   ]
  },
  {
   "cell_type": "markdown",
   "metadata": {},
   "source": [
    "### Wordnet"
   ]
  },
  {
   "cell_type": "markdown",
   "metadata": {},
   "source": [
    "You can also ask for suggestions based on wordnet categories (synonyms, antonyms, hypernyms, hyponyms):"
   ]
  },
  {
   "cell_type": "code",
   "execution_count": 19,
   "metadata": {},
   "outputs": [
    {
     "data": {
      "text/plain": [
       "['serious']"
      ]
     },
     "execution_count": 19,
     "metadata": {},
     "output_type": "execute_result"
    }
   ],
   "source": [
    "editor.synonyms('John is a good man.', 'good')"
   ]
  },
  {
   "cell_type": "code",
   "execution_count": 20,
   "metadata": {},
   "outputs": [
    {
     "data": {
      "text/plain": [
       "['good', 'goodness']"
      ]
     },
     "execution_count": 20,
     "metadata": {},
     "output_type": "execute_result"
    }
   ],
   "source": [
    "editor.antonyms('John is a evil man.', 'evil')"
   ]
  },
  {
   "cell_type": "code",
   "execution_count": 27,
   "metadata": {},
   "outputs": [
    {
     "data": {
      "text/plain": [
       "['animal', 'creature', 'food', 'beast', 'meat', 'mammal', 'person', 'organism']"
      ]
     },
     "execution_count": 27,
     "metadata": {},
     "output_type": "execute_result"
    }
   ],
   "source": [
    "editor.hypernyms('My dog eats other animals.', 'dog')"
   ]
  },
  {
   "cell_type": "code",
   "execution_count": 30,
   "metadata": {},
   "outputs": [
    {
     "data": {
      "text/plain": [
       "['dog', 'pet', 'bird', 'prey', 'baby']"
      ]
     },
     "execution_count": 30,
     "metadata": {},
     "output_type": "execute_result"
    }
   ],
   "source": [
    "editor.hyponyms('My animal eats other animals.', 'animal')[:5]"
   ]
  },
  {
   "cell_type": "code",
   "execution_count": 35,
   "metadata": {},
   "outputs": [
    {
     "data": {
      "text/plain": [
       "['cat', 'animal', 'monkey', 'pet', 'elephant']"
      ]
     },
     "execution_count": 35,
     "metadata": {},
     "output_type": "execute_result"
    }
   ],
   "source": [
    "# Hyponyms of hypernym\n",
    "editor.related_words('My dog eats other animals.', 'dog')[:5]"
   ]
  },
  {
   "cell_type": "markdown",
   "metadata": {},
   "source": [
    "Notice that these are context specific:"
   ]
  },
  {
   "cell_type": "code",
   "execution_count": 36,
   "metadata": {},
   "outputs": [
    {
     "data": {
      "text/plain": [
       "['bad', 'evil', 'ill']"
      ]
     },
     "execution_count": 36,
     "metadata": {},
     "output_type": "execute_result"
    }
   ],
   "source": [
    "editor.antonyms('John is good.', 'good')"
   ]
  },
  {
   "cell_type": "code",
   "execution_count": 37,
   "metadata": {},
   "outputs": [
    {
     "data": {
      "text/plain": [
       "['bad']"
      ]
     },
     "execution_count": 37,
     "metadata": {},
     "output_type": "execute_result"
    }
   ],
   "source": [
    "editor.antonyms('Mac and cheese is good.', 'good')"
   ]
  }
 ],
 "metadata": {
  "kernelspec": {
   "display_name": "checklist",
   "language": "python",
   "name": "checklist"
  },
  "language_info": {
   "codemirror_mode": {
    "name": "ipython",
    "version": 3
   },
   "file_extension": ".py",
   "mimetype": "text/x-python",
   "name": "python",
   "nbconvert_exporter": "python",
   "pygments_lexer": "ipython3",
   "version": "3.6.8"
  }
 },
 "nbformat": 4,
 "nbformat_minor": 2
}
