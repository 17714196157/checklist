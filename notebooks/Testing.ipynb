{
 "cells": [
  {
   "cell_type": "code",
   "execution_count": 2,
   "metadata": {},
   "outputs": [
    {
     "name": "stdout",
     "output_type": "stream",
     "text": [
      "The autoreload extension is already loaded. To reload it, use:\n",
      "  %reload_ext autoreload\n"
     ]
    }
   ],
   "source": [
    "%load_ext autoreload\n",
    "%autoreload 2"
   ]
  },
  {
   "cell_type": "code",
   "execution_count": 3,
   "metadata": {},
   "outputs": [],
   "source": [
    "import checklist\n",
    "import spacy\n",
    "import itertools"
   ]
  },
  {
   "cell_type": "code",
   "execution_count": 404,
   "metadata": {},
   "outputs": [],
   "source": [
    "import checklist.editor\n",
    "import checklist.text_generation\n",
    "from checklist.mft import Mft\n",
    "from checklist.inv_dir import Inv, Dir\n",
    "from checklist.expect import Expect"
   ]
  },
  {
   "cell_type": "code",
   "execution_count": 8,
   "metadata": {},
   "outputs": [],
   "source": [
    "\n",
    "nlp = spacy.load('en_core_web_sm')"
   ]
  },
  {
   "cell_type": "code",
   "execution_count": 9,
   "metadata": {},
   "outputs": [],
   "source": [
    "tg = checklist.text_generation.TextGenerator(nlp)"
   ]
  },
  {
   "cell_type": "code",
   "execution_count": 35,
   "metadata": {},
   "outputs": [],
   "source": [
    "from checklist.pred_wrapper import PredictorWrapper"
   ]
  },
  {
   "cell_type": "code",
   "execution_count": 161,
   "metadata": {},
   "outputs": [],
   "source": [
    "import sys\n",
    "sys.path.append('/home/marcotcr/work/ml-tests/')\n",
    "from mltests import model_wrapper\n",
    "sentiment = model_wrapper.ModelWrapper()\n",
    "pp = PredictorWrapper.wrap_softmax(sentiment.predict_proba)"
   ]
  },
  {
   "cell_type": "code",
   "execution_count": 10,
   "metadata": {},
   "outputs": [
    {
     "data": {
      "text/plain": [
       "['liked',\n",
       " 'like',\n",
       " 'enjoyed',\n",
       " 'loved',\n",
       " 'admired',\n",
       " 'love',\n",
       " 'admire',\n",
       " 'enjoy',\n",
       " 'appreciated',\n",
       " 'appreciate',\n",
       " 'respect',\n",
       " 'was',\n",
       " 'disliked',\n",
       " 'miss',\n",
       " 'respected',\n",
       " 'likes',\n",
       " 'trust',\n",
       " 'missed',\n",
       " 'hated',\n",
       " 'wanted']"
      ]
     },
     "execution_count": 10,
     "metadata": {},
     "output_type": "execute_result"
    }
   ],
   "source": [
    "# tg.unmask('I don\\'t know <mask> I am going to cope.')\n",
    "[x[0][0] for x in tg.unmask('I really <mask> the pilot.')]"
   ]
  },
  {
   "cell_type": "code",
   "execution_count": 11,
   "metadata": {},
   "outputs": [],
   "source": [
    "a = tg.unmask('I really <mask> the pilot.')\n",
    "b = tg.unmask('I really <mask> the flight.')"
   ]
  },
  {
   "cell_type": "code",
   "execution_count": 12,
   "metadata": {},
   "outputs": [],
   "source": [
    "# tg.unmask_multiple(['I really <mask> the pilot.', 'I really <mask> the flight.'], metric='min')"
   ]
  },
  {
   "cell_type": "code",
   "execution_count": 202,
   "metadata": {},
   "outputs": [],
   "source": [
    "editor = checklist.editor.Editor()\n",
    "editor.lexicons['male'] = ['John', 'Luke', \"Mark\"]\n",
    "editor.lexicons['female'] = ['Mary', 'Judy', \"Julia\"]"
   ]
  },
  {
   "cell_type": "code",
   "execution_count": 15,
   "metadata": {},
   "outputs": [],
   "source": [
    "nouns = ['flight', 'seat', 'pilot', 'staff', 'plane', 'airline', 'cabin crew', 'aircraft', 'food']\n",
    "pos = ['liked', 'enjoyed', 'loved', 'admired', 'appreciated']\n",
    "neg = ['hated', 'disliked', 'regretted']\n"
   ]
  },
  {
   "cell_type": "code",
   "execution_count": 16,
   "metadata": {},
   "outputs": [
    {
     "name": "stdout",
     "output_type": "stream",
     "text": [
      "['like', 'liked', 'love', 'enjoyed', 'loved', 'appreciate', 'enjoy', 'appreciated', 'miss', 'Like', 'missed', 'needed', 'hate', 'wanted', 'likes', 'got', 'admired', 'admire', 'hated', 'recommend']\n"
     ]
    }
   ],
   "source": [
    "ts = editor.template('I really <mask> the {n}.', n=nouns)\n",
    "print([x[0][0] for x in tg.unmask_multiple(ts, beam_size=1000)][:20])\n",
    "# tg.unmask_multiple(ts, metric='avg', beam_size=100)"
   ]
  },
  {
   "cell_type": "code",
   "execution_count": 17,
   "metadata": {},
   "outputs": [
    {
     "name": "stdout",
     "output_type": "stream",
     "text": [
      "['I', 'We', 'He', 'he', 'She', 'They', 'we', 'and', '...', 'she', 'they', 'Everyone', 'i', 'People', 'You', 'Alex', 'Everybody', 'And', 'Dad', 'John']\n"
     ]
    }
   ],
   "source": [
    "ts = editor.template('<mask> really {pn} the {n}.', n=nouns, pn=pos+neg)\n",
    "print([x[0][0] for x in tg.unmask_multiple(ts, beam_size=1000)][:20])\n",
    "# tg.unmask_multiple(ts, metric='avg', beam_size=100)"
   ]
  },
  {
   "cell_type": "code",
   "execution_count": 18,
   "metadata": {},
   "outputs": [],
   "source": [
    "subj = ['I', 'We', 'They', 'we', 'He', 'he', 'She', 'she', 'they', 'people', 'People', 'you', '']"
   ]
  },
  {
   "cell_type": "code",
   "execution_count": 19,
   "metadata": {},
   "outputs": [
    {
     "name": "stdout",
     "output_type": "stream",
     "text": [
      "['bad', 'boring', 'strange', 'cold', 'slow', 'unpleasant', 'weird', 'difficult', 'uncomfortable', 'expensive', 'rough', 'noisy', 'ugly', 'poor', 'dark', 'different', 'small', 'disappointing', 'quiet', 'rude', 'confusing', 'dull', 'sad', 'odd', 'loud', 'annoying', 'simple', 'harsh', 'short', 'unusual', 'scary', 'hard', 'nice', 'hot', 'dangerous', 'aggressive', 'heavy', 'dirty', 'conservative', 'old', 'tough', 'bland', 'low', 'cheap', 'frustrating', 'depressing', 'nasty', 'long', 'crude', 'horrible', 'stupid', 'complicated', 'funny', 'fast', 'good', 'basic', 'weak', 'wrong', 'awkward', 'terrible', 'negative', 'crowded', 'plain', 'thin', 'interesting', 'awful', 'bizarre', 'intimidating', 'cool', 'primitive', 'unstable', 'flat', 'narrow', 'stressful', 'stiff', 'empty', 'chaotic', 'light', 'irritating', 'big', 'unfair', 'sick', 'similar', 'angry', 'mean', 'predictable', 'easy', 'offensive', 'foreign', 'violent', 'tight', 'comfortable', 'busy', 'challenging', 'arrogant', 'disgusting', 'inefficient', 'creepy', 'tense', 'disturbing']\n"
     ]
    }
   ],
   "source": [
    "ts = editor.template('I didn\\'t like the {n}, it was very <mask>.', n=nouns)\n",
    "print([x[0][0] for x in tg.unmask_multiple(ts, beam_size=1000, metric='avg')][:100])\n",
    "# tg.unmask_multiple(ts, metric='avg', beam_size=100)"
   ]
  },
  {
   "cell_type": "code",
   "execution_count": 20,
   "metadata": {},
   "outputs": [],
   "source": [
    "pos_adj = ['good', 'nice', 'helpful', 'comfortable', 'cool', 'efficient', 'pleasant', 'interesting', 'impressive', 'welcoming', 'professional', 'beautiful', 'exciting', 'positive', 'solid', 'amazing', 'wonderful', 'lovely']\n",
    "neg_adj = ['bad', 'boring', 'unpleasant', 'difficult', 'uncomfortable', 'ugly', 'poor', 'disappointing', 'sad', 'annoying', 'dirty', 'frustrating', 'depressing', 'nasty', 'horrible', 'stupid', 'negative', 'awful', 'stressful', 'irritating', 'disgusting']"
   ]
  },
  {
   "cell_type": "code",
   "execution_count": 21,
   "metadata": {},
   "outputs": [],
   "source": [
    "pos_eg = editor.template('{sub}{really} {p} the {n}.', sub=subj, really=[' really', ''], n=nouns, p=pos)\n",
    "pos_eg += editor.template('The {n} was{very} {p}.', sub=subj, very=[' very', ''], n=nouns, p=pos_adj)\n",
    "neg_eg = editor.template('{sub}{really} {p} the {n}.', sub=subj, really=[' really', ''], n=nouns, p=neg)\n",
    "neg_eg += editor.template('The {n} was{very} {p}.', sub=subj, very=[' very', ''], n=nouns, p=neg_adj)"
   ]
  },
  {
   "cell_type": "code",
   "execution_count": 185,
   "metadata": {},
   "outputs": [
    {
     "data": {
      "text/plain": [
       "(1494, 1080)"
      ]
     },
     "execution_count": 185,
     "metadata": {},
     "output_type": "execute_result"
    }
   ],
   "source": [
    "len(pos_eg), len(neg_eg)"
   ]
  },
  {
   "cell_type": "code",
   "execution_count": 255,
   "metadata": {},
   "outputs": [],
   "source": [
    "test_pos = Mft(pos_eg, labels=1)\n",
    "test_neg = Mft(neg_eg, labels=0)"
   ]
  },
  {
   "cell_type": "code",
   "execution_count": 187,
   "metadata": {},
   "outputs": [],
   "source": [
    "test_pos.run(pp)\n",
    "test_neg.run(pp)"
   ]
  },
  {
   "cell_type": "code",
   "execution_count": 190,
   "metadata": {},
   "outputs": [
    {
     "data": {
      "text/plain": [
       "(1.0, 0.9833333333333333)"
      ]
     },
     "execution_count": 190,
     "metadata": {},
     "output_type": "execute_result"
    }
   ],
   "source": [
    "test_pos.results.passed.mean(), test_neg.results.passed.mean()"
   ]
  },
  {
   "cell_type": "code",
   "execution_count": 199,
   "metadata": {},
   "outputs": [
    {
     "name": "stdout",
     "output_type": "stream",
     "text": [
      "0.999 The flight was very stressful.\n",
      "0.995 The seat was very stressful.\n",
      "0.999 The pilot was very stressful.\n",
      "1.0 The staff was very stressful.\n",
      "0.999 The plane was very stressful.\n",
      "0.998 The airline was very stressful.\n",
      "0.998 The cabin crew was very stressful.\n",
      "0.999 The aircraft was very stressful.\n",
      "0.999 The food was very stressful.\n",
      "0.999 The flight was stressful.\n",
      "0.963 The seat was stressful.\n",
      "0.997 The pilot was stressful.\n",
      "0.999 The staff was stressful.\n",
      "0.999 The plane was stressful.\n",
      "0.97 The airline was stressful.\n",
      "0.994 The cabin crew was stressful.\n",
      "0.998 The aircraft was stressful.\n",
      "0.997 The food was stressful.\n"
     ]
    }
   ],
   "source": [
    "for f in np.where(test.results.passed == False)[0]:\n",
    "    print(test.results.confs[f][1].round(3), test.data[f])"
   ]
  },
  {
   "cell_type": "markdown",
   "metadata": {},
   "source": [
    "## Inv, dir"
   ]
  },
  {
   "cell_type": "code",
   "execution_count": 200,
   "metadata": {},
   "outputs": [],
   "source": [
    "import csv\n",
    "r = csv.DictReader(open('/home/marcotcr/datasets/airline/Tweets.csv'))\n",
    "labels = []\n",
    "confs = []\n",
    "airlines = []\n",
    "tdata = []\n",
    "reasons = []\n",
    "for row in r:\n",
    "    sentiment, conf, airline, text = row['airline_sentiment'], row['airline_sentiment_confidence'], row['airline'], row['text']\n",
    "    labels.append(sentiment)\n",
    "    confs.append(conf)\n",
    "    airlines.append(airline)\n",
    "    tdata.append(text)\n",
    "    reasons.append(row['negativereason'])\n",
    "\n",
    "mapping = {'negative': 0, 'positive': 2, 'neutral': 1}\n",
    "labels = np.array([mapping[x] for x in labels]).astype(int)"
   ]
  },
  {
   "cell_type": "code",
   "execution_count": 201,
   "metadata": {},
   "outputs": [],
   "source": [
    "sentences = tdata\n",
    "parsed_data = list(nlp.pipe(sentences))"
   ]
  },
  {
   "cell_type": "code",
   "execution_count": 240,
   "metadata": {},
   "outputs": [],
   "source": [
    "def add_typo(string):\n",
    "    string = list(string)\n",
    "    swaps = 1\n",
    "    swaps = np.random.choice(len(string) - 1, swaps)\n",
    "    for swap in swaps:\n",
    "        swap = np.random.choice(len(string) - 1)\n",
    "        tmp = string[swap]\n",
    "        string[swap] = string[swap + 1]\n",
    "        string[swap + 1] = tmp\n",
    "    return ''.join(string)\n",
    "\n",
    "def add_typos(string):\n",
    "    return list(set([add_typo(string) for _ in range(10)]))\n"
   ]
  },
  {
   "cell_type": "code",
   "execution_count": 233,
   "metadata": {},
   "outputs": [],
   "source": [
    "from checklist.perturb import Perturb"
   ]
  },
  {
   "cell_type": "code",
   "execution_count": 400,
   "metadata": {},
   "outputs": [],
   "source": [
    "data = Perturb.perturb(np.random.choice(sentences, 100), add_typos, keep_original=True)"
   ]
  },
  {
   "cell_type": "code",
   "execution_count": 401,
   "metadata": {},
   "outputs": [],
   "source": [
    "test = Inv(data, threshold=0.1)\n",
    "test.run(pp, overwrite=True)"
   ]
  },
  {
   "cell_type": "code",
   "execution_count": 402,
   "metadata": {},
   "outputs": [
    {
     "data": {
      "text/plain": [
       "0.77"
      ]
     },
     "execution_count": 402,
     "metadata": {},
     "output_type": "execute_result"
    }
   ],
   "source": [
    "test.results.passed.mean()"
   ]
  },
  {
   "cell_type": "code",
   "execution_count": 403,
   "metadata": {},
   "outputs": [
    {
     "name": "stdout",
     "output_type": "stream",
     "text": [
      "0.01 @USAirways I hope flight 1855 is not being delayed because flight attendant didn't come to work! #nobackup\n",
      "0.96 @USAirways Ih ope flight 1855 is not being delayed because flight attendant didn't come to work! #nobackup\n",
      "0.00 @USAirways I hope flight 1855 is not beingd elayed because flight attendant didn't come to work! #nobackup\n",
      "\n",
      "0.01 @JetBlue's CEO battles to appease passengers and Wall Street - Waterbury Republican American http://t.co/Of7PFvQpOY\n",
      "0.95 @JetBlue's CEOb attles to appease passengers and Wall Street - Waterbury Republican American http://t.co/Of7PFvQpOY\n",
      "0.91 @JetBlue's CEO battlest o appease passengers and Wall Street - Waterbury Republican American http://t.co/Of7PFvQpOY\n",
      "\n",
      "0.95 @JetBlue ETA for flight 802 into Orlando this morning\n",
      "0.04 @JetBlue ETA for flight 802 into Orlando this mornnig\n",
      "0.29 @eJtBlue ETA for flight 802 into Orlando this morning\n",
      "\n",
      "0.27 @united I think you should board from the back of the plane #whatstheholdup #CHItoCLE\n",
      "0.92 @united I think you should board from the back of the plane w#hatstheholdup #CHItoCLE\n",
      "0.58 @united I think you should board from theb ack of the plane #whatstheholdup #CHItoCLE\n",
      "\n",
      "1.00 @USAirways your saving grace was our flight attendant Dallas who was amazing. wish he would transfer to Delta where I would see him again\n",
      "0.01 @USAirways your saving grace was our flight attendant Dallas who was amzaing. wish he would transfer to Delta where I would see him again\n",
      "0.01 @USAirways your saving grace was our flight attendant Dallas who wa samazing. wish he would transfer to Delta where I would see him again\n",
      "\n"
     ]
    }
   ],
   "source": [
    "for f in np.where(test.results.passed == False)[0][:5]:\n",
    "    dataconfs = list(zip(test.data[f], test.results.confs[f][:, 1]))\n",
    "    dataconfs[1:] = sorted(dataconfs[1:], key=lambda x: np.abs(x[1] - dataconfs[0][1]), reverse=True)\n",
    "    print('\\n'.join(['%.2f %s' % (x[1], x[0]) for x in dataconfs][:3]))\n",
    "    print()"
   ]
  },
  {
   "cell_type": "code",
   "execution_count": 399,
   "metadata": {},
   "outputs": [],
   "source": [
    "data = Perturb.perturb(np.random.choice(sentences, 1000), add_typo, keep_original=True)\n",
    "test = Inv(data, threshold=0.1)\n",
    "test.run(pp, overwrite=True)"
   ]
  },
  {
   "cell_type": "code",
   "execution_count": 395,
   "metadata": {},
   "outputs": [
    {
     "data": {
      "text/plain": [
       "0.954"
      ]
     },
     "execution_count": 395,
     "metadata": {},
     "output_type": "execute_result"
    }
   ],
   "source": [
    "test.results.passed.mean()"
   ]
  },
  {
   "cell_type": "code",
   "execution_count": 396,
   "metadata": {},
   "outputs": [
    {
     "name": "stdout",
     "output_type": "stream",
     "text": [
      "0.42 @AmericanAir it wasn't ' disrupted' it was Cancelled Flightled. Airport agents were horrendous. Sharon was your saviour\n",
      "0.99 @AmericanAir it wasn't ' disrupted' it was Cancelled Flightled. Airport agents were horrenduos. Sharon was your saviour\n",
      "\n",
      "0.80 @JetBlue gr8 #Mint crew on #flight 123 to #LAX they're #Mintalicious #TrueBlueLove #ShelleyandMarcRock #travel #air\n",
      "0.20 @JetBlue gr8 #Mint crew on #flight 123 to #LAX theyr'e #Mintalicious #TrueBlueLove #ShelleyandMarcRock #travel #air\n",
      "\n",
      "0.16 Need more info on that! @united: @momsgoodeats We have great amenity kits. PJ's not included. We status match AA. ^KP”\n",
      "0.85 Need more info on that! @united: @momsgoodeats We have great amenity kits. P'Js not included. We status match AA. ^KP”\n",
      "\n",
      "0.08 @AmericanAir can you guys help me please?\n",
      "0.78 @AmericanAir can you guys help em please?\n",
      "\n",
      "0.10 @USAirways I finally got through on the phone after a 2 hour wait time.\n",
      "0.55 @USAirways I finally got through on th ephone after a 2 hour wait time.\n",
      "\n"
     ]
    }
   ],
   "source": [
    "for f in np.where(test.results.passed == False)[0][:5]:\n",
    "    dataconfs = list(zip(test.data[f], test.results.confs[f][:, 1]))\n",
    "    dataconfs[1:] = sorted(dataconfs[1:], key=lambda x: np.abs(x[1] - dataconfs[0][1]), reverse=True)\n",
    "    print('\\n'.join(['%.2f %s' % (x[1], x[0]) for x in dataconfs][:3]))\n",
    "    print()"
   ]
  },
  {
   "cell_type": "code",
   "execution_count": 433,
   "metadata": {},
   "outputs": [],
   "source": [
    "# TODO: get from somethwere else\n",
    "def add_negatives(string):\n",
    "    string = string.strip('.')\n",
    "    return [string + '. ' + l for l in ['I hate you', 'I despise you', 'You suck']]\n",
    "def add_positive(string):\n",
    "    string = string.strip('.')\n",
    "    return [string + '. ' + l for l in ['I love you', 'I like you', 'You are great']]\n"
   ]
  },
  {
   "cell_type": "code",
   "execution_count": 412,
   "metadata": {},
   "outputs": [
    {
     "data": {
      "text/plain": [
       "['@VirginAmerica What @dhepburn said. I hate you',\n",
       " '@VirginAmerica What @dhepburn said. I despise you',\n",
       " '@VirginAmerica What @dhepburn said. You suck']"
      ]
     },
     "execution_count": 412,
     "metadata": {},
     "output_type": "execute_result"
    }
   ],
   "source": [
    "add_negatives(sentences[0])"
   ]
  },
  {
   "cell_type": "code",
   "execution_count": 441,
   "metadata": {},
   "outputs": [
    {
     "data": {
      "text/plain": [
       "0.893"
      ]
     },
     "execution_count": 441,
     "metadata": {},
     "output_type": "execute_result"
    }
   ],
   "source": [
    "data = Perturb.perturb(np.random.choice(sentences, 1000), add_negatives, keep_original=True)\n",
    "test = Dir(data, Expect.wrap(Expect.all(Expect.pairwise_to_group(Expect.monotonic_label(1, increasing=False, tolerance=0)))) )\n",
    "test.run(pp, overwrite=True)\n",
    "test.results.passed.mean()"
   ]
  },
  {
   "cell_type": "code",
   "execution_count": 442,
   "metadata": {},
   "outputs": [
    {
     "name": "stdout",
     "output_type": "stream",
     "text": [
      "0.00039 @united It's taken ~3 weeks for Cust Care to respond to Case #8477733, requesting a refund for wi-fi not working. Where can I get an update?\n",
      "0.00044 @united It's taken ~3 weeks for Cust Care to respond to Case #8477733, requesting a refund for wi-fi not working. Where can I get an update?. I despise you\n",
      "0.00035 @united It's taken ~3 weeks for Cust Care to respond to Case #8477733, requesting a refund for wi-fi not working. Where can I get an update?. I hate you\n",
      "\n",
      "0.00040 @AmericanAir why was my flight from Miami to Dallas Monday  rescheduled to Tuesday?\n",
      "0.00047 @AmericanAir why was my flight from Miami to Dallas Monday  rescheduled to Tuesday?. I despise you\n",
      "0.00040 @AmericanAir why was my flight from Miami to Dallas Monday  rescheduled to Tuesday?. You suck\n",
      "\n",
      "0.00179 @united delayed another hour\n",
      "0.00212 @united delayed another hour. You suck\n",
      "0.00067 @united delayed another hour. I despise you\n",
      "\n",
      "0.00057 @united aaaand 7 hours Late Flightr won't be catching a flight til 6AM...stuck in at airport in a snowstorm with no hotel-how's that for patience?\n",
      "0.00060 @united aaaand 7 hours Late Flightr won't be catching a flight til 6AM...stuck in at airport in a snowstorm with no hotel-how's that for patience?. I despise you\n",
      "0.00040 @united aaaand 7 hours Late Flightr won't be catching a flight til 6AM...stuck in at airport in a snowstorm with no hotel-how's that for patience?. I hate you\n",
      "\n",
      "0.00027 @SouthwestAir I can't begin to tell you how slow my plane's wifi is. I can't even pull up an email.  What am i paying $8 for??\n",
      "0.00028 @SouthwestAir I can't begin to tell you how slow my plane's wifi is. I can't even pull up an email.  What am i paying $8 for??. I despise you\n",
      "0.00024 @SouthwestAir I can't begin to tell you how slow my plane's wifi is. I can't even pull up an email.  What am i paying $8 for??. You suck\n",
      "\n"
     ]
    }
   ],
   "source": [
    "for f in np.where(test.results.passed == False)[0][:5]:\n",
    "    dataconfs = list(zip(test.data[f], test.results.confs[f][:, 1]))\n",
    "    dataconfs[1:] = sorted(dataconfs[1:], key=lambda x: (x[1] - dataconfs[0][1]), reverse=True)\n",
    "    print('\\n'.join(['%.5f %s' % (x[1], x[0]) for x in dataconfs][:3]))\n",
    "    print()"
   ]
  },
  {
   "cell_type": "code",
   "execution_count": 443,
   "metadata": {},
   "outputs": [
    {
     "data": {
      "text/plain": [
       "0.989"
      ]
     },
     "execution_count": 443,
     "metadata": {},
     "output_type": "execute_result"
    }
   ],
   "source": [
    "data = Perturb.perturb(np.random.choice(sentences, 1000), add_positive, keep_original=True)\n",
    "test = Dir(data, Expect.wrap(Expect.all(Expect.pairwise_to_group(Expect.monotonic_label(1, increasing=True, tolerance=0)))) )\n",
    "test.run(pp, overwrite=True)\n",
    "test.results.passed.mean()"
   ]
  },
  {
   "cell_type": "code",
   "execution_count": 444,
   "metadata": {},
   "outputs": [
    {
     "name": "stdout",
     "output_type": "stream",
     "text": [
      "0.00042 @USAirways 1500 characters are not enough to convey the issue. Was directed to emailmailto:customer.relations@usairways.com unmonitored. BAD\n",
      "0.00038 @USAirways 1500 characters are not enough to convey the issue. Was directed to emailmailto:customer.relations@usairways.com unmonitored. BAD. I love you\n",
      "0.00345 @USAirways 1500 characters are not enough to convey the issue. Was directed to emailmailto:customer.relations@usairways.com unmonitored. BAD. I like you\n",
      "\n",
      "0.99994 @JetBlue #Bluemanity @AirlineAdviser loves this. Have a great time flying this\n",
      "0.99993 @JetBlue #Bluemanity @AirlineAdviser loves this. Have a great time flying this. I love you\n",
      "0.99993 @JetBlue #Bluemanity @AirlineAdviser loves this. Have a great time flying this. I like you\n",
      "\n",
      "0.99993 @SouthwestAir oh, ok!  all good!  looking forward to escaping the cold for a bit!  thanks!\n",
      "0.99993 @SouthwestAir oh, ok!  all good!  looking forward to escaping the cold for a bit!  thanks!. I love you\n",
      "0.99993 @SouthwestAir oh, ok!  all good!  looking forward to escaping the cold for a bit!  thanks!. I like you\n",
      "\n",
      "0.99994 @united Flew ORD to Miami and back and  had great crew, service on both legs. THANKS\n",
      "0.99994 @united Flew ORD to Miami and back and  had great crew, service on both legs. THANKS. I love you\n",
      "0.99994 @united Flew ORD to Miami and back and  had great crew, service on both legs. THANKS. I like you\n",
      "\n",
      "0.99993 @SouthwestAir  Your Terry is our hero.  Got my husband back thru security to retrieve his cellphone in Austin. Terry (#85832) You Rock!\n",
      "0.99992 @SouthwestAir  Your Terry is our hero.  Got my husband back thru security to retrieve his cellphone in Austin. Terry (#85832) You Rock!. I love you\n",
      "0.99993 @SouthwestAir  Your Terry is our hero.  Got my husband back thru security to retrieve his cellphone in Austin. Terry (#85832) You Rock!. I like you\n",
      "\n"
     ]
    }
   ],
   "source": [
    "for f in np.where(test.results.passed == False)[0][:5]:\n",
    "    dataconfs = list(zip(test.data[f], test.results.confs[f][:, 1]))\n",
    "    dataconfs[1:] = sorted(dataconfs[1:], key=lambda x: (- x[1] + dataconfs[0][1]), reverse=True)\n",
    "    print('\\n'.join(['%.5f %s' % (x[1], x[0]) for x in dataconfs][:3]))\n",
    "    print()"
   ]
  },
  {
   "cell_type": "markdown",
   "metadata": {},
   "source": [
    "### QQP"
   ]
  },
  {
   "cell_type": "code",
   "execution_count": 448,
   "metadata": {},
   "outputs": [],
   "source": [
    "qqp = model_wrapper.ModelWrapper()\n",
    "pp = PredictorWrapper.wrap_softmax(qqp.predict_proba)"
   ]
  },
  {
   "cell_type": "code",
   "execution_count": 452,
   "metadata": {},
   "outputs": [
    {
     "name": "stdout",
     "output_type": "stream",
     "text": [
      "\"\tWhat does the Quran say about homosexuality?\t0\n",
      "\n"
     ]
    }
   ],
   "source": [
    "qs = []\n",
    "labels = []\n",
    "all_questions = set()\n",
    "for x in open('/home/marcotcr/datasets/glue/glue_data/QQP/dev.tsv').readlines()[1:]:\n",
    "    try:\n",
    "        q1, q2, label = x.strip().split('\\t')[3:]\n",
    "    except:\n",
    "        print(x)\n",
    "        continue\n",
    "    all_questions.add(q1)\n",
    "    all_questions.add(q2)\n",
    "    qs.append((q1, q2))\n",
    "    labels.append(label)\n",
    "labels = np.array(labels).astype(int)"
   ]
  },
  {
   "cell_type": "code",
   "execution_count": 455,
   "metadata": {},
   "outputs": [],
   "source": [
    "quran = [x[0][0] for x in tg.unmask('What does the Quran say about <mask>?')]"
   ]
  },
  {
   "cell_type": "code",
   "execution_count": 461,
   "metadata": {},
   "outputs": [],
   "source": [
    "quran.remove('homosexuals')\n",
    "quran.remove('gays')\n",
    "quran.remove('this')"
   ]
  },
  {
   "cell_type": "code",
   "execution_count": 463,
   "metadata": {},
   "outputs": [],
   "source": [
    "data = editor.template(('What does the Quran say about {thing1}?', 'What does the Quran say about {thing2}?'),\n",
    "                thing1=quran, thing2=quran, remove_duplicates=True)\n",
    "test = Mft(data, labels=0)\n",
    "test.run(pp, overwrite=True)\n",
    "test.results.passed.mean()"
   ]
  },
  {
   "cell_type": "code",
   "execution_count": 474,
   "metadata": {},
   "outputs": [
    {
     "name": "stdout",
     "output_type": "stream",
     "text": [
      "0.581 ('What does the Quran say about polygamy?', 'What does the Quran say about circumcision?')\n",
      "0.974 ('What does the Quran say about Islam?', 'What does the Quran say about Muslims?')\n",
      "0.817 ('What does the Quran say about Muhammad?', 'What does the Quran say about Muslims?')\n",
      "0.845 ('What does the Quran say about Muslims?', 'What does the Quran say about Islam?')\n",
      "0.717 ('What does the Quran say about circumcision?', 'What does the Quran say about polygamy?')\n",
      "0.956 ('What does the Quran say about marriage?', 'What does the Quran say about polygamy?')\n"
     ]
    }
   ],
   "source": [
    "for f in np.where(test.results.passed == False)[0]:\n",
    "    print(test.results.confs[f][1].round(3), test.data[f])"
   ]
  },
  {
   "cell_type": "code",
   "execution_count": 479,
   "metadata": {},
   "outputs": [
    {
     "name": "stdout",
     "output_type": "stream",
     "text": [
      "['Bible', 'book', 'report', 'survey', 'poll', 'study', 'Constitution', 'data', 'bible', 'election', 'census', 'law', 'UN', 'Quran', 'evidence', 'science', 'constitution', 'Koran', 'vote', 'bill', 'film', 'Holocaust', 'research', 'Pope', 'letter', 'article', 'verdict', 'world', 'movie', 'government', 'video', 'Torah', 'song', 'moon', 'public', 'dictionary', 'president', 'referendum', 'ACA', 'eclipse', 'church', 'US', 'media', 'Church', 'pope', 'record', 'test', 'answer', 'literature', 'Prophet', 'CDC', 'FDA', 'WHO', 'scripture', 'community', 'Buddha', 'ban', 'prophet', 'statement', 'interview', 'Gospel', 'Book', 'past', 'question', 'decision']\n"
     ]
    }
   ],
   "source": [
    "print([x[0][0] for x in tg.unmask_multiple(editor.template('What does the <mask> say about {thing}?', thing=quran))])"
   ]
  },
  {
   "cell_type": "code",
   "execution_count": 484,
   "metadata": {},
   "outputs": [
    {
     "data": {
      "text/plain": [
       "0.9111111111111111"
      ]
     },
     "execution_count": 484,
     "metadata": {},
     "output_type": "execute_result"
    }
   ],
   "source": [
    "books = ['Bible', 'Constitution', 'Quran', 'Pope', 'Torah', 'Church', 'Buddha', 'Prophet', 'Gospel', 'Book']\n",
    "data = editor.template(('What does the {book1} say about {thing}?', 'What does the {book2} say about {thing}?'),\n",
    "                thing=quran, book1=books, book2=books, remove_duplicates=True)\n",
    "test = Mft(data, labels=0)\n",
    "test.run(pp, overwrite=True)\n",
    "test.results.passed.mean()"
   ]
  },
  {
   "cell_type": "code",
   "execution_count": 485,
   "metadata": {},
   "outputs": [
    {
     "name": "stdout",
     "output_type": "stream",
     "text": [
      "0.634 ('What does the Bible say about homosexuality?', 'What does the Church say about homosexuality?')\n",
      "0.93 ('What does the Bible say about homosexuality?', 'What does the Prophet say about homosexuality?')\n",
      "0.978 ('What does the Bible say about homosexuality?', 'What does the Gospel say about homosexuality?')\n",
      "0.75 ('What does the Bible say about you?', 'What does the Church say about you?')\n",
      "0.973 ('What does the Bible say about you?', 'What does the Gospel say about you?')\n",
      "0.641 ('What does the Bible say about women?', 'What does the Torah say about women?')\n",
      "0.87 ('What does the Bible say about women?', 'What does the Church say about women?')\n",
      "0.931 ('What does the Bible say about women?', 'What does the Prophet say about women?')\n",
      "0.987 ('What does the Bible say about women?', 'What does the Gospel say about women?')\n",
      "0.56 ('What does the Bible say about women?', 'What does the Book say about women?')\n",
      "0.958 ('What does the Bible say about us?', 'What does the Gospel say about us?')\n",
      "0.698 ('What does the Bible say about circumcision?', 'What does the Church say about circumcision?')\n",
      "0.969 ('What does the Bible say about circumcision?', 'What does the Gospel say about circumcision?')\n",
      "0.543 ('What does the Bible say about circumcision?', 'What does the Book say about circumcision?')\n",
      "0.52 ('What does the Bible say about marriage?', 'What does the Church say about marriage?')\n",
      "0.97 ('What does the Bible say about marriage?', 'What does the Gospel say about marriage?')\n",
      "0.838 ('What does the Bible say about Muslims?', 'What does the Quran say about Muslims?')\n",
      "0.6 ('What does the Bible say about Muslims?', 'What does the Prophet say about Muslims?')\n",
      "0.978 ('What does the Bible say about Muslims?', 'What does the Gospel say about Muslims?')\n",
      "0.774 ('What does the Bible say about Muslims?', 'What does the Book say about Muslims?')\n",
      "0.947 ('What does the Bible say about religion?', 'What does the Gospel say about religion?')\n",
      "0.686 ('What does the Bible say about Jews?', 'What does the Torah say about Jews?')\n",
      "0.724 ('What does the Bible say about Jews?', 'What does the Prophet say about Jews?')\n",
      "0.983 ('What does the Bible say about Jews?', 'What does the Gospel say about Jews?')\n",
      "0.901 ('What does the Bible say about Jews?', 'What does the Book say about Jews?')\n",
      "0.513 ('What does the Bible say about abortion?', 'What does the Torah say about abortion?')\n",
      "0.644 ('What does the Bible say about abortion?', 'What does the Church say about abortion?')\n",
      "0.96 ('What does the Bible say about abortion?', 'What does the Prophet say about abortion?')\n",
      "0.986 ('What does the Bible say about abortion?', 'What does the Gospel say about abortion?')\n",
      "0.719 ('What does the Bible say about men?', 'What does the Church say about men?')\n",
      "0.979 ('What does the Bible say about men?', 'What does the Gospel say about men?')\n",
      "0.866 ('What does the Bible say about men?', 'What does the Book say about men?')\n",
      "0.954 ('What does the Bible say about Islam?', 'What does the Gospel say about Islam?')\n",
      "0.966 ('What does the Bible say about Muhammad?', 'What does the Gospel say about Muhammad?')\n",
      "0.694 ('What does the Bible say about Muhammad?', 'What does the Book say about Muhammad?')\n",
      "0.667 ('What does the Bible say about polygamy?', 'What does the Torah say about polygamy?')\n",
      "0.736 ('What does the Bible say about polygamy?', 'What does the Church say about polygamy?')\n",
      "0.807 ('What does the Bible say about polygamy?', 'What does the Prophet say about polygamy?')\n",
      "0.972 ('What does the Bible say about polygamy?', 'What does the Gospel say about polygamy?')\n",
      "0.505 ('What does the Bible say about polygamy?', 'What does the Book say about polygamy?')\n",
      "0.742 ('What does the Bible say about sex?', 'What does the Church say about sex?')\n",
      "0.735 ('What does the Bible say about sex?', 'What does the Prophet say about sex?')\n",
      "0.973 ('What does the Bible say about sex?', 'What does the Gospel say about sex?')\n",
      "0.958 ('What does the Bible say about God?', 'What does the Gospel say about God?')\n",
      "0.614 ('What does the Bible say about God?', 'What does the Book say about God?')\n",
      "0.573 ('What does the Bible say about Christians?', 'What does the Quran say about Christians?')\n",
      "0.656 ('What does the Bible say about Christians?', 'What does the Church say about Christians?')\n",
      "0.965 ('What does the Bible say about Christians?', 'What does the Gospel say about Christians?')\n",
      "0.868 ('What does the Bible say about Christians?', 'What does the Book say about Christians?')\n",
      "0.988 ('What does the Quran say about homosexuality?', 'What does the Prophet say about homosexuality?')\n",
      "0.962 ('What does the Quran say about you?', 'What does the Prophet say about you?')\n",
      "0.991 ('What does the Quran say about women?', 'What does the Prophet say about women?')\n",
      "0.973 ('What does the Quran say about us?', 'What does the Prophet say about us?')\n",
      "0.944 ('What does the Quran say about circumcision?', 'What does the Prophet say about circumcision?')\n",
      "0.974 ('What does the Quran say about marriage?', 'What does the Prophet say about marriage?')\n",
      "0.967 ('What does the Quran say about Muslims?', 'What does the Prophet say about Muslims?')\n",
      "0.933 ('What does the Quran say about religion?', 'What does the Prophet say about religion?')\n",
      "0.987 ('What does the Quran say about Jews?', 'What does the Prophet say about Jews?')\n",
      "0.99 ('What does the Quran say about abortion?', 'What does the Prophet say about abortion?')\n",
      "0.976 ('What does the Quran say about men?', 'What does the Prophet say about men?')\n",
      "0.969 ('What does the Quran say about Islam?', 'What does the Prophet say about Islam?')\n",
      "0.928 ('What does the Quran say about Muhammad?', 'What does the Prophet say about Muhammad?')\n",
      "0.977 ('What does the Quran say about polygamy?', 'What does the Prophet say about polygamy?')\n",
      "0.975 ('What does the Quran say about sex?', 'What does the Prophet say about sex?')\n",
      "0.88 ('What does the Quran say about God?', 'What does the Prophet say about God?')\n",
      "0.984 ('What does the Quran say about Christians?', 'What does the Prophet say about Christians?')\n",
      "0.545 ('What does the Church say about homosexuality?', 'What does the Bible say about homosexuality?')\n",
      "0.619 ('What does the Church say about homosexuality?', 'What does the Gospel say about homosexuality?')\n",
      "0.824 ('What does the Church say about women?', 'What does the Bible say about women?')\n",
      "0.83 ('What does the Church say about women?', 'What does the Pope say about women?')\n",
      "0.877 ('What does the Church say about women?', 'What does the Gospel say about women?')\n",
      "0.638 ('What does the Church say about circumcision?', 'What does the Gospel say about circumcision?')\n",
      "0.923 ('What does the Church say about Muslims?', 'What does the Pope say about Muslims?')\n",
      "0.919 ('What does the Church say about Jews?', 'What does the Pope say about Jews?')\n",
      "0.742 ('What does the Church say about abortion?', 'What does the Pope say about abortion?')\n",
      "0.565 ('What does the Church say about abortion?', 'What does the Gospel say about abortion?')\n",
      "0.524 ('What does the Church say about men?', 'What does the Bible say about men?')\n",
      "0.654 ('What does the Church say about men?', 'What does the Gospel say about men?')\n",
      "0.621 ('What does the Church say about Islam?', 'What does the Pope say about Islam?')\n",
      "0.577 ('What does the Church say about Muhammad?', 'What does the Pope say about Muhammad?')\n",
      "0.647 ('What does the Church say about polygamy?', 'What does the Gospel say about polygamy?')\n",
      "0.588 ('What does the Church say about Christians?', 'What does the Gospel say about Christians?')\n",
      "0.975 ('What does the Prophet say about homosexuality?', 'What does the Quran say about homosexuality?')\n",
      "0.93 ('What does the Prophet say about you?', 'What does the Quran say about you?')\n",
      "0.984 ('What does the Prophet say about women?', 'What does the Quran say about women?')\n",
      "0.941 ('What does the Prophet say about us?', 'What does the Quran say about us?')\n",
      "0.891 ('What does the Prophet say about circumcision?', 'What does the Quran say about circumcision?')\n",
      "0.958 ('What does the Prophet say about marriage?', 'What does the Quran say about marriage?')\n",
      "0.933 ('What does the Prophet say about Muslims?', 'What does the Quran say about Muslims?')\n",
      "0.842 ('What does the Prophet say about religion?', 'What does the Quran say about religion?')\n",
      "0.979 ('What does the Prophet say about Jews?', 'What does the Quran say about Jews?')\n",
      "0.981 ('What does the Prophet say about abortion?', 'What does the Quran say about abortion?')\n",
      "0.965 ('What does the Prophet say about men?', 'What does the Quran say about men?')\n",
      "0.759 ('What does the Prophet say about Islam?', 'What does the Quran say about Islam?')\n",
      "0.861 ('What does the Prophet say about Muhammad?', 'What does the Quran say about Muhammad?')\n",
      "0.964 ('What does the Prophet say about polygamy?', 'What does the Quran say about polygamy?')\n",
      "0.923 ('What does the Prophet say about sex?', 'What does the Quran say about sex?')\n",
      "0.96 ('What does the Prophet say about Christians?', 'What does the Quran say about Christians?')\n",
      "0.965 ('What does the Gospel say about homosexuality?', 'What does the Bible say about homosexuality?')\n",
      "0.811 ('What does the Gospel say about homosexuality?', 'What does the Church say about homosexuality?')\n",
      "0.951 ('What does the Gospel say about you?', 'What does the Bible say about you?')\n",
      "0.985 ('What does the Gospel say about women?', 'What does the Bible say about women?')\n",
      "0.885 ('What does the Gospel say about women?', 'What does the Church say about women?')\n",
      "0.756 ('What does the Gospel say about women?', 'What does the Prophet say about women?')\n",
      "0.943 ('What does the Gospel say about us?', 'What does the Bible say about us?')\n",
      "0.909 ('What does the Gospel say about circumcision?', 'What does the Bible say about circumcision?')\n",
      "0.573 ('What does the Gospel say about circumcision?', 'What does the Church say about circumcision?')\n",
      "0.924 ('What does the Gospel say about marriage?', 'What does the Bible say about marriage?')\n",
      "0.942 ('What does the Gospel say about Muslims?', 'What does the Bible say about Muslims?')\n",
      "0.6 ('What does the Gospel say about Muslims?', 'What does the Pope say about Muslims?')\n",
      "0.854 ('What does the Gospel say about religion?', 'What does the Bible say about religion?')\n",
      "0.971 ('What does the Gospel say about Jews?', 'What does the Bible say about Jews?')\n",
      "0.967 ('What does the Gospel say about abortion?', 'What does the Bible say about abortion?')\n",
      "0.589 ('What does the Gospel say about abortion?', 'What does the Pope say about abortion?')\n",
      "0.593 ('What does the Gospel say about abortion?', 'What does the Church say about abortion?')\n",
      "0.627 ('What does the Gospel say about abortion?', 'What does the Prophet say about abortion?')\n",
      "0.969 ('What does the Gospel say about men?', 'What does the Bible say about men?')\n",
      "0.614 ('What does the Gospel say about men?', 'What does the Church say about men?')\n",
      "0.747 ('What does the Gospel say about Islam?', 'What does the Bible say about Islam?')\n",
      "0.872 ('What does the Gospel say about Muhammad?', 'What does the Bible say about Muhammad?')\n",
      "0.955 ('What does the Gospel say about polygamy?', 'What does the Bible say about polygamy?')\n",
      "0.872 ('What does the Gospel say about polygamy?', 'What does the Church say about polygamy?')\n",
      "0.945 ('What does the Gospel say about sex?', 'What does the Bible say about sex?')\n",
      "0.537 ('What does the Gospel say about sex?', 'What does the Church say about sex?')\n",
      "0.889 ('What does the Gospel say about God?', 'What does the Bible say about God?')\n",
      "0.952 ('What does the Gospel say about Christians?', 'What does the Bible say about Christians?')\n",
      "0.756 ('What does the Book say about circumcision?', 'What does the Bible say about circumcision?')\n",
      "0.8 ('What does the Book say about circumcision?', 'What does the Gospel say about circumcision?')\n",
      "0.818 ('What does the Book say about Jews?', 'What does the Bible say about Jews?')\n",
      "0.699 ('What does the Book say about Jews?', 'What does the Gospel say about Jews?')\n",
      "0.761 ('What does the Book say about men?', 'What does the Bible say about men?')\n",
      "0.557 ('What does the Book say about men?', 'What does the Gospel say about men?')\n",
      "0.563 ('What does the Book say about polygamy?', 'What does the Bible say about polygamy?')\n",
      "0.532 ('What does the Book say about polygamy?', 'What does the Gospel say about polygamy?')\n",
      "0.856 ('What does the Book say about Christians?', 'What does the Bible say about Christians?')\n",
      "0.774 ('What does the Book say about Christians?', 'What does the Gospel say about Christians?')\n"
     ]
    }
   ],
   "source": [
    "for f in np.where(test.results.passed == False)[0]:\n",
    "    print(test.results.confs[f][1].round(3), test.data[f])"
   ]
  },
  {
   "cell_type": "markdown",
   "metadata": {},
   "source": [
    "### Inv, dirs"
   ]
  },
  {
   "cell_type": "code",
   "execution_count": 486,
   "metadata": {},
   "outputs": [],
   "source": [
    "spacy_map =  pickle.load(open('/home/marcotcr/tmp/processed_qqp.pkl', 'rb'))"
   ]
  },
  {
   "cell_type": "code",
   "execution_count": 488,
   "metadata": {},
   "outputs": [],
   "source": [
    "processed_qs = [spacy_map[x[0]] for x in qs] + [spacy_map[x[1]] for x in qs]"
   ]
  },
  {
   "cell_type": "code",
   "execution_count": 497,
   "metadata": {},
   "outputs": [],
   "source": [
    "processed_pairs = [(spacy_map[x[0]],spacy_map[x[1]]) for x in qs]"
   ]
  },
  {
   "cell_type": "code",
   "execution_count": null,
   "metadata": {},
   "outputs": [],
   "source": []
  },
  {
   "cell_type": "code",
   "execution_count": 532,
   "metadata": {},
   "outputs": [
    {
     "data": {
      "text/plain": [
       "{'male': ['John', 'Luke', 'Mark'], 'female': ['Mary', 'Judy', 'Julia']}"
      ]
     },
     "execution_count": 532,
     "metadata": {},
     "output_type": "execute_result"
    }
   ],
   "source": [
    "editor.lexicons"
   ]
  },
  {
   "cell_type": "code",
   "execution_count": 569,
   "metadata": {},
   "outputs": [],
   "source": [
    "def change_names(pair):\n",
    "    x0, x1 = pair\n",
    "    ents_0 = set([x[0].text for x in x0.ents if x[0].ent_type_ == 'PERSON'])\n",
    "    ents_1 = set([x[0].text for x in x1.ents if x[0].ent_type_ == 'PERSON'])\n",
    "    ret = []\n",
    "    if ents_0 and ents_0.intersection(ents_1):\n",
    "        for e in ents_0.intersection(ents_1):\n",
    "            if e == 'Quora':\n",
    "                continue\n",
    "            ret.extend([(pair[0].text.replace(e, n), pair[1].text.replace(e, n)) for n in editor.lexicons['male'] + editor.lexicons['female']])\n",
    "    if ret:\n",
    "        return ret\n",
    "# change_names(s)"
   ]
  },
  {
   "cell_type": "code",
   "execution_count": 577,
   "metadata": {},
   "outputs": [
    {
     "data": {
      "text/plain": [
       "0.1115196078431373"
      ]
     },
     "execution_count": 577,
     "metadata": {},
     "output_type": "execute_result"
    }
   ],
   "source": [
    "idxs = np.random.choice(len(processed_pairs), 100)\n",
    "sl = [processed_pairs[i] for i in idxs]\n",
    "data = Perturb.perturb(processed_pairs, change_names, keep_original=True)\n",
    "# test = Dir(data, Expect.wrap(Expect.all(Expect.pairwise_to_group(Expect.monotonic_label(1, increasing=True, tolerance=0)))) )\n",
    "test = Inv(data, threshold=0.1)\n",
    "test.run(pp, overwrite=True)\n",
    "1 - test.results.passed.mean()"
   ]
  },
  {
   "cell_type": "code",
   "execution_count": 581,
   "metadata": {},
   "outputs": [
    {
     "name": "stdout",
     "output_type": "stream",
     "text": [
      "0.01 ('If Donald Trump becomes president, will he be a worse president than George W. Bush, equally bad, slightly better, or become as popular as Reagan?', 'If elected president, would Donald Trump do more damage to the U.S. than George W. Bush did?')\n",
      "0.95 ('If Mary Trump becomes president, will he be a worse president than George W. Bush, equally bad, slightly better, or become as popular as Reagan?', 'If elected president, would Mary Trump do more damage to the U.S. than George W. Bush did?')\n",
      "0.87 ('If Judy Trump becomes president, will he be a worse president than George W. Bush, equally bad, slightly better, or become as popular as Reagan?', 'If elected president, would Judy Trump do more damage to the U.S. than George W. Bush did?')\n",
      "\n",
      "0.28 ('Who is Brian Bi and what does he do?', 'Who is Brian Bi?')\n",
      "0.86 ('Who is Luke Bi and what does he do?', 'Who is Luke Bi?')\n",
      "0.67 ('Who is John Bi and what does he do?', 'Who is John Bi?')\n",
      "\n",
      "0.42 ('How do I play Clash of Clans on Windows Phone?', 'I want to play Clash of Clans on a browser. Where can I download it?')\n",
      "0.71 ('How do I play Mary of Clans on Windows Phone?', 'I want to play Mary of Clans on a browser. Where can I download it?')\n",
      "0.19 ('How do I play Mark of Clans on Windows Phone?', 'I want to play Mark of Clans on a browser. Where can I download it?')\n",
      "\n",
      "0.76 ('Does it look like Donald Trump has a new toupee this campaign?', 'Does Donald Trump wear a toupée?')\n",
      "0.26 ('Does it look like Mark Trump has a new toupee this campaign?', 'Does Mark Trump wear a toupée?')\n",
      "0.52 ('Does it look like Julia Trump has a new toupee this campaign?', 'Does Julia Trump wear a toupée?')\n",
      "\n",
      "0.30 ('I just saw the new episode of The Big Bang Theory. Was the affair between Einstein and Marilyn Monroe true? Are there any proofs?', 'Did Einstein and Marilyn Monroe ever meet each other?')\n",
      "0.89 ('I just saw the new episode of The Big Bang Theory. Was the affair between Einstein and Luke Monroe true? Are there any proofs?', 'Did Einstein and Luke Monroe ever meet each other?')\n",
      "0.85 ('I just saw the new episode of The Big Bang Theory. Was the affair between Einstein and Mark Monroe true? Are there any proofs?', 'Did Einstein and Mark Monroe ever meet each other?')\n",
      "\n"
     ]
    }
   ],
   "source": [
    "idxs = np.where(test.results.passed == False)[0]\n",
    "for f in np.random.choice(idxs, 5):\n",
    "    dataconfs = list(zip(test.data[f], test.results.confs[f][:, 1]))\n",
    "    dataconfs[1:] = sorted(dataconfs[1:], key=lambda x: np.abs(x[1] - dataconfs[0][1]), reverse=True)\n",
    "    print('\\n'.join(['%.2f %s' % (x[1], x[0]) for x in dataconfs][:3]))\n",
    "    print()"
   ]
  },
  {
   "cell_type": "code",
   "execution_count": 582,
   "metadata": {},
   "outputs": [],
   "source": [
    "def change_name_in_one(pair):\n",
    "    x0, x1 = pair\n",
    "    ents_0 = set([x[0].text for x in x0.ents if x[0].ent_type_ == 'PERSON'])\n",
    "    ents_1 = set([x[0].text for x in x1.ents if x[0].ent_type_ == 'PERSON'])\n",
    "    ret = []\n",
    "    if ents_0 and ents_0.intersection(ents_1):\n",
    "        for e in ents_0.intersection(ents_1):\n",
    "            if e == 'Quora':\n",
    "                continue\n",
    "            ret.extend([(pair[0].text.replace(e, n), pair[1].text) for n in editor.lexicons['male'] + editor.lexicons['female']])\n",
    "            ret.extend([(pair[0].text, pair[1].text.replace(e, n)) for n in editor.lexicons['male'] + editor.lexicons['female']])\n",
    "    if ret:\n",
    "        return ret\n",
    "# change_names(s)"
   ]
  },
  {
   "cell_type": "code",
   "execution_count": 648,
   "metadata": {},
   "outputs": [],
   "source": [
    "monotonic = Expect.wrap(Expect.all(Expect.pairwise_to_group(Expect.monotonic_label(1, increasing=False, tolerance=0.1))))\n",
    "idxs = np.random.choice(len(processed_pairs), 3000)\n",
    "sl = [processed_pairs[i] for i in idxs]\n",
    "data = Perturb.perturb(processed_pairs, change_name_in_one, keep_original=True)\n",
    "test = Dir(data, monotonic) )\n",
    "test.run(pp, overwrite=True)\n",
    "test.results.passed.mean()"
   ]
  },
  {
   "cell_type": "code",
   "execution_count": 650,
   "metadata": {},
   "outputs": [],
   "source": [
    "test.set_expect(monotonic)"
   ]
  },
  {
   "cell_type": "code",
   "execution_count": 651,
   "metadata": {},
   "outputs": [
    {
     "data": {
      "text/plain": [
       "0.9225589225589226"
      ]
     },
     "execution_count": 651,
     "metadata": {},
     "output_type": "execute_result"
    }
   ],
   "source": [
    "could_fail = [i for i, x in enumerate(test.results.confs) if x[0, 1] < 0.9]\n",
    "test.results.passed[could_fail].mean()"
   ]
  },
  {
   "cell_type": "code",
   "execution_count": 652,
   "metadata": {},
   "outputs": [
    {
     "name": "stdout",
     "output_type": "stream",
     "text": [
      "0.86218 ('Is Donald Trump going to be the next US President?', 'Why should Donald Trump or Hillary Clinton be the next president of the US?')\n",
      "0.98278 ('Is Donald Trump going to be the next US President?', 'Why should Luke Trump or Hillary Clinton be the next president of the US?')\n",
      "0.95678 ('Is Donald Trump going to be the next US President?', 'Why should Mark Trump or Hillary Clinton be the next president of the US?')\n",
      "\n",
      "0.87022 ('Why is Manaphy angsty throughout in Pokemon Ranger and the Temple of the Sea?', 'Why is Manaphy annoying in Pokemon Ranger and The Temple of The Sea?')\n",
      "0.97493 ('Why is Manaphy angsty throughout in Pokemon Ranger and the Temple of the Sea?', 'Why is Manaphy annoying in Mark Ranger and The Temple of The Sea?')\n",
      "0.97234 ('Why is Manaphy angsty throughout in Pokemon Ranger and the Temple of the Sea?', 'Why is Manaphy annoying in John Ranger and The Temple of The Sea?')\n",
      "\n",
      "0.49178 ('Who will win Hillary Clinton Or Donald Trump?', 'Who would you vote for: Donald Trump or Hillary Clinton?')\n",
      "0.76536 ('Who will win Mark Clinton Or Donald Trump?', 'Who would you vote for: Donald Trump or Hillary Clinton?')\n",
      "0.66633 ('Who will win Hillary Clinton Or Donald Trump?', 'Who would you vote for: Donald Trump or Mary Clinton?')\n",
      "\n",
      "0.39857 ('Why did Mulayam Singh Yadav expel Akhilesh Yadav from Samajwadi Party? What do you think about it?', 'Why did Mulayam Singh Yadav expel Akhilesh Yadav from the Samajwadi Party for 6 years?')\n",
      "0.77342 ('Why did Mulayam Singh Yadav expel Akhilesh Yadav from Samajwadi Party? What do you think about it?', 'Why did Luke Singh Yadav expel Akhilesh Yadav from the Samajwadi Party for 6 years?')\n",
      "0.75319 ('Why did Mulayam Singh Yadav expel Akhilesh Yadav from Samajwadi Party? What do you think about it?', 'Why did Mark Singh Yadav expel Akhilesh Yadav from the Samajwadi Party for 6 years?')\n",
      "\n",
      "0.88723 ('What is more likely to happen than Donald Trump becoming president?', 'What dramatic changes will happen in the world if Donald Trump becomes president?')\n",
      "0.99731 ('What is more likely to happen than Donald Trump becoming president?', 'What dramatic changes will happen in the world if Mark Trump becomes president?')\n",
      "0.99473 ('What is more likely to happen than Donald Trump becoming president?', 'What dramatic changes will happen in the world if Luke Trump becomes president?')\n",
      "\n"
     ]
    }
   ],
   "source": [
    "idxs = np.where(test.results.passed == False)[0]\n",
    "for f in np.random.choice(idxs, 5):\n",
    "    dataconfs = list(zip(test.data[f], test.results.confs[f][:, 1]))\n",
    "    dataconfs[1:] = sorted(dataconfs[1:], key=lambda x: (x[1] - dataconfs[0][1]), reverse=True)\n",
    "    print('\\n'.join(['%.5f %s' % (x[1], x[0]) for x in dataconfs][:3]))\n",
    "    print()"
   ]
  },
  {
   "cell_type": "code",
   "execution_count": 616,
   "metadata": {},
   "outputs": [],
   "source": [
    "could_fail = [i for i, x in enumerate(test.results.preds) if x[0] == 1]\n",
    "# test.results.passed[could_fail].mean()"
   ]
  },
  {
   "cell_type": "code",
   "execution_count": 620,
   "metadata": {},
   "outputs": [],
   "source": [
    "test.labels = [0 for _ in test.data]"
   ]
  },
  {
   "cell_type": "code",
   "execution_count": 657,
   "metadata": {},
   "outputs": [
    {
     "data": {
      "text/plain": [
       "array([False,  True,  True, ..., False,  True, False])"
      ]
     },
     "execution_count": 657,
     "metadata": {},
     "output_type": "execute_result"
    }
   ],
   "source": [
    "test.results.passed"
   ]
  },
  {
   "cell_type": "code",
   "execution_count": 664,
   "metadata": {},
   "outputs": [
    {
     "data": {
      "text/plain": [
       "array([[0.02683236, 0.97316766],\n",
       "       [0.02507993, 0.97492003],\n",
       "       [0.04010293, 0.9598971 ],\n",
       "       [0.0105105 , 0.98948938],\n",
       "       [0.98023516, 0.01976482],\n",
       "       [0.95916265, 0.04083734],\n",
       "       [0.9927184 , 0.00728171],\n",
       "       [0.01190639, 0.98809355],\n",
       "       [0.00472121, 0.99527884],\n",
       "       [0.00650083, 0.99349904],\n",
       "       [0.10066198, 0.89933807],\n",
       "       [0.89147604, 0.10852402],\n",
       "       [0.75067484, 0.24932514]])"
      ]
     },
     "execution_count": 664,
     "metadata": {},
     "output_type": "execute_result"
    }
   ],
   "source": [
    "test.results.confs[0]"
   ]
  },
  {
   "cell_type": "code",
   "execution_count": 692,
   "metadata": {},
   "outputs": [
    {
     "data": {
      "text/plain": [
       "(0.6292892156862745, 0.958974358974359, 0.3274647887323944)"
      ]
     },
     "execution_count": 692,
     "metadata": {},
     "output_type": "execute_result"
    }
   ],
   "source": [
    "# TODO: ALL\n",
    "expectation = Expect.wrap(Expect.all(Expect.single_to_group(Expect.eq), ignore_first=True))\n",
    "test.set_expect(expectation)\n",
    "nondup = [i for i, x in enumerate(test.results.preds) if x[0] == 0]\n",
    "dup = [i for i, x in enumerate(test.results.preds) if x[0] == 1]\n",
    "test.results.passed.mean(), test.results.passed[nondup].mean(), test.results.passed[dup].mean()"
   ]
  },
  {
   "cell_type": "code",
   "execution_count": 682,
   "metadata": {},
   "outputs": [],
   "source": [
    "# dataconfs[0]"
   ]
  },
  {
   "cell_type": "code",
   "execution_count": 684,
   "metadata": {},
   "outputs": [
    {
     "data": {
      "text/plain": [
       "[1,\n",
       " 2,\n",
       " 4,\n",
       " 5,\n",
       " 11,\n",
       " 12,\n",
       " 17,\n",
       " 19,\n",
       " 21,\n",
       " 23,\n",
       " 26,\n",
       " 29,\n",
       " 30,\n",
       " 32,\n",
       " 33,\n",
       " 34,\n",
       " 35,\n",
       " 36,\n",
       " 40,\n",
       " 42,\n",
       " 44,\n",
       " 46,\n",
       " 47,\n",
       " 49,\n",
       " 51,\n",
       " 52,\n",
       " 53,\n",
       " 55,\n",
       " 58,\n",
       " 60,\n",
       " 61,\n",
       " 62,\n",
       " 64,\n",
       " 65,\n",
       " 67,\n",
       " 68,\n",
       " 70,\n",
       " 71,\n",
       " 73,\n",
       " 74,\n",
       " 75,\n",
       " 76,\n",
       " 77,\n",
       " 79,\n",
       " 81,\n",
       " 82,\n",
       " 83,\n",
       " 87,\n",
       " 88,\n",
       " 89,\n",
       " 90,\n",
       " 91,\n",
       " 92,\n",
       " 95,\n",
       " 99,\n",
       " 101,\n",
       " 102,\n",
       " 105,\n",
       " 106,\n",
       " 107,\n",
       " 111,\n",
       " 113,\n",
       " 114,\n",
       " 115,\n",
       " 118,\n",
       " 121,\n",
       " 126,\n",
       " 128,\n",
       " 129,\n",
       " 130,\n",
       " 137,\n",
       " 140,\n",
       " 141,\n",
       " 142,\n",
       " 143,\n",
       " 144,\n",
       " 145,\n",
       " 146,\n",
       " 147,\n",
       " 148,\n",
       " 151,\n",
       " 152,\n",
       " 153,\n",
       " 155,\n",
       " 158,\n",
       " 161,\n",
       " 162,\n",
       " 164,\n",
       " 166,\n",
       " 167,\n",
       " 168,\n",
       " 169,\n",
       " 170,\n",
       " 173,\n",
       " 174,\n",
       " 175,\n",
       " 184,\n",
       " 189,\n",
       " 190,\n",
       " 192,\n",
       " 193,\n",
       " 194,\n",
       " 196,\n",
       " 197,\n",
       " 198,\n",
       " 200,\n",
       " 202,\n",
       " 204,\n",
       " 206,\n",
       " 207,\n",
       " 208,\n",
       " 209,\n",
       " 211,\n",
       " 212,\n",
       " 218,\n",
       " 220,\n",
       " 227,\n",
       " 229,\n",
       " 232,\n",
       " 235,\n",
       " 236,\n",
       " 239,\n",
       " 241,\n",
       " 242,\n",
       " 246,\n",
       " 247,\n",
       " 248,\n",
       " 249,\n",
       " 252,\n",
       " 254,\n",
       " 256,\n",
       " 259,\n",
       " 260,\n",
       " 261,\n",
       " 262,\n",
       " 264,\n",
       " 280,\n",
       " 282,\n",
       " 283,\n",
       " 284,\n",
       " 285,\n",
       " 286,\n",
       " 288,\n",
       " 291,\n",
       " 292,\n",
       " 295,\n",
       " 299,\n",
       " 300,\n",
       " 302,\n",
       " 304,\n",
       " 309,\n",
       " 311,\n",
       " 315,\n",
       " 318,\n",
       " 320,\n",
       " 321,\n",
       " 322,\n",
       " 326,\n",
       " 327,\n",
       " 328,\n",
       " 329,\n",
       " 330,\n",
       " 331,\n",
       " 336,\n",
       " 343,\n",
       " 344,\n",
       " 347,\n",
       " 348,\n",
       " 350,\n",
       " 351,\n",
       " 352,\n",
       " 353,\n",
       " 355,\n",
       " 357,\n",
       " 358,\n",
       " 359,\n",
       " 362,\n",
       " 365,\n",
       " 366,\n",
       " 369,\n",
       " 371,\n",
       " 372,\n",
       " 377,\n",
       " 378,\n",
       " 380,\n",
       " 382,\n",
       " 383,\n",
       " 387,\n",
       " 391,\n",
       " 394,\n",
       " 396,\n",
       " 398,\n",
       " 399,\n",
       " 400,\n",
       " 406,\n",
       " 408,\n",
       " 411,\n",
       " 414,\n",
       " 415,\n",
       " 416,\n",
       " 418,\n",
       " 419,\n",
       " 420,\n",
       " 421,\n",
       " 422,\n",
       " 427,\n",
       " 428,\n",
       " 430,\n",
       " 433,\n",
       " 439,\n",
       " 440,\n",
       " 442,\n",
       " 444,\n",
       " 447,\n",
       " 448,\n",
       " 449,\n",
       " 451,\n",
       " 456,\n",
       " 457,\n",
       " 458,\n",
       " 459,\n",
       " 460,\n",
       " 461,\n",
       " 463,\n",
       " 466,\n",
       " 468,\n",
       " 469,\n",
       " 470,\n",
       " 472,\n",
       " 473,\n",
       " 475,\n",
       " 476,\n",
       " 477,\n",
       " 478,\n",
       " 483,\n",
       " 484,\n",
       " 485,\n",
       " 486,\n",
       " 489,\n",
       " 490,\n",
       " 491,\n",
       " 492,\n",
       " 497,\n",
       " 499,\n",
       " 501,\n",
       " 502,\n",
       " 504,\n",
       " 507,\n",
       " 509,\n",
       " 510,\n",
       " 513,\n",
       " 514,\n",
       " 515,\n",
       " 519,\n",
       " 521,\n",
       " 522,\n",
       " 527,\n",
       " 532,\n",
       " 534,\n",
       " 535,\n",
       " 536,\n",
       " 537,\n",
       " 540,\n",
       " 543,\n",
       " 545,\n",
       " 547,\n",
       " 548,\n",
       " 551,\n",
       " 552,\n",
       " 555,\n",
       " 558,\n",
       " 561,\n",
       " 562,\n",
       " 569,\n",
       " 571,\n",
       " 573,\n",
       " 574,\n",
       " 575,\n",
       " 577,\n",
       " 585,\n",
       " 586,\n",
       " 588,\n",
       " 589,\n",
       " 590,\n",
       " 593,\n",
       " 595,\n",
       " 597,\n",
       " 600,\n",
       " 604,\n",
       " 606,\n",
       " 607,\n",
       " 608,\n",
       " 609,\n",
       " 611,\n",
       " 616,\n",
       " 617,\n",
       " 618,\n",
       " 621,\n",
       " 624,\n",
       " 628,\n",
       " 630,\n",
       " 631,\n",
       " 632,\n",
       " 636,\n",
       " 638,\n",
       " 639,\n",
       " 641,\n",
       " 642,\n",
       " 643,\n",
       " 645,\n",
       " 646,\n",
       " 648,\n",
       " 651,\n",
       " 652,\n",
       " 655,\n",
       " 658,\n",
       " 664,\n",
       " 665,\n",
       " 669,\n",
       " 671,\n",
       " 672,\n",
       " 675,\n",
       " 677,\n",
       " 681,\n",
       " 682,\n",
       " 683,\n",
       " 684,\n",
       " 685,\n",
       " 686,\n",
       " 687,\n",
       " 689,\n",
       " 690,\n",
       " 692,\n",
       " 693,\n",
       " 694,\n",
       " 696,\n",
       " 699,\n",
       " 703,\n",
       " 706,\n",
       " 707,\n",
       " 710,\n",
       " 712,\n",
       " 713,\n",
       " 715,\n",
       " 716,\n",
       " 718,\n",
       " 719,\n",
       " 721,\n",
       " 722,\n",
       " 724,\n",
       " 727,\n",
       " 729,\n",
       " 731,\n",
       " 733,\n",
       " 734,\n",
       " 735,\n",
       " 736,\n",
       " 738,\n",
       " 739,\n",
       " 740,\n",
       " 743,\n",
       " 746,\n",
       " 747,\n",
       " 751,\n",
       " 753,\n",
       " 754,\n",
       " 755,\n",
       " 756,\n",
       " 759,\n",
       " 760,\n",
       " 762,\n",
       " 765,\n",
       " 766,\n",
       " 768,\n",
       " 769,\n",
       " 772,\n",
       " 773,\n",
       " 774,\n",
       " 777,\n",
       " 781,\n",
       " 788,\n",
       " 789,\n",
       " 791,\n",
       " 793,\n",
       " 795,\n",
       " 796,\n",
       " 799,\n",
       " 801,\n",
       " 803,\n",
       " 805,\n",
       " 806,\n",
       " 807,\n",
       " 811,\n",
       " 815,\n",
       " 820,\n",
       " 822,\n",
       " 823,\n",
       " 824,\n",
       " 825,\n",
       " 826,\n",
       " 827,\n",
       " 828,\n",
       " 829,\n",
       " 830,\n",
       " 831,\n",
       " 832,\n",
       " 834,\n",
       " 836,\n",
       " 839,\n",
       " 840,\n",
       " 844,\n",
       " 845,\n",
       " 848,\n",
       " 849,\n",
       " 856,\n",
       " 858,\n",
       " 859,\n",
       " 861,\n",
       " 864,\n",
       " 866,\n",
       " 869,\n",
       " 871,\n",
       " 872,\n",
       " 873,\n",
       " 874,\n",
       " 875,\n",
       " 879,\n",
       " 880,\n",
       " 882,\n",
       " 886,\n",
       " 887,\n",
       " 890,\n",
       " 891,\n",
       " 895,\n",
       " 896,\n",
       " 897,\n",
       " 899,\n",
       " 901,\n",
       " 902,\n",
       " 908,\n",
       " 909,\n",
       " 912,\n",
       " 913,\n",
       " 915,\n",
       " 917,\n",
       " 921,\n",
       " 922,\n",
       " 923,\n",
       " 926,\n",
       " 927,\n",
       " 928,\n",
       " 929,\n",
       " 931,\n",
       " 932,\n",
       " 934,\n",
       " 937,\n",
       " 941,\n",
       " 943,\n",
       " 949,\n",
       " 955,\n",
       " 959,\n",
       " 963,\n",
       " 969,\n",
       " 971,\n",
       " 974,\n",
       " 977,\n",
       " 978,\n",
       " 979,\n",
       " 980,\n",
       " 981,\n",
       " 982,\n",
       " 984,\n",
       " 987,\n",
       " 989,\n",
       " 990,\n",
       " 993,\n",
       " 996,\n",
       " 998,\n",
       " 1000,\n",
       " 1003,\n",
       " 1006,\n",
       " 1008,\n",
       " 1009,\n",
       " 1012,\n",
       " 1017,\n",
       " 1018,\n",
       " 1021,\n",
       " 1022,\n",
       " 1026,\n",
       " 1027,\n",
       " 1029,\n",
       " 1031,\n",
       " 1033,\n",
       " 1034,\n",
       " 1035,\n",
       " 1036,\n",
       " 1038,\n",
       " 1039,\n",
       " 1043,\n",
       " 1045,\n",
       " 1047,\n",
       " 1048,\n",
       " 1051,\n",
       " 1053,\n",
       " 1058,\n",
       " 1059,\n",
       " 1061,\n",
       " 1062,\n",
       " 1064,\n",
       " 1067,\n",
       " 1069,\n",
       " 1070,\n",
       " 1074,\n",
       " 1075,\n",
       " 1076,\n",
       " 1077,\n",
       " 1078,\n",
       " 1079,\n",
       " 1080,\n",
       " 1081,\n",
       " 1083,\n",
       " 1087,\n",
       " 1088,\n",
       " 1092,\n",
       " 1098,\n",
       " 1101,\n",
       " 1104,\n",
       " 1105,\n",
       " 1106,\n",
       " 1108,\n",
       " 1115,\n",
       " 1121,\n",
       " 1123,\n",
       " 1126,\n",
       " 1127,\n",
       " 1128,\n",
       " 1134,\n",
       " 1136,\n",
       " 1137,\n",
       " 1140,\n",
       " 1141,\n",
       " 1142,\n",
       " 1150,\n",
       " 1152,\n",
       " 1153,\n",
       " 1155,\n",
       " 1158,\n",
       " 1159,\n",
       " 1160,\n",
       " 1162,\n",
       " 1164,\n",
       " 1167,\n",
       " 1168,\n",
       " 1170,\n",
       " 1172,\n",
       " 1173,\n",
       " 1174,\n",
       " 1179,\n",
       " 1181,\n",
       " 1183,\n",
       " 1186,\n",
       " 1189,\n",
       " 1190,\n",
       " 1191,\n",
       " 1195,\n",
       " 1198,\n",
       " 1199,\n",
       " 1200,\n",
       " 1202,\n",
       " 1203,\n",
       " 1204,\n",
       " 1205,\n",
       " 1209,\n",
       " 1211,\n",
       " 1212,\n",
       " 1213,\n",
       " 1215,\n",
       " 1217,\n",
       " 1219,\n",
       " 1222,\n",
       " 1223,\n",
       " 1229,\n",
       " 1234,\n",
       " 1235,\n",
       " 1236,\n",
       " 1239,\n",
       " 1241,\n",
       " 1243,\n",
       " 1245,\n",
       " 1247,\n",
       " 1250,\n",
       " 1251,\n",
       " 1253,\n",
       " 1254,\n",
       " 1258,\n",
       " 1259,\n",
       " 1260,\n",
       " 1261,\n",
       " 1262,\n",
       " 1263,\n",
       " 1265,\n",
       " 1268,\n",
       " 1270,\n",
       " 1271,\n",
       " 1273,\n",
       " 1275,\n",
       " 1278,\n",
       " 1279,\n",
       " 1281,\n",
       " 1284,\n",
       " 1288,\n",
       " 1289,\n",
       " 1294,\n",
       " 1295,\n",
       " 1296,\n",
       " 1297,\n",
       " 1299,\n",
       " 1302,\n",
       " 1303,\n",
       " 1307,\n",
       " 1310,\n",
       " 1311,\n",
       " 1312,\n",
       " 1313,\n",
       " 1314,\n",
       " 1318,\n",
       " 1321,\n",
       " 1323,\n",
       " 1325,\n",
       " 1329,\n",
       " 1331,\n",
       " 1333,\n",
       " 1334,\n",
       " 1338,\n",
       " 1339,\n",
       " 1342,\n",
       " 1344,\n",
       " 1345,\n",
       " 1349,\n",
       " 1350,\n",
       " 1352,\n",
       " 1353,\n",
       " 1359,\n",
       " 1360,\n",
       " 1361,\n",
       " 1363,\n",
       " 1364,\n",
       " 1368,\n",
       " 1369,\n",
       " 1370,\n",
       " 1375,\n",
       " 1378,\n",
       " 1379,\n",
       " 1380,\n",
       " 1381,\n",
       " 1386,\n",
       " 1389,\n",
       " 1390,\n",
       " 1391,\n",
       " 1392,\n",
       " 1393,\n",
       " 1395,\n",
       " 1396,\n",
       " 1397,\n",
       " 1399,\n",
       " 1401,\n",
       " 1405,\n",
       " 1408,\n",
       " 1410,\n",
       " 1411,\n",
       " 1412,\n",
       " 1414,\n",
       " 1417,\n",
       " 1418,\n",
       " 1420,\n",
       " 1422,\n",
       " 1423,\n",
       " 1424,\n",
       " 1425,\n",
       " 1426,\n",
       " 1427,\n",
       " 1428,\n",
       " 1431,\n",
       " 1434,\n",
       " 1435,\n",
       " 1438,\n",
       " 1441,\n",
       " 1444,\n",
       " 1449,\n",
       " 1450,\n",
       " 1452,\n",
       " 1453,\n",
       " 1455,\n",
       " 1456,\n",
       " 1457,\n",
       " 1458,\n",
       " 1460,\n",
       " 1462,\n",
       " 1464,\n",
       " 1466,\n",
       " 1474,\n",
       " 1476,\n",
       " 1478,\n",
       " 1479,\n",
       " 1481,\n",
       " 1483,\n",
       " 1484,\n",
       " 1485,\n",
       " 1486,\n",
       " 1488,\n",
       " 1490,\n",
       " 1493,\n",
       " 1495,\n",
       " 1496,\n",
       " 1498,\n",
       " 1500,\n",
       " 1501,\n",
       " 1504,\n",
       " 1507,\n",
       " 1508,\n",
       " 1510,\n",
       " 1514,\n",
       " 1515,\n",
       " 1517,\n",
       " 1519,\n",
       " 1522,\n",
       " 1523,\n",
       " 1525,\n",
       " 1526,\n",
       " 1531,\n",
       " 1533,\n",
       " 1535,\n",
       " 1537,\n",
       " 1538,\n",
       " 1539,\n",
       " 1541,\n",
       " 1542,\n",
       " 1543,\n",
       " 1544,\n",
       " 1550,\n",
       " 1551,\n",
       " 1553,\n",
       " 1555,\n",
       " 1556,\n",
       " 1557,\n",
       " 1558,\n",
       " 1560,\n",
       " 1565,\n",
       " 1566,\n",
       " 1570,\n",
       " 1572,\n",
       " 1574,\n",
       " 1575,\n",
       " 1578,\n",
       " 1579,\n",
       " 1581,\n",
       " 1583,\n",
       " 1584,\n",
       " 1585,\n",
       " 1589,\n",
       " 1591,\n",
       " 1594,\n",
       " 1599,\n",
       " 1600,\n",
       " 1601,\n",
       " 1602,\n",
       " 1604,\n",
       " 1607,\n",
       " 1611,\n",
       " 1612,\n",
       " 1613,\n",
       " 1615,\n",
       " 1616,\n",
       " 1619,\n",
       " 1620,\n",
       " 1621,\n",
       " 1622,\n",
       " 1624,\n",
       " 1628,\n",
       " 1630]"
      ]
     },
     "execution_count": 684,
     "metadata": {},
     "output_type": "execute_result"
    }
   ],
   "source": [
    "could_fail"
   ]
  },
  {
   "cell_type": "code",
   "execution_count": 695,
   "metadata": {},
   "outputs": [
    {
     "name": "stdout",
     "output_type": "stream",
     "text": [
      "0.29917 ('What were the Jim Crow laws?', 'What were Jim Crow laws in the US? How did they get that name?')\n",
      "0.86248 ('What were the Jim Crow laws?', 'What were Mark Crow laws in the US? How did they get that name?')\n",
      "\n",
      "0.49603 ('Is Hillary Clinton a establishment politician?', 'Is Hillary Clinton a successful politician?')\n",
      "0.69593 ('Is Hillary Clinton a establishment politician?', 'Is Mark Clinton a successful politician?')\n",
      "\n",
      "0.37161 (\"What would have happened if John Lennon hadn't been shot?\", 'What if John Lennon were still alive?')\n",
      "0.98960 (\"What would have happened if John Lennon hadn't been shot?\", 'What if Luke Lennon were still alive?')\n",
      "\n",
      "0.47351 ('What do you feel about Donald Trump winning the elections?', 'How do you feel about Donald Trump winning the Republican nomination?')\n",
      "0.99046 ('What do you feel about Donald Trump winning the elections?', 'How do you feel about Mary Trump winning the Republican nomination?')\n",
      "\n",
      "0.48534 ('Why is Kangana Ranaut so overrated?', 'Do you think Kangana Ranaut is overrated?')\n",
      "0.52618 ('Why is Mary Ranaut so overrated?', 'Do you think Kangana Ranaut is overrated?')\n",
      "\n"
     ]
    }
   ],
   "source": [
    "idxs = np.where(test.results.passed == False)[0]\n",
    "idxs = [x for x in idxs if x in nondup]\n",
    "for f in np.random.choice(idxs, 5):\n",
    "    dataconfs = list(zip(test.data[f], test.results.confs[f][:, 1]))\n",
    "    dataconfs[1:] = sorted(dataconfs[1:], key=lambda x: (x[1]), reverse=True)\n",
    "    print('\\n'.join(['%.5f %s' % (x[1], x[0]) for x in dataconfs][:2]))\n",
    "    print()"
   ]
  },
  {
   "cell_type": "code",
   "execution_count": 641,
   "metadata": {},
   "outputs": [
    {
     "data": {
      "text/plain": [
       "0.4583333333333333"
      ]
     },
     "execution_count": 641,
     "metadata": {},
     "output_type": "execute_result"
    }
   ],
   "source": [
    "test.results.passed.mean()"
   ]
  },
  {
   "cell_type": "code",
   "execution_count": 639,
   "metadata": {},
   "outputs": [],
   "source": [
    "# could_fail"
   ]
  },
  {
   "cell_type": "code",
   "execution_count": 618,
   "metadata": {},
   "outputs": [],
   "source": [
    "# len(could_fail)"
   ]
  },
  {
   "cell_type": "code",
   "execution_count": 596,
   "metadata": {},
   "outputs": [],
   "source": [
    "# len(data)"
   ]
  },
  {
   "cell_type": "code",
   "execution_count": 600,
   "metadata": {},
   "outputs": [
    {
     "name": "stdout",
     "output_type": "stream",
     "text": [
      "0.00265 ('What is the Lewis structure of CH2O?', 'What is the Lewis structure of NO2Cl?')\n",
      "0.16858 ('What is the Lewis structure of CH2O?', 'What is the John structure of NO2Cl?')\n",
      "0.11668 ('What is the Lewis structure of CH2O?', 'What is the Mark structure of NO2Cl?')\n",
      "\n",
      "0.49603 ('Is Hillary Clinton a establishment politician?', 'Is Hillary Clinton a successful politician?')\n",
      "0.69593 ('Is Hillary Clinton a establishment politician?', 'Is Mark Clinton a successful politician?')\n",
      "0.41251 ('Is Hillary Clinton a establishment politician?', 'Is Julia Clinton a successful politician?')\n",
      "\n",
      "0.02236 ('What is it like to be interviewed for a job by Bill Gates?', 'How is it to be interviewed for a job by Bill Gates or Mark Zuckerberg?')\n",
      "0.12260 ('What is it like to be interviewed for a job by Mark Gates?', 'How is it to be interviewed for a job by Bill Gates or Mark Zuckerberg?')\n",
      "0.00963 ('What is it like to be interviewed for a job by Bill Gates?', 'How is it to be interviewed for a job by John Gates or Mark Zuckerberg?')\n",
      "\n",
      "0.16721 ('Did Jesus keep the sabbath?', 'When Jesus died on the cross did he do away with keeping the seventh year sabbath?')\n",
      "0.86948 ('Did Mark keep the sabbath?', 'When Jesus died on the cross did he do away with keeping the seventh year sabbath?')\n",
      "0.55401 ('Did Jesus keep the sabbath?', 'When Mary died on the cross did he do away with keeping the seventh year sabbath?')\n",
      "\n",
      "0.84438 (\"Would Hillary get women's vote just because she's a female?\", \"What percentage of Hillary Clinton's supporters has voted for her just because of her gender?\")\n",
      "0.95832 (\"Would Hillary get women's vote just because she's a female?\", \"What percentage of Mary Clinton's supporters has voted for her just because of her gender?\")\n",
      "0.95322 (\"Would Hillary get women's vote just because she's a female?\", \"What percentage of Mark Clinton's supporters has voted for her just because of her gender?\")\n",
      "\n"
     ]
    }
   ],
   "source": [
    "idxs = np.where(test.results.passed == False)[0]\n",
    "for f in np.random.choice(idxs, 5):\n",
    "    dataconfs = list(zip(test.data[f], test.results.confs[f][:, 1]))\n",
    "    dataconfs[1:] = sorted(dataconfs[1:], key=lambda x: (x[1] - dataconfs[0][1]), reverse=True)\n",
    "    print('\\n'.join(['%.5f %s' % (x[1], x[0]) for x in dataconfs][:3]))\n",
    "    print()"
   ]
  },
  {
   "cell_type": "code",
   "execution_count": 587,
   "metadata": {},
   "outputs": [
    {
     "data": {
      "text/plain": [
       "[(\"What will happen to the next Star Wars movies after Carrie Fisher's death?\",\n",
       "  \"What will Carrie Fisher's death mean for the next Star Wars movies?\"),\n",
       " (\"What will happen to the next Star Wars movies after John Fisher's death?\",\n",
       "  \"What will Carrie Fisher's death mean for the next Star Wars movies?\"),\n",
       " (\"What will happen to the next Star Wars movies after Luke Fisher's death?\",\n",
       "  \"What will Carrie Fisher's death mean for the next Star Wars movies?\"),\n",
       " (\"What will happen to the next Star Wars movies after Mark Fisher's death?\",\n",
       "  \"What will Carrie Fisher's death mean for the next Star Wars movies?\"),\n",
       " (\"What will happen to the next Star Wars movies after Mary Fisher's death?\",\n",
       "  \"What will Carrie Fisher's death mean for the next Star Wars movies?\"),\n",
       " (\"What will happen to the next Star Wars movies after Judy Fisher's death?\",\n",
       "  \"What will Carrie Fisher's death mean for the next Star Wars movies?\"),\n",
       " (\"What will happen to the next Star Wars movies after Julia Fisher's death?\",\n",
       "  \"What will Carrie Fisher's death mean for the next Star Wars movies?\"),\n",
       " (\"What will happen to the next Star Wars movies after Carrie Fisher's death?\",\n",
       "  \"What will John Fisher's death mean for the next Star Wars movies?\"),\n",
       " (\"What will happen to the next Star Wars movies after Carrie Fisher's death?\",\n",
       "  \"What will Luke Fisher's death mean for the next Star Wars movies?\"),\n",
       " (\"What will happen to the next Star Wars movies after Carrie Fisher's death?\",\n",
       "  \"What will Mark Fisher's death mean for the next Star Wars movies?\"),\n",
       " (\"What will happen to the next Star Wars movies after Carrie Fisher's death?\",\n",
       "  \"What will Mary Fisher's death mean for the next Star Wars movies?\"),\n",
       " (\"What will happen to the next Star Wars movies after Carrie Fisher's death?\",\n",
       "  \"What will Judy Fisher's death mean for the next Star Wars movies?\"),\n",
       " (\"What will happen to the next Star Wars movies after Carrie Fisher's death?\",\n",
       "  \"What will Julia Fisher's death mean for the next Star Wars movies?\")]"
      ]
     },
     "execution_count": 587,
     "metadata": {},
     "output_type": "execute_result"
    }
   ],
   "source": [
    "data[3]"
   ]
  },
  {
   "cell_type": "markdown",
   "metadata": {},
   "source": [
    "## Squad"
   ]
  },
  {
   "cell_type": "code",
   "execution_count": 696,
   "metadata": {},
   "outputs": [],
   "source": [
    "from mltests import bert_squad_model"
   ]
  },
  {
   "cell_type": "code",
   "execution_count": 697,
   "metadata": {},
   "outputs": [
    {
     "data": {
      "application/vnd.jupyter.widget-view+json": {
       "model_id": "c6489c1724f34c788de5dda90f7567e4",
       "version_major": 2,
       "version_minor": 0
      },
      "text/plain": [
       "HBox(children=(FloatProgress(value=0.0, description='Downloading', max=589.0, style=ProgressStyle(description_…"
      ]
     },
     "metadata": {},
     "output_type": "display_data"
    },
    {
     "name": "stdout",
     "output_type": "stream",
     "text": [
      "\n"
     ]
    }
   ],
   "source": [
    "model = bert_squad_model.BertSquad()"
   ]
  },
  {
   "cell_type": "code",
   "execution_count": 710,
   "metadata": {},
   "outputs": [],
   "source": [
    "# Just makes confidence=1 for every prediction\n",
    "pp = PredictorWrapper.wrap_predict(model.predict_pairs)"
   ]
  },
  {
   "cell_type": "code",
   "execution_count": 709,
   "metadata": {},
   "outputs": [
    {
     "data": {
      "application/vnd.jupyter.widget-view+json": {
       "model_id": "5c059e902ac545e7a122191028b020ae",
       "version_major": 2,
       "version_minor": 0
      },
      "text/plain": [
       "HBox(children=(FloatProgress(value=0.0, max=1.0), HTML(value='')))"
      ]
     },
     "metadata": {},
     "output_type": "display_data"
    },
    {
     "name": "stdout",
     "output_type": "stream",
     "text": [
      "\n"
     ]
    },
    {
     "data": {
      "text/plain": [
       "['Mary']"
      ]
     },
     "execution_count": 709,
     "metadata": {},
     "output_type": "execute_result"
    }
   ],
   "source": [
    "model.predict_pairs([('Who is dumb?', 'Mary is somewhat dumb. John is not so dumb.')])"
   ]
  },
  {
   "cell_type": "code",
   "execution_count": 712,
   "metadata": {},
   "outputs": [
    {
     "data": {
      "application/vnd.jupyter.widget-view+json": {
       "model_id": "",
       "version_major": 2,
       "version_minor": 0
      },
      "text/plain": [
       "HBox(children=(FloatProgress(value=0.0, max=1.0), HTML(value='')))"
      ]
     },
     "metadata": {},
     "output_type": "display_data"
    },
    {
     "name": "stdout",
     "output_type": "stream",
     "text": [
      "\n"
     ]
    },
    {
     "data": {
      "text/plain": [
       "(['Mary'], array([1.]))"
      ]
     },
     "execution_count": 712,
     "metadata": {},
     "output_type": "execute_result"
    }
   ],
   "source": [
    "pp([('Who is dumb?', 'Mary is somewhat dumb. John is not so dumb.')])"
   ]
  },
  {
   "cell_type": "code",
   "execution_count": 717,
   "metadata": {},
   "outputs": [],
   "source": [
    "c = pickle.load(open('/home/marcotcr/work/ml-tests/data/common.pkl', 'rb'))"
   ]
  },
  {
   "cell_type": "code",
   "execution_count": 718,
   "metadata": {},
   "outputs": [
    {
     "data": {
      "text/plain": [
       "dict_keys(['female_names', 'male_names', 'names', 'last_names', 'countries', 'nationalities', 'cities', 'sexuality_adjs', 'religions', 'religion_adjs', 'verbs_3ps', 'verbs_3pp', 'nouns', 'adjs'])"
      ]
     },
     "execution_count": 718,
     "metadata": {},
     "output_type": "execute_result"
    }
   ],
   "source": [
    "c.keys()"
   ]
  },
  {
   "cell_type": "code",
   "execution_count": 720,
   "metadata": {},
   "outputs": [],
   "source": [
    "editor.lexicons['male'] = c['male_names']\n",
    "editor.lexicons['female'] = c['female_names']"
   ]
  },
  {
   "cell_type": "code",
   "execution_count": 722,
   "metadata": {},
   "outputs": [],
   "source": [
    "# editor.lexicons"
   ]
  },
  {
   "cell_type": "code",
   "execution_count": 728,
   "metadata": {},
   "outputs": [
    {
     "name": "stdout",
     "output_type": "stream",
     "text": [
      "['drinking', 'smoking', 'crying', 'reading', 'writing', 'worrying', 'eating', 'driving', 'listening', 'praying', 'talking', 'working', 'trying', 'calling', 'laughing']\n"
     ]
    }
   ],
   "source": [
    "verbs = [x[0][0] for x in tg.unmask('Luke told Mary that she should probably stop <mask>.')]\n",
    "verbs = [x for x in verbs if 'ing' in x]\n",
    "print(verbs)"
   ]
  },
  {
   "cell_type": "code",
   "execution_count": 743,
   "metadata": {},
   "outputs": [],
   "source": [
    "labels = []\n",
    "data, maps = editor.template(('Who is currently {verb}?', '{male} told {female} she should probably stop {verb}'), nsamples=100, verb=verbs, return_maps=True)\n",
    "labels += [m['female'] for m in maps]\n",
    "n, maps = editor.template(('Who is currently {verb}?', '{male} told {female} he should probably stop {verb}'), nsamples=100,verb=verbs, return_maps=True)\n",
    "labels += [m['male'] for m in maps]\n",
    "data += n\n",
    "n, maps = editor.template(('Who is currently {verb}?', '{female} told {male} he should probably stop {verb}'), nsamples=100, verb=verbs, return_maps=True)\n",
    "labels += [m['male'] for m in maps]\n",
    "data += n\n",
    "n, maps = editor.template(('Who is currently {verb}?', '{female} told {male} she should probably stop {verb}'), nsamples=100, verb=verbs, return_maps=True)\n",
    "labels += [m['female'] for m in maps]\n",
    "data += n"
   ]
  },
  {
   "cell_type": "code",
   "execution_count": 758,
   "metadata": {},
   "outputs": [],
   "source": [
    "test = Mft(data, labels=labels)\n",
    "test.run(pp)\n",
    "test.results.passed.mean()"
   ]
  },
  {
   "cell_type": "code",
   "execution_count": 771,
   "metadata": {},
   "outputs": [
    {
     "name": "stdout",
     "output_type": "stream",
     "text": [
      "Henry told Cynthia she should probably stop calling\n",
      "Who is currently calling? Cynthia\n",
      "Bert: Henry told Cynthia\n",
      "\n",
      "Ryan told Sarah she should probably stop driving\n",
      "Who is currently driving? Sarah\n",
      "Bert: Ryan\n",
      "\n",
      "Jeremy told Brianna she should probably stop driving\n",
      "Who is currently driving? Brianna\n",
      "Bert: Jeremy\n",
      "\n",
      "William told Chelsea she should probably stop calling\n",
      "Who is currently calling? Chelsea\n",
      "Bert: William told Chelsea\n",
      "\n",
      "Robert told Allison she should probably stop working\n",
      "Who is currently working? Allison\n",
      "Bert: Robert\n",
      "\n",
      "Derek told Brooke she should probably stop laughing\n",
      "Who is currently laughing? Brooke\n",
      "Bert: Derek\n",
      "\n",
      "John told Shannon she should probably stop calling\n",
      "Who is currently calling? Shannon\n",
      "Bert: John\n",
      "\n",
      "Jesse told Jamie she should probably stop calling\n",
      "Who is currently calling? Jamie\n",
      "Bert: Jesse\n",
      "\n",
      "Joshua told Katherine she should probably stop talking\n",
      "Who is currently talking? Katherine\n",
      "Bert: Joshua\n",
      "\n",
      "Scott told Ella she should probably stop drinking\n",
      "Who is currently drinking? Ella\n",
      "Bert: Scott\n",
      "\n",
      "Bryan told April she should probably stop reading\n",
      "Who is currently reading? April\n",
      "Bert: Bryan\n",
      "\n",
      "Edward told Laura she should probably stop working\n",
      "Who is currently working? Laura\n",
      "Bert: Edward told Laura\n",
      "\n",
      "Mason told Kelly she should probably stop working\n",
      "Who is currently working? Kelly\n",
      "Bert: Mason\n",
      "\n",
      "Eric told Monica she should probably stop calling\n",
      "Who is currently calling? Monica\n",
      "Bert: Eric\n",
      "\n",
      "Patrick told Patricia she should probably stop laughing\n",
      "Who is currently laughing? Patricia\n",
      "Bert: Patrick\n",
      "\n",
      "Benjamin told Sara she should probably stop praying\n",
      "Who is currently praying? Sara\n",
      "Bert: Benjamin\n",
      "\n",
      "Peter told Mary she should probably stop drinking\n",
      "Who is currently drinking? Mary\n",
      "Bert: Peter\n",
      "\n",
      "Luke told Megan she should probably stop driving\n",
      "Who is currently driving? Megan\n",
      "Bert: Luke\n",
      "\n",
      "Jeremiah told Mary she should probably stop calling\n",
      "Who is currently calling? Mary\n",
      "Bert: Jeremiah\n",
      "\n",
      "Jose told Madison she should probably stop driving\n",
      "Who is currently driving? Madison\n",
      "Bert: Jose\n",
      "\n",
      "Aiden told Taylor she should probably stop reading\n",
      "Who is currently reading? Taylor\n",
      "Bert: Aiden\n",
      "\n",
      "Jesse told Alexandra she should probably stop praying\n",
      "Who is currently praying? Alexandra\n",
      "Bert: Jesse\n",
      "\n",
      "Paul told Morgan she should probably stop smoking\n",
      "Who is currently smoking? Morgan\n",
      "Bert: Paul\n",
      "\n",
      "Nathaniel told Tara she should probably stop working\n",
      "Who is currently working? Tara\n",
      "Bert: Nathaniel\n",
      "\n",
      "Derek told Leah she should probably stop smoking\n",
      "Who is currently smoking? Leah\n",
      "Bert: Derek\n",
      "\n",
      "Aaron told Chloe she should probably stop working\n",
      "Who is currently working? Chloe\n",
      "Bert: Aaron\n",
      "\n",
      "Ian told April she should probably stop talking\n",
      "Who is currently talking? April\n",
      "Bert: Ian\n",
      "\n",
      "Adrian told Leah she should probably stop working\n",
      "Who is currently working? Leah\n",
      "Bert: Adrian\n",
      "\n",
      "Zachary told Courtney she should probably stop smoking\n",
      "Who is currently smoking? Courtney\n",
      "Bert: Zachary\n",
      "\n",
      "Jayden told Tara she should probably stop talking\n",
      "Who is currently talking? Tara\n",
      "Bert: Jayden told Tara\n",
      "\n",
      "Ryan told Megan she should probably stop drinking\n",
      "Who is currently drinking? Megan\n",
      "Bert: Ryan\n",
      "\n",
      "Isaac told Kaitlyn she should probably stop praying\n",
      "Who is currently praying? Kaitlyn\n",
      "Bert: Isaac\n",
      "\n",
      "Jeremy told Holly she should probably stop trying\n",
      "Who is currently trying? Holly\n",
      "Bert: Jeremy\n",
      "\n",
      "Kevin told Abigail she should probably stop laughing\n",
      "Who is currently laughing? Abigail\n",
      "Bert: Kevin\n",
      "\n",
      "John told Alyssa she should probably stop talking\n",
      "Who is currently talking? Alyssa\n",
      "Bert: John\n",
      "\n",
      "Carlos told Crystal she should probably stop working\n",
      "Who is currently working? Crystal\n",
      "Bert: Carlos\n",
      "\n",
      "Jonathan told Kayla she should probably stop reading\n",
      "Who is currently reading? Kayla\n",
      "Bert: Jonathan\n",
      "\n",
      "Jordan told Alicia she should probably stop writing\n",
      "Who is currently writing? Alicia\n",
      "Bert: Jordan\n",
      "\n",
      "Austin told Amber she should probably stop listening\n",
      "Who is currently listening? Amber\n",
      "Bert: Austin\n",
      "\n",
      "Tyler told Anna she should probably stop writing\n",
      "Who is currently writing? Anna\n",
      "Bert: Tyler\n",
      "\n",
      "Jason told Jacqueline she should probably stop working\n",
      "Who is currently working? Jacqueline\n",
      "Bert: Jason\n",
      "\n",
      "Kyle told Jennifer she should probably stop talking\n",
      "Who is currently talking? Jennifer\n",
      "Bert: Kyle\n",
      "\n",
      "Patrick told Michelle she should probably stop eating\n",
      "Who is currently eating? Michelle\n",
      "Bert: Patrick told Michelle\n",
      "\n",
      "Nathan told Victoria she should probably stop trying\n",
      "Who is currently trying? Victoria\n",
      "Bert: Nathan\n",
      "\n",
      "Eric told Rebecca she should probably stop driving\n",
      "Who is currently driving? Rebecca\n",
      "Bert: Eric\n",
      "\n",
      "Noah told Chloe she should probably stop writing\n",
      "Who is currently writing? Chloe\n",
      "Bert: Noah\n",
      "\n",
      "Travis told Samantha she should probably stop writing\n",
      "Who is currently writing? Samantha\n",
      "Bert: Travis\n",
      "\n",
      "Daniel told Alicia she should probably stop smoking\n",
      "Who is currently smoking? Alicia\n",
      "Bert: Daniel\n",
      "\n",
      "Luis told Victoria she should probably stop smoking\n",
      "Who is currently smoking? Victoria\n",
      "Bert: Luis\n",
      "\n",
      "Liam told Chelsea she should probably stop talking\n",
      "Who is currently talking? Chelsea\n",
      "Bert: Liam\n",
      "\n",
      "Robert told Holly she should probably stop laughing\n",
      "Who is currently laughing? Holly\n",
      "Bert: Robert\n",
      "\n",
      "Connor told Jessica she should probably stop driving\n",
      "Who is currently driving? Jessica\n",
      "Bert: Connor\n",
      "\n",
      "Dylan told Madison she should probably stop praying\n",
      "Who is currently praying? Madison\n",
      "Bert: Dylan\n",
      "\n",
      "Ethan told Lisa she should probably stop calling\n",
      "Who is currently calling? Lisa\n",
      "Bert: Ethan\n",
      "\n",
      "Jayden told Allison she should probably stop driving\n",
      "Who is currently driving? Allison\n",
      "Bert: Jayden\n",
      "\n",
      "Justin told Vanessa she should probably stop calling\n",
      "Who is currently calling? Vanessa\n",
      "Bert: Justin\n",
      "\n",
      "Stephen told Ava she should probably stop listening\n",
      "Who is currently listening? Ava\n",
      "Bert: Stephen\n",
      "\n",
      "Brian told Crystal she should probably stop laughing\n",
      "Who is currently laughing? Crystal\n",
      "Bert: Brian\n",
      "\n",
      "Noah told Tracy she should probably stop drinking\n",
      "Who is currently drinking? Tracy\n",
      "Bert: Noah\n",
      "\n",
      "Charles told Morgan she should probably stop laughing\n",
      "Who is currently laughing? Morgan\n",
      "Bert: Charles\n",
      "\n",
      "Brandon told Melissa she should probably stop driving\n",
      "Who is currently driving? Melissa\n",
      "Bert: Brandon\n",
      "\n",
      "Jesus told Cynthia she should probably stop talking\n",
      "Who is currently talking? Cynthia\n",
      "Bert: Jesus\n",
      "\n",
      "David told Katie she should probably stop drinking\n",
      "Who is currently drinking? Katie\n",
      "Bert: David\n",
      "\n",
      "Nicholas told Olivia she should probably stop driving\n",
      "Who is currently driving? Olivia\n",
      "Bert: Nicholas\n",
      "\n",
      "Daniel told Julia she should probably stop smoking\n",
      "Who is currently smoking? Julia\n",
      "Bert: Daniel\n",
      "\n",
      "Jeremy told Avery she should probably stop writing\n",
      "Who is currently writing? Avery\n",
      "Bert: Jeremy\n",
      "\n",
      "Brian told Natalie she should probably stop working\n",
      "Who is currently working? Natalie\n",
      "Bert: Brian\n",
      "\n",
      "Aaron told Brittany she should probably stop talking\n",
      "Who is currently talking? Brittany\n",
      "Bert: Aaron\n",
      "\n",
      "Aaron told Ava she should probably stop reading\n",
      "Who is currently reading? Ava\n",
      "Bert: Aaron\n",
      "\n",
      "Cody told Rebecca she should probably stop listening\n",
      "Who is currently listening? Rebecca\n",
      "Bert: Cody\n",
      "\n",
      "Brandon told Destiny she should probably stop listening\n",
      "Who is currently listening? Destiny\n",
      "Bert: Brandon\n",
      "\n",
      "Samuel told Holly he should probably stop laughing\n",
      "Who is currently laughing? Samuel\n",
      "Bert: Samuel told Holly\n",
      "\n",
      "Jason told Madison he should probably stop worrying\n",
      "Who is currently worrying? Jason\n",
      "Bert: Madison\n",
      "\n",
      "Christian told Alyssa he should probably stop calling\n",
      "Who is currently calling? Christian\n",
      "Bert: Alyssa\n",
      "\n",
      "Jeremiah told Shannon he should probably stop eating\n",
      "Who is currently eating? Jeremiah\n",
      "Bert: Shannon\n",
      "\n",
      "Edward told Morgan he should probably stop worrying\n",
      "Who is currently worrying? Edward\n",
      "Bert: Morgan\n",
      "\n",
      "Chad told Stephanie he should probably stop eating\n",
      "Who is currently eating? Chad\n",
      "Bert: Stephanie\n",
      "\n",
      "Joseph told Leslie he should probably stop talking\n",
      "Who is currently talking? Joseph\n",
      "Bert: Leslie\n",
      "\n",
      "Jesus told Kristen he should probably stop talking\n",
      "Who is currently talking? Jesus\n",
      "Bert: Kristen\n",
      "\n",
      "Jack told Jacqueline he should probably stop working\n",
      "Who is currently working? Jack\n",
      "Bert: Jack told Jacqueline\n",
      "\n",
      "Justin told Tracy he should probably stop smoking\n",
      "Who is currently smoking? Justin\n",
      "Bert: Tracy\n",
      "\n",
      "Edward told Natalie he should probably stop reading\n",
      "Who is currently reading? Edward\n",
      "Bert: Natalie\n",
      "\n",
      "Lucas told Tracy he should probably stop worrying\n",
      "Who is currently worrying? Lucas\n",
      "Bert: Tracy\n",
      "\n",
      "Derek told Christine he should probably stop driving\n",
      "Who is currently driving? Derek\n",
      "Bert: Christine\n",
      "\n",
      "Andrew told Danielle he should probably stop working\n",
      "Who is currently working? Andrew\n",
      "Bert: Andrew told Danielle\n",
      "\n",
      "Noah told Natalie he should probably stop smoking\n",
      "Who is currently smoking? Noah\n",
      "Bert: Natalie\n",
      "\n",
      "Connor told Diana he should probably stop reading\n",
      "Who is currently reading? Connor\n",
      "Bert: Diana\n",
      "\n",
      "Carlos told Samantha he should probably stop crying\n",
      "Who is currently crying? Carlos\n",
      "Bert: Samantha\n",
      "\n",
      "Joshua told April he should probably stop laughing\n",
      "Who is currently laughing? Joshua\n",
      "Bert: April\n",
      "\n",
      "Caleb told Riley he should probably stop eating\n",
      "Who is currently eating? Caleb\n",
      "Bert: Riley\n",
      "\n",
      "Ryan told Kristen he should probably stop drinking\n",
      "Who is currently drinking? Ryan\n",
      "Bert: Kristen\n",
      "\n",
      "Kenneth told Andrea he should probably stop working\n",
      "Who is currently working? Kenneth\n",
      "Bert: Andrea\n",
      "\n",
      "Michael told Chelsea he should probably stop crying\n",
      "Who is currently crying? Michael\n",
      "Bert: Chelsea\n",
      "\n",
      "Jack told Hailey he should probably stop driving\n",
      "Who is currently driving? Jack\n",
      "Bert: Hailey\n",
      "\n",
      "Mark told Lisa he should probably stop drinking\n",
      "Who is currently drinking? Mark\n",
      "Bert: Lisa\n",
      "\n",
      "Jordan told Rachel he should probably stop working\n",
      "Who is currently working? Jordan\n",
      "Bert: Jordan told Rachel\n",
      "\n",
      "Sean told Erica he should probably stop listening\n",
      "Who is currently listening? Sean\n",
      "Bert: Erica\n",
      "\n",
      "Ian told Avery he should probably stop worrying\n",
      "Who is currently worrying? Ian\n",
      "Bert: Avery\n",
      "\n",
      "Joseph told Riley he should probably stop crying\n",
      "Who is currently crying? Joseph\n",
      "Bert: Riley\n",
      "\n",
      "Chad told Jamie he should probably stop eating\n",
      "Who is currently eating? Chad\n",
      "Bert: Jamie\n",
      "\n",
      "Mark told Patricia he should probably stop worrying\n",
      "Who is currently worrying? Mark\n",
      "Bert: Patricia\n",
      "\n",
      "Luke told Rachel he should probably stop eating\n",
      "Who is currently eating? Luke\n",
      "Bert: Rachel\n",
      "\n",
      "Michael told Ava he should probably stop driving\n",
      "Who is currently driving? Michael\n",
      "Bert: Ava\n",
      "\n",
      "Adrian told Anna he should probably stop drinking\n",
      "Who is currently drinking? Adrian\n",
      "Bert: Adrian told Anna\n",
      "\n",
      "John told Brooke he should probably stop praying\n",
      "Who is currently praying? John\n",
      "Bert: Brooke\n",
      "\n",
      "Christopher told Shannon he should probably stop trying\n",
      "Who is currently trying? Christopher\n",
      "Bert: Shannon\n",
      "\n",
      "Jeremiah told Jessica he should probably stop calling\n",
      "Who is currently calling? Jeremiah\n",
      "Bert: Jessica\n",
      "\n",
      "Thomas told Kaitlyn he should probably stop trying\n",
      "Who is currently trying? Thomas\n",
      "Bert: Kaitlyn\n",
      "\n",
      "Travis told Olivia he should probably stop praying\n",
      "Who is currently praying? Travis\n",
      "Bert: Olivia\n",
      "\n",
      "Patrick told Kathryn he should probably stop calling\n",
      "Who is currently calling? Patrick\n",
      "Bert: Kathryn\n",
      "\n",
      "Brian told Kelsey he should probably stop eating\n",
      "Who is currently eating? Brian\n",
      "Bert: Kelsey\n",
      "\n",
      "Joseph told Kayla he should probably stop drinking\n",
      "Who is currently drinking? Joseph\n",
      "Bert: Kayla\n",
      "\n",
      "James told Victoria he should probably stop calling\n",
      "Who is currently calling? James\n",
      "Bert: Victoria\n",
      "\n",
      "Justin told Brianna he should probably stop working\n",
      "Who is currently working? Justin\n",
      "Bert: Brianna\n",
      "\n",
      "Ian told Kristen he should probably stop smoking\n",
      "Who is currently smoking? Ian\n",
      "Bert: Kristen\n",
      "\n",
      "Adrian told Alyssa he should probably stop working\n",
      "Who is currently working? Adrian\n",
      "Bert: Alyssa\n",
      "\n",
      "Stephen told Chelsea he should probably stop working\n",
      "Who is currently working? Stephen\n",
      "Bert: Chelsea\n",
      "\n",
      "Derek told Leslie he should probably stop drinking\n",
      "Who is currently drinking? Derek\n",
      "Bert: Leslie\n",
      "\n",
      "Ethan told Sophia he should probably stop talking\n",
      "Who is currently talking? Ethan\n",
      "Bert: Sophia\n",
      "\n",
      "Richard told Alyssa he should probably stop reading\n",
      "Who is currently reading? Richard\n",
      "Bert: Alyssa\n",
      "\n",
      "Benjamin told Lisa he should probably stop reading\n",
      "Who is currently reading? Benjamin\n",
      "Bert: Benjamin told Lisa\n",
      "\n",
      "Jeremiah told Alyssa he should probably stop driving\n",
      "Who is currently driving? Jeremiah\n",
      "Bert: Alyssa\n",
      "\n",
      "Christian told Lisa he should probably stop working\n",
      "Who is currently working? Christian\n",
      "Bert: Lisa\n",
      "\n",
      "Alex told Savannah he should probably stop driving\n",
      "Who is currently driving? Alex\n",
      "Bert: Savannah\n",
      "\n",
      "Lucas told Sydney he should probably stop drinking\n",
      "Who is currently drinking? Lucas\n",
      "Bert: Sydney\n",
      "\n",
      "Lucas told Sophia he should probably stop talking\n",
      "Who is currently talking? Lucas\n",
      "Bert: Sophia\n",
      "\n",
      "Isaac told Shannon he should probably stop eating\n",
      "Who is currently eating? Isaac\n",
      "Bert: Shannon\n",
      "\n",
      "Kenneth told Sara he should probably stop reading\n",
      "Who is currently reading? Kenneth\n",
      "Bert: Sara\n",
      "\n",
      "Ethan told Christine he should probably stop crying\n",
      "Who is currently crying? Ethan\n",
      "Bert: Christine\n",
      "\n",
      "Jared told Victoria he should probably stop crying\n",
      "Who is currently crying? Jared\n",
      "Bert: Victoria\n",
      "\n",
      "Charles told Lauren he should probably stop smoking\n",
      "Who is currently smoking? Charles\n",
      "Bert: Lauren\n",
      "\n",
      "Michael told Kristin he should probably stop worrying\n",
      "Who is currently worrying? Michael\n",
      "Bert: Kristin\n",
      "\n",
      "Matthew told Courtney he should probably stop crying\n",
      "Who is currently crying? Matthew\n",
      "Bert: Courtney\n",
      "\n",
      "Stephen told Mary he should probably stop worrying\n",
      "Who is currently worrying? Stephen\n",
      "Bert: Mary\n",
      "\n",
      "Timothy told Jacqueline he should probably stop worrying\n",
      "Who is currently worrying? Timothy\n",
      "Bert: Jacqueline\n",
      "\n",
      "Luis told Angela he should probably stop crying\n",
      "Who is currently crying? Luis\n",
      "Bert: Angela\n",
      "\n",
      "Nathan told Angela he should probably stop eating\n",
      "Who is currently eating? Nathan\n",
      "Bert: Angela\n",
      "\n",
      "Elijah told Allison he should probably stop trying\n",
      "Who is currently trying? Elijah\n",
      "Bert: Allison\n",
      "\n",
      "Elijah told Lisa he should probably stop working\n",
      "Who is currently working? Elijah\n",
      "Bert: Lisa\n",
      "\n",
      "Charles told Crystal he should probably stop writing\n",
      "Who is currently writing? Charles\n",
      "Bert: Charles told Crystal\n",
      "\n",
      "Elijah told Grace he should probably stop smoking\n",
      "Who is currently smoking? Elijah\n",
      "Bert: Grace\n",
      "\n",
      "Matthew told Natalie he should probably stop eating\n",
      "Who is currently eating? Matthew\n",
      "Bert: Natalie\n",
      "\n",
      "Mark told Chelsea he should probably stop laughing\n",
      "Who is currently laughing? Mark\n",
      "Bert: Chelsea\n",
      "\n",
      "Nathaniel told Sydney he should probably stop crying\n",
      "Who is currently crying? Nathaniel\n",
      "Bert: Sydney\n",
      "\n",
      "Ryan told Diana he should probably stop drinking\n",
      "Who is currently drinking? Ryan\n",
      "Bert: Ryan told Diana\n",
      "\n",
      "Liam told Shannon he should probably stop praying\n",
      "Who is currently praying? Liam\n",
      "Bert: Shannon\n",
      "\n",
      "Aiden told Lisa he should probably stop listening\n",
      "Who is currently listening? Aiden\n",
      "Bert: Aiden told Lisa\n",
      "\n",
      "George told Christine he should probably stop smoking\n",
      "Who is currently smoking? George\n",
      "Bert: Christine\n",
      "\n",
      "Marcus told Holly he should probably stop smoking\n",
      "Who is currently smoking? Marcus\n",
      "Bert: Holly\n",
      "\n",
      "Michelle told Paul he should probably stop driving\n",
      "Who is currently driving? Paul\n",
      "Bert: Michelle\n",
      "\n",
      "Megan told George he should probably stop working\n",
      "Who is currently working? George\n",
      "Bert: Megan told George\n",
      "\n",
      "Nicole told Ryan he should probably stop drinking\n",
      "Who is currently drinking? Ryan\n",
      "Bert: Nicole\n",
      "\n",
      "Kayla told Matthew he should probably stop talking\n",
      "Who is currently talking? Matthew\n",
      "Bert: Kayla told Matthew\n",
      "\n",
      "Kathryn told Jason he should probably stop listening\n",
      "Who is currently listening? Jason\n",
      "Bert: Kathryn\n",
      "\n",
      "Diana told Brian he should probably stop calling\n",
      "Who is currently calling? Brian\n",
      "Bert: Diana\n",
      "\n",
      "Savannah told Evan he should probably stop calling\n",
      "Who is currently calling? Evan\n",
      "Bert: Savannah\n",
      "\n",
      "Amy told Hunter he should probably stop talking\n",
      "Who is currently talking? Hunter\n",
      "Bert: Amy told Hunter\n",
      "\n",
      "Monica told Jason he should probably stop listening\n",
      "Who is currently listening? Jason\n",
      "Bert: Monica\n",
      "\n",
      "Katherine told George he should probably stop calling\n",
      "Who is currently calling? George\n",
      "Bert: Katherine told George\n",
      "\n",
      "Emma told Jesus he should probably stop praying\n",
      "Who is currently praying? Jesus\n",
      "Bert: Emma\n",
      "\n",
      "Michelle told Evan he should probably stop listening\n",
      "Who is currently listening? Evan\n",
      "Bert: Michelle\n",
      "\n",
      "Morgan told Edward she should probably stop working\n",
      "Who is currently working? Morgan\n",
      "Bert: Edward\n",
      "\n",
      "Kelly told Steven she should probably stop writing\n",
      "Who is currently writing? Kelly\n",
      "Bert: Steven\n",
      "\n",
      "Sara told James she should probably stop writing\n",
      "Who is currently writing? Sara\n",
      "Bert: James\n",
      "\n",
      "Abigail told Juan she should probably stop listening\n",
      "Who is currently listening? Abigail\n",
      "Bert: Juan\n",
      "\n",
      "Julia told Isaac she should probably stop listening\n",
      "Who is currently listening? Julia\n",
      "Bert: Isaac\n",
      "\n",
      "April told Lucas she should probably stop reading\n",
      "Who is currently reading? April\n",
      "Bert: Lucas\n",
      "\n",
      "Leah told Juan she should probably stop reading\n",
      "Who is currently reading? Leah\n",
      "Bert: Juan\n",
      "\n",
      "Anna told Samuel she should probably stop worrying\n",
      "Who is currently worrying? Anna\n",
      "Bert: Samuel\n",
      "\n",
      "Brittany told Bryan she should probably stop listening\n",
      "Who is currently listening? Brittany\n",
      "Bert: Bryan\n",
      "\n",
      "Angela told Marcus she should probably stop listening\n",
      "Who is currently listening? Angela\n",
      "Bert: Marcus\n",
      "\n",
      "Destiny told Travis she should probably stop calling\n",
      "Who is currently calling? Destiny\n",
      "Bert: Travis\n",
      "\n",
      "Kelsey told Peter she should probably stop calling\n",
      "Who is currently calling? Kelsey\n",
      "Bert: Peter\n",
      "\n",
      "Sophia told Christian she should probably stop drinking\n",
      "Who is currently drinking? Sophia\n",
      "Bert: Christian\n",
      "\n",
      "Victoria told Dylan she should probably stop working\n",
      "Who is currently working? Victoria\n",
      "Bert: Dylan\n",
      "\n",
      "Ella told Mark she should probably stop eating\n",
      "Who is currently eating? Ella\n",
      "Bert: Mark\n",
      "\n",
      "Samantha told Antonio she should probably stop trying\n",
      "Who is currently trying? Samantha\n",
      "Bert: Antonio\n",
      "\n",
      "Evelyn told Derek she should probably stop praying\n",
      "Who is currently praying? Evelyn\n",
      "Bert: Derek\n",
      "\n",
      "Nicole told Jeremy she should probably stop crying\n",
      "Who is currently crying? Nicole\n",
      "Bert: Jeremy\n",
      "\n",
      "Alyssa told Peter she should probably stop calling\n",
      "Who is currently calling? Alyssa\n",
      "Bert: Peter\n",
      "\n",
      "Amy told Andrew she should probably stop praying\n",
      "Who is currently praying? Amy\n",
      "Bert: Andrew\n",
      "\n",
      "Courtney told Jacob she should probably stop driving\n",
      "Who is currently driving? Courtney\n",
      "Bert: Jacob\n",
      "\n",
      "Laura told Daniel she should probably stop calling\n",
      "Who is currently calling? Laura\n",
      "Bert: Daniel\n",
      "\n",
      "Michelle told Bradley she should probably stop writing\n",
      "Who is currently writing? Michelle\n",
      "Bert: Bradley\n",
      "\n",
      "Cynthia told James she should probably stop working\n",
      "Who is currently working? Cynthia\n",
      "Bert: James\n",
      "\n",
      "Allison told Antonio she should probably stop eating\n",
      "Who is currently eating? Allison\n",
      "Bert: Antonio\n",
      "\n",
      "Amy told Dylan she should probably stop working\n",
      "Who is currently working? Amy\n",
      "Bert: Dylan\n",
      "\n",
      "Jacqueline told Samuel she should probably stop calling\n",
      "Who is currently calling? Jacqueline\n",
      "Bert: Samuel\n",
      "\n",
      "Grace told David she should probably stop working\n",
      "Who is currently working? Grace\n",
      "Bert: David\n",
      "\n",
      "Danielle told Aiden she should probably stop worrying\n",
      "Who is currently worrying? Danielle\n",
      "Bert: Aiden\n",
      "\n",
      "Avery told Jesse she should probably stop smoking\n",
      "Who is currently smoking? Avery\n",
      "Bert: Jesse\n",
      "\n",
      "Stephanie told George she should probably stop talking\n",
      "Who is currently talking? Stephanie\n",
      "Bert: George\n",
      "\n",
      "Tiffany told William she should probably stop talking\n",
      "Who is currently talking? Tiffany\n",
      "Bert: William\n",
      "\n",
      "Emily told Travis she should probably stop drinking\n",
      "Who is currently drinking? Emily\n",
      "Bert: Travis\n",
      "\n",
      "Katherine told Christian she should probably stop calling\n",
      "Who is currently calling? Katherine\n",
      "Bert: Christian\n",
      "\n",
      "Kelsey told Steven she should probably stop reading\n",
      "Who is currently reading? Kelsey\n",
      "Bert: Steven\n",
      "\n",
      "Chelsea told Thomas she should probably stop talking\n",
      "Who is currently talking? Chelsea\n",
      "Bert: Thomas\n",
      "\n",
      "Brittany told Patrick she should probably stop writing\n",
      "Who is currently writing? Brittany\n",
      "Bert: Brittany told Patrick\n",
      "\n",
      "Morgan told John she should probably stop writing\n",
      "Who is currently writing? Morgan\n",
      "Bert: John\n",
      "\n",
      "Morgan told Richard she should probably stop drinking\n",
      "Who is currently drinking? Morgan\n",
      "Bert: Richard\n",
      "\n",
      "Heather told Brandon she should probably stop listening\n",
      "Who is currently listening? Heather\n",
      "Bert: Brandon\n",
      "\n",
      "Vanessa told Zachary she should probably stop praying\n",
      "Who is currently praying? Vanessa\n",
      "Bert: Zachary\n",
      "\n",
      "Brooke told William she should probably stop trying\n",
      "Who is currently trying? Brooke\n",
      "Bert: William\n",
      "\n",
      "Brooke told Michael she should probably stop praying\n",
      "Who is currently praying? Brooke\n",
      "Bert: Michael\n",
      "\n",
      "Kelsey told Julian she should probably stop writing\n",
      "Who is currently writing? Kelsey\n",
      "Bert: Julian\n",
      "\n",
      "Mary told Brian she should probably stop working\n",
      "Who is currently working? Mary\n",
      "Bert: Brian\n",
      "\n",
      "Tracy told Jose she should probably stop crying\n",
      "Who is currently crying? Tracy\n",
      "Bert: Jose\n",
      "\n",
      "Nicole told Gregory she should probably stop drinking\n",
      "Who is currently drinking? Nicole\n",
      "Bert: Gregory\n",
      "\n",
      "Lauren told Lucas she should probably stop listening\n",
      "Who is currently listening? Lauren\n",
      "Bert: Lucas\n",
      "\n",
      "Morgan told Connor she should probably stop reading\n",
      "Who is currently reading? Morgan\n",
      "Bert: Connor\n",
      "\n",
      "Heather told Juan she should probably stop working\n",
      "Who is currently working? Heather\n",
      "Bert: Juan\n",
      "\n",
      "Rachel told Andrew she should probably stop talking\n",
      "Who is currently talking? Rachel\n",
      "Bert: Andrew\n",
      "\n",
      "Tara told James she should probably stop calling\n",
      "Who is currently calling? Tara\n",
      "Bert: James\n",
      "\n",
      "Shannon told Jared she should probably stop talking\n",
      "Who is currently talking? Shannon\n",
      "Bert: Jared\n",
      "\n",
      "Alexandra told Derek she should probably stop praying\n",
      "Who is currently praying? Alexandra\n",
      "Bert: Derek\n",
      "\n",
      "Kathryn told Paul she should probably stop laughing\n",
      "Who is currently laughing? Kathryn\n",
      "Bert: Paul\n",
      "\n",
      "Caroline told Mark she should probably stop writing\n",
      "Who is currently writing? Caroline\n",
      "Bert: Mark\n",
      "\n",
      "Stephanie told James she should probably stop laughing\n",
      "Who is currently laughing? Stephanie\n",
      "Bert: James\n",
      "\n",
      "Kristen told Eric she should probably stop listening\n",
      "Who is currently listening? Kristen\n",
      "Bert: Eric\n",
      "\n",
      "Lindsey told Aaron she should probably stop writing\n",
      "Who is currently writing? Lindsey\n",
      "Bert: Aaron\n",
      "\n",
      "Julia told Jeffrey she should probably stop calling\n",
      "Who is currently calling? Julia\n",
      "Bert: Jeffrey\n",
      "\n",
      "Ashley told Jesse she should probably stop calling\n",
      "Who is currently calling? Ashley\n",
      "Bert: Jesse\n",
      "\n",
      "Caroline told Eric she should probably stop calling\n",
      "Who is currently calling? Caroline\n",
      "Bert: Eric\n",
      "\n",
      "Destiny told Alexander she should probably stop smoking\n",
      "Who is currently smoking? Destiny\n",
      "Bert: Alexander\n",
      "\n",
      "Julia told Jeffrey she should probably stop crying\n",
      "Who is currently crying? Julia\n",
      "Bert: Jeffrey\n",
      "\n",
      "Kristin told Angel she should probably stop crying\n",
      "Who is currently crying? Kristin\n",
      "Bert: Angel\n",
      "\n",
      "Hailey told Kyle she should probably stop eating\n",
      "Who is currently eating? Hailey\n",
      "Bert: Kyle\n",
      "\n",
      "Melissa told Justin she should probably stop listening\n",
      "Who is currently listening? Melissa\n",
      "Bert: Justin\n",
      "\n",
      "Brooke told Nathaniel she should probably stop eating\n",
      "Who is currently eating? Brooke\n",
      "Bert: Nathaniel\n",
      "\n",
      "Erin told Nathaniel she should probably stop calling\n",
      "Who is currently calling? Erin\n",
      "Bert: Nathaniel\n",
      "\n",
      "Sydney told Scott she should probably stop talking\n",
      "Who is currently talking? Sydney\n",
      "Bert: Scott\n",
      "\n",
      "April told Logan she should probably stop trying\n",
      "Who is currently trying? April\n",
      "Bert: April told Logan\n",
      "\n",
      "Hannah told Mark she should probably stop trying\n",
      "Who is currently trying? Hannah\n",
      "Bert: Mark\n",
      "\n",
      "Kristin told Jordan she should probably stop smoking\n",
      "Who is currently smoking? Kristin\n",
      "Bert: Jordan\n",
      "\n",
      "Evelyn told Eric she should probably stop working\n",
      "Who is currently working? Evelyn\n",
      "Bert: Eric\n",
      "\n",
      "Cynthia told Dustin she should probably stop driving\n",
      "Who is currently driving? Cynthia\n",
      "Bert: Dustin\n",
      "\n",
      "Chloe told Stephen she should probably stop worrying\n",
      "Who is currently worrying? Chloe\n",
      "Bert: Stephen\n",
      "\n",
      "Hailey told Brandon she should probably stop crying\n",
      "Who is currently crying? Hailey\n",
      "Bert: Brandon\n",
      "\n",
      "Hailey told Alex she should probably stop writing\n",
      "Who is currently writing? Hailey\n",
      "Bert: Alex\n",
      "\n",
      "Kaitlyn told Dustin she should probably stop listening\n",
      "Who is currently listening? Kaitlyn\n",
      "Bert: Dustin\n",
      "\n",
      "Angela told Carlos she should probably stop calling\n",
      "Who is currently calling? Angela\n",
      "Bert: Carlos\n",
      "\n",
      "Isabella told Bryan she should probably stop crying\n",
      "Who is currently crying? Isabella\n",
      "Bert: Bryan\n",
      "\n",
      "Avery told Aaron she should probably stop crying\n",
      "Who is currently crying? Avery\n",
      "Bert: Aaron\n",
      "\n",
      "Katherine told Jonathan she should probably stop driving\n",
      "Who is currently driving? Katherine\n",
      "Bert: Jonathan\n",
      "\n",
      "Nicole told Robert she should probably stop listening\n",
      "Who is currently listening? Nicole\n",
      "Bert: Robert\n",
      "\n",
      "Alyssa told Jose she should probably stop laughing\n",
      "Who is currently laughing? Alyssa\n",
      "Bert: Jose\n",
      "\n",
      "Mia told George she should probably stop worrying\n",
      "Who is currently worrying? Mia\n",
      "Bert: George\n",
      "\n",
      "Courtney told Gregory she should probably stop driving\n",
      "Who is currently driving? Courtney\n",
      "Bert: Gregory\n",
      "\n",
      "Jacqueline told Isaiah she should probably stop working\n",
      "Who is currently working? Jacqueline\n",
      "Bert: Jacqueline told Isaiah\n",
      "\n",
      "Destiny told Robert she should probably stop smoking\n",
      "Who is currently smoking? Destiny\n",
      "Bert: Robert\n",
      "\n",
      "Destiny told David she should probably stop smoking\n",
      "Who is currently smoking? Destiny\n",
      "Bert: David\n",
      "\n",
      "Anna told Patrick she should probably stop worrying\n",
      "Who is currently worrying? Anna\n",
      "Bert: Patrick\n",
      "\n",
      "Melanie told Thomas she should probably stop worrying\n",
      "Who is currently worrying? Melanie\n",
      "Bert: Melanie told Thomas\n",
      "\n"
     ]
    }
   ],
   "source": [
    "for f in np.where(test.results.passed == False)[0]:\n",
    "    print(test.data[f][1])\n",
    "    print(test.data[f][0], test.labels[f])\n",
    "    print('Bert:', test.results.preds[f])\n",
    "    print()"
   ]
  },
  {
   "cell_type": "code",
   "execution_count": 775,
   "metadata": {},
   "outputs": [],
   "source": [
    "liked = [x[0][0] for x in tg.unmask('John was told by Luke that he really likes <mask>.', beam_size=100)]"
   ]
  },
  {
   "cell_type": "code",
   "execution_count": 783,
   "metadata": {},
   "outputs": [],
   "source": [
    "labels = []\n",
    "data, maps = editor.template(('Who really likes {liked}?', '{male1} was told by {male2} that {male2} really likes {liked}.'), male1=editor.lexicons['male'], male2=editor.lexicons['male'], nsamples=100, verb=verbs, liked=liked, return_maps=True, remove_duplicates=True)\n",
    "labels += [m['male2'] for m in maps]"
   ]
  },
  {
   "cell_type": "code",
   "execution_count": 784,
   "metadata": {},
   "outputs": [
    {
     "data": {
      "application/vnd.jupyter.widget-view+json": {
       "model_id": "77bec299048748e1bff572aa3997d208",
       "version_major": 2,
       "version_minor": 0
      },
      "text/plain": [
       "HBox(children=(FloatProgress(value=0.0, max=13.0), HTML(value='')))"
      ]
     },
     "metadata": {},
     "output_type": "display_data"
    },
    {
     "name": "stdout",
     "output_type": "stream",
     "text": [
      "\n"
     ]
    },
    {
     "data": {
      "text/plain": [
       "0.5858585858585859"
      ]
     },
     "execution_count": 784,
     "metadata": {},
     "output_type": "execute_result"
    }
   ],
   "source": [
    "test = Mft(data, labels=labels)\n",
    "test.run(pp)\n",
    "test.results.passed.mean()"
   ]
  },
  {
   "cell_type": "code",
   "execution_count": 785,
   "metadata": {},
   "outputs": [
    {
     "name": "stdout",
     "output_type": "stream",
     "text": [
      "Cody was told by Aaron that Aaron really likes Sam.\n",
      "Who really likes Sam? Aaron\n",
      "Bert: Cody\n",
      "\n",
      "Carlos was told by Jesse that Jesse really likes John.\n",
      "Who really likes John? Jesse\n",
      "Bert: Jesse that Jesse\n",
      "\n",
      "Adrian was told by Marcus that Marcus really likes Sarah.\n",
      "Who really likes Sarah? Marcus\n",
      "Bert: Marcus that Marcus\n",
      "\n",
      "Jeffrey was told by Jared that Jared really likes Jason.\n",
      "Who really likes Jason? Jared\n",
      "Bert: Jeffrey\n",
      "\n",
      "Samuel was told by Lucas that Lucas really likes Ashley.\n",
      "Who really likes Ashley? Lucas\n",
      "Bert: Lucas that Lucas\n",
      "\n",
      "Jonathan was told by Cameron that Cameron really likes himself.\n",
      "Who really likes himself? Cameron\n",
      "Bert: Jonathan was told by Cameron\n",
      "\n",
      "Jackson was told by Logan that Logan really likes Jack.\n",
      "Who really likes Jack? Logan\n",
      "Bert: Jackson\n",
      "\n",
      "Lucas was told by James that James really likes Alexa.\n",
      "Who really likes Alexa? James\n",
      "Bert: Lucas\n",
      "\n",
      "Anthony was told by Dustin that Dustin really likes Lauren.\n",
      "Who really likes Lauren? Dustin\n",
      "Bert: Dustin that Dustin\n",
      "\n",
      "Luis was told by Edward that Edward really likes Zelda.\n",
      "Who really likes Zelda? Edward\n",
      "Bert: Edward that Edward\n",
      "\n",
      "Jack was told by Bryan that Bryan really likes Finn.\n",
      "Who really likes Finn? Bryan\n",
      "Bert: Jack\n",
      "\n",
      "Zachary was told by Aiden that Aiden really likes Rebecca.\n",
      "Who really likes Rebecca? Aiden\n",
      "Bert: Aiden that Aiden\n",
      "\n",
      "Michael was told by Evan that Evan really likes Kat.\n",
      "Who really likes Kat? Evan\n",
      "Bert: Evan that Evan\n",
      "\n",
      "Jared was told by Logan that Logan really likes Michael.\n",
      "Who really likes Michael? Logan\n",
      "Bert: Jared\n",
      "\n",
      "Carlos was told by Mason that Mason really likes Pokemon.\n",
      "Who really likes Pokemon? Mason\n",
      "Bert: Carlos\n",
      "\n",
      "Caleb was told by Michael that Michael really likes Lucas.\n",
      "Who really likes Lucas? Michael\n",
      "Bert: Caleb\n",
      "\n",
      "Carlos was told by Robert that Robert really likes Alexa.\n",
      "Who really likes Alexa? Robert\n",
      "Bert: Robert that Robert\n",
      "\n",
      "Cameron was told by Marcus that Marcus really likes Daniel.\n",
      "Who really likes Daniel? Marcus\n",
      "Bert: Marcus that Marcus\n",
      "\n",
      "Jose was told by Lucas that Lucas really likes Jake.\n",
      "Who really likes Jake? Lucas\n",
      "Bert: Jose\n",
      "\n",
      "Peter was told by Luis that Luis really likes Ash.\n",
      "Who really likes Ash? Luis\n",
      "Bert: Peter\n",
      "\n",
      "Carlos was told by Ian that Ian really likes them.\n",
      "Who really likes them? Ian\n",
      "Bert: Carlos\n",
      "\n",
      "Jonathan was told by Mark that Mark really likes Rebecca.\n",
      "Who really likes Rebecca? Mark\n",
      "Bert: Jonathan was told by Mark that Mark\n",
      "\n",
      "Justin was told by Elijah that Elijah really likes Rebecca.\n",
      "Who really likes Rebecca? Elijah\n",
      "Bert: Justin\n",
      "\n",
      "Shawn was told by Evan that Evan really likes Liam.\n",
      "Who really likes Liam? Evan\n",
      "Bert: Shawn\n",
      "\n",
      "Dustin was told by Jackson that Jackson really likes us.\n",
      "Who really likes us? Jackson\n",
      "Bert: Dustin\n",
      "\n",
      "Derek was told by Lucas that Lucas really likes Laura.\n",
      "Who really likes Laura? Lucas\n",
      "Bert: Lucas that Lucas\n",
      "\n",
      "Dylan was told by Evan that Evan really likes Kira.\n",
      "Who really likes Kira? Evan\n",
      "Bert: Dylan\n",
      "\n",
      "Donald was told by Jayden that Jayden really likes Mary.\n",
      "Who really likes Mary? Jayden\n",
      "Bert: Donald\n",
      "\n",
      "Richard was told by Andrew that Andrew really likes himself.\n",
      "Who really likes himself? Andrew\n",
      "Bert: Andrew that Andrew\n",
      "\n",
      "Mason was told by Angel that Angel really likes Olivia.\n",
      "Who really likes Olivia? Angel\n",
      "Bert: Mason\n",
      "\n",
      "Juan was told by Jared that Jared really likes Max.\n",
      "Who really likes Max? Jared\n",
      "Bert: Juan\n",
      "\n",
      "Hunter was told by Patrick that Patrick really likes Max.\n",
      "Who really likes Max? Patrick\n",
      "Bert: Hunter\n",
      "\n",
      "Nicholas was told by Michael that Michael really likes Jacob.\n",
      "Who really likes Jacob? Michael\n",
      "Bert: Nicholas\n",
      "\n",
      "Elijah was told by Samuel that Samuel really likes Ash.\n",
      "Who really likes Ash? Samuel\n",
      "Bert: Samuel that Samuel\n",
      "\n",
      "Cameron was told by Christian that Christian really likes Jason.\n",
      "Who really likes Jason? Christian\n",
      "Bert: Cameron\n",
      "\n",
      "Robert was told by Luis that Luis really likes Rebecca.\n",
      "Who really likes Rebecca? Luis\n",
      "Bert: Robert\n",
      "\n",
      "Connor was told by Peter that Peter really likes Laura.\n",
      "Who really likes Laura? Peter\n",
      "Bert: Connor\n",
      "\n",
      "Hunter was told by Ian that Ian really likes Eric.\n",
      "Who really likes Eric? Ian\n",
      "Bert: Hunter\n",
      "\n",
      "Jesse was told by Jackson that Jackson really likes Jade.\n",
      "Who really likes Jade? Jackson\n",
      "Bert: Jackson that Jackson\n",
      "\n",
      "Donald was told by Jeffrey that Jeffrey really likes Michael.\n",
      "Who really likes Michael? Jeffrey\n",
      "Bert: Jeffrey that Jeffrey\n",
      "\n",
      "Andrew was told by Austin that Austin really likes Chris.\n",
      "Who really likes Chris? Austin\n",
      "Bert: Andrew\n",
      "\n"
     ]
    }
   ],
   "source": [
    "for f in np.where(test.results.passed == False)[0]:\n",
    "    print(test.data[f][1])\n",
    "    print(test.data[f][0], test.labels[f])\n",
    "    print('Bert:', test.results.preds[f])\n",
    "    print()"
   ]
  },
  {
   "cell_type": "code",
   "execution_count": 714,
   "metadata": {},
   "outputs": [
    {
     "data": {
      "application/vnd.jupyter.widget-view+json": {
       "model_id": "a8fd447a24c7410dba764d78b140ac1e",
       "version_major": 2,
       "version_minor": 0
      },
      "text/plain": [
       "HBox(children=(FloatProgress(value=0.0, max=1.0), HTML(value='')))"
      ]
     },
     "metadata": {},
     "output_type": "display_data"
    },
    {
     "name": "stdout",
     "output_type": "stream",
     "text": [
      "\n"
     ]
    },
    {
     "data": {
      "text/plain": [
       "(['John'], array([1.]))"
      ]
     },
     "execution_count": 714,
     "metadata": {},
     "output_type": "execute_result"
    }
   ],
   "source": [
    "pp([('Who really likes candy?', 'John was told by Luke that he really likes candy.')])"
   ]
  },
  {
   "cell_type": "code",
   "execution_count": 713,
   "metadata": {},
   "outputs": [
    {
     "name": "stdout",
     "output_type": "stream",
     "text": [
      "['Bible', 'book', 'report', 'survey', 'poll', 'study', 'Constitution', 'data', 'bible', 'election', 'census', 'law', 'UN', 'Quran', 'evidence', 'science', 'constitution', 'Koran', 'vote', 'bill', 'film', 'Holocaust', 'research', 'Pope', 'letter', 'article', 'verdict', 'world', 'movie', 'government', 'video', 'Torah', 'song', 'moon', 'public', 'dictionary', 'president', 'referendum', 'ACA', 'eclipse', 'church', 'US', 'media', 'Church', 'pope', 'record', 'test', 'answer', 'literature', 'Prophet', 'CDC', 'FDA', 'WHO', 'scripture', 'community', 'Buddha', 'ban', 'prophet', 'statement', 'interview', 'Gospel', 'Book', 'past', 'question', 'decision']\n"
     ]
    }
   ],
   "source": [
    "print([x[0][0] for x in tg.unmask_multiple(editor.template('What does the <mask> say about {thing}?', thing=quran))])"
   ]
  },
  {
   "cell_type": "code",
   "execution_count": 786,
   "metadata": {},
   "outputs": [],
   "source": [
    "import json\n",
    "def load_squad(fold='validation'):\n",
    "    answers = []\n",
    "    data = []\n",
    "    ids = []\n",
    "    files = {\n",
    "        'validation': '/home/marcotcr/datasets/squad/dev-v1.1.json',\n",
    "        'train': '/home/marcotcr//datasets/squad/train-v1.1.json',\n",
    "        }\n",
    "    f = json.load(open(files[fold]))\n",
    "    for t in f['data']:\n",
    "        for p in t['paragraphs']:\n",
    "            context = p['context']\n",
    "            for qa in p['qas']:\n",
    "                data.append({'passage': context, 'question': qa['question'], 'id': qa['id']})\n",
    "                answers.append(set([(x['text'], x['answer_start']) for x in qa['answers']]))\n",
    "    return data, answers\n"
   ]
  },
  {
   "cell_type": "code",
   "execution_count": 787,
   "metadata": {},
   "outputs": [],
   "source": [
    "data, answers =  load_squad()"
   ]
  },
  {
   "cell_type": "code",
   "execution_count": 788,
   "metadata": {},
   "outputs": [],
   "source": [
    "pairs = [(x['question'], x['passage']) for x in data]"
   ]
  },
  {
   "cell_type": "code",
   "execution_count": 805,
   "metadata": {},
   "outputs": [
    {
     "data": {
      "text/plain": [
       "['Michael',\n",
       " 'Christopher',\n",
       " 'Matthew',\n",
       " 'David',\n",
       " 'James',\n",
       " 'John',\n",
       " 'Joshua',\n",
       " 'Daniel',\n",
       " 'Joseph',\n",
       " 'William']"
      ]
     },
     "execution_count": 805,
     "metadata": {},
     "output_type": "execute_result"
    }
   ],
   "source": [
    "editor.lexicons['male'][:10]"
   ]
  },
  {
   "cell_type": "code",
   "execution_count": 807,
   "metadata": {},
   "outputs": [],
   "source": [
    "import re"
   ]
  },
  {
   "cell_type": "code",
   "execution_count": 815,
   "metadata": {},
   "outputs": [
    {
     "data": {
      "text/plain": [
       "'Mary .Mary. Johnny Mary'"
      ]
     },
     "execution_count": 815,
     "metadata": {},
     "output_type": "execute_result"
    }
   ],
   "source": [
    "re.search(r'\\b%s\\b' % 'John', 'Johnny .')\n",
    "re.sub(r'\\b%s\\b' % 'John','Mary', 'John .John. Johnny John')"
   ]
  },
  {
   "cell_type": "code",
   "execution_count": 910,
   "metadata": {},
   "outputs": [],
   "source": [
    "def change_name(x):\n",
    "    q, c = x\n",
    "    in_p = set()\n",
    "    not_in_p = set()\n",
    "    for n in editor.lexicons['male'][:10]:\n",
    "        if re.search(r'\\b%s\\b' % n, c):\n",
    "            in_p.add(n)\n",
    "        else:\n",
    "            not_in_p.add(n)\n",
    "    if not in_p:\n",
    "        return None\n",
    "    ret = []\n",
    "    ret_add = []\n",
    "    for p in in_p:\n",
    "        for n in not_in_p:\n",
    "            ret.append((re.sub(r'\\b%s\\b' % p, n, q), re.sub(r'\\b%s\\b' % p, n, c)))\n",
    "            ret_add.append((p, n))\n",
    "    return ret[:10], ret_add[:10]\n",
    "            \n",
    "    \n",
    "    "
   ]
  },
  {
   "cell_type": "code",
   "execution_count": 835,
   "metadata": {},
   "outputs": [
    {
     "data": {
      "text/plain": [
       "['Michael',\n",
       " 'Christopher',\n",
       " 'Matthew',\n",
       " 'David',\n",
       " 'James',\n",
       " 'John',\n",
       " 'Joshua',\n",
       " 'Daniel',\n",
       " 'Joseph',\n",
       " 'William']"
      ]
     },
     "execution_count": 835,
     "metadata": {},
     "output_type": "execute_result"
    }
   ],
   "source": [
    "editor.lexicons['male'][:10]"
   ]
  },
  {
   "cell_type": "code",
   "execution_count": 837,
   "metadata": {},
   "outputs": [],
   "source": [
    "# [i for i, x in enumerate(pairs) if 'John' in x[1]]"
   ]
  },
  {
   "cell_type": "code",
   "execution_count": 869,
   "metadata": {},
   "outputs": [],
   "source": [
    "def new_eq(orig_pred, pred, orig_conf, conf, labels=None, meta=None):\n",
    "    if meta:\n",
    "        p, n = meta\n",
    "        orig_pred =  re.sub(r'\\b%s\\b' % p, n, orig_pred)\n",
    "    return pred == orig_pred\n",
    "    \n",
    "tt = Expect.wrap(Expect.all(Expect.pairwise_to_group(new_eq), ignore_first=True))"
   ]
  },
  {
   "cell_type": "code",
   "execution_count": 911,
   "metadata": {},
   "outputs": [],
   "source": [
    "data, meta = Perturb.perturb(pairs, change_name, returns_additional=True)"
   ]
  },
  {
   "cell_type": "code",
   "execution_count": 923,
   "metadata": {},
   "outputs": [],
   "source": [
    "test = Inv(data, expect=tt, meta=meta)"
   ]
  },
  {
   "cell_type": "code",
   "execution_count": 924,
   "metadata": {},
   "outputs": [
    {
     "name": "stdout",
     "output_type": "stream",
     "text": [
      "Predicting 12679 examples\n"
     ]
    },
    {
     "data": {
      "application/vnd.jupyter.widget-view+json": {
       "model_id": "0a4567f951d4427f969f563b850db02d",
       "version_major": 2,
       "version_minor": 0
      },
      "text/plain": [
       "HBox(children=(FloatProgress(value=0.0, max=1646.0), HTML(value='')))"
      ]
     },
     "metadata": {},
     "output_type": "display_data"
    },
    {
     "name": "stdout",
     "output_type": "stream",
     "text": [
      "\n"
     ]
    }
   ],
   "source": [
    "test.run(pp)"
   ]
  },
  {
   "cell_type": "code",
   "execution_count": 925,
   "metadata": {},
   "outputs": [
    {
     "data": {
      "text/plain": [
       "0.9823293172690764"
      ]
     },
     "execution_count": 925,
     "metadata": {},
     "output_type": "execute_result"
    }
   ],
   "source": [
    "test.results.passed.mean()"
   ]
  },
  {
   "cell_type": "code",
   "execution_count": 920,
   "metadata": {},
   "outputs": [],
   "source": [
    "# len(idxs)"
   ]
  },
  {
   "cell_type": "code",
   "execution_count": 926,
   "metadata": {},
   "outputs": [
    {
     "name": "stdout",
     "output_type": "stream",
     "text": [
      "Charles Avison, the leading British composer of concertos in the 18th century, was born in Newcastle upon Tyne in 1709 and died there in 1770. Basil Hume, Archbishop of Westminster, was born in the city in 1923. Vice Admiral Cuthbert Collingwood, 1st Baron Collingwood, was born in the city. Ironmaster, metallurgist, and member of parliament Isaac Lowthian Bell was born in the city in 1816. Other notable people born in or associated with Newcastle include: engineer and industrialist Lord Armstrong, engineer and father of the modern steam railways George Stephenson, his son, also an engineer, Robert Stephenson, engineer and inventor of the steam turbine Sir Charles Parsons, inventor of the incandescent light bulb Sir Joseph Swan, modernist poet Basil Bunting, and Lord Chief Justice Peter Taylor. Portuguese writer Eça de Queiroz was a diplomat in Newcastle from late 1874 until April 1879—his most productive literary period. Former Prime Minister of Thailand Abhisit Vejjajiva, was born in the city.\n",
      "\n",
      "What did Sir Charles Parsons invent?\n",
      "incandescent light bulb\n",
      "r('Joseph', 'Matthew')\n",
      "the incandescent light bulb\n",
      "r('Joseph', 'Christopher')\n",
      "the incandescent light bulb\n",
      "r('Joseph', 'Daniel')\n",
      "the incandescent light bulb\n",
      "r('Joseph', 'William')\n",
      "steam turbine\n",
      "\n",
      "\n",
      "\n",
      "It has been claimed that the transmission of the first episode was delayed by ten minutes due to extended news coverage of the assassination of US President John F. Kennedy the previous day; whereas in fact it went out after a delay of eighty seconds. The BBC believed that many viewers had missed this introduction to a new series due to the coverage of the assassination, as well as a series of power blackouts across the country, and they broadcast it again on 30 November 1963, just before episode two.\n",
      "\n",
      "What major event U.S. occurred that made the BBC delay the broadcast?\n",
      "assassination of US President John F. Kennedy\n",
      "r('John', 'Joshua')\n",
      "assassination\n",
      "r('John', 'Matthew')\n",
      "assassination\n",
      "r('John', 'William')\n",
      "assassination\n",
      "r('John', 'Christopher')\n",
      "assassination\n",
      "r('John', 'Michael')\n",
      "assassination\n",
      "r('John', 'James')\n",
      "assassination\n",
      "r('John', 'David')\n",
      "assassination\n",
      "r('John', 'Daniel')\n",
      "assassination\n",
      "r('John', 'Joseph')\n",
      "assassination\n",
      "\n",
      "\n",
      "\n",
      "Luther and his wife moved into a former monastery, \"The Black Cloister,\" a wedding present from the new elector John the Steadfast (1525–32). They embarked on what appeared to have been a happy and successful marriage, though money was often short. Between bearing six children, Hans – June 1526; Elizabeth – 10 December 1527, who died within a few months; Magdalene – 1529, who died in Luther's arms in 1542; Martin – 1531; Paul – January 1533; and Margaret – 1534; Katharina helped the couple earn a living by farming the land and taking in boarders. Luther confided to Michael Stiefel on 11 August 1526: \"My Katie is in all things so obliging and pleasing to me that I would not exchange my poverty for the riches of Croesus.\"\n",
      "\n",
      "When did Luther and his wife live?\n",
      "a former monastery, \"The Black Cloister\n",
      "r('John', 'Joseph')\n",
      "a former monastery\n",
      "\n",
      "\n",
      "\n",
      "Robert Nozick argued that government redistributes wealth by force (usually in the form of taxation), and that the ideal moral society would be one where all individuals are free from force. However, Nozick recognized that some modern economic inequalities were the result of forceful taking of property, and a certain amount of redistribution would be justified to compensate for this force but not because of the inequalities themselves. John Rawls argued in A Theory of Justice that inequalities in the distribution of wealth are only justified when they improve society as a whole, including the poorest members. Rawls does not discuss the full implications of his theory of justice. Some see Rawls's argument as a justification for capitalism since even the poorest members of society theoretically benefit from increased innovations under capitalism; others believe only a strong welfare state can satisfy Rawls's theory of justice.\n",
      "\n",
      "When are inequalities in wealth justified, according to John Rawls?\n",
      "when they improve society as a whole, including the poorest members\n",
      "r('John', 'Joshua')\n",
      "when they improve society as a whole\n",
      "r('John', 'Matthew')\n",
      "when they improve society as a whole\n",
      "r('John', 'Joseph')\n",
      "when they improve society as a whole\n",
      "\n",
      "\n",
      "\n",
      "Terra preta (black earth), which is distributed over large areas in the Amazon forest, is now widely accepted as a product of indigenous soil management. The development of this fertile soil allowed agriculture and silviculture in the previously hostile environment; meaning that large portions of the Amazon rainforest are probably the result of centuries of human management, rather than naturally occurring as has previously been supposed. In the region of the Xingu tribe, remains of some of these large settlements in the middle of the Amazon forest were found in 2003 by Michael Heckenberger and colleagues of the University of Florida. Among those were evidence of roads, bridges and large plazas.\n",
      "\n",
      "Who is credited with finding evidence of large settlements in the Amazon forest?\n",
      "Michael Heckenberger and colleagues of the University of Florida\n",
      "r('Michael', 'John')\n",
      "John Heckenberger and colleagues of the University of Florida\n",
      "r('Michael', 'Joshua')\n",
      "Joshua Heckenberger and colleagues of the University of Florida\n",
      "r('Michael', 'Matthew')\n",
      "Matthew Heckenberger and colleagues of the University of Florida\n",
      "r('Michael', 'William')\n",
      "William Heckenberger and colleagues\n",
      "r('Michael', 'Christopher')\n",
      "Christopher Heckenberger and colleagues of the University of Florida\n",
      "r('Michael', 'James')\n",
      "James Heckenberger and colleagues of the University of Florida\n",
      "r('Michael', 'David')\n",
      "David Heckenberger\n",
      "r('Michael', 'Daniel')\n",
      "Daniel Heckenberger\n",
      "r('Michael', 'Joseph')\n",
      "Joseph Heckenberger and colleagues of the University of Florida\n",
      "\n",
      "\n",
      "\n"
     ]
    }
   ],
   "source": [
    "idxs = np.where(test.results.passed == False)[0]\n",
    "for f in np.random.choice(idxs, min(5, len(idxs)), replace=False):\n",
    "    d = test.data[f]\n",
    "    print(d[0][1])\n",
    "    print()\n",
    "    print(d[0][0])\n",
    "    print(test.results.preds[f][0])\n",
    "    diffs = np.where(test.results.preds[f] != test.results.preds[f][0])[0]\n",
    "    for d in diffs:\n",
    "        print('r%s' % str(test.meta[f][d]))\n",
    "        print(test.results.preds[f][d])\n",
    "    print()\n",
    "    print()\n",
    "    print()"
   ]
  },
  {
   "cell_type": "code",
   "execution_count": null,
   "metadata": {},
   "outputs": [],
   "source": []
  },
  {
   "cell_type": "code",
   "execution_count": null,
   "metadata": {},
   "outputs": [],
   "source": []
  },
  {
   "cell_type": "code",
   "execution_count": null,
   "metadata": {},
   "outputs": [],
   "source": []
  },
  {
   "cell_type": "code",
   "execution_count": null,
   "metadata": {},
   "outputs": [],
   "source": []
  },
  {
   "cell_type": "code",
   "execution_count": null,
   "metadata": {},
   "outputs": [],
   "source": []
  },
  {
   "cell_type": "code",
   "execution_count": null,
   "metadata": {},
   "outputs": [],
   "source": []
  },
  {
   "cell_type": "code",
   "execution_count": null,
   "metadata": {},
   "outputs": [],
   "source": []
  },
  {
   "cell_type": "code",
   "execution_count": null,
   "metadata": {},
   "outputs": [],
   "source": []
  },
  {
   "cell_type": "code",
   "execution_count": 877,
   "metadata": {},
   "outputs": [
    {
     "data": {
      "text/plain": [
       "[{},\n",
       " ('John', 'Joshua'),\n",
       " ('John', 'Matthew'),\n",
       " ('John', 'William'),\n",
       " ('John', 'Christopher'),\n",
       " ('John', 'Michael'),\n",
       " ('John', 'James'),\n",
       " ('John', 'David'),\n",
       " ('John', 'Daniel'),\n",
       " ('John', 'Joseph')]"
      ]
     },
     "execution_count": 877,
     "metadata": {},
     "output_type": "execute_result"
    }
   ],
   "source": [
    "test.meta[0]"
   ]
  },
  {
   "cell_type": "code",
   "execution_count": 876,
   "metadata": {},
   "outputs": [
    {
     "data": {
      "text/plain": [
       "array(['John Fox', 'Joshua Fox', 'Matthew Fox', 'William Fox',\n",
       "       'Christopher Fox', 'Michael Fox', 'James Fox', 'David Fox',\n",
       "       'Daniel Fox', 'Joseph Fox'], dtype='<U15')"
      ]
     },
     "execution_count": 876,
     "metadata": {},
     "output_type": "execute_result"
    }
   ],
   "source": [
    "test.results.preds[0]"
   ]
  },
  {
   "cell_type": "code",
   "execution_count": 864,
   "metadata": {},
   "outputs": [],
   "source": [
    "# meta[0]"
   ]
  },
  {
   "cell_type": "code",
   "execution_count": 861,
   "metadata": {},
   "outputs": [],
   "source": [
    "# data[0]"
   ]
  },
  {
   "cell_type": "code",
   "execution_count": 865,
   "metadata": {},
   "outputs": [
    {
     "data": {
      "text/plain": [
       "<function checklist.expect.Expect.all.<locals>.expect(xs, preds, confs, labels=None, meta=None)>"
      ]
     },
     "execution_count": 865,
     "metadata": {},
     "output_type": "execute_result"
    }
   ],
   "source": []
  },
  {
   "cell_type": "code",
   "execution_count": 853,
   "metadata": {},
   "outputs": [
    {
     "data": {
      "text/plain": [
       "('John', 'Joshua')"
      ]
     },
     "execution_count": 853,
     "metadata": {},
     "output_type": "execute_result"
    }
   ],
   "source": [
    "change_name(pairs[178])[1][0]"
   ]
  },
  {
   "cell_type": "code",
   "execution_count": 802,
   "metadata": {},
   "outputs": [
    {
     "data": {
      "text/plain": [
       "671"
      ]
     },
     "execution_count": 802,
     "metadata": {},
     "output_type": "execute_result"
    }
   ],
   "source": [
    "[x for x in pairs if 'John' in x[1]]"
   ]
  },
  {
   "cell_type": "code",
   "execution_count": 521,
   "metadata": {},
   "outputs": [
    {
     "data": {
      "text/plain": [
       "How is vanilla extract made?"
      ]
     },
     "execution_count": 521,
     "metadata": {},
     "output_type": "execute_result"
    }
   ],
   "source": [
    "processed_qs[20]"
   ]
  },
  {
   "cell_type": "code",
   "execution_count": 500,
   "metadata": {},
   "outputs": [
    {
     "data": {
      "text/plain": [
       "['John', 'Luke', 'Mark']"
      ]
     },
     "execution_count": 500,
     "metadata": {},
     "output_type": "execute_result"
    }
   ],
   "source": [
    "editor.lexicons['male']"
   ]
  },
  {
   "cell_type": "code",
   "execution_count": 498,
   "metadata": {},
   "outputs": [
    {
     "data": {
      "text/plain": [
       "40430"
      ]
     },
     "execution_count": 498,
     "metadata": {},
     "output_type": "execute_result"
    }
   ],
   "source": [
    "len(processed_pairs)"
   ]
  },
  {
   "cell_type": "code",
   "execution_count": 496,
   "metadata": {},
   "outputs": [
    {
     "data": {
      "text/plain": [
       "'NORP'"
      ]
     },
     "execution_count": 496,
     "metadata": {},
     "output_type": "execute_result"
    }
   ],
   "source": [
    "processed_qs[0].ents[0][0].ent_type_"
   ]
  },
  {
   "cell_type": "code",
   "execution_count": 440,
   "metadata": {},
   "outputs": [],
   "source": [
    "# editor.template('This is {bad}',  bad=['bad', 'great', 'awesome'], return_maps=True)"
   ]
  },
  {
   "cell_type": "code",
   "execution_count": 14,
   "metadata": {},
   "outputs": [
    {
     "data": {
      "text/plain": [
       "([('This is bad', 'This is not bad'),\n",
       "  ('This is great', 'This is not great'),\n",
       "  ('This is awesome', 'This is not awesome')],\n",
       " [{'bad': 'bad'}, {'bad': 'great'}, {'bad': 'awesome'}])"
      ]
     },
     "execution_count": 14,
     "metadata": {},
     "output_type": "execute_result"
    }
   ],
   "source": [
    "\n",
    "editor.template(('This is {bad}', 'This is not {bad}'),  bad=['bad', 'great', 'awesome'], return_maps=False)"
   ]
  },
  {
   "cell_type": "code",
   "execution_count": 15,
   "metadata": {},
   "outputs": [
    {
     "data": {
      "text/plain": [
       "[{'bad': 'This is bad', 'notbad': 'This is not bad'},\n",
       " {'bad': 'This is great', 'notbad': 'This is not great'},\n",
       " {'bad': 'This is awesome', 'notbad': 'This is not awesome'}]"
      ]
     },
     "execution_count": 15,
     "metadata": {},
     "output_type": "execute_result"
    }
   ],
   "source": [
    "editor.template({\n",
    "    'bad': 'This is {bad}',\n",
    "    'notbad': 'This is not {bad}'},  bad=['bad', 'great', 'awesome'], return_maps=False)"
   ]
  },
  {
   "cell_type": "code",
   "execution_count": 57,
   "metadata": {},
   "outputs": [],
   "source": [
    "a = {'bad': 'This is {bad}',\n",
    "    'notbad': ('this is not {bad}', 'this is quite {abad}')}\n",
    "b = ({'bad': 'This is {bad}', 'notbad': 'This is not {bad}'}, 'This is quite {bad}')\n",
    "c = 'This is quite {bad}.'"
   ]
  },
  {
   "cell_type": "code",
   "execution_count": 64,
   "metadata": {},
   "outputs": [
    {
     "data": {
      "text/plain": [
       "{'male': ['John', 'Luke', 'Mark'], 'female': ['Mary', 'Judy', 'Julia']}"
      ]
     },
     "execution_count": 64,
     "metadata": {},
     "output_type": "execute_result"
    }
   ],
   "source": [
    "editor.lexicons"
   ]
  },
  {
   "cell_type": "code",
   "execution_count": 93,
   "metadata": {},
   "outputs": [
    {
     "data": {
      "text/plain": [
       "['This is terrible, John',\n",
       " 'This is bad, John',\n",
       " 'This is terrible, Luke',\n",
       " 'This is bad, Luke',\n",
       " 'This is terrible, Mark',\n",
       " 'This is bad, Mark']"
      ]
     },
     "execution_count": 93,
     "metadata": {},
     "output_type": "execute_result"
    }
   ],
   "source": [
    "editor.template('This is {bad}, {male}', bad=('terrible', 'bad'), nsamples=None)"
   ]
  }
 ],
 "metadata": {
  "kernelspec": {
   "display_name": "checklist",
   "language": "python",
   "name": "checklist"
  },
  "language_info": {
   "codemirror_mode": {
    "name": "ipython",
    "version": 3
   },
   "file_extension": ".py",
   "mimetype": "text/x-python",
   "name": "python",
   "nbconvert_exporter": "python",
   "pygments_lexer": "ipython3",
   "version": "3.6.8"
  }
 },
 "nbformat": 4,
 "nbformat_minor": 2
}
