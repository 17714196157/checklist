{
 "cells": [
  {
   "cell_type": "code",
   "execution_count": 2,
   "metadata": {},
   "outputs": [
    {
     "name": "stdout",
     "output_type": "stream",
     "text": [
      "The autoreload extension is already loaded. To reload it, use:\n",
      "  %reload_ext autoreload\n"
     ]
    }
   ],
   "source": [
    "%load_ext autoreload\n",
    "%autoreload 2"
   ]
  },
  {
   "cell_type": "code",
   "execution_count": 3,
   "metadata": {},
   "outputs": [],
   "source": [
    "import checklist\n",
    "import spacy\n",
    "import itertools"
   ]
  },
  {
   "cell_type": "code",
   "execution_count": 404,
   "metadata": {},
   "outputs": [],
   "source": [
    "import checklist.editor\n",
    "import checklist.text_generation\n",
    "from checklist.mft import Mft\n",
    "from checklist.inv_dir import Inv, Dir\n",
    "from checklist.expect import Expect"
   ]
  },
  {
   "cell_type": "code",
   "execution_count": 8,
   "metadata": {},
   "outputs": [],
   "source": [
    "\n",
    "nlp = spacy.load('en_core_web_sm')"
   ]
  },
  {
   "cell_type": "code",
   "execution_count": 9,
   "metadata": {},
   "outputs": [],
   "source": [
    "tg = checklist.text_generation.TextGenerator(nlp)"
   ]
  },
  {
   "cell_type": "code",
   "execution_count": 35,
   "metadata": {},
   "outputs": [],
   "source": [
    "from checklist.pred_wrapper import PredictorWrapper"
   ]
  },
  {
   "cell_type": "code",
   "execution_count": 161,
   "metadata": {},
   "outputs": [],
   "source": [
    "import sys\n",
    "sys.path.append('/home/marcotcr/work/ml-tests/')\n",
    "from mltests import model_wrapper\n",
    "sentiment = model_wrapper.ModelWrapper()\n",
    "pp = PredictorWrapper.wrap_softmax(sentiment.predict_proba)"
   ]
  },
  {
   "cell_type": "code",
   "execution_count": 10,
   "metadata": {},
   "outputs": [
    {
     "data": {
      "text/plain": [
       "['liked',\n",
       " 'like',\n",
       " 'enjoyed',\n",
       " 'loved',\n",
       " 'admired',\n",
       " 'love',\n",
       " 'admire',\n",
       " 'enjoy',\n",
       " 'appreciated',\n",
       " 'appreciate',\n",
       " 'respect',\n",
       " 'was',\n",
       " 'disliked',\n",
       " 'miss',\n",
       " 'respected',\n",
       " 'likes',\n",
       " 'trust',\n",
       " 'missed',\n",
       " 'hated',\n",
       " 'wanted']"
      ]
     },
     "execution_count": 10,
     "metadata": {},
     "output_type": "execute_result"
    }
   ],
   "source": [
    "# tg.unmask('I don\\'t know <mask> I am going to cope.')\n",
    "[x[0][0] for x in tg.unmask('I really <mask> the pilot.')]"
   ]
  },
  {
   "cell_type": "code",
   "execution_count": 11,
   "metadata": {},
   "outputs": [],
   "source": [
    "a = tg.unmask('I really <mask> the pilot.')\n",
    "b = tg.unmask('I really <mask> the flight.')"
   ]
  },
  {
   "cell_type": "code",
   "execution_count": 12,
   "metadata": {},
   "outputs": [],
   "source": [
    "# tg.unmask_multiple(['I really <mask> the pilot.', 'I really <mask> the flight.'], metric='min')"
   ]
  },
  {
   "cell_type": "code",
   "execution_count": 202,
   "metadata": {},
   "outputs": [],
   "source": [
    "editor = checklist.editor.Editor()\n",
    "editor.lexicons['male'] = ['John', 'Luke', \"Mark\"]\n",
    "editor.lexicons['female'] = ['Mary', 'Judy', \"Julia\"]"
   ]
  },
  {
   "cell_type": "code",
   "execution_count": 15,
   "metadata": {},
   "outputs": [],
   "source": [
    "nouns = ['flight', 'seat', 'pilot', 'staff', 'plane', 'airline', 'cabin crew', 'aircraft', 'food']\n",
    "pos = ['liked', 'enjoyed', 'loved', 'admired', 'appreciated']\n",
    "neg = ['hated', 'disliked', 'regretted']\n"
   ]
  },
  {
   "cell_type": "code",
   "execution_count": 16,
   "metadata": {},
   "outputs": [
    {
     "name": "stdout",
     "output_type": "stream",
     "text": [
      "['like', 'liked', 'love', 'enjoyed', 'loved', 'appreciate', 'enjoy', 'appreciated', 'miss', 'Like', 'missed', 'needed', 'hate', 'wanted', 'likes', 'got', 'admired', 'admire', 'hated', 'recommend']\n"
     ]
    }
   ],
   "source": [
    "ts = editor.template('I really <mask> the {n}.', n=nouns)\n",
    "print([x[0][0] for x in tg.unmask_multiple(ts, beam_size=1000)][:20])\n",
    "# tg.unmask_multiple(ts, metric='avg', beam_size=100)"
   ]
  },
  {
   "cell_type": "code",
   "execution_count": 17,
   "metadata": {},
   "outputs": [
    {
     "name": "stdout",
     "output_type": "stream",
     "text": [
      "['I', 'We', 'He', 'he', 'She', 'They', 'we', 'and', '...', 'she', 'they', 'Everyone', 'i', 'People', 'You', 'Alex', 'Everybody', 'And', 'Dad', 'John']\n"
     ]
    }
   ],
   "source": [
    "ts = editor.template('<mask> really {pn} the {n}.', n=nouns, pn=pos+neg)\n",
    "print([x[0][0] for x in tg.unmask_multiple(ts, beam_size=1000)][:20])\n",
    "# tg.unmask_multiple(ts, metric='avg', beam_size=100)"
   ]
  },
  {
   "cell_type": "code",
   "execution_count": 18,
   "metadata": {},
   "outputs": [],
   "source": [
    "subj = ['I', 'We', 'They', 'we', 'He', 'he', 'She', 'she', 'they', 'people', 'People', 'you', '']"
   ]
  },
  {
   "cell_type": "code",
   "execution_count": 19,
   "metadata": {},
   "outputs": [
    {
     "name": "stdout",
     "output_type": "stream",
     "text": [
      "['bad', 'boring', 'strange', 'cold', 'slow', 'unpleasant', 'weird', 'difficult', 'uncomfortable', 'expensive', 'rough', 'noisy', 'ugly', 'poor', 'dark', 'different', 'small', 'disappointing', 'quiet', 'rude', 'confusing', 'dull', 'sad', 'odd', 'loud', 'annoying', 'simple', 'harsh', 'short', 'unusual', 'scary', 'hard', 'nice', 'hot', 'dangerous', 'aggressive', 'heavy', 'dirty', 'conservative', 'old', 'tough', 'bland', 'low', 'cheap', 'frustrating', 'depressing', 'nasty', 'long', 'crude', 'horrible', 'stupid', 'complicated', 'funny', 'fast', 'good', 'basic', 'weak', 'wrong', 'awkward', 'terrible', 'negative', 'crowded', 'plain', 'thin', 'interesting', 'awful', 'bizarre', 'intimidating', 'cool', 'primitive', 'unstable', 'flat', 'narrow', 'stressful', 'stiff', 'empty', 'chaotic', 'light', 'irritating', 'big', 'unfair', 'sick', 'similar', 'angry', 'mean', 'predictable', 'easy', 'offensive', 'foreign', 'violent', 'tight', 'comfortable', 'busy', 'challenging', 'arrogant', 'disgusting', 'inefficient', 'creepy', 'tense', 'disturbing']\n"
     ]
    }
   ],
   "source": [
    "ts = editor.template('I didn\\'t like the {n}, it was very <mask>.', n=nouns)\n",
    "print([x[0][0] for x in tg.unmask_multiple(ts, beam_size=1000, metric='avg')][:100])\n",
    "# tg.unmask_multiple(ts, metric='avg', beam_size=100)"
   ]
  },
  {
   "cell_type": "code",
   "execution_count": 20,
   "metadata": {},
   "outputs": [],
   "source": [
    "pos_adj = ['good', 'nice', 'helpful', 'comfortable', 'cool', 'efficient', 'pleasant', 'interesting', 'impressive', 'welcoming', 'professional', 'beautiful', 'exciting', 'positive', 'solid', 'amazing', 'wonderful', 'lovely']\n",
    "neg_adj = ['bad', 'boring', 'unpleasant', 'difficult', 'uncomfortable', 'ugly', 'poor', 'disappointing', 'sad', 'annoying', 'dirty', 'frustrating', 'depressing', 'nasty', 'horrible', 'stupid', 'negative', 'awful', 'stressful', 'irritating', 'disgusting']"
   ]
  },
  {
   "cell_type": "code",
   "execution_count": 21,
   "metadata": {},
   "outputs": [],
   "source": [
    "pos_eg = editor.template('{sub}{really} {p} the {n}.', sub=subj, really=[' really', ''], n=nouns, p=pos)\n",
    "pos_eg += editor.template('The {n} was{very} {p}.', sub=subj, very=[' very', ''], n=nouns, p=pos_adj)\n",
    "neg_eg = editor.template('{sub}{really} {p} the {n}.', sub=subj, really=[' really', ''], n=nouns, p=neg)\n",
    "neg_eg += editor.template('The {n} was{very} {p}.', sub=subj, very=[' very', ''], n=nouns, p=neg_adj)"
   ]
  },
  {
   "cell_type": "code",
   "execution_count": 185,
   "metadata": {},
   "outputs": [
    {
     "data": {
      "text/plain": [
       "(1494, 1080)"
      ]
     },
     "execution_count": 185,
     "metadata": {},
     "output_type": "execute_result"
    }
   ],
   "source": [
    "len(pos_eg), len(neg_eg)"
   ]
  },
  {
   "cell_type": "code",
   "execution_count": 255,
   "metadata": {},
   "outputs": [],
   "source": [
    "test_pos = Mft(pos_eg, labels=1)\n",
    "test_neg = Mft(neg_eg, labels=0)"
   ]
  },
  {
   "cell_type": "code",
   "execution_count": 187,
   "metadata": {},
   "outputs": [],
   "source": [
    "test_pos.run(pp)\n",
    "test_neg.run(pp)"
   ]
  },
  {
   "cell_type": "code",
   "execution_count": 190,
   "metadata": {},
   "outputs": [
    {
     "data": {
      "text/plain": [
       "(1.0, 0.9833333333333333)"
      ]
     },
     "execution_count": 190,
     "metadata": {},
     "output_type": "execute_result"
    }
   ],
   "source": [
    "test_pos.results.passed.mean(), test_neg.results.passed.mean()"
   ]
  },
  {
   "cell_type": "code",
   "execution_count": 199,
   "metadata": {},
   "outputs": [
    {
     "name": "stdout",
     "output_type": "stream",
     "text": [
      "0.999 The flight was very stressful.\n",
      "0.995 The seat was very stressful.\n",
      "0.999 The pilot was very stressful.\n",
      "1.0 The staff was very stressful.\n",
      "0.999 The plane was very stressful.\n",
      "0.998 The airline was very stressful.\n",
      "0.998 The cabin crew was very stressful.\n",
      "0.999 The aircraft was very stressful.\n",
      "0.999 The food was very stressful.\n",
      "0.999 The flight was stressful.\n",
      "0.963 The seat was stressful.\n",
      "0.997 The pilot was stressful.\n",
      "0.999 The staff was stressful.\n",
      "0.999 The plane was stressful.\n",
      "0.97 The airline was stressful.\n",
      "0.994 The cabin crew was stressful.\n",
      "0.998 The aircraft was stressful.\n",
      "0.997 The food was stressful.\n"
     ]
    }
   ],
   "source": [
    "for f in np.where(test.results.passed == False)[0]:\n",
    "    print(test.results.confs[f][1].round(3), test.data[f])"
   ]
  },
  {
   "cell_type": "markdown",
   "metadata": {},
   "source": [
    "## Inv, dir"
   ]
  },
  {
   "cell_type": "code",
   "execution_count": 200,
   "metadata": {},
   "outputs": [],
   "source": [
    "import csv\n",
    "r = csv.DictReader(open('/home/marcotcr/datasets/airline/Tweets.csv'))\n",
    "labels = []\n",
    "confs = []\n",
    "airlines = []\n",
    "tdata = []\n",
    "reasons = []\n",
    "for row in r:\n",
    "    sentiment, conf, airline, text = row['airline_sentiment'], row['airline_sentiment_confidence'], row['airline'], row['text']\n",
    "    labels.append(sentiment)\n",
    "    confs.append(conf)\n",
    "    airlines.append(airline)\n",
    "    tdata.append(text)\n",
    "    reasons.append(row['negativereason'])\n",
    "\n",
    "mapping = {'negative': 0, 'positive': 2, 'neutral': 1}\n",
    "labels = np.array([mapping[x] for x in labels]).astype(int)"
   ]
  },
  {
   "cell_type": "code",
   "execution_count": 201,
   "metadata": {},
   "outputs": [],
   "source": [
    "sentences = tdata\n",
    "parsed_data = list(nlp.pipe(sentences))"
   ]
  },
  {
   "cell_type": "code",
   "execution_count": 240,
   "metadata": {},
   "outputs": [],
   "source": [
    "def add_typo(string):\n",
    "    string = list(string)\n",
    "    swaps = 1\n",
    "    swaps = np.random.choice(len(string) - 1, swaps)\n",
    "    for swap in swaps:\n",
    "        swap = np.random.choice(len(string) - 1)\n",
    "        tmp = string[swap]\n",
    "        string[swap] = string[swap + 1]\n",
    "        string[swap + 1] = tmp\n",
    "    return ''.join(string)\n",
    "\n",
    "def add_typos(string):\n",
    "    return list(set([add_typo(string) for _ in range(10)]))\n"
   ]
  },
  {
   "cell_type": "code",
   "execution_count": 233,
   "metadata": {},
   "outputs": [],
   "source": [
    "from checklist.perturb import Perturb"
   ]
  },
  {
   "cell_type": "code",
   "execution_count": 400,
   "metadata": {},
   "outputs": [],
   "source": [
    "data = Perturb.perturb(np.random.choice(sentences, 100), add_typos, keep_original=True)"
   ]
  },
  {
   "cell_type": "code",
   "execution_count": 401,
   "metadata": {},
   "outputs": [],
   "source": [
    "test = Inv(data, threshold=0.1)\n",
    "test.run(pp, overwrite=True)"
   ]
  },
  {
   "cell_type": "code",
   "execution_count": 402,
   "metadata": {},
   "outputs": [
    {
     "data": {
      "text/plain": [
       "0.77"
      ]
     },
     "execution_count": 402,
     "metadata": {},
     "output_type": "execute_result"
    }
   ],
   "source": [
    "test.results.passed.mean()"
   ]
  },
  {
   "cell_type": "code",
   "execution_count": 403,
   "metadata": {},
   "outputs": [
    {
     "name": "stdout",
     "output_type": "stream",
     "text": [
      "0.01 @USAirways I hope flight 1855 is not being delayed because flight attendant didn't come to work! #nobackup\n",
      "0.96 @USAirways Ih ope flight 1855 is not being delayed because flight attendant didn't come to work! #nobackup\n",
      "0.00 @USAirways I hope flight 1855 is not beingd elayed because flight attendant didn't come to work! #nobackup\n",
      "\n",
      "0.01 @JetBlue's CEO battles to appease passengers and Wall Street - Waterbury Republican American http://t.co/Of7PFvQpOY\n",
      "0.95 @JetBlue's CEOb attles to appease passengers and Wall Street - Waterbury Republican American http://t.co/Of7PFvQpOY\n",
      "0.91 @JetBlue's CEO battlest o appease passengers and Wall Street - Waterbury Republican American http://t.co/Of7PFvQpOY\n",
      "\n",
      "0.95 @JetBlue ETA for flight 802 into Orlando this morning\n",
      "0.04 @JetBlue ETA for flight 802 into Orlando this mornnig\n",
      "0.29 @eJtBlue ETA for flight 802 into Orlando this morning\n",
      "\n",
      "0.27 @united I think you should board from the back of the plane #whatstheholdup #CHItoCLE\n",
      "0.92 @united I think you should board from the back of the plane w#hatstheholdup #CHItoCLE\n",
      "0.58 @united I think you should board from theb ack of the plane #whatstheholdup #CHItoCLE\n",
      "\n",
      "1.00 @USAirways your saving grace was our flight attendant Dallas who was amazing. wish he would transfer to Delta where I would see him again\n",
      "0.01 @USAirways your saving grace was our flight attendant Dallas who was amzaing. wish he would transfer to Delta where I would see him again\n",
      "0.01 @USAirways your saving grace was our flight attendant Dallas who wa samazing. wish he would transfer to Delta where I would see him again\n",
      "\n"
     ]
    }
   ],
   "source": [
    "for f in np.where(test.results.passed == False)[0][:5]:\n",
    "    dataconfs = list(zip(test.data[f], test.results.confs[f][:, 1]))\n",
    "    dataconfs[1:] = sorted(dataconfs[1:], key=lambda x: np.abs(x[1] - dataconfs[0][1]), reverse=True)\n",
    "    print('\\n'.join(['%.2f %s' % (x[1], x[0]) for x in dataconfs][:3]))\n",
    "    print()"
   ]
  },
  {
   "cell_type": "code",
   "execution_count": 399,
   "metadata": {},
   "outputs": [],
   "source": [
    "data = Perturb.perturb(np.random.choice(sentences, 1000), add_typo, keep_original=True)\n",
    "test = Inv(data, threshold=0.1)\n",
    "test.run(pp, overwrite=True)"
   ]
  },
  {
   "cell_type": "code",
   "execution_count": 395,
   "metadata": {},
   "outputs": [
    {
     "data": {
      "text/plain": [
       "0.954"
      ]
     },
     "execution_count": 395,
     "metadata": {},
     "output_type": "execute_result"
    }
   ],
   "source": [
    "test.results.passed.mean()"
   ]
  },
  {
   "cell_type": "code",
   "execution_count": 396,
   "metadata": {},
   "outputs": [
    {
     "name": "stdout",
     "output_type": "stream",
     "text": [
      "0.42 @AmericanAir it wasn't ' disrupted' it was Cancelled Flightled. Airport agents were horrendous. Sharon was your saviour\n",
      "0.99 @AmericanAir it wasn't ' disrupted' it was Cancelled Flightled. Airport agents were horrenduos. Sharon was your saviour\n",
      "\n",
      "0.80 @JetBlue gr8 #Mint crew on #flight 123 to #LAX they're #Mintalicious #TrueBlueLove #ShelleyandMarcRock #travel #air\n",
      "0.20 @JetBlue gr8 #Mint crew on #flight 123 to #LAX theyr'e #Mintalicious #TrueBlueLove #ShelleyandMarcRock #travel #air\n",
      "\n",
      "0.16 Need more info on that! @united: @momsgoodeats We have great amenity kits. PJ's not included. We status match AA. ^KP”\n",
      "0.85 Need more info on that! @united: @momsgoodeats We have great amenity kits. P'Js not included. We status match AA. ^KP”\n",
      "\n",
      "0.08 @AmericanAir can you guys help me please?\n",
      "0.78 @AmericanAir can you guys help em please?\n",
      "\n",
      "0.10 @USAirways I finally got through on the phone after a 2 hour wait time.\n",
      "0.55 @USAirways I finally got through on th ephone after a 2 hour wait time.\n",
      "\n"
     ]
    }
   ],
   "source": [
    "for f in np.where(test.results.passed == False)[0][:5]:\n",
    "    dataconfs = list(zip(test.data[f], test.results.confs[f][:, 1]))\n",
    "    dataconfs[1:] = sorted(dataconfs[1:], key=lambda x: np.abs(x[1] - dataconfs[0][1]), reverse=True)\n",
    "    print('\\n'.join(['%.2f %s' % (x[1], x[0]) for x in dataconfs][:3]))\n",
    "    print()"
   ]
  },
  {
   "cell_type": "code",
   "execution_count": 433,
   "metadata": {},
   "outputs": [],
   "source": [
    "# TODO: get from somethwere else\n",
    "def add_negatives(string):\n",
    "    string = string.strip('.')\n",
    "    return [string + '. ' + l for l in ['I hate you', 'I despise you', 'You suck']]\n",
    "def add_positive(string):\n",
    "    string = string.strip('.')\n",
    "    return [string + '. ' + l for l in ['I love you', 'I like you', 'You are great']]\n"
   ]
  },
  {
   "cell_type": "code",
   "execution_count": 412,
   "metadata": {},
   "outputs": [
    {
     "data": {
      "text/plain": [
       "['@VirginAmerica What @dhepburn said. I hate you',\n",
       " '@VirginAmerica What @dhepburn said. I despise you',\n",
       " '@VirginAmerica What @dhepburn said. You suck']"
      ]
     },
     "execution_count": 412,
     "metadata": {},
     "output_type": "execute_result"
    }
   ],
   "source": [
    "add_negatives(sentences[0])"
   ]
  },
  {
   "cell_type": "code",
   "execution_count": 432,
   "metadata": {},
   "outputs": [],
   "source": [
    "data = Perturb.perturb(np.random.choice(sentences, 100), add_negatives, keep_original=True)\n",
    "test = Dir(data, Expect.wrap(Expect.all(Expect.pairwise_to_group(Expect.monotonic_label(1, increasing=False, tolerance=0)))) )\n",
    "test.run(pp, overwrite=True)\n",
    "test.results.passed.mean()"
   ]
  },
  {
   "cell_type": "code",
   "execution_count": 431,
   "metadata": {},
   "outputs": [
    {
     "name": "stdout",
     "output_type": "stream",
     "text": [
      "0.00088 @USAirways thank you for blowing my vacation. Couldn't get me anywhere today to make my reservation and also lost 2 bags of mine!\n",
      "0.00081 @USAirways thank you for blowing my vacation. Couldn't get me anywhere today to make my reservation and also lost 2 bags of mine!. You suck\n",
      "0.00079 @USAirways thank you for blowing my vacation. Couldn't get me anywhere today to make my reservation and also lost 2 bags of mine!. I despise you\n",
      "\n",
      "0.00433 @united I will but right now I'm to angry\n",
      "0.00239 @united I will but right now I'm to angry. I despise you\n",
      "0.00170 @united I will but right now I'm to angry. I hate you\n",
      "\n",
      "0.11484 @united you should tell that to the staff at LAX then. I boarded group 5 at the very end of the queue as a Gold member. Thanks for nothing.\n",
      "0.01019 @united you should tell that to the staff at LAX then. I boarded group 5 at the very end of the queue as a Gold member. Thanks for nothing. You suck\n",
      "0.00678 @united you should tell that to the staff at LAX then. I boarded group 5 at the very end of the queue as a Gold member. Thanks for nothing. I despise you\n",
      "\n",
      "0.96979 @USAirways I left something on a recent flight today. Who do I contact to retrieve it please? Thanks!\n",
      "0.00480 @USAirways I left something on a recent flight today. Who do I contact to retrieve it please? Thanks!. You suck\n",
      "0.00335 @USAirways I left something on a recent flight today. Who do I contact to retrieve it please? Thanks!. I hate you\n",
      "\n",
      "0.03255 @JetBlue that's what they told me half an hour ago\n",
      "0.00123 @JetBlue that's what they told me half an hour ago. I despise you\n",
      "0.00087 @JetBlue that's what they told me half an hour ago. I hate you\n",
      "\n"
     ]
    }
   ],
   "source": [
    "for f in np.where(test.results.passed == False)[0][:5]:\n",
    "    dataconfs = list(zip(test.data[f], test.results.confs[f][:, 1]))\n",
    "    dataconfs[1:] = sorted(dataconfs[1:], key=lambda x: (x[1] - dataconfs[0][1]), reverse=True)\n",
    "    print('\\n'.join(['%.5f %s' % (x[1], x[0]) for x in dataconfs][:3]))\n",
    "    print()"
   ]
  },
  {
   "cell_type": "code",
   "execution_count": 434,
   "metadata": {},
   "outputs": [
    {
     "data": {
      "text/plain": [
       "1.0"
      ]
     },
     "execution_count": 434,
     "metadata": {},
     "output_type": "execute_result"
    }
   ],
   "source": [
    "data = Perturb.perturb(np.random.choice(sentences, 100), add_positive, keep_original=True)\n",
    "test = Dir(data, Expect.wrap(Expect.all(Expect.pairwise_to_group(Expect.monotonic_label(1, increasing=True, tolerance=0)))) )\n",
    "test.run(pp, overwrite=True)\n",
    "test.results.passed.mean()"
   ]
  },
  {
   "cell_type": "code",
   "execution_count": 436,
   "metadata": {},
   "outputs": [
    {
     "data": {
      "text/plain": [
       "Munch({'preds': [array([0, 1, 1, 1]), array([0, 1, 1, 1]), array([0, 0, 1, 1]), array([1, 1, 1, 1]), array([0, 1, 1, 1]), array([0, 0, 0, 1]), array([1, 1, 1, 1]), array([0, 0, 1, 1]), array([0, 1, 1, 1]), array([0, 1, 1, 1]), array([0, 1, 1, 1]), array([1, 1, 1, 1]), array([0, 1, 1, 1]), array([0, 1, 1, 1]), array([1, 1, 1, 1]), array([0, 0, 0, 1]), array([0, 1, 1, 1]), array([0, 1, 1, 1]), array([1, 1, 1, 1]), array([0, 0, 1, 1]), array([1, 1, 1, 1]), array([0, 1, 1, 1]), array([0, 1, 1, 1]), array([0, 0, 1, 1]), array([0, 1, 1, 1]), array([0, 1, 1, 1]), array([1, 1, 1, 1]), array([0, 1, 1, 1]), array([0, 1, 1, 1]), array([0, 0, 1, 1]), array([1, 1, 1, 1]), array([0, 1, 1, 1]), array([0, 1, 1, 1]), array([1, 1, 1, 1]), array([0, 1, 1, 1]), array([0, 1, 1, 1]), array([0, 0, 0, 0]), array([1, 1, 1, 1]), array([1, 1, 1, 1]), array([0, 1, 1, 1]), array([0, 1, 1, 1]), array([0, 1, 1, 1]), array([0, 1, 1, 1]), array([1, 1, 1, 1]), array([0, 1, 1, 1]), array([0, 1, 1, 1]), array([0, 1, 1, 1]), array([0, 1, 1, 1]), array([0, 1, 1, 1]), array([0, 1, 1, 1]), array([0, 1, 1, 1]), array([1, 1, 1, 1]), array([0, 0, 1, 1]), array([1, 1, 1, 1]), array([1, 1, 1, 1]), array([0, 1, 1, 1]), array([0, 1, 1, 1]), array([0, 1, 1, 1]), array([0, 0, 1, 1]), array([0, 1, 1, 1]), array([0, 1, 1, 1]), array([1, 1, 1, 1]), array([0, 1, 1, 1]), array([1, 1, 1, 1]), array([0, 0, 1, 1]), array([0, 1, 1, 1]), array([0, 1, 1, 1]), array([0, 1, 1, 1]), array([0, 1, 1, 1]), array([0, 1, 1, 1]), array([1, 1, 1, 1]), array([1, 1, 1, 1]), array([1, 1, 1, 1]), array([0, 1, 1, 1]), array([0, 0, 1, 1]), array([0, 1, 1, 1]), array([0, 1, 1, 1]), array([0, 1, 1, 1]), array([0, 1, 1, 1]), array([0, 0, 1, 1]), array([1, 1, 1, 1]), array([0, 1, 1, 1]), array([0, 0, 1, 1]), array([0, 1, 1, 1]), array([1, 1, 1, 1]), array([0, 1, 1, 1]), array([1, 1, 1, 1]), array([0, 1, 1, 1]), array([1, 1, 1, 1]), array([1, 1, 1, 1]), array([0, 1, 1, 1]), array([0, 1, 1, 1]), array([0, 0, 0, 0]), array([0, 1, 1, 1]), array([1, 1, 1, 1]), array([0, 1, 1, 1]), array([0, 1, 1, 1]), array([0, 1, 1, 1]), array([1, 1, 1, 1]), array([0, 0, 0, 0])], 'confs': [array([[9.92525280e-01, 7.47457612e-03],\n",
       "       [4.35101334e-04, 9.99565005e-01],\n",
       "       [1.77103910e-04, 9.99823093e-01],\n",
       "       [1.35208786e-04, 9.99865055e-01]]), array([[9.95870769e-01, 4.12921142e-03],\n",
       "       [4.25297162e-03, 9.95747089e-01],\n",
       "       [5.55827864e-04, 9.99444187e-01],\n",
       "       [1.25636390e-04, 9.99874592e-01]]), array([[9.99327660e-01, 6.72311930e-04],\n",
       "       [5.47522187e-01, 4.52477872e-01],\n",
       "       [1.52364257e-03, 9.98476207e-01],\n",
       "       [4.03136422e-04, 9.99596894e-01]]), array([[2.26861954e-01, 7.73138046e-01],\n",
       "       [3.22770677e-04, 9.99677241e-01],\n",
       "       [1.35607945e-04, 9.99864578e-01],\n",
       "       [1.07990360e-04, 9.99892235e-01]]), array([[9.77414668e-01, 2.25853864e-02],\n",
       "       [1.23907882e-03, 9.98760998e-01],\n",
       "       [7.23994162e-04, 9.99275923e-01],\n",
       "       [3.54171527e-04, 9.99645770e-01]]), array([[9.99456525e-01, 5.43590169e-04],\n",
       "       [9.98804808e-01, 1.19502691e-03],\n",
       "       [9.57332492e-01, 4.26675081e-02],\n",
       "       [1.05423601e-02, 9.89457548e-01]]), array([[1.62845332e-04, 9.99837399e-01],\n",
       "       [7.34068672e-05, 9.99926567e-01],\n",
       "       [6.36167388e-05, 9.99936581e-01],\n",
       "       [6.07522234e-05, 9.99939442e-01]]), array([[9.99720633e-01, 2.79260683e-04],\n",
       "       [8.78917336e-01, 1.21082716e-01],\n",
       "       [2.92727025e-03, 9.97072697e-01],\n",
       "       [8.98465747e-04, 9.99101579e-01]]), array([[9.98010933e-01, 1.98900863e-03],\n",
       "       [5.46768531e-02, 9.45323229e-01],\n",
       "       [6.13003445e-04, 9.99386966e-01],\n",
       "       [3.02338914e-04, 9.99697745e-01]]), array([[9.99664366e-01, 3.35501827e-04],\n",
       "       [3.64700079e-01, 6.35299921e-01],\n",
       "       [3.23484978e-03, 9.96765137e-01],\n",
       "       [1.30663611e-04, 9.99869347e-01]]), array([[9.81224716e-01, 1.87754352e-02],\n",
       "       [2.93276244e-04, 9.99706805e-01],\n",
       "       [9.93104841e-05, 9.99900818e-01],\n",
       "       [7.34619825e-05, 9.99926567e-01]]), array([[1.91060288e-04, 9.99809027e-01],\n",
       "       [7.58362803e-05, 9.99924183e-01],\n",
       "       [6.28452472e-05, 9.99937057e-01],\n",
       "       [5.63389549e-05, 9.99943733e-01]]), array([[9.98138964e-01, 1.86108903e-03],\n",
       "       [7.88973528e-04, 9.99210894e-01],\n",
       "       [2.02084906e-04, 9.99797821e-01],\n",
       "       [8.92787866e-05, 9.99910831e-01]]), array([[9.98826265e-01, 1.17384363e-03],\n",
       "       [4.62616468e-03, 9.95373964e-01],\n",
       "       [1.75846636e-03, 9.98241544e-01],\n",
       "       [4.54217807e-04, 9.99545693e-01]]), array([[1.54059229e-03, 9.98459339e-01],\n",
       "       [2.83371803e-04, 9.99716580e-01],\n",
       "       [1.52202541e-04, 9.99847889e-01],\n",
       "       [1.03787665e-04, 9.99896049e-01]]), array([[9.99494672e-01, 5.05402393e-04],\n",
       "       [9.96986151e-01, 3.01385461e-03],\n",
       "       [8.96956444e-01, 1.03043504e-01],\n",
       "       [1.07225828e-01, 8.92774224e-01]]), array([[9.99215424e-01, 7.84647360e-04],\n",
       "       [4.65199497e-04, 9.99534726e-01],\n",
       "       [1.63165256e-04, 9.99836922e-01],\n",
       "       [1.61169781e-04, 9.99838829e-01]]), array([[9.99696314e-01, 3.03537585e-04],\n",
       "       [4.91603613e-01, 5.08396387e-01],\n",
       "       [9.92934406e-03, 9.90070641e-01],\n",
       "       [9.62356571e-04, 9.99037504e-01]]), array([[9.00799856e-02, 9.09919977e-01],\n",
       "       [2.76905717e-04, 9.99723256e-01],\n",
       "       [9.92431669e-05, 9.99900818e-01],\n",
       "       [8.84055116e-05, 9.99911785e-01]]), array([[9.98742640e-01, 1.25732110e-03],\n",
       "       [5.95677257e-01, 4.04322714e-01],\n",
       "       [2.00337381e-03, 9.97996688e-01],\n",
       "       [4.78924019e-04, 9.99521136e-01]]), array([[8.79717118e-04, 9.99120355e-01],\n",
       "       [8.92655880e-05, 9.99910831e-01],\n",
       "       [6.74545590e-05, 9.99932766e-01],\n",
       "       [6.18288686e-05, 9.99938011e-01]]), array([[9.82849836e-01, 1.71502177e-02],\n",
       "       [5.77352534e-04, 9.99422729e-01],\n",
       "       [2.33900268e-04, 9.99766111e-01],\n",
       "       [1.64444980e-04, 9.99835491e-01]]), array([[9.98815060e-01, 1.18490984e-03],\n",
       "       [7.86233111e-04, 9.99213755e-01],\n",
       "       [2.23933923e-04, 9.99776125e-01],\n",
       "       [1.19501034e-04, 9.99880314e-01]]), array([[9.99556661e-01, 4.43355995e-04],\n",
       "       [9.53869820e-01, 4.61301990e-02],\n",
       "       [1.83984805e-02, 9.81601536e-01],\n",
       "       [3.12478538e-03, 9.96875167e-01]]), array([[9.91540432e-01, 8.45950376e-03],\n",
       "       [3.46757588e-04, 9.99653161e-01],\n",
       "       [1.09878783e-04, 9.99890327e-01],\n",
       "       [9.74653740e-05, 9.99902725e-01]]), array([[9.68155384e-01, 3.18446383e-02],\n",
       "       [1.68273735e-04, 9.99831676e-01],\n",
       "       [1.00831407e-04, 9.99899387e-01],\n",
       "       [7.90972990e-05, 9.99920845e-01]]), array([[3.38767558e-01, 6.61232471e-01],\n",
       "       [9.19350787e-05, 9.99907970e-01],\n",
       "       [6.43916210e-05, 9.99935627e-01],\n",
       "       [5.90292584e-05, 9.99940872e-01]]), array([[9.81924653e-01, 1.80753954e-02],\n",
       "       [1.22517173e-04, 9.99877453e-01],\n",
       "       [7.34781643e-05, 9.99926567e-01],\n",
       "       [6.26462861e-05, 9.99937534e-01]]), array([[9.86775875e-01, 1.32241473e-02],\n",
       "       [2.32144244e-04, 9.99767780e-01],\n",
       "       [1.15999363e-04, 9.99884129e-01],\n",
       "       [7.15691422e-05, 9.99928474e-01]]), array([[9.99391258e-01, 6.08666160e-04],\n",
       "       [9.65079784e-01, 3.49201486e-02],\n",
       "       [3.22524365e-03, 9.96774614e-01],\n",
       "       [6.16705453e-04, 9.99383390e-01]]), array([[8.82784661e-05, 9.99911785e-01],\n",
       "       [6.61056620e-05, 9.99933720e-01],\n",
       "       [6.11362266e-05, 9.99938965e-01],\n",
       "       [6.06151261e-05, 9.99939442e-01]]), array([[9.99533772e-01, 4.66362864e-04],\n",
       "       [3.62719002e-04, 9.99637187e-01],\n",
       "       [1.28778513e-04, 9.99871254e-01],\n",
       "       [9.95637747e-05, 9.99900341e-01]]), array([[9.99255478e-01, 7.44628371e-04],\n",
       "       [8.88476032e-04, 9.99111593e-01],\n",
       "       [2.22618430e-04, 9.99777317e-01],\n",
       "       [1.21217709e-04, 9.99878883e-01]]), array([[8.25667055e-04, 9.99174237e-01],\n",
       "       [1.46992286e-04, 9.99853134e-01],\n",
       "       [9.87198364e-05, 9.99901295e-01],\n",
       "       [7.72902131e-05, 9.99922752e-01]]), array([[9.99356925e-01, 6.42969739e-04],\n",
       "       [9.54536349e-02, 9.04546320e-01],\n",
       "       [1.13929878e-03, 9.98860776e-01],\n",
       "       [8.37679778e-04, 9.99162316e-01]]), array([[9.95582581e-01, 4.41752840e-03],\n",
       "       [3.84194806e-04, 9.99615729e-01],\n",
       "       [1.39626543e-04, 9.99860287e-01],\n",
       "       [9.88958636e-05, 9.99901295e-01]]), array([[9.99659598e-01, 3.40270315e-04],\n",
       "       [9.95812833e-01, 4.18719091e-03],\n",
       "       [5.77926099e-01, 4.22073931e-01],\n",
       "       [8.48142803e-01, 1.51857078e-01]]), array([[4.98832378e-04, 9.99501109e-01],\n",
       "       [7.71218984e-05, 9.99922752e-01],\n",
       "       [5.99913801e-05, 9.99939919e-01],\n",
       "       [5.82457615e-05, 9.99941826e-01]]), array([[4.80050547e-03, 9.95199561e-01],\n",
       "       [7.65894802e-05, 9.99923229e-01],\n",
       "       [5.82941066e-05, 9.99941826e-01],\n",
       "       [5.51749108e-05, 9.99944687e-01]]), array([[9.99642432e-01, 3.57386336e-04],\n",
       "       [2.21754126e-02, 9.77824628e-01],\n",
       "       [6.52365445e-04, 9.99347687e-01],\n",
       "       [4.55260568e-04, 9.99544740e-01]]), array([[9.71165717e-01, 2.88343225e-02],\n",
       "       [3.65074002e-03, 9.96349335e-01],\n",
       "       [6.11217460e-04, 9.99388874e-01],\n",
       "       [2.76661798e-04, 9.99723494e-01]]), array([[9.96531546e-01, 3.46843759e-03],\n",
       "       [1.10747921e-03, 9.98892426e-01],\n",
       "       [3.87605251e-04, 9.99612391e-01],\n",
       "       [1.87425074e-04, 9.99812603e-01]]), array([[9.97849166e-01, 2.15077447e-03],\n",
       "       [9.52251605e-04, 9.99047756e-01],\n",
       "       [3.94337054e-04, 9.99605715e-01],\n",
       "       [2.95874808e-04, 9.99704182e-01]]), array([[1.23788879e-04, 9.99876022e-01],\n",
       "       [8.35405299e-05, 9.99916553e-01],\n",
       "       [6.73488248e-05, 9.99932766e-01],\n",
       "       [6.05737478e-05, 9.99939442e-01]]), array([[9.99661028e-01, 3.39089369e-04],\n",
       "       [5.00783101e-02, 9.49921787e-01],\n",
       "       [1.03814446e-03, 9.98961747e-01],\n",
       "       [5.39865578e-04, 9.99460101e-01]]), array([[9.97322798e-01, 2.67724763e-03],\n",
       "       [8.66937393e-04, 9.99132991e-01],\n",
       "       [3.72008246e-04, 9.99627888e-01],\n",
       "       [2.13419378e-04, 9.99786615e-01]]), array([[9.95794594e-01, 4.20532329e-03],\n",
       "       [2.81757512e-03, 9.97182548e-01],\n",
       "       [7.59115734e-04, 9.99240935e-01],\n",
       "       [3.83135193e-04, 9.99616921e-01]]), array([[9.99063194e-01, 9.36742988e-04],\n",
       "       [2.41200486e-03, 9.97587979e-01],\n",
       "       [7.05988670e-04, 9.99294043e-01],\n",
       "       [3.04613728e-04, 9.99695361e-01]]), array([[9.99186635e-01, 8.13358289e-04],\n",
       "       [2.09162687e-03, 9.97908413e-01],\n",
       "       [3.77827964e-04, 9.99622166e-01],\n",
       "       [2.11598250e-04, 9.99788523e-01]]), array([[9.98881936e-01, 1.11807010e-03],\n",
       "       [1.55220538e-01, 8.44779491e-01],\n",
       "       [1.22796802e-03, 9.98771966e-01],\n",
       "       [2.81655026e-04, 9.99718487e-01]]), array([[9.98628855e-01, 1.37121615e-03],\n",
       "       [2.00290204e-04, 9.99799728e-01],\n",
       "       [9.53250637e-05, 9.99904633e-01],\n",
       "       [8.18405242e-05, 9.99917984e-01]]), array([[9.87190870e-05, 9.99901295e-01],\n",
       "       [9.00451923e-05, 9.99909878e-01],\n",
       "       [7.29518433e-05, 9.99927044e-01],\n",
       "       [6.78511569e-05, 9.99932289e-01]]), array([[9.99629557e-01, 3.70224996e-04],\n",
       "       [8.37440193e-01, 1.62559733e-01],\n",
       "       [7.49314716e-03, 9.92506802e-01],\n",
       "       [1.08851818e-03, 9.98911500e-01]]), array([[1.38738425e-04, 9.99861240e-01],\n",
       "       [8.05923046e-05, 9.99919415e-01],\n",
       "       [6.85207997e-05, 9.99931335e-01],\n",
       "       [6.29472197e-05, 9.99937057e-01]]), array([[1.08466288e-02, 9.89153266e-01],\n",
       "       [2.58325628e-04, 9.99741614e-01],\n",
       "       [1.01105645e-04, 9.99898911e-01],\n",
       "       [7.29249878e-05, 9.99927044e-01]]), array([[9.93337512e-01, 6.66240789e-03],\n",
       "       [1.02172990e-03, 9.98978198e-01],\n",
       "       [2.41741523e-04, 9.99758244e-01],\n",
       "       [1.29454405e-04, 9.99870777e-01]]), array([[9.91493165e-01, 8.50702636e-03],\n",
       "       [1.04797794e-03, 9.98951972e-01],\n",
       "       [3.89130466e-04, 9.99610722e-01],\n",
       "       [1.77272042e-04, 9.99822617e-01]]), array([[9.84838724e-01, 1.51612051e-02],\n",
       "       [1.81708689e-04, 9.99818325e-01],\n",
       "       [9.14925986e-05, 9.99908447e-01],\n",
       "       [7.03693804e-05, 9.99929905e-01]]), array([[9.99674857e-01, 3.25074245e-04],\n",
       "       [5.92820227e-01, 4.07179773e-01],\n",
       "       [3.36138671e-03, 9.96638715e-01],\n",
       "       [6.73106173e-04, 9.99326944e-01]]), array([[9.97265756e-01, 2.73424922e-03],\n",
       "       [6.64300285e-04, 9.99335766e-01],\n",
       "       [2.34462394e-04, 9.99765635e-01],\n",
       "       [1.38439587e-04, 9.99861717e-01]]), array([[9.80908453e-01, 1.90915950e-02],\n",
       "       [1.32296394e-04, 9.99867916e-01],\n",
       "       [1.11191075e-04, 9.99888897e-01],\n",
       "       [8.11331993e-05, 9.99918938e-01]]), array([[1.18540767e-04, 9.99881268e-01],\n",
       "       [6.93333932e-05, 9.99930859e-01],\n",
       "       [5.95421261e-05, 9.99940395e-01],\n",
       "       [5.60287735e-05, 9.99944210e-01]]), array([[9.98108506e-01, 1.89146993e-03],\n",
       "       [5.77414467e-04, 9.99422491e-01],\n",
       "       [1.90861974e-04, 9.99809265e-01],\n",
       "       [9.86496307e-05, 9.99901295e-01]]), array([[1.55697839e-04, 9.99844551e-01],\n",
       "       [8.12065045e-05, 9.99918938e-01],\n",
       "       [6.94586124e-05, 9.99930382e-01],\n",
       "       [6.35641627e-05, 9.99936581e-01]]), array([[9.99591887e-01, 4.07904416e-04],\n",
       "       [9.89699125e-01, 1.03009650e-02],\n",
       "       [2.34276839e-02, 9.76572335e-01],\n",
       "       [2.92902952e-03, 9.97071028e-01]]), array([[9.86493349e-01, 1.35065997e-02],\n",
       "       [6.69900037e-04, 9.99330044e-01],\n",
       "       [2.89463875e-04, 9.99710619e-01],\n",
       "       [1.57520233e-04, 9.99842644e-01]]), array([[9.96531785e-01, 3.46813002e-03],\n",
       "       [1.32800778e-02, 9.86719906e-01],\n",
       "       [1.21488352e-03, 9.98785019e-01],\n",
       "       [4.44594887e-04, 9.99555469e-01]]), array([[9.99570489e-01, 4.29310458e-04],\n",
       "       [1.10925585e-01, 8.89074445e-01],\n",
       "       [5.07180230e-04, 9.99492764e-01],\n",
       "       [2.47064192e-04, 9.99753058e-01]]), array([[9.99564767e-01, 4.35015652e-04],\n",
       "       [5.36216283e-03, 9.94637847e-01],\n",
       "       [7.79854250e-04, 9.99220192e-01],\n",
       "       [3.17751110e-04, 9.99682248e-01]]), array([[0.99696976, 0.00303015],\n",
       "       [0.46071306, 0.53928697],\n",
       "       [0.00458213, 0.99541789],\n",
       "       [0.00109479, 0.9989053 ]]), array([[1.04206105e-04, 9.99896049e-01],\n",
       "       [6.83135731e-05, 9.99931812e-01],\n",
       "       [6.00477033e-05, 9.99939919e-01],\n",
       "       [5.72945319e-05, 9.99942780e-01]]), array([[1.15783128e-03, 9.98842180e-01],\n",
       "       [9.60160978e-05, 9.99904156e-01],\n",
       "       [6.73783725e-05, 9.99932766e-01],\n",
       "       [5.93198347e-05, 9.99940872e-01]]), array([[1.16103119e-03, 9.98838842e-01],\n",
       "       [9.64283972e-05, 9.99903679e-01],\n",
       "       [7.22189143e-05, 9.99927998e-01],\n",
       "       [6.07492693e-05, 9.99939442e-01]]), array([[9.93463993e-01, 6.53586956e-03],\n",
       "       [5.16033557e-04, 9.99483943e-01],\n",
       "       [2.33552550e-04, 9.99766350e-01],\n",
       "       [1.70238302e-04, 9.99829769e-01]]), array([[9.99648154e-01, 3.51770752e-04],\n",
       "       [9.83348370e-01, 1.66516844e-02],\n",
       "       [6.95617944e-02, 9.30438161e-01],\n",
       "       [1.57505590e-02, 9.84249294e-01]]), array([[9.99738753e-01, 2.61193287e-04],\n",
       "       [1.82096590e-03, 9.98178959e-01],\n",
       "       [3.42972780e-04, 9.99656975e-01],\n",
       "       [2.39850662e-04, 9.99760151e-01]]), array([[9.73000824e-01, 2.69992072e-02],\n",
       "       [8.84871231e-04, 9.99115169e-01],\n",
       "       [3.04683461e-04, 9.99695361e-01],\n",
       "       [1.66096768e-04, 9.99834061e-01]]), array([[9.91264582e-01, 8.73530656e-03],\n",
       "       [4.98860201e-04, 9.99501109e-01],\n",
       "       [2.66448769e-04, 9.99733508e-01],\n",
       "       [1.59920572e-04, 9.99840260e-01]]), array([[9.98049021e-01, 1.95098040e-03],\n",
       "       [3.59562319e-03, 9.96404469e-01],\n",
       "       [6.43051288e-04, 9.99356925e-01],\n",
       "       [2.84567155e-04, 9.99715388e-01]]), array([[9.99157071e-01, 8.42904265e-04],\n",
       "       [9.42441106e-01, 5.75588383e-02],\n",
       "       [2.03517541e-01, 7.96482444e-01],\n",
       "       [1.38571020e-02, 9.86142993e-01]]), array([[3.44448000e-01, 6.55552030e-01],\n",
       "       [6.98215619e-04, 9.99301910e-01],\n",
       "       [2.27957658e-04, 9.99772072e-01],\n",
       "       [1.77399401e-04, 9.99822617e-01]]), array([[9.84863400e-01, 1.51365157e-02],\n",
       "       [4.94666107e-04, 9.99505401e-01],\n",
       "       [1.62465600e-04, 9.99837399e-01],\n",
       "       [1.23371210e-04, 9.99876499e-01]]), array([[0.99822485, 0.00177516],\n",
       "       [0.9773587 , 0.02264134],\n",
       "       [0.38288376, 0.61711627],\n",
       "       [0.01941112, 0.98058879]]), array([[9.78700459e-01, 2.12996770e-02],\n",
       "       [1.88163845e-04, 9.99811649e-01],\n",
       "       [1.05960025e-04, 9.99894142e-01],\n",
       "       [7.70664628e-05, 9.99922752e-01]]), array([[4.19613731e-04, 9.99580443e-01],\n",
       "       [1.11052992e-04, 9.99888897e-01],\n",
       "       [6.90816669e-05, 9.99930859e-01],\n",
       "       [6.03552035e-05, 9.99939919e-01]]), array([[9.76501584e-01, 2.34984662e-02],\n",
       "       [7.05844956e-04, 9.99294281e-01],\n",
       "       [2.48229218e-04, 9.99751866e-01],\n",
       "       [1.93159125e-04, 9.99806881e-01]]), array([[1.00798810e-04, 9.99899387e-01],\n",
       "       [7.01162280e-05, 9.99929905e-01],\n",
       "       [5.84635818e-05, 9.99941826e-01],\n",
       "       [5.63094109e-05, 9.99943733e-01]]), array([[5.39917409e-01, 4.60082620e-01],\n",
       "       [2.07658784e-04, 9.99792337e-01],\n",
       "       [1.30797998e-04, 9.99869347e-01],\n",
       "       [7.71789928e-05, 9.99922752e-01]]), array([[1.55162578e-03, 9.98448372e-01],\n",
       "       [1.01789454e-04, 9.99898434e-01],\n",
       "       [7.20528478e-05, 9.99927998e-01],\n",
       "       [6.39386199e-05, 9.99936104e-01]]), array([[8.66679839e-05, 9.99913216e-01],\n",
       "       [7.50101099e-05, 9.99925137e-01],\n",
       "       [6.29402566e-05, 9.99937057e-01],\n",
       "       [5.71431592e-05, 9.99942780e-01]]), array([[9.75827217e-01, 2.41727941e-02],\n",
       "       [3.12063814e-04, 9.99687970e-01],\n",
       "       [1.33831112e-04, 9.99866009e-01],\n",
       "       [1.16646101e-04, 9.99883175e-01]]), array([[9.98988688e-01, 1.01141178e-03],\n",
       "       [1.22724276e-03, 9.98772681e-01],\n",
       "       [3.10416770e-04, 9.99689639e-01],\n",
       "       [1.82576521e-04, 9.99817371e-01]]), array([[9.99439895e-01, 5.60181972e-04],\n",
       "       [9.98480976e-01, 1.51893101e-03],\n",
       "       [9.62965369e-01, 3.70346494e-02],\n",
       "       [7.03381658e-01, 2.96618313e-01]]), array([[9.99232829e-01, 7.67194259e-04],\n",
       "       [1.41514128e-03, 9.98584807e-01],\n",
       "       [2.69097683e-04, 9.99730885e-01],\n",
       "       [1.79235489e-04, 9.99820709e-01]]), array([[1.79897365e-03, 9.98201072e-01],\n",
       "       [1.67226201e-04, 9.99832630e-01],\n",
       "       [8.77910134e-05, 9.99912262e-01],\n",
       "       [6.74973562e-05, 9.99932766e-01]]), array([[6.94501579e-01, 3.05498481e-01],\n",
       "       [8.21360882e-05, 9.99917984e-01],\n",
       "       [5.87786635e-05, 9.99941349e-01],\n",
       "       [5.76681741e-05, 9.99942303e-01]]), array([[9.96464312e-01, 3.53561202e-03],\n",
       "       [1.77231396e-03, 9.98227715e-01],\n",
       "       [5.35710540e-04, 9.99464393e-01],\n",
       "       [3.19086335e-04, 9.99680817e-01]]), array([[9.64575768e-01, 3.54242064e-02],\n",
       "       [1.23154849e-03, 9.98768389e-01],\n",
       "       [3.16934602e-04, 9.99683201e-01],\n",
       "       [1.70896936e-04, 9.99829292e-01]]), array([[5.35702100e-04, 9.99464393e-01],\n",
       "       [1.93147338e-04, 9.99806881e-01],\n",
       "       [1.34664311e-04, 9.99865532e-01],\n",
       "       [1.18656928e-04, 9.99881268e-01]]), array([[9.99687254e-01, 3.12730292e-04],\n",
       "       [9.93825972e-01, 6.17405167e-03],\n",
       "       [9.70388293e-01, 2.96117179e-02],\n",
       "       [7.21847832e-01, 2.78152198e-01]])], 'passed': array([ True,  True,  True,  True,  True,  True,  True,  True,  True,\n",
       "        True,  True,  True,  True,  True,  True,  True,  True,  True,\n",
       "        True,  True,  True,  True,  True,  True,  True,  True,  True,\n",
       "        True,  True,  True,  True,  True,  True,  True,  True,  True,\n",
       "        True,  True,  True,  True,  True,  True,  True,  True,  True,\n",
       "        True,  True,  True,  True,  True,  True,  True,  True,  True,\n",
       "        True,  True,  True,  True,  True,  True,  True,  True,  True,\n",
       "        True,  True,  True,  True,  True,  True,  True,  True,  True,\n",
       "        True,  True,  True,  True,  True,  True,  True,  True,  True,\n",
       "        True,  True,  True,  True,  True,  True,  True,  True,  True,\n",
       "        True,  True,  True,  True,  True,  True,  True,  True,  True,\n",
       "        True])})"
      ]
     },
     "execution_count": 436,
     "metadata": {},
     "output_type": "execute_result"
    }
   ],
   "source": [
    "test.results"
   ]
  },
  {
   "cell_type": "code",
   "execution_count": 435,
   "metadata": {},
   "outputs": [],
   "source": [
    "for f in np.where(test.results.passed == False)[0][:5]:\n",
    "    dataconfs = list(zip(test.data[f], test.results.confs[f][:, 1]))\n",
    "    dataconfs[1:] = sorted(dataconfs[1:], key=lambda x: (- x[1] + dataconfs[0][1]), reverse=True)\n",
    "    print('\\n'.join(['%.5f %s' % (x[1], x[0]) for x in dataconfs][:3]))\n",
    "    print()"
   ]
  },
  {
   "cell_type": "code",
   "execution_count": 13,
   "metadata": {},
   "outputs": [
    {
     "data": {
      "text/plain": [
       "(['This is bad', 'This is great', 'This is awesome'],\n",
       " [{'bad': 'bad'}, {'bad': 'great'}, {'bad': 'awesome'}])"
      ]
     },
     "execution_count": 13,
     "metadata": {},
     "output_type": "execute_result"
    }
   ],
   "source": [
    "editor.template('This is {bad}',  bad=['bad', 'great', 'awesome'], return_maps=True)"
   ]
  },
  {
   "cell_type": "code",
   "execution_count": 14,
   "metadata": {},
   "outputs": [
    {
     "data": {
      "text/plain": [
       "([('This is bad', 'This is not bad'),\n",
       "  ('This is great', 'This is not great'),\n",
       "  ('This is awesome', 'This is not awesome')],\n",
       " [{'bad': 'bad'}, {'bad': 'great'}, {'bad': 'awesome'}])"
      ]
     },
     "execution_count": 14,
     "metadata": {},
     "output_type": "execute_result"
    }
   ],
   "source": [
    "\n",
    "editor.template(('This is {bad}', 'This is not {bad}'),  bad=['bad', 'great', 'awesome'], return_maps=False)"
   ]
  },
  {
   "cell_type": "code",
   "execution_count": 15,
   "metadata": {},
   "outputs": [
    {
     "data": {
      "text/plain": [
       "[{'bad': 'This is bad', 'notbad': 'This is not bad'},\n",
       " {'bad': 'This is great', 'notbad': 'This is not great'},\n",
       " {'bad': 'This is awesome', 'notbad': 'This is not awesome'}]"
      ]
     },
     "execution_count": 15,
     "metadata": {},
     "output_type": "execute_result"
    }
   ],
   "source": [
    "editor.template({\n",
    "    'bad': 'This is {bad}',\n",
    "    'notbad': 'This is not {bad}'},  bad=['bad', 'great', 'awesome'], return_maps=False)"
   ]
  },
  {
   "cell_type": "code",
   "execution_count": 57,
   "metadata": {},
   "outputs": [],
   "source": [
    "a = {'bad': 'This is {bad}',\n",
    "    'notbad': ('this is not {bad}', 'this is quite {abad}')}\n",
    "b = ({'bad': 'This is {bad}', 'notbad': 'This is not {bad}'}, 'This is quite {bad}')\n",
    "c = 'This is quite {bad}.'"
   ]
  },
  {
   "cell_type": "code",
   "execution_count": 64,
   "metadata": {},
   "outputs": [
    {
     "data": {
      "text/plain": [
       "{'male': ['John', 'Luke', 'Mark'], 'female': ['Mary', 'Judy', 'Julia']}"
      ]
     },
     "execution_count": 64,
     "metadata": {},
     "output_type": "execute_result"
    }
   ],
   "source": [
    "editor.lexicons"
   ]
  },
  {
   "cell_type": "code",
   "execution_count": 93,
   "metadata": {},
   "outputs": [
    {
     "data": {
      "text/plain": [
       "['This is terrible, John',\n",
       " 'This is bad, John',\n",
       " 'This is terrible, Luke',\n",
       " 'This is bad, Luke',\n",
       " 'This is terrible, Mark',\n",
       " 'This is bad, Mark']"
      ]
     },
     "execution_count": 93,
     "metadata": {},
     "output_type": "execute_result"
    }
   ],
   "source": [
    "editor.template('This is {bad}, {male}', bad=('terrible', 'bad'), nsamples=None)"
   ]
  }
 ],
 "metadata": {
  "kernelspec": {
   "display_name": "checklist",
   "language": "python",
   "name": "checklist"
  },
  "language_info": {
   "codemirror_mode": {
    "name": "ipython",
    "version": 3
   },
   "file_extension": ".py",
   "mimetype": "text/x-python",
   "name": "python",
   "nbconvert_exporter": "python",
   "pygments_lexer": "ipython3",
   "version": "3.6.8"
  }
 },
 "nbformat": 4,
 "nbformat_minor": 2
}
