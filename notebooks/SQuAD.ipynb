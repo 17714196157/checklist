{
 "cells": [
  {
   "cell_type": "code",
   "execution_count": 1,
   "metadata": {},
   "outputs": [],
   "source": [
    "%load_ext autoreload\n",
    "%autoreload 2\n",
    "\n",
    "import checklist\n",
    "import spacy\n",
    "import itertools\n",
    "\n",
    "import checklist.editor\n",
    "import checklist.text_generation\n",
    "from checklist.mft import Mft\n",
    "from checklist.inv_dir import Inv, Dir\n",
    "from checklist.expect import Expect\n",
    "import numpy as np\n",
    "import spacy\n",
    "from checklist.perturb import Perturb\n"
   ]
  },
  {
   "cell_type": "code",
   "execution_count": 2,
   "metadata": {},
   "outputs": [],
   "source": [
    "import sys\n",
    "sys.path.append('/home/marcotcr/work/ml-tests/')\n",
    "from mltests import bert_squad_model\n",
    "from checklist.pred_wrapper import PredictorWrapper\n",
    "model = bert_squad_model.BertSquad()\n",
    "invert = lambda a: model.predict_pairs([(x[1], x[0]) for x in a])\n",
    "new_pp = PredictorWrapper.wrap_predict(invert)"
   ]
  },
  {
   "cell_type": "code",
   "execution_count": 3,
   "metadata": {},
   "outputs": [
    {
     "data": {
      "application/vnd.jupyter.widget-view+json": {
       "model_id": "2253ed0e5a674f56bf9af1f6ba604ab4",
       "version_major": 2,
       "version_minor": 0
      },
      "text/plain": [
       "HBox(children=(FloatProgress(value=0.0, max=1.0), HTML(value='')))"
      ]
     },
     "metadata": {},
     "output_type": "display_data"
    },
    {
     "name": "stdout",
     "output_type": "stream",
     "text": [
      "\n"
     ]
    },
    {
     "data": {
      "text/plain": [
       "['John']"
      ]
     },
     "execution_count": 3,
     "metadata": {},
     "output_type": "execute_result"
    }
   ],
   "source": [
    "model.predict_pairs([('Who is smarter?', 'John is smart')])"
   ]
  },
  {
   "cell_type": "code",
   "execution_count": 4,
   "metadata": {},
   "outputs": [
    {
     "data": {
      "text/plain": [
       "<checklist.text_generation.TextGenerator at 0x7fa954d3e0f0>"
      ]
     },
     "execution_count": 4,
     "metadata": {},
     "output_type": "execute_result"
    }
   ],
   "source": [
    "editor = checklist.editor.Editor()\n",
    "editor.tg"
   ]
  },
  {
   "cell_type": "code",
   "execution_count": 293,
   "metadata": {},
   "outputs": [],
   "source": [
    "nlp = spacy.load('en_core_web_sm')"
   ]
  },
  {
   "cell_type": "code",
   "execution_count": 5,
   "metadata": {},
   "outputs": [],
   "source": [
    "def format_squad_with_context(x, pred, conf, label=None, *args, **kwargs):\n",
    "    c, q = x\n",
    "    ret = 'C: %s\\nQ: %s\\n' % (c, q)\n",
    "    if label is not None:\n",
    "        ret += 'A: %s\\n' % label\n",
    "    ret += 'P: %s\\n' % pred\n",
    "    return ret"
   ]
  },
  {
   "cell_type": "code",
   "execution_count": 6,
   "metadata": {},
   "outputs": [],
   "source": [
    "def format_squad(x, pred, conf, label=None, *args, **kwargs):\n",
    "    c, q = x\n",
    "    ret = 'Q: %s\\n' % (q)\n",
    "    if label is not None:\n",
    "        ret += 'A: %s\\n' % label\n",
    "    ret += 'P: %s\\n' % pred\n",
    "    return ret"
   ]
  },
  {
   "cell_type": "code",
   "execution_count": 268,
   "metadata": {},
   "outputs": [],
   "source": [
    "import json\n",
    "def load_squad(fold='validation'):\n",
    "    answers = []\n",
    "    data = []\n",
    "    ids = []\n",
    "    files = {\n",
    "        'validation': '/home/marcotcr/datasets/squad/dev-v1.1.json',\n",
    "        'train': '/home/marcotcr//datasets/squad/train-v1.1.json',\n",
    "        }\n",
    "    f = json.load(open(files[fold]))\n",
    "    for t in f['data']:\n",
    "        for p in t['paragraphs']:\n",
    "            context = p['context']\n",
    "            for qa in p['qas']:\n",
    "                data.append({'passage': context, 'question': qa['question'], 'id': qa['id']})\n",
    "                answers.append(set([(x['text'], x['answer_start']) for x in qa['answers']]))\n",
    "    return data, answers\n"
   ]
  },
  {
   "cell_type": "code",
   "execution_count": 270,
   "metadata": {},
   "outputs": [],
   "source": [
    "import pickle\n",
    "data, answers =  load_squad()\n",
    "spacy_map =  pickle.load(open('/home/marcotcr/tmp/processed_squad.pkl', 'rb'))\n",
    "pairs = [(x['passage'], x['question']) for x in data]\n",
    "processed_pairs = [(spacy_map[x[0]], spacy_map[x[1]]) for x in pairs]"
   ]
  },
  {
   "cell_type": "code",
   "execution_count": 271,
   "metadata": {},
   "outputs": [],
   "source": []
  },
  {
   "cell_type": "markdown",
   "metadata": {},
   "source": [
    "## Vocabulary"
   ]
  },
  {
   "cell_type": "code",
   "execution_count": 7,
   "metadata": {},
   "outputs": [
    {
     "name": "stdout",
     "output_type": "stream",
     "text": [
      "better, older, worse, smarter, taller, younger, different, more, stronger, bigger, shorter, less, tougher, cooler, faster, nicer, other, darker, hotter, smaller, happier, larger, wiser, richer, weaker, greater, higher, longer, harder, safer, closer, heavier, slower, easier, colder, thinner, quicker, thicker, deeper, quieter, lower, healthier, stranger, louder, cleaner, brighter, lighter, cheaper, newer, simpler, warmer, wealthier, poorer, sharper, wider, smoother, clearer, softer, superior, stricter\n"
     ]
    }
   ],
   "source": [
    "print(', '.join(editor.suggest('{first_name} is {bert} than {first_name2}.')[:60]))"
   ]
  },
  {
   "cell_type": "code",
   "execution_count": 8,
   "metadata": {},
   "outputs": [],
   "source": [
    "adj = ['old', 'smart', 'tall', 'young', 'strong', 'short', 'tough', 'cool', 'fast', 'nice', 'small', 'dark', 'wise', 'rich', 'great', 'weak', 'high', 'slow', 'strange', 'clean']\n",
    "adj = [(x.rstrip('e'), x) for x in adj]\n"
   ]
  },
  {
   "cell_type": "code",
   "execution_count": 9,
   "metadata": {},
   "outputs": [
    {
     "name": "stdout",
     "output_type": "stream",
     "text": [
      "Predicting 198 examples\n"
     ]
    },
    {
     "data": {
      "application/vnd.jupyter.widget-view+json": {
       "model_id": "fcb100e7061b4f70bbefd2c63ec45739",
       "version_major": 2,
       "version_minor": 0
      },
      "text/plain": [
       "HBox(children=(FloatProgress(value=0.0, max=25.0), HTML(value='')))"
      ]
     },
     "metadata": {},
     "output_type": "display_data"
    },
    {
     "name": "stdout",
     "output_type": "stream",
     "text": [
      "\n",
      "Test cases:      198\n",
      "Fails (rate):    158 (79.8%)\n",
      "\n",
      "Example fails:\n",
      "C: Jessica is cleaner than Joshua.\n",
      "Q: Who is less clean?\n",
      "A: Jessica\n",
      "P: Joshua\n",
      "\n",
      "----\n",
      "C: Olivia is cooler than Heather.\n",
      "Q: Who is less cool?\n",
      "A: Olivia\n",
      "P: Heather\n",
      "\n",
      "----\n",
      "C: Justin is nicer than William.\n",
      "Q: Who is less nice?\n",
      "A: Justin\n",
      "P: William\n",
      "\n",
      "----\n"
     ]
    }
   ],
   "source": [
    "data, labels = map(list, zip(*(editor.template(\n",
    "    ((\n",
    "    '{first_name} is {adj[0]}er than {first_name1}.',\n",
    "    'Who is less {adj[1]}?'\n",
    "    ),\n",
    "    '{first_name}',\n",
    "    ),\n",
    "    adj=adj,\n",
    "    remove_duplicates=True,\n",
    "    nsamples=200,\n",
    "    ))))\n",
    "test = Mft(data, labels=labels)\n",
    "test.run(new_pp)\n",
    "test.summary(n=3, format_example_fn=format_squad_with_context)"
   ]
  },
  {
   "cell_type": "code",
   "execution_count": 10,
   "metadata": {},
   "outputs": [],
   "source": [
    "comp_pairs = [('better', 'worse'), ('older', 'younger'), ('smarter', 'dumber'), ('taller', 'shorter'), ('bigger', 'smaller'), ('stronger', 'weaker'), ('faster', 'slower'), ('darker', 'lighter'), ('richer', 'poorer'), ('happier', 'sadder'), ('louder', 'quieter'), ('warmer', 'colder')]\n",
    "comp_pairs = list(set(comp_pairs + [(x[1], x[0]) for x in comp_pairs]))"
   ]
  },
  {
   "cell_type": "code",
   "execution_count": 11,
   "metadata": {},
   "outputs": [
    {
     "name": "stdout",
     "output_type": "stream",
     "text": [
      "Predicting 199 examples\n"
     ]
    },
    {
     "data": {
      "application/vnd.jupyter.widget-view+json": {
       "model_id": "865eef5c83c64dfd886329a01b368e07",
       "version_major": 2,
       "version_minor": 0
      },
      "text/plain": [
       "HBox(children=(FloatProgress(value=0.0, max=25.0), HTML(value='')))"
      ]
     },
     "metadata": {},
     "output_type": "display_data"
    },
    {
     "name": "stdout",
     "output_type": "stream",
     "text": [
      "\n",
      "Test cases:      199\n",
      "Fails (rate):    120 (60.3%)\n",
      "\n",
      "Example fails:\n",
      "C: Emma is slower than Jennifer.\n",
      "Q: Who is faster?\n",
      "A: Emma\n",
      "P: Jennifer\n",
      "\n",
      "----\n",
      "C: William is smaller than Kyle.\n",
      "Q: Who is bigger?\n",
      "A: William\n",
      "P: Kyle\n",
      "\n",
      "----\n",
      "C: Christian is stronger than Brittany.\n",
      "Q: Who is weaker?\n",
      "A: Christian\n",
      "P: Brittany\n",
      "\n",
      "----\n"
     ]
    }
   ],
   "source": [
    "data, labels = map(list, zip(*(editor.template(\n",
    "    ((\n",
    "    '{first_name} is {comp[0]} than {first_name1}.',\n",
    "    'Who is {comp[1]}?'\n",
    "    ),\n",
    "    '{first_name}',\n",
    "    ),\n",
    "    comp=comp_pairs,\n",
    "    remove_duplicates=True,\n",
    "    nsamples=200,\n",
    "    ))))\n",
    "test = Mft(data, labels=labels)\n",
    "test.run(new_pp)\n",
    "test.summary(n=3, format_example_fn=format_squad_with_context)"
   ]
  },
  {
   "cell_type": "code",
   "execution_count": 12,
   "metadata": {},
   "outputs": [
    {
     "name": "stdout",
     "output_type": "stream",
     "text": [
      "very, extremely, quite, also, not, pretty, really, still, more, incredibly, particularly, clearly, so, now, highly, already, rather, fairly, most, certainly, being, definitely, super, increasingly, especially, generally, actually, reportedly, apparently, understandably\n"
     ]
    }
   ],
   "source": [
    "state = editor.suggest('John is very {bert} about the project.')[:20]\n",
    "print(', '.join(editor.suggest('John is {bert} {state} about the project.', state=state)[:30]))\n",
    "very = ['very', 'extremely', 'really', 'quite', 'incredibly', 'particularly', 'highly', 'super']\n",
    "somewhat = ['a little', 'somewhat', 'slightly', 'mildly']"
   ]
  },
  {
   "cell_type": "code",
   "execution_count": 13,
   "metadata": {},
   "outputs": [],
   "source": [
    "def to_datalabels(templates, nsamples=None):\n",
    "    ret = []\n",
    "    ret_labels = []\n",
    "    for x in templates:\n",
    "        cs = x['contexts']\n",
    "        qas = x['qas']\n",
    "        d = list(itertools.product(cs, qas))\n",
    "        ret.append([(x[0], x[1][0]) for x in d])\n",
    "        ret_labels.append([x[1][1] for x in d])\n",
    "    return ret, ret_labels"
   ]
  },
  {
   "cell_type": "code",
   "execution_count": 14,
   "metadata": {},
   "outputs": [
    {
     "name": "stdout",
     "output_type": "stream",
     "text": [
      "Predicting 2376 examples\n"
     ]
    },
    {
     "data": {
      "application/vnd.jupyter.widget-view+json": {
       "model_id": "7f00b23365fa46a381aa4ce2ec8ca794",
       "version_major": 2,
       "version_minor": 0
      },
      "text/plain": [
       "HBox(children=(FloatProgress(value=0.0, max=297.0), HTML(value='')))"
      ]
     },
     "metadata": {},
     "output_type": "display_data"
    },
    {
     "name": "stdout",
     "output_type": "stream",
     "text": [
      "\n",
      "Test cases:      198\n",
      "Fails (rate):    180 (90.9%)\n",
      "\n",
      "Example fails:\n",
      "C: Jonathan is serious about the project. Charles is very serious about the project.\n",
      "Q: Who is least serious about the project?\n",
      "A: Jonathan\n",
      "P: Charles\n",
      "\n",
      "\n",
      "----\n",
      "C: Samantha is confident about the project. Kyle is very confident about the project.\n",
      "Q: Who is least confident about the project?\n",
      "A: Samantha\n",
      "P: Kyle\n",
      "\n",
      "C: Samantha is somewhat confident about the project. Kyle is very confident about the project.\n",
      "Q: Who is least confident about the project?\n",
      "A: Samantha\n",
      "P: Kyle\n",
      "\n",
      "\n",
      "----\n",
      "C: Brandon is pessimistic about the project. Zachary is particularly pessimistic about the project.\n",
      "Q: Who is least pessimistic about the project?\n",
      "A: Brandon\n",
      "P: Zachary\n",
      "\n",
      "C: Zachary is pessimistic about the project. Brandon is somewhat pessimistic about the project.\n",
      "Q: Who is least pessimistic about the project?\n",
      "A: Brandon\n",
      "P: Zachary\n",
      "\n",
      "C: Brandon is somewhat pessimistic about the project. Zachary is pessimistic about the project.\n",
      "Q: Who is most pessimistic about the project?\n",
      "A: Zachary\n",
      "P: Brandon\n",
      "\n",
      "\n",
      "----\n"
     ]
    }
   ],
   "source": [
    "data, labels = to_datalabels(editor.template(\n",
    "    {\n",
    "        'contexts': [\n",
    "            '{first_name} is {very} {s} about the project. {first_name1} is {s} about the project.',\n",
    "            '{first_name1} is {s} about the project. {first_name} is {very} {s} about the project.',\n",
    "            '{first_name} is {s} about the project. {first_name1} is {somewhat} {s} about the project.',\n",
    "            '{first_name1} is {somewhat} {s} about the project. {first_name} is {s} about the project.',\n",
    "            '{first_name} is {very} {s} about the project. {first_name1} is {somewhat} {s} about the project.',\n",
    "            '{first_name1} is {somewhat} {s} about the project. {first_name} is {very} {s} about the project.',\n",
    "        ],\n",
    "        'qas': [\n",
    "            (\n",
    "                'Who is most {s} about the project?',\n",
    "                '{first_name}'\n",
    "            ), \n",
    "            (\n",
    "                'Who is least {s} about the project?',\n",
    "                '{first_name1}'\n",
    "            ), \n",
    "            \n",
    "        ]\n",
    "        \n",
    "    },\n",
    "    s = state,\n",
    "    very=very,\n",
    "    somewhat=somewhat,\n",
    "    remove_duplicates=True,\n",
    "    nsamples=200,\n",
    "    ))\n",
    "test = Mft(data, labels=labels)\n",
    "test.run(new_pp)\n",
    "test.summary(n=3, format_example_fn=format_squad_with_context)\n"
   ]
  },
  {
   "cell_type": "markdown",
   "metadata": {},
   "source": [
    "## Taxonomy"
   ]
  },
  {
   "cell_type": "markdown",
   "metadata": {},
   "source": [
    "### Size, chape, color, age, material"
   ]
  },
  {
   "cell_type": "code",
   "execution_count": 15,
   "metadata": {},
   "outputs": [],
   "source": [
    "import munch\n",
    "order = ['size', 'shape', 'age', 'color']\n",
    "props = []\n",
    "properties = {\n",
    "    'color' : ['red', 'blue','yellow', 'green', 'pink', 'white', 'black', 'orange', 'grey', 'purple', 'brown'],\n",
    "    'size' : ['big', 'small', 'tiny', 'enormous'],\n",
    "    'age' : ['old', 'new'],\n",
    "    'shape' : ['round', 'oval', 'square', 'triangular'],\n",
    "    'material' : ['iron', 'wooden', 'ceramic', 'glass', 'stone']\n",
    "}\n",
    "for i in range(len(order)):\n",
    "    for j in range(i + 1, len(order)):\n",
    "        p1, p2 = order[i], order[j]\n",
    "        for v1, v2 in itertools.product(properties[p1], properties[p2]):\n",
    "            props.append(munch.Munch({\n",
    "                'p1': p1,\n",
    "                'p2': p2,\n",
    "                'v1': v1,\n",
    "                'v2': v2,\n",
    "            }))\n"
   ]
  },
  {
   "cell_type": "code",
   "execution_count": 16,
   "metadata": {},
   "outputs": [
    {
     "name": "stdout",
     "output_type": "stream",
     "text": [
      "light, wall, table, object, couch, door, sofa, chair, mirror, box, window, clock, bar, elephant, lamp, carpet, curtain, room, bed, ball, spot, building, hole, stone, screen, candle, tree, cat, square, painting\n"
     ]
    }
   ],
   "source": [
    "print(', '.join(editor.suggest('There is {a:p.v1} {p.v2} {bert} in the room.', p=props, verbose=False)[:30]))\n",
    "objects = ['box', 'clock', 'table', 'object', 'toy', 'painting', 'sculpture', 'thing', 'figure']\n"
   ]
  },
  {
   "cell_type": "code",
   "execution_count": 17,
   "metadata": {},
   "outputs": [
    {
     "name": "stdout",
     "output_type": "stream",
     "text": [
      "Predicting 800 examples\n"
     ]
    },
    {
     "data": {
      "application/vnd.jupyter.widget-view+json": {
       "model_id": "acff71e6a8624f86b783fe4c99413985",
       "version_major": 2,
       "version_minor": 0
      },
      "text/plain": [
       "HBox(children=(FloatProgress(value=0.0), HTML(value='')))"
      ]
     },
     "metadata": {},
     "output_type": "display_data"
    },
    {
     "name": "stdout",
     "output_type": "stream",
     "text": [
      "\n",
      "Test cases:      200\n",
      "Fails (rate):    166 (83.0%)\n",
      "\n",
      "Example fails:\n",
      "C: There is a thing in the room. The thing is enormous and oval.\n",
      "Q: What size is the thing?\n",
      "A: enormous\n",
      "P: enormous and oval\n",
      "\n",
      "\n",
      "----\n",
      "C: There is a round purple clock in the room.\n",
      "Q: What shape is the clock?\n",
      "A: round\n",
      "P: round purple\n",
      "\n",
      "C: There is a clock in the room. The clock is round and purple.\n",
      "Q: What shape is the clock?\n",
      "A: round\n",
      "P: round and purple\n",
      "\n",
      "\n",
      "----\n",
      "C: There is a tiny black object in the room.\n",
      "Q: What size is the object?\n",
      "A: tiny\n",
      "P: tiny black\n",
      "\n",
      "\n",
      "----\n"
     ]
    }
   ],
   "source": [
    "data, labels = to_datalabels(editor.template(\n",
    "    {\n",
    "        'contexts': [\n",
    "            'There is {a:p.v1} {p.v2} {obj} in the room.',\n",
    "            'There is {a:obj} in the room. The {obj} is {p.v1} and {p.v2}.',\n",
    "        ],\n",
    "        'qas': [\n",
    "            (\n",
    "                'What {p.p1} is the {obj}?',\n",
    "                '{p.v1}'\n",
    "            ), \n",
    "            (\n",
    "                'What {p.p2} is the {obj}?',\n",
    "                '{p.v2}'\n",
    "            ), \n",
    "            \n",
    "        ]\n",
    "        \n",
    "    },\n",
    "    obj=objects,\n",
    "    p=props,\n",
    "    remove_duplicates=True,\n",
    "    nsamples=200,\n",
    "    ))\n",
    "test = Mft(data, labels=labels)\n",
    "test.run(new_pp)\n",
    "test.summary(n=3, format_example_fn=format_squad_with_context)"
   ]
  },
  {
   "cell_type": "markdown",
   "metadata": {},
   "source": [
    "### Professions vs nationalities"
   ]
  },
  {
   "cell_type": "code",
   "execution_count": 20,
   "metadata": {},
   "outputs": [],
   "source": [
    "professions = editor.suggest('{first_name} works as {a:bert}.')[:30]\n",
    "professions += editor.suggest('{first_name} {last_name} works as {a:bert}.')[:30]\n",
    "professions = list(set(professions))\n",
    "if 'translator' in professions:\n",
    "    professions.remove('translator')"
   ]
  },
  {
   "cell_type": "code",
   "execution_count": 21,
   "metadata": {},
   "outputs": [],
   "source": [
    "def clean(string):\n",
    "    return string.lstrip('[a,the,an,in,at] ').rstrip('.')"
   ]
  },
  {
   "cell_type": "code",
   "execution_count": 22,
   "metadata": {},
   "outputs": [],
   "source": [
    "def expect_squad(x, pred, conf, label=None, meta=None):\n",
    "    return clean(pred) == clean(label)\n",
    "expect_squad = Expect.single(expect_squad)"
   ]
  },
  {
   "cell_type": "code",
   "execution_count": 23,
   "metadata": {},
   "outputs": [
    {
     "name": "stdout",
     "output_type": "stream",
     "text": [
      "Predicting 1000 examples\n"
     ]
    },
    {
     "data": {
      "application/vnd.jupyter.widget-view+json": {
       "model_id": "985e420864c543b494af969c42d3b5e0",
       "version_major": 2,
       "version_minor": 0
      },
      "text/plain": [
       "HBox(children=(FloatProgress(value=0.0, max=125.0), HTML(value='')))"
      ]
     },
     "metadata": {},
     "output_type": "display_data"
    },
    {
     "name": "stdout",
     "output_type": "stream",
     "text": [
      "\n",
      "Test cases:      100\n",
      "Fails (rate):    51 (51.0%)\n",
      "\n",
      "Example fails:\n",
      "C: Danielle is a Russian author.\n",
      "Q: What is Danielle's job?\n",
      "A: author\n",
      "P: Russian author\n",
      "\n",
      "\n",
      "----\n",
      "C: Emily is a Brazilian consultant.\n",
      "Q: What is Emily's job?\n",
      "A: consultant\n",
      "P: Brazilian consultant\n",
      "\n",
      "\n",
      "----\n",
      "C: Elizabeth is a Russian salesman.\n",
      "Q: What is Elizabeth's job?\n",
      "A: salesman\n",
      "P: Russian salesman\n",
      "\n",
      "\n",
      "----\n"
     ]
    }
   ],
   "source": [
    "data, labels = to_datalabels(editor.template(\n",
    "    {\n",
    "        'contexts': [\n",
    "            '{first_name} is {a:nat} {prof}.',\n",
    "            '{first_name} is {a:prof}. {first_name} is {nat}.',\n",
    "            '{first_name} is {nat}. {first_name} is {a:prof}.',\n",
    "            '{first_name} is {nat} and {a:prof}.',\n",
    "            '{first_name} is {a:prof} and {nat}.',\n",
    "        ],\n",
    "        'qas': [\n",
    "            (\n",
    "                'What is {first_name}\\'s job?',\n",
    "                '{prof}'\n",
    "            ), \n",
    "            (\n",
    "                'What is {first_name}\\'s nationality?',\n",
    "                '{nat}'\n",
    "            ), \n",
    "            \n",
    "        ]\n",
    "        \n",
    "    },\n",
    "    nat = editor.lexicons['nationality'][:10],\n",
    "    prof=professions,\n",
    "    remove_duplicates=True,\n",
    "    nsamples=100,\n",
    "    ))\n",
    "test = Mft(data, expect=expect_squad, labels=labels)\n",
    "test.run(new_pp)\n",
    "test.summary(n=3, format_example_fn=format_squad_with_context)"
   ]
  },
  {
   "cell_type": "markdown",
   "metadata": {},
   "source": [
    "### Animal vs vehicle"
   ]
  },
  {
   "cell_type": "code",
   "execution_count": 24,
   "metadata": {},
   "outputs": [
    {
     "name": "stdout",
     "output_type": "stream",
     "text": [
      "Predicting 400 examples\n"
     ]
    },
    {
     "data": {
      "application/vnd.jupyter.widget-view+json": {
       "model_id": "458bf84f6ecc4602aff6c64f62f28ee3",
       "version_major": 2,
       "version_minor": 0
      },
      "text/plain": [
       "HBox(children=(FloatProgress(value=0.0, max=50.0), HTML(value='')))"
      ]
     },
     "metadata": {},
     "output_type": "display_data"
    },
    {
     "name": "stdout",
     "output_type": "stream",
     "text": [
      "\n",
      "Test cases:      100\n",
      "Fails (rate):    21 (21.0%)\n",
      "\n",
      "Example fails:\n",
      "C: Michael has a bull and a train.\n",
      "Q: What vehicle does Michael have?\n",
      "A: train\n",
      "P: a bull and a train\n",
      "\n",
      "C: Michael has a train and a bull.\n",
      "Q: What vehicle does Michael have?\n",
      "A: train\n",
      "P: a train and a bull\n",
      "\n",
      "\n",
      "----\n",
      "C: Michael has a bull and a tractor.\n",
      "Q: What animal does Michael have?\n",
      "A: bull\n",
      "P: a bull and a tractor\n",
      "\n",
      "C: Michael has a bull and a tractor.\n",
      "Q: What vehicle does Michael have?\n",
      "A: tractor\n",
      "P: a bull and a tractor\n",
      "\n",
      "C: Michael has a tractor and a bull.\n",
      "Q: What animal does Michael have?\n",
      "A: bull\n",
      "P: a tractor and a bull\n",
      "\n",
      "\n",
      "----\n",
      "C: Alexander has a cow and a tractor.\n",
      "Q: What vehicle does Alexander have?\n",
      "A: tractor\n",
      "P: a cow and a tractor\n",
      "\n",
      "C: Alexander has a tractor and a cow.\n",
      "Q: What animal does Alexander have?\n",
      "A: cow\n",
      "P: a tractor and a cow\n",
      "\n",
      "\n",
      "----\n"
     ]
    }
   ],
   "source": [
    "animals = ['dog', 'cat', 'bull', 'cow', 'fish', 'serpent', 'snake', 'lizard', 'hamster', 'rabbit', 'guinea pig', 'iguana', 'duck']\n",
    "vehicles = ['car', 'truck', 'train', 'motorcycle', 'bike', 'firetruck', 'tractor', 'van', 'SUV', 'minivan']\n",
    "data, labels = to_datalabels(editor.template(\n",
    "    {\n",
    "        'contexts': [\n",
    "            '{first_name} has {a:animal} and {a:vehicle}.',\n",
    "            '{first_name} has {a:vehicle} and {a:animal}.',\n",
    "        ],\n",
    "        'qas': [\n",
    "            (\n",
    "                'What animal does {first_name} have?',\n",
    "                '{animal}'\n",
    "            ), \n",
    "            (\n",
    "                'What vehicle does {first_name} have?',\n",
    "                '{vehicle}'\n",
    "            ), \n",
    "            \n",
    "        ]\n",
    "        \n",
    "    },\n",
    "    animal=animals,\n",
    "    vehicle=vehicles,\n",
    "    remove_duplicates=True,\n",
    "    nsamples=100,\n",
    "    ))\n",
    "test = Mft(data, expect=expect_squad, labels=labels)\n",
    "test.run(new_pp)\n",
    "test.summary(n=3, format_example_fn=format_squad_with_context)\n"
   ]
  },
  {
   "cell_type": "markdown",
   "metadata": {},
   "source": [
    "## Robustness"
   ]
  },
  {
   "cell_type": "markdown",
   "metadata": {},
   "source": [
    "typos"
   ]
  },
  {
   "cell_type": "code",
   "execution_count": 291,
   "metadata": {},
   "outputs": [
    {
     "name": "stdout",
     "output_type": "stream",
     "text": [
      "Predicting 600 examples\n"
     ]
    },
    {
     "data": {
      "application/vnd.jupyter.widget-view+json": {
       "model_id": "fb3a5e7bcf444e6381ad1564f56ae25b",
       "version_major": 2,
       "version_minor": 0
      },
      "text/plain": [
       "HBox(children=(FloatProgress(value=0.0, max=77.0), HTML(value='')))"
      ]
     },
     "metadata": {},
     "output_type": "display_data"
    },
    {
     "name": "stdout",
     "output_type": "stream",
     "text": [
      "\n",
      "Test cases:      300\n",
      "Fails (rate):    46 (15.3%)\n",
      "\n",
      "Example fails:\n",
      "C: Tesla gained experience in telephony and electrical engineering before emigrating to the United States in 1884 to work for Thomas Edison in New York City. He soon struck out on his own with financial backers, setting up laboratories and companies to develop a range of electrical devices. His patented AC induction motor and transformer were licensed by George Westinghouse, who also hired Tesla for a short time as a consultant. His work in the formative years of electric power development was involved in a corporate alternating current/direct current \"War of Currents\" as well as various patent battles.\n",
      "Q: Where did Tesla work with Edison?\n",
      "P: New York City\n",
      "\n",
      "C: Tesla gained experience in telephony and electrical engineering before emigrating to the United States in 1884 to work for Thomas Edison in New York City. He soon struck out on his own with financial backers, setting up laboratories and companies to develop a range of electrical devices. His patented AC induction motor and transformer were licensed by George Westinghouse, who also hired Tesla for a short time as a consultant. His work in the formative years of electric power development was involved in a corporate alternating current/direct current \"War of Currents\" as well as various patent battles.\n",
      "Q: Whree did Tesla work with Edison?\n",
      "P: 1884 to work for Thomas Edison in New York City\n",
      "\n",
      "\n",
      "----\n",
      "C: Internet2 is a not-for-profit United States computer networking consortium led by members from the research and education communities, industry, and government. The Internet2 community, in partnership with Qwest, built the first Internet2 Network, called Abilene, in 1998 and was a prime investor in the National LambdaRail (NLR) project. In 2006, Internet2 announced a partnership with Level 3 Communications to launch a brand new nationwide network, boosting its capacity from 10 Gbit/s to 100 Gbit/s. In October, 2007, Internet2 officially retired Abilene and now refers to its new, higher capacity network as the Internet2 Network.\n",
      "Q: Who did internet2 partner with \n",
      "P: Level 3 Communications\n",
      "\n",
      "C: Internet2 is a not-for-profit United States computer networking consortium led by members from the research and education communities, industry, and government. The Internet2 community, in partnership with Qwest, built the first Internet2 Network, called Abilene, in 1998 and was a prime investor in the National LambdaRail (NLR) project. In 2006, Internet2 announced a partnership with Level 3 Communications to launch a brand new nationwide network, boosting its capacity from 10 Gbit/s to 100 Gbit/s. In October, 2007, Internet2 officially retired Abilene and now refers to its new, higher capacity network as the Internet2 Network.\n",
      "Q: Who di dinternet2 partner with \n",
      "P: Qwest\n",
      "\n",
      "\n",
      "----\n",
      "C: Tesla was a good friend of Francis Marion Crawford, Robert Underwood Johnson, Stanford White, Fritz Lowenstein, George Scherff, and Kenneth Swezey. In middle age, Tesla became a close friend of Mark Twain; they spent a lot of time together in his lab and elsewhere. Twain notably described Tesla's induction motor invention as \"the most valuable patent since the telephone.\" In the late 1920s, Tesla also befriended George Sylvester Viereck, a poet, writer, mystic, and later, a Nazi propagandist. Tesla occasionally attended dinner parties held by Viereck and his wife.\n",
      "Q: Where did Tesla and Twain hang out?\n",
      "P: in his lab\n",
      "\n",
      "C: Tesla was a good friend of Francis Marion Crawford, Robert Underwood Johnson, Stanford White, Fritz Lowenstein, George Scherff, and Kenneth Swezey. In middle age, Tesla became a close friend of Mark Twain; they spent a lot of time together in his lab and elsewhere. Twain notably described Tesla's induction motor invention as \"the most valuable patent since the telephone.\" In the late 1920s, Tesla also befriended George Sylvester Viereck, a poet, writer, mystic, and later, a Nazi propagandist. Tesla occasionally attended dinner parties held by Viereck and his wife.\n",
      "Q: Where did Tesla nad Twain hang out?\n",
      "P: his lab\n",
      "\n",
      "\n",
      "----\n"
     ]
    }
   ],
   "source": [
    "def question_typo(x):\n",
    "    return (x[0], Perturb.add_typos(x[1]))\n",
    "data = Perturb.perturb(pairs, question_typo, nsamples=300)\n",
    "test = Inv(data)\n",
    "test.run(new_pp)\n",
    "test.summary(n=3, format_example_fn=format_squad)"
   ]
  },
  {
   "cell_type": "markdown",
   "metadata": {},
   "source": [
    "Contractions"
   ]
  },
  {
   "cell_type": "code",
   "execution_count": 298,
   "metadata": {},
   "outputs": [
    {
     "name": "stdout",
     "output_type": "stream",
     "text": [
      "Test cases:      300\n",
      "Fails (rate):    14 (4.7%)\n",
      "\n",
      "Example fails:\n",
      "Q: If someone is being taught at their place of residence, what is it called?\n",
      "P: Informal learning\n",
      "\n",
      "Q: If someone is being taught at their place of residence, what's it called?\n",
      "P: home schooling\n",
      "\n",
      "\n",
      "----\n",
      "Q: How did Celeron handle meeting with Old Briton?\n",
      "P: threatened \"Old Briton\" with severe consequences\n",
      "\n",
      "Q: How'd Celeron handle meeting with Old Briton?\n",
      "P: Céloron threatened \"Old Briton\" with severe consequences\n",
      "\n",
      "\n",
      "----\n",
      "Q: Where did the discharge from glaciers go in Europe in the last Ice Age?\n",
      "P: the Rhine\n",
      "\n",
      "Q: Where'd the discharge from glaciers go in Europe in the last Ice Age?\n",
      "P: the Rhine and its downstream extension\n",
      "\n",
      "\n",
      "----\n"
     ]
    }
   ],
   "source": [
    "def contractions(x):\n",
    "    conts = Perturb.contractions(x[1])\n",
    "    return [(x[0], a) for a in conts]\n",
    "data = Perturb.perturb(pairs, contractions, nsamples=300)\n",
    "test = Inv(data)\n",
    "test.run(new_pp)\n",
    "test.summary(n=3, format_example_fn=format_squad)"
   ]
  },
  {
   "cell_type": "markdown",
   "metadata": {},
   "source": [
    "Add random sentence"
   ]
  },
  {
   "cell_type": "code",
   "execution_count": 301,
   "metadata": {},
   "outputs": [],
   "source": [
    "random_sentences = set()\n",
    "for x, _ in processed_pairs:\n",
    "    for y in x.sents:\n",
    "        random_sentences.add(y.text)\n",
    "random_sentences = list(random_sentences)"
   ]
  },
  {
   "cell_type": "code",
   "execution_count": 303,
   "metadata": {},
   "outputs": [],
   "source": [
    "# len(random_sentences)"
   ]
  },
  {
   "cell_type": "code",
   "execution_count": 307,
   "metadata": {},
   "outputs": [
    {
     "data": {
      "text/plain": [
       "[{},\n",
       " 'add to end: Later in the summer, Kenyatta visited China at the invitation of President Xi Jinping after a stop in Russia and not having visited the United States as president. ',\n",
       " 'add to beg: Later in the summer, Kenyatta visited China at the invitation of President Xi Jinping after a stop in Russia and not having visited the United States as president. ']"
      ]
     },
     "execution_count": 307,
     "metadata": {},
     "output_type": "execute_result"
    }
   ],
   "source": [
    "meta[0]"
   ]
  },
  {
   "cell_type": "code",
   "execution_count": 309,
   "metadata": {},
   "outputs": [
    {
     "name": "stdout",
     "output_type": "stream",
     "text": [
      "Test cases:      300\n",
      "Fails (rate):    18 (6.0%)\n",
      "\n",
      "Example fails:\n",
      "Q: What do most online pharmacies do?\n",
      "P: sell prescription drugs\n",
      "\n",
      "Q: What do most online pharmacies do?\n",
      "P: sell prescription drugs and require a valid prescription\n",
      "Perturb: add to beg: In 2005 it moved to a new facility on The Watermark business park next to the MetroCentre in Gateshead. \n",
      "\n",
      "\n",
      "----\n",
      "Q: Concrete bounding of computation time frequently produces complexity classes contingent upon what?\n",
      "P: the chosen machine model\n",
      "\n",
      "Q: Concrete bounding of computation time frequently produces complexity classes contingent upon what?\n",
      "P: machine model\n",
      "Perturb: add to end: Many important complexity classes can be defined by bounding the time or space used by the algorithm. \n",
      "\n",
      "\n",
      "----\n",
      "Q: What is formed when a phagosome fuses with a lysosome?\n",
      "P: a phagolysosome\n",
      "\n",
      "Q: What is formed when a phagosome fuses with a lysosome?\n",
      "P: phagolysosome\n",
      "Perturb: add to beg: One of the most important pieces in this collection is a marquetry commode by the ébéniste Jean Henri Riesener dated c1780. \n",
      "\n",
      "\n",
      "----\n"
     ]
    }
   ],
   "source": [
    "def add_random_sentence(x):\n",
    "    random_s = np.random.choice(random_sentences)\n",
    "    while random_s in x[0]:\n",
    "        random_s = np.random.choice(random_sentences)\n",
    "    random_s = random_s.strip('.') + '. '\n",
    "    meta = ['add to end: %s' % random_s, 'add to beg: %s' % random_s]\n",
    "    return [(x[0] + random_s, x[1]), (random_s + x[0], x[1])], meta\n",
    "\n",
    "def format_add(x, pred, conf, label=None, meta=None):\n",
    "    ret = format_squad(x, pred, conf, label, meta)\n",
    "    if meta:\n",
    "        ret += 'Perturb: %s\\n' % meta\n",
    "    return ret\n",
    "\n",
    "# data, meta = Perturb.perturb(pairs, add_random_sentence, nsamples=300, returns_meta=True)\n",
    "# test = Inv(data, meta=meta)\n",
    "# test.run(new_pp)\n",
    "test.summary(n=3, format_example_fn=format_add)\n",
    "    "
   ]
  },
  {
   "cell_type": "markdown",
   "metadata": {},
   "source": [
    "## Temporal"
   ]
  },
  {
   "cell_type": "code",
   "execution_count": 33,
   "metadata": {},
   "outputs": [
    {
     "name": "stdout",
     "output_type": "stream",
     "text": [
      "Predicting 192 examples\n"
     ]
    },
    {
     "data": {
      "application/vnd.jupyter.widget-view+json": {
       "model_id": "a371674a317b4064af716d6d2d34c3c1",
       "version_major": 2,
       "version_minor": 0
      },
      "text/plain": [
       "HBox(children=(FloatProgress(value=0.0, max=24.0), HTML(value='')))"
      ]
     },
     "metadata": {},
     "output_type": "display_data"
    },
    {
     "name": "stdout",
     "output_type": "stream",
     "text": [
      "\n",
      "Test cases:      96\n",
      "Fails (rate):    44 (45.8%)\n",
      "\n",
      "Example fails:\n",
      "C: Both Nicole and Austin were cleaners, but there was a change in Nicole, who is now a musician.\n",
      "Q: Who is a musician?\n",
      "A: Nicole\n",
      "P: Nicole and Austin were cleaners, but there was a change in Nicole\n",
      "\n",
      "\n",
      "----\n",
      "C: Both Emma and Hannah were DJs, but there was a change in Hannah, who is now a photographer.\n",
      "Q: Who is a photographer?\n",
      "A: Hannah\n",
      "P: Hannah were DJs, but there was a change in Hannah\n",
      "\n",
      "\n",
      "----\n",
      "C: Both Sara and Dylan were psychologists, but there was a change in Sara, who is now an artist.\n",
      "Q: Who is an artist?\n",
      "A: Sara\n",
      "P: Sara and Dylan were psychologists, but there was a change in Sara\n",
      "\n",
      "\n",
      "----\n"
     ]
    }
   ],
   "source": [
    "data, labels = to_datalabels(editor.template(\n",
    "    {\n",
    "        'contexts': [\n",
    "            'Both {first_name} and {first_name2} were {prof1}s, but there was a change in {first_name}, who is now {a:prof2}.',\n",
    "            'Both {first_name2} and {first_name} were {prof1}s, but there was a change in {first_name}, who is now {a:prof2}.',\n",
    "        ],\n",
    "        'qas': [\n",
    "            (\n",
    "                'Who is {a:prof2}?',\n",
    "                '{first_name}'\n",
    "            ), \n",
    "        ]\n",
    "        \n",
    "    },\n",
    "    prof=professions,\n",
    "    remove_duplicates=True,\n",
    "    nsamples=100,\n",
    "    ))\n",
    "test = Mft(data, expect=expect_squad, labels=labels)\n",
    "test.run(new_pp)\n",
    "test.summary(n=3, format_example_fn=format_squad_with_context)"
   ]
  },
  {
   "cell_type": "code",
   "execution_count": 34,
   "metadata": {},
   "outputs": [
    {
     "name": "stdout",
     "output_type": "stream",
     "text": [
      "Predicting 392 examples\n"
     ]
    },
    {
     "data": {
      "application/vnd.jupyter.widget-view+json": {
       "model_id": "087f52c65e5245b59a357310366204b2",
       "version_major": 2,
       "version_minor": 0
      },
      "text/plain": [
       "HBox(children=(FloatProgress(value=0.0, max=49.0), HTML(value='')))"
      ]
     },
     "metadata": {},
     "output_type": "display_data"
    },
    {
     "name": "stdout",
     "output_type": "stream",
     "text": [
      "\n",
      "Test cases:      98\n",
      "Fails (rate):    82 (83.7%)\n",
      "\n",
      "Example fails:\n",
      "C: Jose became a analyst after Richard did.\n",
      "Q: Who became a analyst last?\n",
      "A: Jose\n",
      "P: Richard\n",
      "\n",
      "\n",
      "----\n",
      "C: Danielle became a historian before James did.\n",
      "Q: Who became a historian last?\n",
      "A: James\n",
      "P: Danielle\n",
      "\n",
      "\n",
      "----\n",
      "C: Aaron became a actress before Jeremy did.\n",
      "Q: Who became a actress last?\n",
      "A: Jeremy\n",
      "P: Aaron\n",
      "\n",
      "C: Jeremy became a actress after Aaron did.\n",
      "Q: Who became a actress first?\n",
      "A: Aaron\n",
      "P: Jeremy\n",
      "\n",
      "\n",
      "----\n"
     ]
    }
   ],
   "source": [
    "data, labels = to_datalabels(editor.template(\n",
    "    {\n",
    "        'contexts': [\n",
    "            '{first_name} became a {prof} before {first_name2} did.',\n",
    "            '{first_name2} became a {prof} after {first_name} did.',\n",
    "        ],\n",
    "        'qas': [\n",
    "            (\n",
    "                'Who became a {prof} first?',\n",
    "                '{first_name}'\n",
    "            ), \n",
    "            (\n",
    "                'Who became a {prof} last?',\n",
    "                '{first_name2}'\n",
    "            ), \n",
    "        ]\n",
    "        \n",
    "    },\n",
    "    prof=professions,\n",
    "    remove_duplicates=True,\n",
    "    nsamples=100,\n",
    "    ))\n",
    "test = Mft(data, expect=expect_squad, labels=labels)\n",
    "test.run(new_pp)\n",
    "test.summary(n=3, format_example_fn=format_squad_with_context)\n"
   ]
  },
  {
   "cell_type": "markdown",
   "metadata": {},
   "source": [
    "## Negation"
   ]
  },
  {
   "cell_type": "markdown",
   "metadata": {},
   "source": [
    "In context"
   ]
  },
  {
   "cell_type": "code",
   "execution_count": 38,
   "metadata": {},
   "outputs": [
    {
     "name": "stdout",
     "output_type": "stream",
     "text": [
      "Predicting 792 examples\n"
     ]
    },
    {
     "data": {
      "application/vnd.jupyter.widget-view+json": {
       "model_id": "0855a1716f7e44fa800d4bc6d9a3a3da",
       "version_major": 2,
       "version_minor": 0
      },
      "text/plain": [
       "HBox(children=(FloatProgress(value=0.0, max=99.0), HTML(value='')))"
      ]
     },
     "metadata": {},
     "output_type": "display_data"
    },
    {
     "name": "stdout",
     "output_type": "stream",
     "text": [
      "\n",
      "Test cases:      198\n",
      "Fails (rate):    153 (77.3%)\n",
      "\n",
      "Example fails:\n",
      "C: Kelly is not an investigator. Sophia is.\n",
      "Q: Who is an investigator?\n",
      "A: Sophia\n",
      "P: Kelly\n",
      "\n",
      "\n",
      "----\n",
      "C: Stephanie is a model. Christian is not.\n",
      "Q: Who is not a model?\n",
      "A: Christian\n",
      "P: Stephanie\n",
      "\n",
      "\n",
      "----\n",
      "C: Jacob is an artist. Katherine is not.\n",
      "Q: Who is not an artist?\n",
      "A: Katherine\n",
      "P: Jacob\n",
      "\n",
      "\n",
      "----\n"
     ]
    }
   ],
   "source": [
    "data, labels = to_datalabels(editor.template(\n",
    "    {\n",
    "        'contexts': [\n",
    "            '{first_name} is not {a:prof}. {first_name2} is.',\n",
    "            '{first_name2} is {a:prof}. {first_name} is not.',\n",
    "        ],\n",
    "        'qas': [\n",
    "            (\n",
    "                'Who is {a:prof}?',\n",
    "                '{first_name2}'\n",
    "            ), \n",
    "            (\n",
    "                'Who is not {a:prof}?',\n",
    "                '{first_name}'\n",
    "            ), \n",
    "        ]\n",
    "        \n",
    "    },\n",
    "    prof=professions,\n",
    "    remove_duplicates=True,\n",
    "    nsamples=200,\n",
    "    ))\n",
    "test = Mft(data, expect=expect_squad, labels=labels)\n",
    "test.run(new_pp)\n",
    "test.summary(n=3, format_example_fn=format_squad_with_context)"
   ]
  },
  {
   "cell_type": "markdown",
   "metadata": {},
   "source": [
    "Not in context:"
   ]
  },
  {
   "cell_type": "code",
   "execution_count": 39,
   "metadata": {},
   "outputs": [
    {
     "name": "stdout",
     "output_type": "stream",
     "text": [
      "Predicting 776 examples\n"
     ]
    },
    {
     "data": {
      "application/vnd.jupyter.widget-view+json": {
       "model_id": "0508fa8657f34889887f7c1a233d4696",
       "version_major": 2,
       "version_minor": 0
      },
      "text/plain": [
       "HBox(children=(FloatProgress(value=0.0, max=97.0), HTML(value='')))"
      ]
     },
     "metadata": {},
     "output_type": "display_data"
    },
    {
     "name": "stdout",
     "output_type": "stream",
     "text": [
      "\n",
      "Test cases:      97\n",
      "Fails (rate):    97 (100.0%)\n",
      "\n",
      "Example fails:\n",
      "C: Andrea is a doctor. Amy is a DJ.\n",
      "Q: Who is not a doctor?\n",
      "A: Amy\n",
      "P: Andrea\n",
      "\n",
      "C: Andrea is a doctor. Amy is a DJ.\n",
      "Q: Who is not a DJ?\n",
      "A: Andrea\n",
      "P: Amy\n",
      "\n",
      "C: Amy is a DJ. Andrea is a doctor.\n",
      "Q: Who is not a doctor?\n",
      "A: Amy\n",
      "P: Andrea\n",
      "\n",
      "\n",
      "----\n",
      "C: Isabella is an advisor. Jacob is a chef.\n",
      "Q: Who is not an advisor?\n",
      "A: Jacob\n",
      "P: Isabella\n",
      "\n",
      "C: Isabella is an advisor. Jacob is a chef.\n",
      "Q: Who is not a chef?\n",
      "A: Isabella\n",
      "P: Jacob\n",
      "\n",
      "C: Jacob is a chef. Isabella is an advisor.\n",
      "Q: Who is not an advisor?\n",
      "A: Jacob\n",
      "P: Isabella\n",
      "\n",
      "\n",
      "----\n",
      "C: Anthony is an architect. Noah is an educator.\n",
      "Q: Who is not an architect?\n",
      "A: Noah\n",
      "P: Anthony\n",
      "\n",
      "C: Anthony is an architect. Noah is an educator.\n",
      "Q: Who is not an educator?\n",
      "A: Anthony\n",
      "P: Noah\n",
      "\n",
      "C: Noah is an educator. Anthony is an architect.\n",
      "Q: Who is not an architect?\n",
      "A: Noah\n",
      "P: Anthony\n",
      "\n",
      "\n",
      "----\n"
     ]
    }
   ],
   "source": [
    "\n",
    "data, labels = to_datalabels(editor.template(\n",
    "    {\n",
    "        'contexts': [\n",
    "            '{first_name} is {a:prof}. {first_name2} is {a:prof2}.',\n",
    "            '{first_name2} is {a:prof2}. {first_name} is {a:prof}.',\n",
    "        ],\n",
    "        'qas': [\n",
    "            (\n",
    "                'Who is {a:prof}?',\n",
    "                '{first_name}'\n",
    "            ), \n",
    "            (\n",
    "                'Who is not {a:prof}?',\n",
    "                '{first_name2}'\n",
    "            ), \n",
    "            (\n",
    "                'Who is {a:prof2}?',\n",
    "                '{first_name2}'\n",
    "            ), \n",
    "            (\n",
    "                'Who is not {a:prof2}?',\n",
    "                '{first_name}'\n",
    "            ), \n",
    "        ]\n",
    "        \n",
    "    },\n",
    "    prof=professions,\n",
    "    remove_duplicates=True,\n",
    "    nsamples=100,\n",
    "    ))\n",
    "test = Mft(data, expect=expect_squad, labels=labels)\n",
    "test.run(new_pp)\n",
    "test.summary(n=3, format_example_fn=format_squad_with_context)"
   ]
  },
  {
   "cell_type": "markdown",
   "metadata": {},
   "source": [
    "## Fairness spinoff"
   ]
  },
  {
   "cell_type": "code",
   "execution_count": 238,
   "metadata": {},
   "outputs": [
    {
     "name": "stdout",
     "output_type": "stream",
     "text": [
      "bin           fail_men fail_women (count)\n",
      "doctor          0.02      0.85     (104)\n",
      "nurse           0.56      0.41     (90)\n",
      "secretary       0.54      0.08     (106)\n"
     ]
    }
   ],
   "source": []
  },
  {
   "cell_type": "code",
   "execution_count": 267,
   "metadata": {},
   "outputs": [
    {
     "name": "stdout",
     "output_type": "stream",
     "text": [
      "profession    fail_men fail_women (count)\n",
      "doctor          0.03      0.87     (173)\n",
      "secretary       0.62      0.02     (165)\n",
      "nurse           0.61      0.35     (162)\n"
     ]
    }
   ],
   "source": [
    "# fewer_profs = ['doctor', 'nurse', 'secretary']\n",
    "datameta = editor.template(\n",
    "    [\n",
    "        ('{male} is not {a:prof}, {female} is.', 'Who is {a:prof}?', '{female}', 'woman', '{prof}'),\n",
    "        ('{female} is not {a:prof}, {male} is.', 'Who is {a:prof}?', '{male}', 'man', '{prof}'),\n",
    "    ],\n",
    "    prof=professions,\n",
    "#     prof=fewer_profs,\n",
    "    remove_duplicates=True,\n",
    "    nsamples=10000,\n",
    "    unroll=True,\n",
    "    )\n",
    "data = [(d[0], d[1]) for d in datameta]\n",
    "labels = [d[2] for d in datameta]\n",
    "meta = [(d[3], d[4]) for d in datameta]\n",
    "\n",
    "test = Mft(data, expect=expect_squad, labels=labels, meta=meta)\n",
    "test.run(new_pp)\n",
    "\n",
    "def print_fair(test):\n",
    "    c = collections.Counter(test.meta)\n",
    "    fail = collections.Counter([tuple(x) for x in np.array(test.meta)[test.fail_idxs()]])\n",
    "    profs = set()\n",
    "    for sex, prof in fail:\n",
    "        profs.add(prof)\n",
    "    prof_fail = {}\n",
    "    get_fail = lambda f:fail[f] / c[f]\n",
    "    for prof in profs:\n",
    "        fail_m = get_fail(('man', prof))\n",
    "        fail_f = get_fail(('woman', prof))\n",
    "        prof_fail[prof] = (fail_m, fail_f)\n",
    "    print('%-13s fail_men fail_women (count)' % 'profession')\n",
    "    for prof, vs in sorted(prof_fail.items(), key=lambda x:max(x[1][0], x[1][1]), reverse=True):\n",
    "        fail_m, fail_f = vs\n",
    "        print('%-13s   %.2f      %.2f     (%d)' % (prof, fail_m, fail_f, c[('man', prof)]))\n",
    "print_fair(test)"
   ]
  },
  {
   "cell_type": "markdown",
   "metadata": {},
   "source": [
    "## Coref"
   ]
  },
  {
   "cell_type": "markdown",
   "metadata": {},
   "source": [
    "Basic coref"
   ]
  },
  {
   "cell_type": "code",
   "execution_count": 41,
   "metadata": {},
   "outputs": [
    {
     "name": "stdout",
     "output_type": "stream",
     "text": [
      "Predicting 784 examples\n"
     ]
    },
    {
     "data": {
      "application/vnd.jupyter.widget-view+json": {
       "model_id": "5cec1906f31c435c93c06cf5256d0a43",
       "version_major": 2,
       "version_minor": 0
      },
      "text/plain": [
       "HBox(children=(FloatProgress(value=0.0, max=98.0), HTML(value='')))"
      ]
     },
     "metadata": {},
     "output_type": "display_data"
    },
    {
     "name": "stdout",
     "output_type": "stream",
     "text": [
      "\n",
      "Test cases:      98\n",
      "Fails (rate):    98 (100.0%)\n",
      "\n",
      "Example fails:\n",
      "C: Nathan and Andrea are friends. He is an entrepreneur, and she is an agent.\n",
      "Q: Who is an entrepreneur?\n",
      "A: Nathan\n",
      "P: Nathan and Andrea\n",
      "\n",
      "C: Andrea and Nathan are friends. He is an entrepreneur, and she is an agent.\n",
      "Q: Who is an agent?\n",
      "A: Andrea\n",
      "P: Nathan\n",
      "\n",
      "C: Nathan and Andrea are friends. She is an agent, and he is an entrepreneur.\n",
      "Q: Who is an entrepreneur?\n",
      "A: Nathan\n",
      "P: Andrea\n",
      "\n",
      "\n",
      "----\n",
      "C: Richard and Natalie are friends. He is a waitress, and she is a photographer.\n",
      "Q: Who is a waitress?\n",
      "A: Richard\n",
      "P: Natalie\n",
      "\n",
      "C: Natalie and Richard are friends. He is a waitress, and she is a photographer.\n",
      "Q: Who is a photographer?\n",
      "A: Natalie\n",
      "P: Richard\n",
      "\n",
      "C: Richard and Natalie are friends. She is a photographer, and he is a waitress.\n",
      "Q: Who is a waitress?\n",
      "A: Richard\n",
      "P: Natalie\n",
      "\n",
      "\n",
      "----\n",
      "C: Ashley and Gabriel are friends. He is a psychologist, and she is a model.\n",
      "Q: Who is a model?\n",
      "A: Ashley\n",
      "P: Gabriel\n",
      "\n",
      "C: Gabriel and Ashley are friends. She is a model, and he is a psychologist.\n",
      "Q: Who is a psychologist?\n",
      "A: Gabriel\n",
      "P: Ashley\n",
      "\n",
      "\n",
      "----\n"
     ]
    }
   ],
   "source": [
    "data, labels = to_datalabels(editor.template(\n",
    "    {\n",
    "        'contexts': [\n",
    "            '{male} and {female} are friends. He is {a:prof1}, and she is {a:prof2}.',\n",
    "            '{female} and {male} are friends. He is {a:prof1}, and she is {a:prof2}.',\n",
    "            '{male} and {female} are friends. She is {a:prof2}, and he is {a:prof1}.',\n",
    "            '{female} and {male} are friends. She is {a:prof2}, and he is {a:prof1}.',\n",
    "        ],\n",
    "        'qas': [\n",
    "            (\n",
    "                'Who is {a:prof1}?',\n",
    "                '{male}'\n",
    "            ), \n",
    "            (\n",
    "                'Who is {a:prof2}?',\n",
    "                '{female}'\n",
    "            ), \n",
    "        ]\n",
    "        \n",
    "    },\n",
    "    prof=professions,\n",
    "    remove_duplicates=True,\n",
    "    nsamples=100,\n",
    "    ))\n",
    "test = Mft(data, expect=expect_squad, labels=labels)\n",
    "test.run(new_pp)\n",
    "test.summary(n=3, format_example_fn=format_squad_with_context)"
   ]
  },
  {
   "cell_type": "markdown",
   "metadata": {},
   "source": [
    "Former, latter"
   ]
  },
  {
   "cell_type": "code",
   "execution_count": 29,
   "metadata": {},
   "outputs": [
    {
     "name": "stdout",
     "output_type": "stream",
     "text": [
      "Predicting 396 examples\n"
     ]
    },
    {
     "data": {
      "application/vnd.jupyter.widget-view+json": {
       "model_id": "",
       "version_major": 2,
       "version_minor": 0
      },
      "text/plain": [
       "HBox(children=(FloatProgress(value=0.0, max=50.0), HTML(value='')))"
      ]
     },
     "metadata": {},
     "output_type": "display_data"
    },
    {
     "name": "stdout",
     "output_type": "stream",
     "text": [
      "\n",
      "Test cases:      99\n",
      "Fails (rate):    99 (100.0%)\n",
      "\n",
      "Example fails:\n",
      "C: Jonathan and Jeremy are friends. The former is a photographer.\n",
      "Q: Who is a photographer?\n",
      "A: Jonathan\n",
      "P: Jeremy\n",
      "\n",
      "C: Jonathan and Jeremy are friends. The former is a photographer and the latter is a producer.\n",
      "Q: Who is a photographer?\n",
      "A: Jonathan\n",
      "P: Jonathan and Jeremy\n",
      "\n",
      "\n",
      "----\n",
      "C: Steven and Benjamin are friends. The former is a therapist.\n",
      "Q: Who is a therapist?\n",
      "A: Steven\n",
      "P: Benjamin\n",
      "\n",
      "C: Steven and Benjamin are friends. The former is a therapist and the latter is a salesman.\n",
      "Q: Who is a therapist?\n",
      "A: Steven\n",
      "P: Benjamin\n",
      "\n",
      "\n",
      "----\n",
      "C: Kimberly and Katherine are friends. The former is a cleaner.\n",
      "Q: Who is a cleaner?\n",
      "A: Kimberly\n",
      "P: Katherine\n",
      "\n",
      "C: Kimberly and Katherine are friends. The former is a cleaner and the latter is an investigator.\n",
      "Q: Who is a cleaner?\n",
      "A: Kimberly\n",
      "P: Kimberly and Katherine\n",
      "\n",
      "\n",
      "----\n"
     ]
    }
   ],
   "source": [
    "data, labels = to_datalabels(editor.template(\n",
    "    {\n",
    "        'contexts': [\n",
    "            '{first_name} and {first_name2} are friends. The former is {a:prof1}.',\n",
    "            '{first_name2} and {first_name} are friends. The latter is {a:prof1}.',\n",
    "            '{first_name} and {first_name2} are friends. The former is {a:prof1} and the latter is {a:prof2}.',\n",
    "            '{first_name2} and {first_name} are friends. The former is {a:prof2} and the latter is {a:prof1}.',\n",
    "        ],\n",
    "        'qas': [\n",
    "            (\n",
    "                'Who is {a:prof1}?',\n",
    "                '{first_name}'\n",
    "            ), \n",
    "        ]\n",
    "        \n",
    "    },\n",
    "    prof=professions,\n",
    "    remove_duplicates=True,\n",
    "    nsamples=100,\n",
    "    ))\n",
    "test = Mft(data, expect=expect_squad, labels=labels)\n",
    "test.run(new_pp)\n",
    "test.summary(n=3, format_example_fn=format_squad_with_context)"
   ]
  },
  {
   "cell_type": "markdown",
   "metadata": {},
   "source": [
    "## SRL"
   ]
  },
  {
   "cell_type": "code",
   "execution_count": 53,
   "metadata": {},
   "outputs": [
    {
     "name": "stdout",
     "output_type": "stream",
     "text": [
      "Predicting 392 examples\n"
     ]
    },
    {
     "data": {
      "application/vnd.jupyter.widget-view+json": {
       "model_id": "ea5bebfe05e6417ebd73fce0503e7a36",
       "version_major": 2,
       "version_minor": 0
      },
      "text/plain": [
       "HBox(children=(FloatProgress(value=0.0, max=49.0), HTML(value='')))"
      ]
     },
     "metadata": {},
     "output_type": "display_data"
    },
    {
     "name": "stdout",
     "output_type": "stream",
     "text": [
      "\n",
      "Test cases:      98\n",
      "Fails (rate):    54 (55.1%)\n",
      "\n",
      "Example fails:\n",
      "C: Samantha supports Michael.\n",
      "Q: Who is supported?\n",
      "A: Michael\n",
      "P: Samantha supports Michael\n",
      "\n",
      "C: Michael is supported by Samantha.\n",
      "Q: Who is supported?\n",
      "A: Michael\n",
      "P: Samantha\n",
      "\n",
      "\n",
      "----\n",
      "C: Scott supports Danielle.\n",
      "Q: Who is supported?\n",
      "A: Danielle\n",
      "P: Scott\n",
      "\n",
      "\n",
      "----\n",
      "C: Sophia trusts Kyle.\n",
      "Q: Who trusts?\n",
      "A: Sophia\n",
      "P: Sophia trusts Kyle\n",
      "\n",
      "\n",
      "----\n"
     ]
    }
   ],
   "source": [
    "import pattern\n",
    "import pattern.en\n",
    "pverb = ['love', 'hate', 'like', 'remember', 'recognize', 'trust', 'deserve', 'understand', 'blame', 'dislike', 'prefer', 'follow', 'notice', 'hurt', 'bother', 'support', 'believe', 'accept', 'attack']\n",
    "a = pattern.en.tenses('loves')[0]\n",
    "b = pattern.en.tenses('stolen')[0]\n",
    "pverb = [(pattern.en.conjugate(v, *a), pattern.en.conjugate(v, *b)) for v in pverb]\n",
    "\n",
    "data, labels = to_datalabels(editor.template(\n",
    "    {\n",
    "        'contexts': [\n",
    "            '{first_name} {v[0]} {first_name2}.',\n",
    "            '{first_name2} is {v[1]} by {first_name}.',\n",
    "        ],\n",
    "        'qas': [\n",
    "            (\n",
    "                'Who {v[0]}?',\n",
    "                '{first_name}'\n",
    "            ), \n",
    "            (\n",
    "                'Who is {v[1]}?',\n",
    "                '{first_name2}'\n",
    "            ), \n",
    "        ]\n",
    "        \n",
    "    },\n",
    "    v=pverb,\n",
    "    remove_duplicates=True,\n",
    "    nsamples=100,\n",
    "    ))\n",
    "test = Mft(data, expect=expect_squad, labels=labels)\n",
    "test.run(new_pp)\n",
    "test.summary(n=3, format_example_fn=format_squad_with_context)"
   ]
  },
  {
   "cell_type": "code",
   "execution_count": 55,
   "metadata": {},
   "outputs": [
    {
     "name": "stdout",
     "output_type": "stream",
     "text": [
      "Predicting 1568 examples\n"
     ]
    },
    {
     "data": {
      "application/vnd.jupyter.widget-view+json": {
       "model_id": "4de7346a2035471eb21a940c43fd9969",
       "version_major": 2,
       "version_minor": 0
      },
      "text/plain": [
       "HBox(children=(FloatProgress(value=0.0, max=196.0), HTML(value='')))"
      ]
     },
     "metadata": {},
     "output_type": "display_data"
    },
    {
     "name": "stdout",
     "output_type": "stream",
     "text": [
      "\n",
      "Test cases:      98\n",
      "Fails (rate):    92 (93.9%)\n",
      "\n",
      "Example fails:\n",
      "C: Sophia accepts Joseph. Zachary is accepted by Joseph.\n",
      "Q: Who accepts Zachary?\n",
      "A: Joseph\n",
      "P: Sophia accepts Joseph\n",
      "\n",
      "\n",
      "----\n",
      "C: Kelly understands Ethan. Nathan is understood by Ethan.\n",
      "Q: Who understands Nathan?\n",
      "A: Ethan\n",
      "P: Kelly\n",
      "\n",
      "C: Kelly understands Ethan. Nathan is understood by Ethan.\n",
      "Q: Who is understood by Kelly?\n",
      "A: Ethan\n",
      "P: Nathan\n",
      "\n",
      "\n",
      "----\n",
      "C: Erin follows Jose. Michael is followed by Jose.\n",
      "Q: Who is followed by Erin?\n",
      "A: Jose\n",
      "P: Jose. Michael\n",
      "\n",
      "C: Jose is followed by Erin. Jose follows Michael.\n",
      "Q: Who is followed by Jose?\n",
      "A: Michael\n",
      "P: Erin\n",
      "\n",
      "\n",
      "----\n"
     ]
    }
   ],
   "source": [
    "data, labels = to_datalabels(editor.template(\n",
    "    {\n",
    "        'contexts': [\n",
    "            '{first_name} {v[0]} {first_name2}. {first_name2} {v[0]} {first_name3}.',\n",
    "            '{first_name} {v[0]} {first_name2}. {first_name3} is {v[1]} by {first_name2}.',\n",
    "            '{first_name2} is {v[1]} by {first_name}. {first_name2} {v[0]} {first_name3}.',\n",
    "            '{first_name2} is {v[1]} by {first_name}. {first_name3} is {v[1]} by {first_name2}.',\n",
    "        ],\n",
    "        'qas': [\n",
    "            (\n",
    "                'Who {v[0]} {first_name2}?',\n",
    "                '{first_name}'\n",
    "            ), \n",
    "            (\n",
    "                'Who {v[0]} {first_name3}?',\n",
    "                '{first_name2}'\n",
    "            ), \n",
    "            (\n",
    "                'Who is {v[1]} by {first_name}?',\n",
    "                '{first_name2}'\n",
    "            ), \n",
    "            (\n",
    "                'Who is {v[1]} by {first_name2}?',\n",
    "                '{first_name3}'\n",
    "            ), \n",
    "        ]\n",
    "        \n",
    "    },\n",
    "    v=pverb,\n",
    "    remove_duplicates=True,\n",
    "    nsamples=100,\n",
    "    ))\n",
    "test = Mft(data, expect=expect_squad, labels=labels)\n",
    "test.run(new_pp)\n",
    "test.summary(n=3, format_example_fn=format_squad_with_context)\n"
   ]
  }
 ],
 "metadata": {
  "kernelspec": {
   "display_name": "checklist",
   "language": "python",
   "name": "checklist"
  },
  "language_info": {
   "codemirror_mode": {
    "name": "ipython",
    "version": 3
   },
   "file_extension": ".py",
   "mimetype": "text/x-python",
   "name": "python",
   "nbconvert_exporter": "python",
   "pygments_lexer": "ipython3",
   "version": "3.6.8"
  }
 },
 "nbformat": 4,
 "nbformat_minor": 2
}
