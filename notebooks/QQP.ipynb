{
 "cells": [
  {
   "cell_type": "code",
   "execution_count": 2,
   "metadata": {},
   "outputs": [
    {
     "name": "stdout",
     "output_type": "stream",
     "text": [
      "The autoreload extension is already loaded. To reload it, use:\n",
      "  %reload_ext autoreload\n"
     ]
    }
   ],
   "source": [
    "%load_ext autoreload\n",
    "%autoreload 2\n",
    "\n",
    "import checklist\n",
    "import spacy\n",
    "import itertools\n",
    "\n",
    "import checklist.editor\n",
    "import checklist.text_generation\n",
    "from checklist.test_types import MFT, INV, DIR\n",
    "from checklist.expect import Expect\n",
    "from checklist.test_suite import TestSuite\n",
    "import numpy as np\n",
    "import spacy\n",
    "from checklist.perturb import Perturb\n"
   ]
  },
  {
   "cell_type": "code",
   "execution_count": 3,
   "metadata": {},
   "outputs": [
    {
     "ename": "ModuleNotFoundError",
     "evalue": "No module named 'mltests'",
     "output_type": "error",
     "traceback": [
      "\u001b[0;31m---------------------------------------------------------------------------\u001b[0m",
      "\u001b[0;31mModuleNotFoundError\u001b[0m                       Traceback (most recent call last)",
      "\u001b[0;32m<ipython-input-3-2bd4bef1cc42>\u001b[0m in \u001b[0;36m<module>\u001b[0;34m\u001b[0m\n\u001b[1;32m      3\u001b[0m \u001b[0;32mimport\u001b[0m \u001b[0msys\u001b[0m\u001b[0;34m\u001b[0m\u001b[0;34m\u001b[0m\u001b[0m\n\u001b[1;32m      4\u001b[0m \u001b[0msys\u001b[0m\u001b[0;34m.\u001b[0m\u001b[0mpath\u001b[0m\u001b[0;34m.\u001b[0m\u001b[0mappend\u001b[0m\u001b[0;34m(\u001b[0m\u001b[0;34m'/home/marcotcr/work/ml-tests/'\u001b[0m\u001b[0;34m)\u001b[0m\u001b[0;34m\u001b[0m\u001b[0;34m\u001b[0m\u001b[0m\n\u001b[0;32m----> 5\u001b[0;31m \u001b[0;32mfrom\u001b[0m \u001b[0mmltests\u001b[0m \u001b[0;32mimport\u001b[0m \u001b[0mmodel_wrapper\u001b[0m\u001b[0;34m\u001b[0m\u001b[0;34m\u001b[0m\u001b[0m\n\u001b[0m\u001b[1;32m      6\u001b[0m \u001b[0mmodel\u001b[0m \u001b[0;34m=\u001b[0m \u001b[0mmodel_wrapper\u001b[0m\u001b[0;34m.\u001b[0m\u001b[0mModelWrapper\u001b[0m\u001b[0;34m(\u001b[0m\u001b[0;34m)\u001b[0m\u001b[0;34m\u001b[0m\u001b[0;34m\u001b[0m\u001b[0m\n\u001b[1;32m      7\u001b[0m \u001b[0mnew_pp\u001b[0m \u001b[0;34m=\u001b[0m \u001b[0mPredictorWrapper\u001b[0m\u001b[0;34m.\u001b[0m\u001b[0mwrap_softmax\u001b[0m\u001b[0;34m(\u001b[0m\u001b[0mmodel\u001b[0m\u001b[0;34m.\u001b[0m\u001b[0mpredict_proba\u001b[0m\u001b[0;34m)\u001b[0m\u001b[0;34m\u001b[0m\u001b[0;34m\u001b[0m\u001b[0m\n",
      "\u001b[0;31mModuleNotFoundError\u001b[0m: No module named 'mltests'"
     ]
    }
   ],
   "source": [
    "from checklist.pred_wrapper import PredictorWrapper\n",
    "\n",
    "import sys\n",
    "sys.path.append('/home/marcotcr/work/ml-tests/')\n",
    "from mltests import model_wrapper\n",
    "model = model_wrapper.ModelWrapper()\n",
    "new_pp = PredictorWrapper.wrap_softmax(model.predict_proba)\n"
   ]
  },
  {
   "cell_type": "code",
   "execution_count": 4,
   "metadata": {},
   "outputs": [
    {
     "data": {
      "text/plain": [
       "<checklist.text_generation.TextGenerator at 0x7f44ee44dac8>"
      ]
     },
     "execution_count": 4,
     "metadata": {},
     "output_type": "execute_result"
    }
   ],
   "source": [
    "editor = checklist.editor.Editor()\n",
    "editor.tg"
   ]
  },
  {
   "cell_type": "code",
   "execution_count": 6,
   "metadata": {},
   "outputs": [],
   "source": [
    "nlp = spacy.load('en_core_web_sm')"
   ]
  },
  {
   "cell_type": "code",
   "execution_count": 5,
   "metadata": {},
   "outputs": [
    {
     "name": "stdout",
     "output_type": "stream",
     "text": [
      "\"\tWhat does the Quran say about homosexuality?\t0\n",
      "\n"
     ]
    }
   ],
   "source": [
    "qs = []\n",
    "labels = []\n",
    "all_questions = set()\n",
    "for x in open('/home/marcotcr/datasets/glue/glue_data/QQP/dev.tsv').readlines()[1:]:\n",
    "    try:\n",
    "        q1, q2, label = x.strip().split('\\t')[3:]\n",
    "    except:\n",
    "        print(x)\n",
    "        continue\n",
    "    all_questions.add(q1)\n",
    "    all_questions.add(q2)\n",
    "    qs.append((q1, q2))\n",
    "    labels.append(label)\n",
    "labels = np.array(labels).astype(int)"
   ]
  },
  {
   "cell_type": "code",
   "execution_count": 6,
   "metadata": {},
   "outputs": [],
   "source": [
    "# [x for x in qs if 'better' in x[0]]"
   ]
  },
  {
   "cell_type": "code",
   "execution_count": 7,
   "metadata": {},
   "outputs": [],
   "source": [
    "import pickle\n",
    "spacy_map =  pickle.load(open('/home/marcotcr/tmp/processed_qqp.pkl', 'rb'))"
   ]
  },
  {
   "cell_type": "code",
   "execution_count": 8,
   "metadata": {},
   "outputs": [],
   "source": [
    "parsed_qs = [(spacy_map[q[0]], spacy_map[q[1]]) for q in qs]"
   ]
  },
  {
   "cell_type": "code",
   "execution_count": 7,
   "metadata": {},
   "outputs": [
    {
     "name": "stdout",
     "output_type": "stream",
     "text": [
      "/home/wtshuang/datasets/models/QQP-all\n",
      "Namespace(adam_epsilon=1e-08, cache_dir='', config_name='', data_dir='/home/wtshuang/datasets/raw/glue_data//QQP/all', device=device(type='cuda'), do_eval=True, do_lower_case=True, do_train=True, eval_all_checkpoints=False, evaluate_during_training=False, fp16=False, fp16_opt_level='O1', gradient_accumulation_steps=1, label_list='None', learning_rate=2e-05, local_rank=-1, logging_steps=50, max_grad_norm=1.0, max_seq_length=512, max_steps=-1, model_name_or_path='bert-base-uncased', model_type='bert', n_gpu=2, no_cuda=False, num_train_epochs=3.0, output_dir='//home/wtshuang/datasets/models//QQP-all/', output_mode='classification', overwrite_cache=True, overwrite_output_dir=True, per_gpu_eval_batch_size=8, per_gpu_train_batch_size=8, save_steps=1000000000000, seed=42, server_ip='', server_port='', task_name='qqp', tokenizer_name='', train_batch_size=16, warmup_steps=0, weight_decay=0.0)\n"
     ]
    },
    {
     "data": {
      "text/plain": [
       "(What 's the best non touchscreen phone under 10K in India ?,\n",
       " What is currently the best phone under 10k in India ?)"
      ]
     },
     "execution_count": 7,
     "metadata": {},
     "output_type": "execute_result"
    }
   ],
   "source": [
    "\"\"\"\n",
    "TONGSHUANG'S LOADING\n",
    "\"\"\"\n",
    "\n",
    "import sys\n",
    "import os\n",
    "import pandas as pd\n",
    "pd.set_option('display.max_colwidth', 180)\n",
    "\n",
    "mltest_path = os.path.abspath(os.path.expanduser(\"~/sourcetree/ml-tests\"))\n",
    "sys.path.append(mltest_path)\n",
    "mlfeedback_path = os.path.abspath(os.path.expanduser(\"~/sourcetree/ml_feedback\"))\n",
    "sys.path.append(mlfeedback_path)\n",
    "\n",
    "from ml_feedback.analysis.qqp_utils import *\n",
    "\n",
    "\n",
    "# get the model\n",
    "model_names = {\n",
    "    \"qqp\": \"QQP-all\",\n",
    "}\n",
    "from ml_feedback.analysis.qqp_utils import *\n",
    "models = load_models_by_name(model_names)\n",
    "\n",
    "from checklist.pred_wrapper import PredictorWrapper\n",
    "model = models[\"qqp\"]\n",
    "new_pp = PredictorWrapper.wrap_softmax(model.predict_proba)\n",
    "\n",
    "\n",
    "\n",
    "# getting the data\n",
    "\n",
    "df = read_one_dataset(\"quora\", max_size=2000)\n",
    "parsed_qs = list(zip(\n",
    "    nlp.pipe(df.question1.tolist()), \n",
    "    nlp.pipe(df.question2.tolist())\n",
    "))\n",
    "labels = df.is_duplicate.tolist()\n",
    "parsed_qs[0]"
   ]
  },
  {
   "cell_type": "code",
   "execution_count": 53,
   "metadata": {},
   "outputs": [],
   "source": [
    "all_questions = set()\n",
    "all_questions.update(set(df.question1.tolist()))\n",
    "all_questions.update(set(df.question2.tolist()))"
   ]
  },
  {
   "cell_type": "code",
   "execution_count": 63,
   "metadata": {},
   "outputs": [],
   "source": [
    "qs = list(zip(\n",
    "    df.question1.tolist(), \n",
    "    df.question2.tolist()\n",
    "))"
   ]
  },
  {
   "cell_type": "code",
   "execution_count": 8,
   "metadata": {},
   "outputs": [],
   "source": [
    "suite = TestSuite()"
   ]
  },
  {
   "cell_type": "markdown",
   "metadata": {},
   "source": [
    "## Vocabulary"
   ]
  },
  {
   "cell_type": "code",
   "execution_count": 9,
   "metadata": {},
   "outputs": [
    {
     "data": {
      "application/vnd.jupyter.widget-view+json": {
       "model_id": "81b462b5d9a04f52943d8e7e2ea82783",
       "version_major": 2,
       "version_minor": 0
      },
      "text/plain": [
       "TemplateEditor(bert_suggests=['journalist', 'historian', 'nurse', 'engineer', 'accountant', 'attorney', 'archi…"
      ]
     },
     "metadata": {},
     "output_type": "display_data"
    }
   ],
   "source": [
    "editor.visual_suggest('{first_name} works as {a:mask}.')"
   ]
  },
  {
   "cell_type": "code",
   "execution_count": 10,
   "metadata": {},
   "outputs": [
    {
     "name": "stdout",
     "output_type": "stream",
     "text": [
      "journalist, historian, nurse, engineer, accountant, attorney, architect, artist, editor, actor, actress, analyst, intern, economist, entrepreneur, author, assistant, interpreter, investor, executive, organizer, escort, educator, agent, academic, activist, advisor, administrator, investigator, auditor\n"
     ]
    }
   ],
   "source": [
    "professions = editor.suggest('{first_name} works as {a:mask}.')[:30]\n",
    "print(', '.join(professions))"
   ]
  },
  {
   "cell_type": "code",
   "execution_count": 11,
   "metadata": {},
   "outputs": [],
   "source": [
    "professions = editor.suggest('{first_name} works as {a:mask}.')[:30]\n",
    "professions += editor.suggest('{first_name} {last_name} works as {a:mask}.')[:30]\n",
    "professions = list(set(professions))\n",
    "# professions"
   ]
  },
  {
   "cell_type": "code",
   "execution_count": 12,
   "metadata": {},
   "outputs": [
    {
     "name": "stdout",
     "output_type": "stream",
     "text": [
      "guy, player, writer, actor, example, man, person, friend, kid, hitter, read, shooter, one, coach, dude, pick, teacher, shot, fighter, artist, student, quarterback, poet, character, reader, sport, name, bet, cook, reporter\n"
     ]
    }
   ],
   "source": [
    "print(', '.join(editor.suggest('{first_name} {last_name} is a good {mask}.')[:30]))"
   ]
  },
  {
   "cell_type": "code",
   "execution_count": 13,
   "metadata": {},
   "outputs": [],
   "source": [
    "other_nouns = ['player', 'person', 'friend', 'kid', 'candidate']\n",
    "nouns = list(set(professions + other_nouns))"
   ]
  },
  {
   "cell_type": "code",
   "execution_count": 14,
   "metadata": {},
   "outputs": [
    {
     "name": "stdout",
     "output_type": "stream",
     "text": [
      "important, actual, outstanding, good, American, ideal, unusual, honest, successful, effective, interesting, average, excellent, independent, accomplished, inspiring, elite, exceptional, autistic, amazing, intelligent, ordinary, trained, OK, medical, real, ethical, competent, incredible, professional, skilled, qualified, true, career, former, better, great, top, active, bad, attractive, international, government, influential, talented, environmental, experienced, authentic, appropriate, angry\n"
     ]
    }
   ],
   "source": [
    "print(', '.join(editor.suggest('Is {first_name} {last_name} {a:mask} {noun}?', noun=nouns)[:50]))"
   ]
  },
  {
   "cell_type": "code",
   "execution_count": 15,
   "metadata": {},
   "outputs": [],
   "source": [
    "adjs = ['effective', 'actual', 'American', 'active', 'honest', 'excellent', 'elite', 'acomplished', 'official', 'outstanding', 'experienced', 'independent', 'international', 'aspiring', 'average', 'good', 'amazing', 'exceptional', 'successful', 'accredited', 'English', 'real', 'bad', 'terrible', 'fake', 'unusual', 'influential', 'incompetent']"
   ]
  },
  {
   "cell_type": "code",
   "execution_count": 150,
   "metadata": {},
   "outputs": [
    {
     "ename": "Exception",
     "evalue": "There is already a test named Modifier: adj suite. Run with overwrite=True to overwrite",
     "output_type": "error",
     "traceback": [
      "\u001b[0;31m---------------------------------------------------------------------------\u001b[0m",
      "\u001b[0;31mException\u001b[0m                                 Traceback (most recent call last)",
      "\u001b[0;32m<ipython-input-150-e6c3e63b83d4>\u001b[0m in \u001b[0;36m<module>\u001b[0;34m\u001b[0m\n\u001b[1;32m      7\u001b[0m           description = 'Adding an adjective makes questions non-duplicates')\n\u001b[1;32m      8\u001b[0m \u001b[0;31m#test.run(new_pp, n=200)\u001b[0m\u001b[0;34m\u001b[0m\u001b[0;34m\u001b[0m\u001b[0;34m\u001b[0m\u001b[0m\n\u001b[0;32m----> 9\u001b[0;31m \u001b[0msuite\u001b[0m\u001b[0;34m.\u001b[0m\u001b[0madd\u001b[0m\u001b[0;34m(\u001b[0m\u001b[0mtest\u001b[0m\u001b[0;34m)\u001b[0m\u001b[0;34m\u001b[0m\u001b[0;34m\u001b[0m\u001b[0m\n\u001b[0m\u001b[1;32m     10\u001b[0m \u001b[0;31m#test.visual_summary()\u001b[0m\u001b[0;34m\u001b[0m\u001b[0;34m\u001b[0m\u001b[0;34m\u001b[0m\u001b[0m\n",
      "\u001b[0;32m~/sourcetree/checklist_ui/checklist/test_suite.py\u001b[0m in \u001b[0;36madd\u001b[0;34m(self, test, name, capability, description, format_example_fn, print_fn, overwrite)\u001b[0m\n\u001b[1;32m     30\u001b[0m             \u001b[0mdescription\u001b[0m \u001b[0;34m=\u001b[0m \u001b[0mtest\u001b[0m\u001b[0;34m.\u001b[0m\u001b[0mdescription\u001b[0m\u001b[0;34m\u001b[0m\u001b[0;34m\u001b[0m\u001b[0m\n\u001b[1;32m     31\u001b[0m         \u001b[0;32mif\u001b[0m \u001b[0mname\u001b[0m \u001b[0;32min\u001b[0m \u001b[0mself\u001b[0m\u001b[0;34m.\u001b[0m\u001b[0mtests\u001b[0m \u001b[0;32mand\u001b[0m \u001b[0;32mnot\u001b[0m \u001b[0moverwrite\u001b[0m\u001b[0;34m:\u001b[0m\u001b[0;34m\u001b[0m\u001b[0;34m\u001b[0m\u001b[0m\n\u001b[0;32m---> 32\u001b[0;31m             \u001b[0;32mraise\u001b[0m\u001b[0;34m(\u001b[0m\u001b[0mException\u001b[0m\u001b[0;34m(\u001b[0m\u001b[0;34m'There is already a test named %s suite. Run with overwrite=True to overwrite'\u001b[0m \u001b[0;34m%\u001b[0m \u001b[0mname\u001b[0m\u001b[0;34m)\u001b[0m\u001b[0;34m)\u001b[0m\u001b[0;34m\u001b[0m\u001b[0;34m\u001b[0m\u001b[0m\n\u001b[0m\u001b[1;32m     33\u001b[0m         \u001b[0;32mif\u001b[0m \u001b[0mname\u001b[0m \u001b[0;32min\u001b[0m \u001b[0mself\u001b[0m\u001b[0;34m.\u001b[0m\u001b[0minfo\u001b[0m\u001b[0;34m:\u001b[0m\u001b[0;34m\u001b[0m\u001b[0;34m\u001b[0m\u001b[0m\n\u001b[1;32m     34\u001b[0m             \u001b[0;32mdel\u001b[0m \u001b[0mself\u001b[0m\u001b[0;34m.\u001b[0m\u001b[0minfo\u001b[0m\u001b[0;34m[\u001b[0m\u001b[0mname\u001b[0m\u001b[0;34m]\u001b[0m\u001b[0;34m\u001b[0m\u001b[0;34m\u001b[0m\u001b[0m\n",
      "\u001b[0;31mException\u001b[0m: There is already a test named Modifier: adj suite. Run with overwrite=True to overwrite"
     ]
    }
   ],
   "source": [
    "t = editor.template(('Is {first_name} {last_name} {a:noun}?', 'Is {first_name} {last_name} {a:adj} {noun}?'),\n",
    "                noun=nouns,\n",
    "                adj=adjs,\n",
    "                remove_duplicates=True, \n",
    "                nsamples=1000)\n",
    "test = MFT(**t, labels=0, name='Modifier: adj', capability='Vocabulary', \n",
    "          description = 'Adding an adjective makes questions non-duplicates')\n",
    "#test.run(new_pp, n=200)\n",
    "suite.add(test)\n",
    "#test.visual_summary()"
   ]
  },
  {
   "cell_type": "markdown",
   "metadata": {},
   "source": [
    "Is person {a1, a2}?"
   ]
  },
  {
   "cell_type": "code",
   "execution_count": 19,
   "metadata": {},
   "outputs": [
    {
     "data": {
      "application/vnd.jupyter.widget-view+json": {
       "model_id": "614c5fefbb754b1e8e15fccf11ddb6f0",
       "version_major": 2,
       "version_minor": 0
      },
      "text/plain": [
       "TemplateEditor(bert_suggests=['racist', 'atheist', 'outlaw', 'asshole', 'actor', 'ape', 'American', 'inspirati…"
      ]
     },
     "metadata": {},
     "output_type": "display_data"
    }
   ],
   "source": [
    "editor.visual_suggest('Is John Wayne {a:mask}?')"
   ]
  },
  {
   "cell_type": "code",
   "execution_count": 18,
   "metadata": {},
   "outputs": [
    {
     "name": "stdout",
     "output_type": "stream",
     "text": [
      "dead, gay, alive, right, Dead, real, Jewish, mad, wrong, correct, insane, back, crazy, related, OK, Right, immortal, evil, straight, interested, famous, racist, sane, next, President, alone, lying, relevant, okay, DEAD, bisexual, God, angry, guilty, ok, Alone, Wrong, ready, gone, innocent, King, human, Muslim, Black, assassinated, Batman, here, Real, dying, involved, homosexual, special, Famous, happy, free, murdered, Superman, president, joking, White, Back, Gay, Catholic, cool, safe, resurrected, killed, American, missing, corrupt, cursed, alright, single, Crazy, Mad, Satan, Missing, legit, shot, Evil, finished, worthy, doomed, sincere, aware, autistic, responsible, dangerous, Christian, Cool, Immortal, radioactive, remembered, Next, serious, cheating, different, popular, Legend, listening, now, illegitimate, homophobic, kidding, sick, smart, connected, trustworthy, Innocent, legal\n",
      "\n",
      "racist, atheist, outlaw, asshole, actor, ape, American, inspiration, idiot, orphan, Christian, ancestor, artist, Avenger, anomaly, icon, anarchist, homosexual, influence, alien, inventor, author, Alien, android, immortal, Immortal, idol, Indian, angel, assassin, African, Arab, intellectual, adult, extremist, Assassin, imperialist, alcoholic, Icon, rapist, example, Italian, Australian, archetype, Armenian, exception, murderer, activist, astronaut, expert\n"
     ]
    }
   ],
   "source": [
    "print(', '.join(editor.suggest('Is John Wayne {mask}?')))\n",
    "print()\n",
    "print(', '.join(editor.suggest('Is John Wayne {a:mask}?')[:50]))"
   ]
  },
  {
   "cell_type": "code",
   "execution_count": 20,
   "metadata": {},
   "outputs": [],
   "source": [
    "adjs_without_overlap = ['dead', 'gay', 'Jewish', 'Christian', 'American', 'mad', 'immortal', 'evil', 'famous', 'racist', 'Muslim', 'white', 'black', 'English', 'autistic', 'Australian', 'trustworthy', 'an atheist', 'an anarchist', 'an inventor', 'Indian', 'Armenian', 'an astronaut', 'an immigrant']"
   ]
  },
  {
   "cell_type": "code",
   "execution_count": 21,
   "metadata": {},
   "outputs": [],
   "source": [
    "t = editor.template((\n",
    "    'Is {first_name} {last_name} {adj1}?',\n",
    "    'Is {first_name} {last_name} {adj2}?',\n",
    "    ),\n",
    "    adj=adjs_without_overlap,\n",
    "    remove_duplicates=True, \n",
    "    nsamples=1000)\n",
    "test = MFT(**t, labels=0, name='different adjectives', capability = 'Vocabulary',\n",
    "          description='Same first and last name, different adjectives')\n",
    "# test.run(new_pp)\n",
    "# test.summary(n=5)\n",
    "suite.add(test)"
   ]
  },
  {
   "cell_type": "markdown",
   "metadata": {},
   "source": [
    "person1 and person2 are different by first and last name"
   ]
  },
  {
   "cell_type": "code",
   "execution_count": 151,
   "metadata": {},
   "outputs": [
    {
     "ename": "Exception",
     "evalue": "There is already a test named same adjectives, different people suite. Run with overwrite=True to overwrite",
     "output_type": "error",
     "traceback": [
      "\u001b[0;31m---------------------------------------------------------------------------\u001b[0m",
      "\u001b[0;31mException\u001b[0m                                 Traceback (most recent call last)",
      "\u001b[0;32m<ipython-input-151-86c292e288e6>\u001b[0m in \u001b[0;36m<module>\u001b[0;34m\u001b[0m\n\u001b[1;32m      9\u001b[0m           description='Different first and last name, same adjectives')\n\u001b[1;32m     10\u001b[0m \u001b[0;31m#test.run(new_pp, n=200)\u001b[0m\u001b[0;34m\u001b[0m\u001b[0;34m\u001b[0m\u001b[0;34m\u001b[0m\u001b[0m\n\u001b[0;32m---> 11\u001b[0;31m \u001b[0msuite\u001b[0m\u001b[0;34m.\u001b[0m\u001b[0madd\u001b[0m\u001b[0;34m(\u001b[0m\u001b[0mtest\u001b[0m\u001b[0;34m)\u001b[0m\u001b[0;34m\u001b[0m\u001b[0;34m\u001b[0m\u001b[0m\n\u001b[0m\u001b[1;32m     12\u001b[0m \u001b[0;31m#test.visual_summary()\u001b[0m\u001b[0;34m\u001b[0m\u001b[0;34m\u001b[0m\u001b[0;34m\u001b[0m\u001b[0m\n",
      "\u001b[0;32m~/sourcetree/checklist_ui/checklist/test_suite.py\u001b[0m in \u001b[0;36madd\u001b[0;34m(self, test, name, capability, description, format_example_fn, print_fn, overwrite)\u001b[0m\n\u001b[1;32m     30\u001b[0m             \u001b[0mdescription\u001b[0m \u001b[0;34m=\u001b[0m \u001b[0mtest\u001b[0m\u001b[0;34m.\u001b[0m\u001b[0mdescription\u001b[0m\u001b[0;34m\u001b[0m\u001b[0;34m\u001b[0m\u001b[0m\n\u001b[1;32m     31\u001b[0m         \u001b[0;32mif\u001b[0m \u001b[0mname\u001b[0m \u001b[0;32min\u001b[0m \u001b[0mself\u001b[0m\u001b[0;34m.\u001b[0m\u001b[0mtests\u001b[0m \u001b[0;32mand\u001b[0m \u001b[0;32mnot\u001b[0m \u001b[0moverwrite\u001b[0m\u001b[0;34m:\u001b[0m\u001b[0;34m\u001b[0m\u001b[0;34m\u001b[0m\u001b[0m\n\u001b[0;32m---> 32\u001b[0;31m             \u001b[0;32mraise\u001b[0m\u001b[0;34m(\u001b[0m\u001b[0mException\u001b[0m\u001b[0;34m(\u001b[0m\u001b[0;34m'There is already a test named %s suite. Run with overwrite=True to overwrite'\u001b[0m \u001b[0;34m%\u001b[0m \u001b[0mname\u001b[0m\u001b[0;34m)\u001b[0m\u001b[0;34m)\u001b[0m\u001b[0;34m\u001b[0m\u001b[0;34m\u001b[0m\u001b[0m\n\u001b[0m\u001b[1;32m     33\u001b[0m         \u001b[0;32mif\u001b[0m \u001b[0mname\u001b[0m \u001b[0;32min\u001b[0m \u001b[0mself\u001b[0m\u001b[0;34m.\u001b[0m\u001b[0minfo\u001b[0m\u001b[0;34m:\u001b[0m\u001b[0;34m\u001b[0m\u001b[0;34m\u001b[0m\u001b[0m\n\u001b[1;32m     34\u001b[0m             \u001b[0;32mdel\u001b[0m \u001b[0mself\u001b[0m\u001b[0;34m.\u001b[0m\u001b[0minfo\u001b[0m\u001b[0;34m[\u001b[0m\u001b[0mname\u001b[0m\u001b[0;34m]\u001b[0m\u001b[0;34m\u001b[0m\u001b[0;34m\u001b[0m\u001b[0m\n",
      "\u001b[0;31mException\u001b[0m: There is already a test named same adjectives, different people suite. Run with overwrite=True to overwrite"
     ]
    }
   ],
   "source": [
    "t = editor.template((\n",
    "    'Is {first_name1} {last_name1} {adj}?',\n",
    "    'Is {first_name2} {last_name2} {adj}?',\n",
    "    ),\n",
    "    adj=adjs_without_overlap,\n",
    "    remove_duplicates=True, \n",
    "    nsamples=1000)\n",
    "test = MFT(**t, labels=0, name='same adjectives, different people', capability = 'Vocabulary',\n",
    "          description='Different first and last name, same adjectives')\n",
    "#test.run(new_pp, n=200)\n",
    "suite.add(test)\n",
    "#test.visual_summary()"
   ]
  },
  {
   "cell_type": "markdown",
   "metadata": {},
   "source": [
    "person1 and person2 are different by first name only"
   ]
  },
  {
   "cell_type": "code",
   "execution_count": 152,
   "metadata": {},
   "outputs": [
    {
     "ename": "Exception",
     "evalue": "There is already a test named same adjectives, different people v2 suite. Run with overwrite=True to overwrite",
     "output_type": "error",
     "traceback": [
      "\u001b[0;31m---------------------------------------------------------------------------\u001b[0m",
      "\u001b[0;31mException\u001b[0m                                 Traceback (most recent call last)",
      "\u001b[0;32m<ipython-input-152-285a6e823a09>\u001b[0m in \u001b[0;36m<module>\u001b[0;34m\u001b[0m\n\u001b[1;32m      9\u001b[0m           description='Different first name, same adjective and last name')\n\u001b[1;32m     10\u001b[0m \u001b[0;31m#test.run(new_pp, n=200)\u001b[0m\u001b[0;34m\u001b[0m\u001b[0;34m\u001b[0m\u001b[0;34m\u001b[0m\u001b[0m\n\u001b[0;32m---> 11\u001b[0;31m \u001b[0msuite\u001b[0m\u001b[0;34m.\u001b[0m\u001b[0madd\u001b[0m\u001b[0;34m(\u001b[0m\u001b[0mtest\u001b[0m\u001b[0;34m)\u001b[0m\u001b[0;34m\u001b[0m\u001b[0;34m\u001b[0m\u001b[0m\n\u001b[0m\u001b[1;32m     12\u001b[0m \u001b[0;31m#test.visual_summary()\u001b[0m\u001b[0;34m\u001b[0m\u001b[0;34m\u001b[0m\u001b[0;34m\u001b[0m\u001b[0m\n",
      "\u001b[0;32m~/sourcetree/checklist_ui/checklist/test_suite.py\u001b[0m in \u001b[0;36madd\u001b[0;34m(self, test, name, capability, description, format_example_fn, print_fn, overwrite)\u001b[0m\n\u001b[1;32m     30\u001b[0m             \u001b[0mdescription\u001b[0m \u001b[0;34m=\u001b[0m \u001b[0mtest\u001b[0m\u001b[0;34m.\u001b[0m\u001b[0mdescription\u001b[0m\u001b[0;34m\u001b[0m\u001b[0;34m\u001b[0m\u001b[0m\n\u001b[1;32m     31\u001b[0m         \u001b[0;32mif\u001b[0m \u001b[0mname\u001b[0m \u001b[0;32min\u001b[0m \u001b[0mself\u001b[0m\u001b[0;34m.\u001b[0m\u001b[0mtests\u001b[0m \u001b[0;32mand\u001b[0m \u001b[0;32mnot\u001b[0m \u001b[0moverwrite\u001b[0m\u001b[0;34m:\u001b[0m\u001b[0;34m\u001b[0m\u001b[0;34m\u001b[0m\u001b[0m\n\u001b[0;32m---> 32\u001b[0;31m             \u001b[0;32mraise\u001b[0m\u001b[0;34m(\u001b[0m\u001b[0mException\u001b[0m\u001b[0;34m(\u001b[0m\u001b[0;34m'There is already a test named %s suite. Run with overwrite=True to overwrite'\u001b[0m \u001b[0;34m%\u001b[0m \u001b[0mname\u001b[0m\u001b[0;34m)\u001b[0m\u001b[0;34m)\u001b[0m\u001b[0;34m\u001b[0m\u001b[0;34m\u001b[0m\u001b[0m\n\u001b[0m\u001b[1;32m     33\u001b[0m         \u001b[0;32mif\u001b[0m \u001b[0mname\u001b[0m \u001b[0;32min\u001b[0m \u001b[0mself\u001b[0m\u001b[0;34m.\u001b[0m\u001b[0minfo\u001b[0m\u001b[0;34m:\u001b[0m\u001b[0;34m\u001b[0m\u001b[0;34m\u001b[0m\u001b[0m\n\u001b[1;32m     34\u001b[0m             \u001b[0;32mdel\u001b[0m \u001b[0mself\u001b[0m\u001b[0;34m.\u001b[0m\u001b[0minfo\u001b[0m\u001b[0;34m[\u001b[0m\u001b[0mname\u001b[0m\u001b[0;34m]\u001b[0m\u001b[0;34m\u001b[0m\u001b[0;34m\u001b[0m\u001b[0m\n",
      "\u001b[0;31mException\u001b[0m: There is already a test named same adjectives, different people v2 suite. Run with overwrite=True to overwrite"
     ]
    }
   ],
   "source": [
    "t = editor.template((\n",
    "    'Is {first_name} {last_name} {adj}?',\n",
    "    'Is {first_name2} {last_name} {adj}?',\n",
    "    ),\n",
    "    adj=adjs_without_overlap,\n",
    "    remove_duplicates=True, \n",
    "    nsamples=1000)\n",
    "test = MFT(**t, labels=0, name='same adjectives, different people v2', capability = 'Vocabulary',\n",
    "          description='Different first name, same adjective and last name')\n",
    "#test.run(new_pp, n=200)\n",
    "suite.add(test)\n",
    "#test.visual_summary()"
   ]
  },
  {
   "cell_type": "markdown",
   "metadata": {},
   "source": [
    "person1 and person2 are different by last name only"
   ]
  },
  {
   "cell_type": "code",
   "execution_count": 153,
   "metadata": {},
   "outputs": [
    {
     "ename": "Exception",
     "evalue": "There is already a test named same adjectives, different people v3 suite. Run with overwrite=True to overwrite",
     "output_type": "error",
     "traceback": [
      "\u001b[0;31m---------------------------------------------------------------------------\u001b[0m",
      "\u001b[0;31mException\u001b[0m                                 Traceback (most recent call last)",
      "\u001b[0;32m<ipython-input-153-f3f64eb7cf7d>\u001b[0m in \u001b[0;36m<module>\u001b[0;34m\u001b[0m\n\u001b[1;32m     11\u001b[0m \u001b[0;31m# test.summary(n=5)\u001b[0m\u001b[0;34m\u001b[0m\u001b[0;34m\u001b[0m\u001b[0;34m\u001b[0m\u001b[0m\n\u001b[1;32m     12\u001b[0m \u001b[0;31m#test.run(new_pp, n=200)\u001b[0m\u001b[0;34m\u001b[0m\u001b[0;34m\u001b[0m\u001b[0;34m\u001b[0m\u001b[0m\n\u001b[0;32m---> 13\u001b[0;31m \u001b[0msuite\u001b[0m\u001b[0;34m.\u001b[0m\u001b[0madd\u001b[0m\u001b[0;34m(\u001b[0m\u001b[0mtest\u001b[0m\u001b[0;34m)\u001b[0m\u001b[0;34m\u001b[0m\u001b[0;34m\u001b[0m\u001b[0m\n\u001b[0m\u001b[1;32m     14\u001b[0m \u001b[0;31m#test.visual_summary()\u001b[0m\u001b[0;34m\u001b[0m\u001b[0;34m\u001b[0m\u001b[0;34m\u001b[0m\u001b[0m\n",
      "\u001b[0;32m~/sourcetree/checklist_ui/checklist/test_suite.py\u001b[0m in \u001b[0;36madd\u001b[0;34m(self, test, name, capability, description, format_example_fn, print_fn, overwrite)\u001b[0m\n\u001b[1;32m     30\u001b[0m             \u001b[0mdescription\u001b[0m \u001b[0;34m=\u001b[0m \u001b[0mtest\u001b[0m\u001b[0;34m.\u001b[0m\u001b[0mdescription\u001b[0m\u001b[0;34m\u001b[0m\u001b[0;34m\u001b[0m\u001b[0m\n\u001b[1;32m     31\u001b[0m         \u001b[0;32mif\u001b[0m \u001b[0mname\u001b[0m \u001b[0;32min\u001b[0m \u001b[0mself\u001b[0m\u001b[0;34m.\u001b[0m\u001b[0mtests\u001b[0m \u001b[0;32mand\u001b[0m \u001b[0;32mnot\u001b[0m \u001b[0moverwrite\u001b[0m\u001b[0;34m:\u001b[0m\u001b[0;34m\u001b[0m\u001b[0;34m\u001b[0m\u001b[0m\n\u001b[0;32m---> 32\u001b[0;31m             \u001b[0;32mraise\u001b[0m\u001b[0;34m(\u001b[0m\u001b[0mException\u001b[0m\u001b[0;34m(\u001b[0m\u001b[0;34m'There is already a test named %s suite. Run with overwrite=True to overwrite'\u001b[0m \u001b[0;34m%\u001b[0m \u001b[0mname\u001b[0m\u001b[0;34m)\u001b[0m\u001b[0;34m)\u001b[0m\u001b[0;34m\u001b[0m\u001b[0;34m\u001b[0m\u001b[0m\n\u001b[0m\u001b[1;32m     33\u001b[0m         \u001b[0;32mif\u001b[0m \u001b[0mname\u001b[0m \u001b[0;32min\u001b[0m \u001b[0mself\u001b[0m\u001b[0;34m.\u001b[0m\u001b[0minfo\u001b[0m\u001b[0;34m:\u001b[0m\u001b[0;34m\u001b[0m\u001b[0;34m\u001b[0m\u001b[0m\n\u001b[1;32m     34\u001b[0m             \u001b[0;32mdel\u001b[0m \u001b[0mself\u001b[0m\u001b[0;34m.\u001b[0m\u001b[0minfo\u001b[0m\u001b[0;34m[\u001b[0m\u001b[0mname\u001b[0m\u001b[0;34m]\u001b[0m\u001b[0;34m\u001b[0m\u001b[0;34m\u001b[0m\u001b[0m\n",
      "\u001b[0;31mException\u001b[0m: There is already a test named same adjectives, different people v3 suite. Run with overwrite=True to overwrite"
     ]
    }
   ],
   "source": [
    "t = editor.template((\n",
    "    'Is {first_name} {last_name} {adj}?',\n",
    "    'Is {first_name} {last_name2} {adj}?',\n",
    "    ),\n",
    "    adj=adjs_without_overlap,\n",
    "    remove_duplicates=True, \n",
    "    nsamples=1000)\n",
    "test = MFT(**t, labels=0, name='same adjectives, different people v3', capability = 'Vocabulary',\n",
    "          description='Different last name, same adjective and first name')\n",
    "# test.run(new_pp)\n",
    "# test.summary(n=5)\n",
    "#test.run(new_pp, n=200)\n",
    "suite.add(test)\n",
    "#test.visual_summary()"
   ]
  },
  {
   "cell_type": "markdown",
   "metadata": {},
   "source": [
    "different animals"
   ]
  },
  {
   "cell_type": "code",
   "execution_count": 32,
   "metadata": {},
   "outputs": [
    {
     "data": {
      "application/vnd.jupyter.widget-view+json": {
       "model_id": "6377467ec90e4bc4861ec4c4a989816e",
       "version_major": 2,
       "version_minor": 0
      },
      "text/plain": [
       "TemplateEditor(bert_suggests=['sitting', 'sleeping', 'lying', 'laying', 'asleep', 'dead', 'living', 'stuck', '…"
      ]
     },
     "metadata": {},
     "output_type": "display_data"
    }
   ],
   "source": [
    "animals = ['cat', 'dog', 'rabbit', 'turtle', 'spider', 'rat', 'goat', 'lizard', 'pig', 'monkey', 'squirrel', 'owl', 'snake', 'fish', 'lobster', 'snail', 'chicken']\n",
    "editor.visual_suggest('Is that {animal} really {mask} on the couch?', animal=animals)"
   ]
  },
  {
   "cell_type": "code",
   "execution_count": 23,
   "metadata": {},
   "outputs": [
    {
     "name": "stdout",
     "output_type": "stream",
     "text": [
      "cat, dog, rabbit, turtle, too, spider, now, rat, name, goat, lizard, dragon, named, pig, wolf, monkey, girl, squirrel, owl, also, here, called, there, tiger, python, friend, lab, phone, mix, bear, bird, …, boy, farm, duck, snake, zoo, owner, problem, fish, carrier, Shiva, shop, myself, companion, boyfriend, kitten, store, dinosaur, animal, watch, ring, project, deer, Labrador, Shepherd, tree, killer, lobster, mom, dish, X, bunny, girlfriend, shark, already, gun, car, puppy, one, computer, elephant, fetish, bug, brother, lover, tattoo, monitor, snail, cow, XD, Goat, mouse, somewhere, robot, sometimes, mother, syndrome, haha, pair, knife, life, carriage, Persian, cats, collar, that, diary, door, family, boo, number, show, assistant, toy, horse, chicken, laptop, server, tracker\n"
     ]
    }
   ],
   "source": [
    "print(', '.join(editor.suggest('I have a pet {mask}.')))"
   ]
  },
  {
   "cell_type": "code",
   "execution_count": 24,
   "metadata": {},
   "outputs": [],
   "source": [
    "animals = ['cat', 'dog', 'rabbit', 'turtle', 'spider', 'rat', 'goat', 'lizard', 'pig', 'monkey', 'squirrel', 'owl', 'snake', 'fish', 'lobster', 'snail', 'chicken']"
   ]
  },
  {
   "cell_type": "code",
   "execution_count": 25,
   "metadata": {},
   "outputs": [
    {
     "name": "stdout",
     "output_type": "stream",
     "text": [
      "food, pellets, eggs, water, again, worms, properly, now, meat, today, too, anything, outside, here, something, tonight, poop, fish, this, milk, directly, that, myself, rice, instead, nuts, there, live, steak, more, dinner, formula, treats, poison, regularly, correctly, rabbit, right, blood, enough, back, chicken, cheese, once, larvae, peanuts, feed, alive, honey, grass, feces, soup, anyway, scraps, bugs, what, alone, breakfast, oil, raw, well, chocolate, urine, corn, cereal, sugar, seeds, home, liver, free, better, protein, online, daily, cookies, carrots, lunch, yogurt, candy, cat, grain, seed, spinach, anymore, salad, fat, antibiotics, greens, Rice, it, indoors, …, shit, inside, money, toys, crap, organic, naturally, hay, bacon, some, cats, bird, bamboo, egg, breast, separately, rats, juice, vegetables, biscuits, waste, butter, crow, insulin, soy, sometimes, meal, mix, bones, yet, fly, appropriately, balls, privately, bananas, tuna, salmon, chickens, Milo, birds, bread, saliva, chicks, beef, tea, fruit, snakes, banana, salt, tail, broccoli, normally, wild, sushi, friends, leaves, trout, shrimp, tomorrow, chips, one, snake, rabbits, twice, grains, yourself, gluten, tails, safely, mate, differently, white, life, baby, mine, DNA, shells, shell, snail, Milk, venom, owl, breasts, poisonous, bites, mail, plants, bait, pork, wings, kale, kittens, paste, oats, traps, GMOs, healthy, beans, yesterday, slime, fries, though, chick, commercially, tomatoes, fingers, locally, cake, iron, vitamins, ok, python, grapes, oils, marijuana, strawberries, stew, GMO, soap, supplements, ducks, frogs, crabs, occasionally, alcohol, lettuce, babies, stock, responsibly, pudding, bills, tacos, pigs, elsewhere, pancakes, love, illegally, young, poultry, dry, please, kidney, first, outdoors, capsules, turkey, feathers, junk, jelly, snacks, bug, legally, scratch, how, straight, somehow, variety, toy, exclusively, these, feather, weed, green, samples, rat, habit, popcorn, also, black, bill, litter, friend, pod, beetles, away, externally, flour, manure, kidneys, hair, pack, feet, any, parasites, trap, wine, afterwards, stuff, ass, dog, freely, badly, fur, garbage\n"
     ]
    }
   ],
   "source": [
    "print(', '.join(editor.suggest('Can I feed my {an} {mask}?', an=animals)))"
   ]
  },
  {
   "cell_type": "code",
   "execution_count": 30,
   "metadata": {},
   "outputs": [],
   "source": [
    "food = ['eggs', 'water',  'worms', 'meat', 'poop', 'milk', 'rice', 'nuts', 'steak', 'formula',  'soup', 'bugs', 'oil', 'chocolate', 'corn', 'cereal', 'sugar', 'seeds', 'liver', 'cookies', 'carrots', 'yogurt', 'salad', 'greens', 'rice', 'bananas', 'tuna', 'apples', 'salmon', 'butter', 'insulin', 'soy']"
   ]
  },
  {
   "cell_type": "code",
   "execution_count": 154,
   "metadata": {},
   "outputs": [
    {
     "ename": "Exception",
     "evalue": "There is already a test named Different animals suite. Run with overwrite=True to overwrite",
     "output_type": "error",
     "traceback": [
      "\u001b[0;31m---------------------------------------------------------------------------\u001b[0m",
      "\u001b[0;31mException\u001b[0m                                 Traceback (most recent call last)",
      "\u001b[0;32m<ipython-input-154-5c668d99b803>\u001b[0m in \u001b[0;36m<module>\u001b[0;34m\u001b[0m\n\u001b[1;32m     14\u001b[0m \u001b[0;31m# test.summary(n=5)\u001b[0m\u001b[0;34m\u001b[0m\u001b[0;34m\u001b[0m\u001b[0;34m\u001b[0m\u001b[0m\n\u001b[1;32m     15\u001b[0m \u001b[0;31m#test.run(new_pp, n=200)\u001b[0m\u001b[0;34m\u001b[0m\u001b[0;34m\u001b[0m\u001b[0;34m\u001b[0m\u001b[0m\n\u001b[0;32m---> 16\u001b[0;31m \u001b[0msuite\u001b[0m\u001b[0;34m.\u001b[0m\u001b[0madd\u001b[0m\u001b[0;34m(\u001b[0m\u001b[0mtest\u001b[0m\u001b[0;34m)\u001b[0m\u001b[0;34m\u001b[0m\u001b[0;34m\u001b[0m\u001b[0m\n\u001b[0m\u001b[1;32m     17\u001b[0m \u001b[0;31m#test.visual_summary()\u001b[0m\u001b[0;34m\u001b[0m\u001b[0;34m\u001b[0m\u001b[0;34m\u001b[0m\u001b[0m\n",
      "\u001b[0;32m~/sourcetree/checklist_ui/checklist/test_suite.py\u001b[0m in \u001b[0;36madd\u001b[0;34m(self, test, name, capability, description, format_example_fn, print_fn, overwrite)\u001b[0m\n\u001b[1;32m     30\u001b[0m             \u001b[0mdescription\u001b[0m \u001b[0;34m=\u001b[0m \u001b[0mtest\u001b[0m\u001b[0;34m.\u001b[0m\u001b[0mdescription\u001b[0m\u001b[0;34m\u001b[0m\u001b[0;34m\u001b[0m\u001b[0m\n\u001b[1;32m     31\u001b[0m         \u001b[0;32mif\u001b[0m \u001b[0mname\u001b[0m \u001b[0;32min\u001b[0m \u001b[0mself\u001b[0m\u001b[0;34m.\u001b[0m\u001b[0mtests\u001b[0m \u001b[0;32mand\u001b[0m \u001b[0;32mnot\u001b[0m \u001b[0moverwrite\u001b[0m\u001b[0;34m:\u001b[0m\u001b[0;34m\u001b[0m\u001b[0;34m\u001b[0m\u001b[0m\n\u001b[0;32m---> 32\u001b[0;31m             \u001b[0;32mraise\u001b[0m\u001b[0;34m(\u001b[0m\u001b[0mException\u001b[0m\u001b[0;34m(\u001b[0m\u001b[0;34m'There is already a test named %s suite. Run with overwrite=True to overwrite'\u001b[0m \u001b[0;34m%\u001b[0m \u001b[0mname\u001b[0m\u001b[0;34m)\u001b[0m\u001b[0;34m)\u001b[0m\u001b[0;34m\u001b[0m\u001b[0;34m\u001b[0m\u001b[0m\n\u001b[0m\u001b[1;32m     33\u001b[0m         \u001b[0;32mif\u001b[0m \u001b[0mname\u001b[0m \u001b[0;32min\u001b[0m \u001b[0mself\u001b[0m\u001b[0;34m.\u001b[0m\u001b[0minfo\u001b[0m\u001b[0;34m:\u001b[0m\u001b[0;34m\u001b[0m\u001b[0;34m\u001b[0m\u001b[0m\n\u001b[1;32m     34\u001b[0m             \u001b[0;32mdel\u001b[0m \u001b[0mself\u001b[0m\u001b[0;34m.\u001b[0m\u001b[0minfo\u001b[0m\u001b[0;34m[\u001b[0m\u001b[0mname\u001b[0m\u001b[0;34m]\u001b[0m\u001b[0;34m\u001b[0m\u001b[0;34m\u001b[0m\u001b[0m\n",
      "\u001b[0;31mException\u001b[0m: There is already a test named Different animals suite. Run with overwrite=True to overwrite"
     ]
    }
   ],
   "source": [
    "t = editor.template((\n",
    "    'Can I feed my {animal1} {food}?',\n",
    "    'Can I feed my {animal2} {food}?',\n",
    "    ),\n",
    "    animal=animals,\n",
    "    food=food,\n",
    "    remove_duplicates=True, \n",
    "    nsamples=1000)\n",
    "name = 'Different animals' \n",
    "desc = 'Ask the same question about two different pet animals, expect prediction to be 0'\n",
    "test = MFT(**t, labels=0, name=name, capability = 'Vocabulary',\n",
    "          description=desc)\n",
    "# test.run(new_pp)\n",
    "# test.summary(n=5)\n",
    "#test.run(new_pp, n=200)\n",
    "suite.add(test)\n",
    "#test.visual_summary()"
   ]
  },
  {
   "cell_type": "code",
   "execution_count": 36,
   "metadata": {},
   "outputs": [],
   "source": [
    "suite.add(test, overwrite=True)"
   ]
  },
  {
   "cell_type": "markdown",
   "metadata": {},
   "source": [
    "Modifiers that don't matter"
   ]
  },
  {
   "cell_type": "code",
   "execution_count": 155,
   "metadata": {},
   "outputs": [
    {
     "ename": "Exception",
     "evalue": "There is already a test named Irrelevant modifiers - animals suite. Run with overwrite=True to overwrite",
     "output_type": "error",
     "traceback": [
      "\u001b[0;31m---------------------------------------------------------------------------\u001b[0m",
      "\u001b[0;31mException\u001b[0m                                 Traceback (most recent call last)",
      "\u001b[0;32m<ipython-input-155-e445f1dd21db>\u001b[0m in \u001b[0;36m<module>\u001b[0;34m\u001b[0m\n\u001b[1;32m     20\u001b[0m \u001b[0;31m# test.summary(n=5)\u001b[0m\u001b[0;34m\u001b[0m\u001b[0;34m\u001b[0m\u001b[0;34m\u001b[0m\u001b[0m\n\u001b[1;32m     21\u001b[0m \u001b[0;31m#test.run(new_pp, n=200)\u001b[0m\u001b[0;34m\u001b[0m\u001b[0;34m\u001b[0m\u001b[0;34m\u001b[0m\u001b[0m\n\u001b[0;32m---> 22\u001b[0;31m \u001b[0msuite\u001b[0m\u001b[0;34m.\u001b[0m\u001b[0madd\u001b[0m\u001b[0;34m(\u001b[0m\u001b[0mtest\u001b[0m\u001b[0;34m)\u001b[0m\u001b[0;34m\u001b[0m\u001b[0;34m\u001b[0m\u001b[0m\n\u001b[0m\u001b[1;32m     23\u001b[0m \u001b[0;31m#test.visual_summary()\u001b[0m\u001b[0;34m\u001b[0m\u001b[0;34m\u001b[0m\u001b[0;34m\u001b[0m\u001b[0m\n",
      "\u001b[0;32m~/sourcetree/checklist_ui/checklist/test_suite.py\u001b[0m in \u001b[0;36madd\u001b[0;34m(self, test, name, capability, description, format_example_fn, print_fn, overwrite)\u001b[0m\n\u001b[1;32m     30\u001b[0m             \u001b[0mdescription\u001b[0m \u001b[0;34m=\u001b[0m \u001b[0mtest\u001b[0m\u001b[0;34m.\u001b[0m\u001b[0mdescription\u001b[0m\u001b[0;34m\u001b[0m\u001b[0;34m\u001b[0m\u001b[0m\n\u001b[1;32m     31\u001b[0m         \u001b[0;32mif\u001b[0m \u001b[0mname\u001b[0m \u001b[0;32min\u001b[0m \u001b[0mself\u001b[0m\u001b[0;34m.\u001b[0m\u001b[0mtests\u001b[0m \u001b[0;32mand\u001b[0m \u001b[0;32mnot\u001b[0m \u001b[0moverwrite\u001b[0m\u001b[0;34m:\u001b[0m\u001b[0;34m\u001b[0m\u001b[0;34m\u001b[0m\u001b[0m\n\u001b[0;32m---> 32\u001b[0;31m             \u001b[0;32mraise\u001b[0m\u001b[0;34m(\u001b[0m\u001b[0mException\u001b[0m\u001b[0;34m(\u001b[0m\u001b[0;34m'There is already a test named %s suite. Run with overwrite=True to overwrite'\u001b[0m \u001b[0;34m%\u001b[0m \u001b[0mname\u001b[0m\u001b[0;34m)\u001b[0m\u001b[0;34m)\u001b[0m\u001b[0;34m\u001b[0m\u001b[0;34m\u001b[0m\u001b[0m\n\u001b[0m\u001b[1;32m     33\u001b[0m         \u001b[0;32mif\u001b[0m \u001b[0mname\u001b[0m \u001b[0;32min\u001b[0m \u001b[0mself\u001b[0m\u001b[0;34m.\u001b[0m\u001b[0minfo\u001b[0m\u001b[0;34m:\u001b[0m\u001b[0;34m\u001b[0m\u001b[0;34m\u001b[0m\u001b[0m\n\u001b[1;32m     34\u001b[0m             \u001b[0;32mdel\u001b[0m \u001b[0mself\u001b[0m\u001b[0;34m.\u001b[0m\u001b[0minfo\u001b[0m\u001b[0;34m[\u001b[0m\u001b[0mname\u001b[0m\u001b[0;34m]\u001b[0m\u001b[0;34m\u001b[0m\u001b[0;34m\u001b[0m\u001b[0m\n",
      "\u001b[0;31mException\u001b[0m: There is already a test named Irrelevant modifiers - animals suite. Run with overwrite=True to overwrite"
     ]
    }
   ],
   "source": [
    "action = editor.suggest('Is that {animal} really {mask} on the couch?', animal=animals)[:30]\n",
    "\n",
    "editor.suggest('Is that {animal} {mask} {action} on the couch?', animal=animals, action=action)\n",
    "non_changing_modifier = ['really', 'truly', 'actually', 'indeed', 'in fact', 'currently', 'literally', 'somehow']\n",
    "t = editor.template((\n",
    "    'Is that {animal} {action} on the {place}?',\n",
    "    'Is that {animal} {mod2} {action} on the {place}?',\n",
    "    ),\n",
    "    action=action,\n",
    "    animal=animals,\n",
    "    mod=non_changing_modifier,\n",
    "    place =['couch','bed', 'sofa', 'table'],\n",
    "    remove_duplicates=False, \n",
    "    nsamples=1000)\n",
    "name = 'Irrelevant modifiers - animals' \n",
    "desc = 'Add modifiers that preserve question semantics (e.g. \\'really\\')'\n",
    "test = MFT(**t, labels=1, name=name, capability = 'Vocabulary',\n",
    "          description=desc)\n",
    "# test.run(new_pp)\n",
    "# test.summary(n=5)\n",
    "#test.run(new_pp, n=200)\n",
    "suite.add(test)\n",
    "#test.visual_summary()"
   ]
  },
  {
   "cell_type": "code",
   "execution_count": 156,
   "metadata": {},
   "outputs": [],
   "source": [
    "action = editor.suggest('Is {first_name1} {mask} to {first_name2}?')[:30]\n",
    "editor.suggest('Is {first_name1} {mask} {a} to {first_name2}?', a=action)\n",
    "non_changing_modifier = ['really', 'truly', 'actually', 'indeed', 'in fact']\n",
    "t = editor.template((\n",
    "    'Is {first_name1} {action} to {first_name2}?',\n",
    "    'Is {first_name1} {mod2} {action} to {first_name2}?',\n",
    "    ),\n",
    "    action=action,\n",
    "    mod=non_changing_modifier,\n",
    "    remove_duplicates=True, \n",
    "    nsamples=1000)\n",
    "name = 'Irrelevant modifiers - people' \n",
    "desc = 'Add modifiers that preserve question semantics (e.g. \\'really\\')'\n",
    "test = MFT(**t, labels=1, name=name, capability = 'Vocabulary',\n",
    "          description=desc)\n",
    "# test.run(new_pp)\n",
    "# test.summary(n=3)\n"
   ]
  },
  {
   "cell_type": "code",
   "execution_count": 39,
   "metadata": {},
   "outputs": [],
   "source": [
    "t = editor.template((\n",
    "    'My pet {animal1} eats {food}. Is it normal for animals to eat {food}?',\n",
    "    'My pet {animal2} eats {food}. Is it normal for animals to eat {food}?',\n",
    "    ),\n",
    "    animal=animals,\n",
    "    food=food,\n",
    "    remove_duplicates=True, \n",
    "    nsamples=1000)\n",
    "name = 'Irrelevant preamble with different examples.' \n",
    "desc = 'Ask questions about animals in general, but with different examples in the preamble. Expect duplicate.'\n",
    "test = MFT(**t, labels=1, name=name, capability = 'Vocabulary',\n",
    "          description=desc)\n",
    "# test.run(new_pp)\n",
    "# test.summary(n=3)\n",
    "suite.add(test)"
   ]
  },
  {
   "cell_type": "code",
   "execution_count": 42,
   "metadata": {},
   "outputs": [],
   "source": [
    "# nouns = editor.selected_suggestions\n",
    "nouns = ['finger', 'forearm', 'feet', 'head', 'foot', 'elbow', 'nose', 'back', 'heart', 'shoulder', 'skull', 'toe', 'hip', 'neck', 'body', 'thumb', 'rib', 'knee', 'jaw', 'heel', 'thigh', 'ankle', 'arm', 'wrist', 'eye', 'spine', 'leg', 'butt', 'teeth', 'skin', 'bone', 'hand', 'face']"
   ]
  },
  {
   "cell_type": "code",
   "execution_count": 157,
   "metadata": {},
   "outputs": [
    {
     "ename": "Exception",
     "evalue": "There is already a test named Preamble is relevant (different injuries) suite. Run with overwrite=True to overwrite",
     "output_type": "error",
     "traceback": [
      "\u001b[0;31m---------------------------------------------------------------------------\u001b[0m",
      "\u001b[0;31mException\u001b[0m                                 Traceback (most recent call last)",
      "\u001b[0;32m<ipython-input-157-c6946f184ef4>\u001b[0m in \u001b[0;36m<module>\u001b[0;34m\u001b[0m\n\u001b[1;32m     18\u001b[0m \u001b[0;31m# test.summary(n=3)\u001b[0m\u001b[0;34m\u001b[0m\u001b[0;34m\u001b[0m\u001b[0;34m\u001b[0m\u001b[0m\n\u001b[1;32m     19\u001b[0m \u001b[0;31m#test.run(new_pp, n=200)\u001b[0m\u001b[0;34m\u001b[0m\u001b[0;34m\u001b[0m\u001b[0;34m\u001b[0m\u001b[0m\n\u001b[0;32m---> 20\u001b[0;31m \u001b[0msuite\u001b[0m\u001b[0;34m.\u001b[0m\u001b[0madd\u001b[0m\u001b[0;34m(\u001b[0m\u001b[0mtest\u001b[0m\u001b[0;34m)\u001b[0m\u001b[0;34m\u001b[0m\u001b[0;34m\u001b[0m\u001b[0m\n\u001b[0m\u001b[1;32m     21\u001b[0m \u001b[0;31m#test.visual_summary()\u001b[0m\u001b[0;34m\u001b[0m\u001b[0;34m\u001b[0m\u001b[0;34m\u001b[0m\u001b[0m\n",
      "\u001b[0;32m~/sourcetree/checklist_ui/checklist/test_suite.py\u001b[0m in \u001b[0;36madd\u001b[0;34m(self, test, name, capability, description, format_example_fn, print_fn, overwrite)\u001b[0m\n\u001b[1;32m     30\u001b[0m             \u001b[0mdescription\u001b[0m \u001b[0;34m=\u001b[0m \u001b[0mtest\u001b[0m\u001b[0;34m.\u001b[0m\u001b[0mdescription\u001b[0m\u001b[0;34m\u001b[0m\u001b[0;34m\u001b[0m\u001b[0m\n\u001b[1;32m     31\u001b[0m         \u001b[0;32mif\u001b[0m \u001b[0mname\u001b[0m \u001b[0;32min\u001b[0m \u001b[0mself\u001b[0m\u001b[0;34m.\u001b[0m\u001b[0mtests\u001b[0m \u001b[0;32mand\u001b[0m \u001b[0;32mnot\u001b[0m \u001b[0moverwrite\u001b[0m\u001b[0;34m:\u001b[0m\u001b[0;34m\u001b[0m\u001b[0;34m\u001b[0m\u001b[0m\n\u001b[0;32m---> 32\u001b[0;31m             \u001b[0;32mraise\u001b[0m\u001b[0;34m(\u001b[0m\u001b[0mException\u001b[0m\u001b[0;34m(\u001b[0m\u001b[0;34m'There is already a test named %s suite. Run with overwrite=True to overwrite'\u001b[0m \u001b[0;34m%\u001b[0m \u001b[0mname\u001b[0m\u001b[0;34m)\u001b[0m\u001b[0;34m)\u001b[0m\u001b[0;34m\u001b[0m\u001b[0;34m\u001b[0m\u001b[0m\n\u001b[0m\u001b[1;32m     33\u001b[0m         \u001b[0;32mif\u001b[0m \u001b[0mname\u001b[0m \u001b[0;32min\u001b[0m \u001b[0mself\u001b[0m\u001b[0;34m.\u001b[0m\u001b[0minfo\u001b[0m\u001b[0;34m:\u001b[0m\u001b[0;34m\u001b[0m\u001b[0;34m\u001b[0m\u001b[0m\n\u001b[1;32m     34\u001b[0m             \u001b[0;32mdel\u001b[0m \u001b[0mself\u001b[0m\u001b[0;34m.\u001b[0m\u001b[0minfo\u001b[0m\u001b[0;34m[\u001b[0m\u001b[0mname\u001b[0m\u001b[0;34m]\u001b[0m\u001b[0;34m\u001b[0m\u001b[0;34m\u001b[0m\u001b[0m\n",
      "\u001b[0;31mException\u001b[0m: There is already a test named Preamble is relevant (different injuries) suite. Run with overwrite=True to overwrite"
     ]
    }
   ],
   "source": [
    "t = editor.template((\n",
    "    'I hurt my {n} last time I played {sport}. {followup}',\n",
    "    'I hurt my {n2} last time I played {sport}. {followup}',\n",
    "    ),\n",
    "    n=nouns,\n",
    "    sport=['tennis', 'golf', 'soccer', 'football'],\n",
    "    followup=['Is this going to impact my performance?',\n",
    "              'Should I never play again?',\n",
    "              'Is this a common injury?',\n",
    "             'Is it normal to hurt this part of the body?',],\n",
    "    remove_duplicates=True, \n",
    "    nsamples=1000)\n",
    "name = 'Preamble is relevant (different injuries)' \n",
    "desc = 'Question preamble mentions different injuries, which makes the questions themselves non-duplicates.'\n",
    "test = MFT(**t, labels=0, name=name, capability = 'Vocabulary',\n",
    "          description=desc)\n",
    "# test.run(new_pp)\n",
    "# test.summary(n=3)\n",
    "#test.run(new_pp, n=200)\n",
    "suite.add(test)\n",
    "#test.visual_summary()"
   ]
  },
  {
   "cell_type": "markdown",
   "metadata": {},
   "source": [
    "### Taxonomy"
   ]
  },
  {
   "cell_type": "markdown",
   "metadata": {},
   "source": [
    "Antonyms"
   ]
  },
  {
   "cell_type": "code",
   "execution_count": 44,
   "metadata": {},
   "outputs": [
    {
     "name": "stdout",
     "output_type": "stream",
     "text": [
      "('committed', 'attached'),\n",
      "('understanding', 'savvy'),\n",
      "('biased', 'bias'),\n",
      "('important', 'authoritative', 'significant'),\n",
      "('authentic', 'reliable'),\n",
      "('activist', 'militant'),\n",
      "('disruptive', 'troubled'),\n",
      "('conservative', 'cautious'),\n",
      "('courageous', 'brave'),\n",
      "('radical', 'revolutionary'),\n",
      "('suspicious', 'suspect', 'wary'),\n",
      "('rigid', 'strict', 'stiff', 'fixed'),\n",
      "('sensitive', 'sensible'),\n",
      "('active', 'dynamic', 'alive'),\n",
      "('so', 'then'),\n",
      "('worried', 'upset'),\n",
      "('honest', 'true', 'good', 'reliable', 'honorable', 'fair'),\n",
      "('grateful', 'thankful'),\n",
      "('innovative', 'modern', 'advanced'),\n",
      "('smart', 'wise', 'chic', 'bright'),\n",
      "('rude', 'primitive', 'crude'),\n",
      "('religious', 'spiritual'),\n",
      "('scared', 'frightened'),\n",
      "('critical', 'decisive', 'vital'),\n",
      "('alone', 'solitary', 'lonely'),\n",
      "('spiritual', 'religious'),\n",
      "('competitive', 'militant'),\n",
      "('fearful', 'cowardly', 'awful', 'terrible'),\n",
      "('depressed', 'blue'),\n",
      "('nervous', 'anxious'),\n",
      "('fit', 'set'),\n",
      "('unhappy', 'distressed'),\n",
      "('clear', 'open', 'clean', 'light', 'clearly'),\n",
      "('intelligent', 'healthy', 'sound', 'thinking'),\n",
      "('demanding', 'exact'),\n",
      "('evil', 'vicious'),\n",
      "('knowledgeable', 'learned', 'intimate'),\n",
      "('tolerant', 'resistant', 'liberal', 'kind'),\n",
      "('extremist', 'radical'),\n",
      "('enlightened', 'educated', 'clear'),\n",
      "('open', 'clear', 'capable', 'receptive', 'candid'),\n",
      "('hopeful', 'promising', 'bright'),\n",
      "('thoughtful', 'attentive'),\n",
      "('resilient', 'live'),\n",
      "('capable', 'open', 'able'),\n",
      "('bad', 'spoiled', 'sorry', 'risky', 'tough', 'defective'),\n",
      "('stressed', 'stress'),\n",
      "('fat', 'productive', 'rich', 'fatty'),\n",
      "('mean', 'average', 'hateful'),\n",
      "('hateful', 'mean'),\n",
      "('emotional', 'excited'),\n",
      "('corrupt', 'corrupted'),\n",
      "('ethical', 'honorable'),\n",
      "('professional', 'pro'),\n",
      "('ambitious', 'challenging'),\n",
      "('vocal', 'outspoken'),\n",
      "('progressive', 'liberal', 'imperfect'),\n",
      "('insecure', 'unsafe'),\n",
      "('individual', 'single', 'private', 'person'),\n",
      "('organised', 'organized', 'direct', 'engineer'),\n",
      "('organized', 'organised', 'direct'),\n",
      "('inspired', 'divine'),\n",
      "('confident', 'positive'),\n",
      "('efficient', 'effective'),\n",
      "('aware', 'mindful'),\n",
      "('cautious', 'conservative', 'timid'),\n",
      "('mindful', 'aware'),\n",
      "('alienated', 'alien', 'estranged'),\n",
      "('free', 'liberal', 'innocent'),\n",
      "('humble', 'modest', 'small'),\n",
      "('charitable', 'benevolent', 'sympathetic'),\n",
      "('controlling', 'moderate', 'control'),\n",
      "('shy', 'timid', 'unsure'),\n",
      "('healthy', 'intelligent', 'sound', 'respectable'),\n",
      "('needy', 'impoverished'),\n",
      "('addicted', 'addict'),\n",
      "('educated', 'enlightened'),\n",
      "('disconnected', 'confused', 'fragmented'),\n",
      "('frustrated', 'disappointed', 'queer', 'defeated'),\n",
      "('independent', 'autonomous'),\n",
      "('desperate', 'heroic'),\n",
      "('positive', 'confident'),\n",
      "('hungry', 'thirsty'),\n",
      "('dependent', 'qualified'),\n",
      "('effective', 'efficient'),\n",
      "('anxious', 'nervous'),\n",
      "('specific', 'particular'),\n",
      "('upset', 'worried', 'confused', 'broken', 'disturbed', 'distressed'),\n",
      "('passive', 'peaceful', 'inactive'),\n",
      "('militant', 'competitive', 'activist'),\n",
      "('authoritarian', 'dictator'),\n",
      "('kind', 'tolerant'),\n",
      "('consistent', 'uniform', 'logical', 'coherent'),\n",
      "('strict', 'rigid', 'stern'),\n",
      "('lonely', 'alone', 'solitary')\n"
     ]
    }
   ],
   "source": [
    "tmp = []\n",
    "x = editor.suggest('How can I become more {mask}?')\n",
    "x += editor.suggest('How can I become less {mask}?')\n",
    "for a in set(x):\n",
    "    e = editor.synonyms('How can I become {moreless} %s?' % a, a, moreless=['more', 'less'])\n",
    "    if e:\n",
    "#         print(a, [b[0][0] for b in e] )\n",
    "        tmp.append([a] + e)\n",
    "#         opps.append((a, e[0][0][0]))\n",
    "print(',\\n'.join([str(tuple(x)) for x in tmp]))"
   ]
  },
  {
   "cell_type": "code",
   "execution_count": 45,
   "metadata": {},
   "outputs": [],
   "source": [
    "synonyms = [ ('spiritual', 'religious'), ('angry', 'furious'), ('organized', 'organised'),\n",
    "            ('vocal', 'outspoken'), ('grateful', 'thankful'), ('intelligent', 'smart'),\n",
    "            ('humble', 'modest'), ('courageous', 'brave'), ('happy', 'joyful'), ('scared', 'frightened'),\n",
    "           ]"
   ]
  },
  {
   "cell_type": "code",
   "execution_count": 46,
   "metadata": {},
   "outputs": [
    {
     "name": "stdout",
     "output_type": "stream",
     "text": [
      "Predicting 6000 examples\n"
     ]
    },
    {
     "name": "stderr",
     "output_type": "stream",
     "text": [
      "Evaluating: 100%|██████████| 750/750 [01:13<00:00, 10.25it/s]\n"
     ]
    },
    {
     "name": "stdout",
     "output_type": "stream",
     "text": [
      "Test cases:      6000\n",
      "Fails (rate):    1335 (22.2%)\n",
      "\n",
      "Example fails:\n",
      "0.0 ('How can I become a religious person?', 'How can I become a spiritual person?')\n",
      "----\n",
      "0.0 ('How can I become more vocal?', 'How can I become more outspoken?')\n",
      "----\n",
      "0.0 ('How can I become less outspoken?', 'How can I become less vocal?')\n",
      "----\n"
     ]
    }
   ],
   "source": [
    "\n",
    "t = editor.template([\n",
    "    (\n",
    "    'How can I become more {x[0]}?',\n",
    "    'How can I become more {x[1]}?',\n",
    "    ),\n",
    "    (\n",
    "    'How can I become more {x[1]}?',\n",
    "    'How can I become more {x[0]}?',\n",
    "    ),\n",
    "    (\n",
    "    'How can I become less {x[0]}?',\n",
    "    'How can I become less {x[1]}?',\n",
    "    ),\n",
    "    (\n",
    "    'How can I become less {x[1]}?',\n",
    "    'How can I become less {x[0]}?',\n",
    "    ),\n",
    "    (\n",
    "    'How can I become {a:x[0]} person?',\n",
    "    'How can I become {a:x[1]} person?',\n",
    "    ),\n",
    "    (\n",
    "    'How can I become {a:x[1]} person?',\n",
    "    'How can I become {a:x[0]} person?',\n",
    "    ),\n",
    "],\n",
    "    unroll=True,\n",
    "    x=synonyms,\n",
    "    remove_duplicates=True, \n",
    "    nsamples=1000)\n",
    "name = 'How can I become more {synonym}?' \n",
    "desc = 'different (simple) templates where words are replaced with their synonyms'\n",
    "test = MFT(**t, labels=1, name=name, capability = 'Taxonomy',\n",
    "          description=desc)\n",
    "test.run(new_pp)\n",
    "test.summary(n=3)\n",
    "suite.add(test, overwrite=True)"
   ]
  },
  {
   "cell_type": "code",
   "execution_count": 47,
   "metadata": {},
   "outputs": [],
   "source": [
    "\n",
    "import re\n",
    "def replace_pairs(pairs):\n",
    "    def replace_z(text):\n",
    "        ret = []\n",
    "        for x, y in pairs:\n",
    "            t = re.sub(r'\\b%s\\b' % x, y, text )\n",
    "            if t != text:\n",
    "                ret.append(t)\n",
    "            if y == 'smart':\n",
    "                continue\n",
    "            t = re.sub(r'\\b%s\\b' % y, x, text )\n",
    "            if t != text:\n",
    "                ret.append(t)\n",
    "        return list(set(ret))\n",
    "    return replace_z\n",
    "def apply_and_pair(fn):\n",
    "    def ret_fn(text):\n",
    "        ret = fn(text)\n",
    "        return [(text, r) for r in ret]\n",
    "    return ret_fn"
   ]
  },
  {
   "cell_type": "code",
   "execution_count": 48,
   "metadata": {},
   "outputs": [
    {
     "data": {
      "text/plain": [
       "[('spiritual', 'religious'),\n",
       " ('angry', 'furious'),\n",
       " ('organized', 'organised'),\n",
       " ('vocal', 'outspoken'),\n",
       " ('grateful', 'thankful'),\n",
       " ('intelligent', 'smart'),\n",
       " ('humble', 'modest'),\n",
       " ('courageous', 'brave'),\n",
       " ('happy', 'joyful'),\n",
       " ('scared', 'frightened')]"
      ]
     },
     "execution_count": 48,
     "metadata": {},
     "output_type": "execute_result"
    }
   ],
   "source": [
    "synonyms"
   ]
  },
  {
   "cell_type": "code",
   "execution_count": 54,
   "metadata": {},
   "outputs": [
    {
     "ename": "Exception",
     "evalue": "If test does not have test.name, you must specify a name",
     "output_type": "error",
     "traceback": [
      "\u001b[0;31m---------------------------------------------------------------------------\u001b[0m",
      "\u001b[0;31mException\u001b[0m                                 Traceback (most recent call last)",
      "\u001b[0;32m<ipython-input-54-7599dd1f7724>\u001b[0m in \u001b[0;36m<module>\u001b[0;34m\u001b[0m\n\u001b[1;32m      5\u001b[0m \u001b[0;31m#test.run(new_pp)\u001b[0m\u001b[0;34m\u001b[0m\u001b[0;34m\u001b[0m\u001b[0;34m\u001b[0m\u001b[0m\n\u001b[1;32m      6\u001b[0m \u001b[0;31m#test.summary(n=3)\u001b[0m\u001b[0;34m\u001b[0m\u001b[0;34m\u001b[0m\u001b[0;34m\u001b[0m\u001b[0m\n\u001b[0;32m----> 7\u001b[0;31m \u001b[0msuite\u001b[0m\u001b[0;34m.\u001b[0m\u001b[0madd\u001b[0m\u001b[0;34m(\u001b[0m\u001b[0mtest\u001b[0m\u001b[0;34m)\u001b[0m\u001b[0;34m\u001b[0m\u001b[0;34m\u001b[0m\u001b[0m\n\u001b[0m",
      "\u001b[0;32m~/sourcetree/checklist_ui/checklist/test_suite.py\u001b[0m in \u001b[0;36madd\u001b[0;34m(self, test, name, capability, description, format_example_fn, print_fn, overwrite)\u001b[0m\n\u001b[1;32m     20\u001b[0m     \u001b[0;32mdef\u001b[0m \u001b[0madd\u001b[0m\u001b[0;34m(\u001b[0m\u001b[0mself\u001b[0m\u001b[0;34m,\u001b[0m \u001b[0mtest\u001b[0m\u001b[0;34m,\u001b[0m \u001b[0mname\u001b[0m\u001b[0;34m=\u001b[0m\u001b[0;32mNone\u001b[0m\u001b[0;34m,\u001b[0m \u001b[0mcapability\u001b[0m\u001b[0;34m=\u001b[0m\u001b[0;32mNone\u001b[0m\u001b[0;34m,\u001b[0m \u001b[0mdescription\u001b[0m\u001b[0;34m=\u001b[0m\u001b[0;32mNone\u001b[0m\u001b[0;34m,\u001b[0m \u001b[0mformat_example_fn\u001b[0m\u001b[0;34m=\u001b[0m\u001b[0;32mNone\u001b[0m\u001b[0;34m,\u001b[0m \u001b[0mprint_fn\u001b[0m\u001b[0;34m=\u001b[0m\u001b[0;32mNone\u001b[0m\u001b[0;34m,\u001b[0m \u001b[0moverwrite\u001b[0m\u001b[0;34m=\u001b[0m\u001b[0;32mFalse\u001b[0m\u001b[0;34m)\u001b[0m\u001b[0;34m:\u001b[0m\u001b[0;34m\u001b[0m\u001b[0;34m\u001b[0m\u001b[0m\n\u001b[1;32m     21\u001b[0m         \u001b[0;32mif\u001b[0m \u001b[0mname\u001b[0m \u001b[0;32mis\u001b[0m \u001b[0;32mNone\u001b[0m \u001b[0;32mand\u001b[0m \u001b[0mtest\u001b[0m\u001b[0;34m.\u001b[0m\u001b[0mname\u001b[0m \u001b[0;32mis\u001b[0m \u001b[0;32mNone\u001b[0m\u001b[0;34m:\u001b[0m\u001b[0;34m\u001b[0m\u001b[0;34m\u001b[0m\u001b[0m\n\u001b[0;32m---> 22\u001b[0;31m             \u001b[0;32mraise\u001b[0m\u001b[0;34m(\u001b[0m\u001b[0mException\u001b[0m\u001b[0;34m(\u001b[0m\u001b[0;34m'If test does not have test.name, you must specify a name'\u001b[0m\u001b[0;34m)\u001b[0m\u001b[0;34m)\u001b[0m\u001b[0;34m\u001b[0m\u001b[0;34m\u001b[0m\u001b[0m\n\u001b[0m\u001b[1;32m     23\u001b[0m         \u001b[0;32mif\u001b[0m \u001b[0mcapability\u001b[0m \u001b[0;32mis\u001b[0m \u001b[0;32mNone\u001b[0m \u001b[0;32mand\u001b[0m \u001b[0mtest\u001b[0m\u001b[0;34m.\u001b[0m\u001b[0mcapability\u001b[0m \u001b[0;32mis\u001b[0m \u001b[0;32mNone\u001b[0m\u001b[0;34m:\u001b[0m\u001b[0;34m\u001b[0m\u001b[0;34m\u001b[0m\u001b[0m\n\u001b[1;32m     24\u001b[0m             \u001b[0;32mraise\u001b[0m\u001b[0;34m(\u001b[0m\u001b[0mException\u001b[0m\u001b[0;34m(\u001b[0m\u001b[0;34m'If test does not have test.capabiliy, you must specify a capability'\u001b[0m\u001b[0;34m)\u001b[0m\u001b[0;34m)\u001b[0m\u001b[0;34m\u001b[0m\u001b[0;34m\u001b[0m\u001b[0m\n",
      "\u001b[0;31mException\u001b[0m: If test does not have test.name, you must specify a name"
     ]
    }
   ],
   "source": [
    "name = '(question, f(question)) where f(question) replaces synonyms?' \n",
    "desc = 'Expect 1, should be easy because it\\'s individual word changes'\n",
    "t = Perturb.perturb(list(all_questions), apply_and_pair(replace_pairs(synonyms)), nsamples=200, keep_original=False)\n",
    "test = INV(t.data, threshold=0.1)\n",
    "#test.run(new_pp)\n",
    "#test.summary(n=3)\n",
    "#suite.add(test)\n"
   ]
  },
  {
   "cell_type": "code",
   "execution_count": 55,
   "metadata": {},
   "outputs": [],
   "source": [
    "def apply_to_each_and_product(fn):\n",
    "    def apply_to_one(x):\n",
    "        p = fn(x)\n",
    "        if not p:\n",
    "            p = []\n",
    "        return list(set([x] + p))\n",
    "    def ret_fn(pair):\n",
    "        p1 = apply_to_one(pair[0])\n",
    "        p2 = apply_to_one(pair[1])\n",
    "        return [x for x in itertools.product(p1, p2) if x != pair]\n",
    "    return ret_fn"
   ]
  },
  {
   "cell_type": "code",
   "execution_count": 158,
   "metadata": {},
   "outputs": [
    {
     "ename": "Exception",
     "evalue": "If test does not have test.name, you must specify a name",
     "output_type": "error",
     "traceback": [
      "\u001b[0;31m---------------------------------------------------------------------------\u001b[0m",
      "\u001b[0;31mException\u001b[0m                                 Traceback (most recent call last)",
      "\u001b[0;32m<ipython-input-158-0211398092d3>\u001b[0m in \u001b[0;36m<module>\u001b[0;34m\u001b[0m\n\u001b[1;32m      4\u001b[0m \u001b[0mtest\u001b[0m \u001b[0;34m=\u001b[0m \u001b[0mINV\u001b[0m\u001b[0;34m(\u001b[0m\u001b[0mt\u001b[0m\u001b[0;34m.\u001b[0m\u001b[0mdata\u001b[0m\u001b[0;34m,\u001b[0m \u001b[0mthreshold\u001b[0m\u001b[0;34m=\u001b[0m\u001b[0;36m0.1\u001b[0m\u001b[0;34m)\u001b[0m\u001b[0;34m\u001b[0m\u001b[0;34m\u001b[0m\u001b[0m\n\u001b[1;32m      5\u001b[0m \u001b[0;31m#test.run(new_pp, n=200)\u001b[0m\u001b[0;34m\u001b[0m\u001b[0;34m\u001b[0m\u001b[0;34m\u001b[0m\u001b[0m\n\u001b[0;32m----> 6\u001b[0;31m \u001b[0msuite\u001b[0m\u001b[0;34m.\u001b[0m\u001b[0madd\u001b[0m\u001b[0;34m(\u001b[0m\u001b[0mtest\u001b[0m\u001b[0;34m)\u001b[0m\u001b[0;34m\u001b[0m\u001b[0;34m\u001b[0m\u001b[0m\n\u001b[0m\u001b[1;32m      7\u001b[0m \u001b[0;31m#test.visual_summary()\u001b[0m\u001b[0;34m\u001b[0m\u001b[0;34m\u001b[0m\u001b[0;34m\u001b[0m\u001b[0m\n",
      "\u001b[0;32m~/sourcetree/checklist_ui/checklist/test_suite.py\u001b[0m in \u001b[0;36madd\u001b[0;34m(self, test, name, capability, description, format_example_fn, print_fn, overwrite)\u001b[0m\n\u001b[1;32m     20\u001b[0m     \u001b[0;32mdef\u001b[0m \u001b[0madd\u001b[0m\u001b[0;34m(\u001b[0m\u001b[0mself\u001b[0m\u001b[0;34m,\u001b[0m \u001b[0mtest\u001b[0m\u001b[0;34m,\u001b[0m \u001b[0mname\u001b[0m\u001b[0;34m=\u001b[0m\u001b[0;32mNone\u001b[0m\u001b[0;34m,\u001b[0m \u001b[0mcapability\u001b[0m\u001b[0;34m=\u001b[0m\u001b[0;32mNone\u001b[0m\u001b[0;34m,\u001b[0m \u001b[0mdescription\u001b[0m\u001b[0;34m=\u001b[0m\u001b[0;32mNone\u001b[0m\u001b[0;34m,\u001b[0m \u001b[0mformat_example_fn\u001b[0m\u001b[0;34m=\u001b[0m\u001b[0;32mNone\u001b[0m\u001b[0;34m,\u001b[0m \u001b[0mprint_fn\u001b[0m\u001b[0;34m=\u001b[0m\u001b[0;32mNone\u001b[0m\u001b[0;34m,\u001b[0m \u001b[0moverwrite\u001b[0m\u001b[0;34m=\u001b[0m\u001b[0;32mFalse\u001b[0m\u001b[0;34m)\u001b[0m\u001b[0;34m:\u001b[0m\u001b[0;34m\u001b[0m\u001b[0;34m\u001b[0m\u001b[0m\n\u001b[1;32m     21\u001b[0m         \u001b[0;32mif\u001b[0m \u001b[0mname\u001b[0m \u001b[0;32mis\u001b[0m \u001b[0;32mNone\u001b[0m \u001b[0;32mand\u001b[0m \u001b[0mtest\u001b[0m\u001b[0;34m.\u001b[0m\u001b[0mname\u001b[0m \u001b[0;32mis\u001b[0m \u001b[0;32mNone\u001b[0m\u001b[0;34m:\u001b[0m\u001b[0;34m\u001b[0m\u001b[0;34m\u001b[0m\u001b[0m\n\u001b[0;32m---> 22\u001b[0;31m             \u001b[0;32mraise\u001b[0m\u001b[0;34m(\u001b[0m\u001b[0mException\u001b[0m\u001b[0;34m(\u001b[0m\u001b[0;34m'If test does not have test.name, you must specify a name'\u001b[0m\u001b[0;34m)\u001b[0m\u001b[0;34m)\u001b[0m\u001b[0;34m\u001b[0m\u001b[0;34m\u001b[0m\u001b[0m\n\u001b[0m\u001b[1;32m     23\u001b[0m         \u001b[0;32mif\u001b[0m \u001b[0mcapability\u001b[0m \u001b[0;32mis\u001b[0m \u001b[0;32mNone\u001b[0m \u001b[0;32mand\u001b[0m \u001b[0mtest\u001b[0m\u001b[0;34m.\u001b[0m\u001b[0mcapability\u001b[0m \u001b[0;32mis\u001b[0m \u001b[0;32mNone\u001b[0m\u001b[0;34m:\u001b[0m\u001b[0;34m\u001b[0m\u001b[0;34m\u001b[0m\u001b[0m\n\u001b[1;32m     24\u001b[0m             \u001b[0;32mraise\u001b[0m\u001b[0;34m(\u001b[0m\u001b[0mException\u001b[0m\u001b[0;34m(\u001b[0m\u001b[0;34m'If test does not have test.capabiliy, you must specify a capability'\u001b[0m\u001b[0;34m)\u001b[0m\u001b[0;34m)\u001b[0m\u001b[0;34m\u001b[0m\u001b[0;34m\u001b[0m\u001b[0m\n",
      "\u001b[0;31mException\u001b[0m: If test does not have test.name, you must specify a name"
     ]
    }
   ],
   "source": [
    "name = 'Replace synonyms in real pairs'\n",
    "desc = ''\n",
    "t = Perturb.perturb(qs, apply_to_each_and_product(replace_pairs(synonyms)), nsamples=200, keep_original=True)\n",
    "test = INV(t.data, threshold=0.1)\n",
    "#test.run(new_pp, n=200)\n",
    "suite.add(test)\n",
    "#test.visual_summary()"
   ]
  },
  {
   "cell_type": "markdown",
   "metadata": {},
   "source": [
    "Antonyms"
   ]
  },
  {
   "cell_type": "code",
   "execution_count": 56,
   "metadata": {},
   "outputs": [],
   "source": [
    "opps = []\n",
    "x = editor.suggest('How can I become more {mask}?')\n",
    "x += editor.suggest('How can I become less {mask}?')\n",
    "for a in set(x):\n",
    "    e = editor.tg.antonyms('How can I become more %s?' % a, a)\n",
    "    if e:\n",
    "#         print(a, e[0][0][0])\n",
    "        opps.append((a, e[0][0][0]))"
   ]
  },
  {
   "cell_type": "code",
   "execution_count": 57,
   "metadata": {},
   "outputs": [
    {
     "name": "stdout",
     "output_type": "stream",
     "text": [
      "('conservative', 'liberal', 'progressive'),('courageous', 'fearful'),('irresponsible', 'responsible'),('active', 'passive'),('pessimistic', 'optimistic'),('impatient', 'patient'),('smart', 'stupid'),('rude', 'civil', 'polite'),('religious', 'secular'),('capitalist', 'socialist'),('unhappy', 'happy'),('stupid', 'intelligent', 'smart'),('hopeful', 'hopeless'),('conspicuous', 'invisible'),('bad', 'good'),('fat', 'lean', 'thin'),('emotional', 'intellectual'),('progressive', 'conservative'),('insecure', 'secure'),('individual', 'common'),('organic', 'functional'),('cautious', 'brave'),('humble', 'proud'),('shy', 'confident'),('optimistic', 'pessimistic'),('positive', 'negative', 'neutral'),('visible', 'invisible'),('hungry', 'thirsty'),('defensive', 'offensive'),('dependent', 'independent'),('powerless', 'powerful'),('specific', 'general'),('passive', 'active'),('negative', 'positive')\n"
     ]
    }
   ],
   "source": [
    "opps = []\n",
    "x = editor.suggest('How can I become more {mask}?')\n",
    "x += editor.suggest('How can I become less {mask}?')\n",
    "for a in set(x):\n",
    "    e = editor.antonyms('How can I become {moreless} %s?' % a, a, moreless=['more', 'less'])\n",
    "    if e:\n",
    "#         print(a, [b[0][0] for b in e] )\n",
    "        opps.append([a] + e)\n",
    "#         opps.append((a, e[0][0][0]))\n",
    "print(','.join([str(tuple(x)) for x in opps]))"
   ]
  },
  {
   "cell_type": "code",
   "execution_count": 58,
   "metadata": {},
   "outputs": [],
   "source": [
    "opps = [('progressive', 'conservative'),('religious', 'secular'),('positive', 'negative'),('defensive', 'offensive'),('rude',  'polite'),('optimistic', 'pessimistic'),('stupid', 'smart'),('negative', 'positive'),('unhappy', 'happy'),('active', 'passive'),('impatient', 'patient'),('powerless', 'powerful'),('visible', 'invisible'),('fat', 'thin'),('bad', 'good'),('cautious', 'brave'), ('hopeful', 'hopeless'),('insecure', 'secure'),('humble', 'proud'),('passive', 'active'),('dependent', 'independent'),('pessimistic', 'optimistic'),('irresponsible', 'responsible'),('courageous', 'fearful')]"
   ]
  },
  {
   "cell_type": "code",
   "execution_count": null,
   "metadata": {},
   "outputs": [],
   "source": []
  },
  {
   "cell_type": "code",
   "execution_count": 59,
   "metadata": {},
   "outputs": [
    {
     "name": "stdout",
     "output_type": "stream",
     "text": [
      "Predicting 2000 examples\n"
     ]
    },
    {
     "name": "stderr",
     "output_type": "stream",
     "text": [
      "Evaluating: 100%|██████████| 250/250 [00:23<00:00, 10.47it/s]\n"
     ]
    },
    {
     "name": "stdout",
     "output_type": "stream",
     "text": [
      "Test cases:      2000\n",
      "Fails (rate):    334 (16.7%)\n",
      "\n",
      "Example fails:\n",
      "0.9 ('How can I become less hopeless?', 'How can I become more hopeless?')\n",
      "----\n",
      "1.0 ('How can I become less thin?', 'How can I become more thin?')\n",
      "----\n",
      "1.0 ('How can I become less invisible?', 'How can I become more invisible?')\n",
      "----\n"
     ]
    }
   ],
   "source": [
    "\n",
    "t = editor.template([(\n",
    "    'How can I become more {x[0]}?',\n",
    "    'How can I become less {x[0]}?',\n",
    "    ),\n",
    "    (\n",
    "    'How can I become less {x[1]}?',\n",
    "    'How can I become more {x[1]}?',\n",
    "    )],\n",
    "    unroll=True,\n",
    "    x=opps,\n",
    "    remove_duplicates=True, \n",
    "    nsamples=1000)\n",
    "name = 'How can I become more X != How can I become less X' \n",
    "desc = ''\n",
    "test = MFT(**t, labels=0, name=name, capability = 'Vocabulary',\n",
    "          description=desc)\n",
    "test.run(new_pp)\n",
    "test.summary(n=3)\n",
    "# suite.add(test)"
   ]
  },
  {
   "cell_type": "code",
   "execution_count": 60,
   "metadata": {},
   "outputs": [
    {
     "name": "stdout",
     "output_type": "stream",
     "text": [
      "Predicting 2000 examples\n"
     ]
    },
    {
     "name": "stderr",
     "output_type": "stream",
     "text": [
      "Evaluating: 100%|██████████| 250/250 [00:24<00:00, 10.38it/s]"
     ]
    },
    {
     "name": "stdout",
     "output_type": "stream",
     "text": [
      "Test cases:      2000\n",
      "Fails (rate):    1708 (85.4%)\n",
      "\n",
      "Example fails:\n",
      "0.3 ('How can I become more rude?', 'How can I become less polite?')\n",
      "----\n",
      "0.0 ('How can I become less progressive?', 'How can I become more conservative?')\n",
      "----\n",
      "0.0 ('How can I become less irresponsible?', 'How can I become more responsible?')\n",
      "----\n"
     ]
    },
    {
     "name": "stderr",
     "output_type": "stream",
     "text": [
      "\n"
     ]
    }
   ],
   "source": [
    "\n",
    "t = editor.template([(\n",
    "    \n",
    "    'How can I become more {x[0]}?',\n",
    "    'How can I become less {x[1]}?',\n",
    "    ),\n",
    "    (\n",
    "    'How can I become less {x[0]}?',\n",
    "    'How can I become more {x[1]}?',\n",
    "    )],\n",
    "    unroll=True,\n",
    "    x=opps,\n",
    "    remove_duplicates=True, \n",
    "    nsamples=1000)\n",
    "name = 'How can I become more X = How can I become less antonym(X)' \n",
    "desc = ''\n",
    "test = MFT(**t, labels=1, name=name, capability = 'Taxonomy',\n",
    "          description=desc)\n",
    "test.run(new_pp)\n",
    "test.summary(n=3)\n",
    "# suite.add(test)"
   ]
  },
  {
   "cell_type": "markdown",
   "metadata": {},
   "source": [
    "DIR version (kinda bad, won't add to suite)"
   ]
  },
  {
   "cell_type": "code",
   "execution_count": 47,
   "metadata": {},
   "outputs": [
    {
     "name": "stdout",
     "output_type": "stream",
     "text": [
      "Predicting 210 examples\n",
      "Test cases:      200\n",
      "Fails (rate):    80 (40.0%)\n",
      "\n",
      "Example fails:\n",
      "1.0 ('Should Scotland be independent? Would it be better off independent from the UK?', 'Should Scotland be dependent? Would it be better off dependent from the UK?')\n",
      "----\n",
      "0.9 ('Structural Engineering: What is negative moment /positive moment at supports/midspan?', 'Structural Engineering: What is negative moment /negative moment at supports/midspan?')\n",
      "0.9 ('Structural Engineering: What is negative moment /positive moment at supports/midspan?', 'Structural Engineering: What is positive moment /positive moment at supports/midspan?')\n",
      "\n",
      "----\n",
      "1.0 (\"Are there any telescopes powerful enough to view evidence left behind from NASA's moon landings?\", \"Are there any telescopes powerless enough to view evidence left behind from NASA's moon landings?\")\n",
      "----\n",
      "0.8 ('Is it possible to get good trekking poles under 1.5k?', 'Is it possible to get bad trekking poles under 1.5k?')\n",
      "----\n",
      "0.8 ('What good vs. bad habits have expats picked up after coming to Malaysia?', 'What good vs. good habits have expats picked up after coming to Malaysia?')\n",
      "0.7 ('What good vs. bad habits have expats picked up after coming to Malaysia?', 'What bad vs. bad habits have expats picked up after coming to Malaysia?')\n",
      "\n",
      "----\n"
     ]
    }
   ],
   "source": [
    "t = Perturb.perturb(list(all_questions), apply_and_pair(replace_pairs(opps)), nsamples=200, keep_original=False)\n",
    "test = DIR(t.data, expect=Expect.eq(0), agg_fn='all')\n",
    "test.run(new_pp)\n",
    "test.summary(n=5)\n",
    "# suite.add(test)\n"
   ]
  },
  {
   "cell_type": "markdown",
   "metadata": {},
   "source": [
    "## Robustness"
   ]
  },
  {
   "cell_type": "code",
   "execution_count": 61,
   "metadata": {},
   "outputs": [],
   "source": [
    "def wrap_apply_to_each(fn, both=False, *args, **kwargs):\n",
    "    def new_fn(qs, *args, **kwargs):\n",
    "        q1, q2 = qs\n",
    "        ret = []\n",
    "        fnq1 = fn(q1, *args, **kwargs)\n",
    "        fnq2 = fn(q2, *args, **kwargs)\n",
    "        if type(fnq1) != list:\n",
    "            fnq1 = [fnq1]\n",
    "        if type(fnq2) != list:\n",
    "            fnq2 = [fnq2]\n",
    "        ret.extend([(x, str(q2)) for x in fnq1])\n",
    "        ret.extend([(str(q1), x) for x in fnq2])\n",
    "        if both:\n",
    "            ret.extend([(x, x2) for x, x2 in itertools.product(fnq1, fnq2)])\n",
    "        return [x for x in ret if x[0] and x[1]]\n",
    "    return new_fn\n",
    "def wrap_apply_to_both(fn, *args, **kwargs):\n",
    "    def new_fn(qs, *args, **kwargs):\n",
    "        q1, q2 = qs\n",
    "        ret = []\n",
    "        fnq1 = fn(q1, *args, **kwargs)\n",
    "        fnq2 = fn(q2, *args, **kwargs)\n",
    "        if type(fnq1) != list:\n",
    "            fnq1 = [fnq1]\n",
    "        if type(fnq2) != list:\n",
    "            fnq2 = [fnq2]\n",
    "        ret.extend([(x, x2) for x, x2 in itertools.product(fnq1, fnq2)])\n",
    "        return [x for x in ret if x[0] and x[1]]\n",
    "    return new_fn"
   ]
  },
  {
   "cell_type": "markdown",
   "metadata": {},
   "source": [
    "Typos"
   ]
  },
  {
   "cell_type": "code",
   "execution_count": 64,
   "metadata": {},
   "outputs": [],
   "source": [
    "t = Perturb.perturb(qs, wrap_apply_to_each(Perturb.add_typos), nsamples=500)\n",
    "test = INV(t.data, name='add one typo', capability='Robustness', description='')\n",
    "# test.run(new_pp)\n",
    "# test.summary(3)\n",
    "suite.add(test, overwrite=True)"
   ]
  },
  {
   "cell_type": "markdown",
   "metadata": {},
   "source": [
    "Contractions"
   ]
  },
  {
   "cell_type": "code",
   "execution_count": 65,
   "metadata": {},
   "outputs": [],
   "source": [
    "t = Perturb.perturb(qs, wrap_apply_to_each(Perturb.contractions, both=True), nsamples=500)\n",
    "test = INV(**t, name='contrations', capability='Robustness', description='')\n",
    "# test.run(new_pp)\n",
    "# test.summary(3)\n",
    "suite.add(test)"
   ]
  },
  {
   "cell_type": "markdown",
   "metadata": {},
   "source": [
    "Paraphrases"
   ]
  },
  {
   "cell_type": "code",
   "execution_count": 66,
   "metadata": {},
   "outputs": [],
   "source": [
    "import itertools\n",
    "def me_to_you(text):\n",
    "    t = re.sub(r'\\bI\\b', 'you', text)\n",
    "    t = re.sub(r'\\bmy\\b', 'your', t)\n",
    "    return re.sub(r'\\bmine\\b', 'yours', t)\n",
    "def paraphrases(text):\n",
    "    ts = ['How do I ', 'How can I ', 'What is a good way to ', 'How should I ']\n",
    "    templates1 = ['How do I {x}?', 'How can I {x}?', 'What is a good way to {x}?', 'If I want to {x}, what should I do?',\n",
    "                'In order to {x}, what should I do?']\n",
    "    ts2 = ['Can you ', 'Can I ']#, 'Do I']\n",
    "    ts3 = ['Do I ']\n",
    "    templates2 = ['Can you {x}?', 'Can I {x}?', 'Do you think I can {x}?', 'Do you think you can {x}?',]\n",
    "    templates3 = ['Do I {x}?', 'Do you think I {x}?']\n",
    "    ret = []\n",
    "    for i, (tsz, templates) in enumerate(zip([ts, ts2, ts3], [templates1, templates2, templates3])):\n",
    "        for t in tsz:\n",
    "            if text.startswith(t):\n",
    "                x = text[len(t):].strip('?')\n",
    "                ts = editor.template(templates, x=x).data[0]\n",
    "                if i <= 1:\n",
    "                    ts = ts + [me_to_you(x) for x in ts]\n",
    "                ret += ts\n",
    "    return ret\n",
    "def paraphrases_product(text):\n",
    "    pr = paraphrases(text)\n",
    "    return list(itertools.product(pr, pr))\n",
    "\n",
    "def paraphrase_each(pair):\n",
    "    p1 = paraphrases(pair[0])\n",
    "    p2 = paraphrases(pair[1])\n",
    "    return list(itertools.product(p1, p2))"
   ]
  },
  {
   "cell_type": "code",
   "execution_count": 67,
   "metadata": {},
   "outputs": [],
   "source": [
    "t = Perturb.perturb(list(all_questions), paraphrases_product, nsamples=200, keep_original=False)\n",
    "name = '(q, paraphrase(q))'\n",
    "desc = 'For questions that start with \"How do I X\", \"How can I X\", etc'\n",
    "test = DIR(t.data, expect=Expect.eq(1), agg_fn='all', name=name, description=desc, capability='Robustness')\n",
    "# test.run(new_pp)\n",
    "# test.summary(n=5)\n",
    "suite.add(test, overwrite=True)"
   ]
  },
  {
   "cell_type": "code",
   "execution_count": 68,
   "metadata": {},
   "outputs": [],
   "source": [
    "t = Perturb.perturb(qs, paraphrase_each, nsamples=100, keep_original=True)\n",
    "name = 'Product of paraphrases(q1) * paraphrases(q2)'\n",
    "desc = 'For questions that start with \"How do I X\", \"How can I X\", etc'\n",
    "test = INV(t.data, name=name, description=desc, capability='Robustness')\n",
    "# test.run(new_pp)\n",
    "# test.summary(n=5)\n",
    "suite.add(test)\n"
   ]
  },
  {
   "cell_type": "markdown",
   "metadata": {},
   "source": [
    "## Ner"
   ]
  },
  {
   "cell_type": "markdown",
   "metadata": {},
   "source": [
    "### Change same name, number, location in both"
   ]
  },
  {
   "cell_type": "markdown",
   "metadata": {},
   "source": [
    "Names"
   ]
  },
  {
   "cell_type": "code",
   "execution_count": 69,
   "metadata": {},
   "outputs": [],
   "source": [
    "def change_both_wrapper(fn):\n",
    "    def change_both(qs):\n",
    "        q1, q2 = qs\n",
    "        seed = np.random.randint(100)\n",
    "        c1 = fn(q1, seed=seed, meta=True)\n",
    "        c2 = fn(q2, seed=seed, meta=True)\n",
    "        if not c1 or not c2:\n",
    "            return\n",
    "        c1, m1 = c1\n",
    "        c2, m2 = c2\n",
    "        return [(q1, q2) for q1, q2, m1, m2 in zip(c1, c2, m1, m2) if m1 == m2]\n",
    "    return change_both\n",
    "\n",
    "def change_each_wrapper(fn):\n",
    "    def change_one(qs, **kwargs):\n",
    "        q1, q2 = qs\n",
    "        seed = np.random.randint(100)\n",
    "        c1 = fn(q1, seed=seed, meta=True, **kwargs)\n",
    "        c2 = fn(q2, seed=seed, meta=True, **kwargs)\n",
    "        if not c1 or not c2:\n",
    "            return\n",
    "        c1, m1 = c1\n",
    "        c2, m2 = c2\n",
    "        ret = []\n",
    "        ret.extend([(q1_, str(q2)) for q1_, m1_ in zip(c1, m1) if m1_[0] in str(q2)])\n",
    "        ret.extend([(str(q1), q2_) for q2_, m2_ in zip(c2, m2) if m2_[0] in str(q1)])\n",
    "        return ret\n",
    "    return change_one\n",
    "    \n",
    "t = Perturb.perturb(parsed_qs, change_both_wrapper(Perturb.change_names), nsamples=500)\n",
    "test = INV(**t, name='Change same name in both questions', capability='NER',\n",
    "          description='')\n",
    "# test.run(new_pp)\n",
    "# test.summary(3)\n",
    "suite.add(test)"
   ]
  },
  {
   "cell_type": "markdown",
   "metadata": {},
   "source": [
    "Locs"
   ]
  },
  {
   "cell_type": "code",
   "execution_count": 70,
   "metadata": {},
   "outputs": [],
   "source": [
    "t = Perturb.perturb(parsed_qs, change_both_wrapper(Perturb.change_location), nsamples=500)\n",
    "test = INV(**t, name='Change same location in both questions', capability='NER',\n",
    "          description='')\n",
    "# test.run(new_pp)\n",
    "# test.summary(3)\n",
    "suite.add(test)"
   ]
  },
  {
   "cell_type": "markdown",
   "metadata": {},
   "source": [
    "Numbers"
   ]
  },
  {
   "cell_type": "code",
   "execution_count": 71,
   "metadata": {},
   "outputs": [],
   "source": [
    "t = Perturb.perturb(parsed_qs, change_both_wrapper(Perturb.change_number), nsamples=500)\n",
    "test = INV(**t, name='Change same number in both questions', capability='NER',\n",
    "          description='')\n",
    "# test.run(new_pp)\n",
    "# test.summary(3)\n",
    "suite.add(test)"
   ]
  },
  {
   "cell_type": "markdown",
   "metadata": {},
   "source": [
    "### Change name, loc, number in only one where orig prediction is duplicate"
   ]
  },
  {
   "cell_type": "markdown",
   "metadata": {},
   "source": [
    "Changing only first names"
   ]
  },
  {
   "cell_type": "code",
   "execution_count": 72,
   "metadata": {},
   "outputs": [],
   "source": [
    "# t = Perturb.perturb(parsed_qs, wrap_apply_to_each(Perturb.change_names), nsamples=1500, first_only=True)\n",
    "t = Perturb.perturb(parsed_qs, change_each_wrapper(Perturb.change_names), nsamples=500, first_only=True)\n",
    "expect_fn = Expect.eq(0)\n",
    "expect_fn = Expect.slice_orig(expect_fn, lambda orig, *args: orig == 1)\n",
    "name = 'Change first name in one of the questions'\n",
    "desc = 'Take pairs that are originally predicted as duplicates, change first name in one of them and expect new prediction to be non-duplicate'\n",
    "test = DIR(**t, expect=expect_fn, name=name, description=desc, capability='NER')\n",
    "# test.run(new_pp)\n",
    "# test.summary(3)\n",
    "suite.add(test)\n"
   ]
  },
  {
   "cell_type": "markdown",
   "metadata": {},
   "source": [
    "Changing first and last names"
   ]
  },
  {
   "cell_type": "code",
   "execution_count": 73,
   "metadata": {},
   "outputs": [],
   "source": [
    "# t = Perturb.perturb(parsed_qs, wrap_apply_to_each(Perturb.change_names), nsamples=1500)\n",
    "t = Perturb.perturb(parsed_qs, change_each_wrapper(Perturb.change_names), nsamples=1500)\n",
    "name = 'Change first and last name in one of the questions'\n",
    "desc = 'Take pairs that are originally predicted as duplicates, change first and last name in one of them and expect new prediction to be non-duplicate'\n",
    "test = DIR(**t, expect=expect_fn, name=name, description=desc, capability='NER')\n",
    "# test.run(new_pp)\n",
    "# test.summary(3)\n",
    "suite.add(test)\n"
   ]
  },
  {
   "cell_type": "markdown",
   "metadata": {},
   "source": [
    "Locs"
   ]
  },
  {
   "cell_type": "code",
   "execution_count": 74,
   "metadata": {},
   "outputs": [],
   "source": [
    "# t = Perturb.perturb(parsed_qs, wrap_apply_to_each(Perturb.change_location), nsamples=1500)\n",
    "t = Perturb.perturb(parsed_qs, change_each_wrapper(Perturb.change_location), nsamples=1500)\n",
    "name = 'Change location in one of the questions'\n",
    "desc = 'Take pairs that are originally predicted as duplicates, change location in one of them and expect new prediction to be non-duplicate'\n",
    "test = DIR(**t, expect=expect_fn, name=name, description=desc, capability='NER')\n",
    "# test.run(new_pp)\n",
    "# test.summary(3)\n",
    "suite.add(test)"
   ]
  },
  {
   "cell_type": "markdown",
   "metadata": {},
   "source": [
    "numbers"
   ]
  },
  {
   "cell_type": "code",
   "execution_count": 75,
   "metadata": {},
   "outputs": [],
   "source": [
    "# t = Perturb.perturb(parsed_qs, wrap_apply_to_each(Perturb.change_number), nsamples=1500)\n",
    "t = Perturb.perturb(parsed_qs, change_each_wrapper(Perturb.change_number), nsamples=1500)\n",
    "name = 'Change numbers in one of the questions'\n",
    "desc = 'Take pairs that are originally predicted as duplicates, change number in one of them and expect new prediction to be non-duplicate'\n",
    "test = DIR(**t, expect=expect_fn, name=name, description=desc, capability='NER')\n",
    "# test.run(new_pp)\n",
    "# test.summary(3)\n",
    "suite.add(test, overwrite=True)"
   ]
  },
  {
   "cell_type": "code",
   "execution_count": 61,
   "metadata": {},
   "outputs": [],
   "source": [
    "### Change "
   ]
  },
  {
   "cell_type": "markdown",
   "metadata": {},
   "source": [
    "### Keep entities, fill in with BERT gibberish"
   ]
  },
  {
   "cell_type": "code",
   "execution_count": 76,
   "metadata": {},
   "outputs": [],
   "source": [
    "def mask_gibberish(question):\n",
    "    ents = question.ents\n",
    "    if not ents:\n",
    "        return None\n",
    "    wp = [x.text for x in question if x.tag_ in ['WP', 'WRB', 'WDT']]\n",
    "    if not wp:\n",
    "        wp = question[0].text\n",
    "    else:\n",
    "        wp = wp[0]\n",
    "    ents = [x.text for x in ents]\n",
    "    ents[-1] = ents[-1] + '?'\n",
    "    template = ' {mask} '.join([wp] + ents)\n",
    "    gibberish = editor.template(template).data[:5]\n",
    "#     return gibberish\n",
    "    ret = [(question.text, x) for x in gibberish if question.text.lower() != x.lower() ]\n",
    "    return ret\n",
    "def gibberish_both(qs):\n",
    "    q1, q2 = qs\n",
    "    ret = []\n",
    "    x1 = mask_gibberish(q1)\n",
    "    if x1:\n",
    "        ret.extend(x1)\n",
    "    x2 = mask_gibberish(q2)\n",
    "    if x2:\n",
    "        ret.extend(x2)\n",
    "    return ret\n",
    "#     ret =  [(question.text, x[1]) for x in tg.fill_in_between([wp] + ents) if question.text != x[1]]\n",
    "#     ret = [x for x in ret if len(x[1].split()) < len(x[0].split()) -4][:5]\n",
    "#     return rett"
   ]
  },
  {
   "cell_type": "code",
   "execution_count": 77,
   "metadata": {},
   "outputs": [],
   "source": [
    "t = Perturb.perturb(parsed_qs, gibberish_both, nsamples=500)\n",
    "expect_false = Expect.eq(0)\n",
    "name = 'Keep entitites, fill in with gibberish'\n",
    "desc = 'Fill in between entitites with BERT, expect result to not be duplicate with original questions'\n",
    "test = DIR(**t, expect=expect_false, name=name, description=desc, capability='NER')\n",
    "# test.run(new_pp)\n",
    "# test.summary(3)\n",
    "suite.add(test, overwrite=True)"
   ]
  },
  {
   "cell_type": "code",
   "execution_count": 78,
   "metadata": {},
   "outputs": [],
   "source": [
    "# test.summary(3)"
   ]
  },
  {
   "cell_type": "markdown",
   "metadata": {},
   "source": [
    "## Temporal"
   ]
  },
  {
   "cell_type": "markdown",
   "metadata": {},
   "source": [
    "Is != used to be"
   ]
  },
  {
   "cell_type": "code",
   "execution_count": 80,
   "metadata": {},
   "outputs": [],
   "source": [
    "other_nouns = ['player', 'person', 'friend', 'kid', 'candidate']\n",
    "nouns = list(set(professions + other_nouns))\n",
    "t = editor.template(('Is {first_name} {last_name} {a:noun}?', 'Did {first_name} {last_name} use to be {a:noun}?'),\n",
    "                noun=nouns,\n",
    "                adj=adjs,\n",
    "                remove_duplicates=True, \n",
    "                nsamples=1000)\n",
    "name = 'Is person X != Did person use to be X'\n",
    "test = MFT(**t, labels=0, name=name, description='', capability='Temporal')\n",
    "# test.run(new_pp)\n",
    "# test.summary(n=3)\n",
    "suite.add(test)"
   ]
  },
  {
   "cell_type": "markdown",
   "metadata": {},
   "source": [
    "Is != becoming"
   ]
  },
  {
   "cell_type": "code",
   "execution_count": 81,
   "metadata": {},
   "outputs": [],
   "source": [
    "t = editor.template(('Is {first_name} {last_name} {a:noun}?', 'Is {first_name} {last_name} becoming {a:noun}?'),\n",
    "                noun=nouns,\n",
    "                adj=adjs,\n",
    "                remove_duplicates=True, \n",
    "                nsamples=1000)\n",
    "name = 'Is person X != Is person becoming X'\n",
    "test = MFT(**t, labels=0, name=name, description='', capability='Temporal')\n",
    "# test.run(new_pp)\n",
    "# test.summary(n=3)\n",
    "suite.add(test)"
   ]
  },
  {
   "cell_type": "markdown",
   "metadata": {},
   "source": [
    "Before != after"
   ]
  },
  {
   "cell_type": "code",
   "execution_count": 82,
   "metadata": {},
   "outputs": [],
   "source": [
    "t = editor.template((\n",
    "    'What was {first_name} {last_name}\\'s life before becoming {a:noun}?',\n",
    "    'What was {first_name} {last_name}\\'s life after becoming {a:noun}?'\n",
    "),\n",
    "                noun=nouns,\n",
    "                adj=adjs,\n",
    "                remove_duplicates=True, \n",
    "                nsamples=1000)\n",
    "name = 'What was person\\'s life before becoming X != What was person\\'s life after becoming X'\n",
    "test = MFT(**t, labels=0, name=name, description='', capability='Temporal')\n",
    "# test.run(new_pp)\n",
    "# test.summary(n=3)\n",
    "suite.add(test)"
   ]
  },
  {
   "cell_type": "code",
   "execution_count": 83,
   "metadata": {},
   "outputs": [],
   "source": [
    "action12 = [x for x in editor.suggest('Do you have to {mask} your cat before {mask} it?') if 'kill' not in x[0] and 'kill' not in x[1]][:200]"
   ]
  },
  {
   "cell_type": "code",
   "execution_count": 84,
   "metadata": {},
   "outputs": [],
   "source": [
    "t = editor.template((\n",
    "    'Do you have to {a[0]} your {an} before {a[1]} it?',\n",
    "    'Do you have to {a[0]} your {an} after {a[1]} it?'\n",
    "),\n",
    "    an = ['cat', 'dog', 'hamster'],\n",
    "    a=action12,\n",
    "    remove_duplicates=True, \n",
    "   nsamples=1000)\n",
    "name = 'Do you have to X your dog before Y it != Do you have to X your dog after Y it.'\n",
    "test = MFT(**t, labels=0, name=name, description='', capability='Temporal')\n",
    "# test.run(new_pp)\n",
    "# test.summary(n=3)\n",
    "suite.add(test)"
   ]
  },
  {
   "cell_type": "code",
   "execution_count": 85,
   "metadata": {},
   "outputs": [
    {
     "name": "stdout",
     "output_type": "stream",
     "text": [
      "it, normal, OK, there, safe, best, ok, okay, acceptable, reasonable, permissible, legal, proper, wrong, healthy, good, enough, better, important, appropriate, left, allowed, possible, dinner, vegetarian, what, recommended, going, food, illegal, supposed, smart, unhealthy, hard, popular, hot, necessary, vegan, typical, not, free, right, required, fun, time, meant, something, one, kosher, customary, fair, mandatory, available, common, cheaper, alright, easier, suitable, feasible, polite, difficult, cool, certain, sensible, affordable, advisable, fine, fashionable, like, nice, unsafe, public, wise, decent, sufficient, harder, advised, traditional, usual, healthier, anyone, permitted, eating, easy, life, trendy, someone, forbidden, lawful, expensive, safer, new, everyone, compulsory, dangerous, worse, needed, realistic, temptation, essential, adequate, impossible, hungry, rude, risky, considered, prudent, taboo, different, tempting\n"
     ]
    }
   ],
   "source": [
    "print(', '.join(editor.suggest('Is is {mask} to eat after 10pm?')))"
   ]
  },
  {
   "cell_type": "code",
   "execution_count": 86,
   "metadata": {},
   "outputs": [],
   "source": [
    "mid = ['normal', 'ok', 'safe', 'dangerous', 'acceptable', 'reasonable', 'proper', 'wrong', 'healthy', 'important']"
   ]
  },
  {
   "cell_type": "code",
   "execution_count": 87,
   "metadata": {},
   "outputs": [
    {
     "name": "stdout",
     "output_type": "stream",
     "text": [
      "sleep, drink, eat, work, leave, drive, go, smoke, stay, call, vote, talk, read, retire, visit, write, celebrate, post, do, party, watch, study, exercise, travel, fish, start, stop, walk, play, strike, disappear, be, tweet, live, continue, shop, rise, speak, relax, die, finish, blog, run, move, act, wait, text, cook, return, dance, bed, fly, quit, report, swim, pray, ask, rest, answer, close, gamble, enter, crash, think, marry, come, kill, look, meet, feed, operate, propose, vanish, dress, pee, linger, change, check, remain, dinner, protest, nap, withdraw, wake, fight, begin, publish, arrive, attend, skate, disturb, end, gather, complain, chat, exist, worry, know, cry, shower, cancel, see, open, perform, queue, respond, resign, exit, book, commute, function, avoid, film, buy, awake, binge, snack, clean, vape, park, happen, comment, blackout, occur, cycle, have, paint, vomit, panic, refuse, sit, say, resume, demonstrate, disconnect, kiss, feel, lose, search, hunt, bar, breathe, take, survive, order, vacuum, investigate, emerge, you, workout, me, consume, chill, remember, spend, collapse, date, sex, diet, wear, fart, laugh, waste, join, escape, bake, strip, indulge, practice, phone, cough, barbecue, block, shave, freeze, ski, evacuate, pay, recover, behave, proceed, lie, sunset, fire, conclude, rent, cross, awaken, train, scream, expect, intervene, reopen, rush, pass, ring, debate, stand, argue, listen, us, appear, try, discuss, plan, Google, learn, people, focus, follow, anyone, reconnect, concentrate, notice, hear, tell, consider, research, pause, save, update, them, note\n"
     ]
    }
   ],
   "source": [
    "print(', '.join(editor.suggest('Is is {mid} to {mask} after 10pm?', mid=mid)))"
   ]
  },
  {
   "cell_type": "code",
   "execution_count": 88,
   "metadata": {},
   "outputs": [],
   "source": [
    "activity = ['drink', 'sleep', 'drive', 'work', 'eat', 'smoke', 'walk', 'read', 'party', 'talk', 'exercise', 'celebrate', 'text', 'tweet', 'run', 'dance', 'swim', 'cook', 'pray', 'pee', 'rest']"
   ]
  },
  {
   "cell_type": "code",
   "execution_count": 89,
   "metadata": {},
   "outputs": [],
   "source": [
    "t = editor.template(('Is it {mid} to {activity} before {hour}{ampm}?','Is it {mid} to {activity} after {hour}{ampm}?'),\n",
    "                activity=activity,\n",
    "                mid=mid,\n",
    "                hour=[str(x) for x in range(1, 12)],\n",
    "                ampm=['am', 'pm'],\n",
    "                remove_duplicates=True, \n",
    "                nsamples=1000)\n",
    "name = 'Is it {ok, dangerous, ...} to {smoke, rest, ...} after != before'\n",
    "test = MFT(**t, labels=0, name=name, description='', capability='Temporal')\n",
    "# test.run(new_pp)\n",
    "# test.summary(n=3)\n",
    "suite.add(test)"
   ]
  },
  {
   "cell_type": "markdown",
   "metadata": {},
   "source": [
    "## Negation"
   ]
  },
  {
   "cell_type": "code",
   "execution_count": 90,
   "metadata": {},
   "outputs": [],
   "source": [
    "mid2 = mid + ['legal', 'awkward', 'socially acceptable']"
   ]
  },
  {
   "cell_type": "code",
   "execution_count": 91,
   "metadata": {},
   "outputs": [
    {
     "name": "stdout",
     "output_type": "stream",
     "text": [
      "live, work, vote, drive, smoke, travel, be, marry, study, eat, fly, protest, pray, die, fight, speak, stay, shop, exist, campaign, gamble, meet, write, squat, visit, hunt, kill, murder, sleep, demonstrate, perform, drink, surf, serve, fish, gather, move, swim, remain, reside, pee, act, settle, cook, worship, dance, rape, play, strike, party, propose, fire, hide, report, train, march, burn, invest, paint, operate, race, shoot, barbecue, camp, preach, gay, arrive, hate, spy, vacation, migrate, sue, lie, talk, experiment, exercise, tan, search, interview, practice, volunteer, teach, survive, walk, land, buy, date, ski, ask, retire, wait, sit, holiday, communicate, breed, bomb, think, look, rent, diet\n"
     ]
    }
   ],
   "source": [
    "print(', '.join(editor.suggest('Is it {mid} to {mask} in {country}?', mid=mid2)[:100]))"
   ]
  },
  {
   "cell_type": "code",
   "execution_count": 92,
   "metadata": {},
   "outputs": [],
   "source": [
    "things = ['work', 'vote', 'travel', 'marry', 'drive', 'study', 'protest', 'campaign', 'fight', 'gamble', 'hunt', 'pray', 'smoke', 'fish', 'murder', 'invest', 'pee', 'march', 'worship', 'volunteer', 'surf', 'shoot', 'dance', 'camp', 'preach', 'spy', 'be gay', 'lie', 'divorce', 'discriminate']"
   ]
  },
  {
   "cell_type": "code",
   "execution_count": 93,
   "metadata": {},
   "outputs": [],
   "source": [
    "t = editor.template(('Is it {mid} to {activity} in {country}?','Is it {mid} not to {activity} in {country}?'),\n",
    "                activity=things,\n",
    "                mid=mid2,\n",
    "                remove_duplicates=True, \n",
    "                nsamples=1000)\n",
    "name = 'Is it {ok, dangerous, ...} to {smoke, rest, ...} in country != Is it {ok, dangerous, ...} not to {smoke, rest, ...} in country'\n",
    "test = MFT(**t, labels=0, name=name, description='', capability='Negation')\n",
    "# test.run(new_pp)\n",
    "# test.summary(n=3)\n",
    "suite.add(test)"
   ]
  },
  {
   "cell_type": "code",
   "execution_count": 94,
   "metadata": {},
   "outputs": [],
   "source": [
    "t = editor.template((\n",
    "    'What are things {a:noun} should worry about?',\n",
    "    'What are things {a:noun} should not worry about?',\n",
    "),\n",
    "                noun=nouns,\n",
    "                remove_duplicates=True, \n",
    "                nsamples=1000)\n",
    "name = 'What are things a {noun} should worry about != should not worry about.'\n",
    "test = MFT(**t, labels=0, name=name, description='', capability='Negation')\n",
    "# test.run(new_pp)\n",
    "# test.summary(n=3)\n",
    "suite.add(test)"
   ]
  },
  {
   "cell_type": "code",
   "execution_count": 95,
   "metadata": {},
   "outputs": [],
   "source": [
    "t = editor.template([(\n",
    "    'How can I become {a:x[0]} person?',\n",
    "    'How can I become a person who is not {x[1]}?',\n",
    "    ),\n",
    "    (\n",
    "    'How can I become {a:x[1]} person?',\n",
    "    'How can I become a person who is not {x[0]}?',\n",
    "    ),\n",
    "],\n",
    "    unroll=True,\n",
    "    x=opps,\n",
    "    remove_duplicates=True, \n",
    "    nsamples=1000)\n",
    "name = 'How can I become a X person == How can I become a person who is not antonym(X)' \n",
    "desc = ''\n",
    "test = MFT(**t, labels=0, name=name, capability = 'Negation',\n",
    "          description=desc)\n",
    "# test.run(new_pp)\n",
    "# test.summary(n=3)\n",
    "suite.add(test)"
   ]
  },
  {
   "cell_type": "markdown",
   "metadata": {},
   "source": [
    "## Coref"
   ]
  },
  {
   "cell_type": "code",
   "execution_count": 96,
   "metadata": {},
   "outputs": [],
   "source": [
    "t = editor.template(\n",
    "    [(\n",
    "        'If {male} and {female} were alone, do you think he would reject her?',\n",
    "        'If {male} and {female} were alone, do you think she would reject him?',\n",
    "    ),\n",
    "        (\n",
    "        'If {female} and {male} were alone, do you think he would reject her?',\n",
    "        'If {female} and {male} were alone, do you think she would reject him?',\n",
    "    )\n",
    "    ],\n",
    "    remove_duplicates=True, \n",
    "    nsamples=1000,\n",
    "    unroll=True)\n",
    "name = 'Simple coref: he and she'\n",
    "desc = '' \n",
    "test = MFT(**t, labels=0, name=name, description=desc, capability='Coref')\n",
    "# test.run(new_pp)\n",
    "# test.summary(n=3)\n",
    "suite.add(test)"
   ]
  },
  {
   "cell_type": "code",
   "execution_count": 97,
   "metadata": {},
   "outputs": [],
   "source": [
    "t = editor.template(\n",
    "    [(\n",
    "        'If {male} and {female} were married, would his family be happy?',\n",
    "        'If {male} and {female} were married, would {female}\\'s family be happy?',\n",
    "    ),(\n",
    "        'If {male} and {female} were married, would her family be happy?',\n",
    "        'If {male} and {female} were married, would {male}\\'s family be happy?',\n",
    "    ),\n",
    "    ]\n",
    "        ,\n",
    "    unroll=True,\n",
    "    remove_duplicates=True, \n",
    "    nsamples=1000)\n",
    "name = 'Simple coref: his and her'\n",
    "desc = '' \n",
    "test = MFT(**t, labels=0, name=name, description=desc, capability='Coref')\n",
    "# test.run(new_pp)\n",
    "# test.summary(n=3)\n",
    "suite.add(test, 'Simple coref: his and her', 'Coref', 'TODO_DESCRIPTION')"
   ]
  },
  {
   "cell_type": "markdown",
   "metadata": {},
   "source": [
    "## SRL"
   ]
  },
  {
   "cell_type": "code",
   "execution_count": 98,
   "metadata": {},
   "outputs": [
    {
     "name": "stdout",
     "output_type": "stream",
     "text": [
      "chef, pizza, boxer, player, footballer, athlete, rapper, actor, singer, cook, magician, robot, coach, beer, cyclist, wrestler, drummer, musician, quarterback, hacker, dog, baker, fighter, journalist, restaurant, steak, teacher, doctor, gamer, band, shooter, DJ, football, person, horse, photographer, driver, fisherman, burger, coffee, lawyer, writer, food, dancer, student, wine, artist, man, surgeon, comedian, trainer, VPN, vegetarian, programmer, team, game, vegan, guitarist, goalkeeper, server, guy, cricket, sport, engineer, dentist, waiter, cheese, bartender, fish, chicken, goalie, car, manager, computer, referee, hunter, guitar, basketball, tennis, astronaut, mathematician, sandwich, blogger, accountant, TV, soldier, sniper, job, runner, barbecue, chocolate, scientist, friend, cat, gun, pitcher, judge, AI, philosopher, butcher, painter, golf, camel, translator, piano, worker, farmer, conductor, politician, bike\n"
     ]
    }
   ],
   "source": [
    "print(', '.join(editor.suggest('Who is the best {mask} in the world?')))"
   ]
  },
  {
   "cell_type": "code",
   "execution_count": 99,
   "metadata": {},
   "outputs": [],
   "source": [
    "thing = ['chef', 'boxer', 'player', 'footballer', 'athlete', 'rapper', 'actor', 'singer', 'cook', 'magician', 'coach', 'cyclist', 'wrestler', 'drummer', 'musician', 'quarterback', 'hacker', 'baker', 'fighter', 'journalist', 'teacher', 'doctor', 'gamer', 'husband', 'DJ', 'person', 'man', 'woman', 'surgeon', 'comedian', 'trainer', 'programmer', 'guitarist', 'goalkeeper']"
   ]
  },
  {
   "cell_type": "code",
   "execution_count": 100,
   "metadata": {},
   "outputs": [
    {
     "name": "stdout",
     "output_type": "stream",
     "text": [
      "you, YOU, people, we, they, I, readers, You, guys, u, your, fans, ya, others, experts, Americans, scientists, men, voters, some, the, students, analysts, authors, everyone, friends, conservatives, players, critics, Canadians, he, judges, folks, women, all, most, historians, i, coaches, supporters, members, journalists, researchers, celebrities, many, viewers, liberals, participants, audiences, Australians, respondents, editors, Republicans, artists, writers, U, pundits, yo, comedians, gamers, reporters, economists, teachers, parents, veterans, commentators, consumers, anyone, users, independents, kids, pros, millennials, each, individuals, YOUR, those, athletes, doctors, candidates, reviewers, ye, investigators, both, politicians, scholars, not, two, philosophers, atheists, agents, humans, stars, ladies, police, feminists, insiders, yours, any, archaeologists, leaders, Christians, seniors, Democrats, contestants, psychologists, adults, guests, teams, astronomers, competitors, professionals, still, one, academics, scouts, listeners, children, bloggers, Mormons, polls, chefs, wrestlers, fighters, brands, Conservatives, she, legends, strikers, Russians, sports, referees, lawyers, activists, cyclists, captains, Texans, drivers, musicians, rappers, Cardinals, evangelicals, skeptics, schools, DJs, libertarians, girls, riders, Britons, runners, opponents, poets, teenagers, thee, teens, so, professors\n"
     ]
    }
   ],
   "source": [
    "print(', '.join(editor.suggest('Who do {mask} think is the the best {thing} in the world?', thing=thing)))"
   ]
  },
  {
   "cell_type": "code",
   "execution_count": 101,
   "metadata": {},
   "outputs": [],
   "source": [
    "subjects = ['you', 'people', 'readers', 'guys', 'fans', 'experts', 'scientists', 'Americans', 'students', 'men', 'voters', 'authors', 'conservatives', 'women', 'Canadians', 'analysts', 'critics', 'judges', 'artists', 'researchers', 'liberals', 'historians', 'Australians', 'journalists', 'Republicans', 'coaches', 'parents', 'kids', 'economists', 'reporters', 'consumers', 'veterans', 'doctors']"
   ]
  },
  {
   "cell_type": "code",
   "execution_count": 102,
   "metadata": {},
   "outputs": [
    {
     "name": "stdout",
     "output_type": "stream",
     "text": [
      "best, greatest, worst, top, smartest, finest, strongest, fastest, biggest, toughest, deadliest, coolest, hottest, better, happiest, safest, hardest, great, oldest, elite, richest, leading, premier, brightest, busiest, ultimate, superior, youngest, largest, favorite, Greatest, BEST, highest, professional, easiest, most, foremost, newest, Best, perfect, outstanding, dominant, premiere, first, star, next, only, weakest, wealthiest, quickest\n"
     ]
    }
   ],
   "source": [
    "print(', '.join(editor.suggest('Who do {subjects} think is the the {mask} {thing} in the world?', thing=thing, subjects=subjects)[:50]))"
   ]
  },
  {
   "cell_type": "code",
   "execution_count": 103,
   "metadata": {},
   "outputs": [],
   "source": [
    "best = ['best', 'greatest', 'worst', 'top', 'smartest', 'strongest', 'finests', 'happiest', 'coolest', 'richest', 'leading', 'brightest', 'premier', 'ultimate', 'dominant']"
   ]
  },
  {
   "cell_type": "code",
   "execution_count": 104,
   "metadata": {},
   "outputs": [],
   "source": [
    "t = editor.template((\n",
    "    'Who do {subjects} think is the {best} {thing} in the world?',\n",
    "    'Who is the {best} {thing} in the world according to {subjects}?'\n",
    "),\n",
    "    subjects=subjects,\n",
    "    best=best,\n",
    "    thing=thing,\n",
    "    remove_duplicates=True, \n",
    "    nsamples=1000)\n",
    "name = 'Who do X think - Who is the ... according to X'\n",
    "desc = '' \n",
    "test = MFT(**t, labels=1, name=name, description=desc, capability='SRL')\n",
    "# test.run(new_pp)\n",
    "# test.summary(n=3)\n",
    "suite.add(test)"
   ]
  },
  {
   "cell_type": "code",
   "execution_count": 105,
   "metadata": {},
   "outputs": [
    {
     "name": "stdout",
     "output_type": "stream",
     "text": [
      "humans, cats, mice, dogs, pigs, people, you, birds, chickens, cows, sheep, rats, fish, bears, rabbits, monkeys, elephants, we, snakes, bees, bats, lions, children, puppies, spiders, babies, ants, insects, they, kittens, dolphins, butterflies, frogs, animals, robots, turtles, ducks, trees, bugs, kids, flies, worms, whales, mosquitoes, crabs, cars, plants, sharks, dinosaurs, beetles, horses, tigers, wolves, primates, cattle, chimpanzees, goats, apes, men, deer, reptiles, rodents, mammals, balls, pets, ponies, carrots, seals, potatoes, apples, mushrooms, dragons, ticks, boys, toys, girls, us, computers, things, stones, women, brains, eggs, bulls, calves, Indians, dwarves, bananas, houses, burgers, flowers, shells, beans, diamonds, coins, trolls, guys, drones, bacteria, Lions\n"
     ]
    }
   ],
   "source": [
    "print(', '.join([str(x) for x in editor.suggest('Are {mask} smaller than {a}?', a=['bananas', 'dogs', 'cars', 'cats', 'elephants'])][:100]))"
   ]
  },
  {
   "cell_type": "code",
   "execution_count": 106,
   "metadata": {},
   "outputs": [],
   "source": [
    "things = editor.suggest('Are {mask} smaller than {a}?',a=['bananas', 'dogs', 'cars', 'cats', 'elephants'] )[:100]"
   ]
  },
  {
   "cell_type": "code",
   "execution_count": 107,
   "metadata": {},
   "outputs": [
    {
     "name": "stdout",
     "output_type": "stream",
     "text": [
      "smarter, better, bigger, faster, stronger, cooler, different, smaller, worse, larger, tougher, more, taller, safer, slower, wiser, heavier, weaker, healthier, happier, lighter, nicer, less, older, greater, quicker, cheaper, harder, shorter, cleaner, longer, quieter, brighter, easier, darker, hotter, higher, closer, other, colder, thicker, younger, louder, warmer, lower, sharper, deeper, wider, lesser, softer, broader, simpler, thinner, intelligent, clearer, stranger, important, dangerous, farther, rather, fewer, richer, smoother, finer, differently, smart, tighter, poorer, earlier, sooner, superior, real, related, stupid, wealthier, anymore, inferior, normal, valuable, dumb, interesting, beautiful, weird, narrower, big, further, stricter, strange, human, safe, powerful, rare, MORE, fuller, dead, special, alive, similar, old, newer\n"
     ]
    }
   ],
   "source": [
    "print(', '.join([str(x) for x in editor.suggest('Are {a} {mask} than {a2}?', a=things)][:100]))"
   ]
  },
  {
   "cell_type": "code",
   "execution_count": 108,
   "metadata": {},
   "outputs": [],
   "source": [
    "comp = ['better', 'worse', 'cheaper', 'bigger', 'louder', 'longer', 'larger', 'smaller', 'warmer', 'colder', 'thicker', 'lighter', 'heavier']"
   ]
  },
  {
   "cell_type": "markdown",
   "metadata": {},
   "source": [
    "Order doesn't matter for comparison"
   ]
  },
  {
   "cell_type": "code",
   "execution_count": 109,
   "metadata": {},
   "outputs": [],
   "source": [
    "t = editor.template([\n",
    "    (\n",
    "    'Are {t1} {comp} than {t2}?',\n",
    "    'What is {comp}, {t2} or {t1}?'\n",
    "    ),\n",
    "    (\n",
    "    'Are {t1} {comp} than {t2}?',\n",
    "    'Are {t2} {comp} than {t1}?',\n",
    "    ),\n",
    "    (\n",
    "    'Are {t1} {comp} than {t2}?',\n",
    "    'What is {comp}, {t1} or {t2}?',\n",
    "    )\n",
    "]\n",
    "    ,\n",
    "    t = things,\n",
    "    comp = comp,\n",
    "    remove_duplicates=True, \n",
    "    nsamples=1000)\n",
    "# data = [tuple(np.random.choice(x, 2, replace=False)) for x in data]\n",
    "name = 'Order does not matter for comparison'\n",
    "desc = '' \n",
    "test = MFT(**t, labels=1, name=name, description=desc, capability='SRL')\n",
    "# test.run(new_pp)\n",
    "# test.summary(n=3)\n",
    "suite.add(test)"
   ]
  },
  {
   "cell_type": "code",
   "execution_count": 110,
   "metadata": {},
   "outputs": [],
   "source": [
    "# editor.template('Is {first_name1} {mask} {first_name2}?', remove_duplicates=True)[:100]"
   ]
  },
  {
   "cell_type": "code",
   "execution_count": 111,
   "metadata": {},
   "outputs": [
    {
     "name": "stdout",
     "output_type": "stream",
     "text": [
      "related, married, close, engaged, talking, connected, closer, lying, speaking, loyal, linked, similar, going, attracted, important, faithful, listening, referring, writing, responding, proposing, true, hostile, next, bound, indebted, dead, known, opposed, mean, truthful, kin, right, committed, straight, real, up, tied, Married, coming, closest, kind, gay, lied, turning, good, dangerous, relevant, available, equal, devoted, superior, talk, proposed, attached, returning, nice, crazy, new, alive, wed, allergic, reacting, friendly, attractive, on, fair, father, abusive, acceptable, back, entitled, answering, drawn, supposed, special, cruel, answer, addicted, out, written, born, Loyal, nicer, happy, familiar, decent, happening, useful, gone, heir, single, sympathetic, brother, bisexual, Close, relating, spoken, appealing, talked\n",
      "\n",
      "or, really, and, Really, actually, an, not, still, like, a, with, real, born, the, /, indeed, dating, &, truly, from, even, also, now, to, his, after, named, married, marrying, another, versus, behind, King, REALLY, against, your, Young, James, marry, NOT, And, just, for, Elizabeth, called, pregnant, Love, clone, leaving, be, Still, Sue, becoming, …, into, Foster, AND, Dating, Mary, Alexander, biologically, A, meet, Kate, vs, Prince, Charles, Like, God, without, under, Or, my, killing, John, Worth, expecting, His, her, know, love, kill, remember, An, meeting, following, have, Actually, Rachel, killed, nor, Alexandra, ever, -, considered, is, Jane, already, adopted, fucking\n"
     ]
    }
   ],
   "source": [
    "print(', '.join(editor.suggest('Is {first_name1} {mask} to {first_name2}?', remove_duplicates=True)[:100]))\n",
    "print()\n",
    "print(', '.join(editor.suggest('Is {first_name1} {mask} {first_name2}?', remove_duplicates=True)[:100]))"
   ]
  },
  {
   "cell_type": "code",
   "execution_count": 112,
   "metadata": {},
   "outputs": [],
   "source": [
    "symmetric = ['dating', 'married to', 'close to', 'engaged to', 'connected to', 'married to', 'friends with', 'related to', 'an acquaintance of']"
   ]
  },
  {
   "cell_type": "code",
   "execution_count": 113,
   "metadata": {},
   "outputs": [],
   "source": [
    "t = editor.template((\n",
    "    'Is {first_name1} {s} {first_name2}?',\n",
    "#     'Are {t2} {comp} than {t1}?',\n",
    "#     'What is {comp}, {t1} or {t2}?',\n",
    "    'Is {first_name2} {s} {first_name1}?',\n",
    "),\n",
    "    s = symmetric,\n",
    "    remove_duplicates=True, \n",
    "    nsamples=1000)\n",
    "# data = [tuple(np.random.choice(x, 2, replace=False)) for x in data]\n",
    "name = 'Order does not matter for symmetric relations'\n",
    "desc = 'e.g. dating, married to, close to, engaged to, etc' \n",
    "test = MFT(**t, labels=1, name=name, description=desc, capability='SRL')\n",
    "# test.run(new_pp)\n",
    "# test.summary(n=3)\n",
    "suite.add(test)"
   ]
  },
  {
   "cell_type": "markdown",
   "metadata": {},
   "source": [
    "Order matters for asymetric relations"
   ]
  },
  {
   "cell_type": "code",
   "execution_count": 114,
   "metadata": {},
   "outputs": [],
   "source": [
    "asymmetric = ['hurting', 'lying to', 'loyal to', 'faithful to', 'proposing to', 'indebted to', 'abusive to', 'using', 'expecting', 'beating', 'punching', 'raising', 'poisoning', 'protecting', 'kidnapping']"
   ]
  },
  {
   "cell_type": "code",
   "execution_count": 115,
   "metadata": {},
   "outputs": [],
   "source": [
    "t = editor.template((\n",
    "    'Is {first_name1} {s} {first_name2}?',\n",
    "#     'Are {t2} {comp} than {t1}?',\n",
    "#     'What is {comp}, {t1} or {t2}?',\n",
    "    'Is {first_name2} {s} {first_name1}?',\n",
    "),\n",
    "    s = asymmetric,\n",
    "    remove_duplicates=True, \n",
    "    nsamples=1000)\n",
    "# data = [tuple(np.random.choice(x, 2, replace=False)) for x in data]\n",
    "name = 'Order does matter for asymmetric relations'\n",
    "desc = 'e.g. hurting lying to, faithful to, etc'\n",
    "test = MFT(**t, labels=1, name=name, description=desc, capability='SRL')\n",
    "# test.run(new_pp)\n",
    "# test.summary(n=3)\n",
    "suite.add(test)"
   ]
  },
  {
   "cell_type": "markdown",
   "metadata": {},
   "source": [
    "More traditional SRL"
   ]
  },
  {
   "cell_type": "code",
   "execution_count": 116,
   "metadata": {},
   "outputs": [
    {
     "name": "stdout",
     "output_type": "stream",
     "text": [
      "farm, stake, house, property, company, land, rights, ticket, papers, newspaper, book, island, estate, ranch, boat, horse, paper, shares, tickets, business, gun, books, newspapers, yacht, team, ship, stock, idea, plot, contract, Bible, phone, franchise, shotgun, store, horses, cattle, church, place, game, factory, castle, club, painting, bank, tract, rifle, manuscript, car, campaign, Ark, slaves, plane, school, money, guns, sword, plantation, beer, trust, election, film, ring, building, station, twins, deal, loan, time, tractor, home, letter, IRA, plan, title, watch, story, letters, rest, cows, piece, diary, brewery, charter, diamond, mortgage, hospital, site, post, operation, insurance, railroad, cow, coins, Dell, case, children, wine, telephone, dog\n"
     ]
    }
   ],
   "source": [
    "print(', '.join(editor.suggest('Did John buy the {mask}?', remove_duplicates=True)[:100]))"
   ]
  },
  {
   "cell_type": "code",
   "execution_count": 117,
   "metadata": {},
   "outputs": [],
   "source": [
    "obj = ['farm', 'house', 'property', 'company', 'land', 'ticket', 'newspaper', 'book', 'island', 'estate', 'ranch', 'boat', 'horse', 'paper', 'business', 'gun', 'game', 'factory', 'castle', 'painting', 'rifle', 'car', 'school', 'building']"
   ]
  },
  {
   "cell_type": "code",
   "execution_count": 118,
   "metadata": {},
   "outputs": [
    {
     "name": "stdout",
     "output_type": "stream",
     "text": [
      "buy, get, take, sell, have, lose, own, leave, see, keep, want, use, win, need, steal, manage, find, miss, receive, handle, inherit, purchase, abandon, seize, control, run, return, remember, finish, break, enjoy, know, hold, give, drop, claim, recover, move, touch, save, land, pull, on, destroy, share, start, rebuild, crash, call, stop, afford, hit, acquire, join, like, bought, deliver, lead, remove, clear, fix, sign, split, quit, watch, bring, play, survive, left, carry, sold, shoot, maintain, close, grab, settle, reclaim, accept, retain, enter, complete, change, possess, raise, make, wreck, beat, flip, catch, nail, build, forget, ruin, recall, try, retrieve, surrender, notice, mention, got\n"
     ]
    }
   ],
   "source": [
    "print(', '.join(editor.suggest('Did John {mask} the {obj}?', obj=obj, remove_duplicates=True)[:100]))"
   ]
  },
  {
   "cell_type": "code",
   "execution_count": 119,
   "metadata": {},
   "outputs": [
    {
     "data": {
      "text/plain": [
       "[('buy', 'bought'),\n",
       " ('purchase', 'purchased'),\n",
       " ('sell', 'sold'),\n",
       " ('leave', 'left'),\n",
       " ('own', 'owned'),\n",
       " ('take', 'taken'),\n",
       " ('keep', 'kept'),\n",
       " ('want', 'wanted'),\n",
       " ('lose', 'lost'),\n",
       " ('destroy', 'destroyed'),\n",
       " ('inherit', 'inherited'),\n",
       " ('find', 'found'),\n",
       " ('use', 'used'),\n",
       " ('need', 'needed'),\n",
       " ('receive', 'received'),\n",
       " ('return', 'returned'),\n",
       " ('like', 'liked'),\n",
       " ('enjoy', 'enjoyed'),\n",
       " ('abandon', 'abandoned'),\n",
       " ('manage', 'managed'),\n",
       " ('remember', 'remembered'),\n",
       " ('miss', 'missed'),\n",
       " ('move', 'moved'),\n",
       " ('seize', 'seized'),\n",
       " ('steal', 'stolen')]"
      ]
     },
     "execution_count": 119,
     "metadata": {},
     "output_type": "execute_result"
    }
   ],
   "source": [
    "import pattern\n",
    "import pattern.en\n",
    "verbs = ['buy', 'purchase', 'sell', 'leave', 'own', 'take', 'keep', 'want', 'lose', 'destroy', 'inherit', 'find', 'use', 'need', 'receive', 'return', 'like', 'enjoy', 'abandon', 'manage', 'remember', 'miss', 'move', 'seize', 'steal']\n",
    "a = pattern.en.tenses('stolen')[0]\n",
    "verbs = [(v, pattern.en.conjugate(v, *a)) for v in verbs]\n",
    "verbs[3] = ('leave', 'left')\n",
    "verbs"
   ]
  },
  {
   "cell_type": "code",
   "execution_count": 120,
   "metadata": {},
   "outputs": [],
   "source": [
    "t = editor.template((\n",
    "    'Did {first_name} {verb[0]} the {obj}?',\n",
    "    'Was the {obj} {verb[1]} by {first_name}?'\n",
    "),\n",
    "    verb=verbs,\n",
    "    obj=obj,\n",
    "    remove_duplicates=True, \n",
    "    nsamples=1000)\n",
    "# data = [tuple(np.random.choice(x, 2, replace=False)) for x in data]\n",
    "name = 'traditional SRL: active / passive swap'\n",
    "desc = ''\n",
    "test = MFT(**t, labels=1, name=name, description=desc, capability='SRL')\n",
    "# test.run(new_pp)\n",
    "# test.summary(n=3)\n",
    "suite.add(test)"
   ]
  },
  {
   "cell_type": "code",
   "execution_count": 121,
   "metadata": {},
   "outputs": [],
   "source": [
    "t = editor.template((\n",
    "    'Did {first_name} {verb[0]} the {obj}?',\n",
    "    'Was {first_name} {verb[1]} by the {obj}?'\n",
    "),\n",
    "    verb=verbs,\n",
    "    obj=obj,\n",
    "    remove_duplicates=True, \n",
    "    nsamples=1000)\n",
    "# data = [tuple(np.random.choice(x, 2, replace=False)) for x in data]\n",
    "name = 'traditional SRL: wrong active / passive swap'\n",
    "desc = ''\n",
    "test = MFT(**t, labels=0, name=name, description=desc, capability='SRL')\n",
    "# test.run(new_pp)\n",
    "# test.summary(n=3)\n",
    "suite.add(test)"
   ]
  },
  {
   "cell_type": "markdown",
   "metadata": {},
   "source": [
    "With people"
   ]
  },
  {
   "cell_type": "code",
   "execution_count": 122,
   "metadata": {},
   "outputs": [
    {
     "name": "stdout",
     "output_type": "stream",
     "text": [
      "know, marry, kill, love, hate, remember, like, want, and, or, have, date, need, see, meet, tell, Know, find, recognize, choose, understand, forgive, trust, mention, blame, follow, murder, miss, bother, ask, deserve, save, beat, mean, attack, prefer, dislike, resemble, become, survive, support, get, help, visit, kiss, leave, accept, recognise, married, own, notice, be, hurt, call, replace, hit, take, fear, catch, reject, clone, divorce, believe, kidnap, Love, /, Remember, adopt, succeed, question, influence, killed, recall, shoot, contact, raise, respect, rape, use, judge, include, eat, v, owe, confront, join, KILL, despise, Like, sponsor, hire, crush, control, threaten, stalk, destroy, Want, &, defeat, lose\n"
     ]
    }
   ],
   "source": [
    "print(', '.join(editor.suggest('Does {first_name} {mask} {first_name2}?', remove_duplicates=True)[:100]))"
   ]
  },
  {
   "cell_type": "code",
   "execution_count": 123,
   "metadata": {},
   "outputs": [],
   "source": [
    "pverb = ['love', 'hate', 'like', 'remember', 'recognize', 'trust', 'deserve', 'understand', 'blame', 'dislike', 'prefer', 'follow', 'notice', 'hurt', 'bother', 'support', 'believe', 'accept', 'attack']\n",
    "a = pattern.en.tenses('stolen')[0]\n",
    "pverb = [(v, pattern.en.conjugate(v, *a)) for v in pverb]\n",
    "t = editor.template((\n",
    "    'Does {first_name} {verb[0]} {first_name2}?',\n",
    "    'Is {first_name2} {verb[1]} by {first_name}?',\n",
    "),\n",
    "    verb=pverb,\n",
    "    obj=obj,\n",
    "    remove_duplicates=True, \n",
    "    nsamples=1000)\n",
    "# data = [tuple(np.random.choice(x, 2, replace=False)) for x in data]\n",
    "name = 'traditional SRL: active / passive swap with people'\n",
    "desc = ''\n",
    "test = MFT(**t, labels=1, name=name, description=desc, capability='SRL')\n",
    "# test.run(new_pp)\n",
    "# test.summary(n=3)\n",
    "suite.add(test)"
   ]
  },
  {
   "cell_type": "code",
   "execution_count": 124,
   "metadata": {},
   "outputs": [],
   "source": [
    "pverb = ['love', 'hate', 'like', 'remember', 'recognize', 'trust', 'deserve', 'understand', 'blame', 'dislike', 'prefer', 'follow', 'notice', 'hurt', 'bother', 'support', 'believe', 'accept', 'attack']\n",
    "a = pattern.en.tenses('stolen')[0]\n",
    "pverb = [(v, pattern.en.conjugate(v, *a)) for v in pverb]\n",
    "t = editor.template((\n",
    "    'Does {first_name} {verb[0]} {first_name2}?',\n",
    "    'Is {first_name} {verb[1]} by {first_name2}?',\n",
    "),\n",
    "    verb=pverb,\n",
    "    obj=obj,\n",
    "    remove_duplicates=True, \n",
    "    nsamples=1000)\n",
    "# data = [tuple(np.random.choice(x, 2, replace=False)) for x in data]\n",
    "name = 'traditional SRL: wrong active / passive swap with people'\n",
    "desc = ''\n",
    "test = MFT(**t, labels=0, name=name, description=desc, capability='SRL')\n",
    "# test.run(new_pp)\n",
    "# test.summary(n=3)\n",
    "suite.add(test)"
   ]
  },
  {
   "cell_type": "markdown",
   "metadata": {},
   "source": [
    "## Logic"
   ]
  },
  {
   "cell_type": "code",
   "execution_count": 125,
   "metadata": {},
   "outputs": [],
   "source": [
    "t = editor.template((\n",
    "    'Is {first_name} {last_name} {a:p1} ?',\n",
    "    'Is {first_name} {last_name} {a:p3}?',\n",
    "),\n",
    "    p=professions,\n",
    "    remove_duplicates=True, \n",
    "    nsamples=1000)\n",
    "test = MFT(**t, labels=0)\n",
    "# test.run(new_pp)\n",
    "# test.summary(n=3)\n"
   ]
  },
  {
   "cell_type": "code",
   "execution_count": 126,
   "metadata": {},
   "outputs": [],
   "source": [
    "t = editor.template((\n",
    "    'Is {first_name} {last_name} {a:p1} or {a:p2}?',\n",
    "    'Is {first_name} {last_name} simultaneously {a:p3} and {a:p4}?',\n",
    "),\n",
    "    p=professions,\n",
    "    remove_duplicates=True, \n",
    "    nsamples=1000)\n",
    "# data = [tuple(np.random.choice(x, 2, replace=False)) for x in data]\n",
    "name = 'A or B is not the same as C and D'\n",
    "desc = ''\n",
    "test = MFT(**t, labels=0, name=name, description=desc, capability='Logic')\n",
    "# test.run(new_pp)\n",
    "# test.summary(n=3)\n",
    "suite.add(test)\n"
   ]
  },
  {
   "cell_type": "code",
   "execution_count": 127,
   "metadata": {},
   "outputs": [],
   "source": [
    "t = editor.template((\n",
    "    'Is {first_name} {last_name} {a:p1} or {a:p2}?',\n",
    "    'Is {first_name} {last_name} simultaneously {a:p1} and {a:p2}?',\n",
    "),\n",
    "    p=professions,\n",
    "    remove_duplicates=True, \n",
    "    nsamples=1000)\n",
    "name = 'A or B is not the same as A and B'\n",
    "desc = ''\n",
    "test = MFT(**t, labels=0, name=name, description=desc, capability='Logic')\n",
    "# test.run(new_pp)\n",
    "# test.summary(n=3)\n",
    "suite.add(test)"
   ]
  },
  {
   "cell_type": "code",
   "execution_count": 128,
   "metadata": {},
   "outputs": [],
   "source": [
    "\n",
    "t = editor.template((\n",
    "    'Is {first_name} {last_name} {a:p1} {andor} {a:p2}?',\n",
    "    'Is {first_name} {last_name} {a:p2} {andor} {a:p1}?',\n",
    "),\n",
    "    andor=['and', 'or'],\n",
    "    p=professions,\n",
    "    remove_duplicates=True, \n",
    "    nsamples=1000)\n",
    "# data = [tuple(np.random.choice(x, 2, replace=False)) for x in data]\n",
    "name = 'A and / or B is the same as B and / or A'\n",
    "desc = ''\n",
    "test = MFT(**t, labels=1, name=name, description=desc, capability='Logic')\n",
    "# test.run(new_pp)\n",
    "# test.summary(n=3)\n",
    "suite.add(test)"
   ]
  },
  {
   "cell_type": "code",
   "execution_count": 129,
   "metadata": {},
   "outputs": [],
   "source": [
    "\n",
    "t = editor.template((\n",
    "    'Is {first_name} {last_name} {a:nat} {p1}?',\n",
    "    'Is {first_name} {last_name} {a:p1} and {nat}?',\n",
    "),\n",
    "    nat=editor.lexicons['nationality'][:20],\n",
    "    p=professions,\n",
    "    remove_duplicates=True, \n",
    "    nsamples=1000)\n",
    "# data = [tuple(np.random.choice(x, 2, replace=False)) for x in data]\n",
    "name = 'a {nationality} {profession} = a {profession} and {nationality}'\n",
    "desc = ''\n",
    "test = MFT(**t, labels=1, name=name, description=desc, capability='Logic')\n",
    "# test.run(new_pp)\n",
    "# test.summary(n=3)\n",
    "suite.add(test)"
   ]
  },
  {
   "cell_type": "markdown",
   "metadata": {},
   "source": [
    "Reflexivity"
   ]
  },
  {
   "cell_type": "code",
   "execution_count": 130,
   "metadata": {},
   "outputs": [],
   "source": [
    "t = Perturb.perturb(list(all_questions), lambda x:(x, x), nsamples=1000, keep_original=False)\n",
    "name = 'Reflexivity: (q, q) should be duplicate'\n",
    "desc = ''\n",
    "test = MFT(**t, labels=1, name=name, description=desc, capability='Logic')\n",
    "# test.run(new_pp)\n",
    "# test.summary(n=3)\n",
    "suite.add(test)\n",
    "# test.summary(n=3)"
   ]
  },
  {
   "cell_type": "markdown",
   "metadata": {},
   "source": [
    "Symmetry"
   ]
  },
  {
   "cell_type": "code",
   "execution_count": 131,
   "metadata": {},
   "outputs": [],
   "source": [
    "t = Perturb.perturb(qs, lambda x:(x[1], x[0]), nsamples=500, keep_original=True)\n",
    "name = 'Symmetry: f(a, b) = f(b, a)'\n",
    "desc = ''\n",
    "test = INV(t.data, name=name, description=desc, capability='Logic')\n",
    "# test.run(new_pp)\n",
    "# test.summary(n=3)\n",
    "suite.add(test)"
   ]
  },
  {
   "cell_type": "code",
   "execution_count": 132,
   "metadata": {},
   "outputs": [],
   "source": [
    "# t.data[23]"
   ]
  },
  {
   "cell_type": "code",
   "execution_count": 133,
   "metadata": {},
   "outputs": [],
   "source": [
    "# labels"
   ]
  },
  {
   "cell_type": "code",
   "execution_count": 134,
   "metadata": {},
   "outputs": [],
   "source": [
    "import collections\n",
    "def extract_unknown_implications(pairs, labels):\n",
    "    graph = collections.defaultdict(lambda: set())\n",
    "    ls = {}\n",
    "    for x, y in zip(pairs, labels):\n",
    "        graph[x[0]].add(x[1])\n",
    "        graph[x[1]].add(x[0])\n",
    "        t = tuple(sorted(x))\n",
    "        ls[t] = y\n",
    "\n",
    "    d = []\n",
    "    l = []\n",
    "    for x in graph:\n",
    "        if len(graph[x]) == 1:\n",
    "            continue\n",
    "        for y in graph[x]:\n",
    "            t = tuple(sorted((x, y)))\n",
    "    #         print(t, ls[t])\n",
    "        new = list(set([tuple(sorted(a)) for a in itertools.product(list(graph[x]), list(graph[x])) if a[0] != a[1]]))\n",
    "        new = [a for a in new if a not in ls]\n",
    "        for b, c in new:\n",
    "            t1 = tuple(sorted((x, b)))\n",
    "            t2 = tuple(sorted((x, c)))\n",
    "            l1 = ls[t1]\n",
    "            l2 = ls[t2]\n",
    "            if l1 + l2 == 2:\n",
    "                l3 = 1\n",
    "            elif l1 + l2 == 1:\n",
    "                l3 = 0\n",
    "            else:\n",
    "                continue\n",
    "            new_x = [(x, b), (x, c), (b, c)]\n",
    "            new_l = np.array([l1, l2, l3])\n",
    "            d.append(new_x)\n",
    "            l.append(new_l)\n",
    "    return d, l"
   ]
  },
  {
   "cell_type": "code",
   "execution_count": 135,
   "metadata": {},
   "outputs": [],
   "source": [
    "data, ls = extract_unknown_implications(qs, labels)"
   ]
  },
  {
   "cell_type": "code",
   "execution_count": 136,
   "metadata": {},
   "outputs": [],
   "source": [
    "def expect_triplet(xs, preds, confs, labels, meta=None):\n",
    "    if (preds[0] + preds[1]) == 2:\n",
    "        if preds[2] != 1:\n",
    "            return np.array([-3, -2, -1])\n",
    "        else:\n",
    "            return np.array([True, True, True])\n",
    "    if (preds[0] + preds[1] == 1) and preds[1] != 0:\n",
    "        if preds[1] != 0:\n",
    "            return np.array([-3, -2, -1])\n",
    "        else:\n",
    "            return np.array([True, True, True])\n",
    "    return None\n",
    "#     if preds[0] != labels[0] or preds[1] != labels[1]:\n",
    "#         return None\n",
    "#     if preds[2] == labels[2]:\n",
    "#         return np.array([True, True, True])\n",
    "#     else:\n",
    "#         return np.array([-3, -2, -1])\n",
    "expect = Expect.testcase(expect_triplet)"
   ]
  },
  {
   "cell_type": "code",
   "execution_count": 137,
   "metadata": {},
   "outputs": [],
   "source": [
    "name = 'Testing implications'\n",
    "desc = 'f(x, a) = 1 and f(x, b) = 1 => f(a, b) = 1\\nf(x, a) = 1 and f(x, b) = 0 => f(a, b) = 0\\n Only used (x, a, b) such that (x, a) and (x, b) in val dataset and (a, b) is not.\\n Expectation function filters out examples where f(x, a) or f(x, b) are incorrect'\n",
    "test = DIR(data, expect, labels=ls, name=name, description=desc, capability='Logic')\n",
    "# test.run(new_pp)\n",
    "# test.summary(n=3)\n",
    "suite.add(test)"
   ]
  },
  {
   "cell_type": "code",
   "execution_count": null,
   "metadata": {},
   "outputs": [],
   "source": []
  },
  {
   "cell_type": "code",
   "execution_count": 138,
   "metadata": {},
   "outputs": [],
   "source": [
    "suite.save('/home/wtshuang/datasets/qqp_suite.pkl')"
   ]
  },
  {
   "cell_type": "markdown",
   "metadata": {},
   "source": [
    "## Bert"
   ]
  },
  {
   "cell_type": "code",
   "execution_count": 139,
   "metadata": {},
   "outputs": [
    {
     "name": "stderr",
     "output_type": "stream",
     "text": [
      "\r",
      "Evaluating:   0%|          | 0/63 [00:00<?, ?it/s]"
     ]
    },
    {
     "name": "stdout",
     "output_type": "stream",
     "text": [
      "Running Modifier: adj\n",
      "Predicting 500 examples\n"
     ]
    },
    {
     "name": "stderr",
     "output_type": "stream",
     "text": [
      "Evaluating: 100%|██████████| 63/63 [00:06<00:00, 10.44it/s]\n",
      "Evaluating:   0%|          | 0/63 [00:00<?, ?it/s]"
     ]
    },
    {
     "name": "stdout",
     "output_type": "stream",
     "text": [
      "Running different adjectives\n",
      "Predicting 500 examples\n"
     ]
    },
    {
     "name": "stderr",
     "output_type": "stream",
     "text": [
      "Evaluating: 100%|██████████| 63/63 [00:05<00:00, 10.57it/s]\n",
      "Evaluating:   0%|          | 0/63 [00:00<?, ?it/s]"
     ]
    },
    {
     "name": "stdout",
     "output_type": "stream",
     "text": [
      "Running same adjectives, different people\n",
      "Predicting 500 examples\n"
     ]
    },
    {
     "name": "stderr",
     "output_type": "stream",
     "text": [
      "Evaluating: 100%|██████████| 63/63 [00:05<00:00, 10.55it/s]\n",
      "Evaluating:   0%|          | 0/63 [00:00<?, ?it/s]"
     ]
    },
    {
     "name": "stdout",
     "output_type": "stream",
     "text": [
      "Running same adjectives, different people v2\n",
      "Predicting 500 examples\n"
     ]
    },
    {
     "name": "stderr",
     "output_type": "stream",
     "text": [
      "Evaluating: 100%|██████████| 63/63 [00:05<00:00, 10.53it/s]\n",
      "Evaluating:   0%|          | 0/63 [00:00<?, ?it/s]"
     ]
    },
    {
     "name": "stdout",
     "output_type": "stream",
     "text": [
      "Running same adjectives, different people v3\n",
      "Predicting 500 examples\n"
     ]
    },
    {
     "name": "stderr",
     "output_type": "stream",
     "text": [
      "Evaluating: 100%|██████████| 63/63 [00:06<00:00, 10.50it/s]\n",
      "Evaluating:   0%|          | 0/63 [00:00<?, ?it/s]"
     ]
    },
    {
     "name": "stdout",
     "output_type": "stream",
     "text": [
      "Running Different animals\n",
      "Predicting 500 examples\n"
     ]
    },
    {
     "name": "stderr",
     "output_type": "stream",
     "text": [
      "Evaluating: 100%|██████████| 63/63 [00:06<00:00, 10.48it/s]\n",
      "Evaluating:   0%|          | 0/63 [00:00<?, ?it/s]"
     ]
    },
    {
     "name": "stdout",
     "output_type": "stream",
     "text": [
      "Running Irrelevant modifiers - animals\n",
      "Predicting 500 examples\n"
     ]
    },
    {
     "name": "stderr",
     "output_type": "stream",
     "text": [
      "Evaluating: 100%|██████████| 63/63 [00:06<00:00, 10.46it/s]\n",
      "Evaluating:   0%|          | 0/63 [00:00<?, ?it/s]"
     ]
    },
    {
     "name": "stdout",
     "output_type": "stream",
     "text": [
      "Running Irrelevant modifiers - people\n",
      "Predicting 500 examples\n"
     ]
    },
    {
     "name": "stderr",
     "output_type": "stream",
     "text": [
      "Evaluating: 100%|██████████| 63/63 [00:06<00:00, 10.43it/s]\n",
      "Evaluating:   0%|          | 0/63 [00:00<?, ?it/s]"
     ]
    },
    {
     "name": "stdout",
     "output_type": "stream",
     "text": [
      "Running Irrelevant preamble with different examples.\n",
      "Predicting 500 examples\n"
     ]
    },
    {
     "name": "stderr",
     "output_type": "stream",
     "text": [
      "Evaluating: 100%|██████████| 63/63 [00:06<00:00, 10.42it/s]\n"
     ]
    },
    {
     "name": "stdout",
     "output_type": "stream",
     "text": [
      "Running Preamble is relevant (different injuries)\n",
      "Predicting 500 examples\n"
     ]
    },
    {
     "name": "stderr",
     "output_type": "stream",
     "text": [
      "Evaluating: 100%|██████████| 63/63 [00:06<00:00, 10.40it/s]\n",
      "Evaluating:   0%|          | 0/63 [00:00<?, ?it/s]"
     ]
    },
    {
     "name": "stdout",
     "output_type": "stream",
     "text": [
      "Running How can I become more {synonym}?\n",
      "Predicting 500 examples\n"
     ]
    },
    {
     "name": "stderr",
     "output_type": "stream",
     "text": [
      "Evaluating: 100%|██████████| 63/63 [00:06<00:00, 10.37it/s]\n"
     ]
    },
    {
     "name": "stdout",
     "output_type": "stream",
     "text": [
      "Running add one typo\n",
      "Predicting 1500 examples\n"
     ]
    },
    {
     "name": "stderr",
     "output_type": "stream",
     "text": [
      "Evaluating: 100%|██████████| 188/188 [00:18<00:00, 10.29it/s]\n"
     ]
    },
    {
     "name": "stdout",
     "output_type": "stream",
     "text": [
      "Running contrations\n",
      "Predicting 1392 examples\n"
     ]
    },
    {
     "name": "stderr",
     "output_type": "stream",
     "text": [
      "Evaluating: 100%|██████████| 174/174 [00:17<00:00, 10.22it/s]\n"
     ]
    },
    {
     "name": "stdout",
     "output_type": "stream",
     "text": [
      "Running (q, paraphrase(q))\n",
      "Predicting 18548 examples\n"
     ]
    },
    {
     "name": "stderr",
     "output_type": "stream",
     "text": [
      "Evaluating: 100%|██████████| 2319/2319 [03:50<00:00, 10.05it/s]\n"
     ]
    },
    {
     "name": "stdout",
     "output_type": "stream",
     "text": [
      "Running Product of paraphrases(q1) * paraphrases(q2)\n",
      "Predicting 9936 examples\n"
     ]
    },
    {
     "name": "stderr",
     "output_type": "stream",
     "text": [
      "Evaluating: 100%|██████████| 1242/1242 [02:05<00:00,  9.93it/s]\n",
      "Evaluating:   0%|          | 0/38 [00:00<?, ?it/s]"
     ]
    },
    {
     "name": "stdout",
     "output_type": "stream",
     "text": [
      "Running Change same name in both questions\n",
      "Predicting 297 examples\n"
     ]
    },
    {
     "name": "stderr",
     "output_type": "stream",
     "text": [
      "Evaluating: 100%|██████████| 38/38 [00:03<00:00, 10.14it/s]\n"
     ]
    },
    {
     "name": "stdout",
     "output_type": "stream",
     "text": [
      "Running Change same location in both questions\n",
      "Predicting 710 examples\n"
     ]
    },
    {
     "name": "stderr",
     "output_type": "stream",
     "text": [
      "Evaluating: 100%|██████████| 89/89 [00:08<00:00,  9.94it/s]\n"
     ]
    },
    {
     "name": "stdout",
     "output_type": "stream",
     "text": [
      "Running Change same number in both questions\n",
      "Predicting 775 examples\n"
     ]
    },
    {
     "name": "stderr",
     "output_type": "stream",
     "text": [
      "Evaluating: 100%|██████████| 97/97 [00:09<00:00,  9.93it/s]\n"
     ]
    },
    {
     "name": "stdout",
     "output_type": "stream",
     "text": [
      "Running Change first name in one of the questions\n",
      "Predicting 836 examples\n"
     ]
    },
    {
     "name": "stderr",
     "output_type": "stream",
     "text": [
      "Evaluating: 100%|██████████| 105/105 [00:10<00:00,  9.96it/s]\n"
     ]
    },
    {
     "name": "stdout",
     "output_type": "stream",
     "text": [
      "Running Change first and last name in one of the questions\n",
      "Predicting 796 examples\n"
     ]
    },
    {
     "name": "stderr",
     "output_type": "stream",
     "text": [
      "Evaluating: 100%|██████████| 100/100 [00:10<00:00,  9.96it/s]\n"
     ]
    },
    {
     "name": "stdout",
     "output_type": "stream",
     "text": [
      "Running Change location in one of the questions\n",
      "Predicting 1464 examples\n"
     ]
    },
    {
     "name": "stderr",
     "output_type": "stream",
     "text": [
      "Evaluating: 100%|██████████| 183/183 [00:18<00:00,  9.91it/s]\n"
     ]
    },
    {
     "name": "stdout",
     "output_type": "stream",
     "text": [
      "Running Change numbers in one of the questions\n",
      "Predicting 1856 examples\n"
     ]
    },
    {
     "name": "stderr",
     "output_type": "stream",
     "text": [
      "Evaluating: 100%|██████████| 232/232 [00:23<00:00,  9.91it/s]\n"
     ]
    },
    {
     "name": "stdout",
     "output_type": "stream",
     "text": [
      "Running Keep entitites, fill in with gibberish\n",
      "Predicting 4715 examples\n"
     ]
    },
    {
     "name": "stderr",
     "output_type": "stream",
     "text": [
      "Evaluating: 100%|██████████| 590/590 [00:59<00:00,  9.93it/s]\n",
      "Evaluating:   0%|          | 0/63 [00:00<?, ?it/s]"
     ]
    },
    {
     "name": "stdout",
     "output_type": "stream",
     "text": [
      "Running Is person X != Did person use to be X\n",
      "Predicting 500 examples\n"
     ]
    },
    {
     "name": "stderr",
     "output_type": "stream",
     "text": [
      "Evaluating: 100%|██████████| 63/63 [00:06<00:00,  9.98it/s]\n",
      "Evaluating:   0%|          | 0/63 [00:00<?, ?it/s]"
     ]
    },
    {
     "name": "stdout",
     "output_type": "stream",
     "text": [
      "Running Is person X != Is person becoming X\n",
      "Predicting 500 examples\n"
     ]
    },
    {
     "name": "stderr",
     "output_type": "stream",
     "text": [
      "Evaluating: 100%|██████████| 63/63 [00:06<00:00,  9.99it/s]\n",
      "Evaluating:   0%|          | 0/63 [00:00<?, ?it/s]"
     ]
    },
    {
     "name": "stdout",
     "output_type": "stream",
     "text": [
      "Running What was person's life before becoming X != What was person's life after becoming X\n",
      "Predicting 500 examples\n"
     ]
    },
    {
     "name": "stderr",
     "output_type": "stream",
     "text": [
      "Evaluating: 100%|██████████| 63/63 [00:06<00:00,  9.98it/s]\n",
      "Evaluating:   0%|          | 0/63 [00:00<?, ?it/s]"
     ]
    },
    {
     "name": "stdout",
     "output_type": "stream",
     "text": [
      "Running Do you have to X your dog before Y it != Do you have to X your dog after Y it.\n",
      "Predicting 500 examples\n"
     ]
    },
    {
     "name": "stderr",
     "output_type": "stream",
     "text": [
      "Evaluating: 100%|██████████| 63/63 [00:06<00:00,  9.97it/s]\n",
      "Evaluating:   0%|          | 0/63 [00:00<?, ?it/s]"
     ]
    },
    {
     "name": "stdout",
     "output_type": "stream",
     "text": [
      "Running Is it {ok, dangerous, ...} to {smoke, rest, ...} after != before\n",
      "Predicting 500 examples\n"
     ]
    },
    {
     "name": "stderr",
     "output_type": "stream",
     "text": [
      "Evaluating: 100%|██████████| 63/63 [00:06<00:00,  9.98it/s]\n",
      "Evaluating:   0%|          | 0/63 [00:00<?, ?it/s]"
     ]
    },
    {
     "name": "stdout",
     "output_type": "stream",
     "text": [
      "Running Is it {ok, dangerous, ...} to {smoke, rest, ...} in country != Is it {ok, dangerous, ...} not to {smoke, rest, ...} in country\n",
      "Predicting 500 examples\n"
     ]
    },
    {
     "name": "stderr",
     "output_type": "stream",
     "text": [
      "Evaluating: 100%|██████████| 63/63 [00:06<00:00,  9.98it/s]\n",
      "Evaluating:   0%|          | 0/63 [00:00<?, ?it/s]"
     ]
    },
    {
     "name": "stdout",
     "output_type": "stream",
     "text": [
      "Running What are things a {noun} should worry about != should not worry about.\n",
      "Predicting 500 examples\n"
     ]
    },
    {
     "name": "stderr",
     "output_type": "stream",
     "text": [
      "Evaluating: 100%|██████████| 63/63 [00:06<00:00,  9.97it/s]\n",
      "Evaluating:   0%|          | 0/63 [00:00<?, ?it/s]"
     ]
    },
    {
     "name": "stdout",
     "output_type": "stream",
     "text": [
      "Running How can I become a X person == How can I become a person who is not antonym(X)\n",
      "Predicting 500 examples\n"
     ]
    },
    {
     "name": "stderr",
     "output_type": "stream",
     "text": [
      "Evaluating: 100%|██████████| 63/63 [00:06<00:00,  9.98it/s]\n",
      "Evaluating:   0%|          | 0/63 [00:00<?, ?it/s]"
     ]
    },
    {
     "name": "stdout",
     "output_type": "stream",
     "text": [
      "Running Simple coref: he and she\n",
      "Predicting 500 examples\n"
     ]
    },
    {
     "name": "stderr",
     "output_type": "stream",
     "text": [
      "Evaluating: 100%|██████████| 63/63 [00:06<00:00,  9.98it/s]\n"
     ]
    },
    {
     "name": "stdout",
     "output_type": "stream",
     "text": [
      "Running Simple coref: his and her\n",
      "Predicting 500 examples\n"
     ]
    },
    {
     "name": "stderr",
     "output_type": "stream",
     "text": [
      "Evaluating: 100%|██████████| 63/63 [00:06<00:00,  9.98it/s]\n",
      "Evaluating:   0%|          | 0/63 [00:00<?, ?it/s]"
     ]
    },
    {
     "name": "stdout",
     "output_type": "stream",
     "text": [
      "Running Who do X think - Who is the ... according to X\n",
      "Predicting 500 examples\n"
     ]
    },
    {
     "name": "stderr",
     "output_type": "stream",
     "text": [
      "Evaluating: 100%|██████████| 63/63 [00:06<00:00,  9.97it/s]\n"
     ]
    },
    {
     "name": "stdout",
     "output_type": "stream",
     "text": [
      "Running Order does not matter for comparison\n",
      "Predicting 1500 examples\n"
     ]
    },
    {
     "name": "stderr",
     "output_type": "stream",
     "text": [
      "Evaluating: 100%|██████████| 188/188 [00:18<00:00,  9.93it/s]\n",
      "Evaluating:   0%|          | 0/63 [00:00<?, ?it/s]"
     ]
    },
    {
     "name": "stdout",
     "output_type": "stream",
     "text": [
      "Running Order does not matter for symmetric relations\n",
      "Predicting 500 examples\n"
     ]
    },
    {
     "name": "stderr",
     "output_type": "stream",
     "text": [
      "Evaluating: 100%|██████████| 63/63 [00:06<00:00,  9.98it/s]\n",
      "Evaluating:   0%|          | 0/63 [00:00<?, ?it/s]"
     ]
    },
    {
     "name": "stdout",
     "output_type": "stream",
     "text": [
      "Running Order does matter for asymmetric relations\n",
      "Predicting 500 examples\n"
     ]
    },
    {
     "name": "stderr",
     "output_type": "stream",
     "text": [
      "Evaluating: 100%|██████████| 63/63 [00:06<00:00,  9.98it/s]\n",
      "Evaluating:   0%|          | 0/63 [00:00<?, ?it/s]"
     ]
    },
    {
     "name": "stdout",
     "output_type": "stream",
     "text": [
      "Running traditional SRL: active / passive swap\n",
      "Predicting 500 examples\n"
     ]
    },
    {
     "name": "stderr",
     "output_type": "stream",
     "text": [
      "Evaluating: 100%|██████████| 63/63 [00:06<00:00,  9.98it/s]\n",
      "Evaluating:   0%|          | 0/63 [00:00<?, ?it/s]"
     ]
    },
    {
     "name": "stdout",
     "output_type": "stream",
     "text": [
      "Running traditional SRL: wrong active / passive swap\n",
      "Predicting 500 examples\n"
     ]
    },
    {
     "name": "stderr",
     "output_type": "stream",
     "text": [
      "Evaluating: 100%|██████████| 63/63 [00:06<00:00,  9.98it/s]\n",
      "Evaluating:   0%|          | 0/63 [00:00<?, ?it/s]"
     ]
    },
    {
     "name": "stdout",
     "output_type": "stream",
     "text": [
      "Running traditional SRL: active / passive swap with people\n",
      "Predicting 500 examples\n"
     ]
    },
    {
     "name": "stderr",
     "output_type": "stream",
     "text": [
      "Evaluating: 100%|██████████| 63/63 [00:06<00:00,  9.98it/s]\n",
      "Evaluating:   0%|          | 0/63 [00:00<?, ?it/s]"
     ]
    },
    {
     "name": "stdout",
     "output_type": "stream",
     "text": [
      "Running traditional SRL: wrong active / passive swap with people\n",
      "Predicting 500 examples\n"
     ]
    },
    {
     "name": "stderr",
     "output_type": "stream",
     "text": [
      "Evaluating: 100%|██████████| 63/63 [00:06<00:00,  9.97it/s]\n",
      "Evaluating:   0%|          | 0/63 [00:00<?, ?it/s]"
     ]
    },
    {
     "name": "stdout",
     "output_type": "stream",
     "text": [
      "Running A or B is not the same as C and D\n",
      "Predicting 500 examples\n"
     ]
    },
    {
     "name": "stderr",
     "output_type": "stream",
     "text": [
      "Evaluating: 100%|██████████| 63/63 [00:06<00:00,  9.97it/s]\n",
      "Evaluating:   0%|          | 0/63 [00:00<?, ?it/s]"
     ]
    },
    {
     "name": "stdout",
     "output_type": "stream",
     "text": [
      "Running A or B is not the same as A and B\n",
      "Predicting 500 examples\n"
     ]
    },
    {
     "name": "stderr",
     "output_type": "stream",
     "text": [
      "Evaluating: 100%|██████████| 63/63 [00:06<00:00,  9.97it/s]\n",
      "Evaluating:   0%|          | 0/63 [00:00<?, ?it/s]"
     ]
    },
    {
     "name": "stdout",
     "output_type": "stream",
     "text": [
      "Running A and / or B is the same as B and / or A\n",
      "Predicting 500 examples\n"
     ]
    },
    {
     "name": "stderr",
     "output_type": "stream",
     "text": [
      "Evaluating: 100%|██████████| 63/63 [00:06<00:00,  9.97it/s]\n",
      "Evaluating:   0%|          | 0/63 [00:00<?, ?it/s]"
     ]
    },
    {
     "name": "stdout",
     "output_type": "stream",
     "text": [
      "Running a {nationality} {profession} = a {profession} and {nationality}\n",
      "Predicting 500 examples\n"
     ]
    },
    {
     "name": "stderr",
     "output_type": "stream",
     "text": [
      "Evaluating: 100%|██████████| 63/63 [00:06<00:00,  9.98it/s]\n",
      "Evaluating:   0%|          | 0/63 [00:00<?, ?it/s]"
     ]
    },
    {
     "name": "stdout",
     "output_type": "stream",
     "text": [
      "Running Reflexivity: (q, q) should be duplicate\n",
      "Predicting 500 examples\n"
     ]
    },
    {
     "name": "stderr",
     "output_type": "stream",
     "text": [
      "Evaluating: 100%|██████████| 63/63 [00:06<00:00,  9.97it/s]\n"
     ]
    },
    {
     "name": "stdout",
     "output_type": "stream",
     "text": [
      "Running Symmetry: f(a, b) = f(b, a)\n",
      "Predicting 1000 examples\n"
     ]
    },
    {
     "name": "stderr",
     "output_type": "stream",
     "text": [
      "Evaluating: 100%|██████████| 125/125 [00:12<00:00,  9.91it/s]\n",
      "Evaluating:   0%|          | 0/20 [00:00<?, ?it/s]"
     ]
    },
    {
     "name": "stdout",
     "output_type": "stream",
     "text": [
      "Running Testing implications\n",
      "Predicting 156 examples\n"
     ]
    },
    {
     "name": "stderr",
     "output_type": "stream",
     "text": [
      "Evaluating: 100%|██████████| 20/20 [00:01<00:00, 10.13it/s]\n"
     ]
    }
   ],
   "source": [
    "suite.run(new_pp, n=500, overwrite=True)"
   ]
  },
  {
   "cell_type": "code",
   "execution_count": 136,
   "metadata": {},
   "outputs": [],
   "source": [
    "suite.save('/tmp/bert')"
   ]
  },
  {
   "cell_type": "code",
   "execution_count": 137,
   "metadata": {
    "scrolled": true
   },
   "outputs": [
    {
     "name": "stdout",
     "output_type": "stream",
     "text": [
      "Vocabulary\n",
      "\n",
      "Modifier: adj\n",
      "Test cases:      999\n",
      "Test cases run:  500\n",
      "Fails (rate):    393 (78.6%)\n",
      "\n",
      "Example fails:\n",
      "0.9 ('Is Natalie Price a photographer?', 'Is Natalie Price an outstanding photographer?')\n",
      "----\n",
      "0.8 ('Is Victoria Ross an engineer?', 'Is Victoria Ross a honest engineer?')\n",
      "----\n",
      "1.0 ('Is Brittany White an investor?', 'Is Brittany White an exceptional investor?')\n",
      "----\n",
      "\n",
      "\n",
      "different adjectives\n",
      "Test cases:      954\n",
      "Test cases run:  500\n",
      "Fails (rate):    5 (1.0%)\n",
      "\n",
      "Example fails:\n",
      "0.9 ('Is Zachary Phillips Jewish?', 'Is Zachary Phillips an immigrant?')\n",
      "----\n",
      "0.9 ('Is Ashley Ramirez American?', 'Is Ashley Ramirez Indian?')\n",
      "----\n",
      "0.6 ('Is Steven Hall American?', 'Is Steven Hall Jewish?')\n",
      "----\n",
      "\n",
      "\n",
      "same adjectives, different people\n",
      "Test cases:      974\n",
      "Test cases run:  500\n",
      "Fails (rate):    31 (6.2%)\n",
      "\n",
      "Example fails:\n",
      "1.0 ('Is Daniel Cooper mad?', 'Is Samuel Johnson mad?')\n",
      "----\n",
      "1.0 ('Is Christina Gray white?', 'Is Isabella Johnson white?')\n",
      "----\n",
      "0.8 ('Is Lisa Williams racist?', 'Is Alyssa Miller racist?')\n",
      "----\n",
      "\n",
      "\n",
      "same adjectives, different people v2\n",
      "Test cases:      989\n",
      "Test cases run:  500\n",
      "Fails (rate):    46 (9.2%)\n",
      "\n",
      "Example fails:\n",
      "0.9 ('Is Justin Davis immortal?', 'Is Brandon Davis immortal?')\n",
      "----\n",
      "0.9 ('Is Anna Smith evil?', 'Is Sophia Smith evil?')\n",
      "----\n",
      "1.0 ('Is Joseph Campbell Christian?', 'Is Samuel Campbell Christian?')\n",
      "----\n",
      "\n",
      "\n",
      "same adjectives, different people v3\n",
      "Test cases:      995\n",
      "Test cases run:  500\n",
      "Fails (rate):    35 (7.0%)\n",
      "\n",
      "Example fails:\n",
      "1.0 ('Is Dylan Perry Muslim?', 'Is Dylan Morgan Muslim?')\n",
      "----\n",
      "0.8 ('Is Erin Thompson Christian?', 'Is Erin Carter Christian?')\n",
      "----\n",
      "0.9 ('Is Isabella Lewis white?', 'Is Isabella Howard white?')\n",
      "----\n",
      "\n",
      "\n",
      "Different animals\n",
      "Test cases:      942\n",
      "Test cases run:  500\n",
      "Fails (rate):    32 (6.4%)\n",
      "\n",
      "Example fails:\n",
      "0.8 ('Can I feed my snail sugar?', 'Can I feed my lobster sugar?')\n",
      "----\n",
      "0.8 ('Can I feed my cat butter?', 'Can I feed my dog butter?')\n",
      "----\n",
      "0.6 ('Can I feed my pig butter?', 'Can I feed my chicken butter?')\n",
      "----\n",
      "\n",
      "\n",
      "Irrelevant modifiers - animals\n",
      "Test cases:      1000\n",
      "Test cases run:  500\n",
      "Fails (rate):    0 (0.0%)\n",
      "\n",
      "\n",
      "Irrelevant modifiers - people\n",
      "Test cases:      987\n",
      "Test cases run:  500\n",
      "Fails (rate):    0 (0.0%)\n",
      "\n",
      "\n",
      "Irrelevant preamble with different examples.\n",
      "Test cases:      951\n",
      "Test cases run:  500\n",
      "Fails (rate):    496 (99.2%)\n",
      "\n",
      "Example fails:\n",
      "0.2 ('My pet snake eats seeds. Is it normal for animals to eat seeds?', 'My pet turtle eats seeds. Is it normal for animals to eat seeds?')\n",
      "----\n",
      "0.0 ('My pet pig eats poop. Is it normal for animals to eat poop?', 'My pet spider eats poop. Is it normal for animals to eat poop?')\n",
      "----\n",
      "0.0 ('My pet turtle eats salad. Is it normal for animals to eat salad?', 'My pet rabbit eats salad. Is it normal for animals to eat salad?')\n",
      "----\n",
      "\n",
      "\n",
      "Preamble is relevant (different injuries)\n",
      "Test cases:      975\n",
      "Test cases run:  500\n",
      "Fails (rate):    147 (29.4%)\n",
      "\n",
      "Example fails:\n",
      "0.7 ('I hurt my arm last time I played soccer. Is this going to impact my performance?', 'I hurt my bone last time I played soccer. Is this going to impact my performance?')\n",
      "----\n",
      "0.8 ('I hurt my face last time I played football. Is this going to impact my performance?', 'I hurt my foot last time I played football. Is this going to impact my performance?')\n",
      "----\n",
      "1.0 ('I hurt my elbow last time I played soccer. Is this going to impact my performance?', 'I hurt my arm last time I played soccer. Is this going to impact my performance?')\n",
      "----\n",
      "\n",
      "\n",
      "\n",
      "\n",
      "Taxonomy\n",
      "\n",
      "How can I become more {synonym}?\n",
      "Test cases:      6000\n",
      "Test cases run:  500\n",
      "Fails (rate):    126 (25.2%)\n",
      "\n",
      "Example fails:\n",
      "0.0 ('How can I become more outspoken?', 'How can I become more vocal?')\n",
      "----\n",
      "0.1 ('How can I become a spiritual person?', 'How can I become a religious person?')\n",
      "----\n",
      "0.1 ('How can I become less outspoken?', 'How can I become less vocal?')\n",
      "----\n",
      "\n",
      "\n",
      "\n",
      "\n",
      "Robustness\n",
      "\n",
      "add one typo\n",
      "Test cases:      500\n",
      "Fails (rate):    98 (19.6%)\n",
      "\n",
      "Example fails:\n",
      "0.0 ('What is the scope of interior designing in India?', 'What are the scopes in interior designing for a civil engineer in India?')\n",
      "1.0 ('What is the scope of interior designing in India?', 'What are the scopes in interior desiginng for a civil engineer in India?')\n",
      "\n",
      "----\n",
      "0.9 ('How do I balance my chakras?', 'How do you balance chakras?')\n",
      "0.0 ('How do I balance m ychakras?', 'How do you balance chakras?')\n",
      "\n",
      "----\n",
      "1.0 ('Which are the best TV series that you have ever watched and why?', 'What are the best TV series you ever watched and why?')\n",
      "0.0 ('Which are the bestT V series that you have ever watched and why?', 'What are the best TV series you ever watched and why?')\n",
      "\n",
      "----\n",
      "\n",
      "\n",
      "contrations\n",
      "Test cases:      500\n",
      "Fails (rate):    11 (2.2%)\n",
      "\n",
      "Example fails:\n",
      "0.9 ('What caused the explosive hype with Jake Williams questions?', 'Why is Jake Williams all over my feed?')\n",
      "0.4 ('What caused the explosive hype with Jake Williams questions?', \"Why's Jake Williams all over my feed?\")\n",
      "\n",
      "----\n",
      "0.3 (\"How do you handle being in love with someone who doesn't feel the same?\", 'How does it feel to express love to someone who does not reciprocate with love?')\n",
      "0.9 ('How do you handle being in love with someone who does not feel the same?', \"How does it feel to express love to someone who doesn't reciprocate with love?\")\n",
      "0.8 ('How do you handle being in love with someone who does not feel the same?', 'How does it feel to express love to someone who does not reciprocate with love?')\n",
      "\n",
      "----\n",
      "0.8 ('What are some good metaphors?', 'What are good metaphors in English?')\n",
      "0.4 ('What are some good metaphors?', \"What're good metaphors in English?\")\n",
      "\n",
      "----\n",
      "\n",
      "\n",
      "(q, paraphrase(q))\n",
      "Test cases:      200\n",
      "Fails (rate):    109 (54.5%)\n",
      "\n",
      "Example fails:\n",
      "0.7 ('Can you change my name on Facebook?', 'Can you change my name on Facebook?')\n",
      "0.1 ('Do you think I can change my name on Facebook?', 'Can you change your name on Facebook?')\n",
      "0.1 ('Do you think I can change my name on Facebook?', 'Can you change your name on Facebook?')\n",
      "\n",
      "----\n",
      "1.0 ('How do I deal with infidelity in a relationship?', 'How do I deal with infidelity in a relationship?')\n",
      "0.3 ('In order to deal with infidelity in a relationship, what should you do?', 'In order to deal with infidelity in a relationship, what should I do?')\n",
      "0.3 ('In order to deal with infidelity in a relationship, what should I do?', 'In order to deal with infidelity in a relationship, what should you do?')\n",
      "\n",
      "----\n",
      "1.0 ('Can you do oral sex to my girlfriend during her period?', 'Can you do oral sex to my girlfriend during her period?')\n",
      "0.2 ('Do you think I can do oral sex to my girlfriend during her period?', 'Can you do oral sex to my girlfriend during her period?')\n",
      "0.3 ('Do you think I can do oral sex to my girlfriend during her period?', 'Can you do oral sex to your girlfriend during her period?')\n",
      "\n",
      "----\n",
      "\n",
      "\n",
      "Product of paraphrases(q1) * paraphrases(q2)\n",
      "Test cases:      100\n",
      "Fails (rate):    38 (38.0%)\n",
      "\n",
      "Example fails:\n",
      "1.0 ('How do I add all topics in Quora?', 'How can I add more than one topic to a question on Quora?')\n",
      "0.0 ('What is a good way to add all topics in Quora?', 'In order to add more than one topic to a question on Quora, what should you do?')\n",
      "0.0 ('What is a good way to add all topics in Quora?', 'In order to add more than one topic to a question on Quora, what should you do?')\n",
      "\n",
      "----\n",
      "1.0 ('How do I become more unselfish?', 'How do I become unselfish?')\n",
      "0.3 ('If you want to become more unselfish, what should you do?', 'How can you become unselfish?')\n",
      "0.4 ('If you want to become more unselfish, what should you do?', 'How do you become unselfish?')\n",
      "\n",
      "----\n",
      "1.0 ('How do I improve my speaking?', 'How can I get better with public speaking?')\n",
      "0.0 ('What is a good way to improve your speaking?', 'If I want to get better with public speaking, what should I do?')\n",
      "0.1 ('What is a good way to improve my speaking?', 'If I want to get better with public speaking, what should I do?')\n",
      "\n",
      "----\n",
      "\n",
      "\n",
      "\n",
      "\n",
      "NER\n",
      "\n",
      "Change same name in both questions\n",
      "Test cases:      500\n",
      "Fails (rate):    70 (14.0%)\n",
      "\n",
      "Example fails:\n",
      "0.1 ('How is Donald Trump winning?', 'Why Donald Trump is winning the Republican nomination now?')\n",
      "0.9 ('How is Matthew Jones winning?', 'Why Matthew Jones is winning the Republican nomination now?')\n",
      "0.9 ('How is Joshua Garcia winning?', 'Why Joshua Garcia is winning the Republican nomination now?')\n",
      "\n",
      "----\n",
      "1.0 ('Are there any tributes for Carrie Fisher Quorans would like to add?', 'What would be a fitting tribute for Carrie Fisher?')\n",
      "0.1 ('Are there any tributes for Nicole Martinez Quorans would like to add?', 'What would be a fitting tribute for Nicole Martinez?')\n",
      "0.2 ('Are there any tributes for Jessica Watson Quorans would like to add?', 'What would be a fitting tribute for Jessica Watson?')\n",
      "\n",
      "----\n",
      "1.0 ('How will Donald Trump benefit India?', 'What Can happen to India if Donald Trump becomes president?')\n",
      "0.0 ('How will John Morales benefit India?', 'What Can happen to India if John Morales becomes president?')\n",
      "0.0 ('How will Joseph Ward benefit India?', 'What Can happen to India if Joseph Ward becomes president?')\n",
      "\n",
      "----\n",
      "\n",
      "\n",
      "Change same location in both questions\n",
      "Test cases:      500\n",
      "Fails (rate):    46 (9.2%)\n",
      "\n",
      "Example fails:\n",
      "0.4 ('What makes you happy about India?', 'What makes everyone happy about India?')\n",
      "1.0 ('What makes you happy about Slovak Republic?', 'What makes everyone happy about Slovak Republic?')\n",
      "0.9 ('What makes you happy about Netherlands?', 'What makes everyone happy about Netherlands?')\n",
      "\n",
      "----\n",
      "0.2 ('How is it to live in Austria?', 'What are the pros and cons of living in Austria?')\n",
      "0.5 ('How is it to live in North Macedonia?', 'What are the pros and cons of living in North Macedonia?')\n",
      "\n",
      "----\n",
      "0.1 ('Who is the most popular cleaning service in Australia?', 'Which is the best cleaning service company in Australia?')\n",
      "0.9 ('Who is the most popular cleaning service in Tuvalu?', 'Which is the best cleaning service company in Tuvalu?')\n",
      "0.5 ('Who is the most popular cleaning service in Northern Mariana Islands?', 'Which is the best cleaning service company in Northern Mariana Islands?')\n",
      "\n",
      "----\n",
      "\n",
      "\n",
      "Change same number in both questions\n",
      "Test cases:      500\n",
      "Fails (rate):    28 (5.6%)\n",
      "\n",
      "Example fails:\n",
      "0.0 ('What would you like to achieve in 5 years from now?', 'Only you know the world is about to explode in 5 years, what would you do?')\n",
      "0.9 ('What would you like to achieve in 3 years from now?', 'Only you know the world is about to explode in 3 years, what would you do?')\n",
      "0.9 ('What would you like to achieve in 3 years from now?', 'Only you know the world is about to explode in 3 years, what would you do?')\n",
      "\n",
      "----\n",
      "0.5 ('Has anyone got pregnant 7 days before period?', 'Can I get pregnant 7 days before period is due?')\n",
      "0.2 ('Has anyone got pregnant 5 days before period?', 'Can I get pregnant 5 days before period is due?')\n",
      "0.2 ('Has anyone got pregnant 5 days before period?', 'Can I get pregnant 5 days before period is due?')\n",
      "\n",
      "----\n",
      "0.3 ('How will you explain the 2008 financial crisis to a teenager?', 'Can you explain the 2008 financial crisis in simple terms? What caused it and how is it still affecting countries?')\n",
      "1.0 ('How will you explain the 1718 financial crisis to a teenager?', 'Can you explain the 1718 financial crisis in simple terms? What caused it and how is it still affecting countries?')\n",
      "0.9 ('How will you explain the 1803 financial crisis to a teenager?', 'Can you explain the 1803 financial crisis in simple terms? What caused it and how is it still affecting countries?')\n",
      "\n",
      "----\n",
      "\n",
      "\n",
      "Change first name in one of the questions\n",
      "Test cases:      500\n",
      "After filtering: 285 (57.0%)\n",
      "Fails (rate):    239 (83.9%)\n",
      "\n",
      "Example fails:\n",
      "1.0 ('Why should I vote for Hillary Clinton?', \"Why should I vote for Hillary instead of why I shouldn't vote for Trump?\")\n",
      "1.0 ('Why should I vote for Lindsey Clinton?', \"Why should I vote for Hillary instead of why I shouldn't vote for Trump?\")\n",
      "1.0 ('Why should I vote for Brooke Clinton?', \"Why should I vote for Hillary instead of why I shouldn't vote for Trump?\")\n",
      "\n",
      "----\n",
      "1.0 ('Can Donald Trump still win the 2016 U.S. Presidential Election?', 'Can Donald Trump win?')\n",
      "1.0 ('Can Donald Trump still win the 2016 U.S. Presidential Election?', 'Can Evan Trump win?')\n",
      "1.0 ('Can Donald Trump still win the 2016 U.S. Presidential Election?', 'Can Isaac Trump win?')\n",
      "\n",
      "----\n",
      "1.0 ('What are the chances that Gary Johnson will participate in the 2016 Presidential Debates?', 'Should Gary Johnson be allowed in the Presidential debates?')\n",
      "1.0 ('What are the chances that Gary Johnson will participate in the 2016 Presidential Debates?', 'Should Brandon Johnson be allowed in the Presidential debates?')\n",
      "1.0 ('What are the chances that Gary Johnson will participate in the 2016 Presidential Debates?', 'Should Lucas Johnson be allowed in the Presidential debates?')\n",
      "\n",
      "----\n",
      "\n",
      "\n",
      "Change first and last name in one of the questions\n",
      "Test cases:      682\n",
      "Test cases run:  500\n",
      "After filtering: 266 (53.2%)\n",
      "Fails (rate):    106 (39.8%)\n",
      "\n",
      "Example fails:\n",
      "1.0 (\"What are the reader's views on Harry Potter and The Cursed Child?\", '\"How is the new Harry Potter book \"\"Harry Potter and the Cursed Child\"\"?\"')\n",
      "1.0 (\"What are the reader's views on Harry Potter and The Cursed Child?\", '\"How is the new Matthew Jones book \"\"Matthew Jones and the Cursed Child\"\"?\"')\n",
      "1.0 (\"What are the reader's views on Harry Potter and The Cursed Child?\", '\"How is the new Daniel Nelson book \"\"Daniel Nelson and the Cursed Child\"\"?\"')\n",
      "\n",
      "----\n",
      "1.0 ('Why did Hillary Clinton think it was necessary to use a private server to conduct her personal and government communications?', 'Why did Hillary Clinton use a private server in the first place?')\n",
      "1.0 ('Why did Hillary Clinton think it was necessary to use a private server to conduct her personal and government communications?', 'Why did Emily Powell use a private server in the first place?')\n",
      "0.9 ('Why did Emily Powell think it was necessary to use a private server to conduct her personal and government communications?', 'Why did Hillary Clinton use a private server in the first place?')\n",
      "\n",
      "----\n",
      "0.9 ('Should I vote for Donald Trump or Hillary Clinton?', 'Do you support Donald Trump or Hillary Clinton? Why?')\n",
      "0.8 ('Should I vote for Donald Trump or Hillary Clinton?', 'Do you support Joshua Parker or Hillary Clinton? Why?')\n",
      "\n",
      "----\n",
      "\n",
      "\n",
      "Change location in one of the questions\n",
      "Test cases:      1386\n",
      "Test cases run:  500\n",
      "After filtering: 256 (51.2%)\n",
      "Fails (rate):    45 (17.6%)\n",
      "\n",
      "Example fails:\n",
      "1.0 ('Why should India consider to review Indus Water treaty?', 'Do you think India should revisit Indus Water Treaty with Pakistan?')\n",
      "0.9 ('Why should India consider to review Indus Water treaty?', 'Do you think Macao SAR should revisit Indus Water Treaty with Pakistan?')\n",
      "0.8 ('Why should Oman consider to review Indus Water treaty?', 'Do you think India should revisit Indus Water Treaty with Pakistan?')\n",
      "\n",
      "----\n",
      "1.0 ('Why does Bangladesh public support Pakistan in a cricket match against India?', 'Why does Bangladeshis always support Pakistan against India?')\n",
      "1.0 ('Why does Bangladesh public support Pakistan in a cricket match against India?', 'Why does Bangladeshis always support Guam against India?')\n",
      "0.9 ('Why does Bangladesh public support Pakistan in a cricket match against India?', 'Why does Bangladeshis always support Pakistan against Eswatini?')\n",
      "\n",
      "----\n",
      "1.0 ('What are chances of another war between India and Pakistan?', 'How does our economy effect if war happens between India and Pakistan?')\n",
      "1.0 ('What are chances of another war between India and Pakistan?', 'How does our economy effect if war happens between India and Bangladesh?')\n",
      "1.0 ('What are chances of another war between India and Bangladesh?', 'How does our economy effect if war happens between India and Pakistan?')\n",
      "\n",
      "----\n",
      "\n",
      "\n",
      "Change numbers in one of the questions\n",
      "Test cases:      1500\n",
      "Test cases run:  500\n",
      "After filtering: 300 (60.0%)\n",
      "Fails (rate):    222 (74.0%)\n",
      "\n",
      "Example fails:\n",
      "1.0 ('How will scraping of 500 and 1000 rupees notes help in curbing corruption and black money?', 'How banning 500 and 1000 rupee can affect black money?')\n",
      "1.0 ('How will scraping of 500 and 1000 rupees notes help in curbing corruption and black money?', 'How banning 500 and 1005 rupee can affect black money?')\n",
      "1.0 ('How will scraping of 500 and 1005 rupees notes help in curbing corruption and black money?', 'How banning 500 and 1000 rupee can affect black money?')\n",
      "\n",
      "----\n",
      "1.0 ('What will be the result of banning 500 and 1000 rupees note in India?', 'Why Indian government abruptly announced the demonetization of 500 and 1000 rupees currency?')\n",
      "1.0 ('What will be the result of banning 500 and 1000 rupees note in India?', 'Why Indian government abruptly announced the demonetization of 500 and 801 rupees currency?')\n",
      "1.0 ('What will be the result of banning 500 and 1000 rupees note in India?', 'Why Indian government abruptly announced the demonetization of 558 and 1000 rupees currency?')\n",
      "\n",
      "----\n",
      "1.0 (\"How will Narendra Modi's recent ban on Rs 500 and Rs 1000 notes will affect the share market?\", 'What will be the affect of banning Rs. 500 & 1000 notes on share market tomorrow?')\n",
      "1.0 (\"How will Narendra Modi's recent ban on Rs 500 and Rs 1005 notes will affect the share market?\", 'What will be the affect of banning Rs. 500 & 1000 notes on share market tomorrow?')\n",
      "1.0 (\"How will Narendra Modi's recent ban on Rs 500 and Rs 1199 notes will affect the share market?\", 'What will be the affect of banning Rs. 500 & 1000 notes on share market tomorrow?')\n",
      "\n",
      "----\n",
      "\n",
      "\n",
      "Keep entitites, fill in with gibberish\n",
      "Test cases:      500\n",
      "Fails (rate):    149 (29.8%)\n",
      "\n",
      "Example fails:\n",
      "0.0 ('How do I come up with Android App ideas?', 'What might have been the natural evolution of Africa has not been colonized?')\n",
      "0.9 ('How do I come up with Android App ideas?', 'How about Android App ideas?')\n",
      "0.9 ('How do I come up with Android App ideas?', 'How do Android App ideas?')\n",
      "\n",
      "----\n",
      "1.0 ('What role did the United States play in the Vietnam War?', 'What was the role of USA in Vietnam war?')\n",
      "0.5 ('What was the role of USA in Vietnam war?', 'What brought USA to Vietnam?')\n",
      "\n",
      "----\n",
      "0.0 ('Why does the Amazon Instant Video app for iPhone only work on Wi-Fi?', 'How can you use Amazon Instant Video on a Galaxy S4?')\n",
      "0.9 ('How can you use Amazon Instant Video on a Galaxy S4?', 'How Does Amazon Instant Video Help Galaxy S4?')\n",
      "0.8 ('Why does the Amazon Instant Video app for iPhone only work on Wi-Fi?', 'Why is the Amazon Instant Video on iPhone using Wi-Fi?')\n",
      "\n",
      "----\n",
      "\n",
      "\n",
      "\n",
      "\n",
      "Temporal\n",
      "\n",
      "Is person X != Did person use to be X\n",
      "Test cases:      999\n",
      "Test cases run:  500\n",
      "Fails (rate):    301 (60.2%)\n",
      "\n",
      "Example fails:\n",
      "0.8 ('Is Alexis Bennett an advisor?', 'Did Alexis Bennett use to be an advisor?')\n",
      "----\n",
      "1.0 ('Is Hannah Green an escort?', 'Did Hannah Green use to be an escort?')\n",
      "----\n",
      "0.5 ('Is Steven Garcia an engineer?', 'Did Steven Garcia use to be an engineer?')\n",
      "----\n",
      "\n",
      "\n",
      "Is person X != Is person becoming X\n",
      "Test cases:      1000\n",
      "Test cases run:  500\n",
      "Fails (rate):    81 (16.2%)\n",
      "\n",
      "Example fails:\n",
      "0.9 ('Is Mary Cook an investor?', 'Is Mary Cook becoming an investor?')\n",
      "----\n",
      "0.8 ('Is Danielle Evans an investor?', 'Is Danielle Evans becoming an investor?')\n",
      "----\n",
      "0.7 ('Is Mary Gonzalez an escort?', 'Is Mary Gonzalez becoming an escort?')\n",
      "----\n",
      "\n",
      "\n",
      "What was person's life before becoming X != What was person's life after becoming X\n",
      "Test cases:      1000\n",
      "Test cases run:  500\n",
      "Fails (rate):    500 (100.0%)\n",
      "\n",
      "Example fails:\n",
      "0.9 (\"What was Sean Cox's life before becoming an auditor?\", \"What was Sean Cox's life after becoming an auditor?\")\n",
      "----\n",
      "1.0 (\"What was Katherine Hill's life before becoming an agent?\", \"What was Katherine Hill's life after becoming an agent?\")\n",
      "----\n",
      "0.9 (\"What was Alexander Watson's life before becoming an assistant?\", \"What was Alexander Watson's life after becoming an assistant?\")\n",
      "----\n",
      "\n",
      "\n",
      "Do you have to X your dog before Y it != Do you have to X your dog after Y it.\n",
      "Test cases:      1000\n",
      "Test cases run:  500\n",
      "Fails (rate):    500 (100.0%)\n",
      "\n",
      "Example fails:\n",
      "1.0 ('Do you have to weigh your dog before letting it?', 'Do you have to weigh your dog after letting it?')\n",
      "----\n",
      "1.0 ('Do you have to wash your dog before bathing it?', 'Do you have to wash your dog after bathing it?')\n",
      "----\n",
      "1.0 ('Do you have to weigh your hamster before owning it?', 'Do you have to weigh your hamster after owning it?')\n",
      "----\n",
      "\n",
      "\n",
      "Is it {ok, dangerous, ...} to {smoke, rest, ...} after != before\n",
      "Test cases:      1000\n",
      "Test cases run:  500\n",
      "Fails (rate):    487 (97.4%)\n",
      "\n",
      "Example fails:\n",
      "0.9 ('Is it acceptable to pray before 1pm?', 'Is it acceptable to pray after 1pm?')\n",
      "----\n",
      "1.0 ('Is it healthy to drink before 1am?', 'Is it healthy to drink after 1am?')\n",
      "----\n",
      "0.9 ('Is it ok to tweet before 1am?', 'Is it ok to tweet after 1am?')\n",
      "----\n",
      "\n",
      "\n",
      "\n",
      "\n",
      "Negation\n",
      "\n",
      "Is it {ok, dangerous, ...} to {smoke, rest, ...} in country != Is it {ok, dangerous, ...} not to {smoke, rest, ...} in country\n",
      "Test cases:      1000\n",
      "Test cases run:  500\n",
      "Fails (rate):    117 (23.4%)\n",
      "\n",
      "Example fails:\n",
      "1.0 ('Is it dangerous to be gay in Bosnia and Herzegovina?', 'Is it dangerous not to be gay in Bosnia and Herzegovina?')\n",
      "----\n",
      "0.9 ('Is it wrong to murder in Algeria?', 'Is it wrong not to murder in Algeria?')\n",
      "----\n",
      "0.5 ('Is it wrong to travel in China?', 'Is it wrong not to travel in China?')\n",
      "----\n",
      "\n",
      "\n",
      "What are things a {noun} should worry about != should not worry about.\n",
      "Test cases:      1000\n",
      "Test cases run:  500\n",
      "Fails (rate):    0 (0.0%)\n",
      "\n",
      "\n",
      "How can I become a X person == How can I become a person who is not antonym(X)\n",
      "Test cases:      2000\n",
      "Test cases run:  500\n",
      "Fails (rate):    106 (21.2%)\n",
      "\n",
      "Example fails:\n",
      "1.0 ('How can I become an invisible person?', 'How can I become a person who is not visible?')\n",
      "----\n",
      "0.5 ('How can I become a bad person?', 'How can I become a person who is not good?')\n",
      "----\n",
      "0.6 ('How can I become a secure person?', 'How can I become a person who is not insecure?')\n",
      "----\n",
      "\n",
      "\n",
      "\n",
      "\n",
      "Coref\n",
      "\n",
      "Simple coref: he and she\n",
      "Test cases:      2000\n",
      "Test cases run:  500\n",
      "Fails (rate):    403 (80.6%)\n",
      "\n",
      "Example fails:\n",
      "0.6 ('If Karen and Jackson were alone, do you think he would reject her?', 'If Karen and Jackson were alone, do you think she would reject him?')\n",
      "----\n",
      "0.7 ('If Amy and Kevin were alone, do you think he would reject her?', 'If Amy and Kevin were alone, do you think she would reject him?')\n",
      "----\n",
      "0.6 ('If Jonathan and Alyssa were alone, do you think he would reject her?', 'If Jonathan and Alyssa were alone, do you think she would reject him?')\n",
      "----\n",
      "\n",
      "\n",
      "Simple coref: his and her\n",
      "Test cases:      2000\n",
      "Test cases run:  500\n",
      "Fails (rate):    494 (98.8%)\n",
      "\n",
      "Example fails:\n",
      "0.6 ('If Mason and Grace were married, would her family be happy?', \"If Mason and Grace were married, would Mason's family be happy?\")\n",
      "----\n",
      "1.0 ('If John and Chelsea were married, would his family be happy?', \"If John and Chelsea were married, would Chelsea's family be happy?\")\n",
      "----\n",
      "1.0 ('If Dylan and Sarah were married, would his family be happy?', \"If Dylan and Sarah were married, would Sarah's family be happy?\")\n",
      "----\n",
      "\n",
      "\n",
      "\n",
      "\n",
      "SRL\n",
      "\n",
      "Who do X think - Who is the ... according to X\n",
      "Test cases:      1000\n",
      "Test cases run:  500\n",
      "Fails (rate):    65 (13.0%)\n",
      "\n",
      "Example fails:\n",
      "0.4 ('Who do Americans think is the greatest cyclist in the world?', 'Who is the greatest cyclist in the world according to Americans?')\n",
      "----\n",
      "0.0 ('Who do Americans think is the best person in the world?', 'Who is the best person in the world according to Americans?')\n",
      "----\n",
      "0.2 ('Who do Australians think is the best footballer in the world?', 'Who is the best footballer in the world according to Australians?')\n",
      "----\n",
      "\n",
      "\n",
      "Order does not matter for comparison\n",
      "Test cases:      991\n",
      "Test cases run:  500\n",
      "Fails (rate):    499 (99.8%)\n",
      "\n",
      "Example fails:\n",
      "0.0 ('Are frogs louder than mice?', 'What is louder, mice or frogs?')\n",
      "\n",
      "----\n",
      "0.0 ('Are ticks smaller than eggs?', 'What is smaller, eggs or ticks?')\n",
      "\n",
      "----\n",
      "0.0 ('Are wolves larger than bulls?', 'What is larger, bulls or wolves?')\n",
      "\n",
      "----\n",
      "\n",
      "\n",
      "Order does not matter for symmetric relations\n",
      "Test cases:      988\n",
      "Test cases run:  500\n",
      "Fails (rate):    384 (76.8%)\n",
      "\n",
      "Example fails:\n",
      "0.0 ('Is Ethan friends with Shannon?', 'Is Shannon friends with Ethan?')\n",
      "----\n",
      "0.1 ('Is Jonathan dating Melissa?', 'Is Melissa dating Jonathan?')\n",
      "----\n",
      "0.0 ('Is Jason connected to Jennifer?', 'Is Jennifer connected to Jason?')\n",
      "----\n",
      "\n",
      "\n",
      "Order does matter for asymmetric relations\n",
      "Test cases:      993\n",
      "Test cases run:  500\n",
      "Fails (rate):    384 (76.8%)\n",
      "\n",
      "Example fails:\n",
      "0.0 ('Is Nicole indebted to Jamie?', 'Is Jamie indebted to Nicole?')\n",
      "----\n",
      "0.0 ('Is Shannon punching Maria?', 'Is Maria punching Shannon?')\n",
      "----\n",
      "0.4 ('Is Amber using Andrew?', 'Is Andrew using Amber?')\n",
      "----\n",
      "\n",
      "\n",
      "traditional SRL: active / passive swap\n",
      "Test cases:      1000\n",
      "Test cases run:  500\n",
      "Fails (rate):    45 (9.0%)\n",
      "\n",
      "Example fails:\n",
      "0.0 ('Did Robert miss the business?', 'Was the business missed by Robert?')\n",
      "----\n",
      "0.0 ('Did Ryan miss the newspaper?', 'Was the newspaper missed by Ryan?')\n",
      "----\n",
      "0.4 ('Did Melissa like the land?', 'Was the land liked by Melissa?')\n",
      "----\n",
      "\n",
      "\n",
      "traditional SRL: wrong active / passive swap\n",
      "Test cases:      1000\n",
      "Test cases run:  500\n",
      "Fails (rate):    479 (95.8%)\n",
      "\n",
      "Example fails:\n",
      "1.0 ('Did Abigail abandon the rifle?', 'Was Abigail abandoned by the rifle?')\n",
      "----\n",
      "1.0 ('Did Sara use the business?', 'Was Sara used by the business?')\n",
      "----\n",
      "0.9 ('Did Michael remember the car?', 'Was Michael remembered by the car?')\n",
      "----\n",
      "\n",
      "\n",
      "traditional SRL: active / passive swap with people\n",
      "Test cases:      990\n",
      "Test cases run:  500\n",
      "Fails (rate):    355 (71.0%)\n",
      "\n",
      "Example fails:\n",
      "0.0 ('Does Jennifer love Erin?', 'Is Erin loved by Jennifer?')\n",
      "----\n",
      "0.0 ('Does Amber hate Kimberly?', 'Is Kimberly hated by Amber?')\n",
      "----\n",
      "0.2 ('Does Nathan support Isabella?', 'Is Isabella supported by Nathan?')\n",
      "----\n",
      "\n",
      "\n",
      "traditional SRL: wrong active / passive swap with people\n",
      "Test cases:      989\n",
      "Test cases run:  500\n",
      "Fails (rate):    484 (96.8%)\n",
      "\n",
      "Example fails:\n",
      "0.9 ('Does Thomas dislike Joshua?', 'Is Thomas disliked by Joshua?')\n",
      "----\n",
      "1.0 ('Does Jamie bother Kimberly?', 'Is Jamie bothered by Kimberly?')\n",
      "----\n",
      "1.0 ('Does Danielle bother Nicholas?', 'Is Danielle bothered by Nicholas?')\n",
      "----\n",
      "\n",
      "\n",
      "\n",
      "\n",
      "Logic\n",
      "\n",
      "A or B is not the same as C and D\n",
      "Test cases:      833\n",
      "Test cases run:  500\n",
      "Fails (rate):    44 (8.8%)\n",
      "\n",
      "Example fails:\n",
      "0.9 ('Is Kimberly Sullivan an agent or an interpreter?', 'Is Kimberly Sullivan simultaneously an escort and an attorney?')\n",
      "----\n",
      "0.9 ('Is Andrew Murphy an escort or an agent?', 'Is Andrew Murphy simultaneously an investigator and an advisor?')\n",
      "----\n",
      "0.9 ('Is Sarah Reyes an advisor or an escort?', 'Is Sarah Reyes simultaneously an agent and an interpreter?')\n",
      "----\n",
      "\n",
      "\n",
      "A or B is not the same as A and B\n",
      "Test cases:      971\n",
      "Test cases run:  500\n",
      "Fails (rate):    500 (100.0%)\n",
      "\n",
      "Example fails:\n",
      "0.9 ('Is Timothy Flores a historian or an entrepreneur?', 'Is Timothy Flores simultaneously a historian and an entrepreneur?')\n",
      "----\n",
      "1.0 ('Is Eric King an escort or a photographer?', 'Is Eric King simultaneously an escort and a photographer?')\n",
      "----\n",
      "1.0 ('Is Alyssa Gutierrez an adviser or an investor?', 'Is Alyssa Gutierrez simultaneously an adviser and an investor?')\n",
      "----\n",
      "\n",
      "\n",
      "A and / or B is the same as B and / or A\n",
      "Test cases:      970\n",
      "Test cases run:  500\n",
      "Fails (rate):    0 (0.0%)\n",
      "\n",
      "\n",
      "a {nationality} {profession} = a {profession} and {nationality}\n",
      "Test cases:      999\n",
      "Test cases run:  500\n",
      "Fails (rate):    0 (0.0%)\n",
      "\n",
      "\n",
      "Reflexivity: (q, q) should be duplicate\n",
      "Test cases:      1000\n",
      "Test cases run:  500\n",
      "Fails (rate):    5 (1.0%)\n",
      "\n",
      "Example fails:\n",
      "0.0 ('How do I balance these chemical equations?', 'How do I balance these chemical equations?')\n",
      "\n",
      "----\n",
      "0.0 ('How do I balance these chemical equations?', 'How do I balance these chemical equations?')\n",
      "\n",
      "----\n",
      "0.0 ('How to find the solution of this math problem?', 'How to find the solution of this math problem?')\n",
      "----\n",
      "\n",
      "\n",
      "Symmetry: f(a, b) = f(b, a)\n",
      "Test cases:      500\n",
      "Fails (rate):    17 (3.4%)\n",
      "\n",
      "Example fails:\n",
      "0.1 ('What is flagella used for? What are bacteria without flagella called?', 'What are bacteria without flagella called?')\n",
      "0.7 ('What are bacteria without flagella called?', 'What is flagella used for? What are bacteria without flagella called?')\n",
      "\n",
      "----\n",
      "0.3 ('Where is the best place to buy cheap Apple iPhones?', \"If I'm trying to buy a Mac book or used iPhone for cheap, where's a good place to find and buy cheap and high quality electronics?\")\n",
      "0.6 (\"If I'm trying to buy a Mac book or used iPhone for cheap, where's a good place to find and buy cheap and high quality electronics?\", 'Where is the best place to buy cheap Apple iPhones?')\n",
      "\n",
      "----\n",
      "0.0 ('Which musical theories should I know in order to compose music?', 'What should every musician know about music theory?')\n",
      "0.6 ('What should every musician know about music theory?', 'Which musical theories should I know in order to compose music?')\n",
      "\n",
      "----\n",
      "\n",
      "\n",
      "Testing implications\n",
      "Test cases:      8328\n",
      "Test cases run:  500\n",
      "After filtering: 450 (90.0%)\n",
      "Fails (rate):    47 (10.4%)\n",
      "\n",
      "Example fails:\n",
      "0.0 ('What is it that really matters the most in our life?', 'What is the most unforgettable day of your life and why?')\n",
      "1.0 ('What is it that really matters the most in our life?', 'What matters most in life?')\n",
      "0.0 ('What is the most unforgettable day of your life and why?', 'What matters most in life?')\n",
      "\n",
      "----\n",
      "1.0 ('\"How often do you mark questions as \"\"needing improvement\"\" on Quora?\"', '\"Why does Quora keep marking my questions as \"\"needing improvement\"\"?\"')\n",
      "1.0 ('\"How often do you mark questions as \"\"needing improvement\"\" on Quora?\"', 'How can I be a better person and improve my questions on Quora?')\n",
      "0.0 ('\"Why does Quora keep marking my questions as \"\"needing improvement\"\"?\"', 'How can I be a better person and improve my questions on Quora?')\n",
      "\n",
      "----\n",
      "0.0 ('What might happen now that President-elect Donald Trump has won the election? What will be the impact?', 'What are the chances Donald Trump is assassinated in office if he were to become president?')\n",
      "1.0 ('What might happen now that President-elect Donald Trump has won the election? What will be the impact?', 'What will happen to America now that Trump is president?')\n",
      "0.0 ('What are the chances Donald Trump is assassinated in office if he were to become president?', 'What will happen to America now that Trump is president?')\n",
      "\n",
      "----\n",
      "\n",
      "\n",
      "\n",
      "\n"
     ]
    }
   ],
   "source": [
    "suite.summary(n=3)"
   ]
  },
  {
   "cell_type": "markdown",
   "metadata": {},
   "source": [
    "## Roberta"
   ]
  },
  {
   "cell_type": "code",
   "execution_count": 160,
   "metadata": {
    "scrolled": true
   },
   "outputs": [
    {
     "data": {
      "application/vnd.jupyter.widget-view+json": {
       "model_id": "265eba429c9a4f30a80ac2ee558dd5c9",
       "version_major": 2,
       "version_minor": 0
      },
      "text/plain": [
       "TestSummarizer(stats={'npassed': 19, 'nfailed': 3, 'nfiltered': 0}, summarizer={'name': 'Change same name in b…"
      ]
     },
     "metadata": {},
     "output_type": "display_data"
    }
   ],
   "source": [
    "suite.visual_summary_by_name(\"Change same name in both questions\")"
   ]
  },
  {
   "cell_type": "code",
   "execution_count": null,
   "metadata": {},
   "outputs": [],
   "source": []
  },
  {
   "cell_type": "code",
   "execution_count": 132,
   "metadata": {
    "scrolled": true
   },
   "outputs": [
    {
     "name": "stdout",
     "output_type": "stream",
     "text": [
      "Running Modifier: adj\n",
      "Predicting 500 examples\n",
      "Running different adjectives\n",
      "Predicting 500 examples\n",
      "Running same adjectives, different people\n",
      "Predicting 500 examples\n",
      "Running same adjectives, different people v2\n",
      "Predicting 500 examples\n",
      "Running same adjectives, different people v3\n",
      "Predicting 500 examples\n",
      "Running Different animals\n",
      "Predicting 500 examples\n",
      "Running Irrelevant modifiers - animals\n",
      "Predicting 500 examples\n",
      "Running Irrelevant modifiers - people\n",
      "Predicting 500 examples\n",
      "Running Irrelevant preamble with different examples.\n",
      "Predicting 500 examples\n",
      "Running Preamble is relevant (different injuries)\n",
      "Predicting 500 examples\n",
      "Running How can I become more {synonym}?\n",
      "Predicting 500 examples\n",
      "Running add one typo\n",
      "Predicting 1500 examples\n",
      "Running contrations\n",
      "Predicting 1434 examples\n",
      "Running (q, paraphrase(q))\n",
      "Predicting 18824 examples\n",
      "Running Product of paraphrases(q1) * paraphrases(q2)\n",
      "Predicting 9796 examples\n",
      "Running Change same name in both questions\n",
      "Predicting 5424 examples\n",
      "Running Change same location in both questions\n",
      "Predicting 5200 examples\n",
      "Running Change same number in both questions\n",
      "Predicting 4951 examples\n",
      "Running Change first name in one of the questions\n",
      "Predicting 9983 examples\n",
      "Running Change first and last name in one of the questions\n",
      "Predicting 9686 examples\n",
      "Running Change location in one of the questions\n",
      "Predicting 10222 examples\n",
      "Running Change numbers in one of the questions\n",
      "Predicting 9618 examples\n",
      "Running Keep entitites, fill in with gibberish\n",
      "Predicting 4626 examples\n",
      "Running Is person X != Did person use to be X\n",
      "Predicting 500 examples\n",
      "Running Is person X != Is person becoming X\n",
      "Predicting 500 examples\n",
      "Running What was person's life before becoming X != What was person's life after becoming X\n",
      "Predicting 500 examples\n",
      "Running Do you have to X your dog before Y it != Do you have to X your dog after Y it.\n",
      "Predicting 500 examples\n",
      "Running Is it {ok, dangerous, ...} to {smoke, rest, ...} after != before\n",
      "Predicting 500 examples\n",
      "Running Is it {ok, dangerous, ...} to {smoke, rest, ...} in country != Is it {ok, dangerous, ...} not to {smoke, rest, ...} in country\n",
      "Predicting 500 examples\n",
      "Running What are things a {noun} should worry about != should not worry about.\n",
      "Predicting 500 examples\n",
      "Running How can I become a X person == How can I become a person who is not antonym(X)\n",
      "Predicting 500 examples\n",
      "Running Simple coref: he and she\n",
      "Predicting 500 examples\n",
      "Running Simple coref: his and her\n",
      "Predicting 500 examples\n",
      "Running Who do X think - Who is the ... according to X\n",
      "Predicting 500 examples\n",
      "Running Order does not matter for comparison\n",
      "Predicting 1500 examples\n",
      "Running Order does not matter for symmetric relations\n",
      "Predicting 500 examples\n",
      "Running Order does matter for asymmetric relations\n",
      "Predicting 500 examples\n",
      "Running traditional SRL: active / passive swap\n",
      "Predicting 500 examples\n",
      "Running traditional SRL: wrong active / passive swap\n",
      "Predicting 500 examples\n",
      "Running traditional SRL: active / passive swap with people\n",
      "Predicting 500 examples\n",
      "Running traditional SRL: wrong active / passive swap with people\n",
      "Predicting 500 examples\n",
      "Running A or B is not the same as C and D\n",
      "Predicting 500 examples\n",
      "Running A or B is not the same as A and B\n",
      "Predicting 500 examples\n",
      "Running A and / or B is the same as B and / or A\n",
      "Predicting 500 examples\n",
      "Running a {nationality} {profession} = a {profession} and {nationality}\n",
      "Predicting 500 examples\n",
      "Running Reflexivity: (q, q) should be duplicate\n",
      "Predicting 500 examples\n",
      "Running Symmetry: f(a, b) = f(b, a)\n",
      "Predicting 1000 examples\n",
      "Running Testing implications\n",
      "Predicting 1500 examples\n"
     ]
    }
   ],
   "source": [
    "suite.run(new_pp, n=500, seed=1, overwrite=True)"
   ]
  },
  {
   "cell_type": "code",
   "execution_count": 133,
   "metadata": {},
   "outputs": [],
   "source": [
    "suite.save('/tmp/roberta')"
   ]
  },
  {
   "cell_type": "code",
   "execution_count": 134,
   "metadata": {
    "scrolled": true
   },
   "outputs": [
    {
     "name": "stdout",
     "output_type": "stream",
     "text": [
      "Vocabulary\n",
      "\n",
      "Modifier: adj\n",
      "Test cases:      999\n",
      "Test cases run:  500\n",
      "Fails (rate):    381 (76.2%)\n",
      "\n",
      "Example fails:\n",
      "0.9 ('Is Jeffrey Young an editor?', 'Is Jeffrey Young an excellent editor?')\n",
      "----\n",
      "0.9 ('Is Nicole Campbell a player?', 'Is Nicole Campbell a fake player?')\n",
      "----\n",
      "1.0 ('Is Sophia Baker an actor?', 'Is Sophia Baker an active actor?')\n",
      "----\n",
      "\n",
      "\n",
      "different adjectives\n",
      "Test cases:      954\n",
      "Test cases run:  500\n",
      "Fails (rate):    3 (0.6%)\n",
      "\n",
      "Example fails:\n",
      "0.9 ('Is Ethan Russell American?', 'Is Ethan Russell an immigrant?')\n",
      "----\n",
      "0.8 ('Is Emma Ortiz Indian?', 'Is Emma Ortiz an immigrant?')\n",
      "----\n",
      "0.9 ('Is Ethan Russell American?', 'Is Ethan Russell an immigrant?')\n",
      "----\n",
      "\n",
      "\n",
      "same adjectives, different people\n",
      "Test cases:      974\n",
      "Test cases run:  500\n",
      "Fails (rate):    0 (0.0%)\n",
      "\n",
      "\n",
      "same adjectives, different people v2\n",
      "Test cases:      989\n",
      "Test cases run:  500\n",
      "Fails (rate):    3 (0.6%)\n",
      "\n",
      "Example fails:\n",
      "0.9 ('Is Alexis Diaz an astronaut?', 'Is Alyssa Diaz an astronaut?')\n",
      "----\n",
      "0.9 ('Is Alexis Diaz an astronaut?', 'Is Alyssa Diaz an astronaut?')\n",
      "----\n",
      "0.9 ('Is Alexis Diaz an astronaut?', 'Is Alyssa Diaz an astronaut?')\n",
      "----\n",
      "\n",
      "\n",
      "same adjectives, different people v3\n",
      "Test cases:      995\n",
      "Test cases run:  500\n",
      "Fails (rate):    31 (6.2%)\n",
      "\n",
      "Example fails:\n",
      "1.0 ('Is Amber Jackson famous?', 'Is Amber Johnson famous?')\n",
      "----\n",
      "1.0 ('Is Nicole Sanders Armenian?', 'Is Nicole Turner Armenian?')\n",
      "----\n",
      "0.9 ('Is Erin Hill an astronaut?', 'Is Erin Stewart an astronaut?')\n",
      "----\n",
      "\n",
      "\n",
      "Different animals\n",
      "Test cases:      942\n",
      "Test cases run:  500\n",
      "Fails (rate):    0 (0.0%)\n",
      "\n",
      "\n",
      "Irrelevant modifiers - animals\n",
      "Test cases:      1000\n",
      "Test cases run:  500\n",
      "Fails (rate):    0 (0.0%)\n",
      "\n",
      "\n",
      "Irrelevant modifiers - people\n",
      "Test cases:      987\n",
      "Test cases run:  500\n",
      "Fails (rate):    0 (0.0%)\n",
      "\n",
      "\n",
      "Irrelevant preamble with different examples.\n",
      "Test cases:      951\n",
      "Test cases run:  500\n",
      "Fails (rate):    499 (99.8%)\n",
      "\n",
      "Example fails:\n",
      "0.0 ('My pet lizard eats insulin. Is it normal for animals to eat insulin?', 'My pet dog eats insulin. Is it normal for animals to eat insulin?')\n",
      "----\n",
      "0.0 ('My pet dog eats water. Is it normal for animals to eat water?', 'My pet rabbit eats water. Is it normal for animals to eat water?')\n",
      "----\n",
      "0.0 ('My pet monkey eats milk. Is it normal for animals to eat milk?', 'My pet pig eats milk. Is it normal for animals to eat milk?')\n",
      "----\n",
      "\n",
      "\n",
      "Preamble is relevant (different injuries)\n",
      "Test cases:      975\n",
      "Test cases run:  500\n",
      "Fails (rate):    5 (1.0%)\n",
      "\n",
      "Example fails:\n",
      "0.9 ('I hurt my feet last time I played soccer. Should I never play again?', 'I hurt my foot last time I played soccer. Should I never play again?')\n",
      "----\n",
      "1.0 ('I hurt my thumb last time I played soccer. Should I never play again?', 'I hurt my hand last time I played soccer. Should I never play again?')\n",
      "----\n",
      "0.8 ('I hurt my body last time I played soccer. Is this going to impact my performance?', 'I hurt my skin last time I played soccer. Is this going to impact my performance?')\n",
      "----\n",
      "\n",
      "\n",
      "\n",
      "\n",
      "Taxonomy\n",
      "\n",
      "How can I become more {synonym}?\n",
      "Test cases:      6000\n",
      "Test cases run:  500\n",
      "Fails (rate):    190 (38.0%)\n",
      "\n",
      "Example fails:\n",
      "0.0 ('How can I become an outspoken person?', 'How can I become a vocal person?')\n",
      "----\n",
      "0.0 ('How can I become less spiritual?', 'How can I become less religious?')\n",
      "----\n",
      "0.2 ('How can I become a furious person?', 'How can I become an angry person?')\n",
      "----\n",
      "\n",
      "\n",
      "\n",
      "\n",
      "Robustness\n",
      "\n",
      "add one typo\n",
      "Test cases:      500\n",
      "Fails (rate):    59 (11.8%)\n",
      "\n",
      "Example fails:\n",
      "1.0 ('What is the best treatment for Generalized Anxiety Disorder?', 'What are the best ways to deal with generalized anxiety disorder?')\n",
      "0.0 ('Waht is the best treatment for Generalized Anxiety Disorder?', 'What are the best ways to deal with generalized anxiety disorder?')\n",
      "\n",
      "----\n",
      "0.1 ('Why is it so difficult to stop smoking, drinking and doing drugs?', 'Addiction: Can I ever quit using drugs?')\n",
      "0.7 ('Why is it s odifficult to stop smoking, drinking and doing drugs?', 'Addiction: Can I ever quit using drugs?')\n",
      "\n",
      "----\n",
      "1.0 ('How can we communicate with a mars rover million of miles away and in real time?', 'How does the Mars Rover communicate with Earth despite being so far away?')\n",
      "0.4 ('How can we communicate with a mars rover million of miles away and in real time?', 'How does the Mars Rover ocmmunicate with Earth despite being so far away?')\n",
      "\n",
      "----\n",
      "\n",
      "\n",
      "contrations\n",
      "Test cases:      500\n",
      "Fails (rate):    3 (0.6%)\n",
      "\n",
      "Example fails:\n",
      "0.5 ('What is the best part of being in relationship?', 'What is the best part of a relationship?')\n",
      "0.7 (\"What's the best part of being in relationship?\", \"What's the best part of a relationship?\")\n",
      "0.6 ('What is the best part of being in relationship?', \"What's the best part of a relationship?\")\n",
      "\n",
      "----\n",
      "0.3 ('What is Quora etiquette?', \"What are Quora's unspoken values and points of etiquette?\")\n",
      "0.7 (\"What's Quora etiquette?\", \"What're Quora's unspoken values and points of etiquette?\")\n",
      "\n",
      "----\n",
      "0.3 ('What is Quora etiquette?', \"What are Quora's unspoken values and points of etiquette?\")\n",
      "0.7 (\"What's Quora etiquette?\", \"What're Quora's unspoken values and points of etiquette?\")\n",
      "\n",
      "----\n",
      "\n",
      "\n",
      "(q, paraphrase(q))\n",
      "Test cases:      200\n",
      "Fails (rate):    40 (20.0%)\n",
      "\n",
      "Example fails:\n",
      "1.0 ('Can you cancel and reschedule passport appointment on same day?', 'Can you cancel and reschedule passport appointment on same day?')\n",
      "0.3 ('Do you think you can cancel and reschedule passport appointment on same day?', 'Can I cancel and reschedule passport appointment on same day?')\n",
      "0.3 ('Do you think you can cancel and reschedule passport appointment on same day?', 'Can I cancel and reschedule passport appointment on same day?')\n",
      "\n",
      "----\n",
      "1.0 ('How do I do well on exams?', 'How do I do well on exams?')\n",
      "0.3 ('How do you do well on exams?', 'How do I do well on exams?')\n",
      "0.3 ('How do I do well on exams?', 'How do you do well on exams?')\n",
      "\n",
      "----\n",
      "1.0 ('How do I see in which websites on Google Display Network have received invalid clicks?', 'How do I see in which websites on Google Display Network have received invalid clicks?')\n",
      "0.3 ('In order to see in which websites on Google Display Network have received invalid clicks, what should I do?', 'How do you see in which websites on Google Display Network have received invalid clicks?')\n",
      "0.3 ('If I want to see in which websites on Google Display Network have received invalid clicks, what should I do?', 'How do you see in which websites on Google Display Network have received invalid clicks?')\n",
      "\n",
      "----\n",
      "\n",
      "\n",
      "Product of paraphrases(q1) * paraphrases(q2)\n",
      "Test cases:      100\n",
      "Fails (rate):    26 (26.0%)\n",
      "\n",
      "Example fails:\n",
      "0.8 ('How do I convince my parents for a love marriage when they have completely misunderstood my boyfriend?', 'How can I convince my mom for a love marriage?')\n",
      "0.1 ('How can I convince my parents for a love marriage when they have completely misunderstood my boyfriend?', 'In order to convince your mom for a love marriage, what should you do?')\n",
      "0.1 ('How do I convince my parents for a love marriage when they have completely misunderstood my boyfriend?', 'In order to convince your mom for a love marriage, what should you do?')\n",
      "\n",
      "----\n",
      "0.1 ('How do I cure kidney stones?', 'How do I get relefe from kidney stone pain?')\n",
      "1.0 ('If you want to cure kidney stones, what should you do?', 'In order to get relefe from kidney stone pain, what should you do?')\n",
      "1.0 ('If I want to cure kidney stones, what should I do?', 'In order to get relefe from kidney stone pain, what should I do?')\n",
      "\n",
      "----\n",
      "0.1 ('How do I stop wet dreams?', 'How do I stop wet dreams without masturbation?')\n",
      "0.6 ('In order to stop wet dreams, what should I do?', 'If I want to stop wet dreams without masturbation, what should I do?')\n",
      "0.5 ('If I want to stop wet dreams, what should I do?', 'In order to stop wet dreams without masturbation, what should you do?')\n",
      "\n",
      "----\n",
      "\n",
      "\n",
      "\n",
      "\n",
      "NER\n",
      "\n",
      "Change same name in both questions\n",
      "Test cases:      500\n",
      "Fails (rate):    52 (10.4%)\n",
      "\n",
      "Example fails:\n",
      "0.5 (\"The Walking Dead Season 6 Episode 12 (Not Tomorrow Yet): [SPOILER] Was it a mistake for Rick's group to attack Negan's compound? What could they have done better or instead?\", \"The Walking Dead Season 6 Episode 12 (Not Tomorrow Yet): [SPOILER] Why exactly did Rick's group attack Negan's compound?\")\n",
      "0.6 (\"The Walking Dead Season 6 Episode 12 (Not Tomorrow Yet): [SPOILER] Was it a mistake for Luke's group to attack Negan's compound? What could they have done better or instead?\", \"The Walking Dead Season 6 Episode 12 (Not Tomorrow Yet): [SPOILER] Why exactly did Luke's group attack Negan's compound?\")\n",
      "0.6 (\"The Walking Dead Season 6 Episode 12 (Not Tomorrow Yet): [SPOILER] Was it a mistake for Luis's group to attack Negan's compound? What could they have done better or instead?\", \"The Walking Dead Season 6 Episode 12 (Not Tomorrow Yet): [SPOILER] Why exactly did Luis's group attack Negan's compound?\")\n",
      "\n",
      "----\n",
      "0.9 ('Why is Jake Williams so famous?', '\"How/when did Jake Williams get \"\"famous\"\" on Quora?\"')\n",
      "0.2 ('Why is Daniel Nelson so famous?', '\"How/when did Daniel Nelson get \"\"famous\"\" on Quora?\"')\n",
      "0.4 ('Why is James Powell so famous?', '\"How/when did James Powell get \"\"famous\"\" on Quora?\"')\n",
      "\n",
      "----\n",
      "0.7 ('Is Donald Trump out of the election?', '\"Is Donald Trump the \"\"Ross Perot\"\" of this election?\"')\n",
      "0.1 ('Is John Morales out of the election?', '\"Is John Morales the \"\"Ross Perot\"\" of this election?\"')\n",
      "0.2 ('Is David Cox out of the election?', '\"Is David Cox the \"\"Ross Perot\"\" of this election?\"')\n",
      "\n",
      "----\n",
      "\n",
      "\n",
      "Change same location in both questions\n",
      "Test cases:      500\n",
      "Fails (rate):    67 (13.4%)\n",
      "\n",
      "Example fails:\n",
      "0.5 ('What is your review of Richmond, VA?', 'What are the pros and cons of living in Richmond, VA?')\n",
      "0.1 ('What is your review of Corvallis, VA?', 'What are the pros and cons of living in Corvallis, VA?')\n",
      "0.3 ('What is your review of Topeka, VA?', 'What are the pros and cons of living in Topeka, VA?')\n",
      "\n",
      "----\n",
      "0.0 ('Who do you think could be the next President of India?', \"Who do you think will be the best choice for India's next president after Pranab Mukherjee?\")\n",
      "0.8 ('Who do you think could be the next President of Virgin Islands (U.S.)?', \"Who do you think will be the best choice for Virgin Islands (U.S.)'s next president after Pranab Mukherjee?\")\n",
      "\n",
      "----\n",
      "0.2 ('What do you really know about Iran?', 'What should everyone know about Iran?')\n",
      "0.8 ('What do you really know about Slovak Republic?', 'What should everyone know about Slovak Republic?')\n",
      "0.5 ('What do you really know about Netherlands?', 'What should everyone know about Netherlands?')\n",
      "\n",
      "----\n",
      "\n",
      "\n",
      "Change same number in both questions\n",
      "Test cases:      500\n",
      "Fails (rate):    17 (3.4%)\n",
      "\n",
      "Example fails:\n",
      "0.9 ('What is the best thing I can do with 10000$?', 'What is the best thing to do with $10000?')\n",
      "0.3 ('What is the best thing I can do with 9095$?', 'What is the best thing to do with $9095?')\n",
      "\n",
      "----\n",
      "0.5 ('If you had 100 trillion dollars, what would you do?', 'If you had 100 billion dollars, what would you do?')\n",
      "1.0 ('If you had 103 trillion dollars, what would you do?', 'If you had 103 billion dollars, what would you do?')\n",
      "0.9 ('If you had 111 trillion dollars, what would you do?', 'If you had 111 billion dollars, what would you do?')\n",
      "\n",
      "----\n",
      "0.4 (\"If you could re-live your 20's, what would you do?\", \"What do you do when you’re in your 20's?\")\n",
      "0.8 (\"If you could re-live your 15's, what would you do?\", \"What do you do when you’re in your 15's?\")\n",
      "0.8 (\"If you could re-live your 15's, what would you do?\", \"What do you do when you’re in your 15's?\")\n",
      "\n",
      "----\n",
      "\n",
      "\n",
      "Change first name in one of the questions\n",
      "Test cases:      500\n",
      "After filtering: 291 (58.2%)\n",
      "Fails (rate):    253 (86.9%)\n",
      "\n",
      "Example fails:\n",
      "1.0 ('Would Bernie Sanders have defeated Donald Trump?', 'How valid is the notion that Bernie Sanders might have defeated Donald Trump in the 2016 Presidential election?')\n",
      "1.0 ('Would Bernie Sanders have defeated Donald Trump?', 'How valid is the notion that Bernie Sanders might have defeated Peter Trump in the 2016 Presidential election?')\n",
      "1.0 ('Would Bernie Sanders have defeated Donald Trump?', 'How valid is the notion that Bernie Sanders might have defeated Daniel Trump in the 2016 Presidential election?')\n",
      "\n",
      "----\n",
      "1.0 ('Would you vote for Hillary Clinton and why?', 'Why would anybody vote for Hillary Clinton?')\n",
      "1.0 ('Would you vote for Shannon Clinton and why?', 'Why would anybody vote for Hillary Clinton?')\n",
      "1.0 ('Would you vote for Hillary Clinton and why?', 'Why would anybody vote for Brooke Clinton?')\n",
      "\n",
      "----\n",
      "0.9 ('When women vote for Hillary because of her gender, is that sexist?', 'Is it just as sexist to support Hillary Clinton because she is a woman as to not support her because she is?')\n",
      "0.8 ('When women vote for Hillary because of her gender, is that sexist?', 'Is it just as sexist to support Alyssa Clinton because she is a woman as to not support her because she is?')\n",
      "0.8 ('When women vote for Hillary because of her gender, is that sexist?', 'Is it just as sexist to support April Clinton because she is a woman as to not support her because she is?')\n",
      "\n",
      "----\n",
      "\n",
      "\n",
      "Change first and last name in one of the questions\n",
      "Test cases:      682\n",
      "Test cases run:  500\n",
      "After filtering: 286 (57.2%)\n",
      "Fails (rate):    92 (32.2%)\n",
      "\n",
      "Example fails:\n",
      "1.0 ('Why is Clinton better than Trump?', 'Why is Hillary Clinton a better choice than Donald Trump?')\n",
      "0.9 ('Why is Sean better than Trump?', 'Why is Hillary Clinton a better choice than Donald Trump?')\n",
      "0.9 ('Why is Alex better than Trump?', 'Why is Hillary Clinton a better choice than Donald Trump?')\n",
      "\n",
      "----\n",
      "1.0 (\"What are some extra biblical texts that confirms Mary's virginity at the birth of Jesus?\", \"What are the extra biblical texts that affirm Mary's virginity at the birth of Jesus?\")\n",
      "0.8 (\"What are some extra biblical texts that confirms Mary's virginity at the birth of Jeffrey?\", \"What are the extra biblical texts that affirm Mary's virginity at the birth of Jesus?\")\n",
      "0.7 (\"What are some extra biblical texts that confirms Mary's virginity at the birth of Jesus?\", \"What are the extra biblical texts that affirm Mary's virginity at the birth of Jeffrey?\")\n",
      "\n",
      "----\n",
      "1.0 ('What will happen if Queen Elizabeth II dies?', 'When Queen Elizabeth dies, what will happen?')\n",
      "1.0 ('What will happen if Queen Elizabeth II dies?', 'When Queen Megan dies, what will happen?')\n",
      "1.0 ('What will happen if Queen Elizabeth II dies?', 'When Queen Shannon dies, what will happen?')\n",
      "\n",
      "----\n",
      "\n",
      "\n",
      "Change location in one of the questions\n",
      "Test cases:      1386\n",
      "Test cases run:  500\n",
      "After filtering: 259 (51.8%)\n",
      "Fails (rate):    46 (17.8%)\n",
      "\n",
      "Example fails:\n",
      "1.0 ('How is the New Bhim APP going to change India?', 'What is your review of BHIM App? How is it going to change India?')\n",
      "1.0 ('How is the New Bhim APP going to change Samoa?', 'What is your review of BHIM App? How is it going to change India?')\n",
      "0.9 ('How is the New Bhim APP going to change India?', 'What is your review of BHIM App? How is it going to change Samoa?')\n",
      "\n",
      "----\n",
      "1.0 ('What will be the effect on real estate sector after demonetization of currency in India?', 'What will be the impact on real estate by banning 500 and 1000 rupee notes from India?')\n",
      "1.0 ('What will be the effect on real estate sector after demonetization of currency in India?', 'What will be the impact on real estate by banning 500 and 1000 rupee notes from Lithuania?')\n",
      "1.0 ('What will be the effect on real estate sector after demonetization of currency in India?', 'What will be the impact on real estate by banning 500 and 1000 rupee notes from Canada?')\n",
      "\n",
      "----\n",
      "1.0 ('What would the world be like if the Nazi Germany had won WW2?', 'What would have happened if Germany had won WWII?')\n",
      "1.0 ('What would the world be like if the Nazi Liechtenstein had won WW2?', 'What would have happened if Germany had won WWII?')\n",
      "\n",
      "----\n",
      "\n",
      "\n",
      "Change numbers in one of the questions\n",
      "Test cases:      1500\n",
      "Test cases run:  500\n",
      "After filtering: 268 (53.6%)\n",
      "Fails (rate):    177 (66.0%)\n",
      "\n",
      "Example fails:\n",
      "1.0 ('Which is the best earphone/headphone under INR 3000?', 'Which is the best headphone under Rs 3000?')\n",
      "0.9 ('Which is the best earphone/headphone under INR 3000?', 'Which is the best headphone under Rs 3013?')\n",
      "0.7 ('Which is the best earphone/headphone under INR 3013?', 'Which is the best headphone under Rs 3000?')\n",
      "\n",
      "----\n",
      "1.0 ('How banning 500 and 1000 rupees note will curb the corruption and black money in India?', 'Would demonetization of 500 and 1000 rupee notes actually help in curbing black money in India?')\n",
      "1.0 ('How banning 500 and 1000 rupees note will curb the corruption and black money in India?', 'Would demonetization of 483 and 1000 rupee notes actually help in curbing black money in India?')\n",
      "1.0 ('How banning 500 and 1095 rupees note will curb the corruption and black money in India?', 'Would demonetization of 500 and 1000 rupee notes actually help in curbing black money in India?')\n",
      "\n",
      "----\n",
      "0.6 ('How does 301 redirection works?', 'How do I do 301 redirection?')\n",
      "0.6 ('How does 301 redirection works?', 'How do I do 319 redirection?')\n",
      "\n",
      "----\n",
      "\n",
      "\n",
      "Keep entitites, fill in with gibberish\n",
      "Test cases:      500\n",
      "Fails (rate):    181 (36.2%)\n",
      "\n",
      "Example fails:\n",
      "0.0 ('What is Quora and how does it works?', 'How do downvotes work?')\n",
      "1.0 ('What is Quora and how does it works?', 'What Is Quora?')\n",
      "0.9 ('What is Quora and how does it works?', 'What is Quora?')\n",
      "\n",
      "----\n",
      "1.0 (\"What are your New Year's resolutions?\", \"What are some of your New Year's resolutions for 2017?\")\n",
      "0.9 (\"What are some of your New Year's resolutions for 2017?\", \"What About New Year's Day 2017?\")\n",
      "0.9 (\"What are some of your New Year's resolutions for 2017?\", \"What IS New Year's Day 2017?\")\n",
      "\n",
      "----\n",
      "0.9 ('Why was Hitler was so against Jews?', 'Why did Hitler kill so many jews?')\n",
      "1.0 ('Why was Hitler was so against Jews?', 'Why Does Hitler Hate Jews?')\n",
      "1.0 ('Why was Hitler was so against Jews?', 'Why Did Hitler Hate Jews?')\n",
      "\n",
      "----\n",
      "\n",
      "\n",
      "\n",
      "\n",
      "Temporal\n",
      "\n",
      "Is person X != Did person use to be X\n",
      "Test cases:      999\n",
      "Test cases run:  500\n",
      "Fails (rate):    487 (97.4%)\n",
      "\n",
      "Example fails:\n",
      "0.9 ('Is Jacob Carter an artist?', 'Did Jacob Carter use to be an artist?')\n",
      "----\n",
      "0.8 ('Is William Phillips an accountant?', 'Did William Phillips use to be an accountant?')\n",
      "----\n",
      "0.8 ('Is Rebecca Wilson an engineer?', 'Did Rebecca Wilson use to be an engineer?')\n",
      "----\n",
      "\n",
      "\n",
      "Is person X != Is person becoming X\n",
      "Test cases:      1000\n",
      "Test cases run:  500\n",
      "Fails (rate):    114 (22.8%)\n",
      "\n",
      "Example fails:\n",
      "0.7 ('Is Rebecca Perry a candidate?', 'Is Rebecca Perry becoming a candidate?')\n",
      "----\n",
      "0.6 ('Is James King a producer?', 'Is James King becoming a producer?')\n",
      "----\n",
      "0.8 ('Is Shannon Wright a friend?', 'Is Shannon Wright becoming a friend?')\n",
      "----\n",
      "\n",
      "\n",
      "What was person's life before becoming X != What was person's life after becoming X\n",
      "Test cases:      1000\n",
      "Test cases run:  500\n",
      "Fails (rate):    0 (0.0%)\n",
      "\n",
      "\n",
      "Do you have to X your dog before Y it != Do you have to X your dog after Y it.\n",
      "Test cases:      1000\n",
      "Test cases run:  500\n",
      "Fails (rate):    306 (61.2%)\n",
      "\n",
      "Example fails:\n",
      "0.6 ('Do you have to scratch your hamster before eating it?', 'Do you have to scratch your hamster after eating it?')\n",
      "----\n",
      "0.7 ('Do you have to bath your hamster before eating it?', 'Do you have to bath your hamster after eating it?')\n",
      "----\n",
      "0.9 ('Do you have to weigh your hamster before walking it?', 'Do you have to weigh your hamster after walking it?')\n",
      "----\n",
      "\n",
      "\n",
      "Is it {ok, dangerous, ...} to {smoke, rest, ...} after != before\n",
      "Test cases:      1000\n",
      "Test cases run:  500\n",
      "Fails (rate):    172 (34.4%)\n",
      "\n",
      "Example fails:\n",
      "0.9 ('Is it acceptable to party before 1am?', 'Is it acceptable to party after 1am?')\n",
      "----\n",
      "0.7 ('Is it healthy to dance before 9pm?', 'Is it healthy to dance after 9pm?')\n",
      "----\n",
      "0.9 ('Is it acceptable to cook before 9am?', 'Is it acceptable to cook after 9am?')\n",
      "----\n",
      "\n",
      "\n",
      "\n",
      "\n",
      "Negation\n",
      "\n",
      "Is it {ok, dangerous, ...} to {smoke, rest, ...} in country != Is it {ok, dangerous, ...} not to {smoke, rest, ...} in country\n",
      "Test cases:      1000\n",
      "Test cases run:  500\n",
      "Fails (rate):    6 (1.2%)\n",
      "\n",
      "Example fails:\n",
      "0.5 ('Is it socially acceptable to be gay in Timor-Leste?', 'Is it socially acceptable not to be gay in Timor-Leste?')\n",
      "----\n",
      "0.5 ('Is it socially acceptable to be gay in Timor-Leste?', 'Is it socially acceptable not to be gay in Timor-Leste?')\n",
      "----\n",
      "0.6 ('Is it healthy to discriminate in Peru?', 'Is it healthy not to discriminate in Peru?')\n",
      "----\n",
      "\n",
      "\n",
      "What are things a {noun} should worry about != should not worry about.\n",
      "Test cases:      1000\n",
      "Test cases run:  500\n",
      "Fails (rate):    0 (0.0%)\n",
      "\n",
      "\n",
      "How can I become a X person == How can I become a person who is not antonym(X)\n",
      "Test cases:      2000\n",
      "Test cases run:  500\n",
      "Fails (rate):    79 (15.8%)\n",
      "\n",
      "Example fails:\n",
      "0.9 ('How can I become an invisible person?', 'How can I become a person who is not visible?')\n",
      "----\n",
      "0.5 ('How can I become an active person?', 'How can I become a person who is not passive?')\n",
      "----\n",
      "0.5 ('How can I become an active person?', 'How can I become a person who is not passive?')\n",
      "----\n",
      "\n",
      "\n",
      "\n",
      "\n",
      "Coref\n",
      "\n",
      "Simple coref: he and she\n",
      "Test cases:      2000\n",
      "Test cases run:  500\n",
      "Fails (rate):    475 (95.0%)\n",
      "\n",
      "Example fails:\n",
      "0.8 ('If Henry and Alexis were alone, do you think he would reject her?', 'If Henry and Alexis were alone, do you think she would reject him?')\n",
      "----\n",
      "0.9 ('If Luke and Vanessa were alone, do you think he would reject her?', 'If Luke and Vanessa were alone, do you think she would reject him?')\n",
      "----\n",
      "0.6 ('If Melanie and Dylan were alone, do you think he would reject her?', 'If Melanie and Dylan were alone, do you think she would reject him?')\n",
      "----\n",
      "\n",
      "\n",
      "Simple coref: his and her\n",
      "Test cases:      2000\n",
      "Test cases run:  500\n",
      "Fails (rate):    500 (100.0%)\n",
      "\n",
      "Example fails:\n",
      "1.0 ('If Jordan and Sophia were married, would her family be happy?', \"If Jordan and Sophia were married, would Jordan's family be happy?\")\n",
      "----\n",
      "1.0 ('If Scott and Erica were married, would his family be happy?', \"If Scott and Erica were married, would Erica's family be happy?\")\n",
      "----\n",
      "1.0 ('If Gregory and Destiny were married, would his family be happy?', \"If Gregory and Destiny were married, would Destiny's family be happy?\")\n",
      "----\n",
      "\n",
      "\n",
      "\n",
      "\n",
      "SRL\n",
      "\n",
      "Who do X think - Who is the ... according to X\n",
      "Test cases:      1000\n",
      "Test cases run:  500\n",
      "Fails (rate):    0 (0.0%)\n",
      "\n",
      "\n",
      "Order does not matter for comparison\n",
      "Test cases:      991\n",
      "Test cases run:  500\n",
      "Fails (rate):    500 (100.0%)\n",
      "\n",
      "Example fails:\n",
      "0.0 ('Are burgers lighter than brains?', 'What is lighter, brains or burgers?')\n",
      "0.3 ('Are burgers lighter than brains?', 'Are brains lighter than burgers?')\n",
      "\n",
      "----\n",
      "0.0 ('Are diamonds colder than ticks?', 'What is colder, ticks or diamonds?')\n",
      "0.1 ('Are diamonds colder than ticks?', 'Are ticks colder than diamonds?')\n",
      "\n",
      "----\n",
      "0.1 ('Are mammals lighter than reptiles?', 'What is lighter, reptiles or mammals?')\n",
      "0.2 ('Are mammals lighter than reptiles?', 'Are reptiles lighter than mammals?')\n",
      "\n",
      "----\n",
      "\n",
      "\n",
      "Order does not matter for symmetric relations\n",
      "Test cases:      988\n",
      "Test cases run:  500\n",
      "Fails (rate):    500 (100.0%)\n",
      "\n",
      "Example fails:\n",
      "0.0 ('Is Samuel engaged to Rachel?', 'Is Rachel engaged to Samuel?')\n",
      "----\n",
      "0.0 ('Is Jason dating Christopher?', 'Is Christopher dating Jason?')\n",
      "----\n",
      "0.0 ('Is Kimberly engaged to Danielle?', 'Is Danielle engaged to Kimberly?')\n",
      "----\n",
      "\n",
      "\n",
      "Order does matter for asymmetric relations\n",
      "Test cases:      993\n",
      "Test cases run:  500\n",
      "Fails (rate):    500 (100.0%)\n",
      "\n",
      "Example fails:\n",
      "0.0 ('Is David hurting Amanda?', 'Is Amanda hurting David?')\n",
      "----\n",
      "0.0 ('Is Christopher expecting Alyssa?', 'Is Alyssa expecting Christopher?')\n",
      "----\n",
      "0.0 ('Is Zachary abusive to Erin?', 'Is Erin abusive to Zachary?')\n",
      "----\n",
      "\n",
      "\n",
      "traditional SRL: active / passive swap\n",
      "Test cases:      1000\n",
      "Test cases run:  500\n",
      "Fails (rate):    115 (23.0%)\n",
      "\n",
      "Example fails:\n",
      "0.2 ('Did Andrea lose the game?', 'Was the game lost by Andrea?')\n",
      "----\n",
      "0.5 ('Did John seize the boat?', 'Was the boat seized by John?')\n",
      "----\n",
      "0.4 ('Did Kyle lose the castle?', 'Was the castle lost by Kyle?')\n",
      "----\n",
      "\n",
      "\n",
      "traditional SRL: wrong active / passive swap\n",
      "Test cases:      1000\n",
      "Test cases run:  500\n",
      "Fails (rate):    500 (100.0%)\n",
      "\n",
      "Example fails:\n",
      "1.0 ('Did Lauren take the newspaper?', 'Was Lauren taken by the newspaper?')\n",
      "----\n",
      "0.9 ('Did Tyler manage the newspaper?', 'Was Tyler managed by the newspaper?')\n",
      "----\n",
      "1.0 ('Did Christina miss the property?', 'Was Christina missed by the property?')\n",
      "----\n",
      "\n",
      "\n",
      "traditional SRL: active / passive swap with people\n",
      "Test cases:      990\n",
      "Test cases run:  500\n",
      "Fails (rate):    500 (100.0%)\n",
      "\n",
      "Example fails:\n",
      "0.0 ('Does Katherine blame Danielle?', 'Is Danielle blamed by Katherine?')\n",
      "----\n",
      "0.0 ('Does Jennifer follow Samantha?', 'Is Samantha followed by Jennifer?')\n",
      "----\n",
      "0.0 ('Does Natalie believe Richard?', 'Is Richard believed by Natalie?')\n",
      "----\n",
      "\n",
      "\n",
      "traditional SRL: wrong active / passive swap with people\n",
      "Test cases:      989\n",
      "Test cases run:  500\n",
      "Fails (rate):    500 (100.0%)\n",
      "\n",
      "Example fails:\n",
      "1.0 ('Does Daniel support Brandon?', 'Is Daniel supported by Brandon?')\n",
      "----\n",
      "1.0 ('Does Benjamin deserve Kimberly?', 'Is Benjamin deserved by Kimberly?')\n",
      "----\n",
      "1.0 ('Does Kimberly follow Melissa?', 'Is Kimberly followed by Melissa?')\n",
      "----\n",
      "\n",
      "\n",
      "\n",
      "\n",
      "Logic\n",
      "\n",
      "A or B is not the same as C and D\n",
      "Test cases:      833\n",
      "Test cases run:  500\n",
      "Fails (rate):    40 (8.0%)\n",
      "\n",
      "Example fails:\n",
      "0.6 ('Is Madison Hill an assistant or an adviser?', 'Is Madison Hill simultaneously an actress and an agent?')\n",
      "----\n",
      "0.5 ('Is Michael Howard an advisor or an agent?', 'Is Michael Howard simultaneously an administrator and an engineer?')\n",
      "----\n",
      "0.7 ('Is Angela Bell an adviser or an escort?', 'Is Angela Bell simultaneously a historian and an accountant?')\n",
      "----\n",
      "\n",
      "\n",
      "A or B is not the same as A and B\n",
      "Test cases:      971\n",
      "Test cases run:  500\n",
      "Fails (rate):    500 (100.0%)\n",
      "\n",
      "Example fails:\n",
      "1.0 ('Is Ryan Sanders an assistant or a producer?', 'Is Ryan Sanders simultaneously an assistant and a producer?')\n",
      "----\n",
      "0.9 ('Is Austin Garcia a nurse or an interpreter?', 'Is Austin Garcia simultaneously a nurse and an interpreter?')\n",
      "----\n",
      "0.9 ('Is Victoria Myers a historian or a nurse?', 'Is Victoria Myers simultaneously a historian and a nurse?')\n",
      "----\n",
      "\n",
      "\n",
      "A and / or B is the same as B and / or A\n",
      "Test cases:      970\n",
      "Test cases run:  500\n",
      "Fails (rate):    0 (0.0%)\n",
      "\n",
      "\n",
      "a {nationality} {profession} = a {profession} and {nationality}\n",
      "Test cases:      999\n",
      "Test cases run:  500\n",
      "Fails (rate):    0 (0.0%)\n",
      "\n",
      "\n",
      "Reflexivity: (q, q) should be duplicate\n",
      "Test cases:      1000\n",
      "Test cases run:  500\n",
      "Fails (rate):    2 (0.4%)\n",
      "\n",
      "Example fails:\n",
      "0.0 ('What is the difference between the following sentences ?', 'What is the difference between the following sentences ?')\n",
      "----\n",
      "0.0 ('If this is the question, what is the answer?', 'If this is the question, what is the answer?')\n",
      "----\n",
      "\n",
      "\n",
      "Symmetry: f(a, b) = f(b, a)\n",
      "Test cases:      500\n",
      "Fails (rate):    19 (3.8%)\n",
      "\n",
      "Example fails:\n",
      "0.0 ('What are the pros and cons of living in Austria?', 'What are the pros and cons about living in Vienna, Austria?')\n",
      "0.8 ('What are the pros and cons about living in Vienna, Austria?', 'What are the pros and cons of living in Austria?')\n",
      "\n",
      "----\n",
      "0.3 ('Do UK residence permit holder need a transit visa in Paris CDG airport if I have to go around the city?', 'Do I need a transit visa for a 25 hours layover in Paris CDG airport if I have to go around the city?')\n",
      "0.9 ('Do I need a transit visa for a 25 hours layover in Paris CDG airport if I have to go around the city?', 'Do UK residence permit holder need a transit visa in Paris CDG airport if I have to go around the city?')\n",
      "\n",
      "----\n",
      "0.5 ('How do you use a Vanilla Visa gift card?', 'How can you use a Vanilla Mastercard gift card online?')\n",
      "0.2 ('How can you use a Vanilla Mastercard gift card online?', 'How do you use a Vanilla Visa gift card?')\n",
      "\n",
      "----\n",
      "\n",
      "\n",
      "Testing implications\n",
      "Test cases:      8328\n",
      "Test cases run:  500\n",
      "After filtering: 458 (91.6%)\n",
      "Fails (rate):    53 (11.6%)\n",
      "\n",
      "Example fails:\n",
      "0.0 ('What was the best Quora question ever?', 'Which are the most popular questions on Quora presently that also create the most discussions?')\n",
      "0.9 ('What was the best Quora question ever?', \"Which is the best question you've read on Quora?\")\n",
      "0.0 ('Which are the most popular questions on Quora presently that also create the most discussions?', \"Which is the best question you've read on Quora?\")\n",
      "\n",
      "----\n",
      "0.2 ('Why is a surgical strike named so?', 'What does surgical strike mean?')\n",
      "0.8 ('Why is a surgical strike named so?', 'What does surgical strike means?')\n",
      "1.0 ('What does surgical strike mean?', 'What does surgical strike means?')\n",
      "\n",
      "----\n",
      "0.0 ('Is unifunds.com legit?', 'Is buyucoin.com legit?')\n",
      "0.9 ('Is unifunds.com legit?', 'Is unifunds legit?')\n",
      "0.0 ('Is buyucoin.com legit?', 'Is unifunds legit?')\n",
      "\n",
      "----\n",
      "\n",
      "\n",
      "\n",
      "\n"
     ]
    }
   ],
   "source": [
    "suite.summary(n=3)"
   ]
  },
  {
   "cell_type": "code",
   "execution_count": null,
   "metadata": {},
   "outputs": [],
   "source": []
  }
 ],
 "metadata": {
  "kernelspec": {
   "display_name": "Python 3",
   "language": "python",
   "name": "python3"
  },
  "language_info": {
   "codemirror_mode": {
    "name": "ipython",
    "version": 3
   },
   "file_extension": ".py",
   "mimetype": "text/x-python",
   "name": "python",
   "nbconvert_exporter": "python",
   "pygments_lexer": "ipython3",
   "version": "3.6.10"
  }
 },
 "nbformat": 4,
 "nbformat_minor": 2
}
