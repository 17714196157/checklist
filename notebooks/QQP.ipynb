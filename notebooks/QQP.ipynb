{
 "cells": [
  {
   "cell_type": "code",
   "execution_count": 1,
   "metadata": {},
   "outputs": [],
   "source": [
    "%load_ext autoreload\n",
    "%autoreload 2\n",
    "\n",
    "import checklist\n",
    "import spacy\n",
    "import itertools\n",
    "\n",
    "import checklist.editor\n",
    "import checklist.text_generation\n",
    "from checklist.test_types import MFT, INV, DIR\n",
    "from checklist.expect import Expect\n",
    "from checklist.test_suite import TestSuite\n",
    "import numpy as np\n",
    "import spacy\n",
    "from checklist.perturb import Perturb\n"
   ]
  },
  {
   "cell_type": "code",
   "execution_count": null,
   "metadata": {},
   "outputs": [],
   "source": [
    "suite.visual_summary_table()"
   ]
  },
  {
   "cell_type": "code",
   "execution_count": 168,
   "metadata": {
    "scrolled": false
   },
   "outputs": [
    {
     "name": "stdout",
     "output_type": "stream",
     "text": [
      "Please wait as we prepare the table data...\n"
     ]
    },
    {
     "data": {
      "application/vnd.jupyter.widget-view+json": {
       "model_id": "8b3e23640e8842588ae10f7d40bc8988",
       "version_major": 2,
       "version_minor": 0
      },
      "text/plain": [
       "SuiteSummarizer(stats={'npassed': 0, 'nfailed': 0, 'nfiltered': 0}, test_infos=[{'name': 'Modifier: adj', 'des…"
      ]
     },
     "metadata": {},
     "output_type": "display_data"
    }
   ],
   "source": [
    "suite.visual_summary_table()"
   ]
  },
  {
   "cell_type": "code",
   "execution_count": null,
   "metadata": {},
   "outputs": [],
   "source": []
  },
  {
   "cell_type": "code",
   "execution_count": null,
   "metadata": {},
   "outputs": [],
   "source": []
  },
  {
   "cell_type": "code",
   "execution_count": null,
   "metadata": {},
   "outputs": [],
   "source": []
  },
  {
   "cell_type": "code",
   "execution_count": null,
   "metadata": {},
   "outputs": [],
   "source": []
  },
  {
   "cell_type": "code",
   "execution_count": 2,
   "metadata": {},
   "outputs": [],
   "source": [
    "from checklist.pred_wrapper import PredictorWrapper\n",
    "\n",
    "import sys\n",
    "sys.path.append('/home/marcotcr/work/ml-tests/')\n",
    "from mltests import model_wrapper\n",
    "model = model_wrapper.ModelWrapper()\n",
    "new_pp = PredictorWrapper.wrap_softmax(model.predict_proba)\n"
   ]
  },
  {
   "cell_type": "code",
   "execution_count": 3,
   "metadata": {},
   "outputs": [
    {
     "data": {
      "text/plain": [
       "<checklist.text_generation.TextGenerator at 0x7fdb92cf5550>"
      ]
     },
     "execution_count": 3,
     "metadata": {},
     "output_type": "execute_result"
    }
   ],
   "source": [
    "editor = checklist.editor.Editor()\n",
    "editor.tg"
   ]
  },
  {
   "cell_type": "code",
   "execution_count": 4,
   "metadata": {},
   "outputs": [],
   "source": [
    "nlp = spacy.load('en_core_web_sm')"
   ]
  },
  {
   "cell_type": "code",
   "execution_count": 5,
   "metadata": {},
   "outputs": [
    {
     "name": "stdout",
     "output_type": "stream",
     "text": [
      "\"\tWhat does the Quran say about homosexuality?\t0\n",
      "\n"
     ]
    }
   ],
   "source": [
    "qs = []\n",
    "labels = []\n",
    "all_questions = set()\n",
    "for x in open('/home/marcotcr/datasets/glue/glue_data/QQP/dev.tsv').readlines()[1:]:\n",
    "    try:\n",
    "        q1, q2, label = x.strip().split('\\t')[3:]\n",
    "    except:\n",
    "        print(x)\n",
    "        continue\n",
    "    all_questions.add(q1)\n",
    "    all_questions.add(q2)\n",
    "    qs.append((q1, q2))\n",
    "    labels.append(label)\n",
    "labels = np.array(labels).astype(int)"
   ]
  },
  {
   "cell_type": "code",
   "execution_count": 201,
   "metadata": {},
   "outputs": [],
   "source": [
    "# [x for x in qs if 'better' in x[0]]"
   ]
  },
  {
   "cell_type": "code",
   "execution_count": 6,
   "metadata": {},
   "outputs": [],
   "source": [
    "import pickle\n",
    "spacy_map =  pickle.load(open('/home/marcotcr/tmp/processed_qqp.pkl', 'rb'))"
   ]
  },
  {
   "cell_type": "code",
   "execution_count": 7,
   "metadata": {},
   "outputs": [],
   "source": [
    "parsed_qs = [(spacy_map[q[0]], spacy_map[q[1]]) for q in qs]"
   ]
  },
  {
   "cell_type": "code",
   "execution_count": 8,
   "metadata": {},
   "outputs": [],
   "source": [
    "suite = TestSuite()"
   ]
  },
  {
   "cell_type": "markdown",
   "metadata": {},
   "source": [
    "## Vocabulary"
   ]
  },
  {
   "cell_type": "code",
   "execution_count": 12,
   "metadata": {},
   "outputs": [
    {
     "name": "stdout",
     "output_type": "stream",
     "text": [
      "journalist, historian, nurse, engineer, accountant, attorney, architect, artist, editor, actor, actress, analyst, intern, economist, entrepreneur, author, assistant, interpreter, investor, executive, organizer, escort, educator, agent, academic, activist, advisor, administrator, investigator, auditor\n"
     ]
    }
   ],
   "source": [
    "professions = editor.suggest('{first_name} works as {a:mask}.')[:30]\n",
    "print(', '.join(professions))"
   ]
  },
  {
   "cell_type": "code",
   "execution_count": 13,
   "metadata": {},
   "outputs": [],
   "source": [
    "professions = editor.suggest('{first_name} works as {a:mask}.')[:30]\n",
    "professions += editor.suggest('{first_name} {last_name} works as {a:mask}.')[:30]\n",
    "professions = list(set(professions))\n",
    "# professions"
   ]
  },
  {
   "cell_type": "code",
   "execution_count": 14,
   "metadata": {},
   "outputs": [
    {
     "name": "stdout",
     "output_type": "stream",
     "text": [
      "guy, player, writer, actor, example, man, person, friend, kid, hitter, read, shooter, one, coach, dude, pick, teacher, shot, fighter, artist, student, quarterback, poet, character, reader, sport, name, bet, cook, reporter\n"
     ]
    }
   ],
   "source": [
    "print(', '.join(editor.suggest('{first_name} {last_name} is a good {mask}.')[:30]))"
   ]
  },
  {
   "cell_type": "code",
   "execution_count": 15,
   "metadata": {},
   "outputs": [],
   "source": [
    "other_nouns = ['player', 'person', 'friend', 'kid', 'candidate']\n",
    "nouns = list(set(professions + other_nouns))"
   ]
  },
  {
   "cell_type": "code",
   "execution_count": 16,
   "metadata": {},
   "outputs": [
    {
     "name": "stdout",
     "output_type": "stream",
     "text": [
      "effective, good, excellent, actual, ethical, active, outstanding, accredited, elite, ideal, honest, American, paid, acceptable, experienced, average, unusual, international, ordinary, Australian, real, amateur, professional, independent, accomplished, official, legitimate, better, OK, exceptional, accurate, bad, attractive, amazing, established, adequate, aspiring, important, okay, appropriate, authentic, unreliable, authorized, trusted, career, accidental, financial, former, sound, successful\n"
     ]
    }
   ],
   "source": [
    "print(', '.join(editor.suggest('Is {first_name} {last_name} {a:mask} {noun}?', noun=nouns)[:50]))"
   ]
  },
  {
   "cell_type": "code",
   "execution_count": 17,
   "metadata": {},
   "outputs": [],
   "source": [
    "adjs = ['effective', 'actual', 'American', 'active', 'honest', 'excellent', 'elite', 'acomplished', 'official', 'outstanding', 'experienced', 'independent', 'international', 'aspiring', 'average', 'good', 'amazing', 'exceptional', 'successful', 'accredited', 'English', 'real', 'bad', 'terrible', 'fake', 'unusual', 'influential', 'incompetent']"
   ]
  },
  {
   "cell_type": "code",
   "execution_count": 18,
   "metadata": {},
   "outputs": [],
   "source": [
    "t = editor.template(('Is {first_name} {last_name} {a:noun}?', 'Is {first_name} {last_name} {a:adj} {noun}?'),\n",
    "                noun=nouns,\n",
    "                adj=adjs,\n",
    "                remove_duplicates=True, \n",
    "                nsamples=1000)\n",
    "test = MFT(**t, labels=0, name='Modifier: adj', capability='Vocabulary', \n",
    "          description = 'Adding an adjective makes questions non-duplicates')\n",
    "# test.run(new_pp)\n",
    "# test.summary(n=3)\n",
    "suite.add(test)"
   ]
  },
  {
   "cell_type": "markdown",
   "metadata": {},
   "source": [
    "Is person {a1, a2}?"
   ]
  },
  {
   "cell_type": "code",
   "execution_count": 19,
   "metadata": {},
   "outputs": [
    {
     "name": "stdout",
     "output_type": "stream",
     "text": [
      "dead, gay, alive, right, Dead, real, Jewish, mad, wrong, correct, insane, back, crazy, related, OK, Right, immortal, evil, straight, interested, famous, racist, sane, next, President, alone, lying, relevant, okay, DEAD, bisexual, God, angry, guilty, ok, Alone, Wrong, ready, gone, innocent, King, human, Muslim, Black, assassinated, Batman, here, Real, dying, involved, homosexual, special, Famous, happy, free, murdered, Superman, president, joking, White, Back, Gay, Catholic, cool, safe, resurrected, killed, American, missing, corrupt, cursed, alright, single, Crazy, Mad, Satan, Missing, legit, shot, Evil, finished, worthy, doomed, sincere, aware, autistic, responsible, dangerous, Christian, Cool, Immortal, radioactive, remembered, Next, serious, cheating, different, popular, Legend, listening, now, illegitimate, homophobic, kidding, sick, smart, connected, trustworthy, Innocent, legal\n",
      "\n",
      "racist, atheist, outlaw, asshole, actor, ape, American, inspiration, idiot, orphan, Christian, ancestor, artist, Avenger, anomaly, icon, anarchist, homosexual, influence, alien, inventor, author, Alien, android, immortal, Immortal, idol, Indian, angel, assassin, African, Arab, intellectual, adult, extremist, Assassin, imperialist, alcoholic, Icon, rapist, example, Italian, Australian, archetype, Armenian, exception, murderer, activist, astronaut, expert\n"
     ]
    }
   ],
   "source": [
    "print(', '.join(editor.suggest('Is John Wayne {mask}?')))\n",
    "print()\n",
    "print(', '.join(editor.suggest('Is John Wayne {a:mask}?')[:50]))"
   ]
  },
  {
   "cell_type": "code",
   "execution_count": 20,
   "metadata": {},
   "outputs": [],
   "source": [
    "adjs_without_overlap = ['dead', 'gay', 'Jewish', 'Christian', 'American', 'mad', 'immortal', 'evil', 'famous', 'racist', 'Muslim', 'white', 'black', 'English', 'autistic', 'Australian', 'trustworthy', 'an atheist', 'an anarchist', 'an inventor', 'Indian', 'Armenian', 'an astronaut', 'an immigrant']"
   ]
  },
  {
   "cell_type": "code",
   "execution_count": 21,
   "metadata": {},
   "outputs": [],
   "source": [
    "t = editor.template((\n",
    "    'Is {first_name} {last_name} {adj1}?',\n",
    "    'Is {first_name} {last_name} {adj2}?',\n",
    "    ),\n",
    "    adj=adjs_without_overlap,\n",
    "    remove_duplicates=True, \n",
    "    nsamples=1000)\n",
    "test = MFT(**t, labels=0, name='different adjectives', capability = 'Vocabulary',\n",
    "          description='Same first and last name, different adjectives')\n",
    "# test.run(new_pp)\n",
    "# test.summary(n=3)\n",
    "suite.add(test)"
   ]
  },
  {
   "cell_type": "markdown",
   "metadata": {},
   "source": [
    "person1 and person2 are different by first and last name"
   ]
  },
  {
   "cell_type": "code",
   "execution_count": 22,
   "metadata": {},
   "outputs": [],
   "source": [
    "t = editor.template((\n",
    "    'Is {first_name1} {last_name1} {adj}?',\n",
    "    'Is {first_name2} {last_name2} {adj}?',\n",
    "    ),\n",
    "    adj=adjs_without_overlap,\n",
    "    remove_duplicates=True, \n",
    "    nsamples=1000)\n",
    "test = MFT(**t, labels=0, name='same adjectives, different people', capability = 'Vocabulary',\n",
    "          description='Different first and last name, same adjectives')\n",
    "# test.run(new_pp)\n",
    "# test.summary(n=3)\n",
    "suite.add(test)"
   ]
  },
  {
   "cell_type": "markdown",
   "metadata": {},
   "source": [
    "person1 and person2 are different by first name only"
   ]
  },
  {
   "cell_type": "code",
   "execution_count": 23,
   "metadata": {},
   "outputs": [],
   "source": [
    "t = editor.template((\n",
    "    'Is {first_name} {last_name} {adj}?',\n",
    "    'Is {first_name2} {last_name} {adj}?',\n",
    "    ),\n",
    "    adj=adjs_without_overlap,\n",
    "    remove_duplicates=True, \n",
    "    nsamples=1000)\n",
    "test = MFT(**t, labels=0, name='same adjectives, different people v2', capability = 'Vocabulary',\n",
    "          description='Different first name, same adjective and last name')\n",
    "# test.run(new_pp)\n",
    "# test.summary(n=3)\n",
    "suite.add(test)"
   ]
  },
  {
   "cell_type": "markdown",
   "metadata": {},
   "source": [
    "person1 and person2 are different by last name only"
   ]
  },
  {
   "cell_type": "code",
   "execution_count": 24,
   "metadata": {},
   "outputs": [],
   "source": [
    "t = editor.template((\n",
    "    'Is {first_name} {last_name} {adj}?',\n",
    "    'Is {first_name} {last_name2} {adj}?',\n",
    "    ),\n",
    "    adj=adjs_without_overlap,\n",
    "    remove_duplicates=True, \n",
    "    nsamples=1000)\n",
    "test = MFT(**t, labels=0, name='same adjectives, different people v3', capability = 'Vocabulary',\n",
    "          description='Different last name, same adjective and first name')\n",
    "# test.run(new_pp)\n",
    "# test.summary(n=3)\n",
    "suite.add(test)"
   ]
  },
  {
   "cell_type": "markdown",
   "metadata": {},
   "source": [
    "different animals"
   ]
  },
  {
   "cell_type": "code",
   "execution_count": 25,
   "metadata": {},
   "outputs": [
    {
     "name": "stdout",
     "output_type": "stream",
     "text": [
      "cat, dog, rabbit, turtle, too, spider, now, rat, name, goat, lizard, dragon, named, pig, wolf, monkey, girl, squirrel, owl, also, here, called, there, tiger, python, friend, lab, phone, mix, bear, bird, …, boy, farm, duck, snake, zoo, owner, problem, fish, carrier, Shiva, shop, myself, companion, boyfriend, kitten, store, dinosaur, animal, watch, ring, project, deer, Labrador, Shepherd, tree, killer, lobster, mom, dish, X, bunny, girlfriend, shark, already, gun, car, puppy, one, computer, elephant, fetish, bug, brother, lover, tattoo, monitor, snail, cow, XD, Goat, mouse, somewhere, robot, sometimes, mother, syndrome, haha, pair, knife, life, carriage, Persian, cats, collar, that, diary, door, family, boo, number, show, assistant, toy, horse, chicken, laptop, server, tracker\n"
     ]
    }
   ],
   "source": [
    "print(', '.join(editor.suggest('I have a pet {mask}.')))"
   ]
  },
  {
   "cell_type": "code",
   "execution_count": 59,
   "metadata": {},
   "outputs": [],
   "source": [
    "animals = ['cat', 'dog', 'rabbit', 'turtle', 'spider', 'rat', 'goat', 'lizard', 'pig', 'monkey', 'squirrel', 'owl', 'snake', 'fish', 'lobster', 'snail', 'chicken']"
   ]
  },
  {
   "cell_type": "code",
   "execution_count": 60,
   "metadata": {},
   "outputs": [
    {
     "name": "stdout",
     "output_type": "stream",
     "text": [
      "food, pellets, eggs, water, again, worms, properly, now, meat, today, too, anything, outside, here, something, tonight, poop, fish, this, milk, directly, that, myself, rice, instead, nuts, there, live, steak, more, dinner, formula, treats, poison, regularly, correctly, rabbit, right, blood, enough, back, chicken, cheese, once, larvae, peanuts, feed, alive, honey, grass, feces, soup, anyway, scraps, bugs, what, alone, breakfast, oil, raw, well, chocolate, urine, corn, cereal, sugar, seeds, home, liver, free, better, protein, online, daily, cookies, carrots, lunch, yogurt, candy, cat, grain, seed, spinach, anymore, salad, fat, antibiotics, greens, Rice, it, indoors, …, shit, inside, money, toys, crap, organic, naturally, hay, bacon, some, cats, bird, bamboo, egg, breast, separately, rats, juice, vegetables, biscuits, waste, butter, crow, insulin, soy, sometimes, meal, mix, bones, yet, fly, appropriately, balls, privately, bananas, tuna, salmon, chickens, Milo, birds, bread, saliva, chicks, beef, tea, fruit, snakes, banana, salt, tail, broccoli, normally, wild, sushi, friends, leaves, trout, shrimp, tomorrow, chips, one, snake, rabbits, twice, grains, yourself, gluten, tails, safely, mate, differently, white, life, baby, mine, DNA, shells, shell, snail, Milk, venom, owl, breasts, poisonous, bites, mail, plants, bait, pork, wings, kale, kittens, paste, oats, traps, GMOs, healthy, beans, yesterday, slime, fries, though, chick, commercially, tomatoes, fingers, locally, cake, iron, vitamins, ok, python, grapes, oils, marijuana, strawberries, stew, GMO, soap, supplements, ducks, frogs, crabs, occasionally, alcohol, lettuce, babies, stock, responsibly, pudding, bills, tacos, pigs, elsewhere, pancakes, love, illegally, young, poultry, dry, please, kidney, first, outdoors, capsules, turkey, feathers, junk, jelly, snacks, bug, legally, scratch, how, straight, somehow, variety, toy, exclusively, these, feather, weed, green, samples, rat, habit, popcorn, also, black, bill, litter, friend, pod, beetles, away, externally, flour, manure, kidneys, hair, pack, feet, any, parasites, trap, wine, afterwards, stuff, ass, dog, freely, badly, fur, garbage\n"
     ]
    }
   ],
   "source": [
    "print(', '.join(editor.suggest('Can I feed my {an} {mask}?', an=animals)))"
   ]
  },
  {
   "cell_type": "code",
   "execution_count": 89,
   "metadata": {},
   "outputs": [
    {
     "data": {
      "text/plain": [
       "[]"
      ]
     },
     "execution_count": 89,
     "metadata": {},
     "output_type": "execute_result"
    }
   ],
   "source": [
    "editor.tg.antonyms('How can I make my cat more valuable?', 'valuable')"
   ]
  },
  {
   "cell_type": "code",
   "execution_count": 61,
   "metadata": {},
   "outputs": [],
   "source": [
    "food = ['eggs', 'water',  'worms', 'meat', 'poop', 'milk', 'rice', 'nuts', 'steak', 'formula',  'soup', 'bugs', 'oil', 'chocolate', 'corn', 'cereal', 'sugar', 'seeds', 'liver', 'cookies', 'carrots', 'yogurt', 'salad', 'greens', 'rice', 'bananas', 'tuna', 'apples', 'salmon', 'butter', 'insulin', 'soy']"
   ]
  },
  {
   "cell_type": "code",
   "execution_count": 40,
   "metadata": {},
   "outputs": [
    {
     "name": "stdout",
     "output_type": "stream",
     "text": [
      "Predicting 943 examples\n",
      "Test cases:      943\n",
      "Fails (rate):    69 (7.3%)\n",
      "\n",
      "Example fails:\n",
      "0.9 ('Can I feed my pig sugar?', 'Can I feed my goat sugar?')\n",
      "----\n",
      "0.9 ('Can I feed my dog sugar?', 'Can I feed my chicken sugar?')\n",
      "----\n",
      "0.8 ('Can I feed my lobster rice?', 'Can I feed my spider rice?')\n",
      "----\n"
     ]
    }
   ],
   "source": [
    "t = editor.template((\n",
    "    'Can I feed my {animal1} {food}?',\n",
    "    'Can I feed my {animal2} {food}?',\n",
    "    ),\n",
    "    animal=animals,\n",
    "    food=food,\n",
    "    remove_duplicates=True, \n",
    "    nsamples=1000)\n",
    "name = 'Different animals' \n",
    "desc = 'Ask the same question about two different pet animals, expect prediction to be 0'\n",
    "test = MFT(**t, labels=0, name=name, capability = 'Vocabulary',\n",
    "          description=desc)\n",
    "test.run(new_pp)\n",
    "test.summary(n=3)\n",
    "suite.add(test)"
   ]
  },
  {
   "cell_type": "code",
   "execution_count": 120,
   "metadata": {},
   "outputs": [
    {
     "name": "stdout",
     "output_type": "stream",
     "text": [
      "('Can you offer me any advice on how to lose weight?', 'How can I lose an extreme amount of weight?')\n",
      "('What has been your best sexual experience?', \"What was the best sexual experience you've ever had?\")\n",
      "('Was Dr Vinay Kumaran ragged in First year of MBBS?', 'Was Dr. Vinay Kumaran ragged in the first year of MBBS?')\n",
      "('How the way to speak english fluently?', 'How could an English learner speak fluently?')\n",
      "('How can I apply online for issuance of PAN card in India?', 'How do I apply and receive pan card in 48 hours with new facilities?')\n"
     ]
    }
   ],
   "source": [
    "idx = np.random.choice(np.where(labels == 1)[0], 5)\n",
    "for i in idx:\n",
    "    print(qs[i])"
   ]
  },
  {
   "cell_type": "code",
   "execution_count": 76,
   "metadata": {},
   "outputs": [
    {
     "data": {
      "text/plain": [
       "[('What are the best recommendations to live with a pet in an apartment?',\n",
       "  'What are the best pets to have if you live in an apartment?'),\n",
       " ('What are the pros and cons of having your pet neutered?',\n",
       "  'What are the pros and cons of neutering your dog?')]"
      ]
     },
     "execution_count": 76,
     "metadata": {},
     "output_type": "execute_result"
    }
   ],
   "source": [
    "[x for x,y in zip(qs, labels) if ' pet ' in x[0] and ' pet ' not in x[1] and y==1]"
   ]
  },
  {
   "cell_type": "code",
   "execution_count": 79,
   "metadata": {},
   "outputs": [
    {
     "name": "stdout",
     "output_type": "stream",
     "text": [
      "Predicting 943 examples\n",
      "Test cases:      943\n",
      "Fails (rate):    929 (98.5%)\n",
      "\n",
      "Example fails:\n",
      "0.0 ('My pet rat eats corn. Is it normal for non-human animals to eat corn?', 'My pet snail eats corn. Is it normal for non-human animals to eat corn?')\n",
      "----\n",
      "0.1 ('My pet chicken eats cereal. Is it normal for non-human animals to eat cereal?', 'My pet dog eats cereal. Is it normal for non-human animals to eat cereal?')\n",
      "----\n",
      "0.0 ('My pet owl eats sugar. Is it normal for non-human animals to eat sugar?', 'My pet lobster eats sugar. Is it normal for non-human animals to eat sugar?')\n",
      "----\n"
     ]
    }
   ],
   "source": [
    "t = editor.template((\n",
    "    'My pet {animal1} eats {food}. Is it normal for non-human animals to eat {food}?',\n",
    "    'My pet {animal2} eats {food}. Is it normal for non-human animals to eat {food}?',\n",
    "    ),\n",
    "    animal=animals,\n",
    "    food=food,\n",
    "    remove_duplicates=True, \n",
    "    nsamples=1000)\n",
    "name = 'Different animals' \n",
    "desc = 'Ask the same question about two different pet animals, expect prediction to be 0'\n",
    "test = MFT(**t, labels=1, name=name, capability = 'Vocabulary',\n",
    "          description=desc)\n",
    "test.run(new_pp)\n",
    "test.summary(n=3)\n",
    "# suite.add(test)"
   ]
  },
  {
   "cell_type": "code",
   "execution_count": 39,
   "metadata": {},
   "outputs": [
    {
     "data": {
      "application/vnd.jupyter.widget-view+json": {
       "model_id": "17d32478672a44ea9d277422c3552457",
       "version_major": 2,
       "version_minor": 0
      },
      "text/plain": [
       "TemplateEditor(bert_suggests=['arm', 'leg', 'wrist', 'back', 'hand', 'neck', 'foot', 'ankle', 'nose', 'thumb',…"
      ]
     },
     "metadata": {},
     "output_type": "display_data"
    }
   ],
   "source": [
    "editor.visual_suggest('I broke my {mask} playing tennis.')"
   ]
  },
  {
   "cell_type": "code",
   "execution_count": 55,
   "metadata": {},
   "outputs": [
    {
     "data": {
      "text/plain": [
       "'finger, forearm, feet, head, foot, elbow, nose, back, heart, shoulder, skull, toe, hip, neck, body, thumb, rib, knee, jaw, heel, thigh, ankle, arm, wrist, eye, spine, leg, butt, teeth, skin, bone, hand, face'"
      ]
     },
     "execution_count": 55,
     "metadata": {},
     "output_type": "execute_result"
    }
   ],
   "source": [
    "nouns = editor.selected_suggestions\n",
    "nouns = list(set([x.rstrip('s') for x in nouns]))\n",
    "', '.join(nouns)"
   ]
  },
  {
   "cell_type": "code",
   "execution_count": 58,
   "metadata": {},
   "outputs": [
    {
     "name": "stdout",
     "output_type": "stream",
     "text": [
      "Predicting 965 examples\n",
      "Test cases:      965\n",
      "Fails (rate):    270 (28.0%)\n",
      "\n",
      "Example fails:\n",
      "0.9 ('I hurt my foot last time I played soccer. Should I never play again?', 'I hurt my knee last time I played soccer. Should I never play again?')\n",
      "----\n",
      "0.6 ('I hurt my back last time I played soccer. Is this going to impact my performance?', 'I hurt my elbow last time I played soccer. Is this going to impact my performance?')\n",
      "----\n",
      "0.9 ('I hurt my knee last time I played tennis. Is this a common injury?', 'I hurt my foot last time I played tennis. Is this a common injury?')\n",
      "----\n"
     ]
    }
   ],
   "source": [
    "t = editor.template((\n",
    "    'I hurt my {n} last time I played {sport}. {followup}',\n",
    "    'I hurt my {n2} last time I played {sport}. {followup}',\n",
    "    ),\n",
    "    n=nouns,\n",
    "    sport=['tennis', 'golf', 'soccer', 'football'],\n",
    "    followup=['Is this going to impact my performance?',\n",
    "              'Should I never play again?',\n",
    "              'Is this a common injury?',\n",
    "             'Is it normal to hurt this part of the body?',],\n",
    "    remove_duplicates=True, \n",
    "    nsamples=1000)\n",
    "name = 'Different injuries' \n",
    "desc = 'Question antecedent mentions differnet injuries, should not be duplicates.'\n",
    "test = MFT(**t, labels=0, name=name, capability = 'Vocabulary',\n",
    "          description=desc)\n",
    "test.run(new_pp)\n",
    "test.summary(n=3)\n",
    "# suite.add(test)"
   ]
  },
  {
   "cell_type": "markdown",
   "metadata": {},
   "source": [
    "### Taxonomy"
   ]
  },
  {
   "cell_type": "markdown",
   "metadata": {},
   "source": [
    "Antonyms"
   ]
  },
  {
   "cell_type": "code",
   "execution_count": 123,
   "metadata": {},
   "outputs": [
    {
     "data": {
      "text/plain": [
       "[(['modern'], ' How can I become more modern?', 2.6216812133789062),\n",
       " (['advanced'], ' How can I become more advanced?', 4.115582466125488)]"
      ]
     },
     "execution_count": 123,
     "metadata": {},
     "output_type": "execute_result"
    }
   ],
   "source": [
    "e"
   ]
  },
  {
   "cell_type": "code",
   "execution_count": 158,
   "metadata": {},
   "outputs": [
    {
     "name": "stdout",
     "output_type": "stream",
     "text": [
      "('spiritual', 'religious'),\n",
      "('anxious', 'nervous'),\n",
      "('activist', 'militant'),\n",
      "('lonely', 'alone', 'solitary'),\n",
      "('strict', 'rigid', 'stern'),\n",
      "('important', 'authoritative', 'significant'),\n",
      "('progressive', 'liberal', 'imperfect'),\n",
      "('organized', 'organised', 'direct'),\n",
      "('religious', 'spiritual'),\n",
      "('positive', 'confident'),\n",
      "('corrupt', 'corrupted'),\n",
      "('critical', 'decisive', 'vital'),\n",
      "('tolerant', 'resistant', 'liberal', 'kind'),\n",
      "('thoughtful', 'attentive'),\n",
      "('healthy', 'intelligent', 'sound', 'respectable'),\n",
      "('rude', 'primitive', 'crude'),\n",
      "('kind', 'tolerant'),\n",
      "('nervous', 'anxious'),\n",
      "('consistent', 'uniform', 'logical', 'coherent'),\n",
      "('hungry', 'thirsty'),\n",
      "('aware', 'mindful'),\n",
      "('evil', 'vicious'),\n",
      "('mean', 'average', 'hateful'),\n",
      "('needy', 'impoverished'),\n",
      "('charitable', 'sympathetic', 'benevolent'),\n",
      "('vocal', 'outspoken'),\n",
      "('disconnected', 'confused', 'fragmented'),\n",
      "('demanding', 'exact'),\n",
      "('individual', 'single', 'private', 'person'),\n",
      "('independent', 'autonomous'),\n",
      "('grateful', 'thankful'),\n",
      "('unhappy', 'distressed'),\n",
      "('ethical', 'honorable'),\n",
      "('active', 'dynamic', 'alive'),\n",
      "('mindful', 'aware'),\n",
      "('sensitive', 'sensible'),\n",
      "('hateful', 'mean'),\n",
      "('controlling', 'moderate', 'control'),\n",
      "('committed', 'attached'),\n",
      "('militant', 'competitive', 'activist'),\n",
      "('competitive', 'militant'),\n",
      "('fit', 'set'),\n",
      "('intelligent', 'healthy', 'sound', 'thinking'),\n",
      "('scared', 'frightened'),\n",
      "('honest', 'true', 'good', 'reliable', 'honorable', 'fair'),\n",
      "('fat', 'productive', 'rich', 'fatty'),\n",
      "('authoritarian', 'dictator'),\n",
      "('capable', 'open', 'able'),\n",
      "('bad', 'sorry', 'tough', 'risky', 'spoiled', 'defective'),\n",
      "('cautious', 'conservative', 'timid'),\n",
      "('organised', 'organized', 'direct', 'engineer'),\n",
      "('disruptive', 'troubled'),\n",
      "('smart', 'wise', 'chic', 'bright'),\n",
      "('hopeful', 'promising', 'bright'),\n",
      "('conservative', 'cautious'),\n",
      "('confident', 'positive'),\n",
      "('emotional', 'excited'),\n",
      "('specific', 'particular'),\n",
      "('efficient', 'effective'),\n",
      "('alienated', 'alien', 'estranged'),\n",
      "('knowledgeable', 'learned', 'intimate'),\n",
      "('free', 'liberal', 'innocent'),\n",
      "('biased', 'bias'),\n",
      "('clear', 'open', 'clean', 'light', 'clearly'),\n",
      "('addicted', 'addict'),\n",
      "('upset', 'worried', 'broken', 'confused', 'distressed', 'disturbed'),\n",
      "('fearful', 'terrible', 'awful', 'cowardly'),\n",
      "('so', 'then'),\n",
      "('insecure', 'unsafe'),\n",
      "('depressed', 'blue'),\n",
      "('humble', 'modest', 'small'),\n",
      "('radical', 'revolutionary'),\n",
      "('enlightened', 'educated', 'clear'),\n",
      "('passive', 'inactive', 'peaceful'),\n",
      "('dependent', 'qualified'),\n",
      "('desperate', 'heroic'),\n",
      "('ambitious', 'challenging'),\n",
      "('shy', 'timid', 'unsure'),\n",
      "('frustrated', 'disappointed', 'queer', 'defeated'),\n",
      "('alone', 'lonely', 'solitary'),\n",
      "('rigid', 'strict', 'stiff', 'fixed'),\n",
      "('extremist', 'radical'),\n",
      "('understanding', 'savvy'),\n",
      "('worried', 'upset'),\n",
      "('courageous', 'brave'),\n",
      "('educated', 'enlightened'),\n",
      "('professional', 'pro'),\n",
      "('authentic', 'reliable'),\n",
      "('resilient', 'live'),\n",
      "('stressed', 'stress'),\n",
      "('inspired', 'divine'),\n",
      "('effective', 'efficient'),\n",
      "('open', 'capable', 'clear', 'candid', 'receptive'),\n",
      "('suspicious', 'suspect', 'wary'),\n",
      "('innovative', 'modern', 'advanced')\n"
     ]
    }
   ],
   "source": [
    "tmp = []\n",
    "x = editor.suggest('How can I become more {mask}?')\n",
    "x += editor.suggest('How can I become less {mask}?')\n",
    "for a in set(x):\n",
    "    e = editor.synonyms('How can I become {moreless} %s?' % a, a, moreless=['more', 'less'])\n",
    "    if e:\n",
    "#         print(a, [b[0][0] for b in e] )\n",
    "        tmp.append([a] + e)\n",
    "#         opps.append((a, e[0][0][0]))\n",
    "print(',\\n'.join([str(tuple(x)) for x in tmp]))"
   ]
  },
  {
   "cell_type": "code",
   "execution_count": 208,
   "metadata": {},
   "outputs": [],
   "source": [
    "synonyms = [ ('spiritual', 'religious'), ('angry', 'furious'), ('organized', 'organised'), ('vocal', 'outspoken'), ('grateful', 'thankful'), ('intelligent', 'smart'), ('humble', 'modest'), ('courageous', 'brave'), ]"
   ]
  },
  {
   "cell_type": "code",
   "execution_count": 180,
   "metadata": {},
   "outputs": [
    {
     "name": "stdout",
     "output_type": "stream",
     "text": [
      "Predicting 6000 examples\n",
      "Test cases:      6000\n",
      "Fails (rate):    1186 (19.8%)\n",
      "\n",
      "Example fails:\n",
      "0.3 ('How can I become more spiritual?', 'How can I become more religious?')\n",
      "----\n",
      "0.0 ('How can I become less vocal?', 'How can I become less outspoken?')\n",
      "----\n",
      "0.0 ('How can I become more outspoken?', 'How can I become more vocal?')\n",
      "----\n"
     ]
    }
   ],
   "source": [
    "\n",
    "t = editor.template([\n",
    "    (\n",
    "    'How can I become more {x[0]}?',\n",
    "    'How can I become more {x[1]}?',\n",
    "    ),\n",
    "    (\n",
    "    'How can I become more {x[1]}?',\n",
    "    'How can I become more {x[0]}?',\n",
    "    ),\n",
    "    (\n",
    "    'How can I become less {x[0]}?',\n",
    "    'How can I become less {x[1]}?',\n",
    "    ),\n",
    "    (\n",
    "    'How can I become less {x[1]}?',\n",
    "    'How can I become less {x[0]}?',\n",
    "    ),\n",
    "    (\n",
    "    'How can I become {a:x[0]} person?',\n",
    "    'How can I become {a:x[1]} person?',\n",
    "    ),\n",
    "    (\n",
    "    'How can I become {a:x[1]} person?',\n",
    "    'How can I become {a:x[0]} person?',\n",
    "    ),\n",
    "],\n",
    "    unroll=True,\n",
    "    x=synonyms,\n",
    "    remove_duplicates=True, \n",
    "    nsamples=1000)\n",
    "name = 'synonyms' \n",
    "desc = ''\n",
    "test = MFT(**t, labels=1, name=name, capability = 'Taxonomy',\n",
    "          description=desc)\n",
    "test.run(new_pp)\n",
    "test.summary(n=3)\n",
    "# suite.add(test)"
   ]
  },
  {
   "cell_type": "code",
   "execution_count": 264,
   "metadata": {},
   "outputs": [],
   "source": [
    "import re\n",
    "def replace_pairs(pairs):\n",
    "    def replace_z(text):\n",
    "        ret = []\n",
    "        for x, y in pairs:\n",
    "            t = re.sub(r'\\b%s\\b' % x, y, text )\n",
    "            if t != text:\n",
    "                ret.append((text, t))\n",
    "            if y == 'smart':\n",
    "                continue\n",
    "            t = re.sub(r'\\b%s\\b' % y, x, text )\n",
    "            if t != text:\n",
    "                ret.append((text, t))\n",
    "        return list(set(ret))\n",
    "    return replace_z"
   ]
  },
  {
   "cell_type": "code",
   "execution_count": 265,
   "metadata": {},
   "outputs": [
    {
     "name": "stdout",
     "output_type": "stream",
     "text": [
      "Predicting 168 examples\n",
      "Test cases:      168\n",
      "Fails (rate):    0 (0.0%)\n"
     ]
    }
   ],
   "source": [
    "t = Perturb.perturb(list(all_questions), replace_pairs(synonyms), nsamples=200, keep_original=False)\n",
    "test = INV(t.data, threshold=0.1)\n",
    "test.run(new_pp)\n",
    "test.summary(n=3)\n"
   ]
  },
  {
   "cell_type": "markdown",
   "metadata": {},
   "source": [
    "Antonyms"
   ]
  },
  {
   "cell_type": "code",
   "execution_count": 95,
   "metadata": {},
   "outputs": [],
   "source": [
    "opps = []\n",
    "x = editor.suggest('How can I become more {mask}?')\n",
    "x += editor.suggest('How can I become less {mask}?')\n",
    "for a in set(x):\n",
    "    e = editor.tg.antonyms('How can I become more %s?' % a, a)\n",
    "    if e:\n",
    "#         print(a, e[0][0][0])\n",
    "        opps.append((a, e[0][0][0]))"
   ]
  },
  {
   "cell_type": "code",
   "execution_count": 183,
   "metadata": {},
   "outputs": [
    {
     "name": "stdout",
     "output_type": "stream",
     "text": [
      "('progressive', 'conservative'),('religious', 'secular'),('positive', 'negative', 'neutral'),('defensive', 'offensive'),('rude', 'civil', 'polite'),('hungry', 'thirsty'),('optimistic', 'pessimistic'),('stupid', 'intelligent', 'smart'),('negative', 'positive'),('individual', 'common'),('unhappy', 'happy'),('active', 'passive'),('impatient', 'patient'),('powerless', 'powerful'),('visible', 'invisible'),('fat', 'lean', 'thin'),('bad', 'good'),('cautious', 'brave'),('organic', 'functional'),('smart', 'stupid'),('hopeful', 'hopeless'),('conservative', 'liberal', 'progressive'),('emotional', 'intellectual'),('specific', 'general'),('conspicuous', 'invisible'),('insecure', 'secure'),('humble', 'proud'),('passive', 'active'),('dependent', 'independent'),('pessimistic', 'optimistic'),('shy', 'confident'),('irresponsible', 'responsible'),('courageous', 'fearful'),('capitalist', 'socialist')\n"
     ]
    }
   ],
   "source": [
    "opps = []\n",
    "x = editor.suggest('How can I become more {mask}?')\n",
    "x += editor.suggest('How can I become less {mask}?')\n",
    "for a in set(x):\n",
    "    e = editor.antonyms('How can I become {moreless} %s?' % a, a, moreless=['more', 'less'])\n",
    "    if e:\n",
    "#         print(a, [b[0][0] for b in e] )\n",
    "        opps.append([a] + e)\n",
    "#         opps.append((a, e[0][0][0]))\n",
    "print(','.join([str(tuple(x)) for x in opps]))"
   ]
  },
  {
   "cell_type": "code",
   "execution_count": 184,
   "metadata": {},
   "outputs": [],
   "source": [
    "opps = [('progressive', 'conservative'),('religious', 'secular'),('positive', 'negative'),('defensive', 'offensive'),('rude',  'polite'),('optimistic', 'pessimistic'),('stupid', 'smart'),('negative', 'positive'),('unhappy', 'happy'),('active', 'passive'),('impatient', 'patient'),('powerless', 'powerful'),('visible', 'invisible'),('fat', 'thin'),('bad', 'good'),('cautious', 'brave'), ('hopeful', 'hopeless'),('insecure', 'secure'),('humble', 'proud'),('passive', 'active'),('dependent', 'independent'),('pessimistic', 'optimistic'),('irresponsible', 'responsible'),('courageous', 'fearful')]"
   ]
  },
  {
   "cell_type": "code",
   "execution_count": null,
   "metadata": {},
   "outputs": [],
   "source": []
  },
  {
   "cell_type": "code",
   "execution_count": 173,
   "metadata": {},
   "outputs": [
    {
     "name": "stdout",
     "output_type": "stream",
     "text": [
      "Predicting 2000 examples\n",
      "Test cases:      2000\n",
      "Fails (rate):    790 (39.5%)\n",
      "\n",
      "Example fails:\n",
      "0.9 ('How can I become less secular?', 'How can I become more secular?')\n",
      "----\n",
      "0.7 ('How can I become more irresponsible?', 'How can I become less irresponsible?')\n",
      "----\n",
      "0.6 ('How can I become more pessimistic?', 'How can I become less pessimistic?')\n",
      "----\n"
     ]
    },
    {
     "ename": "Exception",
     "evalue": "There is already a test named More != Less suite. Run with overwrite=True to overwrite",
     "output_type": "error",
     "traceback": [
      "\u001b[0;31m---------------------------------------------------------------------------\u001b[0m",
      "\u001b[0;31mException\u001b[0m                                 Traceback (most recent call last)",
      "\u001b[0;32m<ipython-input-173-6914276e67cb>\u001b[0m in \u001b[0;36m<module>\u001b[0;34m\u001b[0m\n\u001b[1;32m     17\u001b[0m \u001b[0mtest\u001b[0m\u001b[0;34m.\u001b[0m\u001b[0mrun\u001b[0m\u001b[0;34m(\u001b[0m\u001b[0mnew_pp\u001b[0m\u001b[0;34m)\u001b[0m\u001b[0;34m\u001b[0m\u001b[0;34m\u001b[0m\u001b[0m\n\u001b[1;32m     18\u001b[0m \u001b[0mtest\u001b[0m\u001b[0;34m.\u001b[0m\u001b[0msummary\u001b[0m\u001b[0;34m(\u001b[0m\u001b[0mn\u001b[0m\u001b[0;34m=\u001b[0m\u001b[0;36m3\u001b[0m\u001b[0;34m)\u001b[0m\u001b[0;34m\u001b[0m\u001b[0;34m\u001b[0m\u001b[0m\n\u001b[0;32m---> 19\u001b[0;31m \u001b[0msuite\u001b[0m\u001b[0;34m.\u001b[0m\u001b[0madd\u001b[0m\u001b[0;34m(\u001b[0m\u001b[0mtest\u001b[0m\u001b[0;34m)\u001b[0m\u001b[0;34m\u001b[0m\u001b[0;34m\u001b[0m\u001b[0m\n\u001b[0m",
      "\u001b[0;32m~/work/checklist/checklist/test_suite.py\u001b[0m in \u001b[0;36madd\u001b[0;34m(self, test, name, capability, description, format_example_fn, print_fn, overwrite)\u001b[0m\n\u001b[1;32m     28\u001b[0m             \u001b[0mdescription\u001b[0m \u001b[0;34m=\u001b[0m \u001b[0mtest\u001b[0m\u001b[0;34m.\u001b[0m\u001b[0mdescription\u001b[0m\u001b[0;34m\u001b[0m\u001b[0;34m\u001b[0m\u001b[0m\n\u001b[1;32m     29\u001b[0m         \u001b[0;32mif\u001b[0m \u001b[0mname\u001b[0m \u001b[0;32min\u001b[0m \u001b[0mself\u001b[0m\u001b[0;34m.\u001b[0m\u001b[0mtests\u001b[0m \u001b[0;32mand\u001b[0m \u001b[0;32mnot\u001b[0m \u001b[0moverwrite\u001b[0m\u001b[0;34m:\u001b[0m\u001b[0;34m\u001b[0m\u001b[0;34m\u001b[0m\u001b[0m\n\u001b[0;32m---> 30\u001b[0;31m             \u001b[0;32mraise\u001b[0m\u001b[0;34m(\u001b[0m\u001b[0mException\u001b[0m\u001b[0;34m(\u001b[0m\u001b[0;34m'There is already a test named %s suite. Run with overwrite=True to overwrite'\u001b[0m \u001b[0;34m%\u001b[0m \u001b[0mname\u001b[0m\u001b[0;34m)\u001b[0m\u001b[0;34m)\u001b[0m\u001b[0;34m\u001b[0m\u001b[0;34m\u001b[0m\u001b[0m\n\u001b[0m\u001b[1;32m     31\u001b[0m         \u001b[0;32mif\u001b[0m \u001b[0mname\u001b[0m \u001b[0;32min\u001b[0m \u001b[0mself\u001b[0m\u001b[0;34m.\u001b[0m\u001b[0minfo\u001b[0m\u001b[0;34m:\u001b[0m\u001b[0;34m\u001b[0m\u001b[0;34m\u001b[0m\u001b[0m\n\u001b[1;32m     32\u001b[0m             \u001b[0;32mdel\u001b[0m \u001b[0mself\u001b[0m\u001b[0;34m.\u001b[0m\u001b[0minfo\u001b[0m\u001b[0;34m[\u001b[0m\u001b[0mname\u001b[0m\u001b[0;34m]\u001b[0m\u001b[0;34m\u001b[0m\u001b[0;34m\u001b[0m\u001b[0m\n",
      "\u001b[0;31mException\u001b[0m: There is already a test named More != Less suite. Run with overwrite=True to overwrite"
     ]
    }
   ],
   "source": [
    "\n",
    "t = editor.template([(\n",
    "    'How can I become more {x[0]}?',\n",
    "    'How can I become less {x[0]}?',\n",
    "    ),\n",
    "    (\n",
    "    'How can I become less {x[1]}?',\n",
    "    'How can I become more {x[1]}?',\n",
    "    )],\n",
    "    unroll=True,\n",
    "    x=opps,\n",
    "    remove_duplicates=True, \n",
    "    nsamples=1000)\n",
    "name = 'More != Less' \n",
    "desc = ''\n",
    "test = MFT(**t, labels=0, name=name, capability = 'Taxonomy',\n",
    "          description=desc)\n",
    "test.run(new_pp)\n",
    "test.summary(n=3)\n",
    "suite.add(test)"
   ]
  },
  {
   "cell_type": "code",
   "execution_count": 174,
   "metadata": {},
   "outputs": [
    {
     "name": "stdout",
     "output_type": "stream",
     "text": [
      "Predicting 2000 examples\n",
      "Test cases:      2000\n",
      "Fails (rate):    1349 (67.5%)\n",
      "\n",
      "Example fails:\n",
      "0.0 ('How can I become more active?', 'How can I become less passive?')\n",
      "----\n",
      "0.2 ('How can I become more religious?', 'How can I become less secular?')\n",
      "----\n",
      "0.0 ('How can I become less powerless?', 'How can I become more powerful?')\n",
      "----\n"
     ]
    }
   ],
   "source": [
    "\n",
    "t = editor.template([(\n",
    "    \n",
    "    'How can I become more {x[0]}?',\n",
    "    'How can I become less {x[1]}?',\n",
    "    ),\n",
    "    (\n",
    "    'How can I become less {x[0]}?',\n",
    "    'How can I become more {x[1]}?',\n",
    "    )],\n",
    "    unroll=True,\n",
    "    x=opps,\n",
    "    remove_duplicates=True, \n",
    "    nsamples=1000)\n",
    "name = 'More X = Less antonym(X)' \n",
    "desc = ''\n",
    "test = MFT(**t, labels=1, name=name, capability = 'Taxonomy',\n",
    "          description=desc)\n",
    "test.run(new_pp)\n",
    "test.summary(n=3)\n",
    "# suite.add(test)"
   ]
  },
  {
   "cell_type": "markdown",
   "metadata": {},
   "source": [
    "DIR version (kinda bad, won't add to suite)"
   ]
  },
  {
   "cell_type": "code",
   "execution_count": 280,
   "metadata": {},
   "outputs": [
    {
     "name": "stdout",
     "output_type": "stream",
     "text": [
      "Predicting 519 examples\n",
      "Test cases:      500\n",
      "Fails (rate):    193 (38.6%)\n",
      "\n",
      "Example fails:\n",
      "0.6 ('Is it a bad time to buy a condo or a house in the Bay Area in 2017?', 'Is it a good time to buy a condo or a house in the Bay Area in 2017?')\n",
      "----\n",
      "0.9 ('I am a 26 year old male and I love hanging out with people who are older than me. Is that a bad sign?', 'I am a 26 year old male and I love hanging out with people who are older than me. Is that a good sign?')\n",
      "----\n",
      "0.9 ('Do people regret their tattoos often? Even if its a good tattoo?', 'Do people regret their tattoos often? Even if its a bad tattoo?')\n",
      "----\n",
      "0.7 ('Were Jews responsible for the killing of Jesus?', 'Were Jews irresponsible for the killing of Jesus?')\n",
      "----\n",
      "0.6 ('Which is a good inpatient drug and alcohol rehab center near Warren County GA?', 'Which is a bad inpatient drug and alcohol rehab center near Warren County GA?')\n",
      "----\n"
     ]
    }
   ],
   "source": [
    "t = Perturb.perturb(list(all_questions), replace_pairs(opps), nsamples=500, keep_original=False)\n",
    "test = DIR(t.data, expect=Expect.eq(0), agg_fn='all')\n",
    "test.run(new_pp)\n",
    "test.summary(n=5)"
   ]
  },
  {
   "cell_type": "markdown",
   "metadata": {},
   "source": [
    "## Robustness"
   ]
  },
  {
   "cell_type": "code",
   "execution_count": 29,
   "metadata": {},
   "outputs": [],
   "source": [
    "def wrap_apply_to_each(fn, both=False, *args, **kwargs):\n",
    "    def new_fn(qs, *args, **kwargs):\n",
    "        q1, q2 = qs\n",
    "        ret = []\n",
    "        fnq1 = fn(q1, *args, **kwargs)\n",
    "        fnq2 = fn(q2, *args, **kwargs)\n",
    "        if type(fnq1) != list:\n",
    "            fnq1 = [fnq1]\n",
    "        if type(fnq2) != list:\n",
    "            fnq2 = [fnq2]\n",
    "        ret.extend([(x, str(q2)) for x in fnq1])\n",
    "        ret.extend([(str(q1), x) for x in fnq2])\n",
    "        if both:\n",
    "            ret.extend([(x, x2) for x, x2 in itertools.product(fnq1, fnq2)])\n",
    "        return [x for x in ret if x[0] and x[1]]\n",
    "    return new_fn\n",
    "def wrap_apply_to_both(fn, *args, **kwargs):\n",
    "    def new_fn(qs, *args, **kwargs):\n",
    "        q1, q2 = qs\n",
    "        ret = []\n",
    "        fnq1 = fn(q1, *args, **kwargs)\n",
    "        fnq2 = fn(q2, *args, **kwargs)\n",
    "        if type(fnq1) != list:\n",
    "            fnq1 = [fnq1]\n",
    "        if type(fnq2) != list:\n",
    "            fnq2 = [fnq2]\n",
    "        ret.extend([(x, x2) for x, x2 in itertools.product(fnq1, fnq2)])\n",
    "        return [x for x in ret if x[0] and x[1]]\n",
    "    return new_fn"
   ]
  },
  {
   "cell_type": "markdown",
   "metadata": {},
   "source": [
    "Typos"
   ]
  },
  {
   "cell_type": "code",
   "execution_count": 42,
   "metadata": {},
   "outputs": [],
   "source": [
    "t = Perturb.perturb(qs, wrap_apply_to_each(Perturb.add_typos), nsamples=500)\n",
    "test = INV(t.data)\n",
    "# test.run(new_pp)\n",
    "# test.summary(3)\n",
    "suite.add(test, 'add one typo', 'Robustness', 'TODO_DESCRIPTION')"
   ]
  },
  {
   "cell_type": "markdown",
   "metadata": {},
   "source": [
    "Contractions"
   ]
  },
  {
   "cell_type": "code",
   "execution_count": 44,
   "metadata": {},
   "outputs": [
    {
     "name": "stdout",
     "output_type": "stream",
     "text": [
      "Predicting 1479 examples\n",
      "Test cases:      500\n",
      "Fails (rate):    13 (2.6%)\n",
      "\n",
      "Example fails:\n",
      "0.6 ('Can any body explain about meshing in FEA?', \"Altair Hypermesh: What is meshing in ansys? Please answer in detail in lay man's language?\")\n",
      "0.4 ('Can any body explain about meshing in FEA?', \"Altair Hypermesh: What's meshing in ansys? Please answer in detail in lay man's language?\")\n",
      "\n",
      "----\n",
      "0.5 ('How do you know if someone is following you back on Snapchat?', \"How do you check if someone is following you on Snapchat if you don't follow them?\")\n",
      "0.1 ('How do you know if someone is following you back on Snapchat?', 'How do you check if someone is following you on Snapchat if you do not follow them?')\n",
      "\n",
      "----\n",
      "0.7 (\"Who was the kindest/friendliest celebrity you've ever met?\", \"Who's the nicest celebrity you've ever met?\")\n",
      "0.4 ('Who was the kindest/friendliest celebrity you have ever met?', 'Who is the nicest celebrity you have ever met?')\n",
      "0.5 (\"Who was the kindest/friendliest celebrity you've ever met?\", 'Who is the nicest celebrity you have ever met?')\n",
      "\n",
      "----\n"
     ]
    }
   ],
   "source": [
    "t = Perturb.perturb(qs, wrap_apply_to_each(Perturb.contractions, both=True), nsamples=500)\n",
    "test = INV(**t)\n",
    "test.run(new_pp)\n",
    "test.summary(3)\n",
    "suite.add(test, 'contractions', 'Robustness', 'TODO_DESCRIPTION')"
   ]
  },
  {
   "cell_type": "markdown",
   "metadata": {},
   "source": [
    "## Ner"
   ]
  },
  {
   "cell_type": "markdown",
   "metadata": {},
   "source": [
    "### Change same name, number, location in both"
   ]
  },
  {
   "cell_type": "markdown",
   "metadata": {},
   "source": [
    "Names"
   ]
  },
  {
   "cell_type": "code",
   "execution_count": 143,
   "metadata": {},
   "outputs": [],
   "source": [
    "def change_both_wrapper(fn):\n",
    "    def change_both(qs):\n",
    "        q1, q2 = qs\n",
    "        seed = np.random.randint(100)\n",
    "        c1 = fn(q1, seed=seed, meta=True)\n",
    "        c2 = fn(q2, seed=seed, meta=True)\n",
    "        if not c1 or not c2:\n",
    "            return\n",
    "        c1, m1 = c1\n",
    "        c2, m2 = c2\n",
    "        return [(q1, q2) for q1, q2, m1, m2 in zip(c1, c2, m1, m2) if m1 == m2]\n",
    "    return change_both\n",
    "\n",
    "def change_each_wrapper(fn):\n",
    "    def change_one(qs, **kwargs):\n",
    "        q1, q2 = qs\n",
    "        seed = np.random.randint(100)\n",
    "        c1 = fn(q1, seed=seed, meta=True, **kwargs)\n",
    "        c2 = fn(q2, seed=seed, meta=True, **kwargs)\n",
    "        if not c1 or not c2:\n",
    "            return\n",
    "        c1, m1 = c1\n",
    "        c2, m2 = c2\n",
    "        ret = []\n",
    "        ret.extend([(q1_, str(q2)) for q1_, m1_ in zip(c1, m1) if m1_[0] in str(q2)])\n",
    "        ret.extend([(str(q1), q2_) for q2_, m2_ in zip(c2, m2) if m2_[0] in str(q1)])\n",
    "        return ret\n",
    "    return change_one\n",
    "    \n",
    "t = Perturb.perturb(parsed_qs, change_both_wrapper(Perturb.change_names), nsamples=500)\n",
    "test = INV(**t)\n",
    "test.run(new_pp)\n",
    "test.summary(3)\n",
    "suite.add(test, 'change same name in both questions', 'NER', 'TODO_DESCRIPTION')"
   ]
  },
  {
   "cell_type": "markdown",
   "metadata": {},
   "source": [
    "Locs"
   ]
  },
  {
   "cell_type": "code",
   "execution_count": 47,
   "metadata": {},
   "outputs": [
    {
     "name": "stdout",
     "output_type": "stream",
     "text": [
      "Predicting 5092 examples\n",
      "Test cases:      500\n",
      "Fails (rate):    52 (10.4%)\n",
      "\n",
      "Example fails:\n",
      "0.9 ('Is it safe for non-Muslims foreigners to visit Pakistan?', 'How safe is travelling in Pakistan?')\n",
      "0.2 ('Is it safe for non-Muslims foreigners to visit Japan?', 'How safe is travelling in Japan?')\n",
      "0.3 ('Is it safe for non-Muslims foreigners to visit Australia?', 'How safe is travelling in Australia?')\n",
      "\n",
      "----\n",
      "0.0 ('What does Pakistani people think about India?', 'What do pakisthani people think about India?')\n",
      "1.0 ('What does Pakistani people think about Netherlands?', 'What do pakisthani people think about Netherlands?')\n",
      "0.9 ('What does Pakistani people think about Gibraltar?', 'What do pakisthani people think about Gibraltar?')\n",
      "\n",
      "----\n",
      "1.0 ('Which are the best thrilling Hollywood movies?', 'What are the best Hollywood movies?')\n",
      "0.2 ('Which are the best thrilling Orland Park movies?', 'What are the best Orland Park movies?')\n",
      "0.4 ('Which are the best thrilling Lakeland movies?', 'What are the best Lakeland movies?')\n",
      "\n",
      "----\n"
     ]
    }
   ],
   "source": [
    "t = Perturb.perturb(parsed_qs, change_both_wrapper(Perturb.change_location), nsamples=500)\n",
    "test = INV(**t)\n",
    "test.run(new_pp)\n",
    "test.summary(3)\n",
    "suite.add(test, 'change same location in both questions', 'NER', 'TODO_DESCRIPTION')"
   ]
  },
  {
   "cell_type": "markdown",
   "metadata": {},
   "source": [
    "Numbers"
   ]
  },
  {
   "cell_type": "code",
   "execution_count": 53,
   "metadata": {},
   "outputs": [
    {
     "name": "stdout",
     "output_type": "stream",
     "text": [
      "Predicting 4958 examples\n",
      "Test cases:      500\n",
      "Fails (rate):    29 (5.8%)\n",
      "\n",
      "Example fails:\n",
      "0.7 ('What changes can we expect in education systems in the next 50 years?', 'How will teaching and the classroom change in the next 30-50 years?')\n",
      "0.1 ('What changes can we expect in education systems in the next 54 years?', 'How will teaching and the classroom change in the next 30-54 years?')\n",
      "\n",
      "----\n",
      "0.2 ('How do I get started for cds exam 2016?', 'How I can apply for cds exam 2016?')\n",
      "0.9 ('How do I get started for cds exam 1900?', 'How I can apply for cds exam 1900?')\n",
      "0.7 ('How do I get started for cds exam 1862?', 'How I can apply for cds exam 1862?')\n",
      "\n",
      "----\n",
      "0.4 ('Which is better iPhone 6s+ or iPhone 7?', 'Which is the best phone iPhone 6s plus or 7?')\n",
      "0.8 ('Which is better iPhone 6s+ or iPhone 6?', 'Which is the best phone iPhone 6s plus or 6?')\n",
      "0.8 ('Which is better iPhone 6s+ or iPhone 6?', 'Which is the best phone iPhone 6s plus or 6?')\n",
      "\n",
      "----\n"
     ]
    }
   ],
   "source": [
    "t = Perturb.perturb(parsed_qs, change_both_wrapper(Perturb.change_number), nsamples=500)\n",
    "test = INV(**t)\n",
    "test.run(new_pp)\n",
    "test.summary(3)\n",
    "suite.add(test, 'change same number in both questions', 'NER', 'TODO_DESCRIPTION')"
   ]
  },
  {
   "cell_type": "markdown",
   "metadata": {},
   "source": [
    "### Change name, loc, number in only one where orig prediction is duplicate"
   ]
  },
  {
   "cell_type": "markdown",
   "metadata": {},
   "source": [
    "Changing only first names"
   ]
  },
  {
   "cell_type": "code",
   "execution_count": 144,
   "metadata": {},
   "outputs": [
    {
     "name": "stdout",
     "output_type": "stream",
     "text": [
      "Predicting 9948 examples\n",
      "Test cases:      500\n",
      "After filtering: 289 (57.8%)\n",
      "Fails (rate):    256 (88.6%)\n",
      "\n",
      "Example fails:\n",
      "1.0 ('Is Star Wars or Harry Potter a bigger franchise?', 'What is a bigger franchise universe: Harry Potter or Star Wars?')\n",
      "1.0 ('Is Star Wars or Harry Potter a bigger franchise?', 'What is a bigger franchise universe: Jeremiah Potter or Star Wars?')\n",
      "1.0 ('Is Star Wars or Harry Potter a bigger franchise?', 'What is a bigger franchise universe: Aaron Potter or Star Wars?')\n",
      "\n",
      "----\n",
      "1.0 ('What should I do if Donald Trump wins the election?', 'What will you do now that Donald Trump is the President?')\n",
      "1.0 ('What should I do if Donald Trump wins the election?', 'What will you do now that Matthew Trump is the President?')\n",
      "1.0 ('What should I do if Donald Trump wins the election?', 'What will you do now that Bryan Trump is the President?')\n",
      "\n",
      "----\n",
      "1.0 ('What will happen if Donald Trump wins?', 'Why is Donald Trump supported so much? What will happen if he wins the election?')\n",
      "1.0 ('What will happen if Donald Trump wins?', 'Why is George Trump supported so much? What will happen if he wins the election?')\n",
      "1.0 ('What will happen if Donald Trump wins?', 'Why is Luke Trump supported so much? What will happen if he wins the election?')\n",
      "\n",
      "----\n"
     ]
    }
   ],
   "source": [
    "# t = Perturb.perturb(parsed_qs, wrap_apply_to_each(Perturb.change_names), nsamples=1500, first_only=True)\n",
    "t = Perturb.perturb(parsed_qs, change_each_wrapper(Perturb.change_names), nsamples=500, first_only=True)\n",
    "expect_fn = Expect.eq(0)\n",
    "expect_fn = Expect.slice_orig(expect_fn, lambda orig, *args: orig == 1)\n",
    "test = DIR(**t, expect=expect_fn)\n",
    "test.run(new_pp)\n",
    "test.summary(3)\n"
   ]
  },
  {
   "cell_type": "markdown",
   "metadata": {},
   "source": [
    "Changing first and last names"
   ]
  },
  {
   "cell_type": "code",
   "execution_count": 59,
   "metadata": {},
   "outputs": [
    {
     "name": "stdout",
     "output_type": "stream",
     "text": [
      "Predicting 23540 examples\n",
      "Test cases:      1500\n",
      "After filtering: 598 (39.9%)\n",
      "Fails (rate):    279 (46.7%)\n",
      "\n",
      "Example fails:\n",
      "1.0 ('Donald Trump says he saw thousands cheering in New Jersey when the Twin Towers came down on 9/11. Is this claim likely to be accurate?', 'Is Donald Trump lying about seeing thousands and thousands of Muslims cheering in New Jersey when the World Trade Center came down on 9/11?')\n",
      "0.8 ('David Ross says he saw thousands cheering in New Jersey when the Twin Towers came down on 9/11. Is this claim likely to be accurate?', 'Is Donald Trump lying about seeing thousands and thousands of Muslims cheering in New Jersey when the World Trade Center came down on 9/11?')\n",
      "0.7 ('Daniel Price says he saw thousands cheering in New Jersey when the Twin Towers came down on 9/11. Is this claim likely to be accurate?', 'Is Donald Trump lying about seeing thousands and thousands of Muslims cheering in New Jersey when the World Trade Center came down on 9/11?')\n",
      "\n",
      "----\n",
      "1.0 ('\"Is it possible that Donald Trump is campaigning very badly \"\"intentionally\"\" in order to Hillary Clinton can win?\"', 'Is it possible that Trump entered the Presidential campaign to ensure that Hillary Clinton wins?')\n",
      "1.0 ('\"Is it possible that Donald Trump is campaigning very badly \"\"intentionally\"\" in order to Jessica Stewart can win?\"', 'Is it possible that Trump entered the Presidential campaign to ensure that Hillary Clinton wins?')\n",
      "1.0 ('\"Is it possible that Donald Trump is campaigning very badly \"\"intentionally\"\" in order to Melissa Morris can win?\"', 'Is it possible that Trump entered the Presidential campaign to ensure that Hillary Clinton wins?')\n",
      "\n",
      "----\n",
      "1.0 ('What side dishes should be served with Mac and cheese?', \"What type of side dish goes great with Mac N' Cheese?\")\n",
      "1.0 ('What side dishes should be served with Mac and cheese?', \"What type of side dish goes great with Mac N' Cheese?\")\n",
      "1.0 ('What side dishes should be served with Mac and cheese?', \"What type of side dish goes great with Mac N' Cheese?\")\n",
      "\n",
      "----\n"
     ]
    }
   ],
   "source": [
    "# t = Perturb.perturb(parsed_qs, wrap_apply_to_each(Perturb.change_names), nsamples=1500)\n",
    "t = Perturb.perturb(parsed_qs, change_each_wrapper(Perturb.change_names), nsamples=1500)\n",
    "test = DIR(**t, expect=expect_fn)\n",
    "test.run(new_pp)\n",
    "test.summary(3)\n",
    "suite.add(test, 'change first and last name in only one question', 'NER', 'TODO_DESCRIPTION')\n"
   ]
  },
  {
   "cell_type": "markdown",
   "metadata": {},
   "source": [
    "Locs"
   ]
  },
  {
   "cell_type": "code",
   "execution_count": 61,
   "metadata": {},
   "outputs": [
    {
     "name": "stdout",
     "output_type": "stream",
     "text": [
      "Predicting 23080 examples\n",
      "Test cases:      1500\n",
      "After filtering: 491 (32.7%)\n",
      "Fails (rate):    219 (44.6%)\n",
      "\n",
      "Example fails:\n",
      "1.0 ('Is CAT after b.tech in mechanical engineering useful?', 'Will I have a great career if I go for B.Tech in mechanical engineering in a state level college in India?')\n",
      "1.0 ('Is CAT after b.tech in mechanical engineering useful?', 'Will I have a great career if I go for B.Tech in mechanical engineering in a state level college in United States?')\n",
      "1.0 ('Is CAT after b.tech in mechanical engineering useful?', 'Will I have a great career if I go for B.Tech in mechanical engineering in a state level college in Georgia?')\n",
      "\n",
      "----\n",
      "1.0 ('Can the Supreme Court of India interfere on the banned of 500 and 1000 notes by the government?', 'Can supreme court in India cancel government decision on demonetization?')\n",
      "1.0 ('Can the Supreme Court of India interfere on the banned of 500 and 1000 notes by the government?', 'Can supreme court in St. Martin (French part) cancel government decision on demonetization?')\n",
      "1.0 ('Can the Supreme Court of India interfere on the banned of 500 and 1000 notes by the government?', 'Can supreme court in Nauru cancel government decision on demonetization?')\n",
      "\n",
      "----\n",
      "1.0 ('Reservation should be abolished?', 'Should reservation be removed from India?')\n",
      "1.0 ('Reservation should be abolished?', 'Should reservation be removed from Czech Republic?')\n",
      "1.0 ('Reservation should be abolished?', 'Should reservation be removed from Fiji?')\n",
      "\n",
      "----\n"
     ]
    }
   ],
   "source": [
    "# t = Perturb.perturb(parsed_qs, wrap_apply_to_each(Perturb.change_location), nsamples=1500)\n",
    "t = Perturb.perturb(parsed_qs, change_each_wrapper(Perturb.change_location), nsamples=1500)\n",
    "test = DIR(**t, expect=expect_fn)\n",
    "test.run(new_pp)\n",
    "test.summary(3)\n",
    "suite.add(test, 'change loc in only one question', 'NER', 'TODO_DESCRIPTION')"
   ]
  },
  {
   "cell_type": "markdown",
   "metadata": {},
   "source": [
    "numbers"
   ]
  },
  {
   "cell_type": "code",
   "execution_count": 145,
   "metadata": {},
   "outputs": [
    {
     "name": "stdout",
     "output_type": "stream",
     "text": [
      "Predicting 9519 examples\n",
      "Test cases:      500\n",
      "After filtering: 307 (61.4%)\n",
      "Fails (rate):    261 (85.0%)\n",
      "\n",
      "Example fails:\n",
      "1.0 ('Who is more likely to be the President of India in 2017?', 'Who should be elected as president of India in 2017?')\n",
      "1.0 ('Who is more likely to be the President of India in 2017?', 'Who should be elected as president of India in 2046?')\n",
      "1.0 ('Who is more likely to be the President of India in 2187?', 'Who should be elected as president of India in 2017?')\n",
      "\n",
      "----\n",
      "1.0 ('Which will be the best buy between Yamaha r3 and ninja 300?', 'Which one is better, yamaha r3 or kawasaki ninja 300?')\n",
      "1.0 ('Which will be the best buy between Yamaha r3 and ninja 300?', 'Which one is better, yamaha r3 or kawasaki ninja 301?')\n",
      "1.0 ('Which will be the best buy between Yamaha r3 and ninja 301?', 'Which one is better, yamaha r3 or kawasaki ninja 300?')\n",
      "\n",
      "----\n",
      "1.0 ('What will be the repercussions of banning Rs 500 and Rs 1000 notes on Indian economy?', 'How will the ban of 1000 and 500 rupee notes affect the Indian economy?')\n",
      "1.0 ('What will be the repercussions of banning Rs 500 and Rs 1000 notes on Indian economy?', 'How will the ban of 1092 and 500 rupee notes affect the Indian economy?')\n",
      "1.0 ('What will be the repercussions of banning Rs 500 and Rs 1000 notes on Indian economy?', 'How will the ban of 1000 and 504 rupee notes affect the Indian economy?')\n",
      "\n",
      "----\n"
     ]
    },
    {
     "ename": "Exception",
     "evalue": "There is already a test named change number in only one question suite. Run with overwrite=True to overwrite",
     "output_type": "error",
     "traceback": [
      "\u001b[0;31m---------------------------------------------------------------------------\u001b[0m",
      "\u001b[0;31mException\u001b[0m                                 Traceback (most recent call last)",
      "\u001b[0;32m<ipython-input-145-5e68b43749f4>\u001b[0m in \u001b[0;36m<module>\u001b[0;34m\u001b[0m\n\u001b[1;32m      4\u001b[0m \u001b[0mtest\u001b[0m\u001b[0;34m.\u001b[0m\u001b[0mrun\u001b[0m\u001b[0;34m(\u001b[0m\u001b[0mnew_pp\u001b[0m\u001b[0;34m)\u001b[0m\u001b[0;34m\u001b[0m\u001b[0;34m\u001b[0m\u001b[0m\n\u001b[1;32m      5\u001b[0m \u001b[0mtest\u001b[0m\u001b[0;34m.\u001b[0m\u001b[0msummary\u001b[0m\u001b[0;34m(\u001b[0m\u001b[0;36m3\u001b[0m\u001b[0;34m)\u001b[0m\u001b[0;34m\u001b[0m\u001b[0;34m\u001b[0m\u001b[0m\n\u001b[0;32m----> 6\u001b[0;31m \u001b[0msuite\u001b[0m\u001b[0;34m.\u001b[0m\u001b[0madd\u001b[0m\u001b[0;34m(\u001b[0m\u001b[0mtest\u001b[0m\u001b[0;34m,\u001b[0m \u001b[0;34m'change number in only one question'\u001b[0m\u001b[0;34m,\u001b[0m \u001b[0;34m'NER'\u001b[0m\u001b[0;34m,\u001b[0m \u001b[0;34m'TODO_DESCRIPTION'\u001b[0m\u001b[0;34m)\u001b[0m\u001b[0;34m\u001b[0m\u001b[0;34m\u001b[0m\u001b[0m\n\u001b[0m",
      "\u001b[0;32m~/work/checklist/checklist/test_suite.py\u001b[0m in \u001b[0;36madd\u001b[0;34m(self, test, name, capability, description, format_example_fn, print_fn, overwrite)\u001b[0m\n\u001b[1;32m     18\u001b[0m     \u001b[0;32mdef\u001b[0m \u001b[0madd\u001b[0m\u001b[0;34m(\u001b[0m\u001b[0mself\u001b[0m\u001b[0;34m,\u001b[0m \u001b[0mtest\u001b[0m\u001b[0;34m,\u001b[0m \u001b[0mname\u001b[0m\u001b[0;34m,\u001b[0m \u001b[0mcapability\u001b[0m\u001b[0;34m,\u001b[0m \u001b[0mdescription\u001b[0m\u001b[0;34m=\u001b[0m\u001b[0;32mNone\u001b[0m\u001b[0;34m,\u001b[0m \u001b[0mformat_example_fn\u001b[0m\u001b[0;34m=\u001b[0m\u001b[0;32mNone\u001b[0m\u001b[0;34m,\u001b[0m \u001b[0mprint_fn\u001b[0m\u001b[0;34m=\u001b[0m\u001b[0;32mNone\u001b[0m\u001b[0;34m,\u001b[0m \u001b[0moverwrite\u001b[0m\u001b[0;34m=\u001b[0m\u001b[0;32mFalse\u001b[0m\u001b[0;34m)\u001b[0m\u001b[0;34m:\u001b[0m\u001b[0;34m\u001b[0m\u001b[0;34m\u001b[0m\u001b[0m\n\u001b[1;32m     19\u001b[0m         \u001b[0;32mif\u001b[0m \u001b[0mname\u001b[0m \u001b[0;32min\u001b[0m \u001b[0mself\u001b[0m\u001b[0;34m.\u001b[0m\u001b[0mtests\u001b[0m \u001b[0;32mand\u001b[0m \u001b[0;32mnot\u001b[0m \u001b[0moverwrite\u001b[0m\u001b[0;34m:\u001b[0m\u001b[0;34m\u001b[0m\u001b[0;34m\u001b[0m\u001b[0m\n\u001b[0;32m---> 20\u001b[0;31m             \u001b[0;32mraise\u001b[0m\u001b[0;34m(\u001b[0m\u001b[0mException\u001b[0m\u001b[0;34m(\u001b[0m\u001b[0;34m'There is already a test named %s suite. Run with overwrite=True to overwrite'\u001b[0m \u001b[0;34m%\u001b[0m \u001b[0mname\u001b[0m\u001b[0;34m)\u001b[0m\u001b[0;34m)\u001b[0m\u001b[0;34m\u001b[0m\u001b[0;34m\u001b[0m\u001b[0m\n\u001b[0m\u001b[1;32m     21\u001b[0m         \u001b[0;32mif\u001b[0m \u001b[0mname\u001b[0m \u001b[0;32min\u001b[0m \u001b[0mself\u001b[0m\u001b[0;34m.\u001b[0m\u001b[0minfo\u001b[0m\u001b[0;34m:\u001b[0m\u001b[0;34m\u001b[0m\u001b[0;34m\u001b[0m\u001b[0m\n\u001b[1;32m     22\u001b[0m             \u001b[0;32mdel\u001b[0m \u001b[0mself\u001b[0m\u001b[0;34m.\u001b[0m\u001b[0minfo\u001b[0m\u001b[0;34m[\u001b[0m\u001b[0mname\u001b[0m\u001b[0;34m]\u001b[0m\u001b[0;34m\u001b[0m\u001b[0;34m\u001b[0m\u001b[0m\n",
      "\u001b[0;31mException\u001b[0m: There is already a test named change number in only one question suite. Run with overwrite=True to overwrite"
     ]
    }
   ],
   "source": [
    "# t = Perturb.perturb(parsed_qs, wrap_apply_to_each(Perturb.change_number), nsamples=1500)\n",
    "t = Perturb.perturb(parsed_qs, change_each_wrapper(Perturb.change_number), nsamples=1500)\n",
    "test = DIR(**t, expect=expect_fn)\n",
    "test.run(new_pp)\n",
    "test.summary(3)\n",
    "suite.add(test, 'change number in only one question', 'NER', 'TODO_DESCRIPTION')"
   ]
  },
  {
   "cell_type": "code",
   "execution_count": 63,
   "metadata": {},
   "outputs": [],
   "source": [
    "### Change "
   ]
  },
  {
   "cell_type": "markdown",
   "metadata": {},
   "source": [
    "### Keep entities, fill in with BERT gibberish"
   ]
  },
  {
   "cell_type": "code",
   "execution_count": 67,
   "metadata": {},
   "outputs": [],
   "source": [
    "def mask_gibberish(question):\n",
    "    ents = question.ents\n",
    "    if not ents:\n",
    "        return None\n",
    "    wp = [x.text for x in question if x.tag_ in ['WP', 'WRB', 'WDT']]\n",
    "    if not wp:\n",
    "        wp = question[0].text\n",
    "    else:\n",
    "        wp = wp[0]\n",
    "    ents = [x.text for x in ents]\n",
    "    ents[-1] = ents[-1] + '?'\n",
    "    template = ' {mask} '.join([wp] + ents)\n",
    "    gibberish = editor.template(template).data[:5]\n",
    "#     return gibberish\n",
    "    ret = [(question.text, x) for x in gibberish if question.text != x ]\n",
    "    return ret\n",
    "def gibberish_both(qs):\n",
    "    q1, q2 = qs\n",
    "    ret = []\n",
    "    x1 = mask_gibberish(q1)\n",
    "    if x1:\n",
    "        ret.extend(x1)\n",
    "    x2 = mask_gibberish(q2)\n",
    "    if x2:\n",
    "        ret.extend(x2)\n",
    "    return ret\n",
    "#     ret =  [(question.text, x[1]) for x in tg.fill_in_between([wp] + ents) if question.text != x[1]]\n",
    "#     ret = [x for x in ret if len(x[1].split()) < len(x[0].split()) -4][:5]\n",
    "#     return ret "
   ]
  },
  {
   "cell_type": "code",
   "execution_count": 68,
   "metadata": {},
   "outputs": [
    {
     "name": "stdout",
     "output_type": "stream",
     "text": [
      "Predicting 4744 examples\n",
      "Test cases:      500\n",
      "Fails (rate):    143 (28.6%)\n",
      "\n",
      "Example fails:\n",
      "0.0 ('What is the cost of 1 rupee note bundle from 1993?', 'What is the value of a 1994 1 Rupee note?')\n",
      "1.0 ('What is the value of a 1994 1 Rupee note?', 'What the 1994 Indian Rupee?')\n",
      "0.9 ('What is the value of a 1994 1 Rupee note?', 'What Was 1994 The Rupee?')\n",
      "\n",
      "----\n",
      "0.0 ('Is this years surge in home runs in MLB due to performance enhancing drugs?', 'I am male, 17 years, 6′ 2″ and 84 kg. Is it okay? How can I stop my height growth?')\n",
      "1.0 ('I am male, 17 years, 6′ 2″ and 84 kg. Is it okay? How can I stop my height growth?', 'How can 17 years old 6′ 2″ weigh 84 kg?')\n",
      "1.0 ('I am male, 17 years, 6′ 2″ and 84 kg. Is it okay? How can I stop my height growth?', 'How … 17 years … 6′ 2″ � 84 kg?')\n",
      "\n",
      "----\n",
      "0.0 ('What is the best tag line for Quora?', 'What is best tag line in history?')\n",
      "1.0 ('What is the best tag line for Quora?', 'What on Quora?')\n",
      "0.8 ('What is the best tag line for Quora?', 'What was Quora?')\n",
      "\n",
      "----\n"
     ]
    }
   ],
   "source": [
    "t = Perturb.perturb(parsed_qs, gibberish_both, nsamples=500)\n",
    "expect_false = Expect.eq(0)\n",
    "test = DIR(**t, expect=expect_false)\n",
    "test.run(new_pp)\n",
    "test.summary(3)\n",
    "suite.add(test, 'Keep entities, fill in with BERT gibberish', 'NER', 'TODO_DESCRIPTION')"
   ]
  },
  {
   "cell_type": "code",
   "execution_count": 69,
   "metadata": {},
   "outputs": [
    {
     "name": "stdout",
     "output_type": "stream",
     "text": [
      "Test cases:      500\n",
      "Fails (rate):    143 (28.6%)\n",
      "\n",
      "Example fails:\n",
      "1.0 ('Is there a positive side to the future president Donald Trump?', 'What positive change would a Donald Trump presidency bring?')\n",
      "0.9 ('Is there a positive side to the future president Donald Trump?', 'Is he Donald Trump?')\n",
      "\n",
      "----\n",
      "1.0 ('Is ISI better than RAW?', 'What makes ISI better than RAW?')\n",
      "0.9 ('What makes ISI better than RAW?', 'What distinguishes ISI from RAW?')\n",
      "\n",
      "----\n",
      "1.0 ('What should be my resolution for 2017?', \"What are some of your New Year's resolutions for 2017?\")\n",
      "1.0 (\"What are some of your New Year's resolutions for 2017?\", \"What about New Year's Day 2017?\")\n",
      "1.0 (\"What are some of your New Year's resolutions for 2017?\", \"What About New Year's Day 2017?\")\n",
      "\n",
      "----\n"
     ]
    }
   ],
   "source": [
    "test.summary(3)"
   ]
  },
  {
   "cell_type": "markdown",
   "metadata": {},
   "source": [
    "## Temporal"
   ]
  },
  {
   "cell_type": "markdown",
   "metadata": {},
   "source": [
    "Is != used to be"
   ]
  },
  {
   "cell_type": "code",
   "execution_count": 70,
   "metadata": {},
   "outputs": [
    {
     "name": "stdout",
     "output_type": "stream",
     "text": [
      "Predicting 999 examples\n",
      "Test cases:      999\n",
      "Fails (rate):    613 (61.4%)\n",
      "\n",
      "Example fails:\n",
      "0.9 ('Is Amanda Bennett an executive?', 'Did Amanda Bennett use to be an executive?')\n",
      "----\n",
      "0.7 ('Is Alexis Barnes an analyst?', 'Did Alexis Barnes use to be an analyst?')\n",
      "----\n",
      "0.9 ('Is Emma Jackson an architect?', 'Did Emma Jackson use to be an architect?')\n",
      "----\n"
     ]
    }
   ],
   "source": [
    "t = editor.template(('Is {first_name} {last_name} {a:noun}?', 'Did {first_name} {last_name} use to be {a:noun}?'),\n",
    "                noun=nouns,\n",
    "                adj=adjs,\n",
    "                remove_duplicates=True, \n",
    "                nsamples=1000)\n",
    "test = MFT(**t, labels=0)\n",
    "test.run(new_pp)\n",
    "test.summary(n=3)\n",
    "suite.add(test, 'is != used to be', 'Temporal', 'TODO_DESCRIPTION')"
   ]
  },
  {
   "cell_type": "markdown",
   "metadata": {},
   "source": [
    "Is != becoming"
   ]
  },
  {
   "cell_type": "code",
   "execution_count": 71,
   "metadata": {},
   "outputs": [
    {
     "name": "stdout",
     "output_type": "stream",
     "text": [
      "Predicting 1000 examples\n",
      "Test cases:      1000\n",
      "Fails (rate):    181 (18.1%)\n",
      "\n",
      "Example fails:\n",
      "0.8 ('Is Amber Green an employee?', 'Is Amber Green becoming an employee?')\n",
      "----\n",
      "0.5 ('Is Ashley Watson an advocate?', 'Is Ashley Watson becoming an advocate?')\n",
      "----\n",
      "0.6 ('Is Alexander Cook an activist?', 'Is Alexander Cook becoming an activist?')\n",
      "----\n"
     ]
    }
   ],
   "source": [
    "t = editor.template(('Is {first_name} {last_name} {a:noun}?', 'Is {first_name} {last_name} becoming {a:noun}?'),\n",
    "                noun=nouns,\n",
    "                adj=adjs,\n",
    "                remove_duplicates=True, \n",
    "                nsamples=1000)\n",
    "test = MFT(**t, labels=0)\n",
    "test.run(new_pp)\n",
    "test.summary(n=3)\n",
    "suite.add(test, 'is != becoming', 'Temporal', 'TODO_DESCRIPTION')"
   ]
  },
  {
   "cell_type": "markdown",
   "metadata": {},
   "source": [
    "Before != after"
   ]
  },
  {
   "cell_type": "code",
   "execution_count": 72,
   "metadata": {},
   "outputs": [
    {
     "name": "stdout",
     "output_type": "stream",
     "text": [
      "Predicting 1000 examples\n",
      "Test cases:      1000\n",
      "Fails (rate):    1000 (100.0%)\n",
      "\n",
      "Example fails:\n",
      "1.0 (\"What was Taylor Morales's life before becoming an architect?\", \"What was Taylor Morales's life after becoming an architect?\")\n",
      "----\n",
      "1.0 (\"What was Tyler Mitchell's life before becoming a person?\", \"What was Tyler Mitchell's life after becoming a person?\")\n",
      "----\n",
      "0.9 (\"What was Jennifer Hall's life before becoming an assistant?\", \"What was Jennifer Hall's life after becoming an assistant?\")\n",
      "----\n"
     ]
    }
   ],
   "source": [
    "t = editor.template((\n",
    "    'What was {first_name} {last_name}\\'s life before becoming {a:noun}?',\n",
    "    'What was {first_name} {last_name}\\'s life after becoming {a:noun}?'\n",
    "),\n",
    "                noun=nouns,\n",
    "                adj=adjs,\n",
    "                remove_duplicates=True, \n",
    "                nsamples=1000)\n",
    "test = MFT(**t, labels=0)\n",
    "test.run(new_pp)\n",
    "test.summary(n=3)\n",
    "suite.add(test, 'before != after', 'Temporal', 'TODO_DESCRIPTION')"
   ]
  },
  {
   "cell_type": "code",
   "execution_count": 73,
   "metadata": {},
   "outputs": [
    {
     "name": "stdout",
     "output_type": "stream",
     "text": [
      "it, normal, OK, there, safe, best, ok, okay, acceptable, reasonable, permissible, legal, proper, wrong, healthy, good, enough, better, important, appropriate, left, allowed, possible, dinner, vegetarian, what, recommended, going, food, illegal, supposed, smart, unhealthy, hard, popular, hot, necessary, vegan, typical, not, free, right, required, fun, time, meant, something, one, kosher, customary, fair, mandatory, available, common, cheaper, alright, easier, suitable, feasible, polite, difficult, cool, certain, sensible, affordable, advisable, fine, fashionable, like, nice, unsafe, public, wise, decent, sufficient, harder, advised, traditional, usual, healthier, anyone, permitted, eating, easy, life, trendy, someone, forbidden, lawful, expensive, safer, new, everyone, compulsory, dangerous, worse, needed, realistic, temptation, essential, adequate, impossible, hungry, rude, risky, considered, prudent, taboo, different, tempting\n"
     ]
    }
   ],
   "source": [
    "print(', '.join(editor.suggest('Is is {mask} to eat after 10pm?')))"
   ]
  },
  {
   "cell_type": "code",
   "execution_count": 193,
   "metadata": {},
   "outputs": [],
   "source": [
    "mid = ['normal', 'ok', 'safe', 'dangerous', 'acceptable', 'reasonable', 'proper', 'wrong', 'healthy', 'important']"
   ]
  },
  {
   "cell_type": "code",
   "execution_count": 75,
   "metadata": {},
   "outputs": [
    {
     "name": "stdout",
     "output_type": "stream",
     "text": [
      "sleep, drink, eat, work, leave, drive, go, smoke, stay, call, vote, talk, read, retire, visit, write, celebrate, post, do, party, watch, study, exercise, travel, fish, start, stop, walk, play, strike, disappear, be, tweet, live, continue, shop, rise, speak, relax, die, finish, blog, run, move, act, wait, text, cook, return, dance, bed, fly, quit, report, swim, pray, ask, rest, answer, close, gamble, enter, crash, think, marry, come, kill, look, meet, feed, operate, propose, vanish, dress, pee, linger, change, check, remain, dinner, protest, nap, withdraw, wake, fight, begin, publish, arrive, attend, skate, disturb, end, gather, complain, chat, exist, worry, know, cry, shower, cancel, see, open, perform, queue, respond, resign, exit, book, commute, function, avoid, film, buy, awake, binge, snack, clean, vape, park, happen, comment, blackout, occur, cycle, have, paint, vomit, panic, refuse, sit, say, resume, demonstrate, disconnect, kiss, feel, lose, search, hunt, bar, breathe, take, survive, order, vacuum, investigate, emerge, you, workout, me, consume, chill, remember, spend, collapse, date, sex, diet, wear, fart, laugh, waste, join, escape, bake, strip, indulge, practice, phone, cough, barbecue, block, shave, freeze, ski, evacuate, pay, recover, behave, proceed, lie, sunset, fire, conclude, rent, cross, awaken, train, scream, expect, intervene, reopen, rush, pass, ring, debate, stand, argue, listen, us, appear, try, discuss, plan, Google, learn, people, focus, follow, anyone, reconnect, concentrate, notice, hear, tell, consider, research, pause, save, update, them, note\n"
     ]
    }
   ],
   "source": [
    "print(', '.join(editor.suggest('Is is {mid} to {mask} after 10pm?', mid=mid)))"
   ]
  },
  {
   "cell_type": "code",
   "execution_count": 76,
   "metadata": {},
   "outputs": [],
   "source": [
    "activity = ['drink', 'sleep', 'drive', 'work', 'eat', 'smoke', 'walk', 'read', 'party', 'talk', 'exercise', 'celebrate', 'text', 'tweet', 'run', 'dance', 'swim', 'cook', 'pray', 'pee', 'rest']"
   ]
  },
  {
   "cell_type": "code",
   "execution_count": 77,
   "metadata": {},
   "outputs": [
    {
     "name": "stdout",
     "output_type": "stream",
     "text": [
      "Predicting 1000 examples\n",
      "Test cases:      1000\n",
      "Fails (rate):    979 (97.9%)\n",
      "\n",
      "Example fails:\n",
      "1.0 ('Is it dangerous to smoke before 11am?', 'Is it dangerous to smoke after 11am?')\n",
      "----\n",
      "1.0 ('Is it reasonable to pee before 1am?', 'Is it reasonable to pee after 1am?')\n",
      "----\n",
      "1.0 ('Is it normal to rest before 2am?', 'Is it normal to rest after 2am?')\n",
      "----\n"
     ]
    }
   ],
   "source": [
    "t = editor.template(('Is it {mid} to {activity} before {hour}{ampm}?','Is it {mid} to {activity} after {hour}{ampm}?'),\n",
    "                activity=activity,\n",
    "                mid=mid,\n",
    "                hour=[str(x) for x in range(1, 12)],\n",
    "                ampm=['am', 'pm'],\n",
    "                remove_duplicates=True, \n",
    "                nsamples=1000)\n",
    "test = MFT(**t, labels=0)\n",
    "test.run(new_pp)\n",
    "test.summary(n=3)\n",
    "suite.add(test, 'before != after, activity', 'Temporal', 'TODO_DESCRIPTION')"
   ]
  },
  {
   "cell_type": "markdown",
   "metadata": {},
   "source": [
    "## Negation"
   ]
  },
  {
   "cell_type": "code",
   "execution_count": 194,
   "metadata": {},
   "outputs": [],
   "source": [
    "mid2 = mid + ['legal', 'awkward', 'socially acceptable']"
   ]
  },
  {
   "cell_type": "code",
   "execution_count": 195,
   "metadata": {},
   "outputs": [
    {
     "name": "stdout",
     "output_type": "stream",
     "text": [
      "live, work, vote, be, study, stay, marry, drive, travel, fight, eat, exist, speak, remain, pray, die, campaign, visit, protest, serve, meet, move, squat, write, hunt, shop, gather, demonstrate, smoke, swim, race, perform, fly, gamble, fish, pee, reside, play, worship, settle, sleep, party, march, report, train, teach, operate, surf, act, talk, drink, volunteer, hate, kill, murder, dance, arrive, migrate, cook, land, rape, experiment, gay, preach, exercise, practice, tan, farm, invest, strike, stand, survive, think, believe, paint, spy, start, barbecue, date, lie, propose, hide, rule, identify, appear, vacation, offend, beef, breed, burn, shoot, ask, compete, build, refugee, transgender, sue, queer, discriminate, Muslim\n"
     ]
    }
   ],
   "source": [
    "print(', '.join(editor.suggest('Is it {mid} to {mask} in {country}?', mid=mid2)[:100]))"
   ]
  },
  {
   "cell_type": "code",
   "execution_count": 196,
   "metadata": {},
   "outputs": [],
   "source": [
    "things = ['work', 'vote', 'travel', 'marry', 'drive', 'study', 'protest', 'campaign', 'fight', 'gamble', 'hunt', 'pray', 'smoke', 'fish', 'murder', 'invest', 'pee', 'march', 'worship', 'volunteer', 'surf', 'shoot', 'dance', 'camp', 'preach', 'spy', 'be gay', 'lie', 'divorce', 'discriminate']"
   ]
  },
  {
   "cell_type": "code",
   "execution_count": 197,
   "metadata": {},
   "outputs": [
    {
     "name": "stdout",
     "output_type": "stream",
     "text": [
      "Predicting 1000 examples\n",
      "Test cases:      1000\n",
      "Fails (rate):    232 (23.2%)\n",
      "\n",
      "Example fails:\n",
      "0.9 ('Is it dangerous to divorce in Malta?', 'Is it dangerous not to divorce in Malta?')\n",
      "----\n",
      "0.6 ('Is it socially acceptable to murder in Gambia?', 'Is it socially acceptable not to murder in Gambia?')\n",
      "----\n",
      "0.8 ('Is it reasonable to pee in China?', 'Is it reasonable not to pee in China?')\n",
      "----\n"
     ]
    }
   ],
   "source": [
    "t = editor.template(('Is it {mid} to {activity} in {country}?','Is it {mid} not to {activity} in {country}?'),\n",
    "                activity=things,\n",
    "                mid=mid2,\n",
    "                remove_duplicates=True, \n",
    "                nsamples=1000)\n",
    "test = MFT(**t, labels=0)\n",
    "test.run(new_pp)\n",
    "test.summary(n=3)\n",
    "suite.add(test, 'Simple negation: Is it normal to X / not to X in country', 'Negation', 'TODO_DESCRIPTION')"
   ]
  },
  {
   "cell_type": "code",
   "execution_count": 82,
   "metadata": {},
   "outputs": [
    {
     "name": "stdout",
     "output_type": "stream",
     "text": [
      "Predicting 1000 examples\n",
      "Test cases:      1000\n",
      "Fails (rate):    0 (0.0%)\n"
     ]
    }
   ],
   "source": [
    "t = editor.template((\n",
    "    'What are things {a:noun} should worry about?',\n",
    "    'What are things {a:noun} should not worry about?',\n",
    "),\n",
    "                noun=nouns,\n",
    "                remove_duplicates=True, \n",
    "                nsamples=1000)\n",
    "test = MFT(**t, labels=0)\n",
    "test.run(new_pp)\n",
    "test.summary(n=3)\n",
    "suite.add(test, 'Simple negation: things to worry / not to worry about', 'Negation', 'TODO_DESCRIPTION')"
   ]
  },
  {
   "cell_type": "code",
   "execution_count": 179,
   "metadata": {},
   "outputs": [
    {
     "name": "stdout",
     "output_type": "stream",
     "text": [
      "Predicting 2000 examples\n",
      "Test cases:      2000\n",
      "Fails (rate):    462 (23.1%)\n",
      "\n",
      "Example fails:\n",
      "0.6 ('How can I become an unhappy person?', 'How can I become a person who is not happy?')\n",
      "----\n",
      "0.6 ('How can I become a secure person?', 'How can I become a person who is not insecure?')\n",
      "----\n",
      "1.0 ('How can I become a rude person?', 'How can I become a person who is not polite?')\n",
      "----\n"
     ]
    }
   ],
   "source": [
    "t = editor.template([(\n",
    "    'How can I become {a:x[0]} person?',\n",
    "    'How can I become a person who is not {x[1]}?',\n",
    "    ),\n",
    "    (\n",
    "    'How can I become {a:x[1]} person?',\n",
    "    'How can I become a person who is not {x[0]}?',\n",
    "    ),\n",
    "],\n",
    "    unroll=True,\n",
    "    x=opps,\n",
    "    remove_duplicates=True, \n",
    "    nsamples=1000)\n",
    "name = '' \n",
    "desc = ''\n",
    "test = MFT(**t, labels=0, name=name, capability = 'Negation',\n",
    "          description=desc)\n",
    "test.run(new_pp)\n",
    "test.summary(n=3)\n",
    "# suite.add(test)"
   ]
  },
  {
   "cell_type": "markdown",
   "metadata": {},
   "source": [
    "## Coref"
   ]
  },
  {
   "cell_type": "code",
   "execution_count": 84,
   "metadata": {},
   "outputs": [
    {
     "name": "stdout",
     "output_type": "stream",
     "text": [
      "Predicting 2000 examples\n",
      "Test cases:      2000\n",
      "Fails (rate):    1648 (82.4%)\n",
      "\n",
      "Example fails:\n",
      "0.9 ('If Alicia and Liam were alone, do you think he would reject her?', 'If Alicia and Liam were alone, do you think she would reject him?')\n",
      "----\n",
      "0.9 ('If Chelsea and Jared were alone, do you think he would reject her?', 'If Chelsea and Jared were alone, do you think she would reject him?')\n",
      "----\n",
      "0.9 ('If Brooke and Henry were alone, do you think he would reject her?', 'If Brooke and Henry were alone, do you think she would reject him?')\n",
      "----\n"
     ]
    }
   ],
   "source": [
    "t = editor.template(\n",
    "    [(\n",
    "        'If {male} and {female} were alone, do you think he would reject her?',\n",
    "        'If {male} and {female} were alone, do you think she would reject him?',\n",
    "    ),\n",
    "        (\n",
    "        'If {female} and {male} were alone, do you think he would reject her?',\n",
    "        'If {female} and {male} were alone, do you think she would reject him?',\n",
    "    )\n",
    "    ],\n",
    "    remove_duplicates=True, \n",
    "    nsamples=1000,\n",
    "    unroll=True)\n",
    "test = MFT(**t, labels=0)\n",
    "test.run(new_pp)\n",
    "test.summary(n=3)\n",
    "suite.add(test, 'Simple coref: he and she', 'Coref', 'TODO_DESCRIPTION')"
   ]
  },
  {
   "cell_type": "code",
   "execution_count": 85,
   "metadata": {},
   "outputs": [
    {
     "name": "stdout",
     "output_type": "stream",
     "text": [
      "Predicting 2000 examples\n",
      "Test cases:      2000\n",
      "Fails (rate):    1977 (98.8%)\n",
      "\n",
      "Example fails:\n",
      "0.9 ('If Luke and Savannah were married, would her family be happy?', \"If Luke and Savannah were married, would Luke's family be happy?\")\n",
      "----\n",
      "0.9 ('If Richard and Isabella were married, would her family be happy?', \"If Richard and Isabella were married, would Richard's family be happy?\")\n",
      "----\n",
      "1.0 ('If Justin and Brianna were married, would his family be happy?', \"If Justin and Brianna were married, would Brianna's family be happy?\")\n",
      "----\n"
     ]
    }
   ],
   "source": [
    "t = editor.template(\n",
    "    [(\n",
    "        'If {male} and {female} were married, would his family be happy?',\n",
    "        'If {male} and {female} were married, would {female}\\'s family be happy?',\n",
    "    ),(\n",
    "        'If {male} and {female} were married, would her family be happy?',\n",
    "        'If {male} and {female} were married, would {male}\\'s family be happy?',\n",
    "    ),\n",
    "    ]\n",
    "        ,\n",
    "    unroll=True,\n",
    "    remove_duplicates=True, \n",
    "    nsamples=1000)\n",
    "test = MFT(**t, labels=0)\n",
    "test.run(new_pp)\n",
    "test.summary(n=3)\n",
    "suite.add(test, 'Simple coref: his and her', 'Coref', 'TODO_DESCRIPTION')"
   ]
  },
  {
   "cell_type": "markdown",
   "metadata": {},
   "source": [
    "## SRL"
   ]
  },
  {
   "cell_type": "code",
   "execution_count": 86,
   "metadata": {},
   "outputs": [
    {
     "name": "stdout",
     "output_type": "stream",
     "text": [
      "chef, pizza, boxer, player, footballer, athlete, rapper, actor, singer, cook, magician, robot, coach, beer, cyclist, wrestler, drummer, musician, quarterback, hacker, dog, baker, fighter, journalist, restaurant, steak, teacher, doctor, gamer, band, shooter, DJ, football, person, horse, photographer, driver, fisherman, burger, coffee, lawyer, writer, food, dancer, student, wine, artist, man, surgeon, comedian, trainer, VPN, vegetarian, programmer, team, game, vegan, guitarist, goalkeeper, server, guy, cricket, sport, engineer, dentist, waiter, cheese, bartender, fish, chicken, goalie, car, manager, computer, referee, hunter, guitar, basketball, tennis, astronaut, mathematician, sandwich, blogger, accountant, TV, soldier, sniper, job, runner, barbecue, chocolate, scientist, friend, cat, gun, pitcher, judge, AI, philosopher, butcher, painter, golf, camel, translator, piano, worker, farmer, conductor, politician, bike\n"
     ]
    }
   ],
   "source": [
    "print(', '.join(editor.suggest('Who is the best {mask} in the world?')))"
   ]
  },
  {
   "cell_type": "code",
   "execution_count": 87,
   "metadata": {},
   "outputs": [],
   "source": [
    "thing = ['chef', 'boxer', 'player', 'footballer', 'athlete', 'rapper', 'actor', 'singer', 'cook', 'magician', 'coach', 'cyclist', 'wrestler', 'drummer', 'musician', 'quarterback', 'hacker', 'baker', 'fighter', 'journalist', 'teacher', 'doctor', 'gamer', 'husband', 'DJ', 'person', 'man', 'woman', 'surgeon', 'comedian', 'trainer', 'programmer', 'guitarist', 'goalkeeper']"
   ]
  },
  {
   "cell_type": "code",
   "execution_count": 88,
   "metadata": {},
   "outputs": [
    {
     "name": "stdout",
     "output_type": "stream",
     "text": [
      "you, YOU, people, we, they, I, readers, You, guys, u, your, fans, ya, others, experts, Americans, scientists, men, voters, some, the, students, analysts, authors, everyone, friends, conservatives, players, critics, Canadians, he, judges, folks, women, all, most, historians, i, coaches, supporters, members, journalists, researchers, celebrities, many, viewers, liberals, participants, audiences, Australians, respondents, editors, Republicans, artists, writers, U, pundits, yo, comedians, gamers, reporters, economists, teachers, parents, veterans, commentators, consumers, anyone, users, independents, kids, pros, millennials, each, individuals, YOUR, those, athletes, doctors, candidates, reviewers, ye, investigators, both, politicians, scholars, not, two, philosophers, atheists, agents, humans, stars, ladies, police, feminists, insiders, yours, any, archaeologists, leaders, Christians, seniors, Democrats, contestants, psychologists, adults, guests, teams, astronomers, competitors, professionals, still, one, academics, scouts, listeners, children, bloggers, Mormons, polls, chefs, wrestlers, fighters, brands, Conservatives, she, legends, strikers, Russians, sports, referees, lawyers, activists, cyclists, captains, Texans, drivers, musicians, rappers, Cardinals, evangelicals, skeptics, schools, DJs, libertarians, girls, riders, Britons, runners, opponents, poets, teenagers, thee, teens, so, professors\n"
     ]
    }
   ],
   "source": [
    "print(', '.join(editor.suggest('Who do {mask} think is the the best {thing} in the world?', thing=thing)))"
   ]
  },
  {
   "cell_type": "code",
   "execution_count": 89,
   "metadata": {},
   "outputs": [],
   "source": [
    "subjects = ['you', 'people', 'readers', 'guys', 'fans', 'experts', 'scientists', 'Americans', 'students', 'men', 'voters', 'authors', 'conservatives', 'women', 'Canadians', 'analysts', 'critics', 'judges', 'artists', 'researchers', 'liberals', 'historians', 'Australians', 'journalists', 'Republicans', 'coaches', 'parents', 'kids', 'economists', 'reporters', 'consumers', 'veterans', 'doctors']"
   ]
  },
  {
   "cell_type": "code",
   "execution_count": 90,
   "metadata": {},
   "outputs": [
    {
     "name": "stdout",
     "output_type": "stream",
     "text": [
      "best, greatest, worst, smartest, top, biggest, fastest, strongest, toughest, finest, happiest, coolest, hottest, deadliest, richest, hardest, safest, better, oldest, brightest, leading, great, youngest, Greatest, largest, weakest, superior, favorite, easiest, elite, highest, most, busiest, quickest, tallest, wealthiest, favourite, perfect, premier, ultimate, next, smallest, first, right, only, dominant, BEST, heaviest, newest, good\n"
     ]
    }
   ],
   "source": [
    "print(', '.join(editor.suggest('Who do {subjects} think is the the {mask} {thing} in the world?', thing=thing, subjects=subjects)[:50]))"
   ]
  },
  {
   "cell_type": "code",
   "execution_count": 91,
   "metadata": {},
   "outputs": [],
   "source": [
    "best = ['best', 'greatest', 'worst', 'top', 'smartest', 'strongest', 'finests', 'happiest', 'coolest', 'richest', 'leading', 'brightest', 'premier', 'ultimate', 'dominant']"
   ]
  },
  {
   "cell_type": "code",
   "execution_count": 92,
   "metadata": {},
   "outputs": [
    {
     "name": "stdout",
     "output_type": "stream",
     "text": [
      "Predicting 1000 examples\n",
      "Test cases:      1000\n",
      "Fails (rate):    131 (13.1%)\n",
      "\n",
      "Example fails:\n",
      "0.2 ('Who do guys think is the best cyclist in the world?', 'Who is the best cyclist in the world according to guys?')\n",
      "----\n",
      "0.1 ('Who do Americans think is the dominant DJ in the world?', 'Who is the dominant DJ in the world according to Americans?')\n",
      "----\n",
      "0.4 ('Who do consumers think is the dominant fighter in the world?', 'Who is the dominant fighter in the world according to consumers?')\n",
      "----\n"
     ]
    }
   ],
   "source": [
    "t = editor.template((\n",
    "    'Who do {subjects} think is the {best} {thing} in the world?',\n",
    "    'Who is the {best} {thing} in the world according to {subjects}?'\n",
    "),\n",
    "    subjects=subjects,\n",
    "    best=best,\n",
    "    thing=thing,\n",
    "    remove_duplicates=True, \n",
    "    nsamples=1000)\n",
    "test = MFT(**t, labels=1)\n",
    "test.run(new_pp)\n",
    "test.summary(n=3)\n",
    "suite.add(test, 'Who do X think - Who is the ... according to X', 'SRL', 'TODO_DESCRIPTION')"
   ]
  },
  {
   "cell_type": "code",
   "execution_count": 93,
   "metadata": {},
   "outputs": [
    {
     "name": "stdout",
     "output_type": "stream",
     "text": [
      "humans, cats, mice, dogs, pigs, people, you, birds, chickens, cows, sheep, rats, fish, bears, rabbits, monkeys, elephants, we, snakes, bees, bats, lions, children, puppies, spiders, babies, ants, insects, they, kittens, dolphins, butterflies, frogs, animals, robots, turtles, ducks, trees, bugs, kids, flies, worms, whales, mosquitoes, crabs, cars, plants, sharks, dinosaurs, beetles, horses, tigers, wolves, primates, cattle, chimpanzees, goats, apes, men, deer, reptiles, rodents, mammals, balls, pets, ponies, carrots, seals, potatoes, apples, mushrooms, dragons, ticks, boys, toys, girls, us, computers, things, stones, women, brains, eggs, bulls, calves, Indians, dwarves, bananas, houses, burgers, flowers, shells, beans, diamonds, coins, trolls, guys, drones, bacteria, Lions\n"
     ]
    }
   ],
   "source": [
    "print(', '.join([str(x) for x in editor.suggest('Are {mask} smaller than {a}?', a=['bananas', 'dogs', 'cars', 'cats', 'elephants'])][:100]))"
   ]
  },
  {
   "cell_type": "code",
   "execution_count": 94,
   "metadata": {},
   "outputs": [],
   "source": [
    "things = editor.suggest('Are {mask} smaller than {a}?',a=['bananas', 'dogs', 'cars', 'cats', 'elephants'] )[:100]"
   ]
  },
  {
   "cell_type": "code",
   "execution_count": 99,
   "metadata": {},
   "outputs": [
    {
     "name": "stdout",
     "output_type": "stream",
     "text": [
      "smarter, better, bigger, faster, stronger, cooler, different, smaller, worse, larger, tougher, more, taller, safer, slower, wiser, heavier, weaker, healthier, happier, lighter, nicer, less, older, greater, quicker, cheaper, harder, shorter, cleaner, longer, quieter, brighter, easier, darker, hotter, higher, closer, other, colder, thicker, younger, louder, warmer, lower, sharper, deeper, wider, lesser, softer, broader, simpler, thinner, intelligent, clearer, stranger, important, dangerous, farther, rather, fewer, richer, smoother, finer, differently, smart, tighter, poorer, earlier, sooner, superior, real, related, stupid, wealthier, anymore, inferior, normal, valuable, dumb, interesting, beautiful, weird, narrower, big, further, stricter, strange, human, safe, powerful, rare, MORE, fuller, dead, special, alive, similar, old, newer\n"
     ]
    }
   ],
   "source": [
    "print(', '.join([str(x) for x in editor.suggest('Are {a} {mask} than {a2}?', a=things)][:100]))"
   ]
  },
  {
   "cell_type": "code",
   "execution_count": 100,
   "metadata": {},
   "outputs": [],
   "source": [
    "comp = ['better', 'worse', 'cheaper', 'bigger', 'louder', 'longer', 'larger', 'smaller', 'warmer', 'colder', 'thicker', 'lighter', 'heavier']"
   ]
  },
  {
   "cell_type": "markdown",
   "metadata": {},
   "source": [
    "Order doesn't matter for comparison"
   ]
  },
  {
   "cell_type": "code",
   "execution_count": 101,
   "metadata": {},
   "outputs": [
    {
     "name": "stdout",
     "output_type": "stream",
     "text": [
      "Predicting 990 examples\n",
      "Test cases:      990\n",
      "Fails (rate):    982 (99.2%)\n",
      "\n",
      "Example fails:\n",
      "0.0 ('Are men better than bulls?', 'What is better, bulls or men?')\n",
      "----\n",
      "0.0 ('Are kittens worse than babies?', 'What is worse, babies or kittens?')\n",
      "----\n",
      "0.0 ('Are eggs lighter than burgers?', 'What is lighter, burgers or eggs?')\n",
      "----\n"
     ]
    }
   ],
   "source": [
    "t = editor.template((\n",
    "    'Are {t1} {comp} than {t2}?',\n",
    "#     'Are {t2} {comp} than {t1}?',\n",
    "#     'What is {comp}, {t1} or {t2}?',\n",
    "    'What is {comp}, {t2} or {t1}?'\n",
    "),\n",
    "    t = things,\n",
    "    comp = comp,\n",
    "    remove_duplicates=True, \n",
    "    nsamples=1000)\n",
    "# data = [tuple(np.random.choice(x, 2, replace=False)) for x in data]\n",
    "test = MFT(**t, labels=1)\n",
    "test.run(new_pp)\n",
    "test.summary(n=3)\n",
    "suite.add(test, 'Order does not matter for comparison', 'SRL', 'TODO_DESCRIPTION')"
   ]
  },
  {
   "cell_type": "markdown",
   "metadata": {},
   "source": [
    "Order matters for asymetric relations"
   ]
  },
  {
   "cell_type": "code",
   "execution_count": 102,
   "metadata": {},
   "outputs": [],
   "source": [
    "# editor.template('Is {first_name1} {mask} {first_name2}?', remove_duplicates=True)[:100]"
   ]
  },
  {
   "cell_type": "code",
   "execution_count": 103,
   "metadata": {},
   "outputs": [
    {
     "name": "stdout",
     "output_type": "stream",
     "text": [
      "related, married, close, engaged, talking, lying, connected, speaking, closer, loyal, linked, attracted, going, referring, listening, important, faithful, similar, mean, responding, writing, hostile, true, dead, tied, next, bound, known, indebted, lied, proposing, closest, opposed, truthful, committed, right, up, turning, kind, Married, kin, proposed, attached, abusive, gay, good, real, returning, allergic, straight, available, relevant, talk, attractive, fair, written, nice, dangerous, crazy, new, alive, coming, on, friendly, devoted, cruel, entitled, special, superior, answer, addicted, reacting, out, back, born, supposed, equal, father, drawn, happy, happening, answering, acceptable, nicer, spoken, getting, open, decent, familiar, heir, guilty, talked, mentioned, gone, sympathetic, helpful, insane, down, pregnant, equivalent\n",
      "\n",
      "or, really, and, with, actually, not, an, Really, still, like, /, &, born, a, from, called, real, indeed, now, the, dating, truly, after, even, married, to, marry, named, for, also, marrying, versus, against, his, biologically, without, clone, your, be, meet, remember, Elizabeth, vs, …, father, fucking, King, And, REALLY, is, ever, Prince, behind, NOT, know, leaving, Dating, Young, pregnant, just, killed, another, meeting, AND, nor, Or, love, kill, under, Mary, following, by, John, become, killing, -, so, mean, about, beat, before, Charles, Love, James, find, her, Sir, see, becoming, considered, met, follow, have, Sue, replace, no, Not, into, my, being\n"
     ]
    }
   ],
   "source": [
    "print(', '.join(editor.suggest('Is {first_name1} {mask} to {first_name2}?', remove_duplicates=True)[:100]))\n",
    "print()\n",
    "print(', '.join(editor.suggest('Is {first_name1} {mask} {first_name2}?', remove_duplicates=True)[:100]))"
   ]
  },
  {
   "cell_type": "code",
   "execution_count": 104,
   "metadata": {},
   "outputs": [],
   "source": [
    "symmetric = ['dating', 'married to', 'close to', 'engaged to', 'connected to', 'married to', 'friends with', 'related to', 'an acquaintance of']"
   ]
  },
  {
   "cell_type": "code",
   "execution_count": 105,
   "metadata": {},
   "outputs": [
    {
     "name": "stdout",
     "output_type": "stream",
     "text": [
      "Predicting 988 examples\n",
      "Test cases:      988\n",
      "Fails (rate):    756 (76.5%)\n",
      "\n",
      "Example fails:\n",
      "0.0 ('Is Jonathan engaged to Natalie?', 'Is Natalie engaged to Jonathan?')\n",
      "----\n",
      "0.1 ('Is Dylan married to Kevin?', 'Is Kevin married to Dylan?')\n",
      "----\n",
      "0.0 ('Is Jeremy related to Kelly?', 'Is Kelly related to Jeremy?')\n",
      "----\n"
     ]
    }
   ],
   "source": [
    "t = editor.template((\n",
    "    'Is {first_name1} {s} {first_name2}?',\n",
    "#     'Are {t2} {comp} than {t1}?',\n",
    "#     'What is {comp}, {t1} or {t2}?',\n",
    "    'Is {first_name2} {s} {first_name1}?',\n",
    "),\n",
    "    s = symmetric,\n",
    "    remove_duplicates=True, \n",
    "    nsamples=1000)\n",
    "# data = [tuple(np.random.choice(x, 2, replace=False)) for x in data]\n",
    "test = MFT(**t, labels=1)\n",
    "test.run(new_pp)\n",
    "test.summary(n=3)\n",
    "suite.add(test, 'Order does not matter for symmetric relations', 'SRL', 'TODO_DESCRIPTION')"
   ]
  },
  {
   "cell_type": "code",
   "execution_count": 106,
   "metadata": {},
   "outputs": [],
   "source": [
    "asymmetric = ['hurting', 'lying to', 'loyal to', 'faithful to', 'proposing to', 'indebted to', 'abusive to', 'using', 'expecting', 'beating', 'punching', 'raising', 'poisoning', 'protecting', 'kidnapping']"
   ]
  },
  {
   "cell_type": "code",
   "execution_count": 107,
   "metadata": {},
   "outputs": [
    {
     "name": "stdout",
     "output_type": "stream",
     "text": [
      "Predicting 988 examples\n",
      "Test cases:      988\n",
      "Fails (rate):    243 (24.6%)\n",
      "\n",
      "Example fails:\n",
      "0.9 ('Is Aaron poisoning David?', 'Is David poisoning Aaron?')\n",
      "----\n",
      "0.8 ('Is Alyssa proposing to Hannah?', 'Is Hannah proposing to Alyssa?')\n",
      "----\n",
      "1.0 ('Is Charles using David?', 'Is David using Charles?')\n",
      "----\n"
     ]
    }
   ],
   "source": [
    "t = editor.template((\n",
    "    'Is {first_name1} {s} {first_name2}?',\n",
    "#     'Are {t2} {comp} than {t1}?',\n",
    "#     'What is {comp}, {t1} or {t2}?',\n",
    "    'Is {first_name2} {s} {first_name1}?',\n",
    "),\n",
    "    s = asymmetric,\n",
    "    remove_duplicates=True, \n",
    "    nsamples=1000)\n",
    "# data = [tuple(np.random.choice(x, 2, replace=False)) for x in data]\n",
    "test = MFT(**t, labels=0)\n",
    "test.run(new_pp)\n",
    "test.summary(n=3)\n",
    "suite.add(test, 'Order matters for asymmetric relations', 'SRL', 'TODO_DESCRIPTION')"
   ]
  },
  {
   "cell_type": "markdown",
   "metadata": {},
   "source": [
    "More traditional SRL"
   ]
  },
  {
   "cell_type": "code",
   "execution_count": 108,
   "metadata": {},
   "outputs": [
    {
     "name": "stdout",
     "output_type": "stream",
     "text": [
      "farm, stake, house, property, company, land, rights, ticket, papers, newspaper, book, island, estate, ranch, boat, horse, paper, shares, tickets, business, gun, books, newspapers, yacht, team, ship, stock, idea, plot, contract, Bible, phone, franchise, shotgun, store, horses, cattle, church, place, game, factory, castle, club, painting, bank, tract, rifle, manuscript, car, campaign, Ark, slaves, plane, school, money, guns, sword, plantation, beer, trust, election, film, ring, building, station, twins, deal, loan, time, tractor, home, letter, IRA, plan, title, watch, story, letters, rest, cows, piece, diary, brewery, charter, diamond, mortgage, hospital, site, post, operation, insurance, railroad, cow, coins, Dell, case, children, wine, telephone, dog\n"
     ]
    }
   ],
   "source": [
    "print(', '.join(editor.suggest('Did John buy the {mask}?', remove_duplicates=True)[:100]))"
   ]
  },
  {
   "cell_type": "code",
   "execution_count": 109,
   "metadata": {},
   "outputs": [],
   "source": [
    "obj = ['farm', 'house', 'property', 'company', 'land', 'ticket', 'newspaper', 'book', 'island', 'estate', 'ranch', 'boat', 'horse', 'paper', 'business', 'gun', 'game', 'factory', 'castle', 'painting', 'rifle', 'car', 'school', 'building']"
   ]
  },
  {
   "cell_type": "code",
   "execution_count": 110,
   "metadata": {},
   "outputs": [
    {
     "name": "stdout",
     "output_type": "stream",
     "text": [
      "buy, get, take, sell, have, lose, own, leave, see, keep, want, use, win, need, steal, manage, find, miss, receive, handle, inherit, purchase, abandon, seize, control, run, return, remember, finish, break, enjoy, know, hold, give, drop, claim, recover, move, touch, save, land, pull, on, destroy, share, start, rebuild, crash, call, stop, afford, hit, acquire, join, like, bought, deliver, lead, remove, clear, fix, sign, split, quit, watch, bring, play, survive, left, carry, sold, shoot, maintain, close, grab, settle, reclaim, accept, retain, enter, complete, change, possess, raise, make, wreck, beat, flip, catch, nail, build, forget, ruin, recall, try, retrieve, surrender, notice, mention, got\n"
     ]
    }
   ],
   "source": [
    "print(', '.join(editor.suggest('Did John {mask} the {obj}?', obj=obj, remove_duplicates=True)[:100]))"
   ]
  },
  {
   "cell_type": "code",
   "execution_count": 111,
   "metadata": {},
   "outputs": [
    {
     "data": {
      "text/plain": [
       "[('buy', 'bought'),\n",
       " ('purchase', 'purchased'),\n",
       " ('sell', 'sold'),\n",
       " ('leave', 'left'),\n",
       " ('own', 'owned'),\n",
       " ('take', 'taken'),\n",
       " ('keep', 'kept'),\n",
       " ('want', 'wanted'),\n",
       " ('lose', 'lost'),\n",
       " ('destroy', 'destroyed'),\n",
       " ('inherit', 'inherited'),\n",
       " ('find', 'found'),\n",
       " ('use', 'used'),\n",
       " ('need', 'needed'),\n",
       " ('receive', 'received'),\n",
       " ('return', 'returned'),\n",
       " ('like', 'liked'),\n",
       " ('enjoy', 'enjoyed'),\n",
       " ('abandon', 'abandoned'),\n",
       " ('manage', 'managed'),\n",
       " ('remember', 'remembered'),\n",
       " ('miss', 'missed'),\n",
       " ('move', 'moved'),\n",
       " ('seize', 'seized'),\n",
       " ('steal', 'stolen')]"
      ]
     },
     "execution_count": 111,
     "metadata": {},
     "output_type": "execute_result"
    }
   ],
   "source": [
    "import pattern\n",
    "import pattern.en\n",
    "verbs = ['buy', 'purchase', 'sell', 'leave', 'own', 'take', 'keep', 'want', 'lose', 'destroy', 'inherit', 'find', 'use', 'need', 'receive', 'return', 'like', 'enjoy', 'abandon', 'manage', 'remember', 'miss', 'move', 'seize', 'steal']\n",
    "a = pattern.en.tenses('stolen')[0]\n",
    "verbs = [(v, pattern.en.conjugate(v, *a)) for v in verbs]\n",
    "verbs[3] = ('leave', 'left')\n",
    "verbs"
   ]
  },
  {
   "cell_type": "code",
   "execution_count": 112,
   "metadata": {},
   "outputs": [
    {
     "name": "stdout",
     "output_type": "stream",
     "text": [
      "Predicting 1000 examples\n",
      "Test cases:      1000\n",
      "Fails (rate):    115 (11.5%)\n",
      "\n",
      "Example fails:\n",
      "0.2 ('Did Erin lose the newspaper?', 'Was the newspaper lost by Erin?')\n",
      "----\n",
      "0.0 ('Did Nicholas leave the horse?', 'Was the horse left by Nicholas?')\n",
      "----\n",
      "0.4 ('Did Sarah lose the school?', 'Was the school lost by Sarah?')\n",
      "----\n"
     ]
    }
   ],
   "source": [
    "t = editor.template((\n",
    "    'Did {first_name} {verb[0]} the {obj}?',\n",
    "    'Was the {obj} {verb[1]} by {first_name}?'\n",
    "),\n",
    "    verb=verbs,\n",
    "    obj=obj,\n",
    "    remove_duplicates=True, \n",
    "    nsamples=1000)\n",
    "# data = [tuple(np.random.choice(x, 2, replace=False)) for x in data]\n",
    "test = MFT(**t, labels=1)\n",
    "test.run(new_pp)\n",
    "test.summary(n=3)\n",
    "suite.add(test, 'traditional SRL: active / passive swap', 'SRL', 'TODO_DESCRIPTION')"
   ]
  },
  {
   "cell_type": "code",
   "execution_count": 113,
   "metadata": {},
   "outputs": [
    {
     "name": "stdout",
     "output_type": "stream",
     "text": [
      "Predicting 1000 examples\n",
      "Test cases:      1000\n",
      "Fails (rate):    962 (96.2%)\n",
      "\n",
      "Example fails:\n",
      "0.9 ('Did Adam lose the painting?', 'Was Adam lost by the painting?')\n",
      "----\n",
      "1.0 ('Did Mary miss the car?', 'Was Mary missed by the car?')\n",
      "----\n",
      "1.0 ('Did Nathan seize the paper?', 'Was Nathan seized by the paper?')\n",
      "----\n"
     ]
    }
   ],
   "source": [
    "t = editor.template((\n",
    "    'Did {first_name} {verb[0]} the {obj}?',\n",
    "    'Was {first_name} {verb[1]} by the {obj}?'\n",
    "),\n",
    "    verb=verbs,\n",
    "    obj=obj,\n",
    "    remove_duplicates=True, \n",
    "    nsamples=1000)\n",
    "# data = [tuple(np.random.choice(x, 2, replace=False)) for x in data]\n",
    "test = MFT(**t, labels=0)\n",
    "test.run(new_pp)\n",
    "test.summary(n=3)\n",
    "suite.add(test, 'traditional SRL: wrong active / passive swap', 'SRL', 'TODO_DESCRIPTION')"
   ]
  },
  {
   "cell_type": "markdown",
   "metadata": {},
   "source": [
    "With people"
   ]
  },
  {
   "cell_type": "code",
   "execution_count": 114,
   "metadata": {},
   "outputs": [
    {
     "name": "stdout",
     "output_type": "stream",
     "text": [
      "know, marry, kill, love, hate, remember, like, want, and, or, have, date, need, see, meet, tell, Know, find, recognize, choose, understand, forgive, trust, mention, blame, follow, murder, miss, bother, ask, deserve, save, beat, mean, attack, prefer, dislike, resemble, become, survive, support, get, help, visit, kiss, leave, accept, recognise, married, own, notice, be, hurt, call, replace, hit, take, fear, catch, reject, clone, divorce, believe, kidnap, Love, /, Remember, adopt, succeed, question, influence, killed, recall, shoot, contact, raise, respect, rape, use, judge, include, eat, v, owe, confront, join, KILL, despise, Like, sponsor, hire, crush, control, threaten, stalk, destroy, Want, &, defeat, lose\n"
     ]
    }
   ],
   "source": [
    "print(', '.join(editor.suggest('Does {first_name} {mask} {first_name2}?', remove_duplicates=True)[:100]))"
   ]
  },
  {
   "cell_type": "code",
   "execution_count": 115,
   "metadata": {},
   "outputs": [
    {
     "name": "stdout",
     "output_type": "stream",
     "text": [
      "Predicting 998 examples\n",
      "Test cases:      998\n",
      "Fails (rate):    681 (68.2%)\n",
      "\n",
      "Example fails:\n",
      "0.4 ('Does Rebecca notice Amy?', 'Is Amy noticed by Rebecca?')\n",
      "----\n",
      "0.0 ('Does Victoria attack Austin?', 'Is Austin attacked by Victoria?')\n",
      "----\n",
      "0.4 ('Does Joseph love Mary?', 'Is Mary loved by Joseph?')\n",
      "----\n"
     ]
    }
   ],
   "source": [
    "pverb = ['love', 'hate', 'like', 'remember', 'recognize', 'trust', 'deserve', 'understand', 'blame', 'dislike', 'prefer', 'follow', 'notice', 'hurt', 'bother', 'support', 'believe', 'accept', 'attack']\n",
    "a = pattern.en.tenses('stolen')[0]\n",
    "pverb = [(v, pattern.en.conjugate(v, *a)) for v in pverb]\n",
    "t = editor.template((\n",
    "    'Does {first_name} {verb[0]} {first_name2}?',\n",
    "    'Is {first_name2} {verb[1]} by {first_name}?',\n",
    "),\n",
    "    verb=pverb,\n",
    "    obj=obj,\n",
    "    remove_duplicates=True, \n",
    "    nsamples=1000)\n",
    "# data = [tuple(np.random.choice(x, 2, replace=False)) for x in data]\n",
    "test = MFT(**t, labels=1)\n",
    "test.run(new_pp)\n",
    "test.summary(n=3)\n",
    "suite.add(test, 'traditional SRL: active / passive swap with people', 'SRL', 'TODO_DESCRIPTION')"
   ]
  },
  {
   "cell_type": "code",
   "execution_count": 116,
   "metadata": {},
   "outputs": [
    {
     "name": "stdout",
     "output_type": "stream",
     "text": [
      "Predicting 994 examples\n",
      "Test cases:      994\n",
      "Fails (rate):    974 (98.0%)\n",
      "\n",
      "Example fails:\n",
      "1.0 ('Does Scott bother Emily?', 'Is Scott bothered by Emily?')\n",
      "----\n",
      "1.0 ('Does Abigail deserve Eric?', 'Is Abigail deserved by Eric?')\n",
      "----\n",
      "0.9 ('Does Joshua understand Robert?', 'Is Joshua understood by Robert?')\n",
      "----\n"
     ]
    }
   ],
   "source": [
    "pverb = ['love', 'hate', 'like', 'remember', 'recognize', 'trust', 'deserve', 'understand', 'blame', 'dislike', 'prefer', 'follow', 'notice', 'hurt', 'bother', 'support', 'believe', 'accept', 'attack']\n",
    "a = pattern.en.tenses('stolen')[0]\n",
    "pverb = [(v, pattern.en.conjugate(v, *a)) for v in pverb]\n",
    "t = editor.template((\n",
    "    'Does {first_name} {verb[0]} {first_name2}?',\n",
    "    'Is {first_name} {verb[1]} by {first_name2}?',\n",
    "),\n",
    "    verb=pverb,\n",
    "    obj=obj,\n",
    "    remove_duplicates=True, \n",
    "    nsamples=1000)\n",
    "# data = [tuple(np.random.choice(x, 2, replace=False)) for x in data]\n",
    "test = MFT(**t, labels=0)\n",
    "test.run(new_pp)\n",
    "test.summary(n=3)\n",
    "suite.add(test, 'traditional SRL: wrong active / passive swap with people', 'SRL', 'TODO_DESCRIPTION')"
   ]
  },
  {
   "cell_type": "code",
   "execution_count": 118,
   "metadata": {},
   "outputs": [
    {
     "name": "stdout",
     "output_type": "stream",
     "text": [
      "Running Adding an adjective makes questions non-duplicates\n",
      "Predicting 999 examples\n",
      "Running non-overlapping adjectives, same first and last name\n",
      "Predicting 957 examples\n",
      "Running same adjectives, different first and last name\n",
      "Predicting 983 examples\n",
      "Running same adjectives, different first but same last name\n",
      "Predicting 991 examples\n",
      "Running same adjectives, same first but different last name\n",
      "Predicting 986 examples\n",
      "Running add one typo\n",
      "Predicting 900 examples\n",
      "Running contractions\n",
      "Predicting 1479 examples\n",
      "Running change same name in both questions\n",
      "Predicting 5422 examples\n",
      "Running change same location in both questions\n",
      "Predicting 5092 examples\n",
      "Running change same number in both questions\n",
      "Predicting 4958 examples\n",
      "Running change first name in only one question\n",
      "Predicting 23540 examples\n",
      "Running change first and last name in only one question\n",
      "Predicting 23540 examples\n",
      "Running change loc in only one question\n",
      "Predicting 23080 examples\n",
      "Running change number in only one question\n",
      "Predicting 22900 examples\n",
      "Running Keep entities, fill in with BERT gibberish\n",
      "Predicting 4744 examples\n",
      "Running is != used to be\n",
      "Predicting 999 examples\n",
      "Running is != becoming\n",
      "Predicting 1000 examples\n",
      "Running before != after\n",
      "Predicting 1000 examples\n",
      "Running before != after, activity\n",
      "Predicting 1000 examples\n",
      "Running Simple negation: Is it normal to X / not to X in country\n",
      "Predicting 1000 examples\n",
      "Running Simple negation: things to worry / not to worry about\n",
      "Predicting 1000 examples\n",
      "Running Simple coref: he and she\n",
      "Predicting 2000 examples\n",
      "Running Simple coref: his and her\n",
      "Predicting 2000 examples\n",
      "Running Who do X think - Who is the ... according to X\n",
      "Predicting 1000 examples\n",
      "Running Order does not matter for comparison\n",
      "Predicting 990 examples\n",
      "Running Order does not matter for symmetric relations\n",
      "Predicting 988 examples\n",
      "Running Order matters for asymmetric relations\n",
      "Predicting 988 examples\n",
      "Running traditional SRL: active / passive swap\n",
      "Predicting 1000 examples\n",
      "Running traditional SRL: wrong active / passive swap\n",
      "Predicting 1000 examples\n",
      "Running traditional SRL: active / passive swap with people\n",
      "Predicting 998 examples\n",
      "Running traditional SRL: wrong active / passive swap with people\n",
      "Predicting 994 examples\n"
     ]
    }
   ],
   "source": [
    "suite.run(new_pp, overwrite=True)"
   ]
  },
  {
   "cell_type": "code",
   "execution_count": 163,
   "metadata": {},
   "outputs": [
    {
     "name": "stdout",
     "output_type": "stream",
     "text": [
      "Please wait as we prepare the table data...\n"
     ]
    },
    {
     "data": {
      "application/vnd.jupyter.widget-view+json": {
       "model_id": "fa4b24fb817a4a31b2f584cc93d8f20b",
       "version_major": 2,
       "version_minor": 0
      },
      "text/plain": [
       "SuiteSummarizer(stats={'npassed': 0, 'nfailed': 0, 'nfiltered': 0}, test_infos=[{'name': 'Modifier: adj', 'des…"
      ]
     },
     "metadata": {},
     "output_type": "display_data"
    }
   ],
   "source": [
    "suite.visual_summary_table()"
   ]
  },
  {
   "cell_type": "code",
   "execution_count": 119,
   "metadata": {},
   "outputs": [
    {
     "name": "stdout",
     "output_type": "stream",
     "text": [
      "Vocabulary\n",
      "\n",
      "Adding an adjective makes questions non-duplicates\n",
      "Test cases:      999\n",
      "Fails (rate):    780 (78.1%)\n",
      "\n",
      "Example fails:\n",
      "1.0 ('Is Katherine Ward an executive?', 'Is Katherine Ward an excellent executive?')\n",
      "----\n",
      "0.9 ('Is Nicholas Kelly an engineer?', 'Is Nicholas Kelly an elite engineer?')\n",
      "----\n",
      "1.0 ('Is Sean King an entrepreneur?', 'Is Sean King a real entrepreneur?')\n",
      "----\n",
      "\n",
      "\n",
      "non-overlapping adjectives, same first and last name\n",
      "Test cases:      957\n",
      "Fails (rate):    3 (0.3%)\n",
      "\n",
      "Example fails:\n",
      "0.6 ('Is Jordan Cooper Indian?', 'Is Jordan Cooper autistic?')\n",
      "----\n",
      "0.5 ('Is Kyle Diaz Armenian?', 'Is Kyle Diaz an immigrant?')\n",
      "----\n",
      "0.9 ('Is Zachary Reyes American?', 'Is Zachary Reyes Indian?')\n",
      "----\n",
      "\n",
      "\n",
      "same adjectives, different first and last name\n",
      "Test cases:      983\n",
      "Fails (rate):    49 (5.0%)\n",
      "\n",
      "Example fails:\n",
      "0.8 ('Is Christopher Thomas dead?', 'Is Jeffrey Richardson dead?')\n",
      "----\n",
      "0.8 ('Is Rebecca Clark mad?', 'Is Emily Bennett mad?')\n",
      "----\n",
      "0.7 ('Is Kayla Sanders white?', 'Is Heather Clark white?')\n",
      "----\n",
      "\n",
      "\n",
      "same adjectives, different first but same last name\n",
      "Test cases:      991\n",
      "Fails (rate):    103 (10.4%)\n",
      "\n",
      "Example fails:\n",
      "1.0 ('Is Madison White an astronaut?', 'Is Samantha White an astronaut?')\n",
      "----\n",
      "0.9 ('Is Lauren Nelson black?', 'Is Nicole Nelson black?')\n",
      "----\n",
      "0.8 ('Is Stephanie White gay?', 'Is Shannon White gay?')\n",
      "----\n",
      "\n",
      "\n",
      "same adjectives, same first but different last name\n",
      "Test cases:      986\n",
      "Fails (rate):    72 (7.3%)\n",
      "\n",
      "Example fails:\n",
      "0.7 ('Is Megan Young trustworthy?', 'Is Megan Davis trustworthy?')\n",
      "----\n",
      "0.7 ('Is Amber Hernandez racist?', 'Is Amber Diaz racist?')\n",
      "----\n",
      "0.9 ('Is Christina Diaz white?', 'Is Christina Perez white?')\n",
      "----\n",
      "\n",
      "\n",
      "\n",
      "\n",
      "Robustness\n",
      "\n",
      "add one typo\n",
      "Test cases:      300\n",
      "Fails (rate):    53 (17.7%)\n",
      "\n",
      "Example fails:\n",
      "1.0 ('Does long distance relationships actually work?', 'How do I cope with a long distance relationship?')\n",
      "0.0 ('Does long distanec relationships actually work?', 'How do I cope with a long distance relationship?')\n",
      "\n",
      "----\n",
      "0.7 ('What is the best Instagram bot that automatically like hashtags you choose?', 'What are the cheapest/free Instagram bots that automatically like hashtags you recommend?')\n",
      "0.1 ('What is the best Instagram bot that automatically like hashtags you choos?e', 'What are the cheapest/free Instagram bots that automatically like hashtags you recommend?')\n",
      "\n",
      "----\n",
      "1.0 ('What is the best way to learn white hat hacking?', 'What is the best way to learn hacking in short time?')\n",
      "0.0 ('What is the best way to learn white hat hacking?', 'What is the best way to learn hacking in shortt ime?')\n",
      "\n",
      "----\n",
      "\n",
      "\n",
      "contractions\n",
      "Test cases:      500\n",
      "Fails (rate):    13 (2.6%)\n",
      "\n",
      "Example fails:\n",
      "0.6 ('Can any body explain about meshing in FEA?', \"Altair Hypermesh: What is meshing in ansys? Please answer in detail in lay man's language?\")\n",
      "0.4 ('Can any body explain about meshing in FEA?', \"Altair Hypermesh: What's meshing in ansys? Please answer in detail in lay man's language?\")\n",
      "\n",
      "----\n",
      "0.5 ('How do you know if someone is following you back on Snapchat?', \"How do you check if someone is following you on Snapchat if you don't follow them?\")\n",
      "0.1 ('How do you know if someone is following you back on Snapchat?', 'How do you check if someone is following you on Snapchat if you do not follow them?')\n",
      "\n",
      "----\n",
      "0.7 (\"Who was the kindest/friendliest celebrity you've ever met?\", \"Who's the nicest celebrity you've ever met?\")\n",
      "0.4 ('Who was the kindest/friendliest celebrity you have ever met?', 'Who is the nicest celebrity you have ever met?')\n",
      "0.5 (\"Who was the kindest/friendliest celebrity you've ever met?\", 'Who is the nicest celebrity you have ever met?')\n",
      "\n",
      "----\n",
      "\n",
      "\n",
      "\n",
      "\n",
      "Temporal\n",
      "\n",
      "is != used to be\n",
      "Test cases:      999\n",
      "Fails (rate):    613 (61.4%)\n",
      "\n",
      "Example fails:\n",
      "0.7 ('Is Jessica Young an auditor?', 'Did Jessica Young use to be an auditor?')\n",
      "----\n",
      "0.6 ('Is Austin Cox an architect?', 'Did Austin Cox use to be an architect?')\n",
      "----\n",
      "0.8 ('Is Jonathan Martinez an employee?', 'Did Jonathan Martinez use to be an employee?')\n",
      "----\n",
      "\n",
      "\n",
      "is != becoming\n",
      "Test cases:      1000\n",
      "Fails (rate):    181 (18.1%)\n",
      "\n",
      "Example fails:\n",
      "0.5 ('Is Kyle Carter an advocate?', 'Is Kyle Carter becoming an advocate?')\n",
      "----\n",
      "1.0 ('Is Tiffany Long a person?', 'Is Tiffany Long becoming a person?')\n",
      "----\n",
      "0.8 ('Is Alexis Green an actor?', 'Is Alexis Green becoming an actor?')\n",
      "----\n",
      "\n",
      "\n",
      "before != after\n",
      "Test cases:      1000\n",
      "Fails (rate):    1000 (100.0%)\n",
      "\n",
      "Example fails:\n",
      "1.0 (\"What was Nicholas Wilson's life before becoming an advisor?\", \"What was Nicholas Wilson's life after becoming an advisor?\")\n",
      "----\n",
      "1.0 (\"What was Victoria Moore's life before becoming an actor?\", \"What was Victoria Moore's life after becoming an actor?\")\n",
      "----\n",
      "1.0 (\"What was Brandon Peterson's life before becoming an employee?\", \"What was Brandon Peterson's life after becoming an employee?\")\n",
      "----\n",
      "\n",
      "\n",
      "before != after, activity\n",
      "Test cases:      1000\n",
      "Fails (rate):    979 (97.9%)\n",
      "\n",
      "Example fails:\n",
      "0.9 ('Is it wrong to tweet before 4pm?', 'Is it wrong to tweet after 4pm?')\n",
      "----\n",
      "0.9 ('Is it acceptable to swim before 5am?', 'Is it acceptable to swim after 5am?')\n",
      "----\n",
      "1.0 ('Is it dangerous to eat before 1pm?', 'Is it dangerous to eat after 1pm?')\n",
      "----\n",
      "\n",
      "\n",
      "\n",
      "\n",
      "SRL\n",
      "\n",
      "Who do X think - Who is the ... according to X\n",
      "Test cases:      1000\n",
      "Fails (rate):    131 (13.1%)\n",
      "\n",
      "Example fails:\n",
      "0.5 ('Who do consumers think is the worst drummer in the world?', 'Who is the worst drummer in the world according to consumers?')\n",
      "----\n",
      "0.0 ('Who do men think is the best player in the world?', 'Who is the best player in the world according to men?')\n",
      "----\n",
      "0.5 ('Who do veterans think is the top goalkeeper in the world?', 'Who is the top goalkeeper in the world according to veterans?')\n",
      "----\n",
      "\n",
      "\n",
      "Order does not matter for comparison\n",
      "Test cases:      990\n",
      "Fails (rate):    982 (99.2%)\n",
      "\n",
      "Example fails:\n",
      "0.0 ('Are primates colder than Lions?', 'What is colder, Lions or primates?')\n",
      "----\n",
      "0.0 ('Are plants lighter than robots?', 'What is lighter, robots or plants?')\n",
      "----\n",
      "0.0 ('Are beetles louder than rabbits?', 'What is louder, rabbits or beetles?')\n",
      "----\n",
      "\n",
      "\n",
      "Order does not matter for symmetric relations\n",
      "Test cases:      988\n",
      "Fails (rate):    756 (76.5%)\n",
      "\n",
      "Example fails:\n",
      "0.0 ('Is Brandon dating Sophia?', 'Is Sophia dating Brandon?')\n",
      "----\n",
      "0.0 ('Is Brian close to Amber?', 'Is Amber close to Brian?')\n",
      "----\n",
      "0.0 ('Is Jose related to Kyle?', 'Is Kyle related to Jose?')\n",
      "----\n",
      "\n",
      "\n",
      "Order matters for asymmetric relations\n",
      "Test cases:      988\n",
      "Fails (rate):    243 (24.6%)\n",
      "\n",
      "Example fails:\n",
      "0.7 ('Is Austin protecting Samuel?', 'Is Samuel protecting Austin?')\n",
      "----\n",
      "0.8 ('Is Elizabeth expecting Danielle?', 'Is Danielle expecting Elizabeth?')\n",
      "----\n",
      "0.9 ('Is Nicholas abusive to Aaron?', 'Is Aaron abusive to Nicholas?')\n",
      "----\n",
      "\n",
      "\n",
      "traditional SRL: active / passive swap\n",
      "Test cases:      1000\n",
      "Fails (rate):    115 (11.5%)\n",
      "\n",
      "Example fails:\n",
      "0.0 ('Did Alyssa miss the farm?', 'Was the farm missed by Alyssa?')\n",
      "----\n",
      "0.0 ('Did William miss the building?', 'Was the building missed by William?')\n",
      "----\n",
      "0.0 ('Did Jeremy leave the ranch?', 'Was the ranch left by Jeremy?')\n",
      "----\n",
      "\n",
      "\n",
      "traditional SRL: wrong active / passive swap\n",
      "Test cases:      1000\n",
      "Fails (rate):    962 (96.2%)\n",
      "\n",
      "Example fails:\n",
      "1.0 ('Did William receive the car?', 'Was William received by the car?')\n",
      "----\n",
      "1.0 ('Did Amber like the newspaper?', 'Was Amber liked by the newspaper?')\n",
      "----\n",
      "1.0 ('Did Taylor need the ticket?', 'Was Taylor needed by the ticket?')\n",
      "----\n",
      "\n",
      "\n",
      "traditional SRL: active / passive swap with people\n",
      "Test cases:      998\n",
      "Fails (rate):    681 (68.2%)\n",
      "\n",
      "Example fails:\n",
      "0.0 ('Does Natalie hate Jordan?', 'Is Jordan hated by Natalie?')\n",
      "----\n",
      "0.5 ('Does Samantha bother Benjamin?', 'Is Benjamin bothered by Samantha?')\n",
      "----\n",
      "0.1 ('Does Jason support William?', 'Is William supported by Jason?')\n",
      "----\n",
      "\n",
      "\n",
      "traditional SRL: wrong active / passive swap with people\n",
      "Test cases:      994\n",
      "Fails (rate):    974 (98.0%)\n",
      "\n",
      "Example fails:\n",
      "0.9 ('Does William follow Alyssa?', 'Is William followed by Alyssa?')\n",
      "----\n",
      "0.9 ('Does Brandon like Ashley?', 'Is Brandon liked by Ashley?')\n",
      "----\n",
      "1.0 ('Does Andrea notice Brittany?', 'Is Andrea noticed by Brittany?')\n",
      "----\n",
      "\n",
      "\n",
      "\n",
      "\n",
      "Coref\n",
      "\n",
      "Simple coref: he and she\n",
      "Test cases:      2000\n",
      "Fails (rate):    1648 (82.4%)\n",
      "\n",
      "Example fails:\n",
      "0.9 ('If Nathaniel and Holly were alone, do you think he would reject her?', 'If Nathaniel and Holly were alone, do you think she would reject him?')\n",
      "----\n",
      "0.7 ('If Jesse and Sophia were alone, do you think he would reject her?', 'If Jesse and Sophia were alone, do you think she would reject him?')\n",
      "----\n",
      "0.9 ('If Rebecca and Kenneth were alone, do you think he would reject her?', 'If Rebecca and Kenneth were alone, do you think she would reject him?')\n",
      "----\n",
      "\n",
      "\n",
      "Simple coref: his and her\n",
      "Test cases:      2000\n",
      "Fails (rate):    1977 (98.8%)\n",
      "\n",
      "Example fails:\n",
      "0.9 ('If Gregory and Megan were married, would his family be happy?', \"If Gregory and Megan were married, would Megan's family be happy?\")\n",
      "----\n",
      "0.8 ('If Edward and Kristen were married, would her family be happy?', \"If Edward and Kristen were married, would Edward's family be happy?\")\n",
      "----\n",
      "1.0 ('If Alexander and Evelyn were married, would his family be happy?', \"If Alexander and Evelyn were married, would Evelyn's family be happy?\")\n",
      "----\n",
      "\n",
      "\n",
      "\n",
      "\n",
      "Negation\n",
      "\n",
      "Simple negation: Is it normal to X / not to X in country\n",
      "Test cases:      1000\n",
      "Fails (rate):    223 (22.3%)\n",
      "\n",
      "Example fails:\n",
      "0.5 ('Is it awkward to fight in Slovak Republic?', 'Is it awkward not to fight in Slovak Republic?')\n",
      "----\n",
      "0.8 ('Is it wrong to travel in Tuvalu?', 'Is it wrong not to travel in Tuvalu?')\n",
      "----\n",
      "0.9 ('Is it wrong to invest in West Bank and Gaza?', 'Is it wrong not to invest in West Bank and Gaza?')\n",
      "----\n",
      "\n",
      "\n",
      "Simple negation: things to worry / not to worry about\n",
      "Test cases:      1000\n",
      "Fails (rate):    0 (0.0%)\n",
      "\n",
      "\n",
      "\n",
      "\n",
      "NER\n",
      "\n",
      "change same name in both questions\n",
      "Test cases:      500\n",
      "Fails (rate):    58 (11.6%)\n",
      "\n",
      "Example fails:\n",
      "0.2 ('Did Jesus keep the sabbath?', 'When Jesus died on the cross did he do away with keeping the seventh year sabbath?')\n",
      "1.0 ('Did Dylan keep the sabbath?', 'When Dylan died on the cross did he do away with keeping the seventh year sabbath?')\n",
      "1.0 ('Did Alex keep the sabbath?', 'When Alex died on the cross did he do away with keeping the seventh year sabbath?')\n",
      "\n",
      "----\n",
      "0.6 ('What did Hillary Clinton mean when she said she short-circuited?', 'Was Hillary Clinton telling the truth when she said she had a short circuit when she claimed she told the truth about her emails?')\n",
      "0.1 ('What did Sarah Ross mean when she said she short-circuited?', 'Was Sarah Ross telling the truth when she said she had a short circuit when she claimed she told the truth about her emails?')\n",
      "0.2 ('What did Jennifer Perez mean when she said she short-circuited?', 'Was Jennifer Perez telling the truth when she said she had a short circuit when she claimed she told the truth about her emails?')\n",
      "\n",
      "----\n",
      "0.9 ('Is Edward Snowden a hero or traitor?', 'Would you characterize Edward Snowden as a hero, a patriot, both, or neither? Why?')\n",
      "0.2 ('Is John Morales a hero or traitor?', 'Would you characterize John Morales as a hero, a patriot, both, or neither? Why?')\n",
      "0.3 ('Is Christopher Watson a hero or traitor?', 'Would you characterize Christopher Watson as a hero, a patriot, both, or neither? Why?')\n",
      "\n",
      "----\n",
      "\n",
      "\n",
      "change same location in both questions\n",
      "Test cases:      500\n",
      "Fails (rate):    52 (10.4%)\n",
      "\n",
      "Example fails:\n",
      "0.0 ('Where are the best honeymoon destinations in India in June?', 'Which is the best honeymoon destination for couples in India?')\n",
      "0.8 ('Where are the best honeymoon destinations in Lao PDR in June?', 'Which is the best honeymoon destination for couples in Lao PDR?')\n",
      "0.7 ('Where are the best honeymoon destinations in Macao SAR in June?', 'Which is the best honeymoon destination for couples in Macao SAR?')\n",
      "\n",
      "----\n",
      "0.3 ('Can I live on $85,000 a year in Manhattan?', 'How much should someone make to live comfortably in Manhattan?')\n",
      "0.9 ('Can I live on $85,000 a year in Joliet?', 'How much should someone make to live comfortably in Joliet?')\n",
      "0.8 ('Can I live on $85,000 a year in Troy?', 'How much should someone make to live comfortably in Troy?')\n",
      "\n",
      "----\n",
      "0.0 (\"Why doesn't India buys SU-34 Fullback fighter bomber?\", \"Why can't India make indigenous fighter jets and weapons?\")\n",
      "0.8 (\"Why doesn't Nepal buys SU-34 Fullback fighter bomber?\", \"Why can't Nepal make indigenous fighter jets and weapons?\")\n",
      "\n",
      "----\n",
      "\n",
      "\n",
      "change same number in both questions\n",
      "Test cases:      500\n",
      "Fails (rate):    29 (5.8%)\n",
      "\n",
      "Example fails:\n",
      "0.0 ('What should I do to be topper of gate 2017?', 'How do I start preparing for GATE 2017 from now?')\n",
      "0.6 ('What should I do to be topper of gate 1619?', 'How do I start preparing for GATE 1619 from now?')\n",
      "0.5 ('What should I do to be topper of gate 1756?', 'How do I start preparing for GATE 1756 from now?')\n",
      "\n",
      "----\n",
      "0.0 ('Would a pregnancy test show an accurate reading at 1 week?', 'Why did I get a positive pregnancy test 1 day before having my period?')\n",
      "1.0 ('Would a pregnancy test show an accurate reading at 2 week?', 'Why did I get a positive pregnancy test 2 day before having my period?')\n",
      "1.0 ('Would a pregnancy test show an accurate reading at 2 week?', 'Why did I get a positive pregnancy test 2 day before having my period?')\n",
      "\n",
      "----\n",
      "0.9 ('Why is a dog year equal to 7 human years and what are the reasons behind this?', 'Is it true that dogs age 7 years for every one human year?')\n",
      "0.5 ('Why is a dog year equal to 5 human years and what are the reasons behind this?', 'Is it true that dogs age 5 years for every one human year?')\n",
      "0.5 ('Why is a dog year equal to 5 human years and what are the reasons behind this?', 'Is it true that dogs age 5 years for every one human year?')\n",
      "\n",
      "----\n",
      "\n",
      "\n",
      "change first name in only one question\n",
      "Test cases:      1500\n",
      "After filtering: 601 (40.1%)\n",
      "Fails (rate):    535 (89.0%)\n",
      "\n",
      "Example fails:\n",
      "1.0 ('Why is Hillary Clinton a better choice than Donald Trump?', 'Who would be a better president: Hillary Clinton or Donald Trump?')\n",
      "1.0 ('Why is Hillary Clinton a better choice than Donald Trump?', 'Who would be a better president: Hillary Clinton or Matthew Trump?')\n",
      "1.0 ('Why is Hillary Clinton a better choice than Donald Trump?', 'Who would be a better president: Hillary Clinton or Jared Trump?')\n",
      "\n",
      "----\n",
      "1.0 ('Who is better, Clinton or Trump?', 'Is Hillary Clinton really worse than Donald Trump?')\n",
      "1.0 ('Who is better, Clinton or Trump?', 'Is Hillary Clinton really worse than Luke Trump?')\n",
      "1.0 ('Who is better, Clinton or Trump?', 'Is Hillary Clinton really worse than Aiden Trump?')\n",
      "\n",
      "----\n",
      "1.0 ('Is Donald Trump racist?', 'Why do some people consider Donald Trump Jam racist?')\n",
      "1.0 ('Is Luke Trump racist?', 'Why do some people consider Donald Trump Jam racist?')\n",
      "1.0 ('Is Noah Trump racist?', 'Why do some people consider Donald Trump Jam racist?')\n",
      "\n",
      "----\n",
      "\n",
      "\n",
      "change first and last name in only one question\n",
      "Test cases:      1500\n",
      "After filtering: 598 (39.9%)\n",
      "Fails (rate):    279 (46.7%)\n",
      "\n",
      "Example fails:\n",
      "1.0 ('Would Donald Trump make a good U.S president? Why or why not?', 'Donald Trump: Would you be a good president?')\n",
      "0.9 ('Would Donald Trump make a good U.S president? Why or why not?', 'Joshua Ross: Would you be a good president?')\n",
      "0.9 ('Would Donald Trump make a good U.S president? Why or why not?', 'David Wood: Would you be a good president?')\n",
      "\n",
      "----\n",
      "1.0 ('Who is in the best interest for india? Hillary or Trump?', 'Who is good for India Hillary or Trump?')\n",
      "1.0 ('Who is in the best interest for india? Hillary or Trump?', 'Who is good for India April or Trump?')\n",
      "1.0 ('Who is in the best interest for india? Hillary or Trump?', 'Who is good for India Kayla or Trump?')\n",
      "\n",
      "----\n",
      "1.0 ('How do I learn to use a Mac?', 'What is the best way to learn how use your Mac?')\n",
      "0.9 ('How do I learn to use a Mac?', 'What is the best way to learn how use your Travis?')\n",
      "\n",
      "----\n",
      "\n",
      "\n",
      "change loc in only one question\n",
      "Test cases:      1500\n",
      "After filtering: 491 (32.7%)\n",
      "Fails (rate):    219 (44.6%)\n",
      "\n",
      "Example fails:\n",
      "1.0 ('What will happen to stock market due to demonetizing of 500rs and 1000rs note in India?', 'What will be the effect of the ban of the 1000rs and 500rs notes on the stock market?')\n",
      "1.0 ('What will happen to stock market due to demonetizing of 500rs and 1000rs note in Turkey?', 'What will be the effect of the ban of the 1000rs and 500rs notes on the stock market?')\n",
      "1.0 ('What will happen to stock market due to demonetizing of 500rs and 1000rs note in Virgin Islands (U.S.)?', 'What will be the effect of the ban of the 1000rs and 500rs notes on the stock market?')\n",
      "\n",
      "----\n",
      "1.0 ('Why is salt water taffy candy unknown in Japan?', 'Why is saltwater Taffy candy imported in Canada?')\n",
      "1.0 ('Why is salt water taffy candy unknown in Hong Kong SAR?', 'Why is saltwater Taffy candy imported in Canada?')\n",
      "1.0 ('Why is salt water taffy candy unknown in Japan?', 'Why is saltwater Taffy candy imported in Nauru?')\n",
      "\n",
      "----\n",
      "1.0 ('Is Spotify available in India?', 'When will Spotify arrive in India?')\n",
      "1.0 ('Is Spotify available in India?', 'When will Spotify arrive in Sri Lanka?')\n",
      "1.0 ('Is Spotify available in Mozambique?', 'When will Spotify arrive in India?')\n",
      "\n",
      "----\n",
      "\n",
      "\n",
      "change number in only one question\n",
      "Test cases:      1500\n",
      "After filtering: 527 (35.1%)\n",
      "Fails (rate):    457 (86.7%)\n",
      "\n",
      "Example fails:\n",
      "0.7 ('Why was there an earthquake in the SF bay area the afternoon of January 7, 2011?', 'Was there an earthquake in the SF Bay Area the afternoon of January 7, 2011?')\n",
      "0.7 ('Why was there an earthquake in the SF bay area the afternoon of January 7, 2011?', 'Was there an earthquake in the SF Bay Area the afternoon of January 7, 2011?')\n",
      "0.7 ('Why was there an earthquake in the SF bay area the afternoon of January 7, 2011?', 'Was there an earthquake in the SF Bay Area the afternoon of January 7, 2011?')\n",
      "\n",
      "----\n",
      "1.0 ('Is it worth doing an MS in computer science from the USA from a 100+ ranked university?', 'Which are the best/good universities in USA for MS in computer science and is it worth doing it?')\n",
      "1.0 ('Is it worth doing an MS in computer science from the USA from a 119+ ranked university?', 'Which are the best/good universities in USA for MS in computer science and is it worth doing it?')\n",
      "1.0 ('Is it worth doing an MS in computer science from the USA from a 116+ ranked university?', 'Which are the best/good universities in USA for MS in computer science and is it worth doing it?')\n",
      "\n",
      "----\n",
      "1.0 ('What are your top 5 movies for 2016?', 'What are some interesting movies in 2016?')\n",
      "1.0 ('What are your top 6 movies for 2016?', 'What are some interesting movies in 2016?')\n",
      "1.0 ('What are your top 6 movies for 2016?', 'What are some interesting movies in 2016?')\n",
      "\n",
      "----\n",
      "\n",
      "\n",
      "Keep entities, fill in with BERT gibberish\n",
      "Test cases:      500\n",
      "Fails (rate):    143 (28.6%)\n",
      "\n",
      "Example fails:\n",
      "0.0 ('What is the cost of 1 rupee note bundle from 1993?', 'What is the value of a 1994 1 Rupee note?')\n",
      "1.0 ('What is the value of a 1994 1 Rupee note?', 'What the 1994 Indian Rupee?')\n",
      "0.9 ('What is the value of a 1994 1 Rupee note?', 'What Was 1994 The Rupee?')\n",
      "\n",
      "----\n",
      "0.0 ('Is there a dark side to xenophilia?', 'What is your dark side?')\n",
      "0.8 ('Is there a dark side to xenophilia?', 'Is it xenophilia?')\n",
      "\n",
      "----\n",
      "0.7 ('What advice do you have for a girl who just turned 20?', \"What's your best advice, for someone turning twenty, in one sentence?\")\n",
      "0.9 ('What advice do you have for a girl who just turned 20?', 'What turns 20?')\n",
      "\n",
      "----\n",
      "\n",
      "\n",
      "\n",
      "\n"
     ]
    }
   ],
   "source": [
    "suite.summary(n=3)"
   ]
  },
  {
   "cell_type": "code",
   "execution_count": 120,
   "metadata": {},
   "outputs": [
    {
     "ename": "PicklingError",
     "evalue": "Can't pickle <class 'checklist.test_types.INV'>: it's not the same object as checklist.test_types.INV",
     "output_type": "error",
     "traceback": [
      "\u001b[0;31m---------------------------------------------------------------------------\u001b[0m",
      "\u001b[0;31mPicklingError\u001b[0m                             Traceback (most recent call last)",
      "\u001b[0;32m<ipython-input-120-dd79e1e9c42d>\u001b[0m in \u001b[0;36m<module>\u001b[0;34m\u001b[0m\n\u001b[0;32m----> 1\u001b[0;31m \u001b[0msuite\u001b[0m\u001b[0;34m.\u001b[0m\u001b[0msave\u001b[0m\u001b[0;34m(\u001b[0m\u001b[0;34m'/home/marcotcr/tmp/qqp_suite.pkl'\u001b[0m\u001b[0;34m)\u001b[0m\u001b[0;34m\u001b[0m\u001b[0;34m\u001b[0m\u001b[0m\n\u001b[0m",
      "\u001b[0;32m~/work/checklist/checklist/test_suite.py\u001b[0m in \u001b[0;36msave\u001b[0;34m(self, file)\u001b[0m\n\u001b[1;32m    103\u001b[0m             \u001b[0mprint\u001b[0m\u001b[0;34m(\u001b[0m\u001b[0;34m)\u001b[0m\u001b[0;34m\u001b[0m\u001b[0;34m\u001b[0m\u001b[0m\n\u001b[1;32m    104\u001b[0m     \u001b[0;32mdef\u001b[0m \u001b[0msave\u001b[0m\u001b[0;34m(\u001b[0m\u001b[0mself\u001b[0m\u001b[0;34m,\u001b[0m \u001b[0mfile\u001b[0m\u001b[0;34m)\u001b[0m\u001b[0;34m:\u001b[0m\u001b[0;34m\u001b[0m\u001b[0;34m\u001b[0m\u001b[0m\n\u001b[0;32m--> 105\u001b[0;31m         \u001b[0mdill\u001b[0m\u001b[0;34m.\u001b[0m\u001b[0mdump\u001b[0m\u001b[0;34m(\u001b[0m\u001b[0mself\u001b[0m\u001b[0;34m,\u001b[0m \u001b[0mopen\u001b[0m\u001b[0;34m(\u001b[0m\u001b[0mfile\u001b[0m\u001b[0;34m,\u001b[0m \u001b[0;34m'wb'\u001b[0m\u001b[0;34m)\u001b[0m\u001b[0;34m,\u001b[0m \u001b[0mrecurse\u001b[0m\u001b[0;34m=\u001b[0m\u001b[0;32mTrue\u001b[0m\u001b[0;34m)\u001b[0m\u001b[0;34m\u001b[0m\u001b[0;34m\u001b[0m\u001b[0m\n\u001b[0m",
      "\u001b[0;32m~/.virtualenvs/checklist/lib/python3.6/site-packages/dill/_dill.py\u001b[0m in \u001b[0;36mdump\u001b[0;34m(obj, file, protocol, byref, fmode, recurse, **kwds)\u001b[0m\n\u001b[1;32m    257\u001b[0m     \u001b[0m_kwds\u001b[0m \u001b[0;34m=\u001b[0m \u001b[0mkwds\u001b[0m\u001b[0;34m.\u001b[0m\u001b[0mcopy\u001b[0m\u001b[0;34m(\u001b[0m\u001b[0;34m)\u001b[0m\u001b[0;34m\u001b[0m\u001b[0;34m\u001b[0m\u001b[0m\n\u001b[1;32m    258\u001b[0m     \u001b[0m_kwds\u001b[0m\u001b[0;34m.\u001b[0m\u001b[0mupdate\u001b[0m\u001b[0;34m(\u001b[0m\u001b[0mdict\u001b[0m\u001b[0;34m(\u001b[0m\u001b[0mbyref\u001b[0m\u001b[0;34m=\u001b[0m\u001b[0mbyref\u001b[0m\u001b[0;34m,\u001b[0m \u001b[0mfmode\u001b[0m\u001b[0;34m=\u001b[0m\u001b[0mfmode\u001b[0m\u001b[0;34m,\u001b[0m \u001b[0mrecurse\u001b[0m\u001b[0;34m=\u001b[0m\u001b[0mrecurse\u001b[0m\u001b[0;34m)\u001b[0m\u001b[0;34m)\u001b[0m\u001b[0;34m\u001b[0m\u001b[0;34m\u001b[0m\u001b[0m\n\u001b[0;32m--> 259\u001b[0;31m     \u001b[0mPickler\u001b[0m\u001b[0;34m(\u001b[0m\u001b[0mfile\u001b[0m\u001b[0;34m,\u001b[0m \u001b[0mprotocol\u001b[0m\u001b[0;34m,\u001b[0m \u001b[0;34m**\u001b[0m\u001b[0m_kwds\u001b[0m\u001b[0;34m)\u001b[0m\u001b[0;34m.\u001b[0m\u001b[0mdump\u001b[0m\u001b[0;34m(\u001b[0m\u001b[0mobj\u001b[0m\u001b[0;34m)\u001b[0m\u001b[0;34m\u001b[0m\u001b[0;34m\u001b[0m\u001b[0m\n\u001b[0m\u001b[1;32m    260\u001b[0m     \u001b[0;32mreturn\u001b[0m\u001b[0;34m\u001b[0m\u001b[0;34m\u001b[0m\u001b[0m\n\u001b[1;32m    261\u001b[0m \u001b[0;34m\u001b[0m\u001b[0m\n",
      "\u001b[0;32m~/.virtualenvs/checklist/lib/python3.6/site-packages/dill/_dill.py\u001b[0m in \u001b[0;36mdump\u001b[0;34m(self, obj)\u001b[0m\n\u001b[1;32m    443\u001b[0m             \u001b[0;32mraise\u001b[0m \u001b[0mPicklingError\u001b[0m\u001b[0;34m(\u001b[0m\u001b[0mmsg\u001b[0m\u001b[0;34m)\u001b[0m\u001b[0;34m\u001b[0m\u001b[0;34m\u001b[0m\u001b[0m\n\u001b[1;32m    444\u001b[0m         \u001b[0;32melse\u001b[0m\u001b[0;34m:\u001b[0m\u001b[0;34m\u001b[0m\u001b[0;34m\u001b[0m\u001b[0m\n\u001b[0;32m--> 445\u001b[0;31m             \u001b[0mStockPickler\u001b[0m\u001b[0;34m.\u001b[0m\u001b[0mdump\u001b[0m\u001b[0;34m(\u001b[0m\u001b[0mself\u001b[0m\u001b[0;34m,\u001b[0m \u001b[0mobj\u001b[0m\u001b[0;34m)\u001b[0m\u001b[0;34m\u001b[0m\u001b[0;34m\u001b[0m\u001b[0m\n\u001b[0m\u001b[1;32m    446\u001b[0m         \u001b[0mstack\u001b[0m\u001b[0;34m.\u001b[0m\u001b[0mclear\u001b[0m\u001b[0;34m(\u001b[0m\u001b[0;34m)\u001b[0m  \u001b[0;31m# clear record of 'recursion-sensitive' pickled objects\u001b[0m\u001b[0;34m\u001b[0m\u001b[0;34m\u001b[0m\u001b[0m\n\u001b[1;32m    447\u001b[0m         \u001b[0;32mreturn\u001b[0m\u001b[0;34m\u001b[0m\u001b[0;34m\u001b[0m\u001b[0m\n",
      "\u001b[0;32m/usr/lib/python3.6/pickle.py\u001b[0m in \u001b[0;36mdump\u001b[0;34m(self, obj)\u001b[0m\n\u001b[1;32m    407\u001b[0m         \u001b[0;32mif\u001b[0m \u001b[0mself\u001b[0m\u001b[0;34m.\u001b[0m\u001b[0mproto\u001b[0m \u001b[0;34m>=\u001b[0m \u001b[0;36m4\u001b[0m\u001b[0;34m:\u001b[0m\u001b[0;34m\u001b[0m\u001b[0;34m\u001b[0m\u001b[0m\n\u001b[1;32m    408\u001b[0m             \u001b[0mself\u001b[0m\u001b[0;34m.\u001b[0m\u001b[0mframer\u001b[0m\u001b[0;34m.\u001b[0m\u001b[0mstart_framing\u001b[0m\u001b[0;34m(\u001b[0m\u001b[0;34m)\u001b[0m\u001b[0;34m\u001b[0m\u001b[0;34m\u001b[0m\u001b[0m\n\u001b[0;32m--> 409\u001b[0;31m         \u001b[0mself\u001b[0m\u001b[0;34m.\u001b[0m\u001b[0msave\u001b[0m\u001b[0;34m(\u001b[0m\u001b[0mobj\u001b[0m\u001b[0;34m)\u001b[0m\u001b[0;34m\u001b[0m\u001b[0;34m\u001b[0m\u001b[0m\n\u001b[0m\u001b[1;32m    410\u001b[0m         \u001b[0mself\u001b[0m\u001b[0;34m.\u001b[0m\u001b[0mwrite\u001b[0m\u001b[0;34m(\u001b[0m\u001b[0mSTOP\u001b[0m\u001b[0;34m)\u001b[0m\u001b[0;34m\u001b[0m\u001b[0;34m\u001b[0m\u001b[0m\n\u001b[1;32m    411\u001b[0m         \u001b[0mself\u001b[0m\u001b[0;34m.\u001b[0m\u001b[0mframer\u001b[0m\u001b[0;34m.\u001b[0m\u001b[0mend_framing\u001b[0m\u001b[0;34m(\u001b[0m\u001b[0;34m)\u001b[0m\u001b[0;34m\u001b[0m\u001b[0;34m\u001b[0m\u001b[0m\n",
      "\u001b[0;32m/usr/lib/python3.6/pickle.py\u001b[0m in \u001b[0;36msave\u001b[0;34m(self, obj, save_persistent_id)\u001b[0m\n\u001b[1;32m    519\u001b[0m \u001b[0;34m\u001b[0m\u001b[0m\n\u001b[1;32m    520\u001b[0m         \u001b[0;31m# Save the reduce() output and finally memoize the object\u001b[0m\u001b[0;34m\u001b[0m\u001b[0;34m\u001b[0m\u001b[0;34m\u001b[0m\u001b[0m\n\u001b[0;32m--> 521\u001b[0;31m         \u001b[0mself\u001b[0m\u001b[0;34m.\u001b[0m\u001b[0msave_reduce\u001b[0m\u001b[0;34m(\u001b[0m\u001b[0mobj\u001b[0m\u001b[0;34m=\u001b[0m\u001b[0mobj\u001b[0m\u001b[0;34m,\u001b[0m \u001b[0;34m*\u001b[0m\u001b[0mrv\u001b[0m\u001b[0;34m)\u001b[0m\u001b[0;34m\u001b[0m\u001b[0;34m\u001b[0m\u001b[0m\n\u001b[0m\u001b[1;32m    522\u001b[0m \u001b[0;34m\u001b[0m\u001b[0m\n\u001b[1;32m    523\u001b[0m     \u001b[0;32mdef\u001b[0m \u001b[0mpersistent_id\u001b[0m\u001b[0;34m(\u001b[0m\u001b[0mself\u001b[0m\u001b[0;34m,\u001b[0m \u001b[0mobj\u001b[0m\u001b[0;34m)\u001b[0m\u001b[0;34m:\u001b[0m\u001b[0;34m\u001b[0m\u001b[0;34m\u001b[0m\u001b[0m\n",
      "\u001b[0;32m/usr/lib/python3.6/pickle.py\u001b[0m in \u001b[0;36msave_reduce\u001b[0;34m(self, func, args, state, listitems, dictitems, obj)\u001b[0m\n\u001b[1;32m    632\u001b[0m \u001b[0;34m\u001b[0m\u001b[0m\n\u001b[1;32m    633\u001b[0m         \u001b[0;32mif\u001b[0m \u001b[0mstate\u001b[0m \u001b[0;32mis\u001b[0m \u001b[0;32mnot\u001b[0m \u001b[0;32mNone\u001b[0m\u001b[0;34m:\u001b[0m\u001b[0;34m\u001b[0m\u001b[0;34m\u001b[0m\u001b[0m\n\u001b[0;32m--> 634\u001b[0;31m             \u001b[0msave\u001b[0m\u001b[0;34m(\u001b[0m\u001b[0mstate\u001b[0m\u001b[0;34m)\u001b[0m\u001b[0;34m\u001b[0m\u001b[0;34m\u001b[0m\u001b[0m\n\u001b[0m\u001b[1;32m    635\u001b[0m             \u001b[0mwrite\u001b[0m\u001b[0;34m(\u001b[0m\u001b[0mBUILD\u001b[0m\u001b[0;34m)\u001b[0m\u001b[0;34m\u001b[0m\u001b[0;34m\u001b[0m\u001b[0m\n\u001b[1;32m    636\u001b[0m \u001b[0;34m\u001b[0m\u001b[0m\n",
      "\u001b[0;32m/usr/lib/python3.6/pickle.py\u001b[0m in \u001b[0;36msave\u001b[0;34m(self, obj, save_persistent_id)\u001b[0m\n\u001b[1;32m    474\u001b[0m         \u001b[0mf\u001b[0m \u001b[0;34m=\u001b[0m \u001b[0mself\u001b[0m\u001b[0;34m.\u001b[0m\u001b[0mdispatch\u001b[0m\u001b[0;34m.\u001b[0m\u001b[0mget\u001b[0m\u001b[0;34m(\u001b[0m\u001b[0mt\u001b[0m\u001b[0;34m)\u001b[0m\u001b[0;34m\u001b[0m\u001b[0;34m\u001b[0m\u001b[0m\n\u001b[1;32m    475\u001b[0m         \u001b[0;32mif\u001b[0m \u001b[0mf\u001b[0m \u001b[0;32mis\u001b[0m \u001b[0;32mnot\u001b[0m \u001b[0;32mNone\u001b[0m\u001b[0;34m:\u001b[0m\u001b[0;34m\u001b[0m\u001b[0;34m\u001b[0m\u001b[0m\n\u001b[0;32m--> 476\u001b[0;31m             \u001b[0mf\u001b[0m\u001b[0;34m(\u001b[0m\u001b[0mself\u001b[0m\u001b[0;34m,\u001b[0m \u001b[0mobj\u001b[0m\u001b[0;34m)\u001b[0m \u001b[0;31m# Call unbound method with explicit self\u001b[0m\u001b[0;34m\u001b[0m\u001b[0;34m\u001b[0m\u001b[0m\n\u001b[0m\u001b[1;32m    477\u001b[0m             \u001b[0;32mreturn\u001b[0m\u001b[0;34m\u001b[0m\u001b[0;34m\u001b[0m\u001b[0m\n\u001b[1;32m    478\u001b[0m \u001b[0;34m\u001b[0m\u001b[0m\n",
      "\u001b[0;32m~/.virtualenvs/checklist/lib/python3.6/site-packages/dill/_dill.py\u001b[0m in \u001b[0;36msave_module_dict\u001b[0;34m(pickler, obj)\u001b[0m\n\u001b[1;32m    910\u001b[0m             \u001b[0;31m# we only care about session the first pass thru\u001b[0m\u001b[0;34m\u001b[0m\u001b[0;34m\u001b[0m\u001b[0;34m\u001b[0m\u001b[0m\n\u001b[1;32m    911\u001b[0m             \u001b[0mpickler\u001b[0m\u001b[0;34m.\u001b[0m\u001b[0m_session\u001b[0m \u001b[0;34m=\u001b[0m \u001b[0;32mFalse\u001b[0m\u001b[0;34m\u001b[0m\u001b[0;34m\u001b[0m\u001b[0m\n\u001b[0;32m--> 912\u001b[0;31m         \u001b[0mStockPickler\u001b[0m\u001b[0;34m.\u001b[0m\u001b[0msave_dict\u001b[0m\u001b[0;34m(\u001b[0m\u001b[0mpickler\u001b[0m\u001b[0;34m,\u001b[0m \u001b[0mobj\u001b[0m\u001b[0;34m)\u001b[0m\u001b[0;34m\u001b[0m\u001b[0;34m\u001b[0m\u001b[0m\n\u001b[0m\u001b[1;32m    913\u001b[0m         \u001b[0mlog\u001b[0m\u001b[0;34m.\u001b[0m\u001b[0minfo\u001b[0m\u001b[0;34m(\u001b[0m\u001b[0;34m\"# D2\"\u001b[0m\u001b[0;34m)\u001b[0m\u001b[0;34m\u001b[0m\u001b[0;34m\u001b[0m\u001b[0m\n\u001b[1;32m    914\u001b[0m     \u001b[0;32mreturn\u001b[0m\u001b[0;34m\u001b[0m\u001b[0;34m\u001b[0m\u001b[0m\n",
      "\u001b[0;32m/usr/lib/python3.6/pickle.py\u001b[0m in \u001b[0;36msave_dict\u001b[0;34m(self, obj)\u001b[0m\n\u001b[1;32m    819\u001b[0m \u001b[0;34m\u001b[0m\u001b[0m\n\u001b[1;32m    820\u001b[0m         \u001b[0mself\u001b[0m\u001b[0;34m.\u001b[0m\u001b[0mmemoize\u001b[0m\u001b[0;34m(\u001b[0m\u001b[0mobj\u001b[0m\u001b[0;34m)\u001b[0m\u001b[0;34m\u001b[0m\u001b[0;34m\u001b[0m\u001b[0m\n\u001b[0;32m--> 821\u001b[0;31m         \u001b[0mself\u001b[0m\u001b[0;34m.\u001b[0m\u001b[0m_batch_setitems\u001b[0m\u001b[0;34m(\u001b[0m\u001b[0mobj\u001b[0m\u001b[0;34m.\u001b[0m\u001b[0mitems\u001b[0m\u001b[0;34m(\u001b[0m\u001b[0;34m)\u001b[0m\u001b[0;34m)\u001b[0m\u001b[0;34m\u001b[0m\u001b[0;34m\u001b[0m\u001b[0m\n\u001b[0m\u001b[1;32m    822\u001b[0m \u001b[0;34m\u001b[0m\u001b[0m\n\u001b[1;32m    823\u001b[0m     \u001b[0mdispatch\u001b[0m\u001b[0;34m[\u001b[0m\u001b[0mdict\u001b[0m\u001b[0;34m]\u001b[0m \u001b[0;34m=\u001b[0m \u001b[0msave_dict\u001b[0m\u001b[0;34m\u001b[0m\u001b[0;34m\u001b[0m\u001b[0m\n",
      "\u001b[0;32m/usr/lib/python3.6/pickle.py\u001b[0m in \u001b[0;36m_batch_setitems\u001b[0;34m(self, items)\u001b[0m\n\u001b[1;32m    845\u001b[0m                 \u001b[0;32mfor\u001b[0m \u001b[0mk\u001b[0m\u001b[0;34m,\u001b[0m \u001b[0mv\u001b[0m \u001b[0;32min\u001b[0m \u001b[0mtmp\u001b[0m\u001b[0;34m:\u001b[0m\u001b[0;34m\u001b[0m\u001b[0;34m\u001b[0m\u001b[0m\n\u001b[1;32m    846\u001b[0m                     \u001b[0msave\u001b[0m\u001b[0;34m(\u001b[0m\u001b[0mk\u001b[0m\u001b[0;34m)\u001b[0m\u001b[0;34m\u001b[0m\u001b[0;34m\u001b[0m\u001b[0m\n\u001b[0;32m--> 847\u001b[0;31m                     \u001b[0msave\u001b[0m\u001b[0;34m(\u001b[0m\u001b[0mv\u001b[0m\u001b[0;34m)\u001b[0m\u001b[0;34m\u001b[0m\u001b[0;34m\u001b[0m\u001b[0m\n\u001b[0m\u001b[1;32m    848\u001b[0m                 \u001b[0mwrite\u001b[0m\u001b[0;34m(\u001b[0m\u001b[0mSETITEMS\u001b[0m\u001b[0;34m)\u001b[0m\u001b[0;34m\u001b[0m\u001b[0;34m\u001b[0m\u001b[0m\n\u001b[1;32m    849\u001b[0m             \u001b[0;32melif\u001b[0m \u001b[0mn\u001b[0m\u001b[0;34m:\u001b[0m\u001b[0;34m\u001b[0m\u001b[0;34m\u001b[0m\u001b[0m\n",
      "\u001b[0;32m/usr/lib/python3.6/pickle.py\u001b[0m in \u001b[0;36msave\u001b[0;34m(self, obj, save_persistent_id)\u001b[0m\n\u001b[1;32m    519\u001b[0m \u001b[0;34m\u001b[0m\u001b[0m\n\u001b[1;32m    520\u001b[0m         \u001b[0;31m# Save the reduce() output and finally memoize the object\u001b[0m\u001b[0;34m\u001b[0m\u001b[0;34m\u001b[0m\u001b[0;34m\u001b[0m\u001b[0m\n\u001b[0;32m--> 521\u001b[0;31m         \u001b[0mself\u001b[0m\u001b[0;34m.\u001b[0m\u001b[0msave_reduce\u001b[0m\u001b[0;34m(\u001b[0m\u001b[0mobj\u001b[0m\u001b[0;34m=\u001b[0m\u001b[0mobj\u001b[0m\u001b[0;34m,\u001b[0m \u001b[0;34m*\u001b[0m\u001b[0mrv\u001b[0m\u001b[0;34m)\u001b[0m\u001b[0;34m\u001b[0m\u001b[0;34m\u001b[0m\u001b[0m\n\u001b[0m\u001b[1;32m    522\u001b[0m \u001b[0;34m\u001b[0m\u001b[0m\n\u001b[1;32m    523\u001b[0m     \u001b[0;32mdef\u001b[0m \u001b[0mpersistent_id\u001b[0m\u001b[0;34m(\u001b[0m\u001b[0mself\u001b[0m\u001b[0;34m,\u001b[0m \u001b[0mobj\u001b[0m\u001b[0;34m)\u001b[0m\u001b[0;34m:\u001b[0m\u001b[0;34m\u001b[0m\u001b[0;34m\u001b[0m\u001b[0m\n",
      "\u001b[0;32m/usr/lib/python3.6/pickle.py\u001b[0m in \u001b[0;36msave_reduce\u001b[0;34m(self, func, args, state, listitems, dictitems, obj)\u001b[0m\n\u001b[1;32m    629\u001b[0m \u001b[0;34m\u001b[0m\u001b[0m\n\u001b[1;32m    630\u001b[0m         \u001b[0;32mif\u001b[0m \u001b[0mdictitems\u001b[0m \u001b[0;32mis\u001b[0m \u001b[0;32mnot\u001b[0m \u001b[0;32mNone\u001b[0m\u001b[0;34m:\u001b[0m\u001b[0;34m\u001b[0m\u001b[0;34m\u001b[0m\u001b[0m\n\u001b[0;32m--> 631\u001b[0;31m             \u001b[0mself\u001b[0m\u001b[0;34m.\u001b[0m\u001b[0m_batch_setitems\u001b[0m\u001b[0;34m(\u001b[0m\u001b[0mdictitems\u001b[0m\u001b[0;34m)\u001b[0m\u001b[0;34m\u001b[0m\u001b[0;34m\u001b[0m\u001b[0m\n\u001b[0m\u001b[1;32m    632\u001b[0m \u001b[0;34m\u001b[0m\u001b[0m\n\u001b[1;32m    633\u001b[0m         \u001b[0;32mif\u001b[0m \u001b[0mstate\u001b[0m \u001b[0;32mis\u001b[0m \u001b[0;32mnot\u001b[0m \u001b[0;32mNone\u001b[0m\u001b[0;34m:\u001b[0m\u001b[0;34m\u001b[0m\u001b[0;34m\u001b[0m\u001b[0m\n",
      "\u001b[0;32m/usr/lib/python3.6/pickle.py\u001b[0m in \u001b[0;36m_batch_setitems\u001b[0;34m(self, items)\u001b[0m\n\u001b[1;32m    845\u001b[0m                 \u001b[0;32mfor\u001b[0m \u001b[0mk\u001b[0m\u001b[0;34m,\u001b[0m \u001b[0mv\u001b[0m \u001b[0;32min\u001b[0m \u001b[0mtmp\u001b[0m\u001b[0;34m:\u001b[0m\u001b[0;34m\u001b[0m\u001b[0;34m\u001b[0m\u001b[0m\n\u001b[1;32m    846\u001b[0m                     \u001b[0msave\u001b[0m\u001b[0;34m(\u001b[0m\u001b[0mk\u001b[0m\u001b[0;34m)\u001b[0m\u001b[0;34m\u001b[0m\u001b[0;34m\u001b[0m\u001b[0m\n\u001b[0;32m--> 847\u001b[0;31m                     \u001b[0msave\u001b[0m\u001b[0;34m(\u001b[0m\u001b[0mv\u001b[0m\u001b[0;34m)\u001b[0m\u001b[0;34m\u001b[0m\u001b[0;34m\u001b[0m\u001b[0m\n\u001b[0m\u001b[1;32m    848\u001b[0m                 \u001b[0mwrite\u001b[0m\u001b[0;34m(\u001b[0m\u001b[0mSETITEMS\u001b[0m\u001b[0;34m)\u001b[0m\u001b[0;34m\u001b[0m\u001b[0;34m\u001b[0m\u001b[0m\n\u001b[1;32m    849\u001b[0m             \u001b[0;32melif\u001b[0m \u001b[0mn\u001b[0m\u001b[0;34m:\u001b[0m\u001b[0;34m\u001b[0m\u001b[0;34m\u001b[0m\u001b[0m\n",
      "\u001b[0;32m/usr/lib/python3.6/pickle.py\u001b[0m in \u001b[0;36msave\u001b[0;34m(self, obj, save_persistent_id)\u001b[0m\n\u001b[1;32m    519\u001b[0m \u001b[0;34m\u001b[0m\u001b[0m\n\u001b[1;32m    520\u001b[0m         \u001b[0;31m# Save the reduce() output and finally memoize the object\u001b[0m\u001b[0;34m\u001b[0m\u001b[0;34m\u001b[0m\u001b[0;34m\u001b[0m\u001b[0m\n\u001b[0;32m--> 521\u001b[0;31m         \u001b[0mself\u001b[0m\u001b[0;34m.\u001b[0m\u001b[0msave_reduce\u001b[0m\u001b[0;34m(\u001b[0m\u001b[0mobj\u001b[0m\u001b[0;34m=\u001b[0m\u001b[0mobj\u001b[0m\u001b[0;34m,\u001b[0m \u001b[0;34m*\u001b[0m\u001b[0mrv\u001b[0m\u001b[0;34m)\u001b[0m\u001b[0;34m\u001b[0m\u001b[0;34m\u001b[0m\u001b[0m\n\u001b[0m\u001b[1;32m    522\u001b[0m \u001b[0;34m\u001b[0m\u001b[0m\n\u001b[1;32m    523\u001b[0m     \u001b[0;32mdef\u001b[0m \u001b[0mpersistent_id\u001b[0m\u001b[0;34m(\u001b[0m\u001b[0mself\u001b[0m\u001b[0;34m,\u001b[0m \u001b[0mobj\u001b[0m\u001b[0;34m)\u001b[0m\u001b[0;34m:\u001b[0m\u001b[0;34m\u001b[0m\u001b[0;34m\u001b[0m\u001b[0m\n",
      "\u001b[0;32m/usr/lib/python3.6/pickle.py\u001b[0m in \u001b[0;36msave_reduce\u001b[0;34m(self, func, args, state, listitems, dictitems, obj)\u001b[0m\n\u001b[1;32m    603\u001b[0m                     \"args[0] from __newobj__ args has the wrong class\")\n\u001b[1;32m    604\u001b[0m             \u001b[0margs\u001b[0m \u001b[0;34m=\u001b[0m \u001b[0margs\u001b[0m\u001b[0;34m[\u001b[0m\u001b[0;36m1\u001b[0m\u001b[0;34m:\u001b[0m\u001b[0;34m]\u001b[0m\u001b[0;34m\u001b[0m\u001b[0;34m\u001b[0m\u001b[0m\n\u001b[0;32m--> 605\u001b[0;31m             \u001b[0msave\u001b[0m\u001b[0;34m(\u001b[0m\u001b[0mcls\u001b[0m\u001b[0;34m)\u001b[0m\u001b[0;34m\u001b[0m\u001b[0;34m\u001b[0m\u001b[0m\n\u001b[0m\u001b[1;32m    606\u001b[0m             \u001b[0msave\u001b[0m\u001b[0;34m(\u001b[0m\u001b[0margs\u001b[0m\u001b[0;34m)\u001b[0m\u001b[0;34m\u001b[0m\u001b[0;34m\u001b[0m\u001b[0m\n\u001b[1;32m    607\u001b[0m             \u001b[0mwrite\u001b[0m\u001b[0;34m(\u001b[0m\u001b[0mNEWOBJ\u001b[0m\u001b[0;34m)\u001b[0m\u001b[0;34m\u001b[0m\u001b[0;34m\u001b[0m\u001b[0m\n",
      "\u001b[0;32m/usr/lib/python3.6/pickle.py\u001b[0m in \u001b[0;36msave\u001b[0;34m(self, obj, save_persistent_id)\u001b[0m\n\u001b[1;32m    474\u001b[0m         \u001b[0mf\u001b[0m \u001b[0;34m=\u001b[0m \u001b[0mself\u001b[0m\u001b[0;34m.\u001b[0m\u001b[0mdispatch\u001b[0m\u001b[0;34m.\u001b[0m\u001b[0mget\u001b[0m\u001b[0;34m(\u001b[0m\u001b[0mt\u001b[0m\u001b[0;34m)\u001b[0m\u001b[0;34m\u001b[0m\u001b[0;34m\u001b[0m\u001b[0m\n\u001b[1;32m    475\u001b[0m         \u001b[0;32mif\u001b[0m \u001b[0mf\u001b[0m \u001b[0;32mis\u001b[0m \u001b[0;32mnot\u001b[0m \u001b[0;32mNone\u001b[0m\u001b[0;34m:\u001b[0m\u001b[0;34m\u001b[0m\u001b[0;34m\u001b[0m\u001b[0m\n\u001b[0;32m--> 476\u001b[0;31m             \u001b[0mf\u001b[0m\u001b[0;34m(\u001b[0m\u001b[0mself\u001b[0m\u001b[0;34m,\u001b[0m \u001b[0mobj\u001b[0m\u001b[0;34m)\u001b[0m \u001b[0;31m# Call unbound method with explicit self\u001b[0m\u001b[0;34m\u001b[0m\u001b[0;34m\u001b[0m\u001b[0m\n\u001b[0m\u001b[1;32m    477\u001b[0m             \u001b[0;32mreturn\u001b[0m\u001b[0;34m\u001b[0m\u001b[0;34m\u001b[0m\u001b[0m\n\u001b[1;32m    478\u001b[0m \u001b[0;34m\u001b[0m\u001b[0m\n",
      "\u001b[0;32m~/.virtualenvs/checklist/lib/python3.6/site-packages/dill/_dill.py\u001b[0m in \u001b[0;36msave_type\u001b[0;34m(pickler, obj)\u001b[0m\n\u001b[1;32m   1354\u001b[0m        \u001b[0;31m#print (\"%s\\n%s\" % (type(obj), obj.__name__))\u001b[0m\u001b[0;34m\u001b[0m\u001b[0;34m\u001b[0m\u001b[0;34m\u001b[0m\u001b[0m\n\u001b[1;32m   1355\u001b[0m        \u001b[0;31m#print (\"%s\\n%s\" % (obj.__bases__, obj.__dict__))\u001b[0m\u001b[0;34m\u001b[0m\u001b[0;34m\u001b[0m\u001b[0;34m\u001b[0m\u001b[0m\n\u001b[0;32m-> 1356\u001b[0;31m         \u001b[0mStockPickler\u001b[0m\u001b[0;34m.\u001b[0m\u001b[0msave_global\u001b[0m\u001b[0;34m(\u001b[0m\u001b[0mpickler\u001b[0m\u001b[0;34m,\u001b[0m \u001b[0mobj\u001b[0m\u001b[0;34m)\u001b[0m\u001b[0;34m\u001b[0m\u001b[0;34m\u001b[0m\u001b[0m\n\u001b[0m\u001b[1;32m   1357\u001b[0m         \u001b[0mlog\u001b[0m\u001b[0;34m.\u001b[0m\u001b[0minfo\u001b[0m\u001b[0;34m(\u001b[0m\u001b[0;34m\"# T4\"\u001b[0m\u001b[0;34m)\u001b[0m\u001b[0;34m\u001b[0m\u001b[0;34m\u001b[0m\u001b[0m\n\u001b[1;32m   1358\u001b[0m     \u001b[0;32mreturn\u001b[0m\u001b[0;34m\u001b[0m\u001b[0;34m\u001b[0m\u001b[0m\n",
      "\u001b[0;32m/usr/lib/python3.6/pickle.py\u001b[0m in \u001b[0;36msave_global\u001b[0;34m(self, obj, name)\u001b[0m\n\u001b[1;32m    925\u001b[0m                 raise PicklingError(\n\u001b[1;32m    926\u001b[0m                     \u001b[0;34m\"Can't pickle %r: it's not the same object as %s.%s\"\u001b[0m \u001b[0;34m%\u001b[0m\u001b[0;34m\u001b[0m\u001b[0;34m\u001b[0m\u001b[0m\n\u001b[0;32m--> 927\u001b[0;31m                     (obj, module_name, name))\n\u001b[0m\u001b[1;32m    928\u001b[0m \u001b[0;34m\u001b[0m\u001b[0m\n\u001b[1;32m    929\u001b[0m         \u001b[0;32mif\u001b[0m \u001b[0mself\u001b[0m\u001b[0;34m.\u001b[0m\u001b[0mproto\u001b[0m \u001b[0;34m>=\u001b[0m \u001b[0;36m2\u001b[0m\u001b[0;34m:\u001b[0m\u001b[0;34m\u001b[0m\u001b[0;34m\u001b[0m\u001b[0m\n",
      "\u001b[0;31mPicklingError\u001b[0m: Can't pickle <class 'checklist.test_types.INV'>: it's not the same object as checklist.test_types.INV"
     ]
    }
   ],
   "source": [
    "suite.save('/home/marcotcr/tmp/qqp_suite.pkl')"
   ]
  },
  {
   "cell_type": "code",
   "execution_count": null,
   "metadata": {},
   "outputs": [],
   "source": []
  }
 ],
 "metadata": {
  "kernelspec": {
   "display_name": "Python 3",
   "language": "python",
   "name": "python3"
  },
  "language_info": {
   "codemirror_mode": {
    "name": "ipython",
    "version": 3
   },
   "file_extension": ".py",
   "mimetype": "text/x-python",
   "name": "python",
   "nbconvert_exporter": "python",
   "pygments_lexer": "ipython3",
   "version": "3.6.10"
  }
 },
 "nbformat": 4,
 "nbformat_minor": 2
}
