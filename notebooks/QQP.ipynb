{
 "cells": [
  {
   "cell_type": "code",
   "execution_count": 1,
   "metadata": {},
   "outputs": [],
   "source": [
    "%load_ext autoreload\n",
    "%autoreload 2\n",
    "\n",
    "import checklist\n",
    "import spacy\n",
    "import itertools\n",
    "\n",
    "import checklist.editor\n",
    "import checklist.text_generation\n",
    "from checklist.mft import Mft\n",
    "from checklist.inv_dir import Inv, Dir\n",
    "from checklist.expect import Expect\n",
    "import numpy as np\n",
    "import spacy\n",
    "from checklist.perturb import Perturb\n"
   ]
  },
  {
   "cell_type": "code",
   "execution_count": 19,
   "metadata": {},
   "outputs": [],
   "source": [
    "from checklist.pred_wrapper import PredictorWrapper\n",
    "\n",
    "import sys\n",
    "sys.path.append('/home/marcotcr/work/ml-tests/')\n",
    "from mltests import model_wrapper\n",
    "model = model_wrapper.ModelWrapper()\n",
    "new_pp = PredictorWrapper.wrap_softmax(model.predict_proba)\n"
   ]
  },
  {
   "cell_type": "code",
   "execution_count": 3,
   "metadata": {},
   "outputs": [
    {
     "data": {
      "text/plain": [
       "<checklist.text_generation.TextGenerator at 0x7fbbe241bba8>"
      ]
     },
     "execution_count": 3,
     "metadata": {},
     "output_type": "execute_result"
    }
   ],
   "source": [
    "editor = checklist.editor.Editor()\n",
    "editor.tg"
   ]
  },
  {
   "cell_type": "code",
   "execution_count": 4,
   "metadata": {},
   "outputs": [],
   "source": [
    "nlp = spacy.load('en_core_web_sm')"
   ]
  },
  {
   "cell_type": "code",
   "execution_count": 135,
   "metadata": {},
   "outputs": [
    {
     "name": "stdout",
     "output_type": "stream",
     "text": [
      "\"\tWhat does the Quran say about homosexuality?\t0\n",
      "\n"
     ]
    }
   ],
   "source": [
    "qs = []\n",
    "labels = []\n",
    "all_questions = set()\n",
    "for x in open('/home/marcotcr/datasets/glue/glue_data/QQP/dev.tsv').readlines()[1:]:\n",
    "    try:\n",
    "        q1, q2, label = x.strip().split('\\t')[3:]\n",
    "    except:\n",
    "        print(x)\n",
    "        continue\n",
    "    all_questions.add(q1)\n",
    "    all_questions.add(q2)\n",
    "    qs.append((q1, q2))\n",
    "    labels.append(label)\n",
    "labels = np.array(labels).astype(int)"
   ]
  },
  {
   "cell_type": "code",
   "execution_count": 9,
   "metadata": {},
   "outputs": [],
   "source": [
    "import pickle\n",
    "spacy_map =  pickle.load(open('/home/marcotcr/tmp/processed_qqp.pkl', 'rb'))"
   ]
  },
  {
   "cell_type": "code",
   "execution_count": 10,
   "metadata": {},
   "outputs": [],
   "source": [
    "parsed_qs = [(spacy_map[q[0]], spacy_map[q[1]]) for q in qs]"
   ]
  },
  {
   "cell_type": "markdown",
   "metadata": {},
   "source": [
    "## Vocabulary"
   ]
  },
  {
   "cell_type": "code",
   "execution_count": 41,
   "metadata": {},
   "outputs": [],
   "source": [
    "professions = editor.suggest('{first_name} works as {a:bert}.')[:30]\n",
    "professions += editor.suggest('{first_name} {last_name} works as {a:bert}.')[:30]\n",
    "professions = list(set(professions))\n",
    "# professions"
   ]
  },
  {
   "cell_type": "code",
   "execution_count": 36,
   "metadata": {},
   "outputs": [
    {
     "name": "stdout",
     "output_type": "stream",
     "text": [
      "guy, player, writer, example, read, person, actor, friend, hitter, kid, one, pick, character, teacher, student, bet, reader, man, coach, fighter, artist, shooter, choice, name, shot, reporter, story, catch, poet, idea\n"
     ]
    }
   ],
   "source": [
    "print(', '.join(editor.suggest('{first_name} {last_name} is a good {bert}.')[:30]))"
   ]
  },
  {
   "cell_type": "code",
   "execution_count": 42,
   "metadata": {},
   "outputs": [],
   "source": [
    "other_nouns = ['player', 'person', 'friend', 'kid', 'candidate']\n",
    "nouns = list(set(professions + other_nouns))"
   ]
  },
  {
   "cell_type": "code",
   "execution_count": 49,
   "metadata": {},
   "outputs": [
    {
     "name": "stdout",
     "output_type": "stream",
     "text": [
      "effective, actual, active, excellent, appropriate, important, honest, ideal, official, outstanding, independent, adequate, elite, experienced, equal, acceptable, good, American, ethical, successful, authentic, alternative, accurate, real, academic, international, intelligent, interested, unlikely, unusual, early, outside, English, acting, Australian, economic, legitimate, bad, expert, interesting, influential, incompetent, informed, evil, inspired, abusive, professional, better, accredited, aspiring\n"
     ]
    }
   ],
   "source": [
    "print(', '.join(editor.suggest('Is {first_name} {last_name} {a:bert} {noun}?', noun=nouns)[:50]))"
   ]
  },
  {
   "cell_type": "code",
   "execution_count": 50,
   "metadata": {},
   "outputs": [],
   "source": [
    "adjs = ['effective', 'actual', 'American', 'active', 'honest', 'excellent', 'elite', 'acomplished', 'official', 'outstanding', 'experienced', 'independent', 'international', 'aspiring', 'average', 'good', 'amazing', 'exceptional', 'successful', 'accredited', 'English', 'real', 'bad', 'terrible', 'fake', 'unusual', 'influential', 'incompetent']"
   ]
  },
  {
   "cell_type": "code",
   "execution_count": 53,
   "metadata": {},
   "outputs": [
    {
     "name": "stdout",
     "output_type": "stream",
     "text": [
      "Predicting 1000 examples\n",
      "Test cases:      1000\n",
      "Fails (rate):    786 (78.6%)\n",
      "\n",
      "Example fails:\n",
      "0.8 ('Is Aaron Price a chef?', 'Is Aaron Price an official chef?')\n",
      "1.0 ('Is Sophia Mitchell a historian?', 'Is Sophia Mitchell a fake historian?')\n",
      "0.9 ('Is Laura Phillips a friend?', 'Is Laura Phillips an effective friend?')\n"
     ]
    }
   ],
   "source": [
    "data = editor.template(('Is {first_name} {last_name} {a:noun}?', 'Is {first_name} {last_name} {a:adj} {noun}?'),\n",
    "                noun=nouns,\n",
    "                adj=adjs,\n",
    "                remove_duplicates=True, \n",
    "                nsamples=1000)\n",
    "test = Mft(data, labels=0)\n",
    "test.run(new_pp)\n",
    "test.summary(n=3)"
   ]
  },
  {
   "cell_type": "markdown",
   "metadata": {},
   "source": [
    "Is person {a1, a2}?"
   ]
  },
  {
   "cell_type": "code",
   "execution_count": 355,
   "metadata": {},
   "outputs": [
    {
     "name": "stdout",
     "output_type": "stream",
     "text": [
      "dead, gay, alive, right, Dead, real, Jewish, mad, wrong, correct, insane, back, crazy, related, OK, Right, immortal, evil, straight, interested, famous, racist, sane, next, President, alone, lying, relevant, okay, DEAD, bisexual, God, angry, guilty, ok, Alone, Wrong, ready, gone, innocent, King, human, Muslim, Black, assassinated, Batman, here, Real, dying, involved, homosexual, special, Famous, happy, free, murdered, Superman, president, joking, White, Back, Gay, Catholic, cool, safe, resurrected, killed, American, missing, corrupt, cursed, alright, single, Crazy, Mad, Satan, Missing, legit, shot, Evil, finished, worthy, doomed, sincere, aware, autistic, responsible, dangerous, Christian, Cool, Immortal, radioactive, remembered, Next, serious, cheating, different, popular, Legend, listening, now, illegitimate, homophobic, kidding, sick, smart, connected, trustworthy, Innocent, legal\n",
      "\n",
      "racist, atheist, outlaw, asshole, actor, ape, American, inspiration, idiot, orphan, ancestor, artist, Avenger, anomaly, icon, anarchist, influence, alien, inventor, author, Alien, android, immortal, Immortal, idol, Indian, angel, assassin, African, Arab, intellectual, adult, extremist, Assassin, imperialist, alcoholic, Icon, example, Italian, Australian, archetype, Armenian, exception, activist, astronaut, expert, architect, ass, immigrant, uncle\n"
     ]
    }
   ],
   "source": [
    "print(', '.join(editor.suggest('Is John Wayne {bert}?')))\n",
    "print()\n",
    "print(', '.join(editor.suggest('Is John Wayne {a:bert}?')[:50]))"
   ]
  },
  {
   "cell_type": "code",
   "execution_count": 356,
   "metadata": {},
   "outputs": [],
   "source": [
    "adjs_without_overlap = ['dead', 'gay', 'Jewish', 'Christian', 'American', 'mad', 'immortal', 'evil', 'famous', 'racist', 'Muslim', 'white', 'black', 'English', 'autistic', 'Australian', 'trustworthy', 'an atheist', 'an anarchist', 'an inventor', 'Indian', 'Armenian', 'an astronaut', 'an immigrant']"
   ]
  },
  {
   "cell_type": "code",
   "execution_count": 461,
   "metadata": {},
   "outputs": [
    {
     "name": "stdout",
     "output_type": "stream",
     "text": [
      "Predicting 959 examples\n",
      "Test cases:      959\n",
      "Fails (rate):    10 (1.0%)\n",
      "\n",
      "Example fails:\n",
      "0.5 ('Is Rebecca Stewart dead?', 'Is Rebecca Stewart immortal?')\n",
      "0.6 ('Is Lisa Hill Jewish?', 'Is Lisa Hill an immigrant?')\n",
      "1.0 ('Is Jordan Cox Jewish?', 'Is Jordan Cox an immigrant?')\n"
     ]
    }
   ],
   "source": [
    "data = editor.template((\n",
    "    'Is {first_name} {last_name} {adj1}?',\n",
    "    'Is {first_name} {last_name} {adj2}?',\n",
    "),\n",
    "                adj=adjs_without_overlap,\n",
    "                remove_duplicates=True, \n",
    "                nsamples=1000)\n",
    "test = Mft(data, labels=0)\n",
    "test.run(new_pp)\n",
    "test.summary(n=3)"
   ]
  },
  {
   "cell_type": "markdown",
   "metadata": {},
   "source": [
    "person1 and person2 are different by first and last name"
   ]
  },
  {
   "cell_type": "code",
   "execution_count": 360,
   "metadata": {},
   "outputs": [
    {
     "name": "stdout",
     "output_type": "stream",
     "text": [
      "Predicting 975 examples\n",
      "Test cases:      975\n",
      "Fails (rate):    56 (5.7%)\n",
      "\n",
      "Example fails:\n",
      "0.8 ('Is Noah King black?', 'Is Samuel Young black?')\n",
      "0.8 ('Is Daniel James Christian?', 'Is John Scott Christian?')\n",
      "0.8 ('Is Tiffany Turner American?', 'Is Amy Morgan American?')\n"
     ]
    }
   ],
   "source": [
    "data = editor.template((\n",
    "    'Is {first_name1} {last_name1} {adj}?',\n",
    "    'Is {first_name2} {last_name2} {adj}?',\n",
    "),\n",
    "                adj=adjs_without_overlap,\n",
    "                remove_duplicates=True, \n",
    "                nsamples=1000)\n",
    "test = Mft(data, labels=0)\n",
    "test.run(new_pp)\n",
    "test.summary(n=3)"
   ]
  },
  {
   "cell_type": "markdown",
   "metadata": {},
   "source": [
    "person1 and person2 are different by first name only"
   ]
  },
  {
   "cell_type": "code",
   "execution_count": 361,
   "metadata": {},
   "outputs": [
    {
     "name": "stdout",
     "output_type": "stream",
     "text": [
      "Predicting 984 examples\n",
      "Test cases:      984\n",
      "Fails (rate):    94 (9.6%)\n",
      "\n",
      "Example fails:\n",
      "0.6 ('Is Tyler Bell an astronaut?', 'Is Sean Bell an astronaut?')\n",
      "0.8 ('Is Anna Nguyen Muslim?', 'Is Jennifer Nguyen Muslim?')\n",
      "0.8 ('Is Scott Morris trustworthy?', 'Is Ryan Morris trustworthy?')\n"
     ]
    }
   ],
   "source": [
    "data = editor.template((\n",
    "    'Is {first_name} {last_name} {adj}?',\n",
    "    'Is {first_name2} {last_name} {adj}?',\n",
    "),\n",
    "                adj=adjs_without_overlap,\n",
    "                remove_duplicates=True, \n",
    "                nsamples=1000)\n",
    "test = Mft(data, labels=0)\n",
    "test.run(new_pp)\n",
    "test.summary(n=3)"
   ]
  },
  {
   "cell_type": "markdown",
   "metadata": {},
   "source": [
    "person1 and person2 are different by last name only"
   ]
  },
  {
   "cell_type": "code",
   "execution_count": 362,
   "metadata": {},
   "outputs": [
    {
     "name": "stdout",
     "output_type": "stream",
     "text": [
      "Predicting 992 examples\n",
      "Test cases:      992\n",
      "Fails (rate):    76 (7.7%)\n",
      "\n",
      "Example fails:\n",
      "0.7 ('Is Natalie Wilson mad?', 'Is Natalie Barnes mad?')\n",
      "1.0 ('Is Alexis Clark American?', 'Is Alexis Cook American?')\n",
      "0.9 ('Is Erin Jones Christian?', 'Is Erin Morris Christian?')\n"
     ]
    }
   ],
   "source": [
    "data = editor.template((\n",
    "    'Is {first_name} {last_name} {adj}?',\n",
    "    'Is {first_name} {last_name2} {adj}?',\n",
    "),\n",
    "                adj=adjs_without_overlap,\n",
    "                remove_duplicates=True, \n",
    "                nsamples=1000)\n",
    "test = Mft(data, labels=0)\n",
    "test.run(new_pp)\n",
    "test.summary(n=3)"
   ]
  },
  {
   "cell_type": "markdown",
   "metadata": {},
   "source": [
    "## Robustness"
   ]
  },
  {
   "cell_type": "code",
   "execution_count": 364,
   "metadata": {},
   "outputs": [],
   "source": [
    "def wrap_apply_to_each(fn, both=False, *args, **kwargs):\n",
    "    def new_fn(qs, *args, **kwargs):\n",
    "        q1, q2 = qs\n",
    "        ret = []\n",
    "        fnq1 = fn(q1, *args, **kwargs)\n",
    "        fnq2 = fn(q2, *args, **kwargs)\n",
    "        if type(fnq1) != list:\n",
    "            fnq1 = [fnq1]\n",
    "        if type(fnq2) != list:\n",
    "            fnq2 = [fnq2]\n",
    "        ret.extend([(x, str(q2)) for x in fnq1])\n",
    "        ret.extend([(str(q1), x) for x in fnq2])\n",
    "        if both:\n",
    "            ret.extend([(x, x2) for x, x2 in itertools.product(fnq1, fnq2)])\n",
    "        return [x for x in ret if x[0] and x[1]]\n",
    "    return new_fn\n",
    "def wrap_apply_to_both(fn, *args, **kwargs):\n",
    "    def new_fn(qs, *args, **kwargs):\n",
    "        q1, q2 = qs\n",
    "        ret = []\n",
    "        fnq1 = fn(q1, *args, **kwargs)\n",
    "        fnq2 = fn(q2, *args, **kwargs)\n",
    "        if type(fnq1) != list:\n",
    "            fnq1 = [fnq1]\n",
    "        if type(fnq2) != list:\n",
    "            fnq2 = [fnq2]\n",
    "        ret.extend([(x, x2) for x, x2 in itertools.product(fnq1, fnq2)])\n",
    "        return [x for x in ret if x[0] and x[1]]\n",
    "    return new_fn"
   ]
  },
  {
   "cell_type": "markdown",
   "metadata": {},
   "source": [
    "Typos"
   ]
  },
  {
   "cell_type": "code",
   "execution_count": 143,
   "metadata": {},
   "outputs": [
    {
     "name": "stdout",
     "output_type": "stream",
     "text": [
      "Predicting 1500 examples\n",
      "Test cases:      500\n",
      "Fails (rate):    108 (21.6%)\n",
      "\n",
      "Example fails:\n",
      "1 (1.0) ('Do animals commit suicide?', 'What animals knowingly commit suicide?')\n",
      "0 (0.0) ('Do animals commit suicide?', 'What anmials knowingly commit suicide?')\n",
      "0 (0.0) ('Do animals commi tsuicide?', 'What animals knowingly commit suicide?')\n",
      "\n",
      "1 (1.0) ('What are the functions of the CU and ALU in the CPU of a computer?', 'What is the function of the ALU and CU in a CPU?')\n",
      "0 (0.1) ('What are the functions of the CU and ALU in hte CPU of a computer?', 'What is the function of the ALU and CU in a CPU?')\n",
      "\n",
      "1 (1.0) ('How do I log in my Facebook account if you forgot your password?', 'I forgot my Facebook and email password. How can I log into Facebook?')\n",
      "0 (0.2) ('How do I log in my Facebook account if you forgot your password?', 'I forgot my Facebook and email password. How can I log into Faceboko?')\n",
      "\n"
     ]
    }
   ],
   "source": [
    "data = Perturb.perturb(qs, wrap_apply_to_each(Perturb.add_typos), nsamples=500)\n",
    "test = Inv(data)\n",
    "test.run(new_pp)\n",
    "test.summary(3)"
   ]
  },
  {
   "cell_type": "markdown",
   "metadata": {},
   "source": [
    "Contractions"
   ]
  },
  {
   "cell_type": "code",
   "execution_count": 368,
   "metadata": {},
   "outputs": [
    {
     "data": {
      "text/plain": [
       "[('What are the interesting criminal cases solved?',\n",
       "  'What are some of the most interesting criminal cases?'),\n",
       " (\"What're the interesting criminal cases solved?\",\n",
       "  'What are some of the most interesting criminal cases?'),\n",
       " ('What are the interesting criminal cases solved?',\n",
       "  \"What're some of the most interesting criminal cases?\"),\n",
       " (\"What're the interesting criminal cases solved?\",\n",
       "  \"What're some of the most interesting criminal cases?\")]"
      ]
     },
     "execution_count": 368,
     "metadata": {},
     "output_type": "execute_result"
    }
   ],
   "source": [
    "data[2]"
   ]
  },
  {
   "cell_type": "code",
   "execution_count": 365,
   "metadata": {},
   "outputs": [
    {
     "name": "stdout",
     "output_type": "stream",
     "text": [
      "Predicting 1506 examples\n",
      "Test cases:      500\n",
      "Fails (rate):    8 (1.6%)\n",
      "\n",
      "Example fails:\n",
      "1 (0.7) ('What is venture capital financing?', 'What is a venture capital?')\n",
      "0 (0.3) (\"What's venture capital financing?\", 'What is a venture capital?')\n",
      "0 (0.2) ('What is venture capital financing?', \"What's a venture capital?\")\n",
      "\n",
      "1 (0.7) ('Is time the fourth dimension?', 'How is time a fourth dimension?')\n",
      "0 (0.4) ('Is time the fourth dimension?', \"How's time a fourth dimension?\")\n",
      "\n",
      "0 (0.5) ('How is viscosity-gravity constant (VGC) determined?', 'How is viscosity-gravity constant (VGC) used?')\n",
      "1 (0.7) ('How is viscosity-gravity constant (VGC) determined?', \"How's viscosity-gravity constant (VGC) used?\")\n",
      "1 (0.9) (\"How's viscosity-gravity constant (VGC) determined?\", \"How's viscosity-gravity constant (VGC) used?\")\n",
      "\n"
     ]
    }
   ],
   "source": [
    "data = Perturb.perturb(qs, wrap_apply_to_each(Perturb.contractions, both=True), nsamples=500)\n",
    "test = Inv(data)\n",
    "test.run(new_pp)\n",
    "test.summary(3)"
   ]
  },
  {
   "cell_type": "markdown",
   "metadata": {},
   "source": [
    "## Ner"
   ]
  },
  {
   "cell_type": "markdown",
   "metadata": {},
   "source": [
    "### Change same name, number, location in both"
   ]
  },
  {
   "cell_type": "markdown",
   "metadata": {},
   "source": [
    "Names"
   ]
  },
  {
   "cell_type": "code",
   "execution_count": 166,
   "metadata": {},
   "outputs": [
    {
     "name": "stdout",
     "output_type": "stream",
     "text": [
      "Predicting 5382 examples\n",
      "Test cases:      500\n",
      "Fails (rate):    59 (11.8%)\n",
      "\n",
      "Example fails:\n",
      "0 (0.3) ('What were the Jim Crow laws?', 'What were Jim Crow laws in the US? How did they get that name?')\n",
      "1 (0.6) ('What were the Joseph Jones laws?', 'What were Joseph Jones laws in the US? How did they get that name?')\n",
      "1 (0.7) ('What were the David Thomas laws?', 'What were David Thomas laws in the US? How did they get that name?')\n",
      "\n",
      "1 (0.8) ('Why is Quora so completely biased towards Hillary Clinton?', 'Does Quora support Hillary Clinton?')\n",
      "0 (0.4) ('Why is Quora so completely biased towards Stephanie Ward?', 'Does Quora support Stephanie Ward?')\n",
      "0 (0.4) ('Why is Quora so completely biased towards Sarah Cox?', 'Does Quora support Sarah Cox?')\n",
      "\n",
      "1 (1.0) ('Is Donald Trump really a closet liberal?', 'Is Donald Trump a covert operative for the Clintons?')\n",
      "0 (0.2) ('Is Michael Ortiz really a closet liberal?', 'Is Michael Ortiz a covert operative for the Clintons?')\n",
      "\n"
     ]
    }
   ],
   "source": [
    "def change_both_wrapper(fn):\n",
    "    def change_both(qs):\n",
    "        q1, q2 = qs\n",
    "        seed = np.random.randint(100)\n",
    "        c1 = fn(q1, seed=seed, meta=True)\n",
    "        c2 = fn(q2, seed=seed, meta=True)\n",
    "        if not c1 or not c2:\n",
    "            return\n",
    "        c1, m1 = c1\n",
    "        c2, m2 = c2\n",
    "        return [(q1, q2) for q1, q2, m1, m2 in zip(c1, c2, m1, m2) if m1 == m2]\n",
    "    return change_both\n",
    "    \n",
    "data = Perturb.perturb(parsed_qs, change_both_wrapper(Perturb.change_names), nsamples=500)\n",
    "test = Inv(data)\n",
    "test.run(new_pp)\n",
    "test.summary(3)"
   ]
  },
  {
   "cell_type": "markdown",
   "metadata": {},
   "source": [
    "Locs"
   ]
  },
  {
   "cell_type": "code",
   "execution_count": 167,
   "metadata": {},
   "outputs": [
    {
     "name": "stdout",
     "output_type": "stream",
     "text": [
      "Predicting 5133 examples\n",
      "Test cases:      500\n",
      "Fails (rate):    66 (13.2%)\n",
      "\n",
      "Example fails:\n",
      "0 (0.1) ('When will Tibet be part of India?', 'Was Tibet ever a part of India?')\n",
      "1 (0.5) ('When will Tibet be part of Chad?', 'Was Tibet ever a part of Chad?')\n",
      "1 (0.6) ('When will Tibet be part of Italy?', 'Was Tibet ever a part of Italy?')\n",
      "\n",
      "0 (0.0) ('Who want to do business with China?', 'What is your review of Business in China?')\n",
      "1 (0.8) ('Who want to do business with Slovak Republic?', 'What is your review of Business in Slovak Republic?')\n",
      "\n",
      "0 (0.0) ('What does India need the most at this moment?', 'What is the Improve India movement? Who leads it?')\n",
      "1 (0.9) ('What does Macao SAR need the most at this moment?', 'What is the Improve Macao SAR movement? Who leads it?')\n",
      "\n"
     ]
    }
   ],
   "source": [
    "data = Perturb.perturb(parsed_qs, change_both_wrapper(Perturb.change_location), nsamples=500)\n",
    "test = Inv(data)\n",
    "test.run(new_pp)\n",
    "test.summary(3)"
   ]
  },
  {
   "cell_type": "markdown",
   "metadata": {},
   "source": [
    "Numbers"
   ]
  },
  {
   "cell_type": "code",
   "execution_count": 169,
   "metadata": {},
   "outputs": [
    {
     "name": "stdout",
     "output_type": "stream",
     "text": [
      "Predicting 4953 examples\n",
      "Test cases:      500\n",
      "Fails (rate):    32 (6.4%)\n",
      "\n",
      "Example fails:\n",
      "0 (0.3) ('How will you explain the 2008 financial crisis to a teenager?', 'Can you explain the 2008 financial crisis in simple terms? What caused it and how is it still affecting countries?')\n",
      "1 (0.5) ('How will you explain the 2202 financial crisis to a teenager?', 'Can you explain the 2202 financial crisis in simple terms? What caused it and how is it still affecting countries?')\n",
      "1 (0.6) ('How will you explain the 1899 financial crisis to a teenager?', 'Can you explain the 1899 financial crisis in simple terms? What caused it and how is it still affecting countries?')\n",
      "\n",
      "0 (0.1) ('I am preparing for the 2015 CAT and I am very weak in quants. How can I improve my QA score?', 'I am a CAT 2015 aspirant and the test would begin in a month. I have consistently been scoring low in quants and DI because of which I always get very very low scores. I am extremely frustrated now. Is there any way I can improve my quant skills in less than a month now?')\n",
      "1 (0.6) ('I am preparing for the 1861 CAT and I am very weak in quants. How can I improve my QA score?', 'I am a CAT 1861 aspirant and the test would begin in a month. I have consistently been scoring low in quants and DI because of which I always get very very low scores. I am extremely frustrated now. Is there any way I can improve my quant skills in less than a month now?')\n",
      "1 (0.6) ('I am preparing for the 1808 CAT and I am very weak in quants. How can I improve my QA score?', 'I am a CAT 1808 aspirant and the test would begin in a month. I have consistently been scoring low in quants and DI because of which I always get very very low scores. I am extremely frustrated now. Is there any way I can improve my quant skills in less than a month now?')\n",
      "\n",
      "1 (0.9) ('What if I would sleep for 2-3 hours every night?', 'What are the effects of getting 3 hours of sleep per night?')\n",
      "0 (0.0) ('What if I would sleep for 2-4 hours every night?', 'What are the effects of getting 4 hours of sleep per night?')\n",
      "0 (0.0) ('What if I would sleep for 2-4 hours every night?', 'What are the effects of getting 4 hours of sleep per night?')\n",
      "\n"
     ]
    }
   ],
   "source": [
    "data = Perturb.perturb(parsed_qs, change_both_wrapper(Perturb.change_number), nsamples=500)\n",
    "test = Inv(data)\n",
    "test.run(new_pp)\n",
    "test.summary(3)"
   ]
  },
  {
   "cell_type": "markdown",
   "metadata": {},
   "source": [
    "### Change name, loc, number in only one where orig prediction is duplicate"
   ]
  },
  {
   "cell_type": "markdown",
   "metadata": {},
   "source": [
    "Changing only first names"
   ]
  },
  {
   "cell_type": "code",
   "execution_count": 162,
   "metadata": {},
   "outputs": [
    {
     "name": "stdout",
     "output_type": "stream",
     "text": [
      "Predicting 23500 examples\n",
      "Test cases:      1500\n",
      "After filtering: 593 (39.5%)\n",
      "Fails (rate):    531 (89.5%)\n",
      "\n",
      "Example fails:\n",
      "1 (1.0) ('Why should I vote for Hillary Clinton?', \"Why should I vote for Hillary instead of why I shouldn't vote for Trump?\")\n",
      "\n",
      "1 (1.0) ('Is there a good chance Bernie Sanders will run for President in 2020?', 'Do you see Bernie sanders re running in 2020?')\n",
      "\n",
      "1 (1.0) ('What do you think about the rapist Donald Trump?', 'What do intelligent people think about Donald Trump?')\n",
      "1 (1.0) ('What do you think about the rapist Donald Trump?', 'What do intelligent people think about Hunter Trump?')\n",
      "1 (1.0) ('What do you think about the rapist Donald Trump?', 'What do intelligent people think about Lucas Trump?')\n",
      "\n"
     ]
    }
   ],
   "source": [
    "data = Perturb.perturb(parsed_qs, wrap_apply_to_each(Perturb.change_names), nsamples=1500, first_only=True)\n",
    "expect_fn = Expect.pairwise(lambda orig, pred, *args: pred == 0)\n",
    "expect_fn = Expect.slice_pairwise(expect_fn, lambda orig, *args: orig == 1)\n",
    "test = Dir(data, expect_fn)\n",
    "test.set_expected_label_print(label=0)\n",
    "test.run(new_pp)\n",
    "test.summary(3)"
   ]
  },
  {
   "cell_type": "markdown",
   "metadata": {},
   "source": [
    "Changing first and last names"
   ]
  },
  {
   "cell_type": "code",
   "execution_count": 163,
   "metadata": {},
   "outputs": [
    {
     "name": "stdout",
     "output_type": "stream",
     "text": [
      "Predicting 23550 examples\n",
      "Test cases:      1500\n",
      "After filtering: 599 (39.9%)\n",
      "Fails (rate):    286 (47.7%)\n",
      "\n",
      "Example fails:\n",
      "1 (1.0) ('Who is winning the presidential election, Trump or Clinton?', 'Who do you think will win Trump or Clinton?')\n",
      "\n",
      "1 (1.0) ('What is some historical evidence that Jesus existed?', 'What is the evidence for and against the existence of the historical Jesus?')\n",
      "\n",
      "1 (1.0) ('Who is a better Person for office Hillary of Donald?', 'Why is Hillary Clinton a better choice than Donald Trump?')\n",
      "1 (1.0) ('Who is a better Person for office Hillary of Donald?', 'Why is Hillary Clinton a better choice than William Morgan?')\n",
      "\n"
     ]
    }
   ],
   "source": [
    "data = Perturb.perturb(parsed_qs, wrap_apply_to_each(Perturb.change_names), nsamples=1500)\n",
    "test = Dir(data, expect_fn)\n",
    "test.set_expected_label_print(label=0)\n",
    "test.run(new_pp)\n",
    "test.summary(3)"
   ]
  },
  {
   "cell_type": "markdown",
   "metadata": {},
   "source": [
    "Locs"
   ]
  },
  {
   "cell_type": "code",
   "execution_count": 177,
   "metadata": {},
   "outputs": [
    {
     "name": "stdout",
     "output_type": "stream",
     "text": [
      "Predicting 23260 examples\n",
      "Test cases:      1500\n",
      "After filtering: 550 (36.7%)\n",
      "Fails (rate):    479 (87.1%)\n",
      "\n",
      "Example fails:\n",
      "1.0 ('Will banning 500 and 1000 notes can stop the black money?', 'How is black money curbed with the ban of 1000 rupee notes and introducing new 500 and 2000 rupee notes?')\n",
      "1.0 ('Will banning 488 and 1000 notes can stop the black money?', 'How is black money curbed with the ban of 1000 rupee notes and introducing new 500 and 2000 rupee notes?')\n",
      "1.0 ('Will banning 500 and 1096 notes can stop the black money?', 'How is black money curbed with the ban of 1000 rupee notes and introducing new 500 and 2000 rupee notes?')\n",
      "\n",
      "1.0 ('Should people over 99 not be allowed to vote?', 'Should people over 96 not be allowed to vote?')\n",
      "1.0 ('Should people over 110 not be allowed to vote?', 'Should people over 96 not be allowed to vote?')\n",
      "1.0 ('Should people over 102 not be allowed to vote?', 'Should people over 96 not be allowed to vote?')\n",
      "\n",
      "1.0 ('What are your top 5 movies for 2016?', 'What are some interesting movies in 2016?')\n",
      "1.0 ('What are your top 3 movies for 2016?', 'What are some interesting movies in 2016?')\n",
      "1.0 ('What are your top 3 movies for 2016?', 'What are some interesting movies in 2016?')\n",
      "\n"
     ]
    }
   ],
   "source": [
    "data = Perturb.perturb(parsed_qs, wrap_apply_to_each(Perturb.change_location), nsamples=1500)\n",
    "test = Dir(data, expect_fn)\n",
    "test.set_expected_label_print(label=0)\n",
    "test.run(new_pp)\n",
    "test.summary(3)"
   ]
  },
  {
   "cell_type": "markdown",
   "metadata": {},
   "source": [
    "numbers"
   ]
  },
  {
   "cell_type": "code",
   "execution_count": 171,
   "metadata": {},
   "outputs": [
    {
     "name": "stdout",
     "output_type": "stream",
     "text": [
      "Predicting 23260 examples\n",
      "Test cases:      1500\n",
      "After filtering: 550 (36.7%)\n",
      "Fails (rate):    479 (87.1%)\n",
      "\n",
      "Example fails:\n",
      "1 (1.0) ('How do you stop an 8 week Husky puppy from biting my shoes?', 'How do I stop a German Shepherd/Border Collie mix puppy from chewing my shoes?')\n",
      "1 (1.0) ('How do you stop an 9 week Husky puppy from biting my shoes?', 'How do I stop a German Shepherd/Border Collie mix puppy from chewing my shoes?')\n",
      "1 (1.0) ('How do you stop an 7 week Husky puppy from biting my shoes?', 'How do I stop a German Shepherd/Border Collie mix puppy from chewing my shoes?')\n",
      "\n",
      "1 (1.0) ('Is it possible for faithless electors to change the outcome of the 2016 presidential election?', 'According to the law, can faithless electors actually change the result of a presidential election?')\n",
      "\n",
      "1 (1.0) ('Is World War III coming?', 'Are we getting closer to world war 3?')\n",
      "1 (1.0) ('Is World War III coming?', 'Are we getting closer to world war 4?')\n",
      "1 (1.0) ('Is World War III coming?', 'Are we getting closer to world war 4?')\n",
      "\n"
     ]
    }
   ],
   "source": [
    "\n",
    "data = Perturb.perturb(parsed_qs, wrap_apply_to_each(Perturb.change_number), nsamples=1500)\n",
    "test = Dir(data, expect_fn)\n",
    "test.set_expected_label_print(label=0)\n",
    "test.run(new_pp)\n",
    "test.summary(3)"
   ]
  },
  {
   "cell_type": "code",
   "execution_count": null,
   "metadata": {},
   "outputs": [],
   "source": [
    "### Change "
   ]
  },
  {
   "cell_type": "markdown",
   "metadata": {},
   "source": [
    "### Keep entities, fill in with BERT gibberish"
   ]
  },
  {
   "cell_type": "code",
   "execution_count": 221,
   "metadata": {},
   "outputs": [],
   "source": [
    "def bert_gibberish(question):\n",
    "    ents = question.ents\n",
    "    if not ents:\n",
    "        return None\n",
    "    wp = [x.text for x in question if x.tag_ in ['WP', 'WRB', 'WDT']]\n",
    "    if not wp:\n",
    "        wp = question[0].text\n",
    "    else:\n",
    "        wp = wp[0]\n",
    "    ents = [x.text for x in ents]\n",
    "    ents[-1] = ents[-1] + '?'\n",
    "    template = ' {bert} '.join([wp] + ents)\n",
    "    gibberish = editor.template(template)[:10]\n",
    "#     return gibberish\n",
    "    ret = [(question.text, x) for x in gibberish if question.text != x ]\n",
    "    return ret\n",
    "def gibberish_both(qs):\n",
    "    q1, q2 = qs\n",
    "    ret = []\n",
    "    x1 = bert_gibberish(q1)\n",
    "    if x1:\n",
    "        ret.extend(x1)\n",
    "    x2 = bert_gibberish(q2)\n",
    "    if x2:\n",
    "        ret.extend(x2)\n",
    "    return ret\n",
    "#     ret =  [(question.text, x[1]) for x in tg.fill_in_between([wp] + ents) if question.text != x[1]]\n",
    "#     ret = [x for x in ret if len(x[1].split()) < len(x[0].split()) -4][:5]\n",
    "#     return ret "
   ]
  },
  {
   "cell_type": "code",
   "execution_count": 251,
   "metadata": {},
   "outputs": [
    {
     "name": "stdout",
     "output_type": "stream",
     "text": [
      "Predicting 8785 examples\n",
      "Test cases:      500\n",
      "Fails (rate):    162 (32.4%)\n",
      "\n",
      "Example fails:\n",
      "0 (0.0) ('Is it theoretically possible to travel a light year in under one year due to length contraction and other relativistic effects?', \"Is Run Ze Cao's falsification of Einstein's relativity valid?\")\n",
      "1 (1.0) ('Is it theoretically possible to travel a light year in under one year due to length contraction and other relativistic effects?', 'Is it a light year … under one year?')\n",
      "1 (1.0) ('Is it theoretically possible to travel a light year in under one year due to length contraction and other relativistic effects?', 'Is it a light year ... under one year?')\n",
      "\n",
      "0 (0.0) ('How is the placement of the MBA students at BIT Mesra?', 'What is the average package of placement in the civil branch of BIT Mesra?')\n",
      "1 (0.9) ('How is the placement of the MBA students at BIT Mesra?', 'How Do MBA I BIT Mesra?')\n",
      "1 (0.6) ('How is the placement of the MBA students at BIT Mesra?', 'How does MBA B BIT Mesra?')\n",
      "\n",
      "0 (0.0) ('How much money should I carry for a week-long trip to Cambodia?', 'Is a two-week trip too long for going to Cuba?')\n",
      "1 (1.0) ('How much money should I carry for a week-long trip to Cambodia?', 'How about week end Cambodia?')\n",
      "1 (1.0) ('How much money should I carry for a week-long trip to Cambodia?', 'How a week in Cambodia?')\n",
      "\n"
     ]
    }
   ],
   "source": [
    "data = Perturb.perturb(parsed_qs, gibberish_both, nsamples=500)\n",
    "expect_false = Expect.pairwise(lambda orig, pred, *args: pred == 0)\n",
    "test = Dir(data, expect_false)\n",
    "test.set_expected_label_print(label=0)\n",
    "test.run(new_pp)\n",
    "test.summary(3)"
   ]
  },
  {
   "cell_type": "code",
   "execution_count": 260,
   "metadata": {},
   "outputs": [
    {
     "name": "stdout",
     "output_type": "stream",
     "text": [
      "Test cases:      500\n",
      "Fails (rate):    162 (32.4%)\n",
      "\n",
      "Example fails:\n",
      "0 (0.0) ('What happens at the end of the 2002 movie I Not Stupid?', 'What happens at the end of the 2002 movie The Hours?')\n",
      "1 (1.0) ('What happens at the end of the 2002 movie I Not Stupid?', 'What happened the end of the 2002?')\n",
      "1 (0.8) ('What happens at the end of the 2002 movie I Not Stupid?', 'What at the end of the 2002?')\n",
      "\n",
      "1 (1.0) ('Eighth Generation Consoles: What are the differences between XBox One and Playstation 4 and which do you prefer?', 'Which is Better, the XBOX One or PlayStation 4?')\n",
      "1 (1.0) ('Which is Better, the XBOX One or PlayStation 4?', \"Which 's Better - PlayStation 4?\")\n",
      "1 (1.0) ('Eighth Generation Consoles: What are the differences between XBox One and Playstation 4 and which do you prefer?', 'What Reviews Eighth Sony XBox One?')\n",
      "\n",
      "1 (1.0) ('What do software developers miss when switching from Linux to Mac OS?', 'What are the main features a Linux (Ubuntu) user would miss when moving to Mac OS X?')\n",
      "1 (1.0) ('What do software developers miss when switching from Linux to Mac OS?', 'What compares Linux to Mac OS?')\n",
      "1 (1.0) ('What do software developers miss when switching from Linux to Mac OS?', 'What does Linux to Mac OS?')\n",
      "\n"
     ]
    }
   ],
   "source": [
    "test.summary(3)"
   ]
  },
  {
   "cell_type": "markdown",
   "metadata": {},
   "source": [
    "## Temporal"
   ]
  },
  {
   "cell_type": "markdown",
   "metadata": {},
   "source": [
    "Is != used to be"
   ]
  },
  {
   "cell_type": "code",
   "execution_count": 266,
   "metadata": {},
   "outputs": [
    {
     "name": "stdout",
     "output_type": "stream",
     "text": [
      "Predicting 1000 examples\n",
      "Test cases:      1000\n",
      "Fails (rate):    706 (70.6%)\n",
      "\n",
      "Example fails:\n",
      "0.9 ('Is Jessica Miller a secretary?', 'Did Jessica Miller use to be a secretary?')\n",
      "0.9 ('Is Katherine Ward a programmer?', 'Did Katherine Ward use to be a programmer?')\n",
      "0.7 ('Is Rebecca Lewis a teacher?', 'Did Rebecca Lewis use to be a teacher?')\n"
     ]
    }
   ],
   "source": [
    "data = editor.template(('Is {first_name} {last_name} {a:noun}?', 'Did {first_name} {last_name} use to be {a:noun}?'),\n",
    "                noun=nouns,\n",
    "                adj=adjs,\n",
    "                remove_duplicates=True, \n",
    "                nsamples=1000)\n",
    "test = Mft(data, labels=0)\n",
    "test.run(new_pp)\n",
    "test.summary(n=3)"
   ]
  },
  {
   "cell_type": "markdown",
   "metadata": {},
   "source": [
    "Is != becoming"
   ]
  },
  {
   "cell_type": "code",
   "execution_count": 374,
   "metadata": {},
   "outputs": [
    {
     "name": "stdout",
     "output_type": "stream",
     "text": [
      "Predicting 1000 examples\n",
      "Test cases:      1000\n",
      "Fails (rate):    192 (19.2%)\n",
      "\n",
      "Example fails:\n",
      "0.6 ('Is Erin Fisher an editor?', 'Is Erin Fisher becoming an editor?')\n",
      "0.7 ('Is Nathan Collins an organizer?', 'Is Nathan Collins becoming an organizer?')\n",
      "0.8 ('Is Taylor Gomez a kid?', 'Is Taylor Gomez becoming a kid?')\n"
     ]
    }
   ],
   "source": [
    "data = editor.template(('Is {first_name} {last_name} {a:noun}?', 'Is {first_name} {last_name} becoming {a:noun}?'),\n",
    "                noun=nouns,\n",
    "                adj=adjs,\n",
    "                remove_duplicates=True, \n",
    "                nsamples=1000)\n",
    "test = Mft(data, labels=0)\n",
    "test.run(new_pp)\n",
    "test.summary(n=3)"
   ]
  },
  {
   "cell_type": "markdown",
   "metadata": {},
   "source": [
    "Before != after"
   ]
  },
  {
   "cell_type": "code",
   "execution_count": 371,
   "metadata": {},
   "outputs": [
    {
     "name": "stdout",
     "output_type": "stream",
     "text": [
      "Predicting 1000 examples\n",
      "Test cases:      1000\n",
      "Fails (rate):    1000 (100.0%)\n",
      "\n",
      "Example fails:\n",
      "1.0 (\"What was Alyssa Nguyen's life before becoming a secretary?\", \"What was Alyssa Nguyen's life after becoming a secretary?\")\n",
      "1.0 (\"What was Samuel Reyes's life before becoming an administrator?\", \"What was Samuel Reyes's life after becoming an administrator?\")\n",
      "1.0 (\"What was Thomas Flores's life before becoming a reporter?\", \"What was Thomas Flores's life after becoming a reporter?\")\n"
     ]
    }
   ],
   "source": [
    "data = editor.template((\n",
    "    'What was {first_name} {last_name}\\'s life before becoming {a:noun}?',\n",
    "    'What was {first_name} {last_name}\\'s life after becoming {a:noun}?'\n",
    "),\n",
    "                noun=nouns,\n",
    "                adj=adjs,\n",
    "                remove_duplicates=True, \n",
    "                nsamples=1000)\n",
    "test = Mft(data, labels=0)\n",
    "test.run(new_pp)\n",
    "test.summary(n=3)"
   ]
  },
  {
   "cell_type": "code",
   "execution_count": 269,
   "metadata": {},
   "outputs": [
    {
     "name": "stdout",
     "output_type": "stream",
     "text": [
      "it, normal, OK, there, safe, best, ok, okay, acceptable, reasonable, permissible, legal, proper, wrong, healthy, good, enough, better, important, appropriate, left, allowed, possible, dinner, vegetarian, what, recommended, going, food, illegal, supposed, smart, unhealthy, hard, popular, hot, necessary, vegan, typical, not, free, right, required, fun, time, meant, something, one, kosher, customary, fair, mandatory, available, common, cheaper, alright, easier, suitable, feasible, polite, difficult, cool, certain, sensible, affordable, advisable, fine, fashionable, like, nice, unsafe, public, wise, decent, sufficient, harder, advised, traditional, usual, healthier, anyone, permitted, eating, easy, life, trendy, someone, forbidden, lawful, expensive, safer, new, everyone, compulsory, dangerous, worse, needed, realistic, temptation, essential, adequate, impossible, hungry, rude, risky, considered, prudent, taboo, different, tempting\n"
     ]
    }
   ],
   "source": [
    "print(', '.join(editor.suggest('Is is {bert} to eat after 10pm?')))"
   ]
  },
  {
   "cell_type": "code",
   "execution_count": 272,
   "metadata": {},
   "outputs": [],
   "source": [
    "mid = ['normal', 'ok', 'safe', 'dangerous', 'acceptable', 'reasonable', 'proper', 'wrong', 'healthy', 'important']"
   ]
  },
  {
   "cell_type": "code",
   "execution_count": 273,
   "metadata": {},
   "outputs": [
    {
     "name": "stdout",
     "output_type": "stream",
     "text": [
      "drink, sleep, drive, work, eat, leave, smoke, go, stay, travel, visit, vote, call, walk, read, party, talk, do, retire, fish, post, play, exercise, watch, be, celebrate, write, return, study, stop, disappear, continue, move, shop, text, strike, tweet, start, live, run, speak, relax, dance, act, fly, swim, die, enter, gamble, report, operate, bed, meet, kill, remain, wait, gather, attend, come, feed, cook, rise, film, finish, blog, close, paint, change, linger, quit, pray, ask, answer, pee, park, disturb, propose, dress, sit, withdraw, rest, protest, avoid, skate, check, stand, crash, marry, see, fight, open, vanish, exit, have, commute, chat, spend, cycle, perform, look, vape, arrive, cross, phone, proceed, buy, breathe, kiss, demonstrate, publish, pass, behave, respond, bar, complain, hang, function, dinner, exist, nap, practice, begin, end, consume, resign, use, ride, bike, bet, think, cry, shower, wander, escape, comment, approach, refuse, roam, know, dive, bicycle, emerge, explore, hike, stroll, car, cancel, wake, blackout, hunt, queue, disconnect, say, occur, take, join, block, strip, lie, worry, vacuum, appear, observe, evacuate, ski, wear, follow, order, awake, people, binge, snack, happen, surf, clean, panic, date, vomit, resume, garden, crawl, jump, jog, book, feel, lose, survive, scream, intervene, children, debate, argue, get, step, taxi, climb, collapse, recover, search, sunset, awaken, investigate, alcohol, shout, you, workout, me, chill, remember, sex, diet, fart, laugh, waste, bake, indulge, cough, barbecue, shave, freeze, pay, fire, conclude, rent, train, expect, reopen, rush, ring, listen, us, try, discuss, plan, Google, learn, focus, anyone, reconnect, concentrate, notice, hear, tell, consider, research, pause, save, update, them, note\n"
     ]
    }
   ],
   "source": [
    "print(', '.join(editor.suggest('Is is {mid} to {bert} after 10pm?', mid=mid)))"
   ]
  },
  {
   "cell_type": "code",
   "execution_count": 274,
   "metadata": {},
   "outputs": [],
   "source": [
    "activity = ['drink', 'sleep', 'drive', 'work', 'eat', 'smoke', 'walk', 'read', 'party', 'talk', 'exercise', 'celebrate', 'text', 'tweet', 'run', 'dance', 'swim', 'cook', 'pray', 'pee', 'rest']"
   ]
  },
  {
   "cell_type": "code",
   "execution_count": 275,
   "metadata": {},
   "outputs": [
    {
     "name": "stdout",
     "output_type": "stream",
     "text": [
      "Predicting 1000 examples\n",
      "Test cases:      1000\n",
      "Fails (rate):    971 (97.1%)\n",
      "\n",
      "Example fails:\n",
      "0.9 ('Is it dangerous to dance before 9pm?', 'Is it dangerous to dance after 9pm?')\n",
      "0.9 ('Is it acceptable to party before 1am?', 'Is it acceptable to party after 1am?')\n",
      "0.9 ('Is it acceptable to drink before 2pm?', 'Is it acceptable to drink after 2pm?')\n"
     ]
    }
   ],
   "source": [
    "data = editor.template(('Is it {mid} to {activity} before {hour}{ampm}?','Is it {mid} to {activity} after {hour}{ampm}?'),\n",
    "                activity=activity,\n",
    "                mid=mid,\n",
    "                hour=[str(x) for x in range(1, 12)],\n",
    "                ampm=['am', 'pm'],\n",
    "                remove_duplicates=True, \n",
    "                nsamples=1000)\n",
    "test = Mft(data, labels=0)\n",
    "test.run(new_pp)\n",
    "test.summary(n=3)"
   ]
  },
  {
   "cell_type": "markdown",
   "metadata": {},
   "source": [
    "## Negation"
   ]
  },
  {
   "cell_type": "code",
   "execution_count": 277,
   "metadata": {},
   "outputs": [],
   "source": [
    "mid2 = mid + ['legal', 'awkward', 'socially acceptable']"
   ]
  },
  {
   "cell_type": "code",
   "execution_count": 282,
   "metadata": {},
   "outputs": [
    {
     "name": "stdout",
     "output_type": "stream",
     "text": [
      "live, work, vote, stay, marry, be, drive, study, travel, eat, protest, campaign, squat, fight, die, fly, shop, speak, gamble, demonstrate, visit, hunt, remain, pray, sleep, smoke, serve, fish, exist, write, settle, kill, murder, reside, meet, swim, invest, operate, move, pee, march, perform, strike, play, act, report, worship, rape, arrive, gather, drink, volunteer, sue, propose, fire, surf, shoot, dance, land, party, hate, practice, race, vacation, hide, cook, paint, camp, train, preach, teach, burn, spy, call, sit, build, stand, ask, search, walk, buy, ski, survive, publish, appear, think, talk, park, continue, film, lie, exercise, gay, holiday, divorce, start, believe, look, discriminate, migrate\n"
     ]
    }
   ],
   "source": [
    "print(', '.join(editor.suggest('Is it {mid} to {bert} in {country}?', mid=mid2)[:100]))"
   ]
  },
  {
   "cell_type": "code",
   "execution_count": 285,
   "metadata": {},
   "outputs": [],
   "source": [
    "things = ['work', 'vote', 'travel', 'marry', 'drive', 'study', 'protest', 'campaign', 'fight', 'gamble', 'hunt', 'pray', 'smoke', 'fish', 'murder', 'invest', 'pee', 'march', 'worship', 'rape', 'volunteer', 'surf', 'shoot', 'dance', 'camp', 'preach', 'spy', 'be gay', 'lie', 'divorce', 'discriminate']"
   ]
  },
  {
   "cell_type": "code",
   "execution_count": 287,
   "metadata": {},
   "outputs": [
    {
     "name": "stdout",
     "output_type": "stream",
     "text": [
      "Predicting 1000 examples\n",
      "Test cases:      1000\n",
      "Fails (rate):    238 (23.8%)\n",
      "\n",
      "Example fails:\n",
      "0.9 ('Is it dangerous to smoke in Azerbaijan?', 'Is it dangerous not to smoke in Azerbaijan?')\n",
      "0.9 ('Is it reasonable to pee in Comoros?', 'Is it reasonable not to pee in Comoros?')\n",
      "0.6 ('Is it wrong to travel in Myanmar?', 'Is it wrong not to travel in Myanmar?')\n"
     ]
    }
   ],
   "source": [
    "data = editor.template(('Is it {mid} to {activity} in {country}?','Is it {mid} not to {activity} in {country}?'),\n",
    "                activity=things,\n",
    "                mid=mid2,\n",
    "                remove_duplicates=True, \n",
    "                nsamples=1000)\n",
    "test = Mft(data, labels=0)\n",
    "test.run(new_pp)\n",
    "test.summary(n=3)"
   ]
  },
  {
   "cell_type": "code",
   "execution_count": 396,
   "metadata": {},
   "outputs": [
    {
     "name": "stdout",
     "output_type": "stream",
     "text": [
      "Predicting 1000 examples\n",
      "Test cases:      1000\n",
      "Fails (rate):    0 (0.0%)\n"
     ]
    }
   ],
   "source": [
    "data = editor.template((\n",
    "    'What are things {a:noun} should worry about?',\n",
    "    'What are things {a:noun} should not worry about?',\n",
    "),\n",
    "                noun=nouns,\n",
    "                remove_duplicates=True, \n",
    "                nsamples=1000)\n",
    "test = Mft(data, labels=0)\n",
    "test.run(new_pp)\n",
    "test.summary(n=3)"
   ]
  },
  {
   "cell_type": "markdown",
   "metadata": {},
   "source": [
    "## Coref"
   ]
  },
  {
   "cell_type": "code",
   "execution_count": 290,
   "metadata": {},
   "outputs": [
    {
     "name": "stdout",
     "output_type": "stream",
     "text": [
      "Predicting 1000 examples\n",
      "Test cases:      1000\n",
      "Fails (rate):    702 (70.2%)\n",
      "\n",
      "Example fails:\n",
      "0.8 ('If Bryan and Andrea were alone, do you think he would reject her?', 'If Bryan and Andrea were alone, do you think she would reject him?')\n",
      "0.7 ('If Charles and Andrea were alone, do you think he would reject her?', 'If Charles and Andrea were alone, do you think she would reject him?')\n",
      "0.8 ('If Adam and Ava were alone, do you think he would reject her?', 'If Adam and Ava were alone, do you think she would reject him?')\n"
     ]
    }
   ],
   "source": [
    "data = editor.template(\n",
    "    (\n",
    "        'If {male} and {female} were alone, do you think he would reject her?',\n",
    "        'If {male} and {female} were alone, do you think she would reject him?',\n",
    "    ),\n",
    "    remove_duplicates=True, \n",
    "    nsamples=1000)\n",
    "test = Mft(data, labels=0)\n",
    "test.run(new_pp)\n",
    "test.summary(n=3)"
   ]
  },
  {
   "cell_type": "code",
   "execution_count": 294,
   "metadata": {},
   "outputs": [
    {
     "name": "stdout",
     "output_type": "stream",
     "text": [
      "Predicting 2000 examples\n",
      "Test cases:      2000\n",
      "Fails (rate):    1979 (99.0%)\n",
      "\n",
      "Example fails:\n",
      "1.0 ('If Daniel and Melissa were married, would his family be happy?', \"If Daniel and Melissa were married, would Melissa's family be happy?\")\n",
      "0.9 ('If Jack and Holly were married, would his family be happy?', \"If Jack and Holly were married, would Holly's family be happy?\")\n",
      "0.8 ('If Logan and Amy were married, would her family be happy?', \"If Logan and Amy were married, would Logan's family be happy?\")\n"
     ]
    }
   ],
   "source": [
    "data = editor.template(\n",
    "    [(\n",
    "        'If {male} and {female} were married, would his family be happy?',\n",
    "        'If {male} and {female} were married, would {female}\\'s family be happy?',\n",
    "    ),(\n",
    "        'If {male} and {female} were married, would her family be happy?',\n",
    "        'If {male} and {female} were married, would {male}\\'s family be happy?',\n",
    "    ),\n",
    "    ]\n",
    "        ,\n",
    "    unroll=True,\n",
    "    remove_duplicates=True, \n",
    "    nsamples=1000)\n",
    "test = Mft(data, labels=0)\n",
    "test.run(new_pp)\n",
    "test.summary(n=3)"
   ]
  },
  {
   "cell_type": "markdown",
   "metadata": {},
   "source": [
    "## SRL"
   ]
  },
  {
   "cell_type": "code",
   "execution_count": 295,
   "metadata": {},
   "outputs": [
    {
     "name": "stdout",
     "output_type": "stream",
     "text": [
      "chef, pizza, boxer, player, footballer, athlete, rapper, actor, singer, cook, magician, robot, coach, beer, cyclist, wrestler, drummer, musician, quarterback, hacker, dog, baker, fighter, journalist, restaurant, steak, teacher, doctor, gamer, band, shooter, DJ, football, person, horse, photographer, driver, fisherman, burger, coffee, lawyer, writer, food, dancer, student, wine, artist, man, surgeon, comedian, trainer, VPN, vegetarian, programmer, team, game, vegan, guitarist, goalkeeper, server, guy, cricket, sport, engineer, dentist, waiter, cheese, bartender, fish, chicken, goalie, car, manager, computer, referee, hunter, guitar, basketball, tennis, astronaut, mathematician, sandwich, blogger, accountant, TV, soldier, sniper, job, runner, barbecue, chocolate, scientist, friend, cat, gun, pitcher, judge, AI, philosopher, butcher, painter, golf, camel, translator, piano, worker, farmer, conductor, politician, bike\n"
     ]
    }
   ],
   "source": [
    "print(', '.join(editor.suggest('Who is the best {bert} in the world?')))"
   ]
  },
  {
   "cell_type": "code",
   "execution_count": 298,
   "metadata": {},
   "outputs": [],
   "source": [
    "thing = ['chef', 'boxer', 'player', 'footballer', 'athlete', 'rapper', 'actor', 'singer', 'cook', 'magician', 'coach', 'cyclist', 'wrestler', 'drummer', 'musician', 'quarterback', 'hacker', 'baker', 'fighter', 'journalist', 'teacher', 'doctor', 'gamer', 'husband', 'DJ', 'person', 'man', 'woman', 'surgeon', 'comedian', 'trainer', 'programmer', 'guitarist', 'goalkeeper']"
   ]
  },
  {
   "cell_type": "code",
   "execution_count": 300,
   "metadata": {},
   "outputs": [
    {
     "name": "stdout",
     "output_type": "stream",
     "text": [
      "you, You, YOU, people, we, they, I, readers, u, guys, your, others, fans, ya, experts, scientists, Americans, students, men, voters, authors, some, the, friends, everyone, conservatives, women, Canadians, analysts, critics, he, players, judges, audiences, artists, researchers, most, folks, liberals, all, historians, Australians, celebrities, members, journalists, supporters, respondents, viewers, teachers, i, participants, Republicans, coaches, parents, editors, many, comedians, writers, kids, U, economists, reporters, consumers, veterans, doctors, gamers, anyone, users, independents, individuals, millennials, candidates, philosophers, athletes, reviewers, politicians, commentators, pundits, atheists, each, children, yo, scholars, psychologists, archaeologists, Christians, feminists, agents, ye, adults, pros, seniors, ladies, teenagers, investigators, not, both, listeners, Democrats, leaders, humans, YOUR, police, academics, contestants, stars, those, astronomers, guests, musicians, any, two, Conservatives, professionals, poets, one, DJs, girls, evangelicals, still, she, Russians, yours, professors, boys, teens, activists, teams, Mormons, rappers, bloggers, Millennials, astronauts, libertarians, Jews, mothers, residents, competitors, MPs, brands, legends, schools, educators, chefs, intellectuals, youth, pupils, senators, scouts, PEOPLE, insiders, runners, captains, physicians, patients, surgeons, cyclists, psychiatrists, clinicians, drivers, wrestlers, couples, strikers, physicists, developers, singers, skeptics, lawyers, nurses, referees, sports, Victoria, programmers, riders, Muslims, Britons, comics, polls, manufacturers, DJ, thee, do\n"
     ]
    }
   ],
   "source": [
    "print(', '.join(editor.suggest('Who do {bert} think is the the best {thing} in the world?', thing=thing)))"
   ]
  },
  {
   "cell_type": "code",
   "execution_count": 301,
   "metadata": {},
   "outputs": [],
   "source": [
    "subjects = ['you', 'people', 'readers', 'guys', 'fans', 'experts', 'scientists', 'Americans', 'students', 'men', 'voters', 'authors', 'conservatives', 'women', 'Canadians', 'analysts', 'critics', 'judges', 'artists', 'researchers', 'liberals', 'historians', 'Australians', 'journalists', 'Republicans', 'coaches', 'parents', 'kids', 'economists', 'reporters', 'consumers', 'veterans', 'doctors']"
   ]
  },
  {
   "cell_type": "code",
   "execution_count": 303,
   "metadata": {},
   "outputs": [
    {
     "name": "stdout",
     "output_type": "stream",
     "text": [
      "best, greatest, worst, top, smartest, strongest, biggest, toughest, finest, fastest, happiest, coolest, deadliest, hottest, hardest, better, safest, richest, oldest, leading, great, youngest, brightest, busiest, largest, superior, favorite, premier, ultimate, elite, most, dominant, Greatest, easiest, highest, favourite, perfect, BEST, wealthiest, weakest, newest, Best, only, outstanding, smallest, professional, right, next, good, heaviest\n"
     ]
    }
   ],
   "source": [
    "print(', '.join(editor.suggest('Who do {subjects} think is the the {bert} {thing} in the world?', thing=thing, subjects=subjects)[:50]))"
   ]
  },
  {
   "cell_type": "code",
   "execution_count": 304,
   "metadata": {},
   "outputs": [],
   "source": [
    "best = ['best', 'greatest', 'worst', 'top', 'smartest', 'strongest', 'finests', 'happiest', 'coolest', 'richest', 'leading', 'brightest', 'premier', 'ultimate', 'dominant']"
   ]
  },
  {
   "cell_type": "code",
   "execution_count": 305,
   "metadata": {},
   "outputs": [
    {
     "name": "stdout",
     "output_type": "stream",
     "text": [
      "Predicting 1000 examples\n",
      "Test cases:      1000\n",
      "Fails (rate):    135 (13.5%)\n",
      "\n",
      "Example fails:\n",
      "0.4 ('Who do students think is the greatest singer in the world?', 'Who is the greatest singer in the world according to students?')\n",
      "0.0 ('Who do men think is the worst person in the world?', 'Who is the worst person in the world according to men?')\n",
      "0.3 ('Who do men think is the worst programmer in the world?', 'Who is the worst programmer in the world according to men?')\n"
     ]
    }
   ],
   "source": [
    "data = editor.template((\n",
    "    'Who do {subjects} think is the {best} {thing} in the world?',\n",
    "    'Who is the {best} {thing} in the world according to {subjects}?'\n",
    "),\n",
    "    subjects=subjects,\n",
    "    best=best,\n",
    "    thing=thing,\n",
    "    remove_duplicates=True, \n",
    "    nsamples=1000)\n",
    "test = Mft(data, labels=1)\n",
    "test.run(new_pp)\n",
    "test.summary(n=3)"
   ]
  },
  {
   "cell_type": "code",
   "execution_count": 319,
   "metadata": {},
   "outputs": [
    {
     "name": "stdout",
     "output_type": "stream",
     "text": [
      "dogs, cats, humans, people, pigs, chickens, you, mice, birds, cows, sheep, fish, bees, snakes, elephants, we, bats, robots, ants, spiders, babies, puppies, insects, trees, animals, they, dolphins, butterflies, flies, whales, mosquitoes, plants, horses, cars, dinosaurs, goats, rats, bears, men, monkeys, rabbits, lions, pets, children, kittens, frogs, girls, turtles, ducks, bugs, kids, crabs, computers, tigers, worms, toys, things, sharks, primates, beetles, wolves, chimpanzees, cattle, apes, deer, reptiles, rodents, mammals, houses, diamonds, seals, bicycles, ponies, potatoes, drones, mushrooms, dragons, apples, boys, us, flowers, carrots, women, dolls, ticks, balls, coins, stones, brains, calves, Indians, dwarves, trolls, pedestrians, trucks, bulls, vampires, blacks, Americans, bikes\n"
     ]
    }
   ],
   "source": [
    "print(', '.join([str(x) for x in editor.suggest('Are {bert} smaller than {a}?', a=['bananas', 'dogs', 'cars', 'cats', 'elephants'])][:100]))"
   ]
  },
  {
   "cell_type": "code",
   "execution_count": 325,
   "metadata": {},
   "outputs": [],
   "source": [
    "things = editor.suggest('Are {bert} smaller than {a}?',a=['bananas', 'dogs', 'cars', 'cats', 'elephants'] )[:100]"
   ]
  },
  {
   "cell_type": "code",
   "execution_count": 320,
   "metadata": {},
   "outputs": [
    {
     "name": "stdout",
     "output_type": "stream",
     "text": [
      "better, rather, more, worse, easier, harder, cheaper, safer, less, different, faster, greater, smarter, stronger, cleaner, other, bigger, tougher, healthier, quicker, stranger, cooler, higher, nicer, important, louder, deeper, er, longer, simpler, clearer, slower, wiser, hotter, ier, larger, closer, sooner, happier, preferred, preferable, legal, richer, dead, lower, work, superior, older, warmer, thicker, criminal, necessary, popular, lighter, dangerous, murder, useful, younger, differently, further, orse, darker, right, smaller, fun, essential, der, broader, effective, help, wider, shorter, productive, quieter, r, real, weaker, harsher, lesser, Rather, valuable, death, fatal, harmful, hurt, free, prefer, powerful, ger, cheat, killer, ter, colder, crime, rape, lier, art, cruel, political, heavier\n"
     ]
    }
   ],
   "source": [
    "print(', '.join([str(x) for x in editor.suggest('Are {a} {bert} than {a2}?', a=things, a2=things)][:100]))"
   ]
  },
  {
   "cell_type": "code",
   "execution_count": 321,
   "metadata": {},
   "outputs": [],
   "source": [
    "comp = ['better', 'worse', 'cheaper', 'bigger', 'louder', 'longer', 'larger', 'smaller', 'warmer', 'colder', 'thicker', 'lighter', 'heavier']"
   ]
  },
  {
   "cell_type": "markdown",
   "metadata": {},
   "source": [
    "Order doesn't matter for comparison"
   ]
  },
  {
   "cell_type": "code",
   "execution_count": 334,
   "metadata": {},
   "outputs": [
    {
     "name": "stdout",
     "output_type": "stream",
     "text": [
      "Predicting 993 examples\n",
      "Test cases:      993\n",
      "Fails (rate):    987 (99.4%)\n",
      "\n",
      "Example fails:\n",
      "0.0 ('Are sheep heavier than diamonds?', 'What is heavier, diamonds or sheep?')\n",
      "0.0 ('Are girls bigger than trees?', 'What is bigger, trees or girls?')\n",
      "0.0 ('Are cows bigger than chickens?', 'What is bigger, chickens or cows?')\n"
     ]
    }
   ],
   "source": [
    "data = editor.template((\n",
    "    'Are {t1} {comp} than {t2}?',\n",
    "#     'Are {t2} {comp} than {t1}?',\n",
    "#     'What is {comp}, {t1} or {t2}?',\n",
    "    'What is {comp}, {t2} or {t1}?'\n",
    "),\n",
    "    t = things,\n",
    "    comp = comp,\n",
    "    remove_duplicates=True, \n",
    "    nsamples=1000)\n",
    "# data = [tuple(np.random.choice(x, 2, replace=False)) for x in data]\n",
    "test = Mft(data, labels=1)\n",
    "test.run(new_pp)\n",
    "test.summary(n=3)"
   ]
  },
  {
   "cell_type": "markdown",
   "metadata": {},
   "source": [
    "Order matters for asymetric relations"
   ]
  },
  {
   "cell_type": "code",
   "execution_count": 340,
   "metadata": {},
   "outputs": [],
   "source": [
    "# editor.template('Is {first_name1} {bert} {first_name2}?', remove_duplicates=True)[:100]"
   ]
  },
  {
   "cell_type": "code",
   "execution_count": 344,
   "metadata": {},
   "outputs": [
    {
     "name": "stdout",
     "output_type": "stream",
     "text": [
      "related, married, close, engaged, attracted, talking, lying, closer, connected, speaking, going, linked, loyal, mean, faithful, similar, important, listening, true, next, committed, dead, writing, tied, up, proposing, referring, responding, bound, on, hostile, lied, turning, gay, returning, closest, straight, new, opposed, right, proposed, coming, indebted, back, real, abusive, truthful, known, allergic, attached, crazy, nice, good, talk, reacting, Married, dangerous, addicted, available, attractive, supposed, fair, alive, happening, friendly, getting, gone, special, happy, devoted, nicer, relevant, out, wrong, kind, open, bisexual, decent, used, drawn, kin, entitled, guilty, single, insane, cruel, wed, cold, father, serious, clinging, off, moving, acceptable, Loyal, superior, pregnant, equal, unfair, helpful\n",
      "\n",
      "or, and, a, really, an, dating, with, actually, &, /, like, still, to, Really, not, marrying, married, real, Dating, ,, after, from, indeed, the, leaving, even, his, killing, born, behind, fucking, …, seeing, against, now, for, meeting, truly, pregnant, following, called, without, marry, REALLY, killed, kissing, named, taking, gay, using, expecting, biologically, on, Love, With, John, carrying, 's, stalking, ..., James, also, NOT, Elizabeth, Foster, Curtis, Ian, beating, versus, ?, into, love, Robert, becoming, under, King, over, Young, Married, your, her, asking, AND, ex, facing, about, father, raising, getting, remember, A, Sue, Kate, missing, seeking, poisoning, protecting, Prince, know, kidnapping\n"
     ]
    }
   ],
   "source": [
    "print(', '.join(editor.suggest('Is {first_name1} {bert} to {first_name2}?', remove_duplicates=True)[:100]))\n",
    "print()\n",
    "print(', '.join(editor.suggest('Is {first_name1} {bert} {first_name2}?', remove_duplicates=True)[:100]))"
   ]
  },
  {
   "cell_type": "code",
   "execution_count": 346,
   "metadata": {},
   "outputs": [],
   "source": [
    "symmetric = ['dating', 'married to', 'close to', 'engaged to', 'connected to', 'married to', 'friends with', 'related to', 'an acquaintance of']"
   ]
  },
  {
   "cell_type": "code",
   "execution_count": 347,
   "metadata": {},
   "outputs": [
    {
     "name": "stdout",
     "output_type": "stream",
     "text": [
      "Predicting 987 examples\n",
      "Test cases:      987\n",
      "Fails (rate):    786 (79.6%)\n",
      "\n",
      "Example fails:\n",
      "0.2 ('Is Katherine an acquaintance of James?', 'Is James an acquaintance of Katherine?')\n",
      "0.1 ('Is Sara an acquaintance of John?', 'Is John an acquaintance of Sara?')\n",
      "0.0 ('Is Laura related to Shannon?', 'Is Shannon related to Laura?')\n"
     ]
    }
   ],
   "source": [
    "data = editor.template((\n",
    "    'Is {first_name1} {s} {first_name2}?',\n",
    "#     'Are {t2} {comp} than {t1}?',\n",
    "#     'What is {comp}, {t1} or {t2}?',\n",
    "    'Is {first_name2} {s} {first_name1}?',\n",
    "),\n",
    "    s = symmetric,\n",
    "    remove_duplicates=True, \n",
    "    nsamples=1000)\n",
    "# data = [tuple(np.random.choice(x, 2, replace=False)) for x in data]\n",
    "test = Mft(data, labels=1)\n",
    "test.run(new_pp)\n",
    "test.summary(n=3)"
   ]
  },
  {
   "cell_type": "code",
   "execution_count": null,
   "metadata": {},
   "outputs": [],
   "source": [
    "asymmetric = ['hurting', 'lying to', 'loyal to', 'faithful to', 'proposing to', 'indebted to', 'abusive to', 'using', 'expecting', 'beating', 'punching', 'raising', 'poisoning', 'protecting', 'kidnapping']"
   ]
  },
  {
   "cell_type": "code",
   "execution_count": 348,
   "metadata": {},
   "outputs": [
    {
     "name": "stdout",
     "output_type": "stream",
     "text": [
      "Predicting 995 examples\n",
      "Test cases:      995\n",
      "Fails (rate):    273 (27.4%)\n",
      "\n",
      "Example fails:\n",
      "0.7 ('Is Timothy beating Michael?', 'Is Michael beating Timothy?')\n",
      "0.6 ('Is Ethan proposing to Charles?', 'Is Charles proposing to Ethan?')\n",
      "0.9 ('Is Justin using Jonathan?', 'Is Jonathan using Justin?')\n"
     ]
    }
   ],
   "source": [
    "data = editor.template((\n",
    "    'Is {first_name1} {s} {first_name2}?',\n",
    "#     'Are {t2} {comp} than {t1}?',\n",
    "#     'What is {comp}, {t1} or {t2}?',\n",
    "    'Is {first_name2} {s} {first_name1}?',\n",
    "),\n",
    "    s = asymmetric,\n",
    "    remove_duplicates=True, \n",
    "    nsamples=1000)\n",
    "# data = [tuple(np.random.choice(x, 2, replace=False)) for x in data]\n",
    "test = Mft(data, labels=0)\n",
    "test.run(new_pp)\n",
    "test.summary(n=3)"
   ]
  },
  {
   "cell_type": "markdown",
   "metadata": {},
   "source": [
    "More traditional SRL, now possible with new interface (was hard before)"
   ]
  },
  {
   "cell_type": "code",
   "execution_count": 399,
   "metadata": {},
   "outputs": [
    {
     "name": "stdout",
     "output_type": "stream",
     "text": [
      "farm, stake, house, property, company, land, rights, ticket, papers, newspaper, book, island, estate, ranch, boat, horse, paper, shares, tickets, business, gun, books, newspapers, yacht, team, ship, stock, idea, plot, contract, Bible, phone, franchise, shotgun, store, horses, cattle, church, place, game, factory, castle, club, painting, bank, tract, rifle, manuscript, car, campaign, Ark, slaves, plane, school, money, guns, sword, plantation, beer, trust, election, film, ring, building, station, twins, deal, loan, time, tractor, home, letter, IRA, plan, title, watch, story, letters, rest, cows, piece, diary, brewery, charter, diamond, mortgage, hospital, site, post, operation, insurance, railroad, cow, coins, Dell, case, children, wine, telephone, dog\n"
     ]
    }
   ],
   "source": [
    "print(', '.join(editor.suggest('Did John buy the {bert}?', remove_duplicates=True)[:100]))"
   ]
  },
  {
   "cell_type": "code",
   "execution_count": 401,
   "metadata": {},
   "outputs": [],
   "source": [
    "obj = ['farm', 'house', 'property', 'company', 'land', 'ticket', 'newspaper', 'book', 'island', 'estate', 'ranch', 'boat', 'horse', 'paper', 'business', 'gun', 'game', 'factory', 'castle', 'painting', 'rifle', 'car', 'school', 'building']"
   ]
  },
  {
   "cell_type": "code",
   "execution_count": 402,
   "metadata": {},
   "outputs": [
    {
     "name": "stdout",
     "output_type": "stream",
     "text": [
      "buy, sell, leave, own, take, get, keep, see, want, lose, have, purchase, destroy, inherit, find, use, need, receive, return, like, enjoy, abandon, manage, remember, finish, run, miss, move, handle, seize, build, steal, acquire, rebuild, save, afford, hold, sign, win, recover, maintain, enter, control, burn, know, break, raid, reclaim, bought, start, rent, close, restore, sold, survive, claim, give, name, join, notice, deliver, sue, rob, make, visit, clear, in, left, retain, accept, bring, fix, operate, mention, quit, watch, remove, tour, secure, call, flee, found, recommend, touch, on, open, repair, complete, share, choose, love, mortgage, lead, escape, inherited, mind, recall, develop, pursue, land\n"
     ]
    }
   ],
   "source": [
    "print(', '.join(editor.suggest('Did John {bert} the {obj}?', obj=obj, remove_duplicates=True)[:100]))"
   ]
  },
  {
   "cell_type": "code",
   "execution_count": 457,
   "metadata": {},
   "outputs": [
    {
     "data": {
      "text/plain": [
       "[('buy', 'bought'),\n",
       " ('purchase', 'purchased'),\n",
       " ('sell', 'sold'),\n",
       " ('leave', 'left'),\n",
       " ('own', 'owned'),\n",
       " ('take', 'taken'),\n",
       " ('keep', 'kept'),\n",
       " ('want', 'wanted'),\n",
       " ('lose', 'lost'),\n",
       " ('destroy', 'destroyed'),\n",
       " ('inherit', 'inherited'),\n",
       " ('find', 'found'),\n",
       " ('use', 'used'),\n",
       " ('need', 'needed'),\n",
       " ('receive', 'received'),\n",
       " ('return', 'returned'),\n",
       " ('like', 'liked'),\n",
       " ('enjoy', 'enjoyed'),\n",
       " ('abandon', 'abandoned'),\n",
       " ('manage', 'managed'),\n",
       " ('remember', 'remembered'),\n",
       " ('miss', 'missed'),\n",
       " ('move', 'moved'),\n",
       " ('seize', 'seized'),\n",
       " ('steal', 'stolen')]"
      ]
     },
     "execution_count": 457,
     "metadata": {},
     "output_type": "execute_result"
    }
   ],
   "source": [
    "import pattern\n",
    "import pattern.en\n",
    "verbs = ['buy', 'purchase', 'sell', 'leave', 'own', 'take', 'keep', 'want', 'lose', 'destroy', 'inherit', 'find', 'use', 'need', 'receive', 'return', 'like', 'enjoy', 'abandon', 'manage', 'remember', 'miss', 'move', 'seize', 'steal']\n",
    "a = pattern.en.tenses('stolen')[0]\n",
    "verbs = [(v, pattern.en.conjugate(v, *a)) for v in verbs]\n",
    "verbs[3] = ('leave', 'left')\n",
    "verbs"
   ]
  },
  {
   "cell_type": "code",
   "execution_count": 447,
   "metadata": {},
   "outputs": [
    {
     "name": "stdout",
     "output_type": "stream",
     "text": [
      "Predicting 1000 examples\n",
      "Test cases:      1000\n",
      "Fails (rate):    112 (11.2%)\n",
      "\n",
      "Example fails:\n",
      "0.4 ('Did Richard abandon the island?', 'Was the island abandoned by Richard?')\n",
      "0.3 ('Did Aaron use the estate?', 'Was the estate used by Aaron?')\n",
      "0.0 ('Did Daniel miss the land?', 'Was the land missed by Daniel?')\n"
     ]
    }
   ],
   "source": [
    "data = editor.template((\n",
    "    'Did {first_name} {verb[0]} the {obj}?',\n",
    "    'Was the {obj} {verb[1]} by {first_name}?'\n",
    "),\n",
    "    verb=verbs,\n",
    "    obj=obj,\n",
    "    remove_duplicates=True, \n",
    "    nsamples=1000)\n",
    "# data = [tuple(np.random.choice(x, 2, replace=False)) for x in data]\n",
    "test = Mft(data, labels=1)\n",
    "test.run(new_pp)\n",
    "test.summary(n=3)"
   ]
  },
  {
   "cell_type": "code",
   "execution_count": 456,
   "metadata": {},
   "outputs": [
    {
     "name": "stdout",
     "output_type": "stream",
     "text": [
      "Predicting 1000 examples\n",
      "Test cases:      1000\n",
      "Fails (rate):    953 (95.3%)\n",
      "\n",
      "Example fails:\n",
      "0.9 ('Did Justin find the business?', 'Was Justin found by the business?')\n",
      "0.9 ('Did Mark keep the paper?', 'Was Mark kept by the paper?')\n",
      "0.9 ('Did Michael remember the land?', 'Was Michael remembered by the land?')\n"
     ]
    }
   ],
   "source": [
    "data = editor.template((\n",
    "    'Did {first_name} {verb[0]} the {obj}?',\n",
    "    'Was {first_name} {verb[1]} by the {obj}?'\n",
    "),\n",
    "    verb=verbs,\n",
    "    obj=obj,\n",
    "    remove_duplicates=True, \n",
    "    nsamples=1000)\n",
    "# data = [tuple(np.random.choice(x, 2, replace=False)) for x in data]\n",
    "test = Mft(data, labels=0)\n",
    "test.run(new_pp)\n",
    "test.summary(n=3)"
   ]
  },
  {
   "cell_type": "markdown",
   "metadata": {},
   "source": [
    "With people"
   ]
  },
  {
   "cell_type": "code",
   "execution_count": 448,
   "metadata": {},
   "outputs": [
    {
     "name": "stdout",
     "output_type": "stream",
     "text": [
      "know, love, kill, marry, hate, like, and, or, remember, want, see, date, meet, miss, have, Know, need, Love, recognize, find, tell, trust, choose, deserve, understand, mean, forgive, blame, mention, beat, dislike, prefer, get, follow, notice, murder, hurt, bother, Remember, leave, kidnap, ask, own, survive, call, support, visit, /, resemble, take, kiss, hit, save, Like, recognise, become, help, believe, accept, reject, attack, ?, shoot, ,, eat, hire, Want, clone, be, &, pick, contact, fear, Hate, adopt, respect, Kill, crush, use, divorce, rape, catch, replace, KILL, scare, join, pursue, threaten, play, confront, likes, met, lose, married, WANT, stalk, regret, include, despise, resent\n"
     ]
    }
   ],
   "source": [
    "print(', '.join(editor.suggest('Does {first_name} {bert} {first_name2}?', remove_duplicates=True)[:100]))"
   ]
  },
  {
   "cell_type": "code",
   "execution_count": 453,
   "metadata": {},
   "outputs": [
    {
     "name": "stdout",
     "output_type": "stream",
     "text": [
      "Predicting 989 examples\n",
      "Test cases:      989\n",
      "Fails (rate):    665 (67.2%)\n",
      "\n",
      "Example fails:\n",
      "0.1 ('Does Erin love Kyle?', 'Is Kyle loved by Erin?')\n",
      "0.0 ('Does Erin hurt Alexis?', 'Is Alexis hurt by Erin?')\n",
      "0.4 ('Does Scott blame Jennifer?', 'Is Jennifer blamed by Scott?')\n"
     ]
    }
   ],
   "source": [
    "pverb = ['love', 'hate', 'like', 'remember', 'recognize', 'trust', 'deserve', 'understand', 'blame', 'dislike', 'prefer', 'follow', 'notice', 'hurt', 'bother', 'support', 'believe', 'accept', 'attack']\n",
    "a = pattern.en.tenses('stolen')[0]\n",
    "pverb = [(v, pattern.en.conjugate(v, *a)) for v in pverb]\n",
    "data = editor.template((\n",
    "    'Does {first_name} {verb[0]} {first_name2}?',\n",
    "    'Is {first_name2} {verb[1]} by {first_name}?',\n",
    "),\n",
    "    verb=pverb,\n",
    "    obj=obj,\n",
    "    remove_duplicates=True, \n",
    "    nsamples=1000)\n",
    "# data = [tuple(np.random.choice(x, 2, replace=False)) for x in data]\n",
    "test = Mft(data, labels=1)\n",
    "test.run(new_pp)\n",
    "test.summary(n=3)"
   ]
  },
  {
   "cell_type": "code",
   "execution_count": 454,
   "metadata": {},
   "outputs": [
    {
     "name": "stdout",
     "output_type": "stream",
     "text": [
      "Predicting 991 examples\n",
      "Test cases:      991\n",
      "Fails (rate):    972 (98.1%)\n",
      "\n",
      "Example fails:\n",
      "0.9 ('Does Joseph like Laura?', 'Is Joseph liked by Laura?')\n",
      "1.0 ('Does Ethan trust Timothy?', 'Is Ethan trusted by Timothy?')\n",
      "0.9 ('Does Austin trust Anna?', 'Is Austin trusted by Anna?')\n"
     ]
    }
   ],
   "source": [
    "pverb = ['love', 'hate', 'like', 'remember', 'recognize', 'trust', 'deserve', 'understand', 'blame', 'dislike', 'prefer', 'follow', 'notice', 'hurt', 'bother', 'support', 'believe', 'accept', 'attack']\n",
    "a = pattern.en.tenses('stolen')[0]\n",
    "pverb = [(v, pattern.en.conjugate(v, *a)) for v in pverb]\n",
    "data = editor.template((\n",
    "    'Does {first_name} {verb[0]} {first_name2}?',\n",
    "    'Is {first_name} {verb[1]} by {first_name2}?',\n",
    "),\n",
    "    verb=pverb,\n",
    "    obj=obj,\n",
    "    remove_duplicates=True, \n",
    "    nsamples=1000)\n",
    "# data = [tuple(np.random.choice(x, 2, replace=False)) for x in data]\n",
    "test = Mft(data, labels=0)\n",
    "test.run(new_pp)\n",
    "test.summary(n=3)"
   ]
  },
  {
   "cell_type": "code",
   "execution_count": null,
   "metadata": {},
   "outputs": [],
   "source": []
  }
 ],
 "metadata": {
  "kernelspec": {
   "display_name": "checklist",
   "language": "python",
   "name": "checklist"
  },
  "language_info": {
   "codemirror_mode": {
    "name": "ipython",
    "version": 3
   },
   "file_extension": ".py",
   "mimetype": "text/x-python",
   "name": "python",
   "nbconvert_exporter": "python",
   "pygments_lexer": "ipython3",
   "version": "3.6.8"
  }
 },
 "nbformat": 4,
 "nbformat_minor": 2
}
