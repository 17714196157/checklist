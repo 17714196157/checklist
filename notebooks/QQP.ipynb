{
 "cells": [
  {
   "cell_type": "code",
   "execution_count": 7,
   "metadata": {},
   "outputs": [
    {
     "name": "stdout",
     "output_type": "stream",
     "text": [
      "The autoreload extension is already loaded. To reload it, use:\n",
      "  %reload_ext autoreload\n"
     ]
    }
   ],
   "source": [
    "%load_ext autoreload\n",
    "%autoreload 2\n",
    "\n",
    "import checklist\n",
    "import spacy\n",
    "import itertools\n",
    "\n",
    "import checklist.editor\n",
    "import checklist.text_generation\n",
    "from checklist.mft import MFT\n",
    "from checklist.inv_dir import INV, DIR\n",
    "from checklist.expect import Expect\n",
    "import numpy as np\n",
    "import spacy\n",
    "from checklist.perturb import Perturb\n"
   ]
  },
  {
   "cell_type": "code",
   "execution_count": 8,
   "metadata": {},
   "outputs": [],
   "source": [
    "from checklist.pred_wrapper import PredictorWrapper\n",
    "\n",
    "import sys\n",
    "sys.path.append('/home/marcotcr/work/ml-tests/')\n",
    "from mltests import model_wrapper\n",
    "model = model_wrapper.ModelWrapper()\n",
    "new_pp = PredictorWrapper.wrap_softmax(model.predict_proba)\n"
   ]
  },
  {
   "cell_type": "code",
   "execution_count": 9,
   "metadata": {},
   "outputs": [
    {
     "data": {
      "text/plain": [
       "<checklist.text_generation.TextGenerator at 0x7fde9fd58f28>"
      ]
     },
     "execution_count": 9,
     "metadata": {},
     "output_type": "execute_result"
    }
   ],
   "source": [
    "editor = checklist.editor.Editor()\n",
    "editor.tg"
   ]
  },
  {
   "cell_type": "code",
   "execution_count": 10,
   "metadata": {},
   "outputs": [],
   "source": [
    "nlp = spacy.load('en_core_web_sm')"
   ]
  },
  {
   "cell_type": "code",
   "execution_count": 11,
   "metadata": {},
   "outputs": [
    {
     "name": "stdout",
     "output_type": "stream",
     "text": [
      "\"\tWhat does the Quran say about homosexuality?\t0\n",
      "\n"
     ]
    }
   ],
   "source": [
    "qs = []\n",
    "labels = []\n",
    "all_questions = set()\n",
    "for x in open('/home/marcotcr/datasets/glue/glue_data/QQP/dev.tsv').readlines()[1:]:\n",
    "    try:\n",
    "        q1, q2, label = x.strip().split('\\t')[3:]\n",
    "    except:\n",
    "        print(x)\n",
    "        continue\n",
    "    all_questions.add(q1)\n",
    "    all_questions.add(q2)\n",
    "    qs.append((q1, q2))\n",
    "    labels.append(label)\n",
    "labels = np.array(labels).astype(int)"
   ]
  },
  {
   "cell_type": "code",
   "execution_count": 12,
   "metadata": {},
   "outputs": [],
   "source": [
    "import pickle\n",
    "spacy_map =  pickle.load(open('/home/marcotcr/tmp/processed_qqp.pkl', 'rb'))"
   ]
  },
  {
   "cell_type": "code",
   "execution_count": 13,
   "metadata": {},
   "outputs": [],
   "source": [
    "parsed_qs = [(spacy_map[q[0]], spacy_map[q[1]]) for q in qs]"
   ]
  },
  {
   "cell_type": "markdown",
   "metadata": {},
   "source": [
    "## Vocabulary"
   ]
  },
  {
   "cell_type": "code",
   "execution_count": 14,
   "metadata": {},
   "outputs": [
    {
     "name": "stdout",
     "output_type": "stream",
     "text": [
      "journalist, historian, nurse, engineer, accountant, attorney, architect, artist, editor, actor, actress, analyst, economist, entrepreneur, intern, author, investor, interpreter, assistant, executive, escort, organizer, educator, academic, agent, activist, advisor, administrator, investigator, auditor\n"
     ]
    }
   ],
   "source": [
    "professions = editor.suggest('{first_name} works as {a:bert}.')[:30]\n",
    "print(', '.join(professions))"
   ]
  },
  {
   "cell_type": "code",
   "execution_count": 15,
   "metadata": {},
   "outputs": [],
   "source": [
    "professions = editor.suggest('{first_name} works as {a:bert}.')[:30]\n",
    "professions += editor.suggest('{first_name} {last_name} works as {a:bert}.')[:30]\n",
    "professions = list(set(professions))\n",
    "# professions"
   ]
  },
  {
   "cell_type": "code",
   "execution_count": 16,
   "metadata": {},
   "outputs": [
    {
     "name": "stdout",
     "output_type": "stream",
     "text": [
      "guy, player, writer, example, actor, man, hitter, person, friend, read, kid, shooter, coach, one, dude, pick, character, fighter, teacher, shot, artist, student, poet, reader, reporter, quarterback, catch, athlete, name, sport\n"
     ]
    }
   ],
   "source": [
    "print(', '.join(editor.suggest('{first_name} {last_name} is a good {bert}.')[:30]))"
   ]
  },
  {
   "cell_type": "code",
   "execution_count": 17,
   "metadata": {},
   "outputs": [],
   "source": [
    "other_nouns = ['player', 'person', 'friend', 'kid', 'candidate']\n",
    "nouns = list(set(professions + other_nouns))"
   ]
  },
  {
   "cell_type": "code",
   "execution_count": 18,
   "metadata": {},
   "outputs": [
    {
     "name": "stdout",
     "output_type": "stream",
     "text": [
      "effective, actual, active, important, ideal, excellent, American, outstanding, honest, acceptable, elite, unusual, interesting, average, appropriate, adequate, evil, international, experienced, amazing, official, independent, accurate, old, angel, established, English, exceptional, authentic, original, unlikely, Australian, accomplished, accidental, aspiring, intelligent, inexperienced, early, exemplary, ordinary, good, abusive, ethical, older, awesome, expert, eligible, LGBT, incompetent, acting\n"
     ]
    }
   ],
   "source": [
    "print(', '.join(editor.suggest('Is {first_name} {last_name} {a:bert} {noun}?', noun=nouns)[:50]))"
   ]
  },
  {
   "cell_type": "code",
   "execution_count": 19,
   "metadata": {},
   "outputs": [],
   "source": [
    "adjs = ['effective', 'actual', 'American', 'active', 'honest', 'excellent', 'elite', 'acomplished', 'official', 'outstanding', 'experienced', 'independent', 'international', 'aspiring', 'average', 'good', 'amazing', 'exceptional', 'successful', 'accredited', 'English', 'real', 'bad', 'terrible', 'fake', 'unusual', 'influential', 'incompetent']"
   ]
  },
  {
   "cell_type": "code",
   "execution_count": 13,
   "metadata": {},
   "outputs": [
    {
     "name": "stdout",
     "output_type": "stream",
     "text": [
      "Predicting 1000 examples\n",
      "Test cases:      1000\n",
      "Fails (rate):    766 (76.6%)\n",
      "\n",
      "Example fails:\n",
      "1.0 ('Is Shannon James an escort?', 'Is Shannon James an excellent escort?')\n",
      "----\n",
      "1.0 ('Is Kyle Gutierrez an activist?', 'Is Kyle Gutierrez an acomplished activist?')\n",
      "----\n",
      "1.0 ('Is Timothy Gonzalez a chef?', 'Is Timothy Gonzalez an average chef?')\n",
      "----\n"
     ]
    }
   ],
   "source": [
    "data = editor.template(('Is {first_name} {last_name} {a:noun}?', 'Is {first_name} {last_name} {a:adj} {noun}?'),\n",
    "                noun=nouns,\n",
    "                adj=adjs,\n",
    "                remove_duplicates=True, \n",
    "                nsamples=1000)\n",
    "test = MFT(data, labels=0)\n",
    "test.run(new_pp)\n",
    "test.summary(n=3)"
   ]
  },
  {
   "cell_type": "markdown",
   "metadata": {},
   "source": [
    "Is person {a1, a2}?"
   ]
  },
  {
   "cell_type": "code",
   "execution_count": 14,
   "metadata": {},
   "outputs": [
    {
     "name": "stdout",
     "output_type": "stream",
     "text": [
      "dead, gay, alive, right, Dead, real, Jewish, mad, wrong, correct, insane, back, crazy, related, OK, Right, immortal, evil, straight, interested, famous, racist, sane, next, President, alone, lying, relevant, okay, DEAD, bisexual, God, angry, guilty, ok, Alone, Wrong, ready, gone, innocent, King, human, Muslim, Black, assassinated, Batman, here, Real, dying, involved, homosexual, special, Famous, happy, free, murdered, Superman, president, joking, White, Back, Gay, Catholic, cool, safe, resurrected, killed, American, missing, corrupt, cursed, alright, single, Crazy, Mad, Satan, Missing, legit, shot, Evil, finished, worthy, doomed, sincere, aware, autistic, responsible, dangerous, Christian, Cool, Immortal, radioactive, remembered, Next, serious, cheating, different, popular, Legend, listening, now, illegitimate, homophobic, kidding, sick, smart, connected, trustworthy, Innocent, legal\n",
      "\n",
      "racist, Christian, homosexual, atheist, rapist, murderer, Nazi, outlaw, asshole, actor, ape, American, spy, killer, inspiration, saint, idiot, terrorist, Muslim, orphan, criminal, villain, clone, vampire, hero, fan, ancestor, psychopath, artist, Avenger, Saint, superhero, genius, communist, anomaly, man, icon, anarchist, liar, Republican, prophet, influence, alien, god, writer, fraud, feminist, inventor, thief, author\n"
     ]
    }
   ],
   "source": [
    "print(', '.join(editor.suggest('Is John Wayne {bert}?')))\n",
    "print()\n",
    "print(', '.join(editor.suggest('Is John Wayne {a:bert}?')[:50]))"
   ]
  },
  {
   "cell_type": "code",
   "execution_count": 15,
   "metadata": {},
   "outputs": [],
   "source": [
    "adjs_without_overlap = ['dead', 'gay', 'Jewish', 'Christian', 'American', 'mad', 'immortal', 'evil', 'famous', 'racist', 'Muslim', 'white', 'black', 'English', 'autistic', 'Australian', 'trustworthy', 'an atheist', 'an anarchist', 'an inventor', 'Indian', 'Armenian', 'an astronaut', 'an immigrant']"
   ]
  },
  {
   "cell_type": "code",
   "execution_count": 16,
   "metadata": {},
   "outputs": [
    {
     "name": "stdout",
     "output_type": "stream",
     "text": [
      "Predicting 955 examples\n",
      "Test cases:      955\n",
      "Fails (rate):    5 (0.5%)\n",
      "\n",
      "Example fails:\n",
      "0.5 ('Is Jeffrey Harris Jewish?', 'Is Jeffrey Harris an immigrant?')\n",
      "----\n",
      "0.9 ('Is Taylor Rogers immortal?', 'Is Taylor Rogers dead?')\n",
      "----\n",
      "0.8 ('Is Richard Roberts Jewish?', 'Is Richard Roberts an immigrant?')\n",
      "----\n"
     ]
    }
   ],
   "source": [
    "data = editor.template((\n",
    "    'Is {first_name} {last_name} {adj1}?',\n",
    "    'Is {first_name} {last_name} {adj2}?',\n",
    "),\n",
    "                adj=adjs_without_overlap,\n",
    "                remove_duplicates=True, \n",
    "                nsamples=1000)\n",
    "test = MFT(data, labels=0)\n",
    "test.run(new_pp)\n",
    "test.summary(n=3)"
   ]
  },
  {
   "cell_type": "markdown",
   "metadata": {},
   "source": [
    "person1 and person2 are different by first and last name"
   ]
  },
  {
   "cell_type": "code",
   "execution_count": 17,
   "metadata": {},
   "outputs": [
    {
     "name": "stdout",
     "output_type": "stream",
     "text": [
      "Predicting 971 examples\n",
      "Test cases:      971\n",
      "Fails (rate):    60 (6.2%)\n",
      "\n",
      "Example fails:\n",
      "1.0 ('Is Benjamin Jones white?', 'Is Noah Ward white?')\n",
      "----\n",
      "0.7 ('Is Madison Rodriguez immortal?', 'Is Shannon Hernandez immortal?')\n",
      "----\n",
      "0.8 ('Is Ethan Reyes evil?', 'Is Austin Russell evil?')\n",
      "----\n"
     ]
    }
   ],
   "source": [
    "data = editor.template((\n",
    "    'Is {first_name1} {last_name1} {adj}?',\n",
    "    'Is {first_name2} {last_name2} {adj}?',\n",
    "),\n",
    "                adj=adjs_without_overlap,\n",
    "                remove_duplicates=True, \n",
    "                nsamples=1000)\n",
    "test = MFT(data, labels=0)\n",
    "test.run(new_pp)\n",
    "test.summary(n=3)"
   ]
  },
  {
   "cell_type": "markdown",
   "metadata": {},
   "source": [
    "person1 and person2 are different by first name only"
   ]
  },
  {
   "cell_type": "code",
   "execution_count": 18,
   "metadata": {},
   "outputs": [
    {
     "name": "stdout",
     "output_type": "stream",
     "text": [
      "Predicting 985 examples\n",
      "Test cases:      985\n",
      "Fails (rate):    94 (9.5%)\n",
      "\n",
      "Example fails:\n",
      "0.7 ('Is Lauren White an inventor?', 'Is Alyssa White an inventor?')\n",
      "----\n",
      "0.7 ('Is Christina Gomez Christian?', 'Is Melissa Gomez Christian?')\n",
      "----\n",
      "0.9 ('Is Jonathan Turner mad?', 'Is James Turner mad?')\n",
      "----\n"
     ]
    }
   ],
   "source": [
    "data = editor.template((\n",
    "    'Is {first_name} {last_name} {adj}?',\n",
    "    'Is {first_name2} {last_name} {adj}?',\n",
    "),\n",
    "                adj=adjs_without_overlap,\n",
    "                remove_duplicates=True, \n",
    "                nsamples=1000)\n",
    "test = MFT(data, labels=0)\n",
    "test.run(new_pp)\n",
    "test.summary(n=3)"
   ]
  },
  {
   "cell_type": "markdown",
   "metadata": {},
   "source": [
    "person1 and person2 are different by last name only"
   ]
  },
  {
   "cell_type": "code",
   "execution_count": 19,
   "metadata": {},
   "outputs": [
    {
     "name": "stdout",
     "output_type": "stream",
     "text": [
      "Predicting 991 examples\n",
      "Test cases:      991\n",
      "Fails (rate):    61 (6.2%)\n",
      "\n",
      "Example fails:\n",
      "0.8 ('Is Victoria Reyes English?', 'Is Victoria Ortiz English?')\n",
      "----\n",
      "0.9 ('Is Angela Davis mad?', 'Is Angela Taylor mad?')\n",
      "----\n",
      "0.8 ('Is Nicholas Jackson white?', 'Is Nicholas Adams white?')\n",
      "----\n"
     ]
    }
   ],
   "source": [
    "data = editor.template((\n",
    "    'Is {first_name} {last_name} {adj}?',\n",
    "    'Is {first_name} {last_name2} {adj}?',\n",
    "),\n",
    "                adj=adjs_without_overlap,\n",
    "                remove_duplicates=True, \n",
    "                nsamples=1000)\n",
    "test = MFT(data, labels=0)\n",
    "test.run(new_pp)\n",
    "test.summary(n=3)"
   ]
  },
  {
   "cell_type": "markdown",
   "metadata": {},
   "source": [
    "## Robustness"
   ]
  },
  {
   "cell_type": "code",
   "execution_count": 20,
   "metadata": {},
   "outputs": [],
   "source": [
    "def wrap_apply_to_each(fn, both=False, *args, **kwargs):\n",
    "    def new_fn(qs, *args, **kwargs):\n",
    "        q1, q2 = qs\n",
    "        ret = []\n",
    "        fnq1 = fn(q1, *args, **kwargs)\n",
    "        fnq2 = fn(q2, *args, **kwargs)\n",
    "        if type(fnq1) != list:\n",
    "            fnq1 = [fnq1]\n",
    "        if type(fnq2) != list:\n",
    "            fnq2 = [fnq2]\n",
    "        ret.extend([(x, str(q2)) for x in fnq1])\n",
    "        ret.extend([(str(q1), x) for x in fnq2])\n",
    "        if both:\n",
    "            ret.extend([(x, x2) for x, x2 in itertools.product(fnq1, fnq2)])\n",
    "        return [x for x in ret if x[0] and x[1]]\n",
    "    return new_fn\n",
    "def wrap_apply_to_both(fn, *args, **kwargs):\n",
    "    def new_fn(qs, *args, **kwargs):\n",
    "        q1, q2 = qs\n",
    "        ret = []\n",
    "        fnq1 = fn(q1, *args, **kwargs)\n",
    "        fnq2 = fn(q2, *args, **kwargs)\n",
    "        if type(fnq1) != list:\n",
    "            fnq1 = [fnq1]\n",
    "        if type(fnq2) != list:\n",
    "            fnq2 = [fnq2]\n",
    "        ret.extend([(x, x2) for x, x2 in itertools.product(fnq1, fnq2)])\n",
    "        return [x for x in ret if x[0] and x[1]]\n",
    "    return new_fn"
   ]
  },
  {
   "cell_type": "markdown",
   "metadata": {},
   "source": [
    "Typos"
   ]
  },
  {
   "cell_type": "code",
   "execution_count": 21,
   "metadata": {},
   "outputs": [
    {
     "name": "stdout",
     "output_type": "stream",
     "text": [
      "Predicting 1500 examples\n",
      "Test cases:      500\n",
      "Fails (rate):    120 (24.0%)\n",
      "\n",
      "Example fails:\n",
      "0.1 ('Is it a good idea to never open the lights in the evening to avoid blue light from interfering your sleep?', 'What evidence is there that exposure to blue light (say from a computer) late in the evening interferes with sleep?')\n",
      "0.6 ('Is it a good idea to never open the lights in the evening to avoid blue light from interfering your sleep?', 'What evidence is tehre that exposure to blue light (say from a computer) late in the evening interferes with sleep?')\n",
      "\n",
      "----\n",
      "0.7 ('How can a woman rape a man?', 'Is it possible for a woman to rape a man?')\n",
      "0.0 ('How can a woman rape a man?', 'Is it possible for aw oman to rape a man?')\n",
      "0.0 ('How can  awoman rape a man?', 'Is it possible for a woman to rape a man?')\n",
      "\n",
      "----\n",
      "1.0 ('How many videos can YouTube hold?', 'How many videos are on YouTube?')\n",
      "0.0 ('How many videos can YouTube hold?', 'How many videos are on YouTub?e')\n",
      "\n",
      "----\n"
     ]
    }
   ],
   "source": [
    "data = Perturb.perturb(qs, wrap_apply_to_each(Perturb.add_typos), nsamples=500)\n",
    "test = INV(data)\n",
    "test.run(new_pp)\n",
    "test.summary(3)"
   ]
  },
  {
   "cell_type": "markdown",
   "metadata": {},
   "source": [
    "Contractions"
   ]
  },
  {
   "cell_type": "code",
   "execution_count": 23,
   "metadata": {},
   "outputs": [
    {
     "name": "stdout",
     "output_type": "stream",
     "text": [
      "Predicting 1524 examples\n",
      "Test cases:      500\n",
      "Fails (rate):    15 (3.0%)\n",
      "\n",
      "Example fails:\n",
      "0.7 ('How does the AC Generator work?', 'How is AC electricity generated?')\n",
      "0.1 ('How does the AC Generator work?', \"How's AC electricity generated?\")\n",
      "\n",
      "----\n",
      "0.8 ('Where is Chris Christie?', 'Where is Chris Christie from?')\n",
      "0.0 (\"Where's Chris Christie?\", 'Where is Chris Christie from?')\n",
      "0.3 (\"Where's Chris Christie?\", \"Where's Chris Christie from?\")\n",
      "\n",
      "----\n",
      "0.0 ('How did UChicago get so strong at Statistics?', 'How did Cornell get so strong in statistics?')\n",
      "0.7 (\"How'd UChicago get so strong at Statistics?\", \"How'd Cornell get so strong in statistics?\")\n",
      "0.6 ('How did UChicago get so strong at Statistics?', \"How'd Cornell get so strong in statistics?\")\n",
      "\n",
      "----\n"
     ]
    }
   ],
   "source": [
    "data = Perturb.perturb(qs, wrap_apply_to_each(Perturb.contractions, both=True), nsamples=500)\n",
    "test = INV(data)\n",
    "test.run(new_pp)\n",
    "test.summary(3)"
   ]
  },
  {
   "cell_type": "markdown",
   "metadata": {},
   "source": [
    "## Ner"
   ]
  },
  {
   "cell_type": "markdown",
   "metadata": {},
   "source": [
    "### Change same name, number, location in both"
   ]
  },
  {
   "cell_type": "markdown",
   "metadata": {},
   "source": [
    "Names"
   ]
  },
  {
   "cell_type": "code",
   "execution_count": 20,
   "metadata": {},
   "outputs": [
    {
     "name": "stdout",
     "output_type": "stream",
     "text": [
      "Predicting 5366 examples\n",
      "Test cases:      500\n",
      "Fails (rate):    58 (11.6%)\n",
      "\n",
      "Example fails:\n",
      "0.9 ('Is Hillary Clinton worried about the email scandals?', \"Why isn't Hillary Clinton concerned about her email scandal?\")\n",
      "0.3 ('Is Emily Powell worried about the email scandals?', \"Why isn't Emily Powell concerned about her email scandal?\")\n",
      "0.4 ('Is Ashley Jones worried about the email scandals?', \"Why isn't Ashley Jones concerned about her email scandal?\")\n",
      "\n",
      "----\n",
      "1.0 ('How will Donald Trump benefit India?', 'What Can happen to India if Donald Trump becomes president?')\n",
      "0.0 ('How will John Perez benefit India?', 'What Can happen to India if John Perez becomes president?')\n",
      "0.1 ('How will David Reyes benefit India?', 'What Can happen to India if David Reyes becomes president?')\n",
      "\n",
      "----\n",
      "1.0 (\"Why isn't Hillary Clinton in jail?\", 'Could Hillary Clinton actually go to jail?')\n",
      "0.1 (\"Why isn't Stephanie Ward in jail?\", 'Could Stephanie Ward actually go to jail?')\n",
      "0.3 (\"Why isn't Melissa Nelson in jail?\", 'Could Melissa Nelson actually go to jail?')\n",
      "\n",
      "----\n"
     ]
    }
   ],
   "source": [
    "def change_both_wrapper(fn):\n",
    "    def change_both(qs):\n",
    "        q1, q2 = qs\n",
    "        seed = np.random.randint(100)\n",
    "        c1 = fn(q1, seed=seed, meta=True)\n",
    "        c2 = fn(q2, seed=seed, meta=True)\n",
    "        if not c1 or not c2:\n",
    "            return\n",
    "        c1, m1 = c1\n",
    "        c2, m2 = c2\n",
    "        return [(q1, q2) for q1, q2, m1, m2 in zip(c1, c2, m1, m2) if m1 == m2]\n",
    "    return change_both\n",
    "    \n",
    "data = Perturb.perturb(parsed_qs, change_both_wrapper(Perturb.change_names), nsamples=500)\n",
    "test = INV(data)\n",
    "test.run(new_pp)\n",
    "test.summary(3)"
   ]
  },
  {
   "cell_type": "code",
   "execution_count": null,
   "metadata": {},
   "outputs": [],
   "source": [
    "test.summary(3)"
   ]
  },
  {
   "cell_type": "markdown",
   "metadata": {},
   "source": [
    "Locs"
   ]
  },
  {
   "cell_type": "code",
   "execution_count": 25,
   "metadata": {},
   "outputs": [
    {
     "name": "stdout",
     "output_type": "stream",
     "text": [
      "Predicting 5109 examples\n",
      "Test cases:      500\n",
      "Fails (rate):    60 (12.0%)\n",
      "\n",
      "Example fails:\n",
      "0.0 ('What is the best way to tour/experience the north east of India in seven days?', 'Which are the 5 best places to visit in North-east India?')\n",
      "1.0 ('What is the best way to tour/experience the north east of Kyrgyz Republic in seven days?', 'Which are the 5 best places to visit in North-east Kyrgyz Republic?')\n",
      "0.8 ('What is the best way to tour/experience the north east of Kiribati in seven days?', 'Which are the 5 best places to visit in North-east Kiribati?')\n",
      "\n",
      "----\n",
      "0.4 ('What makes you happy about India?', 'What makes everyone happy about India?')\n",
      "1.0 ('What makes you happy about Sint Maarten (Dutch part)?', 'What makes everyone happy about Sint Maarten (Dutch part)?')\n",
      "1.0 ('What makes you happy about Virgin Islands (U.S.)?', 'What makes everyone happy about Virgin Islands (U.S.)?')\n",
      "\n",
      "----\n",
      "0.8 ('Where can adderalls be found in India, without prescription and without ADHD?', 'Can you get Adderall without a prescription in India?')\n",
      "0.5 ('Where can adderalls be found in Russian Federation, without prescription and without ADHD?', 'Can you get Adderall without a prescription in Russian Federation?')\n",
      "\n",
      "----\n"
     ]
    }
   ],
   "source": [
    "data = Perturb.perturb(parsed_qs, change_both_wrapper(Perturb.change_location), nsamples=500)\n",
    "test = INV(data)\n",
    "test.run(new_pp)\n",
    "test.summary(3)"
   ]
  },
  {
   "cell_type": "markdown",
   "metadata": {},
   "source": [
    "Numbers"
   ]
  },
  {
   "cell_type": "code",
   "execution_count": 26,
   "metadata": {},
   "outputs": [
    {
     "name": "stdout",
     "output_type": "stream",
     "text": [
      "Predicting 5025 examples\n",
      "Test cases:      500\n",
      "Fails (rate):    31 (6.2%)\n",
      "\n",
      "Example fails:\n",
      "0.6 ('WHEN will Redmi note 3 get Marshmallow?', 'Will Redmi Note 3 get Marshmallow Update?')\n",
      "0.4 ('WHEN will Redmi note 4 get Marshmallow?', 'Will Redmi Note 4 get Marshmallow Update?')\n",
      "0.4 ('WHEN will Redmi note 4 get Marshmallow?', 'Will Redmi Note 4 get Marshmallow Update?')\n",
      "\n",
      "----\n",
      "0.0 ('Honda CBR 250R vs KTM RC 390 vs Kawasaki Ninja 300. Which one should I buy in India?', 'Which bike should I buy: RC 390 or CBR 250?')\n",
      "0.9 ('Honda CBR 250R vs KTM RC 406 vs Kawasaki Ninja 300. Which one should I buy in India?', 'Which bike should I buy: RC 406 or CBR 250?')\n",
      "\n",
      "----\n",
      "0.2 ('How do I get started for cds exam 2016?', 'How I can apply for cds exam 2016?')\n",
      "0.7 ('How do I get started for cds exam 1945?', 'How I can apply for cds exam 1945?')\n",
      "0.7 ('How do I get started for cds exam 1836?', 'How I can apply for cds exam 1836?')\n",
      "\n",
      "----\n"
     ]
    }
   ],
   "source": [
    "data = Perturb.perturb(parsed_qs, change_both_wrapper(Perturb.change_number), nsamples=500)\n",
    "test = INV(data)\n",
    "test.run(new_pp)\n",
    "test.summary(3)"
   ]
  },
  {
   "cell_type": "markdown",
   "metadata": {},
   "source": [
    "### Change name, loc, number in only one where orig prediction is duplicate"
   ]
  },
  {
   "cell_type": "markdown",
   "metadata": {},
   "source": [
    "Changing only first names"
   ]
  },
  {
   "cell_type": "code",
   "execution_count": 43,
   "metadata": {},
   "outputs": [
    {
     "name": "stdout",
     "output_type": "stream",
     "text": [
      "Predicting 23020 examples\n",
      "Test cases:      1500\n",
      "After filtering: 549 (36.6%)\n",
      "Fails (rate):    488 (88.9%)\n",
      "\n",
      "Example fails:\n",
      "1.0 ('What are the best gaming laptops under INR 60000?', 'What are some of the best gaming laptops under rs 60000 that are available in india?')\n",
      "1.0 ('What are the best gaming laptops under INR 58216?', 'What are some of the best gaming laptops under rs 60000 that are available in india?')\n",
      "1.0 ('What are the best gaming laptops under INR 60000?', 'What are some of the best gaming laptops under rs 57094 that are available in india?')\n",
      "\n",
      "----\n",
      "1.0 ('How did the Mayans find out that the world was going to end in 2012 (completely ignoring the fact that they were wrong)?', '\"Why did the Mayans think that the world \"\"is going to end\"\" in 2012?\"')\n",
      "1.0 ('How did the Mayans find out that the world was going to end in 2012 (completely ignoring the fact that they were wrong)?', '\"Why did the Mayans think that the world \"\"is going to end\"\" in 2078?\"')\n",
      "1.0 ('How did the Mayans find out that the world was going to end in 2012 (completely ignoring the fact that they were wrong)?', '\"Why did the Mayans think that the world \"\"is going to end\"\" in 2137?\"')\n",
      "\n",
      "----\n",
      "1.0 ('Can the Supreme Court of India interfere on the banned of 500 and 1000 notes by the government?', 'Can supreme court in India cancel government decision on demonetization?')\n",
      "1.0 ('Can the Supreme Court of India interfere on the banned of 430 and 1000 notes by the government?', 'Can supreme court in India cancel government decision on demonetization?')\n",
      "1.0 ('Can the Supreme Court of India interfere on the banned of 500 and 1092 notes by the government?', 'Can supreme court in India cancel government decision on demonetization?')\n",
      "\n",
      "----\n"
     ]
    }
   ],
   "source": [
    "data = Perturb.perturb(parsed_qs, wrap_apply_to_each(Perturb.change_names), nsamples=1500, first_only=True)\n",
    "expect_fn = Expect.eq(0)\n",
    "expect_fn = Expect.slice_orig(expect_fn, lambda orig, *args: orig == 1)\n",
    "test = DIR(data, expect_fn)\n",
    "test.run(new_pp)\n",
    "test.summary(3)\n"
   ]
  },
  {
   "cell_type": "markdown",
   "metadata": {},
   "source": [
    "Changing first and last names"
   ]
  },
  {
   "cell_type": "code",
   "execution_count": 36,
   "metadata": {},
   "outputs": [
    {
     "name": "stdout",
     "output_type": "stream",
     "text": [
      "Predicting 23570 examples\n",
      "Test cases:      1500\n",
      "After filtering: 601 (40.1%)\n",
      "Fails (rate):    291 (48.4%)\n",
      "\n",
      "Example fails:\n",
      "1.0 ('How are the Indians affected if Donald Trump wins the presidential election in the US?', 'What might be the implications and repercussions on India if Donald Trump wins US Presidential elections?')\n",
      "1.0 ('How are the Indians affected if Donald Trump wins the presidential election in the US?', 'What might be the implications and repercussions on India if Michael Adams wins US Presidential elections?')\n",
      "1.0 ('How are the Indians affected if James Scott wins the presidential election in the US?', 'What might be the implications and repercussions on India if Donald Trump wins US Presidential elections?')\n",
      "\n",
      "----\n",
      "1.0 ('What are some good side dishes to serve with homemade Mac and cheese?', 'What are some great side dishes that go well with mac and cheese?')\n",
      "0.9 ('What are some good side dishes to serve with homemade Patrick and cheese?', 'What are some great side dishes that go well with mac and cheese?')\n",
      "0.6 ('What are some good side dishes to serve with homemade Samuel and cheese?', 'What are some great side dishes that go well with mac and cheese?')\n",
      "\n",
      "----\n",
      "1.0 ('Why would anyone vote for Hillary Clinton?', 'Would anyone really vote for Hillary Clinton?')\n",
      "1.0 ('Why would anyone vote for Hillary Clinton?', 'Would anyone really vote for Melissa Carter?')\n",
      "\n",
      "----\n"
     ]
    }
   ],
   "source": [
    "data = Perturb.perturb(parsed_qs, wrap_apply_to_each(Perturb.change_names), nsamples=1500)\n",
    "test = DIR(data, expect_fn)\n",
    "test.run(new_pp)\n",
    "test.summary(3)\n"
   ]
  },
  {
   "cell_type": "markdown",
   "metadata": {},
   "source": [
    "Locs"
   ]
  },
  {
   "cell_type": "code",
   "execution_count": 37,
   "metadata": {},
   "outputs": [
    {
     "name": "stdout",
     "output_type": "stream",
     "text": [
      "Predicting 23450 examples\n",
      "Test cases:      1500\n",
      "After filtering: 488 (32.5%)\n",
      "Fails (rate):    225 (46.1%)\n",
      "\n",
      "Example fails:\n",
      "1.0 ('Is this move of banning 500 & 1000 Rupee notes right?', 'What will be the result of banning 500 and 1000 rupees note in India?')\n",
      "1.0 ('Is this move of banning 500 & 1000 Rupee notes right?', 'What will be the result of banning 500 and 1000 rupees note in United Arab Emirates?')\n",
      "1.0 ('Is this move of banning 500 & 1000 Rupee notes right?', 'What will be the result of banning 500 and 1000 rupees note in Bahamas?')\n",
      "\n",
      "----\n",
      "1.0 ('How much do you pay to driver in Pune, India?', 'How much do you pay to a driver in Pune, India?')\n",
      "1.0 ('How much do you pay to driver in Pune, India?', 'How much do you pay to a driver in Pune, Cayman Islands?')\n",
      "1.0 ('How much do you pay to driver in Pune, India?', 'How much do you pay to a driver in Pune, United States?')\n",
      "\n",
      "----\n",
      "1.0 ('Is Spotify available in India?', 'When will Spotify arrive in India?')\n",
      "1.0 ('Is Spotify available in Egypt?', 'When will Spotify arrive in India?')\n",
      "1.0 ('Is Spotify available in India?', 'When will Spotify arrive in Israel?')\n",
      "\n",
      "----\n"
     ]
    }
   ],
   "source": [
    "data = Perturb.perturb(parsed_qs, wrap_apply_to_each(Perturb.change_location), nsamples=1500)\n",
    "test = DIR(data, expect_fn)\n",
    "test.run(new_pp)\n",
    "test.summary(3)"
   ]
  },
  {
   "cell_type": "markdown",
   "metadata": {},
   "source": [
    "numbers"
   ]
  },
  {
   "cell_type": "code",
   "execution_count": 38,
   "metadata": {},
   "outputs": [
    {
     "name": "stdout",
     "output_type": "stream",
     "text": [
      "Predicting 23020 examples\n",
      "Test cases:      1500\n",
      "After filtering: 549 (36.6%)\n",
      "Fails (rate):    488 (88.9%)\n",
      "\n",
      "Example fails:\n",
      "1.0 ('What are the best bike technologies in 2016?', 'What are the best bike inventions of 2016?')\n",
      "1.0 ('What are the best bike technologies in 2016?', 'What are the best bike inventions of 2043?')\n",
      "\n",
      "----\n",
      "1.0 (\"India's Prime Minister removed 500 and 1000 rupee notes from circulation. Is this a good way to curb the spread of black money?\", 'Why is 500 and 1000 rupee notes discontinued?')\n",
      "1.0 (\"India's Prime Minister removed 500 and 1000 rupee notes from circulation. Is this a good way to curb the spread of black money?\", 'Why is 500 and 927 rupee notes discontinued?')\n",
      "1.0 (\"India's Prime Minister removed 500 and 1000 rupee notes from circulation. Is this a good way to curb the spread of black money?\", 'Why is 509 and 1000 rupee notes discontinued?')\n",
      "\n",
      "----\n",
      "1.0 ('What are the effects of demonitization of 500 and 1000 rupees notes on real estate sector?', 'What will be the impact of scrapping of ₹500 and ₹1000 rupee notes on the real estate market?')\n",
      "1.0 ('What are the effects of demonitization of 501 and 1000 rupees notes on real estate sector?', 'What will be the impact of scrapping of ₹500 and ₹1000 rupee notes on the real estate market?')\n",
      "1.0 ('What are the effects of demonitization of 500 and 853 rupees notes on real estate sector?', 'What will be the impact of scrapping of ₹500 and ₹1000 rupee notes on the real estate market?')\n",
      "\n",
      "----\n"
     ]
    }
   ],
   "source": [
    "\n",
    "data = Perturb.perturb(parsed_qs, wrap_apply_to_each(Perturb.change_number), nsamples=1500)\n",
    "test = DIR(data, expect_fn)\n",
    "test.run(new_pp)\n",
    "test.summary(3)"
   ]
  },
  {
   "cell_type": "code",
   "execution_count": 39,
   "metadata": {},
   "outputs": [],
   "source": [
    "### Change "
   ]
  },
  {
   "cell_type": "markdown",
   "metadata": {},
   "source": [
    "### Keep entities, fill in with BERT gibberish"
   ]
  },
  {
   "cell_type": "code",
   "execution_count": 53,
   "metadata": {},
   "outputs": [],
   "source": [
    "def bert_gibberish(question):\n",
    "    ents = question.ents\n",
    "    if not ents:\n",
    "        return None\n",
    "    wp = [x.text for x in question if x.tag_ in ['WP', 'WRB', 'WDT']]\n",
    "    if not wp:\n",
    "        wp = question[0].text\n",
    "    else:\n",
    "        wp = wp[0]\n",
    "    ents = [x.text for x in ents]\n",
    "    ents[-1] = ents[-1] + '?'\n",
    "    template = ' {bert} '.join([wp] + ents)\n",
    "    gibberish = editor.template(template)[:5]\n",
    "#     return gibberish\n",
    "    ret = [(question.text, x) for x in gibberish if question.text != x ]\n",
    "    return ret\n",
    "def gibberish_both(qs):\n",
    "    q1, q2 = qs\n",
    "    ret = []\n",
    "    x1 = bert_gibberish(q1)\n",
    "    if x1:\n",
    "        ret.extend(x1)\n",
    "    x2 = bert_gibberish(q2)\n",
    "    if x2:\n",
    "        ret.extend(x2)\n",
    "    return ret\n",
    "#     ret =  [(question.text, x[1]) for x in tg.fill_in_between([wp] + ents) if question.text != x[1]]\n",
    "#     ret = [x for x in ret if len(x[1].split()) < len(x[0].split()) -4][:5]\n",
    "#     return ret "
   ]
  },
  {
   "cell_type": "code",
   "execution_count": 48,
   "metadata": {},
   "outputs": [
    {
     "name": "stdout",
     "output_type": "stream",
     "text": [
      "Test cases:      500\n",
      "Fails (rate):    166 (33.2%)\n",
      "\n",
      "Example fails:\n",
      "0.0 ('What is your review of Samsung Galaxy?', 'What is your review of Samsung Galaxy S6?')\n",
      "1.0 ('What is your review of Samsung Galaxy?', 'What About Samsung Galaxy?')\n",
      "1.0 ('What is your review of Samsung Galaxy?', 'What about Samsung Galaxy?')\n",
      "\n",
      "----\n",
      "0.0 ('What is Clayton Kershaw like in person?', \"What is Clayton Kershaw's salary?\")\n",
      "0.9 (\"What is Clayton Kershaw's salary?\", \"What 's Clayton Kershaw's?\")\n",
      "0.9 (\"What is Clayton Kershaw's salary?\", \"What Is Clayton Kershaw's?\")\n",
      "\n",
      "----\n",
      "0.0 (\"What's your JEE Mains score?\", 'What is JEE Main ?')\n",
      "1.0 ('What is JEE Main ?', \"What 's JEE Main?\")\n",
      "1.0 ('What is JEE Main ?', 'What are JEE Main?')\n",
      "\n",
      "----\n"
     ]
    }
   ],
   "source": [
    "data = Perturb.perturb(parsed_qs, gibberish_both, nsamples=500)\n",
    "expect_false = Expect.eq(0)\n",
    "test = DIR(data, expect_false)\n",
    "test.run(new_pp)\n",
    "test.summary(3)"
   ]
  },
  {
   "cell_type": "code",
   "execution_count": 54,
   "metadata": {},
   "outputs": [
    {
     "name": "stdout",
     "output_type": "stream",
     "text": [
      "Test cases:      500\n",
      "Fails (rate):    166 (33.2%)\n",
      "\n",
      "Example fails:\n",
      "0.1 ('What is the cut off in coep for mechanical girls?', 'What is the cut-off for COEP?')\n",
      "1.0 ('What is the cut-off for COEP?', 'What about COEP?')\n",
      "1.0 ('What is the cut-off for COEP?', 'What About COEP?')\n",
      "\n",
      "----\n",
      "1.0 ('How can you get the best grades at school?', 'What can I do to get better grades next quarter?')\n",
      "1.0 ('What can I do to get better grades next quarter?', 'What for next quarter?')\n",
      "0.5 ('What can I do to get better grades next quarter?', 'What happen next quarter?')\n",
      "\n",
      "----\n",
      "1.0 ('Why did AT&T purchase Time Warner?', 'Why is AT&T buying Time Warner?')\n",
      "1.0 ('Why did AT&T purchase Time Warner?', 'Why sold AT&T to Time Warner?')\n",
      "0.9 ('Why is AT&T buying Time Warner?', 'Why both AT&T and Time Warner?')\n",
      "\n",
      "----\n"
     ]
    }
   ],
   "source": [
    "test.summary(3)"
   ]
  },
  {
   "cell_type": "markdown",
   "metadata": {},
   "source": [
    "## Temporal"
   ]
  },
  {
   "cell_type": "markdown",
   "metadata": {},
   "source": [
    "Is != used to be"
   ]
  },
  {
   "cell_type": "code",
   "execution_count": 55,
   "metadata": {},
   "outputs": [
    {
     "name": "stdout",
     "output_type": "stream",
     "text": [
      "Predicting 1000 examples\n",
      "Test cases:      1000\n",
      "Fails (rate):    737 (73.7%)\n",
      "\n",
      "Example fails:\n",
      "0.9 ('Is Victoria Foster a chef?', 'Did Victoria Foster use to be a chef?')\n",
      "----\n",
      "0.6 ('Is Ryan Adams an advisor?', 'Did Ryan Adams use to be an advisor?')\n",
      "----\n",
      "0.7 ('Is Mark James a mechanic?', 'Did Mark James use to be a mechanic?')\n",
      "----\n"
     ]
    }
   ],
   "source": [
    "data = editor.template(('Is {first_name} {last_name} {a:noun}?', 'Did {first_name} {last_name} use to be {a:noun}?'),\n",
    "                noun=nouns,\n",
    "                adj=adjs,\n",
    "                remove_duplicates=True, \n",
    "                nsamples=1000)\n",
    "test = MFT(data, labels=0)\n",
    "test.run(new_pp)\n",
    "test.summary(n=3)"
   ]
  },
  {
   "cell_type": "markdown",
   "metadata": {},
   "source": [
    "Is != becoming"
   ]
  },
  {
   "cell_type": "code",
   "execution_count": 56,
   "metadata": {},
   "outputs": [
    {
     "name": "stdout",
     "output_type": "stream",
     "text": [
      "Predicting 999 examples\n",
      "Test cases:      999\n",
      "Fails (rate):    182 (18.2%)\n",
      "\n",
      "Example fails:\n",
      "0.8 ('Is Dylan Bailey a nurse?', 'Is Dylan Bailey becoming a nurse?')\n",
      "----\n",
      "0.7 ('Is Taylor King an employee?', 'Is Taylor King becoming an employee?')\n",
      "----\n",
      "0.8 ('Is Kayla Bailey a DJ?', 'Is Kayla Bailey becoming a DJ?')\n",
      "----\n"
     ]
    }
   ],
   "source": [
    "data = editor.template(('Is {first_name} {last_name} {a:noun}?', 'Is {first_name} {last_name} becoming {a:noun}?'),\n",
    "                noun=nouns,\n",
    "                adj=adjs,\n",
    "                remove_duplicates=True, \n",
    "                nsamples=1000)\n",
    "test = MFT(data, labels=0)\n",
    "test.run(new_pp)\n",
    "test.summary(n=3)"
   ]
  },
  {
   "cell_type": "markdown",
   "metadata": {},
   "source": [
    "Before != after"
   ]
  },
  {
   "cell_type": "code",
   "execution_count": 57,
   "metadata": {},
   "outputs": [
    {
     "name": "stdout",
     "output_type": "stream",
     "text": [
      "Predicting 999 examples\n",
      "Test cases:      999\n",
      "Fails (rate):    999 (100.0%)\n",
      "\n",
      "Example fails:\n",
      "1.0 (\"What was Laura Green's life before becoming a writer?\", \"What was Laura Green's life after becoming a writer?\")\n",
      "----\n",
      "1.0 (\"What was Lauren Smith's life before becoming an entrepreneur?\", \"What was Lauren Smith's life after becoming an entrepreneur?\")\n",
      "----\n",
      "1.0 (\"What was Jacob Thompson's life before becoming an accountant?\", \"What was Jacob Thompson's life after becoming an accountant?\")\n",
      "----\n"
     ]
    }
   ],
   "source": [
    "data = editor.template((\n",
    "    'What was {first_name} {last_name}\\'s life before becoming {a:noun}?',\n",
    "    'What was {first_name} {last_name}\\'s life after becoming {a:noun}?'\n",
    "),\n",
    "                noun=nouns,\n",
    "                adj=adjs,\n",
    "                remove_duplicates=True, \n",
    "                nsamples=1000)\n",
    "test = MFT(data, labels=0)\n",
    "test.run(new_pp)\n",
    "test.summary(n=3)"
   ]
  },
  {
   "cell_type": "code",
   "execution_count": 58,
   "metadata": {},
   "outputs": [
    {
     "name": "stdout",
     "output_type": "stream",
     "text": [
      "it, normal, OK, there, safe, best, ok, okay, acceptable, reasonable, permissible, legal, proper, wrong, healthy, good, enough, better, important, appropriate, left, allowed, possible, dinner, vegetarian, what, recommended, going, food, illegal, supposed, smart, unhealthy, hard, popular, hot, necessary, vegan, typical, not, free, right, required, fun, time, meant, something, one, kosher, customary, fair, mandatory, available, common, cheaper, alright, easier, suitable, feasible, polite, difficult, cool, certain, sensible, affordable, advisable, fine, fashionable, like, nice, unsafe, public, wise, decent, sufficient, harder, advised, traditional, usual, healthier, anyone, permitted, eating, easy, life, trendy, someone, forbidden, lawful, expensive, safer, new, everyone, compulsory, dangerous, worse, needed, realistic, temptation, essential, adequate, impossible, hungry, rude, risky, considered, prudent, taboo, different, tempting\n"
     ]
    }
   ],
   "source": [
    "print(', '.join(editor.suggest('Is is {bert} to eat after 10pm?')))"
   ]
  },
  {
   "cell_type": "code",
   "execution_count": 59,
   "metadata": {},
   "outputs": [],
   "source": [
    "mid = ['normal', 'ok', 'safe', 'dangerous', 'acceptable', 'reasonable', 'proper', 'wrong', 'healthy', 'important']"
   ]
  },
  {
   "cell_type": "code",
   "execution_count": 60,
   "metadata": {},
   "outputs": [
    {
     "name": "stdout",
     "output_type": "stream",
     "text": [
      "sleep, drink, drive, eat, work, smoke, go, leave, travel, stay, walk, do, visit, read, be, exercise, watch, fish, talk, vote, play, call, party, move, retire, write, swim, run, study, live, post, celebrate, stop, text, shop, continue, relax, dance, return, start, tweet, disappear, act, speak, strike, die, fly, gamble, come, report, bed, change, meet, remain, enter, attend, kill, feed, see, gather, avoid, operate, park, cook, buy, breathe, film, have, wait, cycle, cross, paint, phone, check, spend, practice, pee, look, sit, commute, consume, skate, linger, use, pass, ride, bike, bet, wander, finish, blog, vape, approach, rise, roam, proceed, dive, stand, bicycle, say, explore, hike, stroll, hang, take, car, know, open, rest, disturb, emerge, escape, hunt, ask, exit, answer, follow, quit, people, crash, think, pray, dress, ski, wear, dinner, chat, cry, fight, close, exist, surf, evacuate, perform, vanish, arrive, garden, crawl, jump, jog, propose, children, behave, get, step, taxi, observe, climb, nap, protest, awake, worry, withdraw, cancel, wake, marry, happen, blackout, disconnect, queue, complain, survive, book, publish, binge, snack, you, me, remember, clean, shower, refuse, join, vomit, strip, begin, block, feel, lose, kiss, bar, lie, demonstrate, scream, listen, us, discuss, plan, Google, learn, focus, anyone, reconnect, concentrate, notice, investigate, hear, tell, consider, research, pause, save, update, them, note, workout, chill, date, sex, diet, fart, laugh, waste, bake, indulge, cough, barbecue, shave, freeze, end, function, collapse, occur, panic, resume, recover, sunset, awaken, train, rush, resign, vacuum, ring, respond, search, order, try\n"
     ]
    }
   ],
   "source": [
    "print(', '.join(editor.suggest('Is is {mid} to {bert} after 10pm?', mid=mid)))"
   ]
  },
  {
   "cell_type": "code",
   "execution_count": 61,
   "metadata": {},
   "outputs": [],
   "source": [
    "activity = ['drink', 'sleep', 'drive', 'work', 'eat', 'smoke', 'walk', 'read', 'party', 'talk', 'exercise', 'celebrate', 'text', 'tweet', 'run', 'dance', 'swim', 'cook', 'pray', 'pee', 'rest']"
   ]
  },
  {
   "cell_type": "code",
   "execution_count": 62,
   "metadata": {},
   "outputs": [
    {
     "name": "stdout",
     "output_type": "stream",
     "text": [
      "Predicting 1000 examples\n",
      "Test cases:      1000\n",
      "Fails (rate):    976 (97.6%)\n",
      "\n",
      "Example fails:\n",
      "0.9 ('Is it proper to exercise before 6pm?', 'Is it proper to exercise after 6pm?')\n",
      "----\n",
      "0.9 ('Is it healthy to text before 3pm?', 'Is it healthy to text after 3pm?')\n",
      "----\n",
      "0.8 ('Is it healthy to read before 5pm?', 'Is it healthy to read after 5pm?')\n",
      "----\n"
     ]
    }
   ],
   "source": [
    "data = editor.template(('Is it {mid} to {activity} before {hour}{ampm}?','Is it {mid} to {activity} after {hour}{ampm}?'),\n",
    "                activity=activity,\n",
    "                mid=mid,\n",
    "                hour=[str(x) for x in range(1, 12)],\n",
    "                ampm=['am', 'pm'],\n",
    "                remove_duplicates=True, \n",
    "                nsamples=1000)\n",
    "test = MFT(data, labels=0)\n",
    "test.run(new_pp)\n",
    "test.summary(n=3)"
   ]
  },
  {
   "cell_type": "markdown",
   "metadata": {},
   "source": [
    "## Negation"
   ]
  },
  {
   "cell_type": "code",
   "execution_count": 63,
   "metadata": {},
   "outputs": [],
   "source": [
    "mid2 = mid + ['legal', 'awkward', 'socially acceptable']"
   ]
  },
  {
   "cell_type": "code",
   "execution_count": 64,
   "metadata": {},
   "outputs": [
    {
     "name": "stdout",
     "output_type": "stream",
     "text": [
      "live, work, be, vote, drive, travel, marry, stay, study, fight, die, exist, speak, eat, campaign, fly, squat, pray, hunt, fish, visit, protest, remain, serve, write, smoke, shop, reside, settle, swim, move, play, meet, gamble, demonstrate, pee, operate, perform, kill, invest, surf, strike, train, march, report, arrive, gather, act, teach, murder, sleep, race, drink, hide, land, practice, vacation, spy, shoot, cook, fire, dance, survive, camp, migrate, holiday, worship, paint, burn, ski, rape, party, talk, walk, believe, exercise, barbecue, think, build, volunteer, propose, breed, ask, wait, lie, farm, preach, buy, stand, sue, start, gay, date, tan, rule, engage, appear, look, grow, park\n"
     ]
    }
   ],
   "source": [
    "print(', '.join(editor.suggest('Is it {mid} to {bert} in {country}?', mid=mid2)[:100]))"
   ]
  },
  {
   "cell_type": "code",
   "execution_count": 65,
   "metadata": {},
   "outputs": [],
   "source": [
    "things = ['work', 'vote', 'travel', 'marry', 'drive', 'study', 'protest', 'campaign', 'fight', 'gamble', 'hunt', 'pray', 'smoke', 'fish', 'murder', 'invest', 'pee', 'march', 'worship', 'rape', 'volunteer', 'surf', 'shoot', 'dance', 'camp', 'preach', 'spy', 'be gay', 'lie', 'divorce', 'discriminate']"
   ]
  },
  {
   "cell_type": "code",
   "execution_count": 66,
   "metadata": {},
   "outputs": [
    {
     "name": "stdout",
     "output_type": "stream",
     "text": [
      "Predicting 1000 examples\n",
      "Test cases:      1000\n",
      "Fails (rate):    223 (22.3%)\n",
      "\n",
      "Example fails:\n",
      "0.7 ('Is it wrong to marry in Liechtenstein?', 'Is it wrong not to marry in Liechtenstein?')\n",
      "----\n",
      "0.8 ('Is it wrong to fight in Serbia?', 'Is it wrong not to fight in Serbia?')\n",
      "----\n",
      "0.6 ('Is it dangerous to spy in Croatia?', 'Is it dangerous not to spy in Croatia?')\n",
      "----\n"
     ]
    }
   ],
   "source": [
    "data = editor.template(('Is it {mid} to {activity} in {country}?','Is it {mid} not to {activity} in {country}?'),\n",
    "                activity=things,\n",
    "                mid=mid2,\n",
    "                remove_duplicates=True, \n",
    "                nsamples=1000)\n",
    "test = MFT(data, labels=0)\n",
    "test.run(new_pp)\n",
    "test.summary(n=3)"
   ]
  },
  {
   "cell_type": "code",
   "execution_count": 67,
   "metadata": {},
   "outputs": [
    {
     "name": "stdout",
     "output_type": "stream",
     "text": [
      "Predicting 1000 examples\n",
      "Test cases:      1000\n",
      "Fails (rate):    0 (0.0%)\n"
     ]
    }
   ],
   "source": [
    "data = editor.template((\n",
    "    'What are things {a:noun} should worry about?',\n",
    "    'What are things {a:noun} should not worry about?',\n",
    "),\n",
    "                noun=nouns,\n",
    "                remove_duplicates=True, \n",
    "                nsamples=1000)\n",
    "test = MFT(data, labels=0)\n",
    "test.run(new_pp)\n",
    "test.summary(n=3)"
   ]
  },
  {
   "cell_type": "markdown",
   "metadata": {},
   "source": [
    "## Coref"
   ]
  },
  {
   "cell_type": "code",
   "execution_count": 68,
   "metadata": {},
   "outputs": [
    {
     "name": "stdout",
     "output_type": "stream",
     "text": [
      "Predicting 1000 examples\n",
      "Test cases:      1000\n",
      "Fails (rate):    712 (71.2%)\n",
      "\n",
      "Example fails:\n",
      "0.8 ('If Jesse and Monica were alone, do you think he would reject her?', 'If Jesse and Monica were alone, do you think she would reject him?')\n",
      "----\n",
      "0.6 ('If Gabriel and Nicole were alone, do you think he would reject her?', 'If Gabriel and Nicole were alone, do you think she would reject him?')\n",
      "----\n",
      "0.6 ('If Jeremy and Abigail were alone, do you think he would reject her?', 'If Jeremy and Abigail were alone, do you think she would reject him?')\n",
      "----\n"
     ]
    }
   ],
   "source": [
    "data = editor.template(\n",
    "    (\n",
    "        'If {male} and {female} were alone, do you think he would reject her?',\n",
    "        'If {male} and {female} were alone, do you think she would reject him?',\n",
    "    ),\n",
    "    remove_duplicates=True, \n",
    "    nsamples=1000)\n",
    "test = MFT(data, labels=0)\n",
    "test.run(new_pp)\n",
    "test.summary(n=3)"
   ]
  },
  {
   "cell_type": "code",
   "execution_count": 69,
   "metadata": {},
   "outputs": [
    {
     "name": "stdout",
     "output_type": "stream",
     "text": [
      "Predicting 2000 examples\n",
      "Test cases:      2000\n",
      "Fails (rate):    1984 (99.2%)\n",
      "\n",
      "Example fails:\n",
      "0.9 ('If Anthony and Kaitlyn were married, would her family be happy?', \"If Anthony and Kaitlyn were married, would Anthony's family be happy?\")\n",
      "----\n",
      "0.9 ('If Alexander and Jessica were married, would her family be happy?', \"If Alexander and Jessica were married, would Alexander's family be happy?\")\n",
      "----\n",
      "0.9 ('If Kevin and Erica were married, would her family be happy?', \"If Kevin and Erica were married, would Kevin's family be happy?\")\n",
      "----\n"
     ]
    }
   ],
   "source": [
    "data = editor.template(\n",
    "    [(\n",
    "        'If {male} and {female} were married, would his family be happy?',\n",
    "        'If {male} and {female} were married, would {female}\\'s family be happy?',\n",
    "    ),(\n",
    "        'If {male} and {female} were married, would her family be happy?',\n",
    "        'If {male} and {female} were married, would {male}\\'s family be happy?',\n",
    "    ),\n",
    "    ]\n",
    "        ,\n",
    "    unroll=True,\n",
    "    remove_duplicates=True, \n",
    "    nsamples=1000)\n",
    "test = MFT(data, labels=0)\n",
    "test.run(new_pp)\n",
    "test.summary(n=3)"
   ]
  },
  {
   "cell_type": "markdown",
   "metadata": {},
   "source": [
    "## SRL"
   ]
  },
  {
   "cell_type": "code",
   "execution_count": 70,
   "metadata": {},
   "outputs": [
    {
     "name": "stdout",
     "output_type": "stream",
     "text": [
      "chef, pizza, boxer, player, footballer, athlete, rapper, actor, singer, cook, magician, robot, coach, beer, cyclist, wrestler, drummer, musician, quarterback, hacker, dog, baker, fighter, journalist, restaurant, steak, teacher, doctor, gamer, band, shooter, DJ, football, person, horse, photographer, driver, fisherman, burger, coffee, lawyer, writer, food, dancer, student, wine, artist, man, surgeon, comedian, trainer, VPN, vegetarian, programmer, team, game, vegan, guitarist, goalkeeper, server, guy, cricket, sport, engineer, dentist, waiter, cheese, bartender, fish, chicken, goalie, car, manager, computer, referee, hunter, guitar, basketball, tennis, astronaut, mathematician, sandwich, blogger, accountant, TV, soldier, sniper, job, runner, barbecue, chocolate, scientist, friend, cat, gun, pitcher, judge, AI, philosopher, butcher, painter, golf, camel, translator, piano, worker, farmer, conductor, politician, bike\n"
     ]
    }
   ],
   "source": [
    "print(', '.join(editor.suggest('Who is the best {bert} in the world?')))"
   ]
  },
  {
   "cell_type": "code",
   "execution_count": 71,
   "metadata": {},
   "outputs": [],
   "source": [
    "thing = ['chef', 'boxer', 'player', 'footballer', 'athlete', 'rapper', 'actor', 'singer', 'cook', 'magician', 'coach', 'cyclist', 'wrestler', 'drummer', 'musician', 'quarterback', 'hacker', 'baker', 'fighter', 'journalist', 'teacher', 'doctor', 'gamer', 'husband', 'DJ', 'person', 'man', 'woman', 'surgeon', 'comedian', 'trainer', 'programmer', 'guitarist', 'goalkeeper']"
   ]
  },
  {
   "cell_type": "code",
   "execution_count": 72,
   "metadata": {},
   "outputs": [
    {
     "name": "stdout",
     "output_type": "stream",
     "text": [
      "you, You, YOU, people, we, they, I, readers, u, guys, fans, your, others, ya, experts, Americans, scientists, men, voters, some, students, authors, the, analysts, everyone, conservatives, women, friends, Canadians, critics, he, judges, players, most, journalists, supporters, all, folks, audiences, liberals, historians, i, members, Australians, researchers, viewers, many, celebrities, artists, coaches, editors, respondents, participants, Republicans, writers, U, reporters, comedians, parents, teachers, economists, veterans, gamers, consumers, candidates, anyone, independents, kids, users, doctors, pundits, individuals, commentators, yo, politicians, ye, philosophers, millennials, reviewers, each, athletes, not, agents, feminists, investigators, psychologists, scholars, atheists, leaders, Christians, YOUR, archaeologists, both, police, children, ladies, stars, humans, still, those, pros, seniors, two, Democrats, adults, contestants, teenagers, any, listeners, academics, astronomers, Conservatives, guests, Russians, insiders, professionals, yours, one, musicians, teams, competitors, she, strikers, scouts, referees, poets, activists, wrestlers, DJs, libertarians, polls, fighters, girls, evangelicals, rappers, bloggers, legends, Millennials, boys, Jews, captains, brands, opponents, intellectuals, singers, professors, MPs, managers, PEOPLE, schools, teens, chefs, cyclists, drivers, couples, astronauts, psychiatrists, physicists, patients, developers, physicians, senators, mothers, Muslims, citizens, Victoria, residents, Britons, programmers, really, riders, lawyers, clients, trainers, advisors, investors, comics, Mormons, runners, thee, so\n"
     ]
    }
   ],
   "source": [
    "print(', '.join(editor.suggest('Who do {bert} think is the the best {thing} in the world?', thing=thing)))"
   ]
  },
  {
   "cell_type": "code",
   "execution_count": 73,
   "metadata": {},
   "outputs": [],
   "source": [
    "subjects = ['you', 'people', 'readers', 'guys', 'fans', 'experts', 'scientists', 'Americans', 'students', 'men', 'voters', 'authors', 'conservatives', 'women', 'Canadians', 'analysts', 'critics', 'judges', 'artists', 'researchers', 'liberals', 'historians', 'Australians', 'journalists', 'Republicans', 'coaches', 'parents', 'kids', 'economists', 'reporters', 'consumers', 'veterans', 'doctors']"
   ]
  },
  {
   "cell_type": "code",
   "execution_count": 74,
   "metadata": {},
   "outputs": [
    {
     "name": "stdout",
     "output_type": "stream",
     "text": [
      "best, greatest, smartest, worst, strongest, fastest, top, toughest, biggest, finest, happiest, deadliest, coolest, oldest, hottest, hardest, richest, safest, better, leading, great, brightest, largest, busiest, youngest, superior, Greatest, dominant, highest, most, quickest, easiest, favorite, tallest, ultimate, perfect, weakest, favourite, smallest, next, newest, wealthiest, first, Best, heaviest, only, right, simplest, elite, premier\n"
     ]
    }
   ],
   "source": [
    "print(', '.join(editor.suggest('Who do {subjects} think is the the {bert} {thing} in the world?', thing=thing, subjects=subjects)[:50]))"
   ]
  },
  {
   "cell_type": "code",
   "execution_count": 75,
   "metadata": {},
   "outputs": [],
   "source": [
    "best = ['best', 'greatest', 'worst', 'top', 'smartest', 'strongest', 'finests', 'happiest', 'coolest', 'richest', 'leading', 'brightest', 'premier', 'ultimate', 'dominant']"
   ]
  },
  {
   "cell_type": "code",
   "execution_count": 76,
   "metadata": {},
   "outputs": [
    {
     "name": "stdout",
     "output_type": "stream",
     "text": [
      "Predicting 1000 examples\n",
      "Test cases:      1000\n",
      "Fails (rate):    130 (13.0%)\n",
      "\n",
      "Example fails:\n",
      "0.0 ('Who do women think is the finests athlete in the world?', 'Who is the finests athlete in the world according to women?')\n",
      "----\n",
      "0.4 ('Who do kids think is the leading cyclist in the world?', 'Who is the leading cyclist in the world according to kids?')\n",
      "----\n",
      "0.4 ('Who do consumers think is the worst actor in the world?', 'Who is the worst actor in the world according to consumers?')\n",
      "----\n"
     ]
    }
   ],
   "source": [
    "data = editor.template((\n",
    "    'Who do {subjects} think is the {best} {thing} in the world?',\n",
    "    'Who is the {best} {thing} in the world according to {subjects}?'\n",
    "),\n",
    "    subjects=subjects,\n",
    "    best=best,\n",
    "    thing=thing,\n",
    "    remove_duplicates=True, \n",
    "    nsamples=1000)\n",
    "test = MFT(data, labels=1)\n",
    "test.run(new_pp)\n",
    "test.summary(n=3)"
   ]
  },
  {
   "cell_type": "code",
   "execution_count": 77,
   "metadata": {},
   "outputs": [
    {
     "name": "stdout",
     "output_type": "stream",
     "text": [
      "cats, humans, dogs, people, pigs, chickens, you, cows, sheep, birds, mice, robots, fish, bees, snakes, bats, insects, trees, we, elephants, babies, puppies, animals, ants, they, spiders, butterflies, dolphins, cars, mosquitoes, plants, whales, dinosaurs, horses, goats, pets, men, computers, toys, things, flies, girls, rats, bears, monkeys, rabbits, houses, children, lions, bicycles, coins, kittens, drones, frogs, kids, ducks, turtles, bugs, worms, crabs, dolls, sharks, trucks, diamonds, tigers, wolves, bikes, beetles, primates, cattle, satellites, flowers, chimpanzees, carrots, ticks, apes, helicopters, cameras, mammals, reptiles, deer, ponies, rodents, stones, balls, seals, brains, seeds, rockets, boys, dragons, us, knives, cells, objects, women, balloons, pedestrians, bulls, apples\n"
     ]
    }
   ],
   "source": [
    "print(', '.join([str(x) for x in editor.suggest('Are {bert} smaller than {a}?', a=['bananas', 'dogs', 'cars', 'cats', 'elephants'])][:100]))"
   ]
  },
  {
   "cell_type": "code",
   "execution_count": 78,
   "metadata": {},
   "outputs": [],
   "source": [
    "things = editor.suggest('Are {bert} smaller than {a}?',a=['bananas', 'dogs', 'cars', 'cats', 'elephants'] )[:100]"
   ]
  },
  {
   "cell_type": "code",
   "execution_count": 79,
   "metadata": {},
   "outputs": [
    {
     "name": "stdout",
     "output_type": "stream",
     "text": [
      "smarter, better, bigger, faster, stronger, worse, cooler, different, larger, smaller, more, tougher, safer, wiser, nicer, greater, happier, cleaner, less, weaker, healthier, slower, cheaper, other, quieter, quicker, taller, heavier, harder, lighter, brighter, older, hotter, easier, higher, closer, darker, louder, longer, colder, shorter, warmer, lower, simpler, intelligent, deeper, sharper, lesser, thicker, younger, wider, richer, stranger, important, broader, clearer, dangerous, superior, softer, rather, fewer, interesting, differently, smart, thinner, real, poorer, farther, inferior, tighter, valuable, dumb, finer, stupid, related, smoother, wealthier, er, anymore, sooner, strange, beautiful, stricter, ier, earlier, powerful, normal, scary, anything, further, weird, human, good, poisonous, rare, useful, male, crazy, true, funny\n"
     ]
    }
   ],
   "source": [
    "print(', '.join([str(x) for x in editor.suggest('Are {a} {bert} than {a2}?', a=things, a2=things)][:100]))"
   ]
  },
  {
   "cell_type": "code",
   "execution_count": 80,
   "metadata": {},
   "outputs": [],
   "source": [
    "comp = ['better', 'worse', 'cheaper', 'bigger', 'louder', 'longer', 'larger', 'smaller', 'warmer', 'colder', 'thicker', 'lighter', 'heavier']"
   ]
  },
  {
   "cell_type": "markdown",
   "metadata": {},
   "source": [
    "Order doesn't matter for comparison"
   ]
  },
  {
   "cell_type": "code",
   "execution_count": 81,
   "metadata": {},
   "outputs": [
    {
     "name": "stdout",
     "output_type": "stream",
     "text": [
      "Predicting 991 examples\n",
      "Test cases:      991\n",
      "Fails (rate):    987 (99.6%)\n",
      "\n",
      "Example fails:\n",
      "0.0 ('Are toys bigger than apples?', 'What is bigger, apples or toys?')\n",
      "----\n",
      "0.0 ('Are dolphins larger than stones?', 'What is larger, stones or dolphins?')\n",
      "----\n",
      "0.0 ('Are deer colder than reptiles?', 'What is colder, reptiles or deer?')\n",
      "----\n"
     ]
    }
   ],
   "source": [
    "data = editor.template((\n",
    "    'Are {t1} {comp} than {t2}?',\n",
    "#     'Are {t2} {comp} than {t1}?',\n",
    "#     'What is {comp}, {t1} or {t2}?',\n",
    "    'What is {comp}, {t2} or {t1}?'\n",
    "),\n",
    "    t = things,\n",
    "    comp = comp,\n",
    "    remove_duplicates=True, \n",
    "    nsamples=1000)\n",
    "# data = [tuple(np.random.choice(x, 2, replace=False)) for x in data]\n",
    "test = MFT(data, labels=1)\n",
    "test.run(new_pp)\n",
    "test.summary(n=3)"
   ]
  },
  {
   "cell_type": "markdown",
   "metadata": {},
   "source": [
    "Order matters for asymetric relations"
   ]
  },
  {
   "cell_type": "code",
   "execution_count": 82,
   "metadata": {},
   "outputs": [],
   "source": [
    "# editor.template('Is {first_name1} {bert} {first_name2}?', remove_duplicates=True)[:100]"
   ]
  },
  {
   "cell_type": "code",
   "execution_count": 83,
   "metadata": {},
   "outputs": [
    {
     "name": "stdout",
     "output_type": "stream",
     "text": [
      "related, married, close, attracted, talking, engaged, connected, lying, closer, linked, speaking, loyal, going, important, mean, proposing, committed, listening, referring, up, faithful, responding, similar, on, next, true, dead, attached, writing, good, gay, dangerous, right, tied, allergic, returning, hostile, turning, Married, crazy, coming, bound, talk, lied, special, new, available, opposed, indebted, abusive, proposed, nice, known, attractive, real, closest, straight, back, out, addicted, kind, getting, relevant, friendly, reacting, truthful, nicer, alive, drawn, fair, happy, open, cruel, supposed, entitled, decent, devoted, guilty, happening, unfair, single, off, kin, Loyal, cold, bisexual, serious, acceptable, used, weird, gone, Close, down, insane, wed, pregnant, father, wrong, interesting, headed\n",
      "\n",
      "or, really, and, an, a, with, Really, still, actually, like, /, dating, &, not, ,, from, real, after, born, the, …, even, indeed, now, married, called, marrying, his, truly, to, REALLY, ?, ..., Dating, against, also, named, Young, your, :, another, marry, behind, biologically, Love, leaving, for, King, fucking, killed, Or, without, Elizabeth, And, James, following, 's, versus, ever, clone, killing, pregnant, Still, John, gay, seeing, NOT, just, into, His, Married, Robert, stalking, already, be, Foster, David, With, meeting, A, Sue, her, Alexander, Daddy, under, vs, know, Prince, Charles, Ian, Kate, Like, becoming, Worth, Rachel, using, Not, meet, mean, that\n"
     ]
    }
   ],
   "source": [
    "print(', '.join(editor.suggest('Is {first_name1} {bert} to {first_name2}?', remove_duplicates=True)[:100]))\n",
    "print()\n",
    "print(', '.join(editor.suggest('Is {first_name1} {bert} {first_name2}?', remove_duplicates=True)[:100]))"
   ]
  },
  {
   "cell_type": "code",
   "execution_count": 84,
   "metadata": {},
   "outputs": [],
   "source": [
    "symmetric = ['dating', 'married to', 'close to', 'engaged to', 'connected to', 'married to', 'friends with', 'related to', 'an acquaintance of']"
   ]
  },
  {
   "cell_type": "code",
   "execution_count": 85,
   "metadata": {},
   "outputs": [
    {
     "name": "stdout",
     "output_type": "stream",
     "text": [
      "Predicting 994 examples\n",
      "Test cases:      994\n",
      "Fails (rate):    763 (76.8%)\n",
      "\n",
      "Example fails:\n",
      "0.0 ('Is Zachary married to Mark?', 'Is Mark married to Zachary?')\n",
      "----\n",
      "0.0 ('Is Dylan engaged to Natalie?', 'Is Natalie engaged to Dylan?')\n",
      "----\n",
      "0.0 ('Is Austin engaged to Nicole?', 'Is Nicole engaged to Austin?')\n",
      "----\n"
     ]
    }
   ],
   "source": [
    "data = editor.template((\n",
    "    'Is {first_name1} {s} {first_name2}?',\n",
    "#     'Are {t2} {comp} than {t1}?',\n",
    "#     'What is {comp}, {t1} or {t2}?',\n",
    "    'Is {first_name2} {s} {first_name1}?',\n",
    "),\n",
    "    s = symmetric,\n",
    "    remove_duplicates=True, \n",
    "    nsamples=1000)\n",
    "# data = [tuple(np.random.choice(x, 2, replace=False)) for x in data]\n",
    "test = MFT(data, labels=1)\n",
    "test.run(new_pp)\n",
    "test.summary(n=3)"
   ]
  },
  {
   "cell_type": "code",
   "execution_count": 86,
   "metadata": {},
   "outputs": [],
   "source": [
    "asymmetric = ['hurting', 'lying to', 'loyal to', 'faithful to', 'proposing to', 'indebted to', 'abusive to', 'using', 'expecting', 'beating', 'punching', 'raising', 'poisoning', 'protecting', 'kidnapping']"
   ]
  },
  {
   "cell_type": "code",
   "execution_count": 87,
   "metadata": {},
   "outputs": [
    {
     "name": "stdout",
     "output_type": "stream",
     "text": [
      "Predicting 994 examples\n",
      "Test cases:      994\n",
      "Fails (rate):    238 (23.9%)\n",
      "\n",
      "Example fails:\n",
      "0.6 ('Is Joseph poisoning Abigail?', 'Is Abigail poisoning Joseph?')\n",
      "----\n",
      "0.6 ('Is Shannon poisoning Tyler?', 'Is Tyler poisoning Shannon?')\n",
      "----\n",
      "0.5 ('Is Jason lying to Charles?', 'Is Charles lying to Jason?')\n",
      "----\n"
     ]
    }
   ],
   "source": [
    "data = editor.template((\n",
    "    'Is {first_name1} {s} {first_name2}?',\n",
    "#     'Are {t2} {comp} than {t1}?',\n",
    "#     'What is {comp}, {t1} or {t2}?',\n",
    "    'Is {first_name2} {s} {first_name1}?',\n",
    "),\n",
    "    s = asymmetric,\n",
    "    remove_duplicates=True, \n",
    "    nsamples=1000)\n",
    "# data = [tuple(np.random.choice(x, 2, replace=False)) for x in data]\n",
    "test = MFT(data, labels=0)\n",
    "test.run(new_pp)\n",
    "test.summary(n=3)"
   ]
  },
  {
   "cell_type": "markdown",
   "metadata": {},
   "source": [
    "More traditional SRL, now possible with new interface (was hard before)"
   ]
  },
  {
   "cell_type": "code",
   "execution_count": 88,
   "metadata": {},
   "outputs": [
    {
     "name": "stdout",
     "output_type": "stream",
     "text": [
      "farm, stake, house, property, company, land, rights, ticket, papers, newspaper, book, island, estate, ranch, boat, horse, paper, shares, tickets, business, gun, books, newspapers, yacht, team, ship, stock, idea, plot, contract, Bible, phone, franchise, shotgun, store, horses, cattle, church, place, game, factory, castle, club, painting, bank, tract, rifle, manuscript, car, campaign, Ark, slaves, plane, school, money, guns, sword, plantation, beer, trust, election, film, ring, building, station, twins, deal, loan, time, tractor, home, letter, IRA, plan, title, watch, story, letters, rest, cows, piece, diary, brewery, charter, diamond, mortgage, hospital, site, post, operation, insurance, railroad, cow, coins, Dell, case, children, wine, telephone, dog\n"
     ]
    }
   ],
   "source": [
    "print(', '.join(editor.suggest('Did John buy the {bert}?', remove_duplicates=True)[:100]))"
   ]
  },
  {
   "cell_type": "code",
   "execution_count": 89,
   "metadata": {},
   "outputs": [],
   "source": [
    "obj = ['farm', 'house', 'property', 'company', 'land', 'ticket', 'newspaper', 'book', 'island', 'estate', 'ranch', 'boat', 'horse', 'paper', 'business', 'gun', 'game', 'factory', 'castle', 'painting', 'rifle', 'car', 'school', 'building']"
   ]
  },
  {
   "cell_type": "code",
   "execution_count": 90,
   "metadata": {},
   "outputs": [
    {
     "name": "stdout",
     "output_type": "stream",
     "text": [
      "buy, sell, own, get, take, leave, lose, have, see, find, purchase, keep, want, manage, inherit, control, acquire, win, steal, miss, abandon, run, destroy, hold, handle, need, change, build, like, use, remember, bought, save, know, quit, sold, finish, enter, receive, seize, call, break, close, survive, mention, afford, fix, start, sign, enjoy, notice, rebuild, touch, accept, sue, left, join, give, maintain, fire, drop, move, retain, operate, deliver, open, raid, lead, found, attack, exit, carry, secure, rob, continue, burn, oversee, return, support, purchased, stop, obtain, organize, clear, split, develop, watch, read, improve, inherited, reopen, flee, complete, ruin, shut, choose, mind, attend, write, list\n"
     ]
    }
   ],
   "source": [
    "print(', '.join(editor.suggest('Did John {bert} the {obj}?', obj=obj, remove_duplicates=True)[:100]))"
   ]
  },
  {
   "cell_type": "code",
   "execution_count": 91,
   "metadata": {},
   "outputs": [
    {
     "data": {
      "text/plain": [
       "[('buy', 'bought'),\n",
       " ('purchase', 'purchased'),\n",
       " ('sell', 'sold'),\n",
       " ('leave', 'left'),\n",
       " ('own', 'owned'),\n",
       " ('take', 'taken'),\n",
       " ('keep', 'kept'),\n",
       " ('want', 'wanted'),\n",
       " ('lose', 'lost'),\n",
       " ('destroy', 'destroyed'),\n",
       " ('inherit', 'inherited'),\n",
       " ('find', 'found'),\n",
       " ('use', 'used'),\n",
       " ('need', 'needed'),\n",
       " ('receive', 'received'),\n",
       " ('return', 'returned'),\n",
       " ('like', 'liked'),\n",
       " ('enjoy', 'enjoyed'),\n",
       " ('abandon', 'abandoned'),\n",
       " ('manage', 'managed'),\n",
       " ('remember', 'remembered'),\n",
       " ('miss', 'missed'),\n",
       " ('move', 'moved'),\n",
       " ('seize', 'seized'),\n",
       " ('steal', 'stolen')]"
      ]
     },
     "execution_count": 91,
     "metadata": {},
     "output_type": "execute_result"
    }
   ],
   "source": [
    "import pattern\n",
    "import pattern.en\n",
    "verbs = ['buy', 'purchase', 'sell', 'leave', 'own', 'take', 'keep', 'want', 'lose', 'destroy', 'inherit', 'find', 'use', 'need', 'receive', 'return', 'like', 'enjoy', 'abandon', 'manage', 'remember', 'miss', 'move', 'seize', 'steal']\n",
    "a = pattern.en.tenses('stolen')[0]\n",
    "verbs = [(v, pattern.en.conjugate(v, *a)) for v in verbs]\n",
    "verbs[3] = ('leave', 'left')\n",
    "verbs"
   ]
  },
  {
   "cell_type": "code",
   "execution_count": 92,
   "metadata": {},
   "outputs": [
    {
     "name": "stdout",
     "output_type": "stream",
     "text": [
      "Predicting 1000 examples\n",
      "Test cases:      1000\n",
      "Fails (rate):    107 (10.7%)\n",
      "\n",
      "Example fails:\n",
      "0.2 ('Did Shannon miss the rifle?', 'Was the rifle missed by Shannon?')\n",
      "----\n",
      "0.3 ('Did John enjoy the painting?', 'Was the painting enjoyed by John?')\n",
      "----\n",
      "0.4 ('Did Kevin leave the ticket?', 'Was the ticket left by Kevin?')\n",
      "----\n"
     ]
    }
   ],
   "source": [
    "data = editor.template((\n",
    "    'Did {first_name} {verb[0]} the {obj}?',\n",
    "    'Was the {obj} {verb[1]} by {first_name}?'\n",
    "),\n",
    "    verb=verbs,\n",
    "    obj=obj,\n",
    "    remove_duplicates=True, \n",
    "    nsamples=1000)\n",
    "# data = [tuple(np.random.choice(x, 2, replace=False)) for x in data]\n",
    "test = MFT(data, labels=1)\n",
    "test.run(new_pp)\n",
    "test.summary(n=3)"
   ]
  },
  {
   "cell_type": "code",
   "execution_count": 93,
   "metadata": {},
   "outputs": [
    {
     "name": "stdout",
     "output_type": "stream",
     "text": [
      "Predicting 1000 examples\n",
      "Test cases:      1000\n",
      "Fails (rate):    944 (94.4%)\n",
      "\n",
      "Example fails:\n",
      "0.9 ('Did Sara lose the island?', 'Was Sara lost by the island?')\n",
      "----\n",
      "1.0 ('Did Nathan use the ticket?', 'Was Nathan used by the ticket?')\n",
      "----\n",
      "1.0 ('Did Adam buy the boat?', 'Was Adam bought by the boat?')\n",
      "----\n"
     ]
    }
   ],
   "source": [
    "data = editor.template((\n",
    "    'Did {first_name} {verb[0]} the {obj}?',\n",
    "    'Was {first_name} {verb[1]} by the {obj}?'\n",
    "),\n",
    "    verb=verbs,\n",
    "    obj=obj,\n",
    "    remove_duplicates=True, \n",
    "    nsamples=1000)\n",
    "# data = [tuple(np.random.choice(x, 2, replace=False)) for x in data]\n",
    "test = MFT(data, labels=0)\n",
    "test.run(new_pp)\n",
    "test.summary(n=3)"
   ]
  },
  {
   "cell_type": "markdown",
   "metadata": {},
   "source": [
    "With people"
   ]
  },
  {
   "cell_type": "code",
   "execution_count": 94,
   "metadata": {},
   "outputs": [
    {
     "name": "stdout",
     "output_type": "stream",
     "text": [
      "know, love, marry, hate, kill, like, want, remember, and, have, see, or, find, meet, choose, Know, date, miss, need, recognize, tell, Love, deserve, understand, prefer, leave, get, mention, trust, blame, forgive, support, murder, kidnap, accept, follow, mean, beat, survive, adopt, kiss, reject, take, hurt, notice, own, /, ask, save, dislike, resemble, visit, become, bother, recognise, Want, Remember, believe, call, ,, pursue, hit, ?, attack, rape, be, help, Like, contact, use, confront, adore, married, catch, fear, divorce, crush, clone, pick, invite, respect, suspect, regret, despise, Hate, stalk, eat, hire, KILL, killed, include, betray, resent, touch, &, protect, rescue, shoot, WANT, wed\n"
     ]
    }
   ],
   "source": [
    "print(', '.join(editor.suggest('Does {first_name} {bert} {first_name2}?', remove_duplicates=True)[:100]))"
   ]
  },
  {
   "cell_type": "code",
   "execution_count": 95,
   "metadata": {},
   "outputs": [
    {
     "name": "stdout",
     "output_type": "stream",
     "text": [
      "Predicting 994 examples\n",
      "Test cases:      994\n",
      "Fails (rate):    665 (66.9%)\n",
      "\n",
      "Example fails:\n",
      "0.2 ('Does Jonathan attack Jennifer?', 'Is Jennifer attacked by Jonathan?')\n",
      "----\n",
      "0.0 ('Does Mark hate David?', 'Is David hated by Mark?')\n",
      "----\n",
      "0.2 ('Does Nicole blame Sara?', 'Is Sara blamed by Nicole?')\n",
      "----\n"
     ]
    }
   ],
   "source": [
    "pverb = ['love', 'hate', 'like', 'remember', 'recognize', 'trust', 'deserve', 'understand', 'blame', 'dislike', 'prefer', 'follow', 'notice', 'hurt', 'bother', 'support', 'believe', 'accept', 'attack']\n",
    "a = pattern.en.tenses('stolen')[0]\n",
    "pverb = [(v, pattern.en.conjugate(v, *a)) for v in pverb]\n",
    "data = editor.template((\n",
    "    'Does {first_name} {verb[0]} {first_name2}?',\n",
    "    'Is {first_name2} {verb[1]} by {first_name}?',\n",
    "),\n",
    "    verb=pverb,\n",
    "    obj=obj,\n",
    "    remove_duplicates=True, \n",
    "    nsamples=1000)\n",
    "# data = [tuple(np.random.choice(x, 2, replace=False)) for x in data]\n",
    "test = MFT(data, labels=1)\n",
    "test.run(new_pp)\n",
    "test.summary(n=3)"
   ]
  },
  {
   "cell_type": "code",
   "execution_count": 96,
   "metadata": {},
   "outputs": [
    {
     "name": "stdout",
     "output_type": "stream",
     "text": [
      "Predicting 993 examples\n",
      "Test cases:      993\n",
      "Fails (rate):    973 (98.0%)\n",
      "\n",
      "Example fails:\n",
      "0.9 ('Does Brittany recognize Sophia?', 'Is Brittany recognized by Sophia?')\n",
      "----\n",
      "0.9 ('Does Jason hurt Samantha?', 'Is Jason hurt by Samantha?')\n",
      "----\n",
      "0.9 ('Does Andrea remember Anthony?', 'Is Andrea remembered by Anthony?')\n",
      "----\n"
     ]
    }
   ],
   "source": [
    "pverb = ['love', 'hate', 'like', 'remember', 'recognize', 'trust', 'deserve', 'understand', 'blame', 'dislike', 'prefer', 'follow', 'notice', 'hurt', 'bother', 'support', 'believe', 'accept', 'attack']\n",
    "a = pattern.en.tenses('stolen')[0]\n",
    "pverb = [(v, pattern.en.conjugate(v, *a)) for v in pverb]\n",
    "data = editor.template((\n",
    "    'Does {first_name} {verb[0]} {first_name2}?',\n",
    "    'Is {first_name} {verb[1]} by {first_name2}?',\n",
    "),\n",
    "    verb=pverb,\n",
    "    obj=obj,\n",
    "    remove_duplicates=True, \n",
    "    nsamples=1000)\n",
    "# data = [tuple(np.random.choice(x, 2, replace=False)) for x in data]\n",
    "test = MFT(data, labels=0)\n",
    "test.run(new_pp)\n",
    "test.summary(n=3)"
   ]
  },
  {
   "cell_type": "code",
   "execution_count": null,
   "metadata": {},
   "outputs": [],
   "source": []
  },
  {
   "cell_type": "code",
   "execution_count": null,
   "metadata": {},
   "outputs": [],
   "source": []
  }
 ],
 "metadata": {
  "kernelspec": {
   "display_name": "checklist",
   "language": "python",
   "name": "checklist"
  },
  "language_info": {
   "codemirror_mode": {
    "name": "ipython",
    "version": 3
   },
   "file_extension": ".py",
   "mimetype": "text/x-python",
   "name": "python",
   "nbconvert_exporter": "python",
   "pygments_lexer": "ipython3",
   "version": "3.6.8"
  }
 },
 "nbformat": 4,
 "nbformat_minor": 2
}
