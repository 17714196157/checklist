{
 "cells": [
  {
   "cell_type": "code",
   "execution_count": 3,
   "metadata": {},
   "outputs": [],
   "source": [
    "%load_ext autoreload\n",
    "%autoreload 2\n",
    "\n",
    "import checklist\n",
    "import spacy\n",
    "import itertools\n",
    "\n",
    "import checklist.editor\n",
    "import checklist.text_generation\n",
    "from checklist.test_types import MFT, INV, DIR\n",
    "from checklist.expect import Expect\n",
    "from checklist.test_suite import TestSuite\n",
    "import numpy as np\n",
    "import spacy\n",
    "from checklist.perturb import Perturb\n"
   ]
  },
  {
   "cell_type": "code",
   "execution_count": 4,
   "metadata": {},
   "outputs": [],
   "source": [
    "from checklist.pred_wrapper import PredictorWrapper\n",
    "\n",
    "import sys\n",
    "sys.path.append('/home/marcotcr/work/ml-tests/')\n",
    "from mltests import model_wrapper\n",
    "model = model_wrapper.ModelWrapper()\n",
    "new_pp = PredictorWrapper.wrap_softmax(model.predict_proba)\n"
   ]
  },
  {
   "cell_type": "code",
   "execution_count": 5,
   "metadata": {},
   "outputs": [
    {
     "data": {
      "text/plain": [
       "<checklist.text_generation.TextGenerator at 0x7ff4896aa748>"
      ]
     },
     "execution_count": 5,
     "metadata": {},
     "output_type": "execute_result"
    }
   ],
   "source": [
    "editor = checklist.editor.Editor()\n",
    "editor.tg"
   ]
  },
  {
   "cell_type": "code",
   "execution_count": 6,
   "metadata": {},
   "outputs": [],
   "source": [
    "nlp = spacy.load('en_core_web_sm')"
   ]
  },
  {
   "cell_type": "code",
   "execution_count": 7,
   "metadata": {},
   "outputs": [
    {
     "name": "stdout",
     "output_type": "stream",
     "text": [
      "\"\tWhat does the Quran say about homosexuality?\t0\n",
      "\n"
     ]
    }
   ],
   "source": [
    "qs = []\n",
    "labels = []\n",
    "all_questions = set()\n",
    "for x in open('/home/marcotcr/datasets/glue/glue_data/QQP/dev.tsv').readlines()[1:]:\n",
    "    try:\n",
    "        q1, q2, label = x.strip().split('\\t')[3:]\n",
    "    except:\n",
    "        print(x)\n",
    "        continue\n",
    "    all_questions.add(q1)\n",
    "    all_questions.add(q2)\n",
    "    qs.append((q1, q2))\n",
    "    labels.append(label)\n",
    "labels = np.array(labels).astype(int)"
   ]
  },
  {
   "cell_type": "code",
   "execution_count": 8,
   "metadata": {},
   "outputs": [],
   "source": [
    "import pickle\n",
    "spacy_map =  pickle.load(open('/home/marcotcr/tmp/processed_qqp.pkl', 'rb'))"
   ]
  },
  {
   "cell_type": "code",
   "execution_count": 9,
   "metadata": {},
   "outputs": [],
   "source": [
    "parsed_qs = [(spacy_map[q[0]], spacy_map[q[1]]) for q in qs]"
   ]
  },
  {
   "cell_type": "code",
   "execution_count": 11,
   "metadata": {},
   "outputs": [],
   "source": [
    "suite = TestSuite()"
   ]
  },
  {
   "cell_type": "markdown",
   "metadata": {},
   "source": [
    "## Vocabulary"
   ]
  },
  {
   "cell_type": "code",
   "execution_count": 12,
   "metadata": {},
   "outputs": [
    {
     "name": "stdout",
     "output_type": "stream",
     "text": [
      "journalist, historian, nurse, engineer, accountant, attorney, architect, artist, editor, actor, actress, analyst, intern, economist, entrepreneur, author, assistant, interpreter, investor, executive, organizer, escort, educator, agent, academic, activist, advisor, administrator, investigator, auditor\n"
     ]
    }
   ],
   "source": [
    "professions = editor.suggest('{first_name} works as {a:bert}.')[:30]\n",
    "print(', '.join(professions))"
   ]
  },
  {
   "cell_type": "code",
   "execution_count": 13,
   "metadata": {},
   "outputs": [],
   "source": [
    "professions = editor.suggest('{first_name} works as {a:bert}.')[:30]\n",
    "professions += editor.suggest('{first_name} {last_name} works as {a:bert}.')[:30]\n",
    "professions = list(set(professions))\n",
    "# professions"
   ]
  },
  {
   "cell_type": "code",
   "execution_count": 14,
   "metadata": {},
   "outputs": [
    {
     "name": "stdout",
     "output_type": "stream",
     "text": [
      "guy, player, writer, example, actor, read, person, friend, hitter, kid, shooter, one, pick, coach, character, shot, man, fighter, teacher, artist, reader, student, reporter, bet, choice, name, lawyer, candidate, quarterback, comedian\n"
     ]
    }
   ],
   "source": [
    "print(', '.join(editor.suggest('{first_name} {last_name} is a good {bert}.')[:30]))"
   ]
  },
  {
   "cell_type": "code",
   "execution_count": 15,
   "metadata": {},
   "outputs": [],
   "source": [
    "other_nouns = ['player', 'person', 'friend', 'kid', 'candidate']\n",
    "nouns = list(set(professions + other_nouns))"
   ]
  },
  {
   "cell_type": "code",
   "execution_count": 16,
   "metadata": {},
   "outputs": [
    {
     "name": "stdout",
     "output_type": "stream",
     "text": [
      "actual, good, honest, outstanding, elite, real, ordinary, average, effective, exceptional, intelligent, successful, FBI, bad, gifted, ethical, important, excellent, independent, active, American, accomplished, abusive, accurate, incompetent, true, legitimate, LGBT, aggressive, equal, impressive, qualified, criminal, international, great, better, decent, public, career, experienced, interesting, published, unusual, outside, perfect, black, adequate, influential, regular, evil\n"
     ]
    }
   ],
   "source": [
    "print(', '.join(editor.suggest('Is {first_name} {last_name} {a:bert} {noun}?', noun=nouns)[:50]))"
   ]
  },
  {
   "cell_type": "code",
   "execution_count": 17,
   "metadata": {},
   "outputs": [],
   "source": [
    "adjs = ['effective', 'actual', 'American', 'active', 'honest', 'excellent', 'elite', 'acomplished', 'official', 'outstanding', 'experienced', 'independent', 'international', 'aspiring', 'average', 'good', 'amazing', 'exceptional', 'successful', 'accredited', 'English', 'real', 'bad', 'terrible', 'fake', 'unusual', 'influential', 'incompetent']"
   ]
  },
  {
   "cell_type": "code",
   "execution_count": 19,
   "metadata": {},
   "outputs": [],
   "source": [
    "t = editor.template(('Is {first_name} {last_name} {a:noun}?', 'Is {first_name} {last_name} {a:adj} {noun}?'),\n",
    "                noun=nouns,\n",
    "                adj=adjs,\n",
    "                remove_duplicates=True, \n",
    "                nsamples=1000)\n",
    "test = MFT(**t, labels=0)\n",
    "# test.run(new_pp)\n",
    "# test.summary(n=3)\n",
    "suite.add(test, 'Adding an adjective makes questions non-duplicates', 'Vocabulary', 'TODO_DESCRIPTION')"
   ]
  },
  {
   "cell_type": "markdown",
   "metadata": {},
   "source": [
    "Is person {a1, a2}?"
   ]
  },
  {
   "cell_type": "code",
   "execution_count": 20,
   "metadata": {},
   "outputs": [
    {
     "name": "stdout",
     "output_type": "stream",
     "text": [
      "dead, gay, alive, right, Dead, real, Jewish, mad, wrong, correct, insane, back, crazy, related, OK, Right, immortal, evil, straight, interested, famous, racist, sane, next, President, alone, lying, relevant, okay, DEAD, bisexual, God, angry, guilty, ok, Alone, Wrong, ready, gone, innocent, King, human, Muslim, Black, assassinated, Batman, here, Real, dying, involved, homosexual, special, Famous, happy, free, murdered, Superman, president, joking, White, Back, Gay, Catholic, cool, safe, resurrected, killed, American, missing, corrupt, cursed, alright, single, Crazy, Mad, Satan, Missing, legit, shot, Evil, finished, worthy, doomed, sincere, aware, autistic, responsible, dangerous, Christian, Cool, Immortal, radioactive, remembered, Next, serious, cheating, different, popular, Legend, listening, now, illegitimate, homophobic, kidding, sick, smart, connected, trustworthy, Innocent, legal\n",
      "\n",
      "racist, atheist, outlaw, asshole, actor, ape, American, inspiration, idiot, orphan, Christian, ancestor, artist, Avenger, anomaly, icon, anarchist, homosexual, influence, alien, inventor, author, Alien, android, immortal, Immortal, idol, Indian, angel, assassin, African, Arab, intellectual, adult, extremist, Assassin, imperialist, alcoholic, Icon, rapist, example, Italian, Australian, archetype, Armenian, exception, murderer, activist, astronaut, expert\n"
     ]
    }
   ],
   "source": [
    "print(', '.join(editor.suggest('Is John Wayne {bert}?')))\n",
    "print()\n",
    "print(', '.join(editor.suggest('Is John Wayne {a:bert}?')[:50]))"
   ]
  },
  {
   "cell_type": "code",
   "execution_count": 21,
   "metadata": {},
   "outputs": [],
   "source": [
    "adjs_without_overlap = ['dead', 'gay', 'Jewish', 'Christian', 'American', 'mad', 'immortal', 'evil', 'famous', 'racist', 'Muslim', 'white', 'black', 'English', 'autistic', 'Australian', 'trustworthy', 'an atheist', 'an anarchist', 'an inventor', 'Indian', 'Armenian', 'an astronaut', 'an immigrant']"
   ]
  },
  {
   "cell_type": "code",
   "execution_count": 25,
   "metadata": {},
   "outputs": [],
   "source": [
    "t = editor.template((\n",
    "    'Is {first_name} {last_name} {adj1}?',\n",
    "    'Is {first_name} {last_name} {adj2}?',\n",
    "    ),\n",
    "    adj=adjs_without_overlap,\n",
    "    remove_duplicates=True, \n",
    "    nsamples=1000)\n",
    "test = MFT(**t, labels=0)\n",
    "# test.run(new_pp)\n",
    "# test.summary(n=3)\n",
    "suite.add(test, 'non-overlapping adjectives, same first and last name', 'Vocabulary', 'TODO_DESCRIPTION')"
   ]
  },
  {
   "cell_type": "markdown",
   "metadata": {},
   "source": [
    "person1 and person2 are different by first and last name"
   ]
  },
  {
   "cell_type": "code",
   "execution_count": 26,
   "metadata": {},
   "outputs": [
    {
     "name": "stdout",
     "output_type": "stream",
     "text": [
      "Predicting 983 examples\n",
      "Test cases:      983\n",
      "Fails (rate):    49 (5.0%)\n",
      "\n",
      "Example fails:\n",
      "0.9 ('Is Danielle Murphy Muslim?', 'Is Amber Cooper Muslim?')\n",
      "----\n",
      "0.9 ('Is Hannah Garcia Muslim?', 'Is Emily Gutierrez Muslim?')\n",
      "----\n",
      "1.0 ('Is Stephanie Turner white?', 'Is Kayla Bailey white?')\n",
      "----\n"
     ]
    }
   ],
   "source": [
    "t = editor.template((\n",
    "    'Is {first_name1} {last_name1} {adj}?',\n",
    "    'Is {first_name2} {last_name2} {adj}?',\n",
    "    ),\n",
    "    adj=adjs_without_overlap,\n",
    "    remove_duplicates=True, \n",
    "    nsamples=1000)\n",
    "test = MFT(**t, labels=0)\n",
    "# test.run(new_pp)\n",
    "# test.summary(n=3)\n",
    "suite.add(test, 'same adjectives, different first and last name', 'Vocabulary', 'TODO_DESCRIPTION')"
   ]
  },
  {
   "cell_type": "markdown",
   "metadata": {},
   "source": [
    "person1 and person2 are different by first name only"
   ]
  },
  {
   "cell_type": "code",
   "execution_count": 27,
   "metadata": {},
   "outputs": [
    {
     "name": "stdout",
     "output_type": "stream",
     "text": [
      "Predicting 991 examples\n",
      "Test cases:      991\n",
      "Fails (rate):    103 (10.4%)\n",
      "\n",
      "Example fails:\n",
      "0.9 ('Is Joshua Ortiz racist?', 'Is Sean Ortiz racist?')\n",
      "----\n",
      "0.9 ('Is Jennifer Perry an atheist?', 'Is Stephanie Perry an atheist?')\n",
      "----\n",
      "0.7 ('Is Natalie Baker Armenian?', 'Is Taylor Baker Armenian?')\n",
      "----\n"
     ]
    }
   ],
   "source": [
    "t = editor.template((\n",
    "    'Is {first_name} {last_name} {adj}?',\n",
    "    'Is {first_name2} {last_name} {adj}?',\n",
    "    ),\n",
    "    adj=adjs_without_overlap,\n",
    "    remove_duplicates=True, \n",
    "    nsamples=1000)\n",
    "test = MFT(**t, labels=0)\n",
    "# test.run(new_pp)\n",
    "# test.summary(n=3)\n",
    "suite.add(test, 'same adjectives, different first but same last name', 'Vocabulary', 'TODO_DESCRIPTION')"
   ]
  },
  {
   "cell_type": "markdown",
   "metadata": {},
   "source": [
    "person1 and person2 are different by last name only"
   ]
  },
  {
   "cell_type": "code",
   "execution_count": 28,
   "metadata": {},
   "outputs": [
    {
     "name": "stdout",
     "output_type": "stream",
     "text": [
      "Predicting 986 examples\n",
      "Test cases:      986\n",
      "Fails (rate):    72 (7.3%)\n",
      "\n",
      "Example fails:\n",
      "0.9 ('Is Megan Hernandez white?', 'Is Megan Johnson white?')\n",
      "----\n",
      "0.8 ('Is Olivia Lee Indian?', 'Is Olivia Allen Indian?')\n",
      "----\n",
      "1.0 ('Is Rebecca Campbell white?', 'Is Rebecca Howard white?')\n",
      "----\n"
     ]
    }
   ],
   "source": [
    "t = editor.template((\n",
    "    'Is {first_name} {last_name} {adj}?',\n",
    "    'Is {first_name} {last_name2} {adj}?',\n",
    "    ),\n",
    "    adj=adjs_without_overlap,\n",
    "    remove_duplicates=True, \n",
    "    nsamples=1000)\n",
    "test = MFT(**t, labels=0)\n",
    "# test.run(new_pp)\n",
    "# test.summary(n=3)\n",
    "suite.add(test, 'same adjectives, same first but different last name', 'Vocabulary', 'TODO_DESCRIPTION')"
   ]
  },
  {
   "cell_type": "markdown",
   "metadata": {},
   "source": [
    "## Robustness"
   ]
  },
  {
   "cell_type": "code",
   "execution_count": 29,
   "metadata": {},
   "outputs": [],
   "source": [
    "def wrap_apply_to_each(fn, both=False, *args, **kwargs):\n",
    "    def new_fn(qs, *args, **kwargs):\n",
    "        q1, q2 = qs\n",
    "        ret = []\n",
    "        fnq1 = fn(q1, *args, **kwargs)\n",
    "        fnq2 = fn(q2, *args, **kwargs)\n",
    "        if type(fnq1) != list:\n",
    "            fnq1 = [fnq1]\n",
    "        if type(fnq2) != list:\n",
    "            fnq2 = [fnq2]\n",
    "        ret.extend([(x, str(q2)) for x in fnq1])\n",
    "        ret.extend([(str(q1), x) for x in fnq2])\n",
    "        if both:\n",
    "            ret.extend([(x, x2) for x, x2 in itertools.product(fnq1, fnq2)])\n",
    "        return [x for x in ret if x[0] and x[1]]\n",
    "    return new_fn\n",
    "def wrap_apply_to_both(fn, *args, **kwargs):\n",
    "    def new_fn(qs, *args, **kwargs):\n",
    "        q1, q2 = qs\n",
    "        ret = []\n",
    "        fnq1 = fn(q1, *args, **kwargs)\n",
    "        fnq2 = fn(q2, *args, **kwargs)\n",
    "        if type(fnq1) != list:\n",
    "            fnq1 = [fnq1]\n",
    "        if type(fnq2) != list:\n",
    "            fnq2 = [fnq2]\n",
    "        ret.extend([(x, x2) for x, x2 in itertools.product(fnq1, fnq2)])\n",
    "        return [x for x in ret if x[0] and x[1]]\n",
    "    return new_fn"
   ]
  },
  {
   "cell_type": "markdown",
   "metadata": {},
   "source": [
    "Typos"
   ]
  },
  {
   "cell_type": "code",
   "execution_count": 42,
   "metadata": {},
   "outputs": [],
   "source": [
    "t = Perturb.perturb(qs, wrap_apply_to_each(Perturb.add_typos), nsamples=500)\n",
    "test = INV(t.data)\n",
    "# test.run(new_pp)\n",
    "# test.summary(3)\n",
    "suite.add(test, 'add one typo', 'Robustness', 'TODO_DESCRIPTION')"
   ]
  },
  {
   "cell_type": "markdown",
   "metadata": {},
   "source": [
    "Contractions"
   ]
  },
  {
   "cell_type": "code",
   "execution_count": 44,
   "metadata": {},
   "outputs": [
    {
     "name": "stdout",
     "output_type": "stream",
     "text": [
      "Predicting 1479 examples\n",
      "Test cases:      500\n",
      "Fails (rate):    13 (2.6%)\n",
      "\n",
      "Example fails:\n",
      "0.6 ('Can any body explain about meshing in FEA?', \"Altair Hypermesh: What is meshing in ansys? Please answer in detail in lay man's language?\")\n",
      "0.4 ('Can any body explain about meshing in FEA?', \"Altair Hypermesh: What's meshing in ansys? Please answer in detail in lay man's language?\")\n",
      "\n",
      "----\n",
      "0.5 ('How do you know if someone is following you back on Snapchat?', \"How do you check if someone is following you on Snapchat if you don't follow them?\")\n",
      "0.1 ('How do you know if someone is following you back on Snapchat?', 'How do you check if someone is following you on Snapchat if you do not follow them?')\n",
      "\n",
      "----\n",
      "0.7 (\"Who was the kindest/friendliest celebrity you've ever met?\", \"Who's the nicest celebrity you've ever met?\")\n",
      "0.4 ('Who was the kindest/friendliest celebrity you have ever met?', 'Who is the nicest celebrity you have ever met?')\n",
      "0.5 (\"Who was the kindest/friendliest celebrity you've ever met?\", 'Who is the nicest celebrity you have ever met?')\n",
      "\n",
      "----\n"
     ]
    }
   ],
   "source": [
    "t = Perturb.perturb(qs, wrap_apply_to_each(Perturb.contractions, both=True), nsamples=500)\n",
    "test = INV(**t)\n",
    "test.run(new_pp)\n",
    "test.summary(3)\n",
    "suite.add(test, 'contractions', 'Robustness', 'TODO_DESCRIPTION')"
   ]
  },
  {
   "cell_type": "markdown",
   "metadata": {},
   "source": [
    "## Ner"
   ]
  },
  {
   "cell_type": "markdown",
   "metadata": {},
   "source": [
    "### Change same name, number, location in both"
   ]
  },
  {
   "cell_type": "markdown",
   "metadata": {},
   "source": [
    "Names"
   ]
  },
  {
   "cell_type": "code",
   "execution_count": 143,
   "metadata": {},
   "outputs": [],
   "source": [
    "def change_both_wrapper(fn):\n",
    "    def change_both(qs):\n",
    "        q1, q2 = qs\n",
    "        seed = np.random.randint(100)\n",
    "        c1 = fn(q1, seed=seed, meta=True)\n",
    "        c2 = fn(q2, seed=seed, meta=True)\n",
    "        if not c1 or not c2:\n",
    "            return\n",
    "        c1, m1 = c1\n",
    "        c2, m2 = c2\n",
    "        return [(q1, q2) for q1, q2, m1, m2 in zip(c1, c2, m1, m2) if m1 == m2]\n",
    "    return change_both\n",
    "\n",
    "def change_each_wrapper(fn):\n",
    "    def change_one(qs, **kwargs):\n",
    "        q1, q2 = qs\n",
    "        seed = np.random.randint(100)\n",
    "        c1 = fn(q1, seed=seed, meta=True, **kwargs)\n",
    "        c2 = fn(q2, seed=seed, meta=True, **kwargs)\n",
    "        if not c1 or not c2:\n",
    "            return\n",
    "        c1, m1 = c1\n",
    "        c2, m2 = c2\n",
    "        ret = []\n",
    "        ret.extend([(q1_, str(q2)) for q1_, m1_ in zip(c1, m1) if m1_[0] in str(q2)])\n",
    "        ret.extend([(str(q1), q2_) for q2_, m2_ in zip(c2, m2) if m2_[0] in str(q1)])\n",
    "        return ret\n",
    "    return change_one\n",
    "    \n",
    "t = Perturb.perturb(parsed_qs, change_both_wrapper(Perturb.change_names), nsamples=500)\n",
    "test = INV(**t)\n",
    "test.run(new_pp)\n",
    "test.summary(3)\n",
    "suite.add(test, 'change same name in both questions', 'NER', 'TODO_DESCRIPTION')"
   ]
  },
  {
   "cell_type": "markdown",
   "metadata": {},
   "source": [
    "Locs"
   ]
  },
  {
   "cell_type": "code",
   "execution_count": 47,
   "metadata": {},
   "outputs": [
    {
     "name": "stdout",
     "output_type": "stream",
     "text": [
      "Predicting 5092 examples\n",
      "Test cases:      500\n",
      "Fails (rate):    52 (10.4%)\n",
      "\n",
      "Example fails:\n",
      "0.9 ('Is it safe for non-Muslims foreigners to visit Pakistan?', 'How safe is travelling in Pakistan?')\n",
      "0.2 ('Is it safe for non-Muslims foreigners to visit Japan?', 'How safe is travelling in Japan?')\n",
      "0.3 ('Is it safe for non-Muslims foreigners to visit Australia?', 'How safe is travelling in Australia?')\n",
      "\n",
      "----\n",
      "0.0 ('What does Pakistani people think about India?', 'What do pakisthani people think about India?')\n",
      "1.0 ('What does Pakistani people think about Netherlands?', 'What do pakisthani people think about Netherlands?')\n",
      "0.9 ('What does Pakistani people think about Gibraltar?', 'What do pakisthani people think about Gibraltar?')\n",
      "\n",
      "----\n",
      "1.0 ('Which are the best thrilling Hollywood movies?', 'What are the best Hollywood movies?')\n",
      "0.2 ('Which are the best thrilling Orland Park movies?', 'What are the best Orland Park movies?')\n",
      "0.4 ('Which are the best thrilling Lakeland movies?', 'What are the best Lakeland movies?')\n",
      "\n",
      "----\n"
     ]
    }
   ],
   "source": [
    "t = Perturb.perturb(parsed_qs, change_both_wrapper(Perturb.change_location), nsamples=500)\n",
    "test = INV(**t)\n",
    "test.run(new_pp)\n",
    "test.summary(3)\n",
    "suite.add(test, 'change same location in both questions', 'NER', 'TODO_DESCRIPTION')"
   ]
  },
  {
   "cell_type": "markdown",
   "metadata": {},
   "source": [
    "Numbers"
   ]
  },
  {
   "cell_type": "code",
   "execution_count": 53,
   "metadata": {},
   "outputs": [
    {
     "name": "stdout",
     "output_type": "stream",
     "text": [
      "Predicting 4958 examples\n",
      "Test cases:      500\n",
      "Fails (rate):    29 (5.8%)\n",
      "\n",
      "Example fails:\n",
      "0.7 ('What changes can we expect in education systems in the next 50 years?', 'How will teaching and the classroom change in the next 30-50 years?')\n",
      "0.1 ('What changes can we expect in education systems in the next 54 years?', 'How will teaching and the classroom change in the next 30-54 years?')\n",
      "\n",
      "----\n",
      "0.2 ('How do I get started for cds exam 2016?', 'How I can apply for cds exam 2016?')\n",
      "0.9 ('How do I get started for cds exam 1900?', 'How I can apply for cds exam 1900?')\n",
      "0.7 ('How do I get started for cds exam 1862?', 'How I can apply for cds exam 1862?')\n",
      "\n",
      "----\n",
      "0.4 ('Which is better iPhone 6s+ or iPhone 7?', 'Which is the best phone iPhone 6s plus or 7?')\n",
      "0.8 ('Which is better iPhone 6s+ or iPhone 6?', 'Which is the best phone iPhone 6s plus or 6?')\n",
      "0.8 ('Which is better iPhone 6s+ or iPhone 6?', 'Which is the best phone iPhone 6s plus or 6?')\n",
      "\n",
      "----\n"
     ]
    }
   ],
   "source": [
    "t = Perturb.perturb(parsed_qs, change_both_wrapper(Perturb.change_number), nsamples=500)\n",
    "test = INV(**t)\n",
    "test.run(new_pp)\n",
    "test.summary(3)\n",
    "suite.add(test, 'change same number in both questions', 'NER', 'TODO_DESCRIPTION')"
   ]
  },
  {
   "cell_type": "markdown",
   "metadata": {},
   "source": [
    "### Change name, loc, number in only one where orig prediction is duplicate"
   ]
  },
  {
   "cell_type": "markdown",
   "metadata": {},
   "source": [
    "Changing only first names"
   ]
  },
  {
   "cell_type": "code",
   "execution_count": 144,
   "metadata": {},
   "outputs": [
    {
     "name": "stdout",
     "output_type": "stream",
     "text": [
      "Predicting 9948 examples\n",
      "Test cases:      500\n",
      "After filtering: 289 (57.8%)\n",
      "Fails (rate):    256 (88.6%)\n",
      "\n",
      "Example fails:\n",
      "1.0 ('Is Star Wars or Harry Potter a bigger franchise?', 'What is a bigger franchise universe: Harry Potter or Star Wars?')\n",
      "1.0 ('Is Star Wars or Harry Potter a bigger franchise?', 'What is a bigger franchise universe: Jeremiah Potter or Star Wars?')\n",
      "1.0 ('Is Star Wars or Harry Potter a bigger franchise?', 'What is a bigger franchise universe: Aaron Potter or Star Wars?')\n",
      "\n",
      "----\n",
      "1.0 ('What should I do if Donald Trump wins the election?', 'What will you do now that Donald Trump is the President?')\n",
      "1.0 ('What should I do if Donald Trump wins the election?', 'What will you do now that Matthew Trump is the President?')\n",
      "1.0 ('What should I do if Donald Trump wins the election?', 'What will you do now that Bryan Trump is the President?')\n",
      "\n",
      "----\n",
      "1.0 ('What will happen if Donald Trump wins?', 'Why is Donald Trump supported so much? What will happen if he wins the election?')\n",
      "1.0 ('What will happen if Donald Trump wins?', 'Why is George Trump supported so much? What will happen if he wins the election?')\n",
      "1.0 ('What will happen if Donald Trump wins?', 'Why is Luke Trump supported so much? What will happen if he wins the election?')\n",
      "\n",
      "----\n"
     ]
    }
   ],
   "source": [
    "# t = Perturb.perturb(parsed_qs, wrap_apply_to_each(Perturb.change_names), nsamples=1500, first_only=True)\n",
    "t = Perturb.perturb(parsed_qs, change_each_wrapper(Perturb.change_names), nsamples=500, first_only=True)\n",
    "expect_fn = Expect.eq(0)\n",
    "expect_fn = Expect.slice_orig(expect_fn, lambda orig, *args: orig == 1)\n",
    "test = DIR(**t, expect=expect_fn)\n",
    "test.run(new_pp)\n",
    "test.summary(3)\n"
   ]
  },
  {
   "cell_type": "markdown",
   "metadata": {},
   "source": [
    "Changing first and last names"
   ]
  },
  {
   "cell_type": "code",
   "execution_count": 59,
   "metadata": {},
   "outputs": [
    {
     "name": "stdout",
     "output_type": "stream",
     "text": [
      "Predicting 23540 examples\n",
      "Test cases:      1500\n",
      "After filtering: 598 (39.9%)\n",
      "Fails (rate):    279 (46.7%)\n",
      "\n",
      "Example fails:\n",
      "1.0 ('Donald Trump says he saw thousands cheering in New Jersey when the Twin Towers came down on 9/11. Is this claim likely to be accurate?', 'Is Donald Trump lying about seeing thousands and thousands of Muslims cheering in New Jersey when the World Trade Center came down on 9/11?')\n",
      "0.8 ('David Ross says he saw thousands cheering in New Jersey when the Twin Towers came down on 9/11. Is this claim likely to be accurate?', 'Is Donald Trump lying about seeing thousands and thousands of Muslims cheering in New Jersey when the World Trade Center came down on 9/11?')\n",
      "0.7 ('Daniel Price says he saw thousands cheering in New Jersey when the Twin Towers came down on 9/11. Is this claim likely to be accurate?', 'Is Donald Trump lying about seeing thousands and thousands of Muslims cheering in New Jersey when the World Trade Center came down on 9/11?')\n",
      "\n",
      "----\n",
      "1.0 ('\"Is it possible that Donald Trump is campaigning very badly \"\"intentionally\"\" in order to Hillary Clinton can win?\"', 'Is it possible that Trump entered the Presidential campaign to ensure that Hillary Clinton wins?')\n",
      "1.0 ('\"Is it possible that Donald Trump is campaigning very badly \"\"intentionally\"\" in order to Jessica Stewart can win?\"', 'Is it possible that Trump entered the Presidential campaign to ensure that Hillary Clinton wins?')\n",
      "1.0 ('\"Is it possible that Donald Trump is campaigning very badly \"\"intentionally\"\" in order to Melissa Morris can win?\"', 'Is it possible that Trump entered the Presidential campaign to ensure that Hillary Clinton wins?')\n",
      "\n",
      "----\n",
      "1.0 ('What side dishes should be served with Mac and cheese?', \"What type of side dish goes great with Mac N' Cheese?\")\n",
      "1.0 ('What side dishes should be served with Mac and cheese?', \"What type of side dish goes great with Mac N' Cheese?\")\n",
      "1.0 ('What side dishes should be served with Mac and cheese?', \"What type of side dish goes great with Mac N' Cheese?\")\n",
      "\n",
      "----\n"
     ]
    }
   ],
   "source": [
    "# t = Perturb.perturb(parsed_qs, wrap_apply_to_each(Perturb.change_names), nsamples=1500)\n",
    "t = Perturb.perturb(parsed_qs, change_each_wrapper(Perturb.change_names), nsamples=1500)\n",
    "test = DIR(**t, expect=expect_fn)\n",
    "test.run(new_pp)\n",
    "test.summary(3)\n",
    "suite.add(test, 'change first and last name in only one question', 'NER', 'TODO_DESCRIPTION')\n"
   ]
  },
  {
   "cell_type": "markdown",
   "metadata": {},
   "source": [
    "Locs"
   ]
  },
  {
   "cell_type": "code",
   "execution_count": 61,
   "metadata": {},
   "outputs": [
    {
     "name": "stdout",
     "output_type": "stream",
     "text": [
      "Predicting 23080 examples\n",
      "Test cases:      1500\n",
      "After filtering: 491 (32.7%)\n",
      "Fails (rate):    219 (44.6%)\n",
      "\n",
      "Example fails:\n",
      "1.0 ('Is CAT after b.tech in mechanical engineering useful?', 'Will I have a great career if I go for B.Tech in mechanical engineering in a state level college in India?')\n",
      "1.0 ('Is CAT after b.tech in mechanical engineering useful?', 'Will I have a great career if I go for B.Tech in mechanical engineering in a state level college in United States?')\n",
      "1.0 ('Is CAT after b.tech in mechanical engineering useful?', 'Will I have a great career if I go for B.Tech in mechanical engineering in a state level college in Georgia?')\n",
      "\n",
      "----\n",
      "1.0 ('Can the Supreme Court of India interfere on the banned of 500 and 1000 notes by the government?', 'Can supreme court in India cancel government decision on demonetization?')\n",
      "1.0 ('Can the Supreme Court of India interfere on the banned of 500 and 1000 notes by the government?', 'Can supreme court in St. Martin (French part) cancel government decision on demonetization?')\n",
      "1.0 ('Can the Supreme Court of India interfere on the banned of 500 and 1000 notes by the government?', 'Can supreme court in Nauru cancel government decision on demonetization?')\n",
      "\n",
      "----\n",
      "1.0 ('Reservation should be abolished?', 'Should reservation be removed from India?')\n",
      "1.0 ('Reservation should be abolished?', 'Should reservation be removed from Czech Republic?')\n",
      "1.0 ('Reservation should be abolished?', 'Should reservation be removed from Fiji?')\n",
      "\n",
      "----\n"
     ]
    }
   ],
   "source": [
    "# t = Perturb.perturb(parsed_qs, wrap_apply_to_each(Perturb.change_location), nsamples=1500)\n",
    "t = Perturb.perturb(parsed_qs, change_each_wrapper(Perturb.change_location), nsamples=1500)\n",
    "test = DIR(**t, expect=expect_fn)\n",
    "test.run(new_pp)\n",
    "test.summary(3)\n",
    "suite.add(test, 'change loc in only one question', 'NER', 'TODO_DESCRIPTION')"
   ]
  },
  {
   "cell_type": "markdown",
   "metadata": {},
   "source": [
    "numbers"
   ]
  },
  {
   "cell_type": "code",
   "execution_count": 145,
   "metadata": {},
   "outputs": [
    {
     "name": "stdout",
     "output_type": "stream",
     "text": [
      "Predicting 9519 examples\n",
      "Test cases:      500\n",
      "After filtering: 307 (61.4%)\n",
      "Fails (rate):    261 (85.0%)\n",
      "\n",
      "Example fails:\n",
      "1.0 ('Who is more likely to be the President of India in 2017?', 'Who should be elected as president of India in 2017?')\n",
      "1.0 ('Who is more likely to be the President of India in 2017?', 'Who should be elected as president of India in 2046?')\n",
      "1.0 ('Who is more likely to be the President of India in 2187?', 'Who should be elected as president of India in 2017?')\n",
      "\n",
      "----\n",
      "1.0 ('Which will be the best buy between Yamaha r3 and ninja 300?', 'Which one is better, yamaha r3 or kawasaki ninja 300?')\n",
      "1.0 ('Which will be the best buy between Yamaha r3 and ninja 300?', 'Which one is better, yamaha r3 or kawasaki ninja 301?')\n",
      "1.0 ('Which will be the best buy between Yamaha r3 and ninja 301?', 'Which one is better, yamaha r3 or kawasaki ninja 300?')\n",
      "\n",
      "----\n",
      "1.0 ('What will be the repercussions of banning Rs 500 and Rs 1000 notes on Indian economy?', 'How will the ban of 1000 and 500 rupee notes affect the Indian economy?')\n",
      "1.0 ('What will be the repercussions of banning Rs 500 and Rs 1000 notes on Indian economy?', 'How will the ban of 1092 and 500 rupee notes affect the Indian economy?')\n",
      "1.0 ('What will be the repercussions of banning Rs 500 and Rs 1000 notes on Indian economy?', 'How will the ban of 1000 and 504 rupee notes affect the Indian economy?')\n",
      "\n",
      "----\n"
     ]
    },
    {
     "ename": "Exception",
     "evalue": "There is already a test named change number in only one question suite. Run with overwrite=True to overwrite",
     "output_type": "error",
     "traceback": [
      "\u001b[0;31m---------------------------------------------------------------------------\u001b[0m",
      "\u001b[0;31mException\u001b[0m                                 Traceback (most recent call last)",
      "\u001b[0;32m<ipython-input-145-5e68b43749f4>\u001b[0m in \u001b[0;36m<module>\u001b[0;34m\u001b[0m\n\u001b[1;32m      4\u001b[0m \u001b[0mtest\u001b[0m\u001b[0;34m.\u001b[0m\u001b[0mrun\u001b[0m\u001b[0;34m(\u001b[0m\u001b[0mnew_pp\u001b[0m\u001b[0;34m)\u001b[0m\u001b[0;34m\u001b[0m\u001b[0;34m\u001b[0m\u001b[0m\n\u001b[1;32m      5\u001b[0m \u001b[0mtest\u001b[0m\u001b[0;34m.\u001b[0m\u001b[0msummary\u001b[0m\u001b[0;34m(\u001b[0m\u001b[0;36m3\u001b[0m\u001b[0;34m)\u001b[0m\u001b[0;34m\u001b[0m\u001b[0;34m\u001b[0m\u001b[0m\n\u001b[0;32m----> 6\u001b[0;31m \u001b[0msuite\u001b[0m\u001b[0;34m.\u001b[0m\u001b[0madd\u001b[0m\u001b[0;34m(\u001b[0m\u001b[0mtest\u001b[0m\u001b[0;34m,\u001b[0m \u001b[0;34m'change number in only one question'\u001b[0m\u001b[0;34m,\u001b[0m \u001b[0;34m'NER'\u001b[0m\u001b[0;34m,\u001b[0m \u001b[0;34m'TODO_DESCRIPTION'\u001b[0m\u001b[0;34m)\u001b[0m\u001b[0;34m\u001b[0m\u001b[0;34m\u001b[0m\u001b[0m\n\u001b[0m",
      "\u001b[0;32m~/work/checklist/checklist/test_suite.py\u001b[0m in \u001b[0;36madd\u001b[0;34m(self, test, name, capability, description, format_example_fn, print_fn, overwrite)\u001b[0m\n\u001b[1;32m     18\u001b[0m     \u001b[0;32mdef\u001b[0m \u001b[0madd\u001b[0m\u001b[0;34m(\u001b[0m\u001b[0mself\u001b[0m\u001b[0;34m,\u001b[0m \u001b[0mtest\u001b[0m\u001b[0;34m,\u001b[0m \u001b[0mname\u001b[0m\u001b[0;34m,\u001b[0m \u001b[0mcapability\u001b[0m\u001b[0;34m,\u001b[0m \u001b[0mdescription\u001b[0m\u001b[0;34m=\u001b[0m\u001b[0;32mNone\u001b[0m\u001b[0;34m,\u001b[0m \u001b[0mformat_example_fn\u001b[0m\u001b[0;34m=\u001b[0m\u001b[0;32mNone\u001b[0m\u001b[0;34m,\u001b[0m \u001b[0mprint_fn\u001b[0m\u001b[0;34m=\u001b[0m\u001b[0;32mNone\u001b[0m\u001b[0;34m,\u001b[0m \u001b[0moverwrite\u001b[0m\u001b[0;34m=\u001b[0m\u001b[0;32mFalse\u001b[0m\u001b[0;34m)\u001b[0m\u001b[0;34m:\u001b[0m\u001b[0;34m\u001b[0m\u001b[0;34m\u001b[0m\u001b[0m\n\u001b[1;32m     19\u001b[0m         \u001b[0;32mif\u001b[0m \u001b[0mname\u001b[0m \u001b[0;32min\u001b[0m \u001b[0mself\u001b[0m\u001b[0;34m.\u001b[0m\u001b[0mtests\u001b[0m \u001b[0;32mand\u001b[0m \u001b[0;32mnot\u001b[0m \u001b[0moverwrite\u001b[0m\u001b[0;34m:\u001b[0m\u001b[0;34m\u001b[0m\u001b[0;34m\u001b[0m\u001b[0m\n\u001b[0;32m---> 20\u001b[0;31m             \u001b[0;32mraise\u001b[0m\u001b[0;34m(\u001b[0m\u001b[0mException\u001b[0m\u001b[0;34m(\u001b[0m\u001b[0;34m'There is already a test named %s suite. Run with overwrite=True to overwrite'\u001b[0m \u001b[0;34m%\u001b[0m \u001b[0mname\u001b[0m\u001b[0;34m)\u001b[0m\u001b[0;34m)\u001b[0m\u001b[0;34m\u001b[0m\u001b[0;34m\u001b[0m\u001b[0m\n\u001b[0m\u001b[1;32m     21\u001b[0m         \u001b[0;32mif\u001b[0m \u001b[0mname\u001b[0m \u001b[0;32min\u001b[0m \u001b[0mself\u001b[0m\u001b[0;34m.\u001b[0m\u001b[0minfo\u001b[0m\u001b[0;34m:\u001b[0m\u001b[0;34m\u001b[0m\u001b[0;34m\u001b[0m\u001b[0m\n\u001b[1;32m     22\u001b[0m             \u001b[0;32mdel\u001b[0m \u001b[0mself\u001b[0m\u001b[0;34m.\u001b[0m\u001b[0minfo\u001b[0m\u001b[0;34m[\u001b[0m\u001b[0mname\u001b[0m\u001b[0;34m]\u001b[0m\u001b[0;34m\u001b[0m\u001b[0;34m\u001b[0m\u001b[0m\n",
      "\u001b[0;31mException\u001b[0m: There is already a test named change number in only one question suite. Run with overwrite=True to overwrite"
     ]
    }
   ],
   "source": [
    "# t = Perturb.perturb(parsed_qs, wrap_apply_to_each(Perturb.change_number), nsamples=1500)\n",
    "t = Perturb.perturb(parsed_qs, change_each_wrapper(Perturb.change_number), nsamples=1500)\n",
    "test = DIR(**t, expect=expect_fn)\n",
    "test.run(new_pp)\n",
    "test.summary(3)\n",
    "suite.add(test, 'change number in only one question', 'NER', 'TODO_DESCRIPTION')"
   ]
  },
  {
   "cell_type": "code",
   "execution_count": 63,
   "metadata": {},
   "outputs": [],
   "source": [
    "### Change "
   ]
  },
  {
   "cell_type": "markdown",
   "metadata": {},
   "source": [
    "### Keep entities, fill in with BERT gibberish"
   ]
  },
  {
   "cell_type": "code",
   "execution_count": 67,
   "metadata": {},
   "outputs": [],
   "source": [
    "def bert_gibberish(question):\n",
    "    ents = question.ents\n",
    "    if not ents:\n",
    "        return None\n",
    "    wp = [x.text for x in question if x.tag_ in ['WP', 'WRB', 'WDT']]\n",
    "    if not wp:\n",
    "        wp = question[0].text\n",
    "    else:\n",
    "        wp = wp[0]\n",
    "    ents = [x.text for x in ents]\n",
    "    ents[-1] = ents[-1] + '?'\n",
    "    template = ' {bert} '.join([wp] + ents)\n",
    "    gibberish = editor.template(template).data[:5]\n",
    "#     return gibberish\n",
    "    ret = [(question.text, x) for x in gibberish if question.text != x ]\n",
    "    return ret\n",
    "def gibberish_both(qs):\n",
    "    q1, q2 = qs\n",
    "    ret = []\n",
    "    x1 = bert_gibberish(q1)\n",
    "    if x1:\n",
    "        ret.extend(x1)\n",
    "    x2 = bert_gibberish(q2)\n",
    "    if x2:\n",
    "        ret.extend(x2)\n",
    "    return ret\n",
    "#     ret =  [(question.text, x[1]) for x in tg.fill_in_between([wp] + ents) if question.text != x[1]]\n",
    "#     ret = [x for x in ret if len(x[1].split()) < len(x[0].split()) -4][:5]\n",
    "#     return ret "
   ]
  },
  {
   "cell_type": "code",
   "execution_count": 68,
   "metadata": {},
   "outputs": [
    {
     "name": "stdout",
     "output_type": "stream",
     "text": [
      "Predicting 4744 examples\n",
      "Test cases:      500\n",
      "Fails (rate):    143 (28.6%)\n",
      "\n",
      "Example fails:\n",
      "0.0 ('What is the cost of 1 rupee note bundle from 1993?', 'What is the value of a 1994 1 Rupee note?')\n",
      "1.0 ('What is the value of a 1994 1 Rupee note?', 'What the 1994 Indian Rupee?')\n",
      "0.9 ('What is the value of a 1994 1 Rupee note?', 'What Was 1994 The Rupee?')\n",
      "\n",
      "----\n",
      "0.0 ('Is this years surge in home runs in MLB due to performance enhancing drugs?', 'I am male, 17 years, 6′ 2″ and 84 kg. Is it okay? How can I stop my height growth?')\n",
      "1.0 ('I am male, 17 years, 6′ 2″ and 84 kg. Is it okay? How can I stop my height growth?', 'How can 17 years old 6′ 2″ weigh 84 kg?')\n",
      "1.0 ('I am male, 17 years, 6′ 2″ and 84 kg. Is it okay? How can I stop my height growth?', 'How … 17 years … 6′ 2″ � 84 kg?')\n",
      "\n",
      "----\n",
      "0.0 ('What is the best tag line for Quora?', 'What is best tag line in history?')\n",
      "1.0 ('What is the best tag line for Quora?', 'What on Quora?')\n",
      "0.8 ('What is the best tag line for Quora?', 'What was Quora?')\n",
      "\n",
      "----\n"
     ]
    }
   ],
   "source": [
    "t = Perturb.perturb(parsed_qs, gibberish_both, nsamples=500)\n",
    "expect_false = Expect.eq(0)\n",
    "test = DIR(**t, expect=expect_false)\n",
    "test.run(new_pp)\n",
    "test.summary(3)\n",
    "suite.add(test, 'Keep entities, fill in with BERT gibberish', 'NER', 'TODO_DESCRIPTION')"
   ]
  },
  {
   "cell_type": "code",
   "execution_count": 69,
   "metadata": {},
   "outputs": [
    {
     "name": "stdout",
     "output_type": "stream",
     "text": [
      "Test cases:      500\n",
      "Fails (rate):    143 (28.6%)\n",
      "\n",
      "Example fails:\n",
      "1.0 ('Is there a positive side to the future president Donald Trump?', 'What positive change would a Donald Trump presidency bring?')\n",
      "0.9 ('Is there a positive side to the future president Donald Trump?', 'Is he Donald Trump?')\n",
      "\n",
      "----\n",
      "1.0 ('Is ISI better than RAW?', 'What makes ISI better than RAW?')\n",
      "0.9 ('What makes ISI better than RAW?', 'What distinguishes ISI from RAW?')\n",
      "\n",
      "----\n",
      "1.0 ('What should be my resolution for 2017?', \"What are some of your New Year's resolutions for 2017?\")\n",
      "1.0 (\"What are some of your New Year's resolutions for 2017?\", \"What about New Year's Day 2017?\")\n",
      "1.0 (\"What are some of your New Year's resolutions for 2017?\", \"What About New Year's Day 2017?\")\n",
      "\n",
      "----\n"
     ]
    }
   ],
   "source": [
    "test.summary(3)"
   ]
  },
  {
   "cell_type": "markdown",
   "metadata": {},
   "source": [
    "## Temporal"
   ]
  },
  {
   "cell_type": "markdown",
   "metadata": {},
   "source": [
    "Is != used to be"
   ]
  },
  {
   "cell_type": "code",
   "execution_count": 70,
   "metadata": {},
   "outputs": [
    {
     "name": "stdout",
     "output_type": "stream",
     "text": [
      "Predicting 999 examples\n",
      "Test cases:      999\n",
      "Fails (rate):    613 (61.4%)\n",
      "\n",
      "Example fails:\n",
      "0.9 ('Is Amanda Bennett an executive?', 'Did Amanda Bennett use to be an executive?')\n",
      "----\n",
      "0.7 ('Is Alexis Barnes an analyst?', 'Did Alexis Barnes use to be an analyst?')\n",
      "----\n",
      "0.9 ('Is Emma Jackson an architect?', 'Did Emma Jackson use to be an architect?')\n",
      "----\n"
     ]
    }
   ],
   "source": [
    "t = editor.template(('Is {first_name} {last_name} {a:noun}?', 'Did {first_name} {last_name} use to be {a:noun}?'),\n",
    "                noun=nouns,\n",
    "                adj=adjs,\n",
    "                remove_duplicates=True, \n",
    "                nsamples=1000)\n",
    "test = MFT(**t, labels=0)\n",
    "test.run(new_pp)\n",
    "test.summary(n=3)\n",
    "suite.add(test, 'is != used to be', 'Temporal', 'TODO_DESCRIPTION')"
   ]
  },
  {
   "cell_type": "markdown",
   "metadata": {},
   "source": [
    "Is != becoming"
   ]
  },
  {
   "cell_type": "code",
   "execution_count": 71,
   "metadata": {},
   "outputs": [
    {
     "name": "stdout",
     "output_type": "stream",
     "text": [
      "Predicting 1000 examples\n",
      "Test cases:      1000\n",
      "Fails (rate):    181 (18.1%)\n",
      "\n",
      "Example fails:\n",
      "0.8 ('Is Amber Green an employee?', 'Is Amber Green becoming an employee?')\n",
      "----\n",
      "0.5 ('Is Ashley Watson an advocate?', 'Is Ashley Watson becoming an advocate?')\n",
      "----\n",
      "0.6 ('Is Alexander Cook an activist?', 'Is Alexander Cook becoming an activist?')\n",
      "----\n"
     ]
    }
   ],
   "source": [
    "t = editor.template(('Is {first_name} {last_name} {a:noun}?', 'Is {first_name} {last_name} becoming {a:noun}?'),\n",
    "                noun=nouns,\n",
    "                adj=adjs,\n",
    "                remove_duplicates=True, \n",
    "                nsamples=1000)\n",
    "test = MFT(**t, labels=0)\n",
    "test.run(new_pp)\n",
    "test.summary(n=3)\n",
    "suite.add(test, 'is != becoming', 'Temporal', 'TODO_DESCRIPTION')"
   ]
  },
  {
   "cell_type": "markdown",
   "metadata": {},
   "source": [
    "Before != after"
   ]
  },
  {
   "cell_type": "code",
   "execution_count": 72,
   "metadata": {},
   "outputs": [
    {
     "name": "stdout",
     "output_type": "stream",
     "text": [
      "Predicting 1000 examples\n",
      "Test cases:      1000\n",
      "Fails (rate):    1000 (100.0%)\n",
      "\n",
      "Example fails:\n",
      "1.0 (\"What was Taylor Morales's life before becoming an architect?\", \"What was Taylor Morales's life after becoming an architect?\")\n",
      "----\n",
      "1.0 (\"What was Tyler Mitchell's life before becoming a person?\", \"What was Tyler Mitchell's life after becoming a person?\")\n",
      "----\n",
      "0.9 (\"What was Jennifer Hall's life before becoming an assistant?\", \"What was Jennifer Hall's life after becoming an assistant?\")\n",
      "----\n"
     ]
    }
   ],
   "source": [
    "t = editor.template((\n",
    "    'What was {first_name} {last_name}\\'s life before becoming {a:noun}?',\n",
    "    'What was {first_name} {last_name}\\'s life after becoming {a:noun}?'\n",
    "),\n",
    "                noun=nouns,\n",
    "                adj=adjs,\n",
    "                remove_duplicates=True, \n",
    "                nsamples=1000)\n",
    "test = MFT(**t, labels=0)\n",
    "test.run(new_pp)\n",
    "test.summary(n=3)\n",
    "suite.add(test, 'before != after', 'Temporal', 'TODO_DESCRIPTION')"
   ]
  },
  {
   "cell_type": "code",
   "execution_count": 73,
   "metadata": {},
   "outputs": [
    {
     "name": "stdout",
     "output_type": "stream",
     "text": [
      "it, normal, OK, there, safe, best, ok, okay, acceptable, reasonable, permissible, legal, proper, wrong, healthy, good, enough, better, important, appropriate, left, allowed, possible, dinner, vegetarian, what, recommended, going, food, illegal, supposed, smart, unhealthy, hard, popular, hot, necessary, vegan, typical, not, free, right, required, fun, time, meant, something, one, kosher, customary, fair, mandatory, available, common, cheaper, alright, easier, suitable, feasible, polite, difficult, cool, certain, sensible, affordable, advisable, fine, fashionable, like, nice, unsafe, public, wise, decent, sufficient, harder, advised, traditional, usual, healthier, anyone, permitted, eating, easy, life, trendy, someone, forbidden, lawful, expensive, safer, new, everyone, compulsory, dangerous, worse, needed, realistic, temptation, essential, adequate, impossible, hungry, rude, risky, considered, prudent, taboo, different, tempting\n"
     ]
    }
   ],
   "source": [
    "print(', '.join(editor.suggest('Is is {bert} to eat after 10pm?')))"
   ]
  },
  {
   "cell_type": "code",
   "execution_count": 74,
   "metadata": {},
   "outputs": [],
   "source": [
    "mid = ['normal', 'ok', 'safe', 'dangerous', 'acceptable', 'reasonable', 'proper', 'wrong', 'healthy', 'important']"
   ]
  },
  {
   "cell_type": "code",
   "execution_count": 75,
   "metadata": {},
   "outputs": [
    {
     "name": "stdout",
     "output_type": "stream",
     "text": [
      "sleep, drink, eat, work, leave, drive, go, smoke, stay, call, vote, talk, read, retire, visit, write, celebrate, post, do, party, watch, study, exercise, travel, fish, start, stop, walk, play, strike, disappear, be, tweet, live, continue, shop, rise, speak, relax, die, finish, blog, run, move, act, wait, text, cook, return, dance, bed, fly, quit, report, swim, pray, ask, rest, answer, close, gamble, enter, crash, think, marry, come, kill, look, meet, feed, operate, propose, vanish, dress, pee, linger, change, check, remain, dinner, protest, nap, withdraw, wake, fight, begin, publish, arrive, attend, skate, disturb, end, gather, complain, chat, exist, worry, know, cry, shower, cancel, see, open, perform, queue, respond, resign, exit, book, commute, function, avoid, film, buy, awake, binge, snack, clean, vape, park, happen, comment, blackout, occur, cycle, have, paint, vomit, panic, refuse, sit, say, resume, demonstrate, disconnect, kiss, feel, lose, search, hunt, bar, breathe, take, survive, order, vacuum, investigate, emerge, you, workout, me, consume, chill, remember, spend, collapse, date, sex, diet, wear, fart, laugh, waste, join, escape, bake, strip, indulge, practice, phone, cough, barbecue, block, shave, freeze, ski, evacuate, pay, recover, behave, proceed, lie, sunset, fire, conclude, rent, cross, awaken, train, scream, expect, intervene, reopen, rush, pass, ring, debate, stand, argue, listen, us, appear, try, discuss, plan, Google, learn, people, focus, follow, anyone, reconnect, concentrate, notice, hear, tell, consider, research, pause, save, update, them, note\n"
     ]
    }
   ],
   "source": [
    "print(', '.join(editor.suggest('Is is {mid} to {bert} after 10pm?', mid=mid)))"
   ]
  },
  {
   "cell_type": "code",
   "execution_count": 76,
   "metadata": {},
   "outputs": [],
   "source": [
    "activity = ['drink', 'sleep', 'drive', 'work', 'eat', 'smoke', 'walk', 'read', 'party', 'talk', 'exercise', 'celebrate', 'text', 'tweet', 'run', 'dance', 'swim', 'cook', 'pray', 'pee', 'rest']"
   ]
  },
  {
   "cell_type": "code",
   "execution_count": 77,
   "metadata": {},
   "outputs": [
    {
     "name": "stdout",
     "output_type": "stream",
     "text": [
      "Predicting 1000 examples\n",
      "Test cases:      1000\n",
      "Fails (rate):    979 (97.9%)\n",
      "\n",
      "Example fails:\n",
      "1.0 ('Is it dangerous to smoke before 11am?', 'Is it dangerous to smoke after 11am?')\n",
      "----\n",
      "1.0 ('Is it reasonable to pee before 1am?', 'Is it reasonable to pee after 1am?')\n",
      "----\n",
      "1.0 ('Is it normal to rest before 2am?', 'Is it normal to rest after 2am?')\n",
      "----\n"
     ]
    }
   ],
   "source": [
    "t = editor.template(('Is it {mid} to {activity} before {hour}{ampm}?','Is it {mid} to {activity} after {hour}{ampm}?'),\n",
    "                activity=activity,\n",
    "                mid=mid,\n",
    "                hour=[str(x) for x in range(1, 12)],\n",
    "                ampm=['am', 'pm'],\n",
    "                remove_duplicates=True, \n",
    "                nsamples=1000)\n",
    "test = MFT(**t, labels=0)\n",
    "test.run(new_pp)\n",
    "test.summary(n=3)\n",
    "suite.add(test, 'before != after, activity', 'Temporal', 'TODO_DESCRIPTION')"
   ]
  },
  {
   "cell_type": "markdown",
   "metadata": {},
   "source": [
    "## Negation"
   ]
  },
  {
   "cell_type": "code",
   "execution_count": 78,
   "metadata": {},
   "outputs": [],
   "source": [
    "mid2 = mid + ['legal', 'awkward', 'socially acceptable']"
   ]
  },
  {
   "cell_type": "code",
   "execution_count": 79,
   "metadata": {},
   "outputs": [
    {
     "name": "stdout",
     "output_type": "stream",
     "text": [
      "live, work, vote, drive, smoke, travel, be, marry, study, eat, fly, protest, pray, die, fight, speak, stay, shop, exist, campaign, gamble, meet, write, squat, visit, hunt, kill, murder, sleep, demonstrate, perform, drink, surf, serve, fish, gather, move, swim, remain, reside, pee, act, settle, cook, worship, dance, rape, play, strike, party, propose, fire, hide, report, train, march, burn, invest, paint, operate, race, shoot, barbecue, camp, preach, gay, arrive, hate, spy, vacation, migrate, sue, lie, talk, experiment, exercise, tan, search, interview, practice, volunteer, teach, survive, walk, land, buy, date, ski, ask, retire, wait, sit, holiday, communicate, breed, bomb, think, look, rent, diet\n"
     ]
    }
   ],
   "source": [
    "print(', '.join(editor.suggest('Is it {mid} to {bert} in {country}?', mid=mid2)[:100]))"
   ]
  },
  {
   "cell_type": "code",
   "execution_count": 80,
   "metadata": {},
   "outputs": [],
   "source": [
    "things = ['work', 'vote', 'travel', 'marry', 'drive', 'study', 'protest', 'campaign', 'fight', 'gamble', 'hunt', 'pray', 'smoke', 'fish', 'murder', 'invest', 'pee', 'march', 'worship', 'rape', 'volunteer', 'surf', 'shoot', 'dance', 'camp', 'preach', 'spy', 'be gay', 'lie', 'divorce', 'discriminate']"
   ]
  },
  {
   "cell_type": "code",
   "execution_count": 81,
   "metadata": {},
   "outputs": [
    {
     "name": "stdout",
     "output_type": "stream",
     "text": [
      "Predicting 1000 examples\n",
      "Test cases:      1000\n",
      "Fails (rate):    223 (22.3%)\n",
      "\n",
      "Example fails:\n",
      "0.6 ('Is it reasonable to rape in Comoros?', 'Is it reasonable not to rape in Comoros?')\n",
      "----\n",
      "0.9 ('Is it dangerous to pray in Grenada?', 'Is it dangerous not to pray in Grenada?')\n",
      "----\n",
      "0.9 ('Is it awkward to murder in Luxembourg?', 'Is it awkward not to murder in Luxembourg?')\n",
      "----\n"
     ]
    }
   ],
   "source": [
    "t = editor.template(('Is it {mid} to {activity} in {country}?','Is it {mid} not to {activity} in {country}?'),\n",
    "                activity=things,\n",
    "                mid=mid2,\n",
    "                remove_duplicates=True, \n",
    "                nsamples=1000)\n",
    "test = MFT(**t, labels=0)\n",
    "test.run(new_pp)\n",
    "test.summary(n=3)\n",
    "suite.add(test, 'Simple negation: Is it normal to X / not to X in country', 'Negation', 'TODO_DESCRIPTION')"
   ]
  },
  {
   "cell_type": "code",
   "execution_count": 82,
   "metadata": {},
   "outputs": [
    {
     "name": "stdout",
     "output_type": "stream",
     "text": [
      "Predicting 1000 examples\n",
      "Test cases:      1000\n",
      "Fails (rate):    0 (0.0%)\n"
     ]
    }
   ],
   "source": [
    "t = editor.template((\n",
    "    'What are things {a:noun} should worry about?',\n",
    "    'What are things {a:noun} should not worry about?',\n",
    "),\n",
    "                noun=nouns,\n",
    "                remove_duplicates=True, \n",
    "                nsamples=1000)\n",
    "test = MFT(**t, labels=0)\n",
    "test.run(new_pp)\n",
    "test.summary(n=3)\n",
    "suite.add(test, 'Simple negation: things to worry / not to worry about', 'Negation', 'TODO_DESCRIPTION')"
   ]
  },
  {
   "cell_type": "markdown",
   "metadata": {},
   "source": [
    "## Coref"
   ]
  },
  {
   "cell_type": "code",
   "execution_count": 84,
   "metadata": {},
   "outputs": [
    {
     "name": "stdout",
     "output_type": "stream",
     "text": [
      "Predicting 2000 examples\n",
      "Test cases:      2000\n",
      "Fails (rate):    1648 (82.4%)\n",
      "\n",
      "Example fails:\n",
      "0.9 ('If Alicia and Liam were alone, do you think he would reject her?', 'If Alicia and Liam were alone, do you think she would reject him?')\n",
      "----\n",
      "0.9 ('If Chelsea and Jared were alone, do you think he would reject her?', 'If Chelsea and Jared were alone, do you think she would reject him?')\n",
      "----\n",
      "0.9 ('If Brooke and Henry were alone, do you think he would reject her?', 'If Brooke and Henry were alone, do you think she would reject him?')\n",
      "----\n"
     ]
    }
   ],
   "source": [
    "t = editor.template(\n",
    "    [(\n",
    "        'If {male} and {female} were alone, do you think he would reject her?',\n",
    "        'If {male} and {female} were alone, do you think she would reject him?',\n",
    "    ),\n",
    "        (\n",
    "        'If {female} and {male} were alone, do you think he would reject her?',\n",
    "        'If {female} and {male} were alone, do you think she would reject him?',\n",
    "    )\n",
    "    ],\n",
    "    remove_duplicates=True, \n",
    "    nsamples=1000,\n",
    "    unroll=True)\n",
    "test = MFT(**t, labels=0)\n",
    "test.run(new_pp)\n",
    "test.summary(n=3)\n",
    "suite.add(test, 'Simple coref: he and she', 'Coref', 'TODO_DESCRIPTION')"
   ]
  },
  {
   "cell_type": "code",
   "execution_count": 85,
   "metadata": {},
   "outputs": [
    {
     "name": "stdout",
     "output_type": "stream",
     "text": [
      "Predicting 2000 examples\n",
      "Test cases:      2000\n",
      "Fails (rate):    1977 (98.8%)\n",
      "\n",
      "Example fails:\n",
      "0.9 ('If Luke and Savannah were married, would her family be happy?', \"If Luke and Savannah were married, would Luke's family be happy?\")\n",
      "----\n",
      "0.9 ('If Richard and Isabella were married, would her family be happy?', \"If Richard and Isabella were married, would Richard's family be happy?\")\n",
      "----\n",
      "1.0 ('If Justin and Brianna were married, would his family be happy?', \"If Justin and Brianna were married, would Brianna's family be happy?\")\n",
      "----\n"
     ]
    }
   ],
   "source": [
    "t = editor.template(\n",
    "    [(\n",
    "        'If {male} and {female} were married, would his family be happy?',\n",
    "        'If {male} and {female} were married, would {female}\\'s family be happy?',\n",
    "    ),(\n",
    "        'If {male} and {female} were married, would her family be happy?',\n",
    "        'If {male} and {female} were married, would {male}\\'s family be happy?',\n",
    "    ),\n",
    "    ]\n",
    "        ,\n",
    "    unroll=True,\n",
    "    remove_duplicates=True, \n",
    "    nsamples=1000)\n",
    "test = MFT(**t, labels=0)\n",
    "test.run(new_pp)\n",
    "test.summary(n=3)\n",
    "suite.add(test, 'Simple coref: his and her', 'Coref', 'TODO_DESCRIPTION')"
   ]
  },
  {
   "cell_type": "markdown",
   "metadata": {},
   "source": [
    "## SRL"
   ]
  },
  {
   "cell_type": "code",
   "execution_count": 86,
   "metadata": {},
   "outputs": [
    {
     "name": "stdout",
     "output_type": "stream",
     "text": [
      "chef, pizza, boxer, player, footballer, athlete, rapper, actor, singer, cook, magician, robot, coach, beer, cyclist, wrestler, drummer, musician, quarterback, hacker, dog, baker, fighter, journalist, restaurant, steak, teacher, doctor, gamer, band, shooter, DJ, football, person, horse, photographer, driver, fisherman, burger, coffee, lawyer, writer, food, dancer, student, wine, artist, man, surgeon, comedian, trainer, VPN, vegetarian, programmer, team, game, vegan, guitarist, goalkeeper, server, guy, cricket, sport, engineer, dentist, waiter, cheese, bartender, fish, chicken, goalie, car, manager, computer, referee, hunter, guitar, basketball, tennis, astronaut, mathematician, sandwich, blogger, accountant, TV, soldier, sniper, job, runner, barbecue, chocolate, scientist, friend, cat, gun, pitcher, judge, AI, philosopher, butcher, painter, golf, camel, translator, piano, worker, farmer, conductor, politician, bike\n"
     ]
    }
   ],
   "source": [
    "print(', '.join(editor.suggest('Who is the best {bert} in the world?')))"
   ]
  },
  {
   "cell_type": "code",
   "execution_count": 87,
   "metadata": {},
   "outputs": [],
   "source": [
    "thing = ['chef', 'boxer', 'player', 'footballer', 'athlete', 'rapper', 'actor', 'singer', 'cook', 'magician', 'coach', 'cyclist', 'wrestler', 'drummer', 'musician', 'quarterback', 'hacker', 'baker', 'fighter', 'journalist', 'teacher', 'doctor', 'gamer', 'husband', 'DJ', 'person', 'man', 'woman', 'surgeon', 'comedian', 'trainer', 'programmer', 'guitarist', 'goalkeeper']"
   ]
  },
  {
   "cell_type": "code",
   "execution_count": 88,
   "metadata": {},
   "outputs": [
    {
     "name": "stdout",
     "output_type": "stream",
     "text": [
      "you, YOU, people, we, they, I, readers, You, guys, u, your, fans, ya, others, experts, Americans, scientists, men, voters, some, the, students, analysts, authors, everyone, friends, conservatives, players, critics, Canadians, he, judges, folks, women, all, most, historians, i, coaches, supporters, members, journalists, researchers, celebrities, many, viewers, liberals, participants, audiences, Australians, respondents, editors, Republicans, artists, writers, U, pundits, yo, comedians, gamers, reporters, economists, teachers, parents, veterans, commentators, consumers, anyone, users, independents, kids, pros, millennials, each, individuals, YOUR, those, athletes, doctors, candidates, reviewers, ye, investigators, both, politicians, scholars, not, two, philosophers, atheists, agents, humans, stars, ladies, police, feminists, insiders, yours, any, archaeologists, leaders, Christians, seniors, Democrats, contestants, psychologists, adults, guests, teams, astronomers, competitors, professionals, still, one, academics, scouts, listeners, children, bloggers, Mormons, polls, chefs, wrestlers, fighters, brands, Conservatives, she, legends, strikers, Russians, sports, referees, lawyers, activists, cyclists, captains, Texans, drivers, musicians, rappers, Cardinals, evangelicals, skeptics, schools, DJs, libertarians, girls, riders, Britons, runners, opponents, poets, teenagers, thee, teens, so, professors\n"
     ]
    }
   ],
   "source": [
    "print(', '.join(editor.suggest('Who do {bert} think is the the best {thing} in the world?', thing=thing)))"
   ]
  },
  {
   "cell_type": "code",
   "execution_count": 89,
   "metadata": {},
   "outputs": [],
   "source": [
    "subjects = ['you', 'people', 'readers', 'guys', 'fans', 'experts', 'scientists', 'Americans', 'students', 'men', 'voters', 'authors', 'conservatives', 'women', 'Canadians', 'analysts', 'critics', 'judges', 'artists', 'researchers', 'liberals', 'historians', 'Australians', 'journalists', 'Republicans', 'coaches', 'parents', 'kids', 'economists', 'reporters', 'consumers', 'veterans', 'doctors']"
   ]
  },
  {
   "cell_type": "code",
   "execution_count": 90,
   "metadata": {},
   "outputs": [
    {
     "name": "stdout",
     "output_type": "stream",
     "text": [
      "best, greatest, worst, smartest, top, biggest, fastest, strongest, toughest, finest, happiest, coolest, hottest, deadliest, richest, hardest, safest, better, oldest, brightest, leading, great, youngest, Greatest, largest, weakest, superior, favorite, easiest, elite, highest, most, busiest, quickest, tallest, wealthiest, favourite, perfect, premier, ultimate, next, smallest, first, right, only, dominant, BEST, heaviest, newest, good\n"
     ]
    }
   ],
   "source": [
    "print(', '.join(editor.suggest('Who do {subjects} think is the the {bert} {thing} in the world?', thing=thing, subjects=subjects)[:50]))"
   ]
  },
  {
   "cell_type": "code",
   "execution_count": 91,
   "metadata": {},
   "outputs": [],
   "source": [
    "best = ['best', 'greatest', 'worst', 'top', 'smartest', 'strongest', 'finests', 'happiest', 'coolest', 'richest', 'leading', 'brightest', 'premier', 'ultimate', 'dominant']"
   ]
  },
  {
   "cell_type": "code",
   "execution_count": 92,
   "metadata": {},
   "outputs": [
    {
     "name": "stdout",
     "output_type": "stream",
     "text": [
      "Predicting 1000 examples\n",
      "Test cases:      1000\n",
      "Fails (rate):    131 (13.1%)\n",
      "\n",
      "Example fails:\n",
      "0.2 ('Who do guys think is the best cyclist in the world?', 'Who is the best cyclist in the world according to guys?')\n",
      "----\n",
      "0.1 ('Who do Americans think is the dominant DJ in the world?', 'Who is the dominant DJ in the world according to Americans?')\n",
      "----\n",
      "0.4 ('Who do consumers think is the dominant fighter in the world?', 'Who is the dominant fighter in the world according to consumers?')\n",
      "----\n"
     ]
    }
   ],
   "source": [
    "t = editor.template((\n",
    "    'Who do {subjects} think is the {best} {thing} in the world?',\n",
    "    'Who is the {best} {thing} in the world according to {subjects}?'\n",
    "),\n",
    "    subjects=subjects,\n",
    "    best=best,\n",
    "    thing=thing,\n",
    "    remove_duplicates=True, \n",
    "    nsamples=1000)\n",
    "test = MFT(**t, labels=1)\n",
    "test.run(new_pp)\n",
    "test.summary(n=3)\n",
    "suite.add(test, 'Who do X think - Who is the ... according to X', 'SRL', 'TODO_DESCRIPTION')"
   ]
  },
  {
   "cell_type": "code",
   "execution_count": 93,
   "metadata": {},
   "outputs": [
    {
     "name": "stdout",
     "output_type": "stream",
     "text": [
      "humans, cats, mice, dogs, pigs, people, you, birds, chickens, cows, sheep, rats, fish, bears, rabbits, monkeys, elephants, we, snakes, bees, bats, lions, children, puppies, spiders, babies, ants, insects, they, kittens, dolphins, butterflies, frogs, animals, robots, turtles, ducks, trees, bugs, kids, flies, worms, whales, mosquitoes, crabs, cars, plants, sharks, dinosaurs, beetles, horses, tigers, wolves, primates, cattle, chimpanzees, goats, apes, men, deer, reptiles, rodents, mammals, balls, pets, ponies, carrots, seals, potatoes, apples, mushrooms, dragons, ticks, boys, toys, girls, us, computers, things, stones, women, brains, eggs, bulls, calves, Indians, dwarves, bananas, houses, burgers, flowers, shells, beans, diamonds, coins, trolls, guys, drones, bacteria, Lions\n"
     ]
    }
   ],
   "source": [
    "print(', '.join([str(x) for x in editor.suggest('Are {bert} smaller than {a}?', a=['bananas', 'dogs', 'cars', 'cats', 'elephants'])][:100]))"
   ]
  },
  {
   "cell_type": "code",
   "execution_count": 94,
   "metadata": {},
   "outputs": [],
   "source": [
    "things = editor.suggest('Are {bert} smaller than {a}?',a=['bananas', 'dogs', 'cars', 'cats', 'elephants'] )[:100]"
   ]
  },
  {
   "cell_type": "code",
   "execution_count": 99,
   "metadata": {},
   "outputs": [
    {
     "name": "stdout",
     "output_type": "stream",
     "text": [
      "smarter, better, bigger, faster, stronger, cooler, different, smaller, worse, larger, tougher, more, taller, safer, slower, wiser, heavier, weaker, healthier, happier, lighter, nicer, less, older, greater, quicker, cheaper, harder, shorter, cleaner, longer, quieter, brighter, easier, darker, hotter, higher, closer, other, colder, thicker, younger, louder, warmer, lower, sharper, deeper, wider, lesser, softer, broader, simpler, thinner, intelligent, clearer, stranger, important, dangerous, farther, rather, fewer, richer, smoother, finer, differently, smart, tighter, poorer, earlier, sooner, superior, real, related, stupid, wealthier, anymore, inferior, normal, valuable, dumb, interesting, beautiful, weird, narrower, big, further, stricter, strange, human, safe, powerful, rare, MORE, fuller, dead, special, alive, similar, old, newer\n"
     ]
    }
   ],
   "source": [
    "print(', '.join([str(x) for x in editor.suggest('Are {a} {bert} than {a2}?', a=things)][:100]))"
   ]
  },
  {
   "cell_type": "code",
   "execution_count": 100,
   "metadata": {},
   "outputs": [],
   "source": [
    "comp = ['better', 'worse', 'cheaper', 'bigger', 'louder', 'longer', 'larger', 'smaller', 'warmer', 'colder', 'thicker', 'lighter', 'heavier']"
   ]
  },
  {
   "cell_type": "markdown",
   "metadata": {},
   "source": [
    "Order doesn't matter for comparison"
   ]
  },
  {
   "cell_type": "code",
   "execution_count": 101,
   "metadata": {},
   "outputs": [
    {
     "name": "stdout",
     "output_type": "stream",
     "text": [
      "Predicting 990 examples\n",
      "Test cases:      990\n",
      "Fails (rate):    982 (99.2%)\n",
      "\n",
      "Example fails:\n",
      "0.0 ('Are men better than bulls?', 'What is better, bulls or men?')\n",
      "----\n",
      "0.0 ('Are kittens worse than babies?', 'What is worse, babies or kittens?')\n",
      "----\n",
      "0.0 ('Are eggs lighter than burgers?', 'What is lighter, burgers or eggs?')\n",
      "----\n"
     ]
    }
   ],
   "source": [
    "t = editor.template((\n",
    "    'Are {t1} {comp} than {t2}?',\n",
    "#     'Are {t2} {comp} than {t1}?',\n",
    "#     'What is {comp}, {t1} or {t2}?',\n",
    "    'What is {comp}, {t2} or {t1}?'\n",
    "),\n",
    "    t = things,\n",
    "    comp = comp,\n",
    "    remove_duplicates=True, \n",
    "    nsamples=1000)\n",
    "# data = [tuple(np.random.choice(x, 2, replace=False)) for x in data]\n",
    "test = MFT(**t, labels=1)\n",
    "test.run(new_pp)\n",
    "test.summary(n=3)\n",
    "suite.add(test, 'Order does not matter for comparison', 'SRL', 'TODO_DESCRIPTION')"
   ]
  },
  {
   "cell_type": "markdown",
   "metadata": {},
   "source": [
    "Order matters for asymetric relations"
   ]
  },
  {
   "cell_type": "code",
   "execution_count": 102,
   "metadata": {},
   "outputs": [],
   "source": [
    "# editor.template('Is {first_name1} {bert} {first_name2}?', remove_duplicates=True)[:100]"
   ]
  },
  {
   "cell_type": "code",
   "execution_count": 103,
   "metadata": {},
   "outputs": [
    {
     "name": "stdout",
     "output_type": "stream",
     "text": [
      "related, married, close, engaged, talking, lying, connected, speaking, closer, loyal, linked, attracted, going, referring, listening, important, faithful, similar, mean, responding, writing, hostile, true, dead, tied, next, bound, known, indebted, lied, proposing, closest, opposed, truthful, committed, right, up, turning, kind, Married, kin, proposed, attached, abusive, gay, good, real, returning, allergic, straight, available, relevant, talk, attractive, fair, written, nice, dangerous, crazy, new, alive, coming, on, friendly, devoted, cruel, entitled, special, superior, answer, addicted, reacting, out, back, born, supposed, equal, father, drawn, happy, happening, answering, acceptable, nicer, spoken, getting, open, decent, familiar, heir, guilty, talked, mentioned, gone, sympathetic, helpful, insane, down, pregnant, equivalent\n",
      "\n",
      "or, really, and, with, actually, not, an, Really, still, like, /, &, born, a, from, called, real, indeed, now, the, dating, truly, after, even, married, to, marry, named, for, also, marrying, versus, against, his, biologically, without, clone, your, be, meet, remember, Elizabeth, vs, …, father, fucking, King, And, REALLY, is, ever, Prince, behind, NOT, know, leaving, Dating, Young, pregnant, just, killed, another, meeting, AND, nor, Or, love, kill, under, Mary, following, by, John, become, killing, -, so, mean, about, beat, before, Charles, Love, James, find, her, Sir, see, becoming, considered, met, follow, have, Sue, replace, no, Not, into, my, being\n"
     ]
    }
   ],
   "source": [
    "print(', '.join(editor.suggest('Is {first_name1} {bert} to {first_name2}?', remove_duplicates=True)[:100]))\n",
    "print()\n",
    "print(', '.join(editor.suggest('Is {first_name1} {bert} {first_name2}?', remove_duplicates=True)[:100]))"
   ]
  },
  {
   "cell_type": "code",
   "execution_count": 104,
   "metadata": {},
   "outputs": [],
   "source": [
    "symmetric = ['dating', 'married to', 'close to', 'engaged to', 'connected to', 'married to', 'friends with', 'related to', 'an acquaintance of']"
   ]
  },
  {
   "cell_type": "code",
   "execution_count": 105,
   "metadata": {},
   "outputs": [
    {
     "name": "stdout",
     "output_type": "stream",
     "text": [
      "Predicting 988 examples\n",
      "Test cases:      988\n",
      "Fails (rate):    756 (76.5%)\n",
      "\n",
      "Example fails:\n",
      "0.0 ('Is Jonathan engaged to Natalie?', 'Is Natalie engaged to Jonathan?')\n",
      "----\n",
      "0.1 ('Is Dylan married to Kevin?', 'Is Kevin married to Dylan?')\n",
      "----\n",
      "0.0 ('Is Jeremy related to Kelly?', 'Is Kelly related to Jeremy?')\n",
      "----\n"
     ]
    }
   ],
   "source": [
    "t = editor.template((\n",
    "    'Is {first_name1} {s} {first_name2}?',\n",
    "#     'Are {t2} {comp} than {t1}?',\n",
    "#     'What is {comp}, {t1} or {t2}?',\n",
    "    'Is {first_name2} {s} {first_name1}?',\n",
    "),\n",
    "    s = symmetric,\n",
    "    remove_duplicates=True, \n",
    "    nsamples=1000)\n",
    "# data = [tuple(np.random.choice(x, 2, replace=False)) for x in data]\n",
    "test = MFT(**t, labels=1)\n",
    "test.run(new_pp)\n",
    "test.summary(n=3)\n",
    "suite.add(test, 'Order does not matter for symmetric relations', 'SRL', 'TODO_DESCRIPTION')"
   ]
  },
  {
   "cell_type": "code",
   "execution_count": 106,
   "metadata": {},
   "outputs": [],
   "source": [
    "asymmetric = ['hurting', 'lying to', 'loyal to', 'faithful to', 'proposing to', 'indebted to', 'abusive to', 'using', 'expecting', 'beating', 'punching', 'raising', 'poisoning', 'protecting', 'kidnapping']"
   ]
  },
  {
   "cell_type": "code",
   "execution_count": 107,
   "metadata": {},
   "outputs": [
    {
     "name": "stdout",
     "output_type": "stream",
     "text": [
      "Predicting 988 examples\n",
      "Test cases:      988\n",
      "Fails (rate):    243 (24.6%)\n",
      "\n",
      "Example fails:\n",
      "0.9 ('Is Aaron poisoning David?', 'Is David poisoning Aaron?')\n",
      "----\n",
      "0.8 ('Is Alyssa proposing to Hannah?', 'Is Hannah proposing to Alyssa?')\n",
      "----\n",
      "1.0 ('Is Charles using David?', 'Is David using Charles?')\n",
      "----\n"
     ]
    }
   ],
   "source": [
    "t = editor.template((\n",
    "    'Is {first_name1} {s} {first_name2}?',\n",
    "#     'Are {t2} {comp} than {t1}?',\n",
    "#     'What is {comp}, {t1} or {t2}?',\n",
    "    'Is {first_name2} {s} {first_name1}?',\n",
    "),\n",
    "    s = asymmetric,\n",
    "    remove_duplicates=True, \n",
    "    nsamples=1000)\n",
    "# data = [tuple(np.random.choice(x, 2, replace=False)) for x in data]\n",
    "test = MFT(**t, labels=0)\n",
    "test.run(new_pp)\n",
    "test.summary(n=3)\n",
    "suite.add(test, 'Order matters for asymmetric relations', 'SRL', 'TODO_DESCRIPTION')"
   ]
  },
  {
   "cell_type": "markdown",
   "metadata": {},
   "source": [
    "More traditional SRL"
   ]
  },
  {
   "cell_type": "code",
   "execution_count": 108,
   "metadata": {},
   "outputs": [
    {
     "name": "stdout",
     "output_type": "stream",
     "text": [
      "farm, stake, house, property, company, land, rights, ticket, papers, newspaper, book, island, estate, ranch, boat, horse, paper, shares, tickets, business, gun, books, newspapers, yacht, team, ship, stock, idea, plot, contract, Bible, phone, franchise, shotgun, store, horses, cattle, church, place, game, factory, castle, club, painting, bank, tract, rifle, manuscript, car, campaign, Ark, slaves, plane, school, money, guns, sword, plantation, beer, trust, election, film, ring, building, station, twins, deal, loan, time, tractor, home, letter, IRA, plan, title, watch, story, letters, rest, cows, piece, diary, brewery, charter, diamond, mortgage, hospital, site, post, operation, insurance, railroad, cow, coins, Dell, case, children, wine, telephone, dog\n"
     ]
    }
   ],
   "source": [
    "print(', '.join(editor.suggest('Did John buy the {bert}?', remove_duplicates=True)[:100]))"
   ]
  },
  {
   "cell_type": "code",
   "execution_count": 109,
   "metadata": {},
   "outputs": [],
   "source": [
    "obj = ['farm', 'house', 'property', 'company', 'land', 'ticket', 'newspaper', 'book', 'island', 'estate', 'ranch', 'boat', 'horse', 'paper', 'business', 'gun', 'game', 'factory', 'castle', 'painting', 'rifle', 'car', 'school', 'building']"
   ]
  },
  {
   "cell_type": "code",
   "execution_count": 110,
   "metadata": {},
   "outputs": [
    {
     "name": "stdout",
     "output_type": "stream",
     "text": [
      "buy, get, take, sell, have, lose, own, leave, see, keep, want, use, win, need, steal, manage, find, miss, receive, handle, inherit, purchase, abandon, seize, control, run, return, remember, finish, break, enjoy, know, hold, give, drop, claim, recover, move, touch, save, land, pull, on, destroy, share, start, rebuild, crash, call, stop, afford, hit, acquire, join, like, bought, deliver, lead, remove, clear, fix, sign, split, quit, watch, bring, play, survive, left, carry, sold, shoot, maintain, close, grab, settle, reclaim, accept, retain, enter, complete, change, possess, raise, make, wreck, beat, flip, catch, nail, build, forget, ruin, recall, try, retrieve, surrender, notice, mention, got\n"
     ]
    }
   ],
   "source": [
    "print(', '.join(editor.suggest('Did John {bert} the {obj}?', obj=obj, remove_duplicates=True)[:100]))"
   ]
  },
  {
   "cell_type": "code",
   "execution_count": 111,
   "metadata": {},
   "outputs": [
    {
     "data": {
      "text/plain": [
       "[('buy', 'bought'),\n",
       " ('purchase', 'purchased'),\n",
       " ('sell', 'sold'),\n",
       " ('leave', 'left'),\n",
       " ('own', 'owned'),\n",
       " ('take', 'taken'),\n",
       " ('keep', 'kept'),\n",
       " ('want', 'wanted'),\n",
       " ('lose', 'lost'),\n",
       " ('destroy', 'destroyed'),\n",
       " ('inherit', 'inherited'),\n",
       " ('find', 'found'),\n",
       " ('use', 'used'),\n",
       " ('need', 'needed'),\n",
       " ('receive', 'received'),\n",
       " ('return', 'returned'),\n",
       " ('like', 'liked'),\n",
       " ('enjoy', 'enjoyed'),\n",
       " ('abandon', 'abandoned'),\n",
       " ('manage', 'managed'),\n",
       " ('remember', 'remembered'),\n",
       " ('miss', 'missed'),\n",
       " ('move', 'moved'),\n",
       " ('seize', 'seized'),\n",
       " ('steal', 'stolen')]"
      ]
     },
     "execution_count": 111,
     "metadata": {},
     "output_type": "execute_result"
    }
   ],
   "source": [
    "import pattern\n",
    "import pattern.en\n",
    "verbs = ['buy', 'purchase', 'sell', 'leave', 'own', 'take', 'keep', 'want', 'lose', 'destroy', 'inherit', 'find', 'use', 'need', 'receive', 'return', 'like', 'enjoy', 'abandon', 'manage', 'remember', 'miss', 'move', 'seize', 'steal']\n",
    "a = pattern.en.tenses('stolen')[0]\n",
    "verbs = [(v, pattern.en.conjugate(v, *a)) for v in verbs]\n",
    "verbs[3] = ('leave', 'left')\n",
    "verbs"
   ]
  },
  {
   "cell_type": "code",
   "execution_count": 112,
   "metadata": {},
   "outputs": [
    {
     "name": "stdout",
     "output_type": "stream",
     "text": [
      "Predicting 1000 examples\n",
      "Test cases:      1000\n",
      "Fails (rate):    115 (11.5%)\n",
      "\n",
      "Example fails:\n",
      "0.2 ('Did Erin lose the newspaper?', 'Was the newspaper lost by Erin?')\n",
      "----\n",
      "0.0 ('Did Nicholas leave the horse?', 'Was the horse left by Nicholas?')\n",
      "----\n",
      "0.4 ('Did Sarah lose the school?', 'Was the school lost by Sarah?')\n",
      "----\n"
     ]
    }
   ],
   "source": [
    "t = editor.template((\n",
    "    'Did {first_name} {verb[0]} the {obj}?',\n",
    "    'Was the {obj} {verb[1]} by {first_name}?'\n",
    "),\n",
    "    verb=verbs,\n",
    "    obj=obj,\n",
    "    remove_duplicates=True, \n",
    "    nsamples=1000)\n",
    "# data = [tuple(np.random.choice(x, 2, replace=False)) for x in data]\n",
    "test = MFT(**t, labels=1)\n",
    "test.run(new_pp)\n",
    "test.summary(n=3)\n",
    "suite.add(test, 'traditional SRL: active / passive swap', 'SRL', 'TODO_DESCRIPTION')"
   ]
  },
  {
   "cell_type": "code",
   "execution_count": 113,
   "metadata": {},
   "outputs": [
    {
     "name": "stdout",
     "output_type": "stream",
     "text": [
      "Predicting 1000 examples\n",
      "Test cases:      1000\n",
      "Fails (rate):    962 (96.2%)\n",
      "\n",
      "Example fails:\n",
      "0.9 ('Did Adam lose the painting?', 'Was Adam lost by the painting?')\n",
      "----\n",
      "1.0 ('Did Mary miss the car?', 'Was Mary missed by the car?')\n",
      "----\n",
      "1.0 ('Did Nathan seize the paper?', 'Was Nathan seized by the paper?')\n",
      "----\n"
     ]
    }
   ],
   "source": [
    "t = editor.template((\n",
    "    'Did {first_name} {verb[0]} the {obj}?',\n",
    "    'Was {first_name} {verb[1]} by the {obj}?'\n",
    "),\n",
    "    verb=verbs,\n",
    "    obj=obj,\n",
    "    remove_duplicates=True, \n",
    "    nsamples=1000)\n",
    "# data = [tuple(np.random.choice(x, 2, replace=False)) for x in data]\n",
    "test = MFT(**t, labels=0)\n",
    "test.run(new_pp)\n",
    "test.summary(n=3)\n",
    "suite.add(test, 'traditional SRL: wrong active / passive swap', 'SRL', 'TODO_DESCRIPTION')"
   ]
  },
  {
   "cell_type": "markdown",
   "metadata": {},
   "source": [
    "With people"
   ]
  },
  {
   "cell_type": "code",
   "execution_count": 114,
   "metadata": {},
   "outputs": [
    {
     "name": "stdout",
     "output_type": "stream",
     "text": [
      "know, marry, kill, love, hate, remember, like, want, and, or, have, date, need, see, meet, tell, Know, find, recognize, choose, understand, forgive, trust, mention, blame, follow, murder, miss, bother, ask, deserve, save, beat, mean, attack, prefer, dislike, resemble, become, survive, support, get, help, visit, kiss, leave, accept, recognise, married, own, notice, be, hurt, call, replace, hit, take, fear, catch, reject, clone, divorce, believe, kidnap, Love, /, Remember, adopt, succeed, question, influence, killed, recall, shoot, contact, raise, respect, rape, use, judge, include, eat, v, owe, confront, join, KILL, despise, Like, sponsor, hire, crush, control, threaten, stalk, destroy, Want, &, defeat, lose\n"
     ]
    }
   ],
   "source": [
    "print(', '.join(editor.suggest('Does {first_name} {bert} {first_name2}?', remove_duplicates=True)[:100]))"
   ]
  },
  {
   "cell_type": "code",
   "execution_count": 115,
   "metadata": {},
   "outputs": [
    {
     "name": "stdout",
     "output_type": "stream",
     "text": [
      "Predicting 998 examples\n",
      "Test cases:      998\n",
      "Fails (rate):    681 (68.2%)\n",
      "\n",
      "Example fails:\n",
      "0.4 ('Does Rebecca notice Amy?', 'Is Amy noticed by Rebecca?')\n",
      "----\n",
      "0.0 ('Does Victoria attack Austin?', 'Is Austin attacked by Victoria?')\n",
      "----\n",
      "0.4 ('Does Joseph love Mary?', 'Is Mary loved by Joseph?')\n",
      "----\n"
     ]
    }
   ],
   "source": [
    "pverb = ['love', 'hate', 'like', 'remember', 'recognize', 'trust', 'deserve', 'understand', 'blame', 'dislike', 'prefer', 'follow', 'notice', 'hurt', 'bother', 'support', 'believe', 'accept', 'attack']\n",
    "a = pattern.en.tenses('stolen')[0]\n",
    "pverb = [(v, pattern.en.conjugate(v, *a)) for v in pverb]\n",
    "t = editor.template((\n",
    "    'Does {first_name} {verb[0]} {first_name2}?',\n",
    "    'Is {first_name2} {verb[1]} by {first_name}?',\n",
    "),\n",
    "    verb=pverb,\n",
    "    obj=obj,\n",
    "    remove_duplicates=True, \n",
    "    nsamples=1000)\n",
    "# data = [tuple(np.random.choice(x, 2, replace=False)) for x in data]\n",
    "test = MFT(**t, labels=1)\n",
    "test.run(new_pp)\n",
    "test.summary(n=3)\n",
    "suite.add(test, 'traditional SRL: active / passive swap with people', 'SRL', 'TODO_DESCRIPTION')"
   ]
  },
  {
   "cell_type": "code",
   "execution_count": 116,
   "metadata": {},
   "outputs": [
    {
     "name": "stdout",
     "output_type": "stream",
     "text": [
      "Predicting 994 examples\n",
      "Test cases:      994\n",
      "Fails (rate):    974 (98.0%)\n",
      "\n",
      "Example fails:\n",
      "1.0 ('Does Scott bother Emily?', 'Is Scott bothered by Emily?')\n",
      "----\n",
      "1.0 ('Does Abigail deserve Eric?', 'Is Abigail deserved by Eric?')\n",
      "----\n",
      "0.9 ('Does Joshua understand Robert?', 'Is Joshua understood by Robert?')\n",
      "----\n"
     ]
    }
   ],
   "source": [
    "pverb = ['love', 'hate', 'like', 'remember', 'recognize', 'trust', 'deserve', 'understand', 'blame', 'dislike', 'prefer', 'follow', 'notice', 'hurt', 'bother', 'support', 'believe', 'accept', 'attack']\n",
    "a = pattern.en.tenses('stolen')[0]\n",
    "pverb = [(v, pattern.en.conjugate(v, *a)) for v in pverb]\n",
    "t = editor.template((\n",
    "    'Does {first_name} {verb[0]} {first_name2}?',\n",
    "    'Is {first_name} {verb[1]} by {first_name2}?',\n",
    "),\n",
    "    verb=pverb,\n",
    "    obj=obj,\n",
    "    remove_duplicates=True, \n",
    "    nsamples=1000)\n",
    "# data = [tuple(np.random.choice(x, 2, replace=False)) for x in data]\n",
    "test = MFT(**t, labels=0)\n",
    "test.run(new_pp)\n",
    "test.summary(n=3)\n",
    "suite.add(test, 'traditional SRL: wrong active / passive swap with people', 'SRL', 'TODO_DESCRIPTION')"
   ]
  },
  {
   "cell_type": "code",
   "execution_count": 118,
   "metadata": {},
   "outputs": [
    {
     "name": "stdout",
     "output_type": "stream",
     "text": [
      "Running Adding an adjective makes questions non-duplicates\n",
      "Predicting 999 examples\n",
      "Running non-overlapping adjectives, same first and last name\n",
      "Predicting 957 examples\n",
      "Running same adjectives, different first and last name\n",
      "Predicting 983 examples\n",
      "Running same adjectives, different first but same last name\n",
      "Predicting 991 examples\n",
      "Running same adjectives, same first but different last name\n",
      "Predicting 986 examples\n",
      "Running add one typo\n",
      "Predicting 900 examples\n",
      "Running contractions\n",
      "Predicting 1479 examples\n",
      "Running change same name in both questions\n",
      "Predicting 5422 examples\n",
      "Running change same location in both questions\n",
      "Predicting 5092 examples\n",
      "Running change same number in both questions\n",
      "Predicting 4958 examples\n",
      "Running change first name in only one question\n",
      "Predicting 23540 examples\n",
      "Running change first and last name in only one question\n",
      "Predicting 23540 examples\n",
      "Running change loc in only one question\n",
      "Predicting 23080 examples\n",
      "Running change number in only one question\n",
      "Predicting 22900 examples\n",
      "Running Keep entities, fill in with BERT gibberish\n",
      "Predicting 4744 examples\n",
      "Running is != used to be\n",
      "Predicting 999 examples\n",
      "Running is != becoming\n",
      "Predicting 1000 examples\n",
      "Running before != after\n",
      "Predicting 1000 examples\n",
      "Running before != after, activity\n",
      "Predicting 1000 examples\n",
      "Running Simple negation: Is it normal to X / not to X in country\n",
      "Predicting 1000 examples\n",
      "Running Simple negation: things to worry / not to worry about\n",
      "Predicting 1000 examples\n",
      "Running Simple coref: he and she\n",
      "Predicting 2000 examples\n",
      "Running Simple coref: his and her\n",
      "Predicting 2000 examples\n",
      "Running Who do X think - Who is the ... according to X\n",
      "Predicting 1000 examples\n",
      "Running Order does not matter for comparison\n",
      "Predicting 990 examples\n",
      "Running Order does not matter for symmetric relations\n",
      "Predicting 988 examples\n",
      "Running Order matters for asymmetric relations\n",
      "Predicting 988 examples\n",
      "Running traditional SRL: active / passive swap\n",
      "Predicting 1000 examples\n",
      "Running traditional SRL: wrong active / passive swap\n",
      "Predicting 1000 examples\n",
      "Running traditional SRL: active / passive swap with people\n",
      "Predicting 998 examples\n",
      "Running traditional SRL: wrong active / passive swap with people\n",
      "Predicting 994 examples\n"
     ]
    }
   ],
   "source": [
    "suite.run(new_pp, overwrite=True)"
   ]
  },
  {
   "cell_type": "code",
   "execution_count": 119,
   "metadata": {},
   "outputs": [
    {
     "name": "stdout",
     "output_type": "stream",
     "text": [
      "Vocabulary\n",
      "\n",
      "Adding an adjective makes questions non-duplicates\n",
      "Test cases:      999\n",
      "Fails (rate):    780 (78.1%)\n",
      "\n",
      "Example fails:\n",
      "1.0 ('Is Katherine Ward an executive?', 'Is Katherine Ward an excellent executive?')\n",
      "----\n",
      "0.9 ('Is Nicholas Kelly an engineer?', 'Is Nicholas Kelly an elite engineer?')\n",
      "----\n",
      "1.0 ('Is Sean King an entrepreneur?', 'Is Sean King a real entrepreneur?')\n",
      "----\n",
      "\n",
      "\n",
      "non-overlapping adjectives, same first and last name\n",
      "Test cases:      957\n",
      "Fails (rate):    3 (0.3%)\n",
      "\n",
      "Example fails:\n",
      "0.6 ('Is Jordan Cooper Indian?', 'Is Jordan Cooper autistic?')\n",
      "----\n",
      "0.5 ('Is Kyle Diaz Armenian?', 'Is Kyle Diaz an immigrant?')\n",
      "----\n",
      "0.9 ('Is Zachary Reyes American?', 'Is Zachary Reyes Indian?')\n",
      "----\n",
      "\n",
      "\n",
      "same adjectives, different first and last name\n",
      "Test cases:      983\n",
      "Fails (rate):    49 (5.0%)\n",
      "\n",
      "Example fails:\n",
      "0.8 ('Is Christopher Thomas dead?', 'Is Jeffrey Richardson dead?')\n",
      "----\n",
      "0.8 ('Is Rebecca Clark mad?', 'Is Emily Bennett mad?')\n",
      "----\n",
      "0.7 ('Is Kayla Sanders white?', 'Is Heather Clark white?')\n",
      "----\n",
      "\n",
      "\n",
      "same adjectives, different first but same last name\n",
      "Test cases:      991\n",
      "Fails (rate):    103 (10.4%)\n",
      "\n",
      "Example fails:\n",
      "1.0 ('Is Madison White an astronaut?', 'Is Samantha White an astronaut?')\n",
      "----\n",
      "0.9 ('Is Lauren Nelson black?', 'Is Nicole Nelson black?')\n",
      "----\n",
      "0.8 ('Is Stephanie White gay?', 'Is Shannon White gay?')\n",
      "----\n",
      "\n",
      "\n",
      "same adjectives, same first but different last name\n",
      "Test cases:      986\n",
      "Fails (rate):    72 (7.3%)\n",
      "\n",
      "Example fails:\n",
      "0.7 ('Is Megan Young trustworthy?', 'Is Megan Davis trustworthy?')\n",
      "----\n",
      "0.7 ('Is Amber Hernandez racist?', 'Is Amber Diaz racist?')\n",
      "----\n",
      "0.9 ('Is Christina Diaz white?', 'Is Christina Perez white?')\n",
      "----\n",
      "\n",
      "\n",
      "\n",
      "\n",
      "Robustness\n",
      "\n",
      "add one typo\n",
      "Test cases:      300\n",
      "Fails (rate):    53 (17.7%)\n",
      "\n",
      "Example fails:\n",
      "1.0 ('Does long distance relationships actually work?', 'How do I cope with a long distance relationship?')\n",
      "0.0 ('Does long distanec relationships actually work?', 'How do I cope with a long distance relationship?')\n",
      "\n",
      "----\n",
      "0.7 ('What is the best Instagram bot that automatically like hashtags you choose?', 'What are the cheapest/free Instagram bots that automatically like hashtags you recommend?')\n",
      "0.1 ('What is the best Instagram bot that automatically like hashtags you choos?e', 'What are the cheapest/free Instagram bots that automatically like hashtags you recommend?')\n",
      "\n",
      "----\n",
      "1.0 ('What is the best way to learn white hat hacking?', 'What is the best way to learn hacking in short time?')\n",
      "0.0 ('What is the best way to learn white hat hacking?', 'What is the best way to learn hacking in shortt ime?')\n",
      "\n",
      "----\n",
      "\n",
      "\n",
      "contractions\n",
      "Test cases:      500\n",
      "Fails (rate):    13 (2.6%)\n",
      "\n",
      "Example fails:\n",
      "0.6 ('Can any body explain about meshing in FEA?', \"Altair Hypermesh: What is meshing in ansys? Please answer in detail in lay man's language?\")\n",
      "0.4 ('Can any body explain about meshing in FEA?', \"Altair Hypermesh: What's meshing in ansys? Please answer in detail in lay man's language?\")\n",
      "\n",
      "----\n",
      "0.5 ('How do you know if someone is following you back on Snapchat?', \"How do you check if someone is following you on Snapchat if you don't follow them?\")\n",
      "0.1 ('How do you know if someone is following you back on Snapchat?', 'How do you check if someone is following you on Snapchat if you do not follow them?')\n",
      "\n",
      "----\n",
      "0.7 (\"Who was the kindest/friendliest celebrity you've ever met?\", \"Who's the nicest celebrity you've ever met?\")\n",
      "0.4 ('Who was the kindest/friendliest celebrity you have ever met?', 'Who is the nicest celebrity you have ever met?')\n",
      "0.5 (\"Who was the kindest/friendliest celebrity you've ever met?\", 'Who is the nicest celebrity you have ever met?')\n",
      "\n",
      "----\n",
      "\n",
      "\n",
      "\n",
      "\n",
      "Temporal\n",
      "\n",
      "is != used to be\n",
      "Test cases:      999\n",
      "Fails (rate):    613 (61.4%)\n",
      "\n",
      "Example fails:\n",
      "0.7 ('Is Jessica Young an auditor?', 'Did Jessica Young use to be an auditor?')\n",
      "----\n",
      "0.6 ('Is Austin Cox an architect?', 'Did Austin Cox use to be an architect?')\n",
      "----\n",
      "0.8 ('Is Jonathan Martinez an employee?', 'Did Jonathan Martinez use to be an employee?')\n",
      "----\n",
      "\n",
      "\n",
      "is != becoming\n",
      "Test cases:      1000\n",
      "Fails (rate):    181 (18.1%)\n",
      "\n",
      "Example fails:\n",
      "0.5 ('Is Kyle Carter an advocate?', 'Is Kyle Carter becoming an advocate?')\n",
      "----\n",
      "1.0 ('Is Tiffany Long a person?', 'Is Tiffany Long becoming a person?')\n",
      "----\n",
      "0.8 ('Is Alexis Green an actor?', 'Is Alexis Green becoming an actor?')\n",
      "----\n",
      "\n",
      "\n",
      "before != after\n",
      "Test cases:      1000\n",
      "Fails (rate):    1000 (100.0%)\n",
      "\n",
      "Example fails:\n",
      "1.0 (\"What was Nicholas Wilson's life before becoming an advisor?\", \"What was Nicholas Wilson's life after becoming an advisor?\")\n",
      "----\n",
      "1.0 (\"What was Victoria Moore's life before becoming an actor?\", \"What was Victoria Moore's life after becoming an actor?\")\n",
      "----\n",
      "1.0 (\"What was Brandon Peterson's life before becoming an employee?\", \"What was Brandon Peterson's life after becoming an employee?\")\n",
      "----\n",
      "\n",
      "\n",
      "before != after, activity\n",
      "Test cases:      1000\n",
      "Fails (rate):    979 (97.9%)\n",
      "\n",
      "Example fails:\n",
      "0.9 ('Is it wrong to tweet before 4pm?', 'Is it wrong to tweet after 4pm?')\n",
      "----\n",
      "0.9 ('Is it acceptable to swim before 5am?', 'Is it acceptable to swim after 5am?')\n",
      "----\n",
      "1.0 ('Is it dangerous to eat before 1pm?', 'Is it dangerous to eat after 1pm?')\n",
      "----\n",
      "\n",
      "\n",
      "\n",
      "\n",
      "SRL\n",
      "\n",
      "Who do X think - Who is the ... according to X\n",
      "Test cases:      1000\n",
      "Fails (rate):    131 (13.1%)\n",
      "\n",
      "Example fails:\n",
      "0.5 ('Who do consumers think is the worst drummer in the world?', 'Who is the worst drummer in the world according to consumers?')\n",
      "----\n",
      "0.0 ('Who do men think is the best player in the world?', 'Who is the best player in the world according to men?')\n",
      "----\n",
      "0.5 ('Who do veterans think is the top goalkeeper in the world?', 'Who is the top goalkeeper in the world according to veterans?')\n",
      "----\n",
      "\n",
      "\n",
      "Order does not matter for comparison\n",
      "Test cases:      990\n",
      "Fails (rate):    982 (99.2%)\n",
      "\n",
      "Example fails:\n",
      "0.0 ('Are primates colder than Lions?', 'What is colder, Lions or primates?')\n",
      "----\n",
      "0.0 ('Are plants lighter than robots?', 'What is lighter, robots or plants?')\n",
      "----\n",
      "0.0 ('Are beetles louder than rabbits?', 'What is louder, rabbits or beetles?')\n",
      "----\n",
      "\n",
      "\n",
      "Order does not matter for symmetric relations\n",
      "Test cases:      988\n",
      "Fails (rate):    756 (76.5%)\n",
      "\n",
      "Example fails:\n",
      "0.0 ('Is Brandon dating Sophia?', 'Is Sophia dating Brandon?')\n",
      "----\n",
      "0.0 ('Is Brian close to Amber?', 'Is Amber close to Brian?')\n",
      "----\n",
      "0.0 ('Is Jose related to Kyle?', 'Is Kyle related to Jose?')\n",
      "----\n",
      "\n",
      "\n",
      "Order matters for asymmetric relations\n",
      "Test cases:      988\n",
      "Fails (rate):    243 (24.6%)\n",
      "\n",
      "Example fails:\n",
      "0.7 ('Is Austin protecting Samuel?', 'Is Samuel protecting Austin?')\n",
      "----\n",
      "0.8 ('Is Elizabeth expecting Danielle?', 'Is Danielle expecting Elizabeth?')\n",
      "----\n",
      "0.9 ('Is Nicholas abusive to Aaron?', 'Is Aaron abusive to Nicholas?')\n",
      "----\n",
      "\n",
      "\n",
      "traditional SRL: active / passive swap\n",
      "Test cases:      1000\n",
      "Fails (rate):    115 (11.5%)\n",
      "\n",
      "Example fails:\n",
      "0.0 ('Did Alyssa miss the farm?', 'Was the farm missed by Alyssa?')\n",
      "----\n",
      "0.0 ('Did William miss the building?', 'Was the building missed by William?')\n",
      "----\n",
      "0.0 ('Did Jeremy leave the ranch?', 'Was the ranch left by Jeremy?')\n",
      "----\n",
      "\n",
      "\n",
      "traditional SRL: wrong active / passive swap\n",
      "Test cases:      1000\n",
      "Fails (rate):    962 (96.2%)\n",
      "\n",
      "Example fails:\n",
      "1.0 ('Did William receive the car?', 'Was William received by the car?')\n",
      "----\n",
      "1.0 ('Did Amber like the newspaper?', 'Was Amber liked by the newspaper?')\n",
      "----\n",
      "1.0 ('Did Taylor need the ticket?', 'Was Taylor needed by the ticket?')\n",
      "----\n",
      "\n",
      "\n",
      "traditional SRL: active / passive swap with people\n",
      "Test cases:      998\n",
      "Fails (rate):    681 (68.2%)\n",
      "\n",
      "Example fails:\n",
      "0.0 ('Does Natalie hate Jordan?', 'Is Jordan hated by Natalie?')\n",
      "----\n",
      "0.5 ('Does Samantha bother Benjamin?', 'Is Benjamin bothered by Samantha?')\n",
      "----\n",
      "0.1 ('Does Jason support William?', 'Is William supported by Jason?')\n",
      "----\n",
      "\n",
      "\n",
      "traditional SRL: wrong active / passive swap with people\n",
      "Test cases:      994\n",
      "Fails (rate):    974 (98.0%)\n",
      "\n",
      "Example fails:\n",
      "0.9 ('Does William follow Alyssa?', 'Is William followed by Alyssa?')\n",
      "----\n",
      "0.9 ('Does Brandon like Ashley?', 'Is Brandon liked by Ashley?')\n",
      "----\n",
      "1.0 ('Does Andrea notice Brittany?', 'Is Andrea noticed by Brittany?')\n",
      "----\n",
      "\n",
      "\n",
      "\n",
      "\n",
      "Coref\n",
      "\n",
      "Simple coref: he and she\n",
      "Test cases:      2000\n",
      "Fails (rate):    1648 (82.4%)\n",
      "\n",
      "Example fails:\n",
      "0.9 ('If Nathaniel and Holly were alone, do you think he would reject her?', 'If Nathaniel and Holly were alone, do you think she would reject him?')\n",
      "----\n",
      "0.7 ('If Jesse and Sophia were alone, do you think he would reject her?', 'If Jesse and Sophia were alone, do you think she would reject him?')\n",
      "----\n",
      "0.9 ('If Rebecca and Kenneth were alone, do you think he would reject her?', 'If Rebecca and Kenneth were alone, do you think she would reject him?')\n",
      "----\n",
      "\n",
      "\n",
      "Simple coref: his and her\n",
      "Test cases:      2000\n",
      "Fails (rate):    1977 (98.8%)\n",
      "\n",
      "Example fails:\n",
      "0.9 ('If Gregory and Megan were married, would his family be happy?', \"If Gregory and Megan were married, would Megan's family be happy?\")\n",
      "----\n",
      "0.8 ('If Edward and Kristen were married, would her family be happy?', \"If Edward and Kristen were married, would Edward's family be happy?\")\n",
      "----\n",
      "1.0 ('If Alexander and Evelyn were married, would his family be happy?', \"If Alexander and Evelyn were married, would Evelyn's family be happy?\")\n",
      "----\n",
      "\n",
      "\n",
      "\n",
      "\n",
      "Negation\n",
      "\n",
      "Simple negation: Is it normal to X / not to X in country\n",
      "Test cases:      1000\n",
      "Fails (rate):    223 (22.3%)\n",
      "\n",
      "Example fails:\n",
      "0.5 ('Is it awkward to fight in Slovak Republic?', 'Is it awkward not to fight in Slovak Republic?')\n",
      "----\n",
      "0.8 ('Is it wrong to travel in Tuvalu?', 'Is it wrong not to travel in Tuvalu?')\n",
      "----\n",
      "0.9 ('Is it wrong to invest in West Bank and Gaza?', 'Is it wrong not to invest in West Bank and Gaza?')\n",
      "----\n",
      "\n",
      "\n",
      "Simple negation: things to worry / not to worry about\n",
      "Test cases:      1000\n",
      "Fails (rate):    0 (0.0%)\n",
      "\n",
      "\n",
      "\n",
      "\n",
      "NER\n",
      "\n",
      "change same name in both questions\n",
      "Test cases:      500\n",
      "Fails (rate):    58 (11.6%)\n",
      "\n",
      "Example fails:\n",
      "0.2 ('Did Jesus keep the sabbath?', 'When Jesus died on the cross did he do away with keeping the seventh year sabbath?')\n",
      "1.0 ('Did Dylan keep the sabbath?', 'When Dylan died on the cross did he do away with keeping the seventh year sabbath?')\n",
      "1.0 ('Did Alex keep the sabbath?', 'When Alex died on the cross did he do away with keeping the seventh year sabbath?')\n",
      "\n",
      "----\n",
      "0.6 ('What did Hillary Clinton mean when she said she short-circuited?', 'Was Hillary Clinton telling the truth when she said she had a short circuit when she claimed she told the truth about her emails?')\n",
      "0.1 ('What did Sarah Ross mean when she said she short-circuited?', 'Was Sarah Ross telling the truth when she said she had a short circuit when she claimed she told the truth about her emails?')\n",
      "0.2 ('What did Jennifer Perez mean when she said she short-circuited?', 'Was Jennifer Perez telling the truth when she said she had a short circuit when she claimed she told the truth about her emails?')\n",
      "\n",
      "----\n",
      "0.9 ('Is Edward Snowden a hero or traitor?', 'Would you characterize Edward Snowden as a hero, a patriot, both, or neither? Why?')\n",
      "0.2 ('Is John Morales a hero or traitor?', 'Would you characterize John Morales as a hero, a patriot, both, or neither? Why?')\n",
      "0.3 ('Is Christopher Watson a hero or traitor?', 'Would you characterize Christopher Watson as a hero, a patriot, both, or neither? Why?')\n",
      "\n",
      "----\n",
      "\n",
      "\n",
      "change same location in both questions\n",
      "Test cases:      500\n",
      "Fails (rate):    52 (10.4%)\n",
      "\n",
      "Example fails:\n",
      "0.0 ('Where are the best honeymoon destinations in India in June?', 'Which is the best honeymoon destination for couples in India?')\n",
      "0.8 ('Where are the best honeymoon destinations in Lao PDR in June?', 'Which is the best honeymoon destination for couples in Lao PDR?')\n",
      "0.7 ('Where are the best honeymoon destinations in Macao SAR in June?', 'Which is the best honeymoon destination for couples in Macao SAR?')\n",
      "\n",
      "----\n",
      "0.3 ('Can I live on $85,000 a year in Manhattan?', 'How much should someone make to live comfortably in Manhattan?')\n",
      "0.9 ('Can I live on $85,000 a year in Joliet?', 'How much should someone make to live comfortably in Joliet?')\n",
      "0.8 ('Can I live on $85,000 a year in Troy?', 'How much should someone make to live comfortably in Troy?')\n",
      "\n",
      "----\n",
      "0.0 (\"Why doesn't India buys SU-34 Fullback fighter bomber?\", \"Why can't India make indigenous fighter jets and weapons?\")\n",
      "0.8 (\"Why doesn't Nepal buys SU-34 Fullback fighter bomber?\", \"Why can't Nepal make indigenous fighter jets and weapons?\")\n",
      "\n",
      "----\n",
      "\n",
      "\n",
      "change same number in both questions\n",
      "Test cases:      500\n",
      "Fails (rate):    29 (5.8%)\n",
      "\n",
      "Example fails:\n",
      "0.0 ('What should I do to be topper of gate 2017?', 'How do I start preparing for GATE 2017 from now?')\n",
      "0.6 ('What should I do to be topper of gate 1619?', 'How do I start preparing for GATE 1619 from now?')\n",
      "0.5 ('What should I do to be topper of gate 1756?', 'How do I start preparing for GATE 1756 from now?')\n",
      "\n",
      "----\n",
      "0.0 ('Would a pregnancy test show an accurate reading at 1 week?', 'Why did I get a positive pregnancy test 1 day before having my period?')\n",
      "1.0 ('Would a pregnancy test show an accurate reading at 2 week?', 'Why did I get a positive pregnancy test 2 day before having my period?')\n",
      "1.0 ('Would a pregnancy test show an accurate reading at 2 week?', 'Why did I get a positive pregnancy test 2 day before having my period?')\n",
      "\n",
      "----\n",
      "0.9 ('Why is a dog year equal to 7 human years and what are the reasons behind this?', 'Is it true that dogs age 7 years for every one human year?')\n",
      "0.5 ('Why is a dog year equal to 5 human years and what are the reasons behind this?', 'Is it true that dogs age 5 years for every one human year?')\n",
      "0.5 ('Why is a dog year equal to 5 human years and what are the reasons behind this?', 'Is it true that dogs age 5 years for every one human year?')\n",
      "\n",
      "----\n",
      "\n",
      "\n",
      "change first name in only one question\n",
      "Test cases:      1500\n",
      "After filtering: 601 (40.1%)\n",
      "Fails (rate):    535 (89.0%)\n",
      "\n",
      "Example fails:\n",
      "1.0 ('Why is Hillary Clinton a better choice than Donald Trump?', 'Who would be a better president: Hillary Clinton or Donald Trump?')\n",
      "1.0 ('Why is Hillary Clinton a better choice than Donald Trump?', 'Who would be a better president: Hillary Clinton or Matthew Trump?')\n",
      "1.0 ('Why is Hillary Clinton a better choice than Donald Trump?', 'Who would be a better president: Hillary Clinton or Jared Trump?')\n",
      "\n",
      "----\n",
      "1.0 ('Who is better, Clinton or Trump?', 'Is Hillary Clinton really worse than Donald Trump?')\n",
      "1.0 ('Who is better, Clinton or Trump?', 'Is Hillary Clinton really worse than Luke Trump?')\n",
      "1.0 ('Who is better, Clinton or Trump?', 'Is Hillary Clinton really worse than Aiden Trump?')\n",
      "\n",
      "----\n",
      "1.0 ('Is Donald Trump racist?', 'Why do some people consider Donald Trump Jam racist?')\n",
      "1.0 ('Is Luke Trump racist?', 'Why do some people consider Donald Trump Jam racist?')\n",
      "1.0 ('Is Noah Trump racist?', 'Why do some people consider Donald Trump Jam racist?')\n",
      "\n",
      "----\n",
      "\n",
      "\n",
      "change first and last name in only one question\n",
      "Test cases:      1500\n",
      "After filtering: 598 (39.9%)\n",
      "Fails (rate):    279 (46.7%)\n",
      "\n",
      "Example fails:\n",
      "1.0 ('Would Donald Trump make a good U.S president? Why or why not?', 'Donald Trump: Would you be a good president?')\n",
      "0.9 ('Would Donald Trump make a good U.S president? Why or why not?', 'Joshua Ross: Would you be a good president?')\n",
      "0.9 ('Would Donald Trump make a good U.S president? Why or why not?', 'David Wood: Would you be a good president?')\n",
      "\n",
      "----\n",
      "1.0 ('Who is in the best interest for india? Hillary or Trump?', 'Who is good for India Hillary or Trump?')\n",
      "1.0 ('Who is in the best interest for india? Hillary or Trump?', 'Who is good for India April or Trump?')\n",
      "1.0 ('Who is in the best interest for india? Hillary or Trump?', 'Who is good for India Kayla or Trump?')\n",
      "\n",
      "----\n",
      "1.0 ('How do I learn to use a Mac?', 'What is the best way to learn how use your Mac?')\n",
      "0.9 ('How do I learn to use a Mac?', 'What is the best way to learn how use your Travis?')\n",
      "\n",
      "----\n",
      "\n",
      "\n",
      "change loc in only one question\n",
      "Test cases:      1500\n",
      "After filtering: 491 (32.7%)\n",
      "Fails (rate):    219 (44.6%)\n",
      "\n",
      "Example fails:\n",
      "1.0 ('What will happen to stock market due to demonetizing of 500rs and 1000rs note in India?', 'What will be the effect of the ban of the 1000rs and 500rs notes on the stock market?')\n",
      "1.0 ('What will happen to stock market due to demonetizing of 500rs and 1000rs note in Turkey?', 'What will be the effect of the ban of the 1000rs and 500rs notes on the stock market?')\n",
      "1.0 ('What will happen to stock market due to demonetizing of 500rs and 1000rs note in Virgin Islands (U.S.)?', 'What will be the effect of the ban of the 1000rs and 500rs notes on the stock market?')\n",
      "\n",
      "----\n",
      "1.0 ('Why is salt water taffy candy unknown in Japan?', 'Why is saltwater Taffy candy imported in Canada?')\n",
      "1.0 ('Why is salt water taffy candy unknown in Hong Kong SAR?', 'Why is saltwater Taffy candy imported in Canada?')\n",
      "1.0 ('Why is salt water taffy candy unknown in Japan?', 'Why is saltwater Taffy candy imported in Nauru?')\n",
      "\n",
      "----\n",
      "1.0 ('Is Spotify available in India?', 'When will Spotify arrive in India?')\n",
      "1.0 ('Is Spotify available in India?', 'When will Spotify arrive in Sri Lanka?')\n",
      "1.0 ('Is Spotify available in Mozambique?', 'When will Spotify arrive in India?')\n",
      "\n",
      "----\n",
      "\n",
      "\n",
      "change number in only one question\n",
      "Test cases:      1500\n",
      "After filtering: 527 (35.1%)\n",
      "Fails (rate):    457 (86.7%)\n",
      "\n",
      "Example fails:\n",
      "0.7 ('Why was there an earthquake in the SF bay area the afternoon of January 7, 2011?', 'Was there an earthquake in the SF Bay Area the afternoon of January 7, 2011?')\n",
      "0.7 ('Why was there an earthquake in the SF bay area the afternoon of January 7, 2011?', 'Was there an earthquake in the SF Bay Area the afternoon of January 7, 2011?')\n",
      "0.7 ('Why was there an earthquake in the SF bay area the afternoon of January 7, 2011?', 'Was there an earthquake in the SF Bay Area the afternoon of January 7, 2011?')\n",
      "\n",
      "----\n",
      "1.0 ('Is it worth doing an MS in computer science from the USA from a 100+ ranked university?', 'Which are the best/good universities in USA for MS in computer science and is it worth doing it?')\n",
      "1.0 ('Is it worth doing an MS in computer science from the USA from a 119+ ranked university?', 'Which are the best/good universities in USA for MS in computer science and is it worth doing it?')\n",
      "1.0 ('Is it worth doing an MS in computer science from the USA from a 116+ ranked university?', 'Which are the best/good universities in USA for MS in computer science and is it worth doing it?')\n",
      "\n",
      "----\n",
      "1.0 ('What are your top 5 movies for 2016?', 'What are some interesting movies in 2016?')\n",
      "1.0 ('What are your top 6 movies for 2016?', 'What are some interesting movies in 2016?')\n",
      "1.0 ('What are your top 6 movies for 2016?', 'What are some interesting movies in 2016?')\n",
      "\n",
      "----\n",
      "\n",
      "\n",
      "Keep entities, fill in with BERT gibberish\n",
      "Test cases:      500\n",
      "Fails (rate):    143 (28.6%)\n",
      "\n",
      "Example fails:\n",
      "0.0 ('What is the cost of 1 rupee note bundle from 1993?', 'What is the value of a 1994 1 Rupee note?')\n",
      "1.0 ('What is the value of a 1994 1 Rupee note?', 'What the 1994 Indian Rupee?')\n",
      "0.9 ('What is the value of a 1994 1 Rupee note?', 'What Was 1994 The Rupee?')\n",
      "\n",
      "----\n",
      "0.0 ('Is there a dark side to xenophilia?', 'What is your dark side?')\n",
      "0.8 ('Is there a dark side to xenophilia?', 'Is it xenophilia?')\n",
      "\n",
      "----\n",
      "0.7 ('What advice do you have for a girl who just turned 20?', \"What's your best advice, for someone turning twenty, in one sentence?\")\n",
      "0.9 ('What advice do you have for a girl who just turned 20?', 'What turns 20?')\n",
      "\n",
      "----\n",
      "\n",
      "\n",
      "\n",
      "\n"
     ]
    }
   ],
   "source": [
    "suite.summary(n=3)"
   ]
  },
  {
   "cell_type": "code",
   "execution_count": 120,
   "metadata": {},
   "outputs": [
    {
     "ename": "PicklingError",
     "evalue": "Can't pickle <class 'checklist.test_types.INV'>: it's not the same object as checklist.test_types.INV",
     "output_type": "error",
     "traceback": [
      "\u001b[0;31m---------------------------------------------------------------------------\u001b[0m",
      "\u001b[0;31mPicklingError\u001b[0m                             Traceback (most recent call last)",
      "\u001b[0;32m<ipython-input-120-dd79e1e9c42d>\u001b[0m in \u001b[0;36m<module>\u001b[0;34m\u001b[0m\n\u001b[0;32m----> 1\u001b[0;31m \u001b[0msuite\u001b[0m\u001b[0;34m.\u001b[0m\u001b[0msave\u001b[0m\u001b[0;34m(\u001b[0m\u001b[0;34m'/home/marcotcr/tmp/qqp_suite.pkl'\u001b[0m\u001b[0;34m)\u001b[0m\u001b[0;34m\u001b[0m\u001b[0;34m\u001b[0m\u001b[0m\n\u001b[0m",
      "\u001b[0;32m~/work/checklist/checklist/test_suite.py\u001b[0m in \u001b[0;36msave\u001b[0;34m(self, file)\u001b[0m\n\u001b[1;32m    103\u001b[0m             \u001b[0mprint\u001b[0m\u001b[0;34m(\u001b[0m\u001b[0;34m)\u001b[0m\u001b[0;34m\u001b[0m\u001b[0;34m\u001b[0m\u001b[0m\n\u001b[1;32m    104\u001b[0m     \u001b[0;32mdef\u001b[0m \u001b[0msave\u001b[0m\u001b[0;34m(\u001b[0m\u001b[0mself\u001b[0m\u001b[0;34m,\u001b[0m \u001b[0mfile\u001b[0m\u001b[0;34m)\u001b[0m\u001b[0;34m:\u001b[0m\u001b[0;34m\u001b[0m\u001b[0;34m\u001b[0m\u001b[0m\n\u001b[0;32m--> 105\u001b[0;31m         \u001b[0mdill\u001b[0m\u001b[0;34m.\u001b[0m\u001b[0mdump\u001b[0m\u001b[0;34m(\u001b[0m\u001b[0mself\u001b[0m\u001b[0;34m,\u001b[0m \u001b[0mopen\u001b[0m\u001b[0;34m(\u001b[0m\u001b[0mfile\u001b[0m\u001b[0;34m,\u001b[0m \u001b[0;34m'wb'\u001b[0m\u001b[0;34m)\u001b[0m\u001b[0;34m,\u001b[0m \u001b[0mrecurse\u001b[0m\u001b[0;34m=\u001b[0m\u001b[0;32mTrue\u001b[0m\u001b[0;34m)\u001b[0m\u001b[0;34m\u001b[0m\u001b[0;34m\u001b[0m\u001b[0m\n\u001b[0m",
      "\u001b[0;32m~/.virtualenvs/checklist/lib/python3.6/site-packages/dill/_dill.py\u001b[0m in \u001b[0;36mdump\u001b[0;34m(obj, file, protocol, byref, fmode, recurse, **kwds)\u001b[0m\n\u001b[1;32m    257\u001b[0m     \u001b[0m_kwds\u001b[0m \u001b[0;34m=\u001b[0m \u001b[0mkwds\u001b[0m\u001b[0;34m.\u001b[0m\u001b[0mcopy\u001b[0m\u001b[0;34m(\u001b[0m\u001b[0;34m)\u001b[0m\u001b[0;34m\u001b[0m\u001b[0;34m\u001b[0m\u001b[0m\n\u001b[1;32m    258\u001b[0m     \u001b[0m_kwds\u001b[0m\u001b[0;34m.\u001b[0m\u001b[0mupdate\u001b[0m\u001b[0;34m(\u001b[0m\u001b[0mdict\u001b[0m\u001b[0;34m(\u001b[0m\u001b[0mbyref\u001b[0m\u001b[0;34m=\u001b[0m\u001b[0mbyref\u001b[0m\u001b[0;34m,\u001b[0m \u001b[0mfmode\u001b[0m\u001b[0;34m=\u001b[0m\u001b[0mfmode\u001b[0m\u001b[0;34m,\u001b[0m \u001b[0mrecurse\u001b[0m\u001b[0;34m=\u001b[0m\u001b[0mrecurse\u001b[0m\u001b[0;34m)\u001b[0m\u001b[0;34m)\u001b[0m\u001b[0;34m\u001b[0m\u001b[0;34m\u001b[0m\u001b[0m\n\u001b[0;32m--> 259\u001b[0;31m     \u001b[0mPickler\u001b[0m\u001b[0;34m(\u001b[0m\u001b[0mfile\u001b[0m\u001b[0;34m,\u001b[0m \u001b[0mprotocol\u001b[0m\u001b[0;34m,\u001b[0m \u001b[0;34m**\u001b[0m\u001b[0m_kwds\u001b[0m\u001b[0;34m)\u001b[0m\u001b[0;34m.\u001b[0m\u001b[0mdump\u001b[0m\u001b[0;34m(\u001b[0m\u001b[0mobj\u001b[0m\u001b[0;34m)\u001b[0m\u001b[0;34m\u001b[0m\u001b[0;34m\u001b[0m\u001b[0m\n\u001b[0m\u001b[1;32m    260\u001b[0m     \u001b[0;32mreturn\u001b[0m\u001b[0;34m\u001b[0m\u001b[0;34m\u001b[0m\u001b[0m\n\u001b[1;32m    261\u001b[0m \u001b[0;34m\u001b[0m\u001b[0m\n",
      "\u001b[0;32m~/.virtualenvs/checklist/lib/python3.6/site-packages/dill/_dill.py\u001b[0m in \u001b[0;36mdump\u001b[0;34m(self, obj)\u001b[0m\n\u001b[1;32m    443\u001b[0m             \u001b[0;32mraise\u001b[0m \u001b[0mPicklingError\u001b[0m\u001b[0;34m(\u001b[0m\u001b[0mmsg\u001b[0m\u001b[0;34m)\u001b[0m\u001b[0;34m\u001b[0m\u001b[0;34m\u001b[0m\u001b[0m\n\u001b[1;32m    444\u001b[0m         \u001b[0;32melse\u001b[0m\u001b[0;34m:\u001b[0m\u001b[0;34m\u001b[0m\u001b[0;34m\u001b[0m\u001b[0m\n\u001b[0;32m--> 445\u001b[0;31m             \u001b[0mStockPickler\u001b[0m\u001b[0;34m.\u001b[0m\u001b[0mdump\u001b[0m\u001b[0;34m(\u001b[0m\u001b[0mself\u001b[0m\u001b[0;34m,\u001b[0m \u001b[0mobj\u001b[0m\u001b[0;34m)\u001b[0m\u001b[0;34m\u001b[0m\u001b[0;34m\u001b[0m\u001b[0m\n\u001b[0m\u001b[1;32m    446\u001b[0m         \u001b[0mstack\u001b[0m\u001b[0;34m.\u001b[0m\u001b[0mclear\u001b[0m\u001b[0;34m(\u001b[0m\u001b[0;34m)\u001b[0m  \u001b[0;31m# clear record of 'recursion-sensitive' pickled objects\u001b[0m\u001b[0;34m\u001b[0m\u001b[0;34m\u001b[0m\u001b[0m\n\u001b[1;32m    447\u001b[0m         \u001b[0;32mreturn\u001b[0m\u001b[0;34m\u001b[0m\u001b[0;34m\u001b[0m\u001b[0m\n",
      "\u001b[0;32m/usr/lib/python3.6/pickle.py\u001b[0m in \u001b[0;36mdump\u001b[0;34m(self, obj)\u001b[0m\n\u001b[1;32m    407\u001b[0m         \u001b[0;32mif\u001b[0m \u001b[0mself\u001b[0m\u001b[0;34m.\u001b[0m\u001b[0mproto\u001b[0m \u001b[0;34m>=\u001b[0m \u001b[0;36m4\u001b[0m\u001b[0;34m:\u001b[0m\u001b[0;34m\u001b[0m\u001b[0;34m\u001b[0m\u001b[0m\n\u001b[1;32m    408\u001b[0m             \u001b[0mself\u001b[0m\u001b[0;34m.\u001b[0m\u001b[0mframer\u001b[0m\u001b[0;34m.\u001b[0m\u001b[0mstart_framing\u001b[0m\u001b[0;34m(\u001b[0m\u001b[0;34m)\u001b[0m\u001b[0;34m\u001b[0m\u001b[0;34m\u001b[0m\u001b[0m\n\u001b[0;32m--> 409\u001b[0;31m         \u001b[0mself\u001b[0m\u001b[0;34m.\u001b[0m\u001b[0msave\u001b[0m\u001b[0;34m(\u001b[0m\u001b[0mobj\u001b[0m\u001b[0;34m)\u001b[0m\u001b[0;34m\u001b[0m\u001b[0;34m\u001b[0m\u001b[0m\n\u001b[0m\u001b[1;32m    410\u001b[0m         \u001b[0mself\u001b[0m\u001b[0;34m.\u001b[0m\u001b[0mwrite\u001b[0m\u001b[0;34m(\u001b[0m\u001b[0mSTOP\u001b[0m\u001b[0;34m)\u001b[0m\u001b[0;34m\u001b[0m\u001b[0;34m\u001b[0m\u001b[0m\n\u001b[1;32m    411\u001b[0m         \u001b[0mself\u001b[0m\u001b[0;34m.\u001b[0m\u001b[0mframer\u001b[0m\u001b[0;34m.\u001b[0m\u001b[0mend_framing\u001b[0m\u001b[0;34m(\u001b[0m\u001b[0;34m)\u001b[0m\u001b[0;34m\u001b[0m\u001b[0;34m\u001b[0m\u001b[0m\n",
      "\u001b[0;32m/usr/lib/python3.6/pickle.py\u001b[0m in \u001b[0;36msave\u001b[0;34m(self, obj, save_persistent_id)\u001b[0m\n\u001b[1;32m    519\u001b[0m \u001b[0;34m\u001b[0m\u001b[0m\n\u001b[1;32m    520\u001b[0m         \u001b[0;31m# Save the reduce() output and finally memoize the object\u001b[0m\u001b[0;34m\u001b[0m\u001b[0;34m\u001b[0m\u001b[0;34m\u001b[0m\u001b[0m\n\u001b[0;32m--> 521\u001b[0;31m         \u001b[0mself\u001b[0m\u001b[0;34m.\u001b[0m\u001b[0msave_reduce\u001b[0m\u001b[0;34m(\u001b[0m\u001b[0mobj\u001b[0m\u001b[0;34m=\u001b[0m\u001b[0mobj\u001b[0m\u001b[0;34m,\u001b[0m \u001b[0;34m*\u001b[0m\u001b[0mrv\u001b[0m\u001b[0;34m)\u001b[0m\u001b[0;34m\u001b[0m\u001b[0;34m\u001b[0m\u001b[0m\n\u001b[0m\u001b[1;32m    522\u001b[0m \u001b[0;34m\u001b[0m\u001b[0m\n\u001b[1;32m    523\u001b[0m     \u001b[0;32mdef\u001b[0m \u001b[0mpersistent_id\u001b[0m\u001b[0;34m(\u001b[0m\u001b[0mself\u001b[0m\u001b[0;34m,\u001b[0m \u001b[0mobj\u001b[0m\u001b[0;34m)\u001b[0m\u001b[0;34m:\u001b[0m\u001b[0;34m\u001b[0m\u001b[0;34m\u001b[0m\u001b[0m\n",
      "\u001b[0;32m/usr/lib/python3.6/pickle.py\u001b[0m in \u001b[0;36msave_reduce\u001b[0;34m(self, func, args, state, listitems, dictitems, obj)\u001b[0m\n\u001b[1;32m    632\u001b[0m \u001b[0;34m\u001b[0m\u001b[0m\n\u001b[1;32m    633\u001b[0m         \u001b[0;32mif\u001b[0m \u001b[0mstate\u001b[0m \u001b[0;32mis\u001b[0m \u001b[0;32mnot\u001b[0m \u001b[0;32mNone\u001b[0m\u001b[0;34m:\u001b[0m\u001b[0;34m\u001b[0m\u001b[0;34m\u001b[0m\u001b[0m\n\u001b[0;32m--> 634\u001b[0;31m             \u001b[0msave\u001b[0m\u001b[0;34m(\u001b[0m\u001b[0mstate\u001b[0m\u001b[0;34m)\u001b[0m\u001b[0;34m\u001b[0m\u001b[0;34m\u001b[0m\u001b[0m\n\u001b[0m\u001b[1;32m    635\u001b[0m             \u001b[0mwrite\u001b[0m\u001b[0;34m(\u001b[0m\u001b[0mBUILD\u001b[0m\u001b[0;34m)\u001b[0m\u001b[0;34m\u001b[0m\u001b[0;34m\u001b[0m\u001b[0m\n\u001b[1;32m    636\u001b[0m \u001b[0;34m\u001b[0m\u001b[0m\n",
      "\u001b[0;32m/usr/lib/python3.6/pickle.py\u001b[0m in \u001b[0;36msave\u001b[0;34m(self, obj, save_persistent_id)\u001b[0m\n\u001b[1;32m    474\u001b[0m         \u001b[0mf\u001b[0m \u001b[0;34m=\u001b[0m \u001b[0mself\u001b[0m\u001b[0;34m.\u001b[0m\u001b[0mdispatch\u001b[0m\u001b[0;34m.\u001b[0m\u001b[0mget\u001b[0m\u001b[0;34m(\u001b[0m\u001b[0mt\u001b[0m\u001b[0;34m)\u001b[0m\u001b[0;34m\u001b[0m\u001b[0;34m\u001b[0m\u001b[0m\n\u001b[1;32m    475\u001b[0m         \u001b[0;32mif\u001b[0m \u001b[0mf\u001b[0m \u001b[0;32mis\u001b[0m \u001b[0;32mnot\u001b[0m \u001b[0;32mNone\u001b[0m\u001b[0;34m:\u001b[0m\u001b[0;34m\u001b[0m\u001b[0;34m\u001b[0m\u001b[0m\n\u001b[0;32m--> 476\u001b[0;31m             \u001b[0mf\u001b[0m\u001b[0;34m(\u001b[0m\u001b[0mself\u001b[0m\u001b[0;34m,\u001b[0m \u001b[0mobj\u001b[0m\u001b[0;34m)\u001b[0m \u001b[0;31m# Call unbound method with explicit self\u001b[0m\u001b[0;34m\u001b[0m\u001b[0;34m\u001b[0m\u001b[0m\n\u001b[0m\u001b[1;32m    477\u001b[0m             \u001b[0;32mreturn\u001b[0m\u001b[0;34m\u001b[0m\u001b[0;34m\u001b[0m\u001b[0m\n\u001b[1;32m    478\u001b[0m \u001b[0;34m\u001b[0m\u001b[0m\n",
      "\u001b[0;32m~/.virtualenvs/checklist/lib/python3.6/site-packages/dill/_dill.py\u001b[0m in \u001b[0;36msave_module_dict\u001b[0;34m(pickler, obj)\u001b[0m\n\u001b[1;32m    910\u001b[0m             \u001b[0;31m# we only care about session the first pass thru\u001b[0m\u001b[0;34m\u001b[0m\u001b[0;34m\u001b[0m\u001b[0;34m\u001b[0m\u001b[0m\n\u001b[1;32m    911\u001b[0m             \u001b[0mpickler\u001b[0m\u001b[0;34m.\u001b[0m\u001b[0m_session\u001b[0m \u001b[0;34m=\u001b[0m \u001b[0;32mFalse\u001b[0m\u001b[0;34m\u001b[0m\u001b[0;34m\u001b[0m\u001b[0m\n\u001b[0;32m--> 912\u001b[0;31m         \u001b[0mStockPickler\u001b[0m\u001b[0;34m.\u001b[0m\u001b[0msave_dict\u001b[0m\u001b[0;34m(\u001b[0m\u001b[0mpickler\u001b[0m\u001b[0;34m,\u001b[0m \u001b[0mobj\u001b[0m\u001b[0;34m)\u001b[0m\u001b[0;34m\u001b[0m\u001b[0;34m\u001b[0m\u001b[0m\n\u001b[0m\u001b[1;32m    913\u001b[0m         \u001b[0mlog\u001b[0m\u001b[0;34m.\u001b[0m\u001b[0minfo\u001b[0m\u001b[0;34m(\u001b[0m\u001b[0;34m\"# D2\"\u001b[0m\u001b[0;34m)\u001b[0m\u001b[0;34m\u001b[0m\u001b[0;34m\u001b[0m\u001b[0m\n\u001b[1;32m    914\u001b[0m     \u001b[0;32mreturn\u001b[0m\u001b[0;34m\u001b[0m\u001b[0;34m\u001b[0m\u001b[0m\n",
      "\u001b[0;32m/usr/lib/python3.6/pickle.py\u001b[0m in \u001b[0;36msave_dict\u001b[0;34m(self, obj)\u001b[0m\n\u001b[1;32m    819\u001b[0m \u001b[0;34m\u001b[0m\u001b[0m\n\u001b[1;32m    820\u001b[0m         \u001b[0mself\u001b[0m\u001b[0;34m.\u001b[0m\u001b[0mmemoize\u001b[0m\u001b[0;34m(\u001b[0m\u001b[0mobj\u001b[0m\u001b[0;34m)\u001b[0m\u001b[0;34m\u001b[0m\u001b[0;34m\u001b[0m\u001b[0m\n\u001b[0;32m--> 821\u001b[0;31m         \u001b[0mself\u001b[0m\u001b[0;34m.\u001b[0m\u001b[0m_batch_setitems\u001b[0m\u001b[0;34m(\u001b[0m\u001b[0mobj\u001b[0m\u001b[0;34m.\u001b[0m\u001b[0mitems\u001b[0m\u001b[0;34m(\u001b[0m\u001b[0;34m)\u001b[0m\u001b[0;34m)\u001b[0m\u001b[0;34m\u001b[0m\u001b[0;34m\u001b[0m\u001b[0m\n\u001b[0m\u001b[1;32m    822\u001b[0m \u001b[0;34m\u001b[0m\u001b[0m\n\u001b[1;32m    823\u001b[0m     \u001b[0mdispatch\u001b[0m\u001b[0;34m[\u001b[0m\u001b[0mdict\u001b[0m\u001b[0;34m]\u001b[0m \u001b[0;34m=\u001b[0m \u001b[0msave_dict\u001b[0m\u001b[0;34m\u001b[0m\u001b[0;34m\u001b[0m\u001b[0m\n",
      "\u001b[0;32m/usr/lib/python3.6/pickle.py\u001b[0m in \u001b[0;36m_batch_setitems\u001b[0;34m(self, items)\u001b[0m\n\u001b[1;32m    845\u001b[0m                 \u001b[0;32mfor\u001b[0m \u001b[0mk\u001b[0m\u001b[0;34m,\u001b[0m \u001b[0mv\u001b[0m \u001b[0;32min\u001b[0m \u001b[0mtmp\u001b[0m\u001b[0;34m:\u001b[0m\u001b[0;34m\u001b[0m\u001b[0;34m\u001b[0m\u001b[0m\n\u001b[1;32m    846\u001b[0m                     \u001b[0msave\u001b[0m\u001b[0;34m(\u001b[0m\u001b[0mk\u001b[0m\u001b[0;34m)\u001b[0m\u001b[0;34m\u001b[0m\u001b[0;34m\u001b[0m\u001b[0m\n\u001b[0;32m--> 847\u001b[0;31m                     \u001b[0msave\u001b[0m\u001b[0;34m(\u001b[0m\u001b[0mv\u001b[0m\u001b[0;34m)\u001b[0m\u001b[0;34m\u001b[0m\u001b[0;34m\u001b[0m\u001b[0m\n\u001b[0m\u001b[1;32m    848\u001b[0m                 \u001b[0mwrite\u001b[0m\u001b[0;34m(\u001b[0m\u001b[0mSETITEMS\u001b[0m\u001b[0;34m)\u001b[0m\u001b[0;34m\u001b[0m\u001b[0;34m\u001b[0m\u001b[0m\n\u001b[1;32m    849\u001b[0m             \u001b[0;32melif\u001b[0m \u001b[0mn\u001b[0m\u001b[0;34m:\u001b[0m\u001b[0;34m\u001b[0m\u001b[0;34m\u001b[0m\u001b[0m\n",
      "\u001b[0;32m/usr/lib/python3.6/pickle.py\u001b[0m in \u001b[0;36msave\u001b[0;34m(self, obj, save_persistent_id)\u001b[0m\n\u001b[1;32m    519\u001b[0m \u001b[0;34m\u001b[0m\u001b[0m\n\u001b[1;32m    520\u001b[0m         \u001b[0;31m# Save the reduce() output and finally memoize the object\u001b[0m\u001b[0;34m\u001b[0m\u001b[0;34m\u001b[0m\u001b[0;34m\u001b[0m\u001b[0m\n\u001b[0;32m--> 521\u001b[0;31m         \u001b[0mself\u001b[0m\u001b[0;34m.\u001b[0m\u001b[0msave_reduce\u001b[0m\u001b[0;34m(\u001b[0m\u001b[0mobj\u001b[0m\u001b[0;34m=\u001b[0m\u001b[0mobj\u001b[0m\u001b[0;34m,\u001b[0m \u001b[0;34m*\u001b[0m\u001b[0mrv\u001b[0m\u001b[0;34m)\u001b[0m\u001b[0;34m\u001b[0m\u001b[0;34m\u001b[0m\u001b[0m\n\u001b[0m\u001b[1;32m    522\u001b[0m \u001b[0;34m\u001b[0m\u001b[0m\n\u001b[1;32m    523\u001b[0m     \u001b[0;32mdef\u001b[0m \u001b[0mpersistent_id\u001b[0m\u001b[0;34m(\u001b[0m\u001b[0mself\u001b[0m\u001b[0;34m,\u001b[0m \u001b[0mobj\u001b[0m\u001b[0;34m)\u001b[0m\u001b[0;34m:\u001b[0m\u001b[0;34m\u001b[0m\u001b[0;34m\u001b[0m\u001b[0m\n",
      "\u001b[0;32m/usr/lib/python3.6/pickle.py\u001b[0m in \u001b[0;36msave_reduce\u001b[0;34m(self, func, args, state, listitems, dictitems, obj)\u001b[0m\n\u001b[1;32m    629\u001b[0m \u001b[0;34m\u001b[0m\u001b[0m\n\u001b[1;32m    630\u001b[0m         \u001b[0;32mif\u001b[0m \u001b[0mdictitems\u001b[0m \u001b[0;32mis\u001b[0m \u001b[0;32mnot\u001b[0m \u001b[0;32mNone\u001b[0m\u001b[0;34m:\u001b[0m\u001b[0;34m\u001b[0m\u001b[0;34m\u001b[0m\u001b[0m\n\u001b[0;32m--> 631\u001b[0;31m             \u001b[0mself\u001b[0m\u001b[0;34m.\u001b[0m\u001b[0m_batch_setitems\u001b[0m\u001b[0;34m(\u001b[0m\u001b[0mdictitems\u001b[0m\u001b[0;34m)\u001b[0m\u001b[0;34m\u001b[0m\u001b[0;34m\u001b[0m\u001b[0m\n\u001b[0m\u001b[1;32m    632\u001b[0m \u001b[0;34m\u001b[0m\u001b[0m\n\u001b[1;32m    633\u001b[0m         \u001b[0;32mif\u001b[0m \u001b[0mstate\u001b[0m \u001b[0;32mis\u001b[0m \u001b[0;32mnot\u001b[0m \u001b[0;32mNone\u001b[0m\u001b[0;34m:\u001b[0m\u001b[0;34m\u001b[0m\u001b[0;34m\u001b[0m\u001b[0m\n",
      "\u001b[0;32m/usr/lib/python3.6/pickle.py\u001b[0m in \u001b[0;36m_batch_setitems\u001b[0;34m(self, items)\u001b[0m\n\u001b[1;32m    845\u001b[0m                 \u001b[0;32mfor\u001b[0m \u001b[0mk\u001b[0m\u001b[0;34m,\u001b[0m \u001b[0mv\u001b[0m \u001b[0;32min\u001b[0m \u001b[0mtmp\u001b[0m\u001b[0;34m:\u001b[0m\u001b[0;34m\u001b[0m\u001b[0;34m\u001b[0m\u001b[0m\n\u001b[1;32m    846\u001b[0m                     \u001b[0msave\u001b[0m\u001b[0;34m(\u001b[0m\u001b[0mk\u001b[0m\u001b[0;34m)\u001b[0m\u001b[0;34m\u001b[0m\u001b[0;34m\u001b[0m\u001b[0m\n\u001b[0;32m--> 847\u001b[0;31m                     \u001b[0msave\u001b[0m\u001b[0;34m(\u001b[0m\u001b[0mv\u001b[0m\u001b[0;34m)\u001b[0m\u001b[0;34m\u001b[0m\u001b[0;34m\u001b[0m\u001b[0m\n\u001b[0m\u001b[1;32m    848\u001b[0m                 \u001b[0mwrite\u001b[0m\u001b[0;34m(\u001b[0m\u001b[0mSETITEMS\u001b[0m\u001b[0;34m)\u001b[0m\u001b[0;34m\u001b[0m\u001b[0;34m\u001b[0m\u001b[0m\n\u001b[1;32m    849\u001b[0m             \u001b[0;32melif\u001b[0m \u001b[0mn\u001b[0m\u001b[0;34m:\u001b[0m\u001b[0;34m\u001b[0m\u001b[0;34m\u001b[0m\u001b[0m\n",
      "\u001b[0;32m/usr/lib/python3.6/pickle.py\u001b[0m in \u001b[0;36msave\u001b[0;34m(self, obj, save_persistent_id)\u001b[0m\n\u001b[1;32m    519\u001b[0m \u001b[0;34m\u001b[0m\u001b[0m\n\u001b[1;32m    520\u001b[0m         \u001b[0;31m# Save the reduce() output and finally memoize the object\u001b[0m\u001b[0;34m\u001b[0m\u001b[0;34m\u001b[0m\u001b[0;34m\u001b[0m\u001b[0m\n\u001b[0;32m--> 521\u001b[0;31m         \u001b[0mself\u001b[0m\u001b[0;34m.\u001b[0m\u001b[0msave_reduce\u001b[0m\u001b[0;34m(\u001b[0m\u001b[0mobj\u001b[0m\u001b[0;34m=\u001b[0m\u001b[0mobj\u001b[0m\u001b[0;34m,\u001b[0m \u001b[0;34m*\u001b[0m\u001b[0mrv\u001b[0m\u001b[0;34m)\u001b[0m\u001b[0;34m\u001b[0m\u001b[0;34m\u001b[0m\u001b[0m\n\u001b[0m\u001b[1;32m    522\u001b[0m \u001b[0;34m\u001b[0m\u001b[0m\n\u001b[1;32m    523\u001b[0m     \u001b[0;32mdef\u001b[0m \u001b[0mpersistent_id\u001b[0m\u001b[0;34m(\u001b[0m\u001b[0mself\u001b[0m\u001b[0;34m,\u001b[0m \u001b[0mobj\u001b[0m\u001b[0;34m)\u001b[0m\u001b[0;34m:\u001b[0m\u001b[0;34m\u001b[0m\u001b[0;34m\u001b[0m\u001b[0m\n",
      "\u001b[0;32m/usr/lib/python3.6/pickle.py\u001b[0m in \u001b[0;36msave_reduce\u001b[0;34m(self, func, args, state, listitems, dictitems, obj)\u001b[0m\n\u001b[1;32m    603\u001b[0m                     \"args[0] from __newobj__ args has the wrong class\")\n\u001b[1;32m    604\u001b[0m             \u001b[0margs\u001b[0m \u001b[0;34m=\u001b[0m \u001b[0margs\u001b[0m\u001b[0;34m[\u001b[0m\u001b[0;36m1\u001b[0m\u001b[0;34m:\u001b[0m\u001b[0;34m]\u001b[0m\u001b[0;34m\u001b[0m\u001b[0;34m\u001b[0m\u001b[0m\n\u001b[0;32m--> 605\u001b[0;31m             \u001b[0msave\u001b[0m\u001b[0;34m(\u001b[0m\u001b[0mcls\u001b[0m\u001b[0;34m)\u001b[0m\u001b[0;34m\u001b[0m\u001b[0;34m\u001b[0m\u001b[0m\n\u001b[0m\u001b[1;32m    606\u001b[0m             \u001b[0msave\u001b[0m\u001b[0;34m(\u001b[0m\u001b[0margs\u001b[0m\u001b[0;34m)\u001b[0m\u001b[0;34m\u001b[0m\u001b[0;34m\u001b[0m\u001b[0m\n\u001b[1;32m    607\u001b[0m             \u001b[0mwrite\u001b[0m\u001b[0;34m(\u001b[0m\u001b[0mNEWOBJ\u001b[0m\u001b[0;34m)\u001b[0m\u001b[0;34m\u001b[0m\u001b[0;34m\u001b[0m\u001b[0m\n",
      "\u001b[0;32m/usr/lib/python3.6/pickle.py\u001b[0m in \u001b[0;36msave\u001b[0;34m(self, obj, save_persistent_id)\u001b[0m\n\u001b[1;32m    474\u001b[0m         \u001b[0mf\u001b[0m \u001b[0;34m=\u001b[0m \u001b[0mself\u001b[0m\u001b[0;34m.\u001b[0m\u001b[0mdispatch\u001b[0m\u001b[0;34m.\u001b[0m\u001b[0mget\u001b[0m\u001b[0;34m(\u001b[0m\u001b[0mt\u001b[0m\u001b[0;34m)\u001b[0m\u001b[0;34m\u001b[0m\u001b[0;34m\u001b[0m\u001b[0m\n\u001b[1;32m    475\u001b[0m         \u001b[0;32mif\u001b[0m \u001b[0mf\u001b[0m \u001b[0;32mis\u001b[0m \u001b[0;32mnot\u001b[0m \u001b[0;32mNone\u001b[0m\u001b[0;34m:\u001b[0m\u001b[0;34m\u001b[0m\u001b[0;34m\u001b[0m\u001b[0m\n\u001b[0;32m--> 476\u001b[0;31m             \u001b[0mf\u001b[0m\u001b[0;34m(\u001b[0m\u001b[0mself\u001b[0m\u001b[0;34m,\u001b[0m \u001b[0mobj\u001b[0m\u001b[0;34m)\u001b[0m \u001b[0;31m# Call unbound method with explicit self\u001b[0m\u001b[0;34m\u001b[0m\u001b[0;34m\u001b[0m\u001b[0m\n\u001b[0m\u001b[1;32m    477\u001b[0m             \u001b[0;32mreturn\u001b[0m\u001b[0;34m\u001b[0m\u001b[0;34m\u001b[0m\u001b[0m\n\u001b[1;32m    478\u001b[0m \u001b[0;34m\u001b[0m\u001b[0m\n",
      "\u001b[0;32m~/.virtualenvs/checklist/lib/python3.6/site-packages/dill/_dill.py\u001b[0m in \u001b[0;36msave_type\u001b[0;34m(pickler, obj)\u001b[0m\n\u001b[1;32m   1354\u001b[0m        \u001b[0;31m#print (\"%s\\n%s\" % (type(obj), obj.__name__))\u001b[0m\u001b[0;34m\u001b[0m\u001b[0;34m\u001b[0m\u001b[0;34m\u001b[0m\u001b[0m\n\u001b[1;32m   1355\u001b[0m        \u001b[0;31m#print (\"%s\\n%s\" % (obj.__bases__, obj.__dict__))\u001b[0m\u001b[0;34m\u001b[0m\u001b[0;34m\u001b[0m\u001b[0;34m\u001b[0m\u001b[0m\n\u001b[0;32m-> 1356\u001b[0;31m         \u001b[0mStockPickler\u001b[0m\u001b[0;34m.\u001b[0m\u001b[0msave_global\u001b[0m\u001b[0;34m(\u001b[0m\u001b[0mpickler\u001b[0m\u001b[0;34m,\u001b[0m \u001b[0mobj\u001b[0m\u001b[0;34m)\u001b[0m\u001b[0;34m\u001b[0m\u001b[0;34m\u001b[0m\u001b[0m\n\u001b[0m\u001b[1;32m   1357\u001b[0m         \u001b[0mlog\u001b[0m\u001b[0;34m.\u001b[0m\u001b[0minfo\u001b[0m\u001b[0;34m(\u001b[0m\u001b[0;34m\"# T4\"\u001b[0m\u001b[0;34m)\u001b[0m\u001b[0;34m\u001b[0m\u001b[0;34m\u001b[0m\u001b[0m\n\u001b[1;32m   1358\u001b[0m     \u001b[0;32mreturn\u001b[0m\u001b[0;34m\u001b[0m\u001b[0;34m\u001b[0m\u001b[0m\n",
      "\u001b[0;32m/usr/lib/python3.6/pickle.py\u001b[0m in \u001b[0;36msave_global\u001b[0;34m(self, obj, name)\u001b[0m\n\u001b[1;32m    925\u001b[0m                 raise PicklingError(\n\u001b[1;32m    926\u001b[0m                     \u001b[0;34m\"Can't pickle %r: it's not the same object as %s.%s\"\u001b[0m \u001b[0;34m%\u001b[0m\u001b[0;34m\u001b[0m\u001b[0;34m\u001b[0m\u001b[0m\n\u001b[0;32m--> 927\u001b[0;31m                     (obj, module_name, name))\n\u001b[0m\u001b[1;32m    928\u001b[0m \u001b[0;34m\u001b[0m\u001b[0m\n\u001b[1;32m    929\u001b[0m         \u001b[0;32mif\u001b[0m \u001b[0mself\u001b[0m\u001b[0;34m.\u001b[0m\u001b[0mproto\u001b[0m \u001b[0;34m>=\u001b[0m \u001b[0;36m2\u001b[0m\u001b[0;34m:\u001b[0m\u001b[0;34m\u001b[0m\u001b[0;34m\u001b[0m\u001b[0m\n",
      "\u001b[0;31mPicklingError\u001b[0m: Can't pickle <class 'checklist.test_types.INV'>: it's not the same object as checklist.test_types.INV"
     ]
    }
   ],
   "source": [
    "suite.save('/home/marcotcr/tmp/qqp_suite.pkl')"
   ]
  },
  {
   "cell_type": "code",
   "execution_count": null,
   "metadata": {},
   "outputs": [],
   "source": []
  }
 ],
 "metadata": {
  "kernelspec": {
   "display_name": "checklist",
   "language": "python",
   "name": "checklist"
  },
  "language_info": {
   "codemirror_mode": {
    "name": "ipython",
    "version": 3
   },
   "file_extension": ".py",
   "mimetype": "text/x-python",
   "name": "python",
   "nbconvert_exporter": "python",
   "pygments_lexer": "ipython3",
   "version": "3.6.8"
  }
 },
 "nbformat": 4,
 "nbformat_minor": 2
}
