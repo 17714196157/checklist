{
 "cells": [
  {
   "cell_type": "code",
   "execution_count": 1,
   "metadata": {},
   "outputs": [],
   "source": [
    "%load_ext autoreload\n",
    "%autoreload 2\n",
    "\n",
    "import checklist\n",
    "import spacy\n",
    "import itertools\n",
    "\n",
    "import checklist.editor\n",
    "import checklist.text_generation\n",
    "from checklist.mft import MFT\n",
    "from checklist.inv_dir import INV, DIR\n",
    "from checklist.expect import Expect\n",
    "import numpy as np\n",
    "import spacy\n",
    "from checklist.perturb import Perturb"
   ]
  },
  {
   "cell_type": "code",
   "execution_count": 2,
   "metadata": {},
   "outputs": [],
   "source": [
    "editor = checklist.editor.Editor()\n",
    "nlp = spacy.load('en_core_web_sm')"
   ]
  },
  {
   "cell_type": "code",
   "execution_count": 3,
   "metadata": {},
   "outputs": [
    {
     "name": "stdout",
     "output_type": "stream",
     "text": [
      "/home/wtshuang/datasets/models/imdb-iclr_orig\n",
      "Namespace(adam_epsilon=1e-08, cache_dir='', config_name='', data_dir='/home/wtshuang/datasets/raw/glue_data//imdb/iclr_orig', device=device(type='cuda'), do_eval=True, do_lower_case=True, do_train=True, eval_all_checkpoints=False, evaluate_during_training=False, fp16=False, fp16_opt_level='O1', gradient_accumulation_steps=1, label_list='None', learning_rate=5e-05, local_rank=-1, logging_steps=50, max_grad_norm=1.0, max_seq_length=512, max_steps=-1, model_name_or_path='bert-base-uncased', model_type='bert', n_gpu=2, no_cuda=False, num_train_epochs=10.0, output_dir='//home/wtshuang/datasets/models//imdb-iclr_orig/', output_mode='classification', overwrite_cache=True, overwrite_output_dir=True, per_gpu_eval_batch_size=8, per_gpu_train_batch_size=8, save_steps=1000000000000, seed=42, server_ip='', server_port='', task_name='sst-2', tokenizer_name='', train_batch_size=16, warmup_steps=0, weight_decay=0.0)\n"
     ]
    }
   ],
   "source": [
    "import sys\n",
    "import os\n",
    "import pandas as pd\n",
    "pd.set_option('display.max_colwidth', 180)\n",
    "\n",
    "mltest_path = os.path.abspath(os.path.expanduser(\"~/sourcetree/ml-tests\"))\n",
    "sys.path.append(mltest_path)\n",
    "mlfeedback_path = os.path.abspath(os.path.expanduser(\"~/sourcetree/ml_feedback\"))\n",
    "sys.path.append(mlfeedback_path)\n",
    "\n",
    "from ml_feedback.analysis.sentiment_utils import *\n",
    "# get the model\n",
    "model_names = {\n",
    "    \"orig\": \"imdb-iclr_orig\"\n",
    "}\n",
    "from ml_feedback.analysis.sentiment_utils import *\n",
    "models = load_models_by_name(model_names)\n",
    "\n",
    "from checklist.pred_wrapper import PredictorWrapper\n",
    "sentiment = models[\"orig\"]\n",
    "wrapped_pp = PredictorWrapper.wrap_softmax(sentiment.predict_proba)"
   ]
  },
  {
   "cell_type": "code",
   "execution_count": 4,
   "metadata": {},
   "outputs": [
    {
     "data": {
      "text/plain": [
       "TMZ reports that Seth Rollins caught a ride to a local restaurant in an unmarked cop car Saturday evening when he... http://t.co/s3deESbZCh"
      ]
     },
     "execution_count": 4,
     "metadata": {},
     "output_type": "execute_result"
    }
   ],
   "source": [
    "from ml_feedback.analysis.sentiment_utils import *\n",
    "\n",
    "df = read_one_dataset(\"semeval_iclr_nonbinary\")\n",
    "if len(df) > 2000:\n",
    "    df = df.sample(2000)\n",
    "nlp = spacy.load('en_core_web_sm')\n",
    "sentences = df.sentence.tolist()\n",
    "parsed_data = list(nlp.pipe(sentences))\n",
    "labels = df.label.tolist()\n",
    "parsed_data[0]"
   ]
  },
  {
   "cell_type": "code",
   "execution_count": 5,
   "metadata": {},
   "outputs": [],
   "source": [
    "def new_pp(data):\n",
    "    margin_neutral = 1/3.\n",
    "    mn = margin_neutral / 2.\n",
    "    pr = wrapped_pp(data)[1][:, 1]\n",
    "    pp = np.zeros((pr.shape[0], 3))\n",
    "    neg = pr < 0.5 - mn\n",
    "    pp[neg, 0] = 1 - pr[neg]\n",
    "    pp[neg, 2] = pr[neg]\n",
    "    pos = pr > 0.5 + mn\n",
    "    pp[pos, 0] = 1 - pr[pos]\n",
    "    pp[pos, 2] = pr[pos]\n",
    "    neutral_pos = (pr >= 0.5) * (pr < 0.5 + mn)\n",
    "    pp[neutral_pos, 1] = 1 - (1 / margin_neutral) * np.abs(pr[neutral_pos] - 0.5)\n",
    "    pp[neutral_pos, 2] = 1 - pp[neutral_pos, 1]\n",
    "    neutral_neg = (pr < 0.5) * (pr > 0.5 - mn)\n",
    "    pp[neutral_neg, 1] = 1 - (1 / margin_neutral) * np.abs(pr[neutral_neg] - 0.5)\n",
    "    pp[neutral_neg, 0] = 1 - pp[neutral_neg, 1]\n",
    "    preds = np.argmax(pp, axis=1)\n",
    "    return preds, pp\n",
    "    "
   ]
  },
  {
   "cell_type": "markdown",
   "metadata": {},
   "source": [
    "# MFT"
   ]
  },
  {
   "cell_type": "code",
   "execution_count": 6,
   "metadata": {},
   "outputs": [],
   "source": [
    "air_noun = ['flight', 'seat', 'pilot', 'staff', 'service', 'customer service', 'aircraft', 'plane', 'food', 'cabin crew', 'company', 'airline', 'crew']\n",
    "editor.add_lexicon('air_noun', air_noun)\n",
    "#print(', '.join(editor.suggest('It was {a:bert} {air_noun}.')[:40]))\n",
    "\n",
    "pos_adj = ['good', 'great', 'excellent', 'amazing', 'extraordinary', 'beautiful', 'fantastic', 'nice', 'incredible', 'exceptional', 'awesome', 'perfect', 'fun', 'happy', 'adorable', 'brilliant', 'exciting', 'sweet', 'wonderful']\n",
    "neg_adj = ['awful', 'bad', 'horrible', 'tough', 'weird', 'aggressive', 'rough', 'lousy', 'unhappy', 'average', 'difficult', 'poor', 'sad', 'frustrating', 'hard', 'lame', 'nasty', 'annoying', 'boring', 'creepy', 'dreadful', 'ridiculous', 'terrible', 'ugly', 'unpleasant']\n",
    "neutral_adj = ['American', 'international',  'commercial', 'British', 'private', 'Italian', 'Indian', 'Australian', 'Israeli', ]\n",
    "editor.add_lexicon('pos_adj', pos_adj, overwrite=True)\n",
    "editor.add_lexicon('neg_adj', neg_adj, overwrite=True )\n",
    "editor.add_lexicon('neutral_adj', neutral_adj, overwrite=True)\n",
    "\n",
    "\n",
    "pos_verb_present = ['like', 'enjoy', 'appreciate', 'love',  'recommend', 'admire', 'value', 'welcome']\n",
    "neg_verb_present = ['hate', 'dislike', 'regret',  'abhor', 'dread', 'despise' ]\n",
    "neutral_verb_present = ['see', 'find']\n",
    "pos_verb_past = ['liked', 'enjoyed', 'appreciated', 'loved', 'admired', 'valued', 'welcomed']\n",
    "neg_verb_past = ['hated', 'disliked', 'regretted',  'abhorred', 'dreaded', 'despised']\n",
    "neutral_verb_past = ['saw', 'found']\n",
    "editor.add_lexicon('pos_verb_present', pos_verb_present, overwrite=True)\n",
    "editor.add_lexicon('neg_verb_present', neg_verb_present, overwrite=True)\n",
    "editor.add_lexicon('neutral_verb_present', neutral_verb_present, overwrite=True)\n",
    "editor.add_lexicon('pos_verb_past', pos_verb_past, overwrite=True)\n",
    "editor.add_lexicon('neg_verb_past', neg_verb_past, overwrite=True)\n",
    "editor.add_lexicon('neutral_verb_past', neutral_verb_past, overwrite=True)\n",
    "editor.add_lexicon('pos_verb', pos_verb_present+ pos_verb_past, overwrite=True)\n",
    "editor.add_lexicon('neg_verb', neg_verb_present + neg_verb_past, overwrite=True)\n",
    "editor.add_lexicon('neutral_verb', neutral_verb_present + neutral_verb_past, overwrite=True)\n",
    "\n"
   ]
  },
  {
   "cell_type": "markdown",
   "metadata": {},
   "source": [
    "## individual words"
   ]
  },
  {
   "cell_type": "code",
   "execution_count": 7,
   "metadata": {},
   "outputs": [
    {
     "name": "stderr",
     "output_type": "stream",
     "text": [
      "\r",
      "Evaluating:   0%|          | 0/5 [00:00<?, ?it/s]"
     ]
    },
    {
     "name": "stdout",
     "output_type": "stream",
     "text": [
      "Predicting 34 examples\n"
     ]
    },
    {
     "name": "stderr",
     "output_type": "stream",
     "text": [
      "Evaluating: 100%|██████████| 5/5 [00:00<00:00,  7.39it/s]"
     ]
    },
    {
     "name": "stdout",
     "output_type": "stream",
     "text": [
      "Test cases:      34\n",
      "Fails (rate):    3 (8.8%)\n",
      "\n",
      "Example fails:\n",
      "1 (0.8) value\n",
      "----\n",
      "0 (0.8) like\n",
      "----\n",
      "1 (0.8) welcomed\n",
      "----\n"
     ]
    },
    {
     "name": "stderr",
     "output_type": "stream",
     "text": [
      "\n"
     ]
    }
   ],
   "source": [
    "test = MFT(pos_adj + pos_verb_present + pos_verb_past, labels=2)\n",
    "test.run(new_pp)\n",
    "test.summary(n=3)"
   ]
  },
  {
   "cell_type": "code",
   "execution_count": 8,
   "metadata": {
    "scrolled": false
   },
   "outputs": [
    {
     "data": {
      "application/vnd.jupyter.widget-view+json": {
       "model_id": "02b3990387f4494da4b1541b398b8ac0",
       "version_major": 2,
       "version_minor": 0
      },
      "text/plain": [
       "TestSummarizer(stats={'nTested': 34, 'nFailed': 3, 'nFiltered': 0}, summarizer={'name': 'TESTNAME_PLACEHOLDER'…"
      ]
     },
     "metadata": {},
     "output_type": "display_data"
    }
   ],
   "source": [
    "test.visual_summary()"
   ]
  },
  {
   "cell_type": "markdown",
   "metadata": {},
   "source": [
    "## Words in context"
   ]
  },
  {
   "cell_type": "code",
   "execution_count": 9,
   "metadata": {},
   "outputs": [
    {
     "name": "stdout",
     "output_type": "stream",
     "text": [
      "Predicting 8970 examples\n"
     ]
    },
    {
     "name": "stderr",
     "output_type": "stream",
     "text": [
      "Evaluating: 100%|██████████| 1122/1122 [02:00<00:00,  9.28it/s]\n"
     ]
    },
    {
     "name": "stdout",
     "output_type": "stream",
     "text": [
      "Test cases:      8970\n",
      "Fails (rate):    262 (2.9%)\n",
      "\n",
      "Example fails:\n",
      "2 (0.9) That is an aggressive crew.\n",
      "----\n",
      "2 (0.8) It was an average cabin crew.\n",
      "----\n",
      "2 (1.0) This is a sad plane.\n",
      "----\n"
     ]
    },
    {
     "data": {
      "application/vnd.jupyter.widget-view+json": {
       "model_id": "96be6a20fe2a4a41902dd56f14b13841",
       "version_major": 2,
       "version_minor": 0
      },
      "text/plain": [
       "TestSummarizer(stats={'nTested': 8970, 'nFailed': 262, 'nFiltered': 0}, summarizer={'name': 'TESTNAME_PLACEHOL…"
      ]
     },
     "metadata": {},
     "output_type": "display_data"
    }
   ],
   "source": [
    "data = editor.template('{it} {air_noun} {be} {pos_adj}.', it=['The', 'This', 'That'], be=['is', 'was'])\n",
    "data += editor.template('{it} {be} {a:pos_adj} {air_noun}.', it=['It', 'This', 'That'], be=['is', 'was'])\n",
    "data += editor.template('{i} {pos_verb} {the} {air_noun}.', i=['I', 'We'], the=['this', 'that', 'the'])\n",
    "labels = [2] * len(data)\n",
    "data += editor.template('{it} {air_noun} {be} {neg_adj}.', it=['That', 'This', 'The'], be=['is', 'was'])\n",
    "data += editor.template('{it} {be} {a:neg_adj} {air_noun}.', it=['It', 'This', 'That'], be=['is', 'was'])\n",
    "data += editor.template('{i} {neg_verb} {the} {air_noun}.', i=['I', 'We'], the=['this', 'that', 'the'])\n",
    "labels += [0] * (len(data) - len(labels))\n",
    "test = MFT(data, labels=labels)\n",
    "# test = MFT(data, labels=2)\n",
    "test.run(new_pp)\n",
    "test.summary(n=3)\n",
    "test.visual_summary()"
   ]
  },
  {
   "cell_type": "markdown",
   "metadata": {},
   "source": [
    "## Intensifiers and reducers"
   ]
  },
  {
   "cell_type": "code",
   "execution_count": 10,
   "metadata": {},
   "outputs": [],
   "source": [
    "intens_adj = ['very', 'really', 'absolutely', 'truly', 'extremely', 'quite', 'incredibly', 'amazingly', 'especially', 'exceptionally', 'unbelievably', 'utterly', 'exceedingly', 'rather', 'totally', 'particularly']\n",
    "intens_verb = [ 'really', 'absolutely', 'truly', 'extremely',  'especially',  'utterly',  'totally', 'particularly', 'highly', 'definitely', 'certainly', 'genuinely', 'honestly', 'strongly', 'sure', 'sincerely']\n"
   ]
  },
  {
   "cell_type": "code",
   "execution_count": 12,
   "metadata": {},
   "outputs": [],
   "source": [
    "monotonic_label = Expect.monotonic(increasing=True, tolerance=0.1)\n",
    "non_neutral_pred = lambda pred, *args, **kwargs: pred != 1\n",
    "monotonic_label = Expect.slice_pairwise(monotonic_label, non_neutral_pred)"
   ]
  },
  {
   "cell_type": "code",
   "execution_count": 13,
   "metadata": {},
   "outputs": [
    {
     "name": "stdout",
     "output_type": "stream",
     "text": [
      "Predicting 4000 examples\n"
     ]
    },
    {
     "name": "stderr",
     "output_type": "stream",
     "text": [
      "Evaluating: 100%|██████████| 500/500 [00:54<00:00,  9.25it/s]"
     ]
    },
    {
     "name": "stdout",
     "output_type": "stream",
     "text": [
      "Test cases:      2000\n",
      "After filtering: 1995 (99.8%)\n",
      "Fails (rate):    117 (5.9%)\n",
      "\n",
      "Example fails:\n",
      "0 (1.0) We dread that airline.\n",
      "2 (1.0) We truly dread that airline.\n",
      "\n",
      "----\n",
      "0 (1.0) It was a tough company.\n",
      "0 (0.7) It was a particularly tough company.\n",
      "\n",
      "----\n",
      "0 (1.0) It was a sad service.\n",
      "2 (0.7) It was a very sad service.\n",
      "\n",
      "----\n"
     ]
    },
    {
     "name": "stderr",
     "output_type": "stream",
     "text": [
      "\n"
     ]
    }
   ],
   "source": [
    "data = editor.template(['{it} {be} {a:pos_adj} {air_noun}.', '{it} {be} {a:intens} {pos_adj} {air_noun}.'] , intens=intens_adj, it=['It', 'This', 'That'], be=['is', 'was'], nsamples=500)\n",
    "data += editor.template(['{i} {pos_verb} {the} {air_noun}.', '{i} {intens} {pos_verb} {the} {air_noun}.'], intens=intens_verb, i=['I', 'We'], the=['this', 'that', 'the'], nsamples=500)\n",
    "data += editor.template(['{it} {be} {a:neg_adj} {air_noun}.', '{it} {be} {a:intens} {neg_adj} {air_noun}.'] , intens=intens_adj, it=['It', 'This', 'That'], be=['is', 'was'], nsamples=500)\n",
    "data += editor.template(['{i} {neg_verb} {the} {air_noun}.', '{i} {intens} {neg_verb} {the} {air_noun}.'], intens=intens_verb, i=['I', 'We'], the=['this', 'that', 'the'], nsamples=500)\n",
    "test = DIR(data, monotonic_label)\n",
    "test.run(new_pp)\n",
    "test.summary(3)\n"
   ]
  },
  {
   "cell_type": "code",
   "execution_count": 14,
   "metadata": {},
   "outputs": [
    {
     "data": {
      "application/vnd.jupyter.widget-view+json": {
       "model_id": "b105f2e2ce4e41c1a3fd623057ee4564",
       "version_major": 2,
       "version_minor": 0
      },
      "text/plain": [
       "TestSummarizer(stats={'nTested': 1995, 'nFailed': 117, 'nFiltered': 0}, summarizer={'name': 'TESTNAME_PLACEHOL…"
      ]
     },
     "metadata": {},
     "output_type": "display_data"
    }
   ],
   "source": [
    "test.visual_summary()"
   ]
  },
  {
   "cell_type": "code",
   "execution_count": 15,
   "metadata": {},
   "outputs": [
    {
     "name": "stdout",
     "output_type": "stream",
     "text": [
      "Predicting 4000 examples\n"
     ]
    },
    {
     "name": "stderr",
     "output_type": "stream",
     "text": [
      "Evaluating: 100%|██████████| 500/500 [00:54<00:00,  9.25it/s]"
     ]
    },
    {
     "name": "stdout",
     "output_type": "stream",
     "text": [
      "Test cases:      2000\n",
      "After filtering: 53 (2.6%)\n",
      "Fails (rate):    15 (28.3%)\n",
      "\n",
      "Example fails:\n",
      "2 (0.8) The flight was aggressive.\n",
      "2 (1.0) The flight was mostly aggressive.\n",
      "\n",
      "----\n",
      "2 (0.8) The flight was aggressive.\n",
      "2 (1.0) The flight was somewhat aggressive.\n",
      "\n",
      "----\n",
      "2 (0.7) This plane was average.\n",
      "2 (1.0) This plane was reasonably average.\n",
      "\n",
      "----\n"
     ]
    },
    {
     "name": "stderr",
     "output_type": "stream",
     "text": [
      "\n"
     ]
    }
   ],
   "source": [
    "monotonic_label = Expect.monotonic(increasing=True, tolerance=0.1)\n",
    "non_neutral_pred = lambda pred, *args, **kwargs: pred != 1\n",
    "monotonic_label = Expect.slice_pairwise(monotonic_label, non_neutral_pred)\n",
    "\n",
    "\n",
    "reducer_adj = ['somewhat', 'kinda', 'mostly', 'probably', 'generally', 'reasonably', 'a little', 'a bit', 'slightly']\n",
    "monotonic_label_down = Expect.monotonic(increasing=False, tolerance=0.1)\n",
    "monotonic_label_down = Expect.slice_pairwise(monotonic_label_down, non_neutral_pred)\n",
    "\n",
    "data = editor.template(['{it} {air_noun} {be} {pos_adj}.', '{it} {air_noun} {be} {red} {pos_adj}.'] , red=reducer_adj, it=['The', 'This', 'That'], be=['is', 'was'], nsamples=1000)\n",
    "data += editor.template(['{it} {air_noun} {be} {neg_adj}.', '{it} {air_noun} {be} {red} {neg_adj}.'] , red=reducer_adj, it=['The', 'This', 'That'], be=['is', 'was'], nsamples=1000)\n",
    "test = DIR(data, monotonic_label_down)\n",
    "test.run(new_pp)\n",
    "test.summary(3)\n"
   ]
  },
  {
   "cell_type": "code",
   "execution_count": 16,
   "metadata": {},
   "outputs": [
    {
     "data": {
      "application/vnd.jupyter.widget-view+json": {
       "model_id": "29789afc430f43e5b313cd86418ea5cd",
       "version_major": 2,
       "version_minor": 0
      },
      "text/plain": [
       "TestSummarizer(stats={'nTested': 53, 'nFailed': 15, 'nFiltered': 0}, summarizer={'name': 'TESTNAME_PLACEHOLDER…"
      ]
     },
     "metadata": {},
     "output_type": "display_data"
    }
   ],
   "source": [
    "test.visual_summary()"
   ]
  },
  {
   "cell_type": "code",
   "execution_count": null,
   "metadata": {},
   "outputs": [],
   "source": []
  },
  {
   "cell_type": "code",
   "execution_count": null,
   "metadata": {},
   "outputs": [],
   "source": []
  },
  {
   "cell_type": "code",
   "execution_count": null,
   "metadata": {},
   "outputs": [],
   "source": []
  },
  {
   "cell_type": "code",
   "execution_count": null,
   "metadata": {},
   "outputs": [],
   "source": []
  },
  {
   "cell_type": "code",
   "execution_count": 1,
   "metadata": {},
   "outputs": [],
   "source": [
    "%load_ext autoreload\n",
    "%autoreload 2\n",
    "\n",
    "import checklist\n",
    "import spacy\n",
    "import itertools\n",
    "\n",
    "import checklist.editor\n",
    "import checklist.text_generation\n",
    "from checklist.mft import MFT\n",
    "from checklist.inv_dir import INV, DIR\n",
    "from checklist.expect import Expect\n",
    "import numpy as np\n",
    "import spacy\n",
    "from checklist.perturb import Perturb"
   ]
  },
  {
   "cell_type": "code",
   "execution_count": 2,
   "metadata": {},
   "outputs": [
    {
     "name": "stdout",
     "output_type": "stream",
     "text": [
      "/home/wtshuang/datasets/models/QQP-all\n",
      "Namespace(adam_epsilon=1e-08, cache_dir='', config_name='', data_dir='/home/wtshuang/datasets/raw/glue_data//QQP/all', device=device(type='cuda'), do_eval=True, do_lower_case=True, do_train=True, eval_all_checkpoints=False, evaluate_during_training=False, fp16=False, fp16_opt_level='O1', gradient_accumulation_steps=1, label_list='None', learning_rate=2e-05, local_rank=-1, logging_steps=50, max_grad_norm=1.0, max_seq_length=512, max_steps=-1, model_name_or_path='bert-base-uncased', model_type='bert', n_gpu=2, no_cuda=False, num_train_epochs=3.0, output_dir='//home/wtshuang/datasets/models//QQP-all/', output_mode='classification', overwrite_cache=True, overwrite_output_dir=True, per_gpu_eval_batch_size=8, per_gpu_train_batch_size=8, save_steps=1000000000000, seed=42, server_ip='', server_port='', task_name='qqp', tokenizer_name='', train_batch_size=16, warmup_steps=0, weight_decay=0.0)\n"
     ]
    }
   ],
   "source": [
    "import sys\n",
    "import os\n",
    "import pandas as pd\n",
    "pd.set_option('display.max_colwidth', 180)\n",
    "\n",
    "mltest_path = os.path.abspath(os.path.expanduser(\"~/sourcetree/ml-tests\"))\n",
    "sys.path.append(mltest_path)\n",
    "mlfeedback_path = os.path.abspath(os.path.expanduser(\"~/sourcetree/ml_feedback\"))\n",
    "sys.path.append(mlfeedback_path)\n",
    "\n",
    "from ml_feedback.analysis.qqp_utils import *\n",
    "\n",
    "\n",
    "# get the model\n",
    "model_names = {\n",
    "    \"qqp\": \"QQP-all\",\n",
    "}\n",
    "from ml_feedback.analysis.qqp_utils import *\n",
    "models = load_models_by_name(model_names)\n",
    "\n",
    "from checklist.pred_wrapper import PredictorWrapper\n",
    "model = models[\"qqp\"]\n",
    "new_pp = PredictorWrapper.wrap_softmax(model.predict_proba)"
   ]
  },
  {
   "cell_type": "code",
   "execution_count": 3,
   "metadata": {},
   "outputs": [],
   "source": [
    "editor = checklist.editor.Editor()\n",
    "nlp = spacy.load('en_core_web_sm')"
   ]
  },
  {
   "cell_type": "code",
   "execution_count": 4,
   "metadata": {},
   "outputs": [
    {
     "data": {
      "text/plain": [
       "(What 's the best non touchscreen phone under 10K in India ?,\n",
       " What is currently the best phone under 10k in India ?)"
      ]
     },
     "execution_count": 4,
     "metadata": {},
     "output_type": "execute_result"
    }
   ],
   "source": [
    "# getting the data\n",
    "\n",
    "df = read_one_dataset(\"quora\", max_size=2000)\n",
    "parsed_qs = list(zip(\n",
    "    nlp.pipe(df.question1.tolist()), \n",
    "    nlp.pipe(df.question2.tolist())\n",
    "))\n",
    "labels = df.is_duplicate.tolist()\n",
    "parsed_qs[0]"
   ]
  },
  {
   "cell_type": "code",
   "execution_count": 5,
   "metadata": {
    "scrolled": true
   },
   "outputs": [
    {
     "name": "stderr",
     "output_type": "stream",
     "text": [
      "\r",
      "Evaluating:   0%|          | 0/38 [00:00<?, ?it/s]"
     ]
    },
    {
     "name": "stdout",
     "output_type": "stream",
     "text": [
      "Predicting 297 examples\n"
     ]
    },
    {
     "name": "stderr",
     "output_type": "stream",
     "text": [
      "Evaluating: 100%|██████████| 38/38 [00:04<00:00,  9.20it/s]\n"
     ]
    },
    {
     "name": "stdout",
     "output_type": "stream",
     "text": [
      "Test cases:      27\n",
      "Fails (rate):    4 (14.8%)\n",
      "\n",
      "Example fails:\n",
      "1.0 (\"Who runs Trump 's Twitter account ? Does Donald Trump write his own tweets ?\", 'Does Donald Trump really write his own tweets ?')\n",
      "0.0 (\"Who runs Trump 's Twitter account ? Does John Lopez write his own tweets ?\", 'Does John Lopez really write his own tweets ?')\n",
      "0.0 (\"Who runs Trump 's Twitter account ? Does Joshua Thompson write his own tweets ?\", 'Does Joshua Thompson really write his own tweets ?')\n",
      "\n",
      "----\n",
      "0.9 ('Did Hillary Clinton lie about Benghazi ?', 'Why did Hillary Clinton lie about Benghazi being attacked for a video instead of being honest to America ?')\n",
      "0.0 ('Did Stephanie Ward lie about Benghazi ?', 'Why did Stephanie Ward lie about Benghazi being attacked for a video instead of being honest to America ?')\n",
      "0.0 ('Did Nicole Martinez lie about Benghazi ?', 'Why did Nicole Martinez lie about Benghazi being attacked for a video instead of being honest to America ?')\n",
      "\n",
      "----\n",
      "1.0 (\"What is Hillary Clinton 's policy towards India-US relations ?\", \"What are Hillary Clinton 's plans on relations with India ?\")\n",
      "0.0 ('What is Ashley Diaz policy towards India-US relations ?', 'What are Ashley Diaz plans on relations with India ?')\n",
      "0.0 ('What is Nicole Long policy towards India-US relations ?', 'What are Nicole Long plans on relations with India ?')\n",
      "\n",
      "----\n",
      "{'text': ('Will Donald Trump end up in some conflict of interest problem ?', 'Will Donald Trump end up in some conflict of interest ?'), 'pred': '1', 'conf': 0.9977355}\n",
      "{'text': ('Michael Lee end up in some conflict of interest problem ?', 'Michael Lee end up in some conflict of interest ?'), 'pred': '1', 'conf': 0.996165}\n",
      "{'text': ('Will Donald Trump end up in some conflict of interest problem ?', 'Will Donald Trump end up in some conflict of interest ?'), 'pred': '1', 'conf': 0.9977355, 'tokens': [['Will', 'Donald', 'Trump', 'end', 'up', 'in', 'some', 'conflict', 'of', 'interest', 'problem', '?'], ['Will', 'Donald', 'Trump', 'end', 'up', 'in', 'some', 'conflict', 'of', 'interest', '?']]}\n",
      "{'text': ('Christopher Carter end up in some conflict of interest problem ?', 'Christopher Carter end up in some conflict of interest ?'), 'pred': '1', 'conf': 0.9965598}\n",
      "{'text': ('What can we learn from Lord Krishna ?', \"Where is Lord Krishna 's diamond ?\"), 'pred': '0', 'conf': 0.9999566}\n",
      "{'text': ('What can we learn from Lord Derek ?', \"Where is Lord Derek 's diamond ?\"), 'pred': '0', 'conf': 0.9993035}\n",
      "{'text': ('What can we learn from Lord Krishna ?', \"Where is Lord Krishna 's diamond ?\"), 'pred': '0', 'conf': 0.9999566, 'tokens': [['What', 'can', 'we', 'learn', 'from', 'Lord', 'Krishna', '?'], ['Where', 'is', 'Lord', 'Krishna', \"'s\", 'diamond', '?']]}\n",
      "{'text': ('What can we learn from Lord Aaron ?', \"Where is Lord Aaron 's diamond ?\"), 'pred': '0', 'conf': 0.99993706}\n",
      "{'text': ('What relationship did Socrates , Plato , and Aristotle have ?', 'How can I understand Aristotle and Plato ?'), 'pred': '0', 'conf': 0.9964265}\n",
      "{'text': ('What relationship did Socrates , Plato , and Mason have ?', 'How can I understand Mason and Plato ?'), 'pred': '0', 'conf': 0.9893599}\n",
      "{'text': ('What relationship did Socrates , Plato , and Aristotle have ?', 'How can I understand Aristotle and Plato ?'), 'pred': '0', 'conf': 0.9964265, 'tokens': [['What', 'relationship', 'did', 'Socrates', ',', 'Plato', ',', 'and', 'Aristotle', 'have', '?'], ['How', 'can', 'I', 'understand', 'Aristotle', 'and', 'Plato', '?']]}\n",
      "{'text': ('What relationship did Socrates , Plato , and Jeffrey have ?', 'How can I understand Jeffrey and Plato ?'), 'pred': '0', 'conf': 0.9755745}\n",
      "{'text': ('How did Benjamin Franklin die ?', 'How was Benjamin Franklin so productive ?'), 'pred': '0', 'conf': 0.9994106}\n",
      "{'text': ('How did Michael Nguyen die ?', 'How was Michael Nguyen so productive ?'), 'pred': '0', 'conf': 0.99951035}\n",
      "{'text': ('How did Benjamin Franklin die ?', 'How was Benjamin Franklin so productive ?'), 'pred': '0', 'conf': 0.9994106, 'tokens': [['How', 'did', 'Benjamin', 'Franklin', 'die', '?'], ['How', 'was', 'Benjamin', 'Franklin', 'so', 'productive', '?']]}\n",
      "{'text': ('How did Christopher Brown die ?', 'How was Christopher Brown so productive ?'), 'pred': '0', 'conf': 0.99956685}\n",
      "{'text': ('Why does people hate Taylor Swift ?', 'Why do people hate Taylor Swift ?'), 'pred': '1', 'conf': 0.9935069}\n",
      "{'text': ('Why does people hate Jennifer Butler ?', 'Why do people hate Jennifer Butler ?'), 'pred': '1', 'conf': 0.99547654}\n",
      "{'text': ('Why does people hate Taylor Swift ?', 'Why do people hate Taylor Swift ?'), 'pred': '1', 'conf': 0.9935069, 'tokens': [['Why', 'does', 'people', 'hate', 'Taylor', 'Swift', '?'], ['Why', 'do', 'people', 'hate', 'Taylor', 'Swift', '?']]}\n",
      "{'text': ('Why does people hate Jessica Watson ?', 'Why do people hate Jessica Watson ?'), 'pred': '1', 'conf': 0.9974403}\n",
      "{'text': ('Why is Donald Trump running for president ?', 'Does Donald Trump actually want to be the president ?'), 'pred': '1', 'conf': 0.9877242}\n",
      "{'text': ('Why is Michael Butler running for president ?', 'Does Michael Butler actually want to be the president ?'), 'pred': '1', 'conf': 0.9160387}\n",
      "{'text': ('Why is Donald Trump running for president ?', 'Does Donald Trump actually want to be the president ?'), 'pred': '1', 'conf': 0.9877242, 'tokens': [['Why', 'is', 'Donald', 'Trump', 'running', 'for', 'president', '?'], ['Does', 'Donald', 'Trump', 'actually', 'want', 'to', 'be', 'the', 'president', '?']]}\n",
      "{'text': ('Why is Christopher Watson running for president ?', 'Does Christopher Watson actually want to be the president ?'), 'pred': '1', 'conf': 0.9746617}\n",
      "{'text': (\"Who runs Trump 's Twitter account ? Does Donald Trump write his own tweets ?\", 'Does Donald Trump really write his own tweets ?'), 'pred': '1', 'conf': 0.9812677}\n",
      "{'text': (\"Who runs Trump 's Twitter account ? Does John Lopez write his own tweets ?\", 'Does John Lopez really write his own tweets ?'), 'pred': '0', 'conf': 0.98253894}\n",
      "{'text': (\"Who runs Trump 's Twitter account ? Does Donald Trump write his own tweets ?\", 'Does Donald Trump really write his own tweets ?'), 'pred': '1', 'conf': 0.9812677, 'tokens': [['Who', 'runs', 'Trump', \"'s\", 'Twitter', 'account', '?', 'Does', 'Donald', 'Trump', 'write', 'his', 'own', 'tweets', '?'], ['Does', 'Donald', 'Trump', 'really', 'write', 'his', 'own', 'tweets', '?']]}\n",
      "{'text': (\"Who runs Trump 's Twitter account ? Does Joshua Thompson write his own tweets ?\", 'Does Joshua Thompson really write his own tweets ?'), 'pred': '0', 'conf': 0.95829976}\n",
      "{'text': (\"What is Hillary Clinton 's policy towards India-US relations ?\", \"What are Hillary Clinton 's plans on relations with India ?\"), 'pred': '1', 'conf': 0.99915016}\n",
      "{'text': ('What is Ashley Diaz policy towards India-US relations ?', 'What are Ashley Diaz plans on relations with India ?'), 'pred': '0', 'conf': 0.96939456}\n",
      "{'text': (\"What is Hillary Clinton 's policy towards India-US relations ?\", \"What are Hillary Clinton 's plans on relations with India ?\"), 'pred': '1', 'conf': 0.99915016, 'tokens': [['What', 'is', 'Hillary', 'Clinton', \"'s\", 'policy', 'towards', 'India', '-', 'US', 'relations', '?'], ['What', 'are', 'Hillary', 'Clinton', \"'s\", 'plans', 'on', 'relations', 'with', 'India', '?']]}\n",
      "{'text': ('What is Nicole Long policy towards India-US relations ?', 'What are Nicole Long plans on relations with India ?'), 'pred': '0', 'conf': 0.9644554}\n",
      "{'text': ('Is Hillary Clinton crazy enough to start a nuclear war with Russia ?', 'Is there a high risk that President Hillary Clinton will initiate a war with Russia ?'), 'pred': '1', 'conf': 0.9988915}\n",
      "{'text': ('Is Jennifer Taylor crazy enough to start a nuclear war with Russia ?', 'Is there a high risk that President Jennifer Taylor will initiate a war with Russia ?'), 'pred': '1', 'conf': 0.9976696}\n",
      "{'text': ('Is Hillary Clinton crazy enough to start a nuclear war with Russia ?', 'Is there a high risk that President Hillary Clinton will initiate a war with Russia ?'), 'pred': '1', 'conf': 0.9988915, 'tokens': [['Is', 'Hillary', 'Clinton', 'crazy', 'enough', 'to', 'start', 'a', 'nuclear', 'war', 'with', 'Russia', '?'], ['Is', 'there', 'a', 'high', 'risk', 'that', 'President', 'Hillary', 'Clinton', 'will', 'initiate', 'a', 'war', 'with', 'Russia', '?']]}\n",
      "{'text': ('Is Jessica Perry crazy enough to start a nuclear war with Russia ?', 'Is there a high risk that President Jessica Perry will initiate a war with Russia ?'), 'pred': '1', 'conf': 0.9982903}\n",
      "{'text': ('How did Jimmy Wales start building the wikipedia ?', 'What made Jimmy Wales start Wikipedia ?'), 'pred': '1', 'conf': 0.9931261}\n",
      "{'text': ('How did Michael Roberts start building the wikipedia ?', 'What made Michael Roberts start Wikipedia ?'), 'pred': '1', 'conf': 0.9876879}\n",
      "{'text': ('How did Jimmy Wales start building the wikipedia ?', 'What made Jimmy Wales start Wikipedia ?'), 'pred': '1', 'conf': 0.9931261, 'tokens': [['How', 'did', 'Jimmy', 'Wales', 'start', 'building', 'the', 'wikipedia', '?'], ['What', 'made', 'Jimmy', 'Wales', 'start', 'Wikipedia', '?']]}\n",
      "{'text': ('How did Christopher White start building the wikipedia ?', 'What made Christopher White start Wikipedia ?'), 'pred': '1', 'conf': 0.9869566}\n",
      "{'text': ('Why is Hillary Clinton not considered a criminal ?', 'Is Hillary Clinton a criminal ?'), 'pred': '0', 'conf': 0.99508315}\n",
      "{'text': ('Why is Jennifer Butler not considered a criminal ?', 'Is Jennifer Butler a criminal ?'), 'pred': '0', 'conf': 0.989665}\n",
      "{'text': ('Why is Hillary Clinton not considered a criminal ?', 'Is Hillary Clinton a criminal ?'), 'pred': '0', 'conf': 0.99508315, 'tokens': [['Why', 'is', 'Hillary', 'Clinton', 'not', 'considered', 'a', 'criminal', '?'], ['Is', 'Hillary', 'Clinton', 'a', 'criminal', '?']]}\n",
      "{'text': ('Why is Jessica Watson not considered a criminal ?', 'Is Jessica Watson a criminal ?'), 'pred': '0', 'conf': 0.99403113}\n",
      "{'text': (\"Why did n't Michael Collins land on the moon ?\", \"Why did n't Michael Collins step on the Moon ?\"), 'pred': '1', 'conf': 0.9974201}\n",
      "{'text': (\"Why did n't Michael Butler land on the moon ?\", \"Why did n't Michael Butler step on the Moon ?\"), 'pred': '1', 'conf': 0.9961988}\n",
      "{'text': (\"Why did n't Michael Collins land on the moon ?\", \"Why did n't Michael Collins step on the Moon ?\"), 'pred': '1', 'conf': 0.9974201, 'tokens': [['Why', 'did', \"n't\", 'Michael', 'Collins', 'land', 'on', 'the', 'moon', '?'], ['Why', 'did', \"n't\", 'Michael', 'Collins', 'step', 'on', 'the', 'Moon', '?']]}\n",
      "{'text': (\"Why did n't Christopher Watson land on the moon ?\", \"Why did n't Christopher Watson step on the Moon ?\"), 'pred': '1', 'conf': 0.99653155}\n",
      "{'text': ('How is Donald Trump a better choice than Hillary Clinton ?', 'Who is better Donald Trump or Hillary Clinton ?'), 'pred': '1', 'conf': 0.998201}\n",
      "{'text': ('How is Donald Trump a better choice than Elizabeth Morales ?', 'Who is better Donald Trump or Elizabeth Morales ?'), 'pred': '1', 'conf': 0.99462146}\n",
      "{'text': ('How is Donald Trump a better choice than Hillary Clinton ?', 'Who is better Donald Trump or Hillary Clinton ?'), 'pred': '1', 'conf': 0.998201, 'tokens': [['How', 'is', 'Donald', 'Trump', 'a', 'better', 'choice', 'than', 'Hillary', 'Clinton', '?'], ['Who', 'is', 'better', 'Donald', 'Trump', 'or', 'Hillary', 'Clinton', '?']]}\n",
      "{'text': ('How is Donald Trump a better choice than Jennifer Martin ?', 'Who is better Donald Trump or Jennifer Martin ?'), 'pred': '1', 'conf': 0.9965696}\n",
      "{'text': ('Is Quora supporting Hillary Clinton ?', 'Does Quora support Hillary Clinton ?'), 'pred': '1', 'conf': 0.9860616}\n",
      "{'text': ('Is Quora supporting Jennifer Butler ?', 'Does Quora support Jennifer Butler ?'), 'pred': '1', 'conf': 0.97932035}\n",
      "{'text': ('Is Quora supporting Hillary Clinton ?', 'Does Quora support Hillary Clinton ?'), 'pred': '1', 'conf': 0.9860616, 'tokens': [['Is', 'Quora', 'supporting', 'Hillary', 'Clinton', '?'], ['Does', 'Quora', 'support', 'Hillary', 'Clinton', '?']]}\n",
      "{'text': ('Is Quora supporting Jessica Watson ?', 'Does Quora support Jessica Watson ?'), 'pred': '1', 'conf': 0.9815867}\n",
      "{'text': (\"`` What is the meaning of the poem '' `` Provide , Provide '' '' by Robert Frost ? ''\", \"`` What is a good analysis of the poem '' `` Spring Pools '' '' by Robert Frost ? ''\"), 'pred': '0', 'conf': 0.9997569}\n",
      "{'text': (\"`` What is the meaning of the poem '' `` Provide , Provide '' '' by Michael Butler ? ''\", \"`` What is a good analysis of the poem '' `` Spring Pools '' '' by Michael Butler ? ''\"), 'pred': '0', 'conf': 0.99968964}\n",
      "{'text': (\"`` What is the meaning of the poem '' `` Provide , Provide '' '' by Robert Frost ? ''\", \"`` What is a good analysis of the poem '' `` Spring Pools '' '' by Robert Frost ? ''\"), 'pred': '0', 'conf': 0.9997569, 'tokens': [['`', '`', 'What', 'is', 'the', 'meaning', 'of', 'the', 'poem', \"''\", '`', '`', 'Provide', ',', 'Provide', \"''\", \"''\", 'by', 'Robert', 'Frost', '?', \"''\"], ['`', '`', 'What', 'is', 'a', 'good', 'analysis', 'of', 'the', 'poem', \"''\", '`', '`', 'Spring', 'Pools', \"''\", \"''\", 'by', 'Robert', 'Frost', '?', \"''\"]]}\n",
      "{'text': (\"`` What is the meaning of the poem '' `` Provide , Provide '' '' by Christopher Watson ? ''\", \"`` What is a good analysis of the poem '' `` Spring Pools '' '' by Christopher Watson ? ''\"), 'pred': '0', 'conf': 0.999713}\n",
      "{'text': ('How did Donald Trump become president ?', 'How did Donald Trump win the 2016 Presidential Election ?'), 'pred': '1', 'conf': 0.9994829}\n",
      "{'text': ('How did Michael Butler become president ?', 'How did Michael Butler win the 2016 Presidential Election ?'), 'pred': '1', 'conf': 0.99901366}\n",
      "{'text': ('How did Donald Trump become president ?', 'How did Donald Trump win the 2016 Presidential Election ?'), 'pred': '1', 'conf': 0.9994829, 'tokens': [['How', 'did', 'Donald', 'Trump', 'become', 'president', '?'], ['How', 'did', 'Donald', 'Trump', 'win', 'the', '2016', 'Presidential', 'Election', '?']]}\n",
      "{'text': ('How did Christopher Watson become president ?', 'How did Christopher Watson win the 2016 Presidential Election ?'), 'pred': '1', 'conf': 0.99912465}\n",
      "{'text': ('What will happen if Donald Trump became the president of America ?', 'What will happen if Donald Trump wins the election ?'), 'pred': '1', 'conf': 0.998961}\n",
      "{'text': ('What will happen if Michael Ross became the president of America ?', 'What will happen if Michael Ross wins the election ?'), 'pred': '1', 'conf': 0.99560606}\n",
      "{'text': ('What will happen if Donald Trump became the president of America ?', 'What will happen if Donald Trump wins the election ?'), 'pred': '1', 'conf': 0.998961, 'tokens': [['What', 'will', 'happen', 'if', 'Donald', 'Trump', 'became', 'the', 'president', 'of', 'America', '?'], ['What', 'will', 'happen', 'if', 'Donald', 'Trump', 'wins', 'the', 'election', '?']]}\n",
      "{'text': ('What will happen if Christopher Sanders became the president of America ?', 'What will happen if Christopher Sanders wins the election ?'), 'pred': '1', 'conf': 0.9984729}\n",
      "{'text': ('Does Donald Trump really want tobe President ?', 'Does Donald Trump really want to be president , or is it just an act to stay in the limelight ?'), 'pred': '1', 'conf': 0.98909575}\n",
      "{'text': ('Does Michael Russell really want tobe President ?', 'Does Michael Russell really want to be president , or is it just an act to stay in the limelight ?'), 'pred': '1', 'conf': 0.9886516}\n",
      "{'text': ('Does Donald Trump really want tobe President ?', 'Does Donald Trump really want to be president , or is it just an act to stay in the limelight ?'), 'pred': '1', 'conf': 0.98909575, 'tokens': [['Does', 'Donald', 'Trump', 'really', 'want', 'tobe', 'President', '?'], ['Does', 'Donald', 'Trump', 'really', 'want', 'to', 'be', 'president', ',', 'or', 'is', 'it', 'just', 'an', 'act', 'to', 'stay', 'in', 'the', 'limelight', '?']]}\n",
      "{'text': ('Does Christopher Reyes really want tobe President ?', 'Does Christopher Reyes really want to be president , or is it just an act to stay in the limelight ?'), 'pred': '1', 'conf': 0.9958171}\n",
      "{'text': (\"Why has n't Chris Christie been indicted ?\", 'Is Chris Christie under indictment for anything ?'), 'pred': '1', 'conf': 0.9860611}\n",
      "{'text': (\"Why has n't Michael Ross been indicted ?\", 'Is Michael Ross under indictment for anything ?'), 'pred': '1', 'conf': 0.9814229}\n",
      "{'text': (\"Why has n't Chris Christie been indicted ?\", 'Is Chris Christie under indictment for anything ?'), 'pred': '1', 'conf': 0.9860611, 'tokens': [['Why', 'has', \"n't\", 'Chris', 'Christie', 'been', 'indicted', '?'], ['Is', 'Chris', 'Christie', 'under', 'indictment', 'for', 'anything', '?']]}\n",
      "{'text': (\"Why has n't Christopher Sanders been indicted ?\", 'Is Christopher Sanders under indictment for anything ?'), 'pred': '1', 'conf': 0.9933918}\n",
      "{'text': ('Who really shot John F. Kennedy ?', 'Who actually killed President John F. Kennedy ?'), 'pred': '1', 'conf': 0.9990234}\n",
      "{'text': ('Who really shot Michael Butler ?', 'Who actually killed President Michael Butler ?'), 'pred': '1', 'conf': 0.99900067}\n",
      "{'text': ('Who really shot John F. Kennedy ?', 'Who actually killed President John F. Kennedy ?'), 'pred': '1', 'conf': 0.9990234, 'tokens': [['Who', 'really', 'shot', 'John', 'F.', 'Kennedy', '?'], ['Who', 'actually', 'killed', 'President', 'John', 'F.', 'Kennedy', '?']]}\n",
      "{'text': ('Who really shot Christopher Watson ?', 'Who actually killed President Christopher Watson ?'), 'pred': '1', 'conf': 0.99893415}\n",
      "{'text': ('Can you give me more useful information about Carl Kruse on the web ?', 'Can you give me more useful information about Carl Kruse ?'), 'pred': '0', 'conf': 0.99499905}\n",
      "{'text': ('Can you give me more useful information about William Martinez on the web ?', 'Can you give me more useful information about William Martinez ?'), 'pred': '1', 'conf': 0.94223243}\n",
      "{'text': ('Can you give me more useful information about Carl Kruse on the web ?', 'Can you give me more useful information about Carl Kruse ?'), 'pred': '0', 'conf': 0.99499905, 'tokens': [['Can', 'you', 'give', 'me', 'more', 'useful', 'information', 'about', 'Carl', 'Kruse', 'on', 'the', 'web', '?'], ['Can', 'you', 'give', 'me', 'more', 'useful', 'information', 'about', 'Carl', 'Kruse', '?']]}\n",
      "{'text': ('Can you give me more useful information about Daniel Nelson on the web ?', 'Can you give me more useful information about Daniel Nelson ?'), 'pred': '1', 'conf': 0.90632993}\n",
      "{'text': ('What will happen if Donald trump wins , and its effect on Indian students who are studying in US ?', 'What would be the scenario for Indian students after Donald trump becomes the President of US ?'), 'pred': '1', 'conf': 0.99965227}\n",
      "{'text': ('What will happen if Derek trump wins , and its effect on Indian students who are studying in US ?', 'What would be the scenario for Indian students after Derek trump becomes the President of US ?'), 'pred': '1', 'conf': 0.99961364}\n",
      "{'text': ('What will happen if Donald trump wins , and its effect on Indian students who are studying in US ?', 'What would be the scenario for Indian students after Donald trump becomes the President of US ?'), 'pred': '1', 'conf': 0.99965227, 'tokens': [['What', 'will', 'happen', 'if', 'Donald', 'trump', 'wins', ',', 'and', 'its', 'effect', 'on', 'Indian', 'students', 'who', 'are', 'studying', 'in', 'US', '?'], ['What', 'would', 'be', 'the', 'scenario', 'for', 'Indian', 'students', 'after', 'Donald', 'trump', 'becomes', 'the', 'President', 'of', 'US', '?']]}\n",
      "{'text': ('What will happen if Aaron trump wins , and its effect on Indian students who are studying in US ?', 'What would be the scenario for Indian students after Aaron trump becomes the President of US ?'), 'pred': '1', 'conf': 0.999611}\n",
      "{'text': ('Did Hillary Clinton lie about Benghazi ?', 'Why did Hillary Clinton lie about Benghazi being attacked for a video instead of being honest to America ?'), 'pred': '1', 'conf': 0.8826493}\n",
      "{'text': ('Did Stephanie Ward lie about Benghazi ?', 'Why did Stephanie Ward lie about Benghazi being attacked for a video instead of being honest to America ?'), 'pred': '0', 'conf': 0.97327656}\n",
      "{'text': ('Did Hillary Clinton lie about Benghazi ?', 'Why did Hillary Clinton lie about Benghazi being attacked for a video instead of being honest to America ?'), 'pred': '1', 'conf': 0.8826493, 'tokens': [['Did', 'Hillary', 'Clinton', 'lie', 'about', 'Benghazi', '?'], ['Why', 'did', 'Hillary', 'Clinton', 'lie', 'about', 'Benghazi', 'being', 'attacked', 'for', 'a', 'video', 'instead', 'of', 'being', 'honest', 'to', 'America', '?']]}\n",
      "{'text': ('Did Nicole Martinez lie about Benghazi ?', 'Why did Nicole Martinez lie about Benghazi being attacked for a video instead of being honest to America ?'), 'pred': '0', 'conf': 0.9730579}\n",
      "{'text': (\"What are Mika Singh 's favorite destinations ?\", \"What are Mika Singh 's favourite destinations ?\"), 'pred': '1', 'conf': 0.9972562}\n",
      "{'text': ('What are Jennifer Butler favorite destinations ?', 'What are Jennifer Butler favourite destinations ?'), 'pred': '1', 'conf': 0.9967267}\n",
      "{'text': (\"What are Mika Singh 's favorite destinations ?\", \"What are Mika Singh 's favourite destinations ?\"), 'pred': '1', 'conf': 0.9972562, 'tokens': [['What', 'are', 'Mika', 'Singh', \"'s\", 'favorite', 'destinations', '?'], ['What', 'are', 'Mika', 'Singh', \"'s\", 'favourite', 'destinations', '?']]}\n",
      "{'text': ('What are Jessica Watson favorite destinations ?', 'What are Jessica Watson favourite destinations ?'), 'pred': '1', 'conf': 0.99452466}\n",
      "{'text': ('Am I the only one that thinks Mike Pence is good looking ?', 'Am I the only one impressed by Mike Pence so far ?'), 'pred': '1', 'conf': 0.93355834}\n",
      "{'text': ('Am I the only one that thinks Michael Butler is good looking ?', 'Am I the only one impressed by Michael Butler so far ?'), 'pred': '1', 'conf': 0.97111076}\n",
      "{'text': ('Am I the only one that thinks Mike Pence is good looking ?', 'Am I the only one impressed by Mike Pence so far ?'), 'pred': '1', 'conf': 0.93355834, 'tokens': [['Am', 'I', 'the', 'only', 'one', 'that', 'thinks', 'Mike', 'Pence', 'is', 'good', 'looking', '?'], ['Am', 'I', 'the', 'only', 'one', 'impressed', 'by', 'Mike', 'Pence', 'so', 'far', '?']]}\n",
      "{'text': ('Am I the only one that thinks Christopher Watson is good looking ?', 'Am I the only one impressed by Christopher Watson so far ?'), 'pred': '1', 'conf': 0.96917313}\n",
      "{'text': ('Is Quora biased against Donald Trump ?', 'Why is the Quora forum so overwhelmingly against Donald Trump to the point of slander ?'), 'pred': '1', 'conf': 0.998716}\n",
      "{'text': ('Is Quora biased against Michael Butler ?', 'Why is the Quora forum so overwhelmingly against Michael Butler to the point of slander ?'), 'pred': '1', 'conf': 0.9954513}\n",
      "{'text': ('Is Quora biased against Donald Trump ?', 'Why is the Quora forum so overwhelmingly against Donald Trump to the point of slander ?'), 'pred': '1', 'conf': 0.998716, 'tokens': [['Is', 'Quora', 'biased', 'against', 'Donald', 'Trump', '?'], ['Why', 'is', 'the', 'Quora', 'forum', 'so', 'overwhelmingly', 'against', 'Donald', 'Trump', 'to', 'the', 'point', 'of', 'slander', '?']]}\n",
      "{'text': ('Is Quora biased against Christopher Watson ?', 'Why is the Quora forum so overwhelmingly against Christopher Watson to the point of slander ?'), 'pred': '1', 'conf': 0.9967641}\n",
      "{'text': (\"If Anne Boleyn had n't married Henry the Eight , would England be catholic today ?\", \"If Anne Boleyn had n't married Henry the Eighth , would England be Catholic today ?\"), 'pred': '1', 'conf': 0.9868643}\n",
      "{'text': (\"If Anne Boleyn had n't married Derek the Eight , would England be catholic today ?\", \"If Anne Boleyn had n't married Derek the Eighth , would England be Catholic today ?\"), 'pred': '1', 'conf': 0.9851548}\n",
      "{'text': (\"If Anne Boleyn had n't married Henry the Eight , would England be catholic today ?\", \"If Anne Boleyn had n't married Henry the Eighth , would England be Catholic today ?\"), 'pred': '1', 'conf': 0.9868643, 'tokens': [['If', 'Anne', 'Boleyn', 'had', \"n't\", 'married', 'Henry', 'the', 'Eight', ',', 'would', 'England', 'be', 'catholic', 'today', '?'], ['If', 'Anne', 'Boleyn', 'had', \"n't\", 'married', 'Henry', 'the', 'Eighth', ',', 'would', 'England', 'be', 'Catholic', 'today', '?']]}\n",
      "{'text': (\"If Anne Boleyn had n't married Aaron the Eight , would England be catholic today ?\", \"If Anne Boleyn had n't married Aaron the Eighth , would England be Catholic today ?\"), 'pred': '1', 'conf': 0.986809}\n"
     ]
    },
    {
     "data": {
      "application/vnd.jupyter.widget-view+json": {
       "model_id": "a89ac66e329b44c18e4396608668e370",
       "version_major": 2,
       "version_minor": 0
      },
      "text/plain": [
       "TestSummarizer(stats={'nTested': 27, 'nFailed': 4, 'nFiltered': 0}, summarizer={'name': 'TESTNAME_PLACEHOLDER'…"
      ]
     },
     "metadata": {},
     "output_type": "display_data"
    }
   ],
   "source": [
    "def change_both_wrapper(fn):\n",
    "    def change_both(qs):\n",
    "        q1, q2 = qs\n",
    "        seed = np.random.randint(100)\n",
    "        c1 = fn(q1, seed=seed, meta=True)\n",
    "        c2 = fn(q2, seed=seed, meta=True)\n",
    "        if not c1 or not c2:\n",
    "            return\n",
    "        c1, m1 = c1\n",
    "        c2, m2 = c2\n",
    "        return [(q1, q2) for q1, q2, m1, m2 in zip(c1, c2, m1, m2) if m1 == m2]\n",
    "    return change_both\n",
    "    \n",
    "data = Perturb.perturb(parsed_qs, change_both_wrapper(Perturb.change_names), nsamples=500)\n",
    "test = INV(data)\n",
    "test.run(new_pp)\n",
    "test.summary(3)\n",
    "test.visual_summary()"
   ]
  },
  {
   "cell_type": "code",
   "execution_count": 6,
   "metadata": {
    "scrolled": false
   },
   "outputs": [
    {
     "name": "stdout",
     "output_type": "stream",
     "text": [
      "{'text': ('Will Donald Trump end up in some conflict of interest problem ?', 'Will Donald Trump end up in some conflict of interest ?'), 'pred': '1', 'conf': 0.9977355}\n",
      "{'text': ('Michael Lee end up in some conflict of interest problem ?', 'Michael Lee end up in some conflict of interest ?'), 'pred': '1', 'conf': 0.996165}\n",
      "{'text': ('Will Donald Trump end up in some conflict of interest problem ?', 'Will Donald Trump end up in some conflict of interest ?'), 'pred': '1', 'conf': 0.9977355, 'tokens': [['Will', 'Donald', 'Trump', 'end', 'up', 'in', 'some', 'conflict', 'of', 'interest', 'problem', '?'], ['Will', 'Donald', 'Trump', 'end', 'up', 'in', 'some', 'conflict', 'of', 'interest', '?']]}\n",
      "{'text': ('Christopher Carter end up in some conflict of interest problem ?', 'Christopher Carter end up in some conflict of interest ?'), 'pred': '1', 'conf': 0.9965598}\n",
      "{'text': ('What can we learn from Lord Krishna ?', \"Where is Lord Krishna 's diamond ?\"), 'pred': '0', 'conf': 0.9999566}\n",
      "{'text': ('What can we learn from Lord Derek ?', \"Where is Lord Derek 's diamond ?\"), 'pred': '0', 'conf': 0.9993035}\n",
      "{'text': ('What can we learn from Lord Krishna ?', \"Where is Lord Krishna 's diamond ?\"), 'pred': '0', 'conf': 0.9999566, 'tokens': [['What', 'can', 'we', 'learn', 'from', 'Lord', 'Krishna', '?'], ['Where', 'is', 'Lord', 'Krishna', \"'s\", 'diamond', '?']]}\n",
      "{'text': ('What can we learn from Lord Aaron ?', \"Where is Lord Aaron 's diamond ?\"), 'pred': '0', 'conf': 0.99993706}\n",
      "{'text': ('What relationship did Socrates , Plato , and Aristotle have ?', 'How can I understand Aristotle and Plato ?'), 'pred': '0', 'conf': 0.9964265}\n",
      "{'text': ('What relationship did Socrates , Plato , and Mason have ?', 'How can I understand Mason and Plato ?'), 'pred': '0', 'conf': 0.9893599}\n",
      "{'text': ('What relationship did Socrates , Plato , and Aristotle have ?', 'How can I understand Aristotle and Plato ?'), 'pred': '0', 'conf': 0.9964265, 'tokens': [['What', 'relationship', 'did', 'Socrates', ',', 'Plato', ',', 'and', 'Aristotle', 'have', '?'], ['How', 'can', 'I', 'understand', 'Aristotle', 'and', 'Plato', '?']]}\n",
      "{'text': ('What relationship did Socrates , Plato , and Jeffrey have ?', 'How can I understand Jeffrey and Plato ?'), 'pred': '0', 'conf': 0.9755745}\n",
      "{'text': ('How did Benjamin Franklin die ?', 'How was Benjamin Franklin so productive ?'), 'pred': '0', 'conf': 0.9994106}\n",
      "{'text': ('How did Michael Nguyen die ?', 'How was Michael Nguyen so productive ?'), 'pred': '0', 'conf': 0.99951035}\n",
      "{'text': ('How did Benjamin Franklin die ?', 'How was Benjamin Franklin so productive ?'), 'pred': '0', 'conf': 0.9994106, 'tokens': [['How', 'did', 'Benjamin', 'Franklin', 'die', '?'], ['How', 'was', 'Benjamin', 'Franklin', 'so', 'productive', '?']]}\n",
      "{'text': ('How did Christopher Brown die ?', 'How was Christopher Brown so productive ?'), 'pred': '0', 'conf': 0.99956685}\n",
      "{'text': ('Why does people hate Taylor Swift ?', 'Why do people hate Taylor Swift ?'), 'pred': '1', 'conf': 0.9935069}\n",
      "{'text': ('Why does people hate Jennifer Butler ?', 'Why do people hate Jennifer Butler ?'), 'pred': '1', 'conf': 0.99547654}\n",
      "{'text': ('Why does people hate Taylor Swift ?', 'Why do people hate Taylor Swift ?'), 'pred': '1', 'conf': 0.9935069, 'tokens': [['Why', 'does', 'people', 'hate', 'Taylor', 'Swift', '?'], ['Why', 'do', 'people', 'hate', 'Taylor', 'Swift', '?']]}\n",
      "{'text': ('Why does people hate Jessica Watson ?', 'Why do people hate Jessica Watson ?'), 'pred': '1', 'conf': 0.9974403}\n",
      "{'text': ('Why is Donald Trump running for president ?', 'Does Donald Trump actually want to be the president ?'), 'pred': '1', 'conf': 0.9877242}\n",
      "{'text': ('Why is Michael Butler running for president ?', 'Does Michael Butler actually want to be the president ?'), 'pred': '1', 'conf': 0.9160387}\n",
      "{'text': ('Why is Donald Trump running for president ?', 'Does Donald Trump actually want to be the president ?'), 'pred': '1', 'conf': 0.9877242, 'tokens': [['Why', 'is', 'Donald', 'Trump', 'running', 'for', 'president', '?'], ['Does', 'Donald', 'Trump', 'actually', 'want', 'to', 'be', 'the', 'president', '?']]}\n",
      "{'text': ('Why is Christopher Watson running for president ?', 'Does Christopher Watson actually want to be the president ?'), 'pred': '1', 'conf': 0.9746617}\n",
      "{'text': (\"Who runs Trump 's Twitter account ? Does Donald Trump write his own tweets ?\", 'Does Donald Trump really write his own tweets ?'), 'pred': '1', 'conf': 0.9812677}\n",
      "{'text': (\"Who runs Trump 's Twitter account ? Does John Lopez write his own tweets ?\", 'Does John Lopez really write his own tweets ?'), 'pred': '0', 'conf': 0.98253894}\n",
      "{'text': (\"Who runs Trump 's Twitter account ? Does Donald Trump write his own tweets ?\", 'Does Donald Trump really write his own tweets ?'), 'pred': '1', 'conf': 0.9812677, 'tokens': [['Who', 'runs', 'Trump', \"'s\", 'Twitter', 'account', '?', 'Does', 'Donald', 'Trump', 'write', 'his', 'own', 'tweets', '?'], ['Does', 'Donald', 'Trump', 'really', 'write', 'his', 'own', 'tweets', '?']]}\n",
      "{'text': (\"Who runs Trump 's Twitter account ? Does Joshua Thompson write his own tweets ?\", 'Does Joshua Thompson really write his own tweets ?'), 'pred': '0', 'conf': 0.95829976}\n",
      "{'text': (\"What is Hillary Clinton 's policy towards India-US relations ?\", \"What are Hillary Clinton 's plans on relations with India ?\"), 'pred': '1', 'conf': 0.99915016}\n",
      "{'text': ('What is Ashley Diaz policy towards India-US relations ?', 'What are Ashley Diaz plans on relations with India ?'), 'pred': '0', 'conf': 0.96939456}\n",
      "{'text': (\"What is Hillary Clinton 's policy towards India-US relations ?\", \"What are Hillary Clinton 's plans on relations with India ?\"), 'pred': '1', 'conf': 0.99915016, 'tokens': [['What', 'is', 'Hillary', 'Clinton', \"'s\", 'policy', 'towards', 'India', '-', 'US', 'relations', '?'], ['What', 'are', 'Hillary', 'Clinton', \"'s\", 'plans', 'on', 'relations', 'with', 'India', '?']]}\n",
      "{'text': ('What is Nicole Long policy towards India-US relations ?', 'What are Nicole Long plans on relations with India ?'), 'pred': '0', 'conf': 0.9644554}\n",
      "{'text': ('Is Hillary Clinton crazy enough to start a nuclear war with Russia ?', 'Is there a high risk that President Hillary Clinton will initiate a war with Russia ?'), 'pred': '1', 'conf': 0.9988915}\n",
      "{'text': ('Is Jennifer Taylor crazy enough to start a nuclear war with Russia ?', 'Is there a high risk that President Jennifer Taylor will initiate a war with Russia ?'), 'pred': '1', 'conf': 0.9976696}\n",
      "{'text': ('Is Hillary Clinton crazy enough to start a nuclear war with Russia ?', 'Is there a high risk that President Hillary Clinton will initiate a war with Russia ?'), 'pred': '1', 'conf': 0.9988915, 'tokens': [['Is', 'Hillary', 'Clinton', 'crazy', 'enough', 'to', 'start', 'a', 'nuclear', 'war', 'with', 'Russia', '?'], ['Is', 'there', 'a', 'high', 'risk', 'that', 'President', 'Hillary', 'Clinton', 'will', 'initiate', 'a', 'war', 'with', 'Russia', '?']]}\n",
      "{'text': ('Is Jessica Perry crazy enough to start a nuclear war with Russia ?', 'Is there a high risk that President Jessica Perry will initiate a war with Russia ?'), 'pred': '1', 'conf': 0.9982903}\n",
      "{'text': ('How did Jimmy Wales start building the wikipedia ?', 'What made Jimmy Wales start Wikipedia ?'), 'pred': '1', 'conf': 0.9931261}\n",
      "{'text': ('How did Michael Roberts start building the wikipedia ?', 'What made Michael Roberts start Wikipedia ?'), 'pred': '1', 'conf': 0.9876879}\n",
      "{'text': ('How did Jimmy Wales start building the wikipedia ?', 'What made Jimmy Wales start Wikipedia ?'), 'pred': '1', 'conf': 0.9931261, 'tokens': [['How', 'did', 'Jimmy', 'Wales', 'start', 'building', 'the', 'wikipedia', '?'], ['What', 'made', 'Jimmy', 'Wales', 'start', 'Wikipedia', '?']]}\n",
      "{'text': ('How did Christopher White start building the wikipedia ?', 'What made Christopher White start Wikipedia ?'), 'pred': '1', 'conf': 0.9869566}\n",
      "{'text': ('Why is Hillary Clinton not considered a criminal ?', 'Is Hillary Clinton a criminal ?'), 'pred': '0', 'conf': 0.99508315}\n",
      "{'text': ('Why is Jennifer Butler not considered a criminal ?', 'Is Jennifer Butler a criminal ?'), 'pred': '0', 'conf': 0.989665}\n",
      "{'text': ('Why is Hillary Clinton not considered a criminal ?', 'Is Hillary Clinton a criminal ?'), 'pred': '0', 'conf': 0.99508315, 'tokens': [['Why', 'is', 'Hillary', 'Clinton', 'not', 'considered', 'a', 'criminal', '?'], ['Is', 'Hillary', 'Clinton', 'a', 'criminal', '?']]}\n",
      "{'text': ('Why is Jessica Watson not considered a criminal ?', 'Is Jessica Watson a criminal ?'), 'pred': '0', 'conf': 0.99403113}\n",
      "{'text': (\"Why did n't Michael Collins land on the moon ?\", \"Why did n't Michael Collins step on the Moon ?\"), 'pred': '1', 'conf': 0.9974201}\n",
      "{'text': (\"Why did n't Michael Butler land on the moon ?\", \"Why did n't Michael Butler step on the Moon ?\"), 'pred': '1', 'conf': 0.9961988}\n",
      "{'text': (\"Why did n't Michael Collins land on the moon ?\", \"Why did n't Michael Collins step on the Moon ?\"), 'pred': '1', 'conf': 0.9974201, 'tokens': [['Why', 'did', \"n't\", 'Michael', 'Collins', 'land', 'on', 'the', 'moon', '?'], ['Why', 'did', \"n't\", 'Michael', 'Collins', 'step', 'on', 'the', 'Moon', '?']]}\n",
      "{'text': (\"Why did n't Christopher Watson land on the moon ?\", \"Why did n't Christopher Watson step on the Moon ?\"), 'pred': '1', 'conf': 0.99653155}\n",
      "{'text': ('How is Donald Trump a better choice than Hillary Clinton ?', 'Who is better Donald Trump or Hillary Clinton ?'), 'pred': '1', 'conf': 0.998201}\n",
      "{'text': ('How is Donald Trump a better choice than Elizabeth Morales ?', 'Who is better Donald Trump or Elizabeth Morales ?'), 'pred': '1', 'conf': 0.99462146}\n",
      "{'text': ('How is Donald Trump a better choice than Hillary Clinton ?', 'Who is better Donald Trump or Hillary Clinton ?'), 'pred': '1', 'conf': 0.998201, 'tokens': [['How', 'is', 'Donald', 'Trump', 'a', 'better', 'choice', 'than', 'Hillary', 'Clinton', '?'], ['Who', 'is', 'better', 'Donald', 'Trump', 'or', 'Hillary', 'Clinton', '?']]}\n",
      "{'text': ('How is Donald Trump a better choice than Jennifer Martin ?', 'Who is better Donald Trump or Jennifer Martin ?'), 'pred': '1', 'conf': 0.9965696}\n",
      "{'text': ('Is Quora supporting Hillary Clinton ?', 'Does Quora support Hillary Clinton ?'), 'pred': '1', 'conf': 0.9860616}\n",
      "{'text': ('Is Quora supporting Jennifer Butler ?', 'Does Quora support Jennifer Butler ?'), 'pred': '1', 'conf': 0.97932035}\n",
      "{'text': ('Is Quora supporting Hillary Clinton ?', 'Does Quora support Hillary Clinton ?'), 'pred': '1', 'conf': 0.9860616, 'tokens': [['Is', 'Quora', 'supporting', 'Hillary', 'Clinton', '?'], ['Does', 'Quora', 'support', 'Hillary', 'Clinton', '?']]}\n",
      "{'text': ('Is Quora supporting Jessica Watson ?', 'Does Quora support Jessica Watson ?'), 'pred': '1', 'conf': 0.9815867}\n",
      "{'text': (\"`` What is the meaning of the poem '' `` Provide , Provide '' '' by Robert Frost ? ''\", \"`` What is a good analysis of the poem '' `` Spring Pools '' '' by Robert Frost ? ''\"), 'pred': '0', 'conf': 0.9997569}\n",
      "{'text': (\"`` What is the meaning of the poem '' `` Provide , Provide '' '' by Michael Butler ? ''\", \"`` What is a good analysis of the poem '' `` Spring Pools '' '' by Michael Butler ? ''\"), 'pred': '0', 'conf': 0.99968964}\n",
      "{'text': (\"`` What is the meaning of the poem '' `` Provide , Provide '' '' by Robert Frost ? ''\", \"`` What is a good analysis of the poem '' `` Spring Pools '' '' by Robert Frost ? ''\"), 'pred': '0', 'conf': 0.9997569, 'tokens': [['`', '`', 'What', 'is', 'the', 'meaning', 'of', 'the', 'poem', \"''\", '`', '`', 'Provide', ',', 'Provide', \"''\", \"''\", 'by', 'Robert', 'Frost', '?', \"''\"], ['`', '`', 'What', 'is', 'a', 'good', 'analysis', 'of', 'the', 'poem', \"''\", '`', '`', 'Spring', 'Pools', \"''\", \"''\", 'by', 'Robert', 'Frost', '?', \"''\"]]}\n",
      "{'text': (\"`` What is the meaning of the poem '' `` Provide , Provide '' '' by Christopher Watson ? ''\", \"`` What is a good analysis of the poem '' `` Spring Pools '' '' by Christopher Watson ? ''\"), 'pred': '0', 'conf': 0.999713}\n",
      "{'text': ('How did Donald Trump become president ?', 'How did Donald Trump win the 2016 Presidential Election ?'), 'pred': '1', 'conf': 0.9994829}\n",
      "{'text': ('How did Michael Butler become president ?', 'How did Michael Butler win the 2016 Presidential Election ?'), 'pred': '1', 'conf': 0.99901366}\n",
      "{'text': ('How did Donald Trump become president ?', 'How did Donald Trump win the 2016 Presidential Election ?'), 'pred': '1', 'conf': 0.9994829, 'tokens': [['How', 'did', 'Donald', 'Trump', 'become', 'president', '?'], ['How', 'did', 'Donald', 'Trump', 'win', 'the', '2016', 'Presidential', 'Election', '?']]}\n",
      "{'text': ('How did Christopher Watson become president ?', 'How did Christopher Watson win the 2016 Presidential Election ?'), 'pred': '1', 'conf': 0.99912465}\n",
      "{'text': ('What will happen if Donald Trump became the president of America ?', 'What will happen if Donald Trump wins the election ?'), 'pred': '1', 'conf': 0.998961}\n",
      "{'text': ('What will happen if Michael Ross became the president of America ?', 'What will happen if Michael Ross wins the election ?'), 'pred': '1', 'conf': 0.99560606}\n",
      "{'text': ('What will happen if Donald Trump became the president of America ?', 'What will happen if Donald Trump wins the election ?'), 'pred': '1', 'conf': 0.998961, 'tokens': [['What', 'will', 'happen', 'if', 'Donald', 'Trump', 'became', 'the', 'president', 'of', 'America', '?'], ['What', 'will', 'happen', 'if', 'Donald', 'Trump', 'wins', 'the', 'election', '?']]}\n",
      "{'text': ('What will happen if Christopher Sanders became the president of America ?', 'What will happen if Christopher Sanders wins the election ?'), 'pred': '1', 'conf': 0.9984729}\n",
      "{'text': ('Does Donald Trump really want tobe President ?', 'Does Donald Trump really want to be president , or is it just an act to stay in the limelight ?'), 'pred': '1', 'conf': 0.98909575}\n",
      "{'text': ('Does Michael Russell really want tobe President ?', 'Does Michael Russell really want to be president , or is it just an act to stay in the limelight ?'), 'pred': '1', 'conf': 0.9886516}\n",
      "{'text': ('Does Donald Trump really want tobe President ?', 'Does Donald Trump really want to be president , or is it just an act to stay in the limelight ?'), 'pred': '1', 'conf': 0.98909575, 'tokens': [['Does', 'Donald', 'Trump', 'really', 'want', 'tobe', 'President', '?'], ['Does', 'Donald', 'Trump', 'really', 'want', 'to', 'be', 'president', ',', 'or', 'is', 'it', 'just', 'an', 'act', 'to', 'stay', 'in', 'the', 'limelight', '?']]}\n",
      "{'text': ('Does Christopher Reyes really want tobe President ?', 'Does Christopher Reyes really want to be president , or is it just an act to stay in the limelight ?'), 'pred': '1', 'conf': 0.9958171}\n",
      "{'text': (\"Why has n't Chris Christie been indicted ?\", 'Is Chris Christie under indictment for anything ?'), 'pred': '1', 'conf': 0.9860611}\n",
      "{'text': (\"Why has n't Michael Ross been indicted ?\", 'Is Michael Ross under indictment for anything ?'), 'pred': '1', 'conf': 0.9814229}\n",
      "{'text': (\"Why has n't Chris Christie been indicted ?\", 'Is Chris Christie under indictment for anything ?'), 'pred': '1', 'conf': 0.9860611, 'tokens': [['Why', 'has', \"n't\", 'Chris', 'Christie', 'been', 'indicted', '?'], ['Is', 'Chris', 'Christie', 'under', 'indictment', 'for', 'anything', '?']]}\n",
      "{'text': (\"Why has n't Christopher Sanders been indicted ?\", 'Is Christopher Sanders under indictment for anything ?'), 'pred': '1', 'conf': 0.9933918}\n",
      "{'text': ('Who really shot John F. Kennedy ?', 'Who actually killed President John F. Kennedy ?'), 'pred': '1', 'conf': 0.9990234}\n",
      "{'text': ('Who really shot Michael Butler ?', 'Who actually killed President Michael Butler ?'), 'pred': '1', 'conf': 0.99900067}\n",
      "{'text': ('Who really shot John F. Kennedy ?', 'Who actually killed President John F. Kennedy ?'), 'pred': '1', 'conf': 0.9990234, 'tokens': [['Who', 'really', 'shot', 'John', 'F.', 'Kennedy', '?'], ['Who', 'actually', 'killed', 'President', 'John', 'F.', 'Kennedy', '?']]}\n",
      "{'text': ('Who really shot Christopher Watson ?', 'Who actually killed President Christopher Watson ?'), 'pred': '1', 'conf': 0.99893415}\n",
      "{'text': ('Can you give me more useful information about Carl Kruse on the web ?', 'Can you give me more useful information about Carl Kruse ?'), 'pred': '0', 'conf': 0.99499905}\n",
      "{'text': ('Can you give me more useful information about William Martinez on the web ?', 'Can you give me more useful information about William Martinez ?'), 'pred': '1', 'conf': 0.94223243}\n",
      "{'text': ('Can you give me more useful information about Carl Kruse on the web ?', 'Can you give me more useful information about Carl Kruse ?'), 'pred': '0', 'conf': 0.99499905, 'tokens': [['Can', 'you', 'give', 'me', 'more', 'useful', 'information', 'about', 'Carl', 'Kruse', 'on', 'the', 'web', '?'], ['Can', 'you', 'give', 'me', 'more', 'useful', 'information', 'about', 'Carl', 'Kruse', '?']]}\n",
      "{'text': ('Can you give me more useful information about Daniel Nelson on the web ?', 'Can you give me more useful information about Daniel Nelson ?'), 'pred': '1', 'conf': 0.90632993}\n",
      "{'text': ('What will happen if Donald trump wins , and its effect on Indian students who are studying in US ?', 'What would be the scenario for Indian students after Donald trump becomes the President of US ?'), 'pred': '1', 'conf': 0.99965227}\n",
      "{'text': ('What will happen if Derek trump wins , and its effect on Indian students who are studying in US ?', 'What would be the scenario for Indian students after Derek trump becomes the President of US ?'), 'pred': '1', 'conf': 0.99961364}\n",
      "{'text': ('What will happen if Donald trump wins , and its effect on Indian students who are studying in US ?', 'What would be the scenario for Indian students after Donald trump becomes the President of US ?'), 'pred': '1', 'conf': 0.99965227, 'tokens': [['What', 'will', 'happen', 'if', 'Donald', 'trump', 'wins', ',', 'and', 'its', 'effect', 'on', 'Indian', 'students', 'who', 'are', 'studying', 'in', 'US', '?'], ['What', 'would', 'be', 'the', 'scenario', 'for', 'Indian', 'students', 'after', 'Donald', 'trump', 'becomes', 'the', 'President', 'of', 'US', '?']]}\n",
      "{'text': ('What will happen if Aaron trump wins , and its effect on Indian students who are studying in US ?', 'What would be the scenario for Indian students after Aaron trump becomes the President of US ?'), 'pred': '1', 'conf': 0.999611}\n",
      "{'text': ('Did Hillary Clinton lie about Benghazi ?', 'Why did Hillary Clinton lie about Benghazi being attacked for a video instead of being honest to America ?'), 'pred': '1', 'conf': 0.8826493}\n",
      "{'text': ('Did Stephanie Ward lie about Benghazi ?', 'Why did Stephanie Ward lie about Benghazi being attacked for a video instead of being honest to America ?'), 'pred': '0', 'conf': 0.97327656}\n",
      "{'text': ('Did Hillary Clinton lie about Benghazi ?', 'Why did Hillary Clinton lie about Benghazi being attacked for a video instead of being honest to America ?'), 'pred': '1', 'conf': 0.8826493, 'tokens': [['Did', 'Hillary', 'Clinton', 'lie', 'about', 'Benghazi', '?'], ['Why', 'did', 'Hillary', 'Clinton', 'lie', 'about', 'Benghazi', 'being', 'attacked', 'for', 'a', 'video', 'instead', 'of', 'being', 'honest', 'to', 'America', '?']]}\n",
      "{'text': ('Did Nicole Martinez lie about Benghazi ?', 'Why did Nicole Martinez lie about Benghazi being attacked for a video instead of being honest to America ?'), 'pred': '0', 'conf': 0.9730579}\n",
      "{'text': (\"What are Mika Singh 's favorite destinations ?\", \"What are Mika Singh 's favourite destinations ?\"), 'pred': '1', 'conf': 0.9972562}\n",
      "{'text': ('What are Jennifer Butler favorite destinations ?', 'What are Jennifer Butler favourite destinations ?'), 'pred': '1', 'conf': 0.9967267}\n",
      "{'text': (\"What are Mika Singh 's favorite destinations ?\", \"What are Mika Singh 's favourite destinations ?\"), 'pred': '1', 'conf': 0.9972562, 'tokens': [['What', 'are', 'Mika', 'Singh', \"'s\", 'favorite', 'destinations', '?'], ['What', 'are', 'Mika', 'Singh', \"'s\", 'favourite', 'destinations', '?']]}\n",
      "{'text': ('What are Jessica Watson favorite destinations ?', 'What are Jessica Watson favourite destinations ?'), 'pred': '1', 'conf': 0.99452466}\n",
      "{'text': ('Am I the only one that thinks Mike Pence is good looking ?', 'Am I the only one impressed by Mike Pence so far ?'), 'pred': '1', 'conf': 0.93355834}\n",
      "{'text': ('Am I the only one that thinks Michael Butler is good looking ?', 'Am I the only one impressed by Michael Butler so far ?'), 'pred': '1', 'conf': 0.97111076}\n",
      "{'text': ('Am I the only one that thinks Mike Pence is good looking ?', 'Am I the only one impressed by Mike Pence so far ?'), 'pred': '1', 'conf': 0.93355834, 'tokens': [['Am', 'I', 'the', 'only', 'one', 'that', 'thinks', 'Mike', 'Pence', 'is', 'good', 'looking', '?'], ['Am', 'I', 'the', 'only', 'one', 'impressed', 'by', 'Mike', 'Pence', 'so', 'far', '?']]}\n",
      "{'text': ('Am I the only one that thinks Christopher Watson is good looking ?', 'Am I the only one impressed by Christopher Watson so far ?'), 'pred': '1', 'conf': 0.96917313}\n",
      "{'text': ('Is Quora biased against Donald Trump ?', 'Why is the Quora forum so overwhelmingly against Donald Trump to the point of slander ?'), 'pred': '1', 'conf': 0.998716}\n",
      "{'text': ('Is Quora biased against Michael Butler ?', 'Why is the Quora forum so overwhelmingly against Michael Butler to the point of slander ?'), 'pred': '1', 'conf': 0.9954513}\n",
      "{'text': ('Is Quora biased against Donald Trump ?', 'Why is the Quora forum so overwhelmingly against Donald Trump to the point of slander ?'), 'pred': '1', 'conf': 0.998716, 'tokens': [['Is', 'Quora', 'biased', 'against', 'Donald', 'Trump', '?'], ['Why', 'is', 'the', 'Quora', 'forum', 'so', 'overwhelmingly', 'against', 'Donald', 'Trump', 'to', 'the', 'point', 'of', 'slander', '?']]}\n",
      "{'text': ('Is Quora biased against Christopher Watson ?', 'Why is the Quora forum so overwhelmingly against Christopher Watson to the point of slander ?'), 'pred': '1', 'conf': 0.9967641}\n",
      "{'text': (\"If Anne Boleyn had n't married Henry the Eight , would England be catholic today ?\", \"If Anne Boleyn had n't married Henry the Eighth , would England be Catholic today ?\"), 'pred': '1', 'conf': 0.9868643}\n",
      "{'text': (\"If Anne Boleyn had n't married Derek the Eight , would England be catholic today ?\", \"If Anne Boleyn had n't married Derek the Eighth , would England be Catholic today ?\"), 'pred': '1', 'conf': 0.9851548}\n",
      "{'text': (\"If Anne Boleyn had n't married Henry the Eight , would England be catholic today ?\", \"If Anne Boleyn had n't married Henry the Eighth , would England be Catholic today ?\"), 'pred': '1', 'conf': 0.9868643, 'tokens': [['If', 'Anne', 'Boleyn', 'had', \"n't\", 'married', 'Henry', 'the', 'Eight', ',', 'would', 'England', 'be', 'catholic', 'today', '?'], ['If', 'Anne', 'Boleyn', 'had', \"n't\", 'married', 'Henry', 'the', 'Eighth', ',', 'would', 'England', 'be', 'Catholic', 'today', '?']]}\n",
      "{'text': (\"If Anne Boleyn had n't married Aaron the Eight , would England be catholic today ?\", \"If Anne Boleyn had n't married Aaron the Eighth , would England be Catholic today ?\"), 'pred': '1', 'conf': 0.986809}\n"
     ]
    },
    {
     "data": {
      "application/vnd.jupyter.widget-view+json": {
       "model_id": "ff08a61b6ed246da8954f99746c5b20b",
       "version_major": 2,
       "version_minor": 0
      },
      "text/plain": [
       "TestSummarizer(stats={'nTested': 27, 'nFailed': 4, 'nFiltered': 0}, summarizer={'name': 'TESTNAME_PLACEHOLDER'…"
      ]
     },
     "metadata": {},
     "output_type": "display_data"
    }
   ],
   "source": [
    "test.visual_summary()"
   ]
  },
  {
   "cell_type": "markdown",
   "metadata": {},
   "source": [
    "# Vocabulary"
   ]
  },
  {
   "cell_type": "code",
   "execution_count": 5,
   "metadata": {},
   "outputs": [
    {
     "name": "stdout",
     "output_type": "stream",
     "text": [
      "accountant, engineer, journalist, attorney, editor, artist, architect, actor, interpreter, analyst, intern, assistant, escort, organizer, economist, actress, administrator, investigator, agent, investor, secretary, author, entrepreneur, executive, advisor, auditor, educator, instructor, employee, adviser\n"
     ]
    }
   ],
   "source": [
    "professions = editor.suggest('{first_name} works as {a:bert}.')[:30]\n",
    "print(', '.join(professions))"
   ]
  },
  {
   "cell_type": "code",
   "execution_count": 20,
   "metadata": {},
   "outputs": [],
   "source": [
    "#professions = editor.suggest('{first_name} works as {a:bert}.')[:30]\n",
    "#professions += editor.suggest('{first_name} {last_name} works as {a:bert}.')[:30]\n",
    "#professions = list(set(professions))\n",
    "professions = []\n",
    "# professions\n",
    "other_nouns = ['player', 'person', 'friend', 'kid', 'candidate']\n",
    "nouns = list(set(professions + other_nouns))"
   ]
  },
  {
   "cell_type": "code",
   "execution_count": 22,
   "metadata": {
    "scrolled": false
   },
   "outputs": [],
   "source": [
    "#print(', '.join(editor.suggest('Is {first_name} {last_name} {a:bert} {noun}?', noun=nouns)[:50]))\n",
    "adjs = ['effective', 'actual', 'American', 'active', 'honest', 'excellent', 'elite', 'acomplished', 'official', 'outstanding', 'experienced', 'independent', 'international', 'aspiring', 'average', 'good', 'amazing', 'exceptional', 'successful', 'accredited', 'English', 'real', 'bad', 'terrible', 'fake', 'unusual', 'influential', 'incompetent']\n"
   ]
  },
  {
   "cell_type": "code",
   "execution_count": 23,
   "metadata": {},
   "outputs": [
    {
     "name": "stdout",
     "output_type": "stream",
     "text": [
      "Predicting 999 examples\n"
     ]
    },
    {
     "name": "stderr",
     "output_type": "stream",
     "text": [
      "Evaluating: 100%|██████████| 125/125 [00:13<00:00,  9.33it/s]"
     ]
    },
    {
     "name": "stdout",
     "output_type": "stream",
     "text": [
      "Test cases:      999\n",
      "Fails (rate):    415 (41.5%)\n",
      "\n",
      "Example fails:\n",
      "0.7 ('Is Ryan Long a kid?', 'Is Ryan Long an effective kid?')\n",
      "----\n",
      "1.0 ('Is Danielle Price a friend?', 'Is Danielle Price an average friend?')\n",
      "----\n",
      "1.0 ('Is Amy King a player?', 'Is Amy King an average player?')\n",
      "----\n"
     ]
    },
    {
     "name": "stderr",
     "output_type": "stream",
     "text": [
      "\n"
     ]
    }
   ],
   "source": [
    "data = editor.template(('Is {first_name} {last_name} {a:noun}?', 'Is {first_name} {last_name} {a:adj} {noun}?'),\n",
    "                noun=nouns,\n",
    "                adj=adjs,\n",
    "                remove_duplicates=True, \n",
    "                nsamples=1000)\n",
    "test = MFT(data, labels=0)\n",
    "test.run(new_pp)\n",
    "test.summary(n=3)"
   ]
  },
  {
   "cell_type": "code",
   "execution_count": 24,
   "metadata": {},
   "outputs": [
    {
     "data": {
      "application/vnd.jupyter.widget-view+json": {
       "model_id": "c43e242b10b049beac302af99739ff59",
       "version_major": 2,
       "version_minor": 0
      },
      "text/plain": [
       "TestSummarizer(stats={'nTested': 999, 'nFailed': 415, 'nFiltered': 0}, summarizer={'name': 'TESTNAME_PLACEHOLD…"
      ]
     },
     "metadata": {},
     "output_type": "display_data"
    }
   ],
   "source": [
    "test.visual_summary()"
   ]
  },
  {
   "cell_type": "markdown",
   "metadata": {},
   "source": [
    "# NER\n",
    "\n",
    "## Change same name, number, location in both"
   ]
  },
  {
   "cell_type": "code",
   "execution_count": 7,
   "metadata": {},
   "outputs": [
    {
     "name": "stdout",
     "output_type": "stream",
     "text": [
      "<class 'tuple'> (\"Why did n't Michael Collins land on the moon ?\", \"Why did n't Michael Collins step on the Moon ?\")\n",
      "<class 'tuple'> (\"Why did n't Michael Butler land on the moon ?\", \"Why did n't Michael Butler step on the Moon ?\")\n",
      "<class 'list'> [['Why', 'did', \"n't\", 'Michael', 'Collins', 'land', 'on', 'the', 'moon', '?'], ['Why', 'did', \"n't\", 'Michael', 'Collins', 'step', 'on', 'the', 'Moon', '?']]\n"
     ]
    },
    {
     "ename": "TypeError",
     "evalue": "Argument 'string' has incorrect type (expected str, got list)",
     "output_type": "error",
     "traceback": [
      "\u001b[0;31m---------------------------------------------------------------------------\u001b[0m",
      "\u001b[0;31mTypeError\u001b[0m                                 Traceback (most recent call last)",
      "\u001b[0;32m<ipython-input-7-12c1cfae8ac4>\u001b[0m in \u001b[0;36m<module>\u001b[0;34m\u001b[0m\n\u001b[0;32m----> 1\u001b[0;31m \u001b[0mtest\u001b[0m\u001b[0;34m.\u001b[0m\u001b[0mvisual_summary\u001b[0m\u001b[0;34m(\u001b[0m\u001b[0;34m)\u001b[0m\u001b[0;34m\u001b[0m\u001b[0;34m\u001b[0m\u001b[0m\n\u001b[0m",
      "\u001b[0;32m~/sourcetree/checklist_ui/checklist/abstract_test.py\u001b[0m in \u001b[0;36mvisual_summary\u001b[0;34m(self, n_per_testcase)\u001b[0m\n\u001b[1;32m    357\u001b[0m                     \u001b[0;34m\"tags\"\u001b[0m\u001b[0;34m:\u001b[0m \u001b[0;34m[\u001b[0m\u001b[0;34m]\u001b[0m\u001b[0;34m\u001b[0m\u001b[0;34m\u001b[0m\u001b[0m\n\u001b[1;32m    358\u001b[0m                 })\n\u001b[0;32m--> 359\u001b[0;31m         \u001b[0;32mreturn\u001b[0m \u001b[0mTestSummarizer\u001b[0m\u001b[0;34m(\u001b[0m\u001b[0mtest_info\u001b[0m\u001b[0;34m,\u001b[0m \u001b[0mtestcases\u001b[0m\u001b[0;34m)\u001b[0m\u001b[0;34m\u001b[0m\u001b[0;34m\u001b[0m\u001b[0m\n\u001b[0m",
      "\u001b[0;32m~/sourcetree/checklist_ui/checklist/viewer/test_summarizer.py\u001b[0m in \u001b[0;36m__init__\u001b[0;34m(self, test_summary, testcases, **kwargs)\u001b[0m\n\u001b[1;32m     38\u001b[0m         \u001b[0mself\u001b[0m\u001b[0;34m.\u001b[0m\u001b[0msummarizer\u001b[0m \u001b[0;34m=\u001b[0m \u001b[0mtest_summary\u001b[0m\u001b[0;34m\u001b[0m\u001b[0;34m\u001b[0m\u001b[0m\n\u001b[1;32m     39\u001b[0m         \u001b[0mself\u001b[0m\u001b[0;34m.\u001b[0m\u001b[0mfiltered_testcases\u001b[0m \u001b[0;34m=\u001b[0m \u001b[0mtestcases\u001b[0m\u001b[0;34m\u001b[0m\u001b[0;34m\u001b[0m\u001b[0m\n\u001b[0;32m---> 40\u001b[0;31m         \u001b[0mself\u001b[0m\u001b[0;34m.\u001b[0m\u001b[0mtokenize_testcases\u001b[0m\u001b[0;34m(\u001b[0m\u001b[0;34m)\u001b[0m\u001b[0;34m\u001b[0m\u001b[0;34m\u001b[0m\u001b[0m\n\u001b[0m\u001b[1;32m     41\u001b[0m         \u001b[0mself\u001b[0m\u001b[0;34m.\u001b[0m\u001b[0msearch\u001b[0m\u001b[0;34m(\u001b[0m\u001b[0mfilter_tags\u001b[0m\u001b[0;34m=\u001b[0m\u001b[0;34m[\u001b[0m\u001b[0;34m]\u001b[0m\u001b[0;34m,\u001b[0m \u001b[0mis_fail_case\u001b[0m\u001b[0;34m=\u001b[0m\u001b[0;32mTrue\u001b[0m\u001b[0;34m)\u001b[0m\u001b[0;34m\u001b[0m\u001b[0;34m\u001b[0m\u001b[0m\n\u001b[1;32m     42\u001b[0m         \u001b[0mself\u001b[0m\u001b[0;34m.\u001b[0m\u001b[0mon_msg\u001b[0m\u001b[0;34m(\u001b[0m\u001b[0mself\u001b[0m\u001b[0;34m.\u001b[0m\u001b[0mhandle_events\u001b[0m\u001b[0;34m)\u001b[0m\u001b[0;34m\u001b[0m\u001b[0;34m\u001b[0m\u001b[0m\n",
      "\u001b[0;32m~/sourcetree/checklist_ui/checklist/viewer/test_summarizer.py\u001b[0m in \u001b[0;36mtokenize_testcases\u001b[0;34m(self)\u001b[0m\n\u001b[1;32m     64\u001b[0m                         \u001b[0me\u001b[0m\u001b[0;34m[\u001b[0m\u001b[0mtag\u001b[0m\u001b[0;34m]\u001b[0m\u001b[0;34m[\u001b[0m\u001b[0;34m\"tokens\"\u001b[0m\u001b[0;34m]\u001b[0m \u001b[0;34m=\u001b[0m \u001b[0;34m[\u001b[0m\u001b[0me\u001b[0m\u001b[0;34m[\u001b[0m\u001b[0mtag\u001b[0m\u001b[0;34m]\u001b[0m\u001b[0;34m[\u001b[0m\u001b[0;34m\"tokens\"\u001b[0m\u001b[0;34m]\u001b[0m\u001b[0;34m]\u001b[0m\u001b[0;34m\u001b[0m\u001b[0;34m\u001b[0m\u001b[0m\n\u001b[1;32m     65\u001b[0m                     \u001b[0;32mfor\u001b[0m \u001b[0msentence\u001b[0m \u001b[0;32min\u001b[0m \u001b[0me\u001b[0m\u001b[0;34m[\u001b[0m\u001b[0mtag\u001b[0m\u001b[0;34m]\u001b[0m\u001b[0;34m[\u001b[0m\u001b[0;34m\"tokens\"\u001b[0m\u001b[0;34m]\u001b[0m\u001b[0;34m:\u001b[0m\u001b[0;34m\u001b[0m\u001b[0;34m\u001b[0m\u001b[0m\n\u001b[0;32m---> 66\u001b[0;31m                         \u001b[0mtokens\u001b[0m\u001b[0;34m.\u001b[0m\u001b[0mappend\u001b[0m\u001b[0;34m(\u001b[0m\u001b[0;34m[\u001b[0m\u001b[0mt\u001b[0m\u001b[0;34m.\u001b[0m\u001b[0mtext\u001b[0m \u001b[0;32mfor\u001b[0m \u001b[0mt\u001b[0m \u001b[0;32min\u001b[0m \u001b[0mself\u001b[0m\u001b[0;34m.\u001b[0m\u001b[0mtokenizer\u001b[0m\u001b[0;34m(\u001b[0m\u001b[0msentence\u001b[0m\u001b[0;34m)\u001b[0m\u001b[0;34m]\u001b[0m\u001b[0;34m)\u001b[0m\u001b[0;34m\u001b[0m\u001b[0;34m\u001b[0m\u001b[0m\n\u001b[0m\u001b[1;32m     67\u001b[0m                     \u001b[0me\u001b[0m\u001b[0;34m[\u001b[0m\u001b[0mtag\u001b[0m\u001b[0;34m]\u001b[0m\u001b[0;34m[\u001b[0m\u001b[0;34m\"tokens\"\u001b[0m\u001b[0;34m]\u001b[0m \u001b[0;34m=\u001b[0m \u001b[0mtokens\u001b[0m\u001b[0;34m\u001b[0m\u001b[0;34m\u001b[0m\u001b[0m\n\u001b[1;32m     68\u001b[0m \u001b[0;34m\u001b[0m\u001b[0m\n",
      "\u001b[0;31mTypeError\u001b[0m: Argument 'string' has incorrect type (expected str, got list)"
     ]
    }
   ],
   "source": [
    "test.visual_summary()"
   ]
  },
  {
   "cell_type": "code",
   "execution_count": 32,
   "metadata": {},
   "outputs": [],
   "source": [
    "test.results.expect_results[1]"
   ]
  },
  {
   "cell_type": "markdown",
   "metadata": {},
   "source": [
    "## Change name, loc, number in only one where orig prediction is duplicate"
   ]
  },
  {
   "cell_type": "code",
   "execution_count": 7,
   "metadata": {},
   "outputs": [
    {
     "name": "stdout",
     "output_type": "stream",
     "text": [
      "Predicting 1332 examples\n"
     ]
    },
    {
     "name": "stderr",
     "output_type": "stream",
     "text": [
      "Evaluating: 100%|██████████| 167/167 [00:17<00:00,  9.38it/s]"
     ]
    },
    {
     "name": "stdout",
     "output_type": "stream",
     "text": [
      "Test cases:      82\n",
      "After filtering: 43 (52.4%)\n",
      "Fails (rate):    39 (90.7%)\n",
      "\n",
      "Example fails:\n",
      "1.0 ('What do you think when Donald Trump is the president of the USA ?', 'Donald trump : what could happen if Donald Trump becomes president ?')\n",
      "1.0 ('What do you think when Donald Trump is the president of the USA ?', 'Peter trump : what could happen if Peter Trump becomes president ?')\n",
      "1.0 ('What do you think when Donald Trump is the president of the USA ?', 'Peter trump : what could happen if Peter Trump becomes president ?')\n",
      "\n",
      "----\n",
      "1.0 ('What would be the good things of a Trump presidency ?', 'What are some ways that a Donald Trump presidency may actually be good for America ?')\n",
      "1.0 ('What would be the good things of a Trump presidency ?', 'What are some ways that a Jacob Trump presidency may actually be good for America ?')\n",
      "1.0 ('What would be the good things of a Trump presidency ?', 'What are some ways that a Matthew Trump presidency may actually be good for America ?')\n",
      "\n",
      "----\n",
      "0.9 ('Am I the only one that thinks Mike Pence is good looking ?', 'Am I the only one impressed by Mike Pence so far ?')\n",
      "1.0 ('Am I the only one that thinks Sean Pence is good looking ?', 'Am I the only one impressed by Mike Pence so far ?')\n",
      "0.9 ('Am I the only one that thinks Mike Pence is good looking ?', 'Am I the only one impressed by Isaac Pence so far ?')\n",
      "\n",
      "----\n"
     ]
    },
    {
     "name": "stderr",
     "output_type": "stream",
     "text": [
      "\n"
     ]
    }
   ],
   "source": [
    "def wrap_apply_to_each(fn, both=False, *args, **kwargs):\n",
    "    def new_fn(qs, *args, **kwargs):\n",
    "        q1, q2 = qs\n",
    "        ret = []\n",
    "        fnq1 = fn(q1, *args, **kwargs)\n",
    "        fnq2 = fn(q2, *args, **kwargs)\n",
    "        if type(fnq1) != list:\n",
    "            fnq1 = [fnq1]\n",
    "        if type(fnq2) != list:\n",
    "            fnq2 = [fnq2]\n",
    "        ret.extend([(x, str(q2)) for x in fnq1])\n",
    "        ret.extend([(str(q1), x) for x in fnq2])\n",
    "        if both:\n",
    "            ret.extend([(x, x2) for x, x2 in itertools.product(fnq1, fnq2)])\n",
    "        return [x for x in ret if x[0] and x[1]]\n",
    "    return new_fn\n",
    "data = Perturb.perturb(parsed_qs, wrap_apply_to_each(Perturb.change_names), nsamples=1500, first_only=True)\n",
    "expect_fn = Expect.eq(0)\n",
    "expect_fn = Expect.slice_orig(expect_fn, lambda orig, *args: orig == 1)\n",
    "test = DIR(data, expect_fn)\n",
    "test.run(new_pp)\n",
    "test.summary(3)\n"
   ]
  },
  {
   "cell_type": "code",
   "execution_count": 8,
   "metadata": {
    "scrolled": false
   },
   "outputs": [
    {
     "name": "stdout",
     "output_type": "stream",
     "text": [
      "{'text': ('Is Quora supporting Hillary Clinton ?', 'Does Quora support Hillary Clinton ?'), 'pred': '1', 'conf': 0.9860616}\n",
      "{'text': ('Is Quora supporting Hillary Clinton ?', 'Does Quora support Melissa Clinton ?'), 'pred': '1', 'conf': 0.99678963}\n",
      "{'text': ('Is Quora supporting Hillary Clinton ?', 'Does Quora support Hillary Clinton ?'), 'pred': '1', 'conf': 0.9860616, 'tokens': [['Is', 'Quora', 'supporting', 'Hillary', 'Clinton', '?'], ['Does', 'Quora', 'support', 'Hillary', 'Clinton', '?']]}\n",
      "{'text': ('Is Quora supporting Hillary Clinton ?', 'Does Quora support Samantha Clinton ?'), 'pred': '1', 'conf': 0.99580497}\n",
      "{'text': ('Do I need an anti-virus for my mac ?', 'Does a Mac need anti-virus software ? Why and why not ?'), 'pred': '1', 'conf': 0.98453337}\n",
      "{'text': ('Do I need an anti-virus for my mac ?', 'Does a Alexander need anti-virus software ? Why and why not ?'), 'pred': '0', 'conf': 0.9995154}\n",
      "{'text': ('Do I need an anti-virus for my mac ?', 'Does a Mac need anti-virus software ? Why and why not ?'), 'pred': '1', 'conf': 0.98453337, 'tokens': [['Do', 'I', 'need', 'an', 'anti', '-', 'virus', 'for', 'my', 'mac', '?'], ['Does', 'a', 'Mac', 'need', 'anti', '-', 'virus', 'software', '?', 'Why', 'and', 'why', 'not', '?']]}\n",
      "{'text': ('Do I need an anti-virus for my mac ?', 'Does a Connor need anti-virus software ? Why and why not ?'), 'pred': '0', 'conf': 0.99772286}\n",
      "{'text': (\"What are Mika Singh 's favorite destinations ?\", \"What are Mika Singh 's favourite destinations ?\"), 'pred': '1', 'conf': 0.9972562}\n",
      "{'text': (\"What are Mika Singh 's favorite destinations ?\", \"What are Alicia Singh 's favourite destinations ?\"), 'pred': '0', 'conf': 0.99082434}\n",
      "{'text': (\"What are Mika Singh 's favorite destinations ?\", \"What are Mika Singh 's favourite destinations ?\"), 'pred': '1', 'conf': 0.9972562, 'tokens': [['What', 'are', 'Mika', 'Singh', \"'s\", 'favorite', 'destinations', '?'], ['What', 'are', 'Mika', 'Singh', \"'s\", 'favourite', 'destinations', '?']]}\n",
      "{'text': (\"What are Mika Singh 's favorite destinations ?\", \"What are Kathryn Singh 's favourite destinations ?\"), 'pred': '0', 'conf': 0.9945394}\n",
      "{'text': ('What might happen now that President-elect Donald Trump has won the election ? What will be the impact ?', 'What will happen to America now that Trump is president ?'), 'pred': '1', 'conf': 0.99958223}\n",
      "{'text': ('What might happen now that President-elect Caleb Trump has won the election ? What will be the impact ?', 'What will happen to America now that Trump is president ?'), 'pred': '1', 'conf': 0.99963075}\n",
      "{'text': ('What might happen now that President-elect Donald Trump has won the election ? What will be the impact ?', 'What will happen to America now that Trump is president ?'), 'pred': '1', 'conf': 0.99958223, 'tokens': [['What', 'might', 'happen', 'now', 'that', 'President', '-', 'elect', 'Donald', 'Trump', 'has', 'won', 'the', 'election', '?', 'What', 'will', 'be', 'the', 'impact', '?'], ['What', 'will', 'happen', 'to', 'America', 'now', 'that', 'Trump', 'is', 'president', '?']]}\n",
      "{'text': ('What might happen now that President-elect Dustin Trump has won the election ? What will be the impact ?', 'What will happen to America now that Trump is president ?'), 'pred': '1', 'conf': 0.99960196}\n",
      "{'text': ('Who is going to be a better president - Hillary Clinton or Donald Trump ?', 'Would Mr. Donald Trump be a better president than Hillary Clinton ?'), 'pred': '1', 'conf': 0.9991361}\n",
      "{'text': ('Who is going to be a better president - Hillary Clinton or Donald Trump ?', 'Would Mr. Donald Trump be a better president than Jennifer Clinton ?'), 'pred': '1', 'conf': 0.99846387}\n",
      "{'text': ('Who is going to be a better president - Hillary Clinton or Donald Trump ?', 'Would Mr. Donald Trump be a better president than Hillary Clinton ?'), 'pred': '1', 'conf': 0.9991361, 'tokens': [['Who', 'is', 'going', 'to', 'be', 'a', 'better', 'president', '-', 'Hillary', 'Clinton', 'or', 'Donald', 'Trump', '?'], ['Would', 'Mr.', 'Donald', 'Trump', 'be', 'a', 'better', 'president', 'than', 'Hillary', 'Clinton', '?']]}\n",
      "{'text': ('Who is going to be a better president - Hillary Clinton or John Trump ?', 'Would Mr. Donald Trump be a better president than Hillary Clinton ?'), 'pred': '1', 'conf': 0.99805945}\n",
      "{'text': ('What will happen if Donald Trump became the president of America ?', 'What will happen if Donald Trump wins the election ?'), 'pred': '1', 'conf': 0.998961}\n",
      "{'text': ('What will happen if Donald Trump became the president of America ?', 'What will happen if Donald Trump wins the election ?'), 'pred': '1', 'conf': 0.998961}\n",
      "{'text': ('What will happen if Donald Trump became the president of America ?', 'What will happen if Donald Trump wins the election ?'), 'pred': '1', 'conf': 0.998961, 'tokens': [['What', 'will', 'happen', 'if', 'Donald', 'Trump', 'became', 'the', 'president', 'of', 'America', '?'], ['What', 'will', 'happen', 'if', 'Donald', 'Trump', 'wins', 'the', 'election', '?']]}\n",
      "{'text': ('What will happen if Donald Trump became the president of America ?', 'What will happen if Robert Trump wins the election ?'), 'pred': '1', 'conf': 0.9988698}\n",
      "{'text': (\"Why has n't Chris Christie been indicted ?\", 'Is Chris Christie under indictment for anything ?'), 'pred': '1', 'conf': 0.9860611}\n",
      "{'text': (\"Why has n't Chris Christie been indicted ?\", 'Is Dustin Christie under indictment for anything ?'), 'pred': '1', 'conf': 0.9958706}\n",
      "{'text': (\"Why has n't Chris Christie been indicted ?\", 'Is Chris Christie under indictment for anything ?'), 'pred': '1', 'conf': 0.9860611, 'tokens': [['Why', 'has', \"n't\", 'Chris', 'Christie', 'been', 'indicted', '?'], ['Is', 'Chris', 'Christie', 'under', 'indictment', 'for', 'anything', '?']]}\n",
      "{'text': (\"Why has n't Chris Christie been indicted ?\", 'Is Shawn Christie under indictment for anything ?'), 'pred': '1', 'conf': 0.9958307}\n",
      "{'text': ('What would be the good things of a Trump presidency ?', 'What are some ways that a Donald Trump presidency may actually be good for America ?'), 'pred': '1', 'conf': 0.9996927}\n",
      "{'text': ('What would be the good things of a Trump presidency ?', 'What are some ways that a Jacob Trump presidency may actually be good for America ?'), 'pred': '1', 'conf': 0.9996635}\n",
      "{'text': ('What would be the good things of a Trump presidency ?', 'What are some ways that a Donald Trump presidency may actually be good for America ?'), 'pred': '1', 'conf': 0.9996927, 'tokens': [['What', 'would', 'be', 'the', 'good', 'things', 'of', 'a', 'Trump', 'presidency', '?'], ['What', 'are', 'some', 'ways', 'that', 'a', 'Donald', 'Trump', 'presidency', 'may', 'actually', 'be', 'good', 'for', 'America', '?']]}\n",
      "{'text': ('What would be the good things of a Trump presidency ?', 'What are some ways that a Matthew Trump presidency may actually be good for America ?'), 'pred': '1', 'conf': 0.99953806}\n",
      "{'text': (\"What is Hillary Clinton 's stance on Russia ?\", 'How will Hillary Clinton deal with russia ?'), 'pred': '1', 'conf': 0.9964966}\n",
      "{'text': (\"What is Hillary Clinton 's stance on Russia ?\", 'How will Ava Clinton deal with russia ?'), 'pred': '1', 'conf': 0.9989751}\n",
      "{'text': (\"What is Hillary Clinton 's stance on Russia ?\", 'How will Hillary Clinton deal with russia ?'), 'pred': '1', 'conf': 0.9964966, 'tokens': [['What', 'is', 'Hillary', 'Clinton', \"'s\", 'stance', 'on', 'Russia', '?'], ['How', 'will', 'Hillary', 'Clinton', 'deal', 'with', 'russia', '?']]}\n",
      "{'text': (\"What is Hillary Clinton 's stance on Russia ?\", 'How will Melanie Clinton deal with russia ?'), 'pred': '1', 'conf': 0.9980904}\n",
      "{'text': ('How do I stop a German Shepherd/Border Collie mix puppy from chewing my shoes ?', 'What should I do if my Shepherd/Retriever mixed puppy is chewing my shoes ?'), 'pred': '1', 'conf': 0.9993395}\n",
      "{'text': ('How do I stop a German Ethan/Border Collie mix puppy from chewing my shoes ?', 'What should I do if my Shepherd/Retriever mixed puppy is chewing my shoes ?'), 'pred': '1', 'conf': 0.9995795}\n",
      "{'text': ('How do I stop a German Shepherd/Border Collie mix puppy from chewing my shoes ?', 'What should I do if my Shepherd/Retriever mixed puppy is chewing my shoes ?'), 'pred': '1', 'conf': 0.9993395, 'tokens': [['How', 'do', 'I', 'stop', 'a', 'German', 'Shepherd', '/', 'Border', 'Collie', 'mix', 'puppy', 'from', 'chewing', 'my', 'shoes', '?'], ['What', 'should', 'I', 'do', 'if', 'my', 'Shepherd', '/', 'Retriever', 'mixed', 'puppy', 'is', 'chewing', 'my', 'shoes', '?']]}\n",
      "{'text': ('How do I stop a German Caleb/Border Collie mix puppy from chewing my shoes ?', 'What should I do if my Shepherd/Retriever mixed puppy is chewing my shoes ?'), 'pred': '1', 'conf': 0.99957764}\n",
      "{'text': ('Will Donald Trump end up in some conflict of interest problem ?', 'Will Donald Trump end up in some conflict of interest ?'), 'pred': '1', 'conf': 0.9977355}\n",
      "{'text': ('Will Donald Trump end up in some conflict of interest problem ?', 'Edward Donald Trump end up in some conflict of interest ?'), 'pred': '1', 'conf': 0.99869555}\n",
      "{'text': ('Will Donald Trump end up in some conflict of interest problem ?', 'Will Donald Trump end up in some conflict of interest ?'), 'pred': '1', 'conf': 0.9977355, 'tokens': [['Will', 'Donald', 'Trump', 'end', 'up', 'in', 'some', 'conflict', 'of', 'interest', 'problem', '?'], ['Will', 'Donald', 'Trump', 'end', 'up', 'in', 'some', 'conflict', 'of', 'interest', '?']]}\n",
      "{'text': ('Will Donald Trump end up in some conflict of interest problem ?', 'Shawn Donald Trump end up in some conflict of interest ?'), 'pred': '1', 'conf': 0.9975813}\n",
      "{'text': ('Why should I not vote for Donald Trump ?', \"Why should I not vote for Trump ? ( Someone asked me this today and I did n't know how to respond )\"), 'pred': '1', 'conf': 0.9993777}\n",
      "{'text': ('Why should I not vote for John Trump ?', \"Why should I not vote for Trump ? ( Someone asked me this today and I did n't know how to respond )\"), 'pred': '1', 'conf': 0.9966161}\n",
      "{'text': ('Why should I not vote for Donald Trump ?', \"Why should I not vote for Trump ? ( Someone asked me this today and I did n't know how to respond )\"), 'pred': '1', 'conf': 0.9993777, 'tokens': [['Why', 'should', 'I', 'not', 'vote', 'for', 'Donald', 'Trump', '?'], ['Why', 'should', 'I', 'not', 'vote', 'for', 'Trump', '?', '(', 'Someone', 'asked', 'me', 'this', 'today', 'and', 'I', 'did', \"n't\", 'know', 'how', 'to', 'respond', ')']]}\n",
      "{'text': ('Why should I not vote for Brian Trump ?', \"Why should I not vote for Trump ? ( Someone asked me this today and I did n't know how to respond )\"), 'pred': '1', 'conf': 0.99153775}\n",
      "{'text': ('How is Donald Trump a better choice than Hillary Clinton ?', 'Who is better Donald Trump or Hillary Clinton ?'), 'pred': '1', 'conf': 0.998201}\n",
      "{'text': ('How is Donald Trump a better choice than Hillary Clinton ?', 'Who is better Jackson Trump or Hillary Clinton ?'), 'pred': '1', 'conf': 0.9984734}\n",
      "{'text': ('How is Donald Trump a better choice than Hillary Clinton ?', 'Who is better Donald Trump or Hillary Clinton ?'), 'pred': '1', 'conf': 0.998201, 'tokens': [['How', 'is', 'Donald', 'Trump', 'a', 'better', 'choice', 'than', 'Hillary', 'Clinton', '?'], ['Who', 'is', 'better', 'Donald', 'Trump', 'or', 'Hillary', 'Clinton', '?']]}\n",
      "{'text': ('How is Donald Trump a better choice than Hillary Clinton ?', 'Who is better Donald Trump or Chelsea Clinton ?'), 'pred': '1', 'conf': 0.9982654}\n",
      "{'text': (\"Who runs Trump 's Twitter account ? Does Donald Trump write his own tweets ?\", 'Does Donald Trump really write his own tweets ?'), 'pred': '1', 'conf': 0.9812677}\n",
      "{'text': (\"Who runs Trump 's Twitter account ? Does Donald Trump write his own tweets ?\", 'Does Bradley Trump really write his own tweets ?'), 'pred': '1', 'conf': 0.9916945}\n",
      "{'text': (\"Who runs Trump 's Twitter account ? Does Donald Trump write his own tweets ?\", 'Does Donald Trump really write his own tweets ?'), 'pred': '1', 'conf': 0.9812677, 'tokens': [['Who', 'runs', 'Trump', \"'s\", 'Twitter', 'account', '?', 'Does', 'Donald', 'Trump', 'write', 'his', 'own', 'tweets', '?'], ['Does', 'Donald', 'Trump', 'really', 'write', 'his', 'own', 'tweets', '?']]}\n",
      "{'text': (\"Who runs Trump 's Twitter account ? Does Austin Trump write his own tweets ?\", 'Does Donald Trump really write his own tweets ?'), 'pred': '1', 'conf': 0.99129134}\n",
      "{'text': ('Did Hillary Clinton lie about Benghazi ?', 'Why did Hillary Clinton lie about Benghazi being attacked for a video instead of being honest to America ?'), 'pred': '1', 'conf': 0.8826493}\n",
      "{'text': ('Did Evelyn Clinton lie about Benghazi ?', 'Why did Hillary Clinton lie about Benghazi being attacked for a video instead of being honest to America ?'), 'pred': '1', 'conf': 0.9870088}\n",
      "{'text': ('Did Hillary Clinton lie about Benghazi ?', 'Why did Hillary Clinton lie about Benghazi being attacked for a video instead of being honest to America ?'), 'pred': '1', 'conf': 0.8826493, 'tokens': [['Did', 'Hillary', 'Clinton', 'lie', 'about', 'Benghazi', '?'], ['Why', 'did', 'Hillary', 'Clinton', 'lie', 'about', 'Benghazi', 'being', 'attacked', 'for', 'a', 'video', 'instead', 'of', 'being', 'honest', 'to', 'America', '?']]}\n",
      "{'text': ('Did Holly Clinton lie about Benghazi ?', 'Why did Hillary Clinton lie about Benghazi being attacked for a video instead of being honest to America ?'), 'pred': '1', 'conf': 0.9869516}\n",
      "{'text': ('Why does people hate Taylor Swift ?', 'Why do people hate Taylor Swift ?'), 'pred': '1', 'conf': 0.9935069}\n",
      "{'text': ('Why does people hate Taylor Swift ?', 'Why do people hate Taylor Swift ?'), 'pred': '1', 'conf': 0.9935069}\n",
      "{'text': ('Why does people hate Taylor Swift ?', 'Why do people hate Taylor Swift ?'), 'pred': '1', 'conf': 0.9935069, 'tokens': [['Why', 'does', 'people', 'hate', 'Taylor', 'Swift', '?'], ['Why', 'do', 'people', 'hate', 'Taylor', 'Swift', '?']]}\n",
      "{'text': ('Why does people hate Taylor Swift ?', 'Why do people hate Isabella Swift ?'), 'pred': '1', 'conf': 0.9908547}\n",
      "{'text': ('How did Jimmy Wales start building the wikipedia ?', 'What made Jimmy Wales start Wikipedia ?'), 'pred': '1', 'conf': 0.9931261}\n",
      "{'text': ('How did Jesus Wales start building the wikipedia ?', 'What made Jimmy Wales start Wikipedia ?'), 'pred': '1', 'conf': 0.9994947}\n",
      "{'text': ('How did Jimmy Wales start building the wikipedia ?', 'What made Jimmy Wales start Wikipedia ?'), 'pred': '1', 'conf': 0.9931261, 'tokens': [['How', 'did', 'Jimmy', 'Wales', 'start', 'building', 'the', 'wikipedia', '?'], ['What', 'made', 'Jimmy', 'Wales', 'start', 'Wikipedia', '?']]}\n",
      "{'text': ('How did Cameron Wales start building the wikipedia ?', 'What made Jimmy Wales start Wikipedia ?'), 'pred': '1', 'conf': 0.99932647}\n",
      "{'text': ('How did Donald Trump become president ?', 'How did Donald Trump win the 2016 Presidential Election ?'), 'pred': '1', 'conf': 0.9994829}\n",
      "{'text': ('How did Donald Trump become president ?', 'How did Caleb Trump win the 2016 Presidential Election ?'), 'pred': '1', 'conf': 0.9994525}\n",
      "{'text': ('How did Donald Trump become president ?', 'How did Donald Trump win the 2016 Presidential Election ?'), 'pred': '1', 'conf': 0.9994829, 'tokens': [['How', 'did', 'Donald', 'Trump', 'become', 'president', '?'], ['How', 'did', 'Donald', 'Trump', 'win', 'the', '2016', 'Presidential', 'Election', '?']]}\n",
      "{'text': ('How did Donald Trump become president ?', 'How did Eric Trump win the 2016 Presidential Election ?'), 'pred': '1', 'conf': 0.99941206}\n",
      "{'text': ('Why is Donald Trump running for president ?', 'Does Donald Trump actually want to be the president ?'), 'pred': '1', 'conf': 0.9877242}\n",
      "{'text': ('Why is Donald Trump running for president ?', 'Does Daniel Trump actually want to be the president ?'), 'pred': '1', 'conf': 0.9882254}\n",
      "{'text': ('Why is Donald Trump running for president ?', 'Does Donald Trump actually want to be the president ?'), 'pred': '1', 'conf': 0.9877242, 'tokens': [['Why', 'is', 'Donald', 'Trump', 'running', 'for', 'president', '?'], ['Does', 'Donald', 'Trump', 'actually', 'want', 'to', 'be', 'the', 'president', '?']]}\n",
      "{'text': ('Why is Donald Trump running for president ?', 'Does Eric Trump actually want to be the president ?'), 'pred': '1', 'conf': 0.98561364}\n",
      "{'text': ('Is adam and eve real ?', 'What are the evidences that prove that Adam and Eve existed ?'), 'pred': '1', 'conf': 0.99667317}\n",
      "{'text': ('Is adam and eve real ?', 'What are the evidences that prove that Adam and Chloe existed ?'), 'pred': '0', 'conf': 0.995598}\n",
      "{'text': ('Is adam and eve real ?', 'What are the evidences that prove that Adam and Eve existed ?'), 'pred': '1', 'conf': 0.99667317, 'tokens': [['Is', 'adam', 'and', 'eve', 'real', '?'], ['What', 'are', 'the', 'evidences', 'that', 'prove', 'that', 'Adam', 'and', 'Eve', 'existed', '?']]}\n",
      "{'text': ('Is adam and eve real ?', 'What are the evidences that prove that Thomas and Eve existed ?'), 'pred': '0', 'conf': 0.974571}\n",
      "{'text': ('Is Hillary Clinton crazy enough to start a nuclear war with Russia ?', 'Is there a high risk that President Hillary Clinton will initiate a war with Russia ?'), 'pred': '1', 'conf': 0.9988915}\n",
      "{'text': ('Is Hillary Clinton crazy enough to start a nuclear war with Russia ?', 'Is there a high risk that President Erin Clinton will initiate a war with Russia ?'), 'pred': '1', 'conf': 0.9995657}\n",
      "{'text': ('Is Hillary Clinton crazy enough to start a nuclear war with Russia ?', 'Is there a high risk that President Hillary Clinton will initiate a war with Russia ?'), 'pred': '1', 'conf': 0.9988915, 'tokens': [['Is', 'Hillary', 'Clinton', 'crazy', 'enough', 'to', 'start', 'a', 'nuclear', 'war', 'with', 'Russia', '?'], ['Is', 'there', 'a', 'high', 'risk', 'that', 'President', 'Hillary', 'Clinton', 'will', 'initiate', 'a', 'war', 'with', 'Russia', '?']]}\n",
      "{'text': ('Is Hillary Clinton crazy enough to start a nuclear war with Russia ?', 'Is there a high risk that President Danielle Clinton will initiate a war with Russia ?'), 'pred': '1', 'conf': 0.9995223}\n",
      "{'text': ('What will happen if Donald trump wins , and its effect on Indian students who are studying in US ?', 'What would be the scenario for Indian students after Donald trump becomes the President of US ?'), 'pred': '1', 'conf': 0.99965227}\n",
      "{'text': ('What will happen if Donald trump wins , and its effect on Indian students who are studying in US ?', 'What would be the scenario for Indian students after Dustin trump becomes the President of US ?'), 'pred': '1', 'conf': 0.99973536}\n",
      "{'text': ('What will happen if Donald trump wins , and its effect on Indian students who are studying in US ?', 'What would be the scenario for Indian students after Donald trump becomes the President of US ?'), 'pred': '1', 'conf': 0.99965227, 'tokens': [['What', 'will', 'happen', 'if', 'Donald', 'trump', 'wins', ',', 'and', 'its', 'effect', 'on', 'Indian', 'students', 'who', 'are', 'studying', 'in', 'US', '?'], ['What', 'would', 'be', 'the', 'scenario', 'for', 'Indian', 'students', 'after', 'Donald', 'trump', 'becomes', 'the', 'President', 'of', 'US', '?']]}\n",
      "{'text': ('What will happen if Joshua trump wins , and its effect on Indian students who are studying in US ?', 'What would be the scenario for Indian students after Donald trump becomes the President of US ?'), 'pred': '1', 'conf': 0.99970514}\n",
      "{'text': ('Who won the debate Hillary or Trump ?', 'Who won the first debate in your opinion Hillary Clinton or Donald Trump ?'), 'pred': '1', 'conf': 0.9993066}\n",
      "{'text': ('Who won the debate Hillary or Trump ?', 'Who won the first debate in your opinion Allison Clinton or Donald Trump ?'), 'pred': '1', 'conf': 0.9992523}\n",
      "{'text': ('Who won the debate Hillary or Trump ?', 'Who won the first debate in your opinion Hillary Clinton or Donald Trump ?'), 'pred': '1', 'conf': 0.9993066, 'tokens': [['Who', 'won', 'the', 'debate', 'Hillary', 'or', 'Trump', '?'], ['Who', 'won', 'the', 'first', 'debate', 'in', 'your', 'opinion', 'Hillary', 'Clinton', 'or', 'Donald', 'Trump', '?']]}\n",
      "{'text': ('Who won the debate Hillary or Trump ?', 'Who won the first debate in your opinion Holly Clinton or Donald Trump ?'), 'pred': '1', 'conf': 0.9992462}\n",
      "{'text': ('What are the good , bad and ugly points of Hillary and Trump ?', 'What are the pros and cons of Hillary Clinton and Donald Trump ?'), 'pred': '1', 'conf': 0.991557}\n",
      "{'text': ('What are the good , bad and ugly points of Hillary and Trump ?', 'What are the pros and cons of Avery Clinton and Donald Trump ?'), 'pred': '1', 'conf': 0.99573237}\n",
      "{'text': ('What are the good , bad and ugly points of Hillary and Trump ?', 'What are the pros and cons of Hillary Clinton and Donald Trump ?'), 'pred': '1', 'conf': 0.991557, 'tokens': [['What', 'are', 'the', 'good', ',', 'bad', 'and', 'ugly', 'points', 'of', 'Hillary', 'and', 'Trump', '?'], ['What', 'are', 'the', 'pros', 'and', 'cons', 'of', 'Hillary', 'Clinton', 'and', 'Donald', 'Trump', '?']]}\n",
      "{'text': ('What are the good , bad and ugly points of Hillary and Trump ?', 'What are the pros and cons of Hillary Clinton and Angel Trump ?'), 'pred': '1', 'conf': 0.99506783}\n",
      "{'text': (\"Really , how big are Donald Trump 's hands ?\", 'Does Donald Trump have small hands ? How big are his hands ?'), 'pred': '1', 'conf': 0.9755612}\n",
      "{'text': (\"Really , how big are Donald Trump 's hands ?\", 'Does Alexander Trump have small hands ? How big are his hands ?'), 'pred': '1', 'conf': 0.9675341}\n",
      "{'text': (\"Really , how big are Donald Trump 's hands ?\", 'Does Donald Trump have small hands ? How big are his hands ?'), 'pred': '1', 'conf': 0.9755612, 'tokens': [['Really', ',', 'how', 'big', 'are', 'Donald', 'Trump', \"'s\", 'hands', '?'], ['Does', 'Donald', 'Trump', 'have', 'small', 'hands', '?', 'How', 'big', 'are', 'his', 'hands', '?']]}\n",
      "{'text': (\"Really , how big are Donald Trump 's hands ?\", 'Does Sean Trump have small hands ? How big are his hands ?'), 'pred': '1', 'conf': 0.9082817}\n",
      "{'text': ('According to the Bible , is the second coming of Jesus in the near future ?', 'Is the second coming near ?'), 'pred': '1', 'conf': 0.9964843}\n",
      "{'text': ('According to the Bible , is the second coming of Isaiah in the near future ?', 'Is the second coming near ?'), 'pred': '1', 'conf': 0.9937542}\n",
      "{'text': ('According to the Bible , is the second coming of Jesus in the near future ?', 'Is the second coming near ?'), 'pred': '1', 'conf': 0.9964843, 'tokens': [['According', 'to', 'the', 'Bible', ',', 'is', 'the', 'second', 'coming', 'of', 'Jesus', 'in', 'the', 'near', 'future', '?'], ['Is', 'the', 'second', 'coming', 'near', '?']]}\n",
      "{'text': ('According to the Bible , is the second coming of Jonathan in the near future ?', 'Is the second coming near ?'), 'pred': '1', 'conf': 0.93100035}\n",
      "{'text': ('Can you convince me to vote for Donald Trump ?', 'Why do you vote for Trump ?'), 'pred': '1', 'conf': 0.9512662}\n",
      "{'text': ('Can you convince me to vote for Donald Trump ?', 'Why do you vote for Trump ?'), 'pred': '1', 'conf': 0.9512662}\n",
      "{'text': ('Can you convince me to vote for Donald Trump ?', 'Why do you vote for Trump ?'), 'pred': '1', 'conf': 0.9512662, 'tokens': [['Can', 'you', 'convince', 'me', 'to', 'vote', 'for', 'Donald', 'Trump', '?'], ['Why', 'do', 'you', 'vote', 'for', 'Trump', '?']]}\n",
      "{'text': ('Can you convince me to vote for Nicholas Trump ?', 'Why do you vote for Trump ?'), 'pred': '0', 'conf': 0.99898726}\n",
      "{'text': ('Who won the second presidential debate : Trump or Clinton ?', 'In your opinion who won ( or performed better ) in the Second Presidential Debates ( held at University of Washington ) ?'), 'pred': '1', 'conf': 0.99952495}\n",
      "{'text': ('Who won the second presidential debate : Trump or Cameron ?', 'In your opinion who won ( or performed better ) in the Second Presidential Debates ( held at University of Washington ) ?'), 'pred': '1', 'conf': 0.999513}\n",
      "{'text': ('Who won the second presidential debate : Trump or Clinton ?', 'In your opinion who won ( or performed better ) in the Second Presidential Debates ( held at University of Washington ) ?'), 'pred': '1', 'conf': 0.99952495, 'tokens': [['Who', 'won', 'the', 'second', 'presidential', 'debate', ':', 'Trump', 'or', 'Clinton', '?'], ['In', 'your', 'opinion', 'who', 'won', '(', 'or', 'performed', 'better', ')', 'in', 'the', 'Second', 'Presidential', 'Debates', '(', 'held', 'at', 'University', 'of', 'Washington', ')', '?']]}\n",
      "{'text': ('Who won the second presidential debate : Trump or Jack ?', 'In your opinion who won ( or performed better ) in the Second Presidential Debates ( held at University of Washington ) ?'), 'pred': '1', 'conf': 0.9994589}\n",
      "{'text': ('Was Newton more intelligent or Einstein ?', 'Who is more intelligent between Einstein and Newton ?'), 'pred': '1', 'conf': 0.9961921}\n",
      "{'text': ('Was Newton more intelligent or Einstein ?', 'Who is more intelligent between Einstein and Kenneth ?'), 'pred': '1', 'conf': 0.9794222}\n",
      "{'text': ('Was Newton more intelligent or Einstein ?', 'Who is more intelligent between Einstein and Newton ?'), 'pred': '1', 'conf': 0.9961921, 'tokens': [['Was', 'Newton', 'more', 'intelligent', 'or', 'Einstein', '?'], ['Who', 'is', 'more', 'intelligent', 'between', 'Einstein', 'and', 'Newton', '?']]}\n",
      "{'text': ('Was Newton more intelligent or Einstein ?', 'Who is more intelligent between Einstein and James ?'), 'pred': '1', 'conf': 0.7320723}\n",
      "{'text': (\"Why did n't Michael Collins land on the moon ?\", \"Why did n't Michael Collins step on the Moon ?\"), 'pred': '1', 'conf': 0.9974201}\n",
      "{'text': (\"Why did n't Marcus Collins land on the moon ?\", \"Why did n't Michael Collins step on the Moon ?\"), 'pred': '1', 'conf': 0.999098}\n",
      "{'text': (\"Why did n't Michael Collins land on the moon ?\", \"Why did n't Michael Collins step on the Moon ?\"), 'pred': '1', 'conf': 0.9974201, 'tokens': [['Why', 'did', \"n't\", 'Michael', 'Collins', 'land', 'on', 'the', 'moon', '?'], ['Why', 'did', \"n't\", 'Michael', 'Collins', 'step', 'on', 'the', 'Moon', '?']]}\n",
      "{'text': (\"Why did n't Jeremiah Collins land on the moon ?\", \"Why did n't Michael Collins step on the Moon ?\"), 'pred': '1', 'conf': 0.9989853}\n",
      "{'text': ('Am I the only one that thinks Mike Pence is good looking ?', 'Am I the only one impressed by Mike Pence so far ?'), 'pred': '1', 'conf': 0.93355834}\n",
      "{'text': ('Am I the only one that thinks Sean Pence is good looking ?', 'Am I the only one impressed by Mike Pence so far ?'), 'pred': '1', 'conf': 0.9679079}\n",
      "{'text': ('Am I the only one that thinks Mike Pence is good looking ?', 'Am I the only one impressed by Mike Pence so far ?'), 'pred': '1', 'conf': 0.93355834, 'tokens': [['Am', 'I', 'the', 'only', 'one', 'that', 'thinks', 'Mike', 'Pence', 'is', 'good', 'looking', '?'], ['Am', 'I', 'the', 'only', 'one', 'impressed', 'by', 'Mike', 'Pence', 'so', 'far', '?']]}\n",
      "{'text': ('Am I the only one that thinks Mike Pence is good looking ?', 'Am I the only one impressed by Isaac Pence so far ?'), 'pred': '1', 'conf': 0.92707604}\n",
      "{'text': ('Does Donald Trump really want tobe President ?', 'Does Donald Trump really want to be president , or is it just an act to stay in the limelight ?'), 'pred': '1', 'conf': 0.98909575}\n",
      "{'text': ('Does Donald Trump really want tobe President ?', 'Does Henry Trump really want to be president , or is it just an act to stay in the limelight ?'), 'pred': '1', 'conf': 0.9960437}\n",
      "{'text': ('Does Donald Trump really want tobe President ?', 'Does Donald Trump really want to be president , or is it just an act to stay in the limelight ?'), 'pred': '1', 'conf': 0.98909575, 'tokens': [['Does', 'Donald', 'Trump', 'really', 'want', 'tobe', 'President', '?'], ['Does', 'Donald', 'Trump', 'really', 'want', 'to', 'be', 'president', ',', 'or', 'is', 'it', 'just', 'an', 'act', 'to', 'stay', 'in', 'the', 'limelight', '?']]}\n",
      "{'text': ('Does Donald Trump really want tobe President ?', 'Does Jesus Trump really want to be president , or is it just an act to stay in the limelight ?'), 'pred': '1', 'conf': 0.9932205}\n",
      "{'text': (\"If Anne Boleyn had n't married Henry the Eight , would England be catholic today ?\", \"If Anne Boleyn had n't married Henry the Eighth , would England be Catholic today ?\"), 'pred': '1', 'conf': 0.9868643}\n",
      "{'text': (\"If Anne Boleyn had n't married Henry the Eight , would England be catholic today ?\", \"If Anne Boleyn had n't married Henry the Eighth , would England be Catholic today ?\"), 'pred': '1', 'conf': 0.9868643}\n",
      "{'text': (\"If Anne Boleyn had n't married Henry the Eight , would England be catholic today ?\", \"If Anne Boleyn had n't married Henry the Eighth , would England be Catholic today ?\"), 'pred': '1', 'conf': 0.9868643, 'tokens': [['If', 'Anne', 'Boleyn', 'had', \"n't\", 'married', 'Henry', 'the', 'Eight', ',', 'would', 'England', 'be', 'catholic', 'today', '?'], ['If', 'Anne', 'Boleyn', 'had', \"n't\", 'married', 'Henry', 'the', 'Eighth', ',', 'would', 'England', 'be', 'Catholic', 'today', '?']]}\n",
      "{'text': (\"If Anne Boleyn had n't married Henry the Eight , would England be catholic today ?\", \"If Anne Boleyn had n't married Charles the Eighth , would England be Catholic today ?\"), 'pred': '1', 'conf': 0.9821642}\n",
      "{'text': ('Which other directors are there like Bella Tarr and Andrei Tarkovsky ?', 'Are there any movie directors like Andrei Tarkovsky ?'), 'pred': '1', 'conf': 0.98025966}\n",
      "{'text': ('Which other directors are there like Chloe Tarr and Andrei Tarkovsky ?', 'Are there any movie directors like Andrei Tarkovsky ?'), 'pred': '1', 'conf': 0.9859238}\n",
      "{'text': ('Which other directors are there like Bella Tarr and Andrei Tarkovsky ?', 'Are there any movie directors like Andrei Tarkovsky ?'), 'pred': '1', 'conf': 0.98025966, 'tokens': [['Which', 'other', 'directors', 'are', 'there', 'like', 'Bella', 'Tarr', 'and', 'Andrei', 'Tarkovsky', '?'], ['Are', 'there', 'any', 'movie', 'directors', 'like', 'Andrei', 'Tarkovsky', '?']]}\n",
      "{'text': ('Which other directors are there like Grace Tarr and Andrei Tarkovsky ?', 'Are there any movie directors like Andrei Tarkovsky ?'), 'pred': '1', 'conf': 0.98544234}\n",
      "{'text': ('Who really shot John F. Kennedy ?', 'Who actually killed President John F. Kennedy ?'), 'pred': '1', 'conf': 0.9990234}\n",
      "{'text': ('Who really shot Michael F. Kennedy ?', 'Who actually killed President John F. Kennedy ?'), 'pred': '1', 'conf': 0.99820226}\n",
      "{'text': ('Who really shot John F. Kennedy ?', 'Who actually killed President John F. Kennedy ?'), 'pred': '1', 'conf': 0.9990234, 'tokens': [['Who', 'really', 'shot', 'John', 'F.', 'Kennedy', '?'], ['Who', 'actually', 'killed', 'President', 'John', 'F.', 'Kennedy', '?']]}\n",
      "{'text': ('Who really shot John F. Kennedy ?', 'Who actually killed President Marcus F. Kennedy ?'), 'pred': '1', 'conf': 0.9981654}\n",
      "{'text': ('Daniel Ek : When will Spotify be available for Indian customers ?', 'Is Spotify available in India ?'), 'pred': '1', 'conf': 0.99976444}\n",
      "{'text': ('Juan Ek : When will Spotify be available for Indian customers ?', 'Is Spotify available in India ?'), 'pred': '1', 'conf': 0.9997535}\n",
      "{'text': ('Daniel Ek : When will Spotify be available for Indian customers ?', 'Is Spotify available in India ?'), 'pred': '1', 'conf': 0.99976444, 'tokens': [['Daniel', 'Ek', ':', 'When', 'will', 'Spotify', 'be', 'available', 'for', 'Indian', 'customers', '?'], ['Is', 'Spotify', 'available', 'in', 'India', '?']]}\n",
      "{'text': ('Jacob Ek : When will Spotify be available for Indian customers ?', 'Is Spotify available in India ?'), 'pred': '1', 'conf': 0.99974304}\n",
      "{'text': ('Has Jimmy Wales asked or answered a question anonymously ?', 'Has Jimmy Wales answered questions as an anonymous ?'), 'pred': '1', 'conf': 0.9892483}\n",
      "{'text': ('Has Jimmy Wales asked or answered a question anonymously ?', 'Has Jared Wales answered questions as an anonymous ?'), 'pred': '1', 'conf': 0.99183124}\n",
      "{'text': ('Has Jimmy Wales asked or answered a question anonymously ?', 'Has Jimmy Wales answered questions as an anonymous ?'), 'pred': '1', 'conf': 0.9892483, 'tokens': [['Has', 'Jimmy', 'Wales', 'asked', 'or', 'answered', 'a', 'question', 'anonymously', '?'], ['Has', 'Jimmy', 'Wales', 'answered', 'questions', 'as', 'an', 'anonymous', '?']]}\n",
      "{'text': ('Has Jimmy Wales asked or answered a question anonymously ?', 'Has Donald Wales answered questions as an anonymous ?'), 'pred': '1', 'conf': 0.9908987}\n",
      "{'text': ('What is the whole story about Adam and Eve ?', 'How can the story of Adam and Eve be summarized ?'), 'pred': '1', 'conf': 0.95442414}\n",
      "{'text': ('What is the whole story about Adam and Eve ?', 'How can the story of Adam and Savannah be summarized ?'), 'pred': '0', 'conf': 0.9975028}\n",
      "{'text': ('What is the whole story about Adam and Eve ?', 'How can the story of Adam and Eve be summarized ?'), 'pred': '1', 'conf': 0.95442414, 'tokens': [['What', 'is', 'the', 'whole', 'story', 'about', 'Adam', 'and', 'Eve', '?'], ['How', 'can', 'the', 'story', 'of', 'Adam', 'and', 'Eve', 'be', 'summarized', '?']]}\n",
      "{'text': ('What is the whole story about Adam and Eve ?', 'How can the story of Adam and Jasmine be summarized ?'), 'pred': '0', 'conf': 0.99726224}\n",
      "{'text': (\"What is Hillary Clinton 's policy towards India-US relations ?\", \"What are Hillary Clinton 's plans on relations with India ?\"), 'pred': '1', 'conf': 0.99915016}\n",
      "{'text': (\"What is Hillary Clinton 's policy towards India-US relations ?\", \"What are Mia Clinton 's plans on relations with India ?\"), 'pred': '1', 'conf': 0.9988153}\n",
      "{'text': (\"What is Hillary Clinton 's policy towards India-US relations ?\", \"What are Hillary Clinton 's plans on relations with India ?\"), 'pred': '1', 'conf': 0.99915016, 'tokens': [['What', 'is', 'Hillary', 'Clinton', \"'s\", 'policy', 'towards', 'India', '-', 'US', 'relations', '?'], ['What', 'are', 'Hillary', 'Clinton', \"'s\", 'plans', 'on', 'relations', 'with', 'India', '?']]}\n",
      "{'text': (\"What is Hillary Clinton 's policy towards India-US relations ?\", \"What are Andrea Clinton 's plans on relations with India ?\"), 'pred': '1', 'conf': 0.9984763}\n",
      "{'text': ('Who won the 2016 September 26th presidential debate between Trump and Hillary ?', 'Who do you think won the first presidential debate between Hillary Clinton and Donald Trump and why ?'), 'pred': '1', 'conf': 0.99901986}\n",
      "{'text': ('Who won the 2016 September 26th presidential debate between Trump and Hillary ?', 'Who do you think won the first presidential debate between Hillary Clinton and Antonio Trump and why ?'), 'pred': '1', 'conf': 0.9990768}\n",
      "{'text': ('Who won the 2016 September 26th presidential debate between Trump and Hillary ?', 'Who do you think won the first presidential debate between Hillary Clinton and Donald Trump and why ?'), 'pred': '1', 'conf': 0.99901986, 'tokens': [['Who', 'won', 'the', '2016', 'September', '26th', 'presidential', 'debate', 'between', 'Trump', 'and', 'Hillary', '?'], ['Who', 'do', 'you', 'think', 'won', 'the', 'first', 'presidential', 'debate', 'between', 'Hillary', 'Clinton', 'and', 'Donald', 'Trump', 'and', 'why', '?']]}\n",
      "{'text': ('Who won the 2016 September 26th presidential debate between Trump and Hillary ?', 'Who do you think won the first presidential debate between Sydney Clinton and Donald Trump and why ?'), 'pred': '1', 'conf': 0.9990463}\n",
      "{'text': ('What do you think when Donald Trump is the president of the USA ?', 'Donald trump : what could happen if Donald Trump becomes president ?'), 'pred': '1', 'conf': 0.9978211}\n",
      "{'text': ('What do you think when Donald Trump is the president of the USA ?', 'Peter trump : what could happen if Peter Trump becomes president ?'), 'pred': '1', 'conf': 0.9959028}\n",
      "{'text': ('What do you think when Donald Trump is the president of the USA ?', 'Donald trump : what could happen if Donald Trump becomes president ?'), 'pred': '1', 'conf': 0.9978211, 'tokens': [['What', 'do', 'you', 'think', 'when', 'Donald', 'Trump', 'is', 'the', 'president', 'of', 'the', 'USA', '?'], ['Donald', 'trump', ':', 'what', 'could', 'happen', 'if', 'Donald', 'Trump', 'becomes', 'president', '?']]}\n",
      "{'text': ('What do you think when Donald Trump is the president of the USA ?', 'Peter trump : what could happen if Peter Trump becomes president ?'), 'pred': '1', 'conf': 0.9959028}\n",
      "{'text': ('How much time will spotify take to land in India ?', 'Daniel Ek : When is Spotify coming to India ?'), 'pred': '1', 'conf': 0.99978644}\n",
      "{'text': ('How much time will spotify take to land in India ?', 'Juan Ek : When is Spotify coming to India ?'), 'pred': '1', 'conf': 0.9997792}\n",
      "{'text': ('How much time will spotify take to land in India ?', 'Daniel Ek : When is Spotify coming to India ?'), 'pred': '1', 'conf': 0.99978644, 'tokens': [['How', 'much', 'time', 'will', 'spotify', 'take', 'to', 'land', 'in', 'India', '?'], ['Daniel', 'Ek', ':', 'When', 'is', 'Spotify', 'coming', 'to', 'India', '?']]}\n",
      "{'text': ('How much time will spotify take to land in India ?', 'Alexander Ek : When is Spotify coming to India ?'), 'pred': '1', 'conf': 0.9997626}\n",
      "{'text': ('Is Quora biased against Donald Trump ?', 'Why is the Quora forum so overwhelmingly against Donald Trump to the point of slander ?'), 'pred': '1', 'conf': 0.998716}\n",
      "{'text': ('Is Quora biased against Donald Trump ?', 'Why is the Quora forum so overwhelmingly against Donald Trump to the point of slander ?'), 'pred': '1', 'conf': 0.998716}\n",
      "{'text': ('Is Quora biased against Donald Trump ?', 'Why is the Quora forum so overwhelmingly against Donald Trump to the point of slander ?'), 'pred': '1', 'conf': 0.998716, 'tokens': [['Is', 'Quora', 'biased', 'against', 'Donald', 'Trump', '?'], ['Why', 'is', 'the', 'Quora', 'forum', 'so', 'overwhelmingly', 'against', 'Donald', 'Trump', 'to', 'the', 'point', 'of', 'slander', '?']]}\n",
      "{'text': ('Is Quora biased against Donald Trump ?', 'Why is the Quora forum so overwhelmingly against Liam Trump to the point of slander ?'), 'pred': '1', 'conf': 0.99830014}\n"
     ]
    },
    {
     "data": {
      "application/vnd.jupyter.widget-view+json": {
       "model_id": "89ac6a3da79a4b6895062b333a1fdfa6",
       "version_major": 2,
       "version_minor": 0
      },
      "text/plain": [
       "TestSummarizer(stats={'nTested': 43, 'nFailed': 39, 'nFiltered': 0}, summarizer={'name': 'TESTNAME_PLACEHOLDER…"
      ]
     },
     "metadata": {},
     "output_type": "display_data"
    }
   ],
   "source": [
    "test.visual_summary()"
   ]
  },
  {
   "cell_type": "code",
   "execution_count": 35,
   "metadata": {},
   "outputs": [
    {
     "data": {
      "text/plain": [
       "array([1, 0, 1, 1, 0, 0, 1, 0, 0, 1, 0])"
      ]
     },
     "execution_count": 35,
     "metadata": {},
     "output_type": "execute_result"
    }
   ],
   "source": [
    "test.results.preds[0]"
   ]
  },
  {
   "cell_type": "code",
   "execution_count": 36,
   "metadata": {},
   "outputs": [
    {
     "data": {
      "text/plain": [
       "array([[6.2218524e-04, 9.9937773e-01],\n",
       "       [9.8766202e-01, 1.2337957e-02],\n",
       "       [1.5122294e-03, 9.9848771e-01],\n",
       "       [1.8361963e-01, 8.1638026e-01],\n",
       "       [9.8463297e-01, 1.5366935e-02],\n",
       "       [8.3487844e-01, 1.6512157e-01],\n",
       "       [2.0652901e-02, 9.7934705e-01],\n",
       "       [9.7099119e-01, 2.9008875e-02],\n",
       "       [9.4187868e-01, 5.8121365e-02],\n",
       "       [3.8398802e-03, 9.9616027e-01],\n",
       "       [9.9241483e-01, 7.5850831e-03]], dtype=float32)"
      ]
     },
     "execution_count": 36,
     "metadata": {},
     "output_type": "execute_result"
    }
   ],
   "source": [
    "test.results.confs[0]"
   ]
  },
  {
   "cell_type": "code",
   "execution_count": 34,
   "metadata": {},
   "outputs": [
    {
     "data": {
      "text/plain": [
       "array([-0.99937781,  1.        , -0.99848777, -0.81638037,  1.        ,\n",
       "        1.        , -0.9793471 ,  1.        ,  1.        , -0.99616012,\n",
       "        1.        ])"
      ]
     },
     "execution_count": 34,
     "metadata": {},
     "output_type": "execute_result"
    }
   ],
   "source": [
    "test.results.expect_results[0]"
   ]
  },
  {
   "cell_type": "code",
   "execution_count": 2,
   "metadata": {},
   "outputs": [],
   "source": [
    "\n",
    "import checklist.viewer"
   ]
  },
  {
   "cell_type": "code",
   "execution_count": 3,
   "metadata": {},
   "outputs": [
    {
     "name": "stdout",
     "output_type": "stream",
     "text": [
      "<module 'checklist.viewer' from '/home/wtshuang/sourcetree/checklist_ui/checklist/viewer/__init__.py'>\n"
     ]
    }
   ],
   "source": [
    "print(checklist.viewer)"
   ]
  },
  {
   "cell_type": "code",
   "execution_count": 5,
   "metadata": {},
   "outputs": [],
   "source": [
    "from checklist.viewer.viewer import TestSummarizer"
   ]
  },
  {
   "cell_type": "code",
   "execution_count": 7,
   "metadata": {},
   "outputs": [
    {
     "data": {
      "application/vnd.jupyter.widget-view+json": {
       "model_id": "9633b0caad2f423a8f2412723ec781c3",
       "version_major": 2,
       "version_minor": 0
      },
      "text/plain": [
       "TestSummarizer(stats={'nTested': 0, 'nFailed': 0}, summarizer={'tags': [], 'name': 'self.name', 'result': {'nT…"
      ]
     },
     "metadata": {},
     "output_type": "display_data"
    }
   ],
   "source": [
    "summarize = {\n",
    "            \"tags\": [],\n",
    "            \"name\": \"self.name\",\n",
    "            \"result\": {\n",
    "                \"nTested\": 0,\n",
    "                \"nFailed\": 0\n",
    "            },\n",
    "            \"category\": \"Test\"\n",
    "        }\n",
    "\n",
    "TestSummarizer(summarize, [])"
   ]
  },
  {
   "cell_type": "code",
   "execution_count": 8,
   "metadata": {},
   "outputs": [],
   "source": [
    "import spacy\n",
    "\n",
    "nlp = spacy.load(\"en_core_web_sm\")"
   ]
  },
  {
   "cell_type": "code",
   "execution_count": 9,
   "metadata": {},
   "outputs": [
    {
     "ename": "ModuleNotFoundError",
     "evalue": "No module named 'viewer'",
     "output_type": "error",
     "traceback": [
      "\u001b[0;31m---------------------------------------------------------------------------\u001b[0m",
      "\u001b[0;31mModuleNotFoundError\u001b[0m                       Traceback (most recent call last)",
      "\u001b[0;32m<ipython-input-9-1029f1af2700>\u001b[0m in \u001b[0;36m<module>\u001b[0;34m\u001b[0m\n\u001b[0;32m----> 1\u001b[0;31m \u001b[0;32mfrom\u001b[0m \u001b[0mviewer\u001b[0m\u001b[0;34m.\u001b[0m\u001b[0mviewer\u001b[0m \u001b[0;32mimport\u001b[0m \u001b[0mTemplateEditor\u001b[0m\u001b[0;34m\u001b[0m\u001b[0;34m\u001b[0m\u001b[0m\n\u001b[0m\u001b[1;32m      2\u001b[0m \u001b[0;34m\u001b[0m\u001b[0m\n\u001b[1;32m      3\u001b[0m TemplateEditor(\n\u001b[1;32m      4\u001b[0m     \u001b[0msentences\u001b[0m\u001b[0;34m=\u001b[0m \u001b[0;34m{\u001b[0m\u001b[0;34m\"Q1\"\u001b[0m\u001b[0;34m:\u001b[0m \u001b[0;34m\"sentence1\"\u001b[0m\u001b[0;34m,\u001b[0m \u001b[0;34m\"Q2\"\u001b[0m\u001b[0;34m:\u001b[0m \u001b[0;34m\"sentence2\"\u001b[0m\u001b[0;34m}\u001b[0m\u001b[0;34m,\u001b[0m\u001b[0;34m\u001b[0m\u001b[0;34m\u001b[0m\u001b[0m\n\u001b[1;32m      5\u001b[0m     \u001b[0msuggest_fn\u001b[0m\u001b[0;34m=\u001b[0m\u001b[0;32mNone\u001b[0m\u001b[0;34m,\u001b[0m\u001b[0;34m\u001b[0m\u001b[0;34m\u001b[0m\u001b[0m\n",
      "\u001b[0;31mModuleNotFoundError\u001b[0m: No module named 'viewer'"
     ]
    }
   ],
   "source": [
    "from viewer.viewer import TemplateEditor\n",
    "\n",
    "TemplateEditor(\n",
    "    sentences= {\"Q1\": \"sentence1\", \"Q2\": \"sentence2\"},\n",
    "    suggest_fn=None,\n",
    "    sources=[],\n",
    "    allowed_sources=[],\n",
    "    add_word_list_fn=None,\n",
    "    get_testcase_fn=None,\n",
    "    processor=nlp)"
   ]
  },
  {
   "cell_type": "code",
   "execution_count": 2,
   "metadata": {},
   "outputs": [],
   "source": [
    "def test():\n",
    "    a=1\n",
    "    b=2\n",
    "    print(locals())"
   ]
  },
  {
   "cell_type": "code",
   "execution_count": 3,
   "metadata": {},
   "outputs": [
    {
     "name": "stdout",
     "output_type": "stream",
     "text": [
      "{'a': 1, 'b': 2}\n"
     ]
    }
   ],
   "source": [
    "test()"
   ]
  },
  {
   "cell_type": "code",
   "execution_count": 8,
   "metadata": {},
   "outputs": [],
   "source": [
    "pos = ['good', 'bad', 'great']\n",
    "def expect(x):\n",
    "    return x in pos, locals()"
   ]
  },
  {
   "cell_type": "code",
   "execution_count": 9,
   "metadata": {},
   "outputs": [
    {
     "data": {
      "text/plain": [
       "(True, {'x': 'good'})"
      ]
     },
     "execution_count": 9,
     "metadata": {},
     "output_type": "execute_result"
    }
   ],
   "source": [
    "expect(\"good\")"
   ]
  },
  {
   "cell_type": "code",
   "execution_count": 10,
   "metadata": {},
   "outputs": [
    {
     "data": {
      "text/plain": [
       "{'__name__': '__main__',\n",
       " '__doc__': 'Automatically created module for IPython interactive environment',\n",
       " '__package__': None,\n",
       " '__loader__': None,\n",
       " '__spec__': None,\n",
       " '__builtin__': <module 'builtins' (built-in)>,\n",
       " '__builtins__': <module 'builtins' (built-in)>,\n",
       " '_ih': ['',\n",
       "  'def test():\\n    a=1\\n    b=2\\n    print(locals()',\n",
       "  'def test():\\n    a=1\\n    b=2\\n    print(locals())',\n",
       "  'test()',\n",
       "  \"pos = ['good', 'bad', 'great']\\ndef expect(x):\\n    return x in pos, locals()\",\n",
       "  'expect(\"good\")',\n",
       "  \"pos = ['good', 'bad', 'great']\\ndef expect(x):\\n    return x in pos, globals()\",\n",
       "  'expect(\"good\")',\n",
       "  \"pos = ['good', 'bad', 'great']\\ndef expect(x):\\n    return x in pos, locals()\",\n",
       "  'expect(\"good\")',\n",
       "  'locals()'],\n",
       " '_oh': {5: (True, {'x': 'good'}), 7: (True, {...}), 9: (True, {'x': 'good'})},\n",
       " '_dh': ['/home/wtshuang/sourcetree/checklist_ui/notebooks'],\n",
       " 'In': ['',\n",
       "  'def test():\\n    a=1\\n    b=2\\n    print(locals()',\n",
       "  'def test():\\n    a=1\\n    b=2\\n    print(locals())',\n",
       "  'test()',\n",
       "  \"pos = ['good', 'bad', 'great']\\ndef expect(x):\\n    return x in pos, locals()\",\n",
       "  'expect(\"good\")',\n",
       "  \"pos = ['good', 'bad', 'great']\\ndef expect(x):\\n    return x in pos, globals()\",\n",
       "  'expect(\"good\")',\n",
       "  \"pos = ['good', 'bad', 'great']\\ndef expect(x):\\n    return x in pos, locals()\",\n",
       "  'expect(\"good\")',\n",
       "  'locals()'],\n",
       " 'Out': {5: (True, {'x': 'good'}), 7: (True, {...}), 9: (True, {'x': 'good'})},\n",
       " 'get_ipython': <bound method InteractiveShell.get_ipython of <ipykernel.zmqshell.ZMQInteractiveShell object at 0x7f387d324690>>,\n",
       " 'exit': <IPython.core.autocall.ZMQExitAutocall at 0x7f387b864cd0>,\n",
       " 'quit': <IPython.core.autocall.ZMQExitAutocall at 0x7f387b864cd0>,\n",
       " '_': (True, {'x': 'good'}),\n",
       " '__': (True, {...}),\n",
       " '___': (True, {'x': 'good'}),\n",
       " '_i': 'expect(\"good\")',\n",
       " '_ii': \"pos = ['good', 'bad', 'great']\\ndef expect(x):\\n    return x in pos, locals()\",\n",
       " '_iii': 'expect(\"good\")',\n",
       " '_i1': 'def test():\\n    a=1\\n    b=2\\n    print(locals()',\n",
       " '_i2': 'def test():\\n    a=1\\n    b=2\\n    print(locals())',\n",
       " 'test': <function __main__.test()>,\n",
       " '_i3': 'test()',\n",
       " '_i4': \"pos = ['good', 'bad', 'great']\\ndef expect(x):\\n    return x in pos, locals()\",\n",
       " 'pos': ['good', 'bad', 'great'],\n",
       " 'expect': <function __main__.expect(x)>,\n",
       " '_i5': 'expect(\"good\")',\n",
       " '_5': (True, {'x': 'good'}),\n",
       " '_i6': \"pos = ['good', 'bad', 'great']\\ndef expect(x):\\n    return x in pos, globals()\",\n",
       " '_i7': 'expect(\"good\")',\n",
       " '_7': (True, {...}),\n",
       " '_i8': \"pos = ['good', 'bad', 'great']\\ndef expect(x):\\n    return x in pos, locals()\",\n",
       " '_i9': 'expect(\"good\")',\n",
       " '_9': (True, {'x': 'good'}),\n",
       " '_i10': 'locals()'}"
      ]
     },
     "execution_count": 10,
     "metadata": {},
     "output_type": "execute_result"
    }
   ],
   "source": [
    "locals()"
   ]
  },
  {
   "cell_type": "code",
   "execution_count": 1,
   "metadata": {},
   "outputs": [],
   "source": []
  },
  {
   "cell_type": "code",
   "execution_count": null,
   "metadata": {},
   "outputs": [],
   "source": []
  },
  {
   "cell_type": "code",
   "execution_count": 2,
   "metadata": {},
   "outputs": [],
   "source": [
    "pos = ['good', 'bad', 'great']\n",
    "def expect(x):\n",
    "    return x in pos"
   ]
  },
  {
   "cell_type": "code",
   "execution_count": 4,
   "metadata": {},
   "outputs": [],
   "source": [
    "import dill as pickle\n",
    "pickle.dump(expect, open('./try_pickle.pkl', 'wb'), recurse=True)"
   ]
  },
  {
   "cell_type": "code",
   "execution_count": 3,
   "metadata": {},
   "outputs": [
    {
     "ename": "EOFError",
     "evalue": "Ran out of input",
     "output_type": "error",
     "traceback": [
      "\u001b[0;31m---------------------------------------------------------------------------\u001b[0m",
      "\u001b[0;31mEOFError\u001b[0m                                  Traceback (most recent call last)",
      "\u001b[0;32m<ipython-input-3-c0c1738e08f4>\u001b[0m in \u001b[0;36m<module>\u001b[0;34m\u001b[0m\n\u001b[1;32m      1\u001b[0m \u001b[0;32mimport\u001b[0m \u001b[0mdill\u001b[0m \u001b[0;32mas\u001b[0m \u001b[0mpickle\u001b[0m\u001b[0;34m\u001b[0m\u001b[0;34m\u001b[0m\u001b[0m\n\u001b[0;32m----> 2\u001b[0;31m \u001b[0mexpect\u001b[0m \u001b[0;34m=\u001b[0m \u001b[0mpickle\u001b[0m\u001b[0;34m.\u001b[0m\u001b[0mload\u001b[0m\u001b[0;34m(\u001b[0m\u001b[0mopen\u001b[0m\u001b[0;34m(\u001b[0m\u001b[0;34m'./try_pickle.pkl'\u001b[0m\u001b[0;34m,\u001b[0m \u001b[0;34m'rb'\u001b[0m\u001b[0;34m)\u001b[0m\u001b[0;34m)\u001b[0m\u001b[0;34m\u001b[0m\u001b[0;34m\u001b[0m\u001b[0m\n\u001b[0m",
      "\u001b[0;32m~/anaconda3/lib/python3.7/site-packages/dill/_dill.py\u001b[0m in \u001b[0;36mload\u001b[0;34m(file, ignore, **kwds)\u001b[0m\n\u001b[1;32m    268\u001b[0m \u001b[0;32mdef\u001b[0m \u001b[0mload\u001b[0m\u001b[0;34m(\u001b[0m\u001b[0mfile\u001b[0m\u001b[0;34m,\u001b[0m \u001b[0mignore\u001b[0m\u001b[0;34m=\u001b[0m\u001b[0;32mNone\u001b[0m\u001b[0;34m,\u001b[0m \u001b[0;34m**\u001b[0m\u001b[0mkwds\u001b[0m\u001b[0;34m)\u001b[0m\u001b[0;34m:\u001b[0m\u001b[0;34m\u001b[0m\u001b[0;34m\u001b[0m\u001b[0m\n\u001b[1;32m    269\u001b[0m     \u001b[0;34m\"\"\"unpickle an object from a file\"\"\"\u001b[0m\u001b[0;34m\u001b[0m\u001b[0;34m\u001b[0m\u001b[0m\n\u001b[0;32m--> 270\u001b[0;31m     \u001b[0;32mreturn\u001b[0m \u001b[0mUnpickler\u001b[0m\u001b[0;34m(\u001b[0m\u001b[0mfile\u001b[0m\u001b[0;34m,\u001b[0m \u001b[0mignore\u001b[0m\u001b[0;34m=\u001b[0m\u001b[0mignore\u001b[0m\u001b[0;34m,\u001b[0m \u001b[0;34m**\u001b[0m\u001b[0mkwds\u001b[0m\u001b[0;34m)\u001b[0m\u001b[0;34m.\u001b[0m\u001b[0mload\u001b[0m\u001b[0;34m(\u001b[0m\u001b[0;34m)\u001b[0m\u001b[0;34m\u001b[0m\u001b[0;34m\u001b[0m\u001b[0m\n\u001b[0m\u001b[1;32m    271\u001b[0m \u001b[0;34m\u001b[0m\u001b[0m\n\u001b[1;32m    272\u001b[0m \u001b[0;32mdef\u001b[0m \u001b[0mloads\u001b[0m\u001b[0;34m(\u001b[0m\u001b[0mstr\u001b[0m\u001b[0;34m,\u001b[0m \u001b[0mignore\u001b[0m\u001b[0;34m=\u001b[0m\u001b[0;32mNone\u001b[0m\u001b[0;34m,\u001b[0m \u001b[0;34m**\u001b[0m\u001b[0mkwds\u001b[0m\u001b[0;34m)\u001b[0m\u001b[0;34m:\u001b[0m\u001b[0;34m\u001b[0m\u001b[0;34m\u001b[0m\u001b[0m\n",
      "\u001b[0;32m~/anaconda3/lib/python3.7/site-packages/dill/_dill.py\u001b[0m in \u001b[0;36mload\u001b[0;34m(self)\u001b[0m\n\u001b[1;32m    470\u001b[0m \u001b[0;34m\u001b[0m\u001b[0m\n\u001b[1;32m    471\u001b[0m     \u001b[0;32mdef\u001b[0m \u001b[0mload\u001b[0m\u001b[0;34m(\u001b[0m\u001b[0mself\u001b[0m\u001b[0;34m)\u001b[0m\u001b[0;34m:\u001b[0m \u001b[0;31m#NOTE: if settings change, need to update attributes\u001b[0m\u001b[0;34m\u001b[0m\u001b[0;34m\u001b[0m\u001b[0m\n\u001b[0;32m--> 472\u001b[0;31m         \u001b[0mobj\u001b[0m \u001b[0;34m=\u001b[0m \u001b[0mStockUnpickler\u001b[0m\u001b[0;34m.\u001b[0m\u001b[0mload\u001b[0m\u001b[0;34m(\u001b[0m\u001b[0mself\u001b[0m\u001b[0;34m)\u001b[0m\u001b[0;34m\u001b[0m\u001b[0;34m\u001b[0m\u001b[0m\n\u001b[0m\u001b[1;32m    473\u001b[0m         \u001b[0;32mif\u001b[0m \u001b[0mtype\u001b[0m\u001b[0;34m(\u001b[0m\u001b[0mobj\u001b[0m\u001b[0;34m)\u001b[0m\u001b[0;34m.\u001b[0m\u001b[0m__module__\u001b[0m \u001b[0;34m==\u001b[0m \u001b[0mgetattr\u001b[0m\u001b[0;34m(\u001b[0m\u001b[0m_main_module\u001b[0m\u001b[0;34m,\u001b[0m \u001b[0;34m'__name__'\u001b[0m\u001b[0;34m,\u001b[0m \u001b[0;34m'__main__'\u001b[0m\u001b[0;34m)\u001b[0m\u001b[0;34m:\u001b[0m\u001b[0;34m\u001b[0m\u001b[0;34m\u001b[0m\u001b[0m\n\u001b[1;32m    474\u001b[0m             \u001b[0;32mif\u001b[0m \u001b[0;32mnot\u001b[0m \u001b[0mself\u001b[0m\u001b[0;34m.\u001b[0m\u001b[0m_ignore\u001b[0m\u001b[0;34m:\u001b[0m\u001b[0;34m\u001b[0m\u001b[0;34m\u001b[0m\u001b[0m\n",
      "\u001b[0;31mEOFError\u001b[0m: Ran out of input"
     ]
    }
   ],
   "source": [
    "import dill as pickle\n",
    "expect = pickle.load(open('./try_pickle.pkl', 'rb'))"
   ]
  },
  {
   "cell_type": "code",
   "execution_count": null,
   "metadata": {},
   "outputs": [],
   "source": []
  }
 ],
 "metadata": {
  "kernelspec": {
   "display_name": "Python 3",
   "language": "python",
   "name": "python3"
  },
  "language_info": {
   "codemirror_mode": {
    "name": "ipython",
    "version": 3
   },
   "file_extension": ".py",
   "mimetype": "text/x-python",
   "name": "python",
   "nbconvert_exporter": "python",
   "pygments_lexer": "ipython3",
   "version": "3.6.10"
  }
 },
 "nbformat": 4,
 "nbformat_minor": 4
}
